{
  "nbformat": 4,
  "nbformat_minor": 0,
  "metadata": {
    "colab": {
      "name": "EDA on Liver Patients Data with modelling Assignment-2.ipynb",
      "provenance": [],
      "collapsed_sections": []
    },
    "kernelspec": {
      "name": "python3",
      "display_name": "Python 3"
    },
    "language_info": {
      "name": "python"
    }
  },
  "cells": [
    {
      "cell_type": "code",
      "metadata": {
        "id": "GgRzo8kf9Ah9"
      },
      "source": [
        "#loading important libs\n",
        "import pandas as pd\n",
        "import numpy as np\n",
        "import matplotlib.pyplot as plt\n",
        "import seaborn as sns\n",
        "%matplotlib inline"
      ],
      "execution_count": 1,
      "outputs": []
    },
    {
      "cell_type": "code",
      "metadata": {
        "colab": {
          "base_uri": "https://localhost:8080/",
          "height": 224
        },
        "id": "jwCnDto9BwFM",
        "outputId": "7c69661d-c0db-4577-b4cf-dada92a7f5dc"
      },
      "source": [
        "#reading the csv data\n",
        "df=pd.read_csv('/content/indian_liver_patient.csv')\n",
        "df.head()"
      ],
      "execution_count": 2,
      "outputs": [
        {
          "output_type": "execute_result",
          "data": {
            "text/html": [
              "<div>\n",
              "<style scoped>\n",
              "    .dataframe tbody tr th:only-of-type {\n",
              "        vertical-align: middle;\n",
              "    }\n",
              "\n",
              "    .dataframe tbody tr th {\n",
              "        vertical-align: top;\n",
              "    }\n",
              "\n",
              "    .dataframe thead th {\n",
              "        text-align: right;\n",
              "    }\n",
              "</style>\n",
              "<table border=\"1\" class=\"dataframe\">\n",
              "  <thead>\n",
              "    <tr style=\"text-align: right;\">\n",
              "      <th></th>\n",
              "      <th>Age</th>\n",
              "      <th>Gender</th>\n",
              "      <th>Total_Bilirubin</th>\n",
              "      <th>Direct_Bilirubin</th>\n",
              "      <th>Alkaline_Phosphotase</th>\n",
              "      <th>Alamine_Aminotransferase</th>\n",
              "      <th>Aspartate_Aminotransferase</th>\n",
              "      <th>Total_Protiens</th>\n",
              "      <th>Albumin</th>\n",
              "      <th>Albumin_and_Globulin_Ratio</th>\n",
              "      <th>Dataset</th>\n",
              "    </tr>\n",
              "  </thead>\n",
              "  <tbody>\n",
              "    <tr>\n",
              "      <th>0</th>\n",
              "      <td>65</td>\n",
              "      <td>Female</td>\n",
              "      <td>0.7</td>\n",
              "      <td>0.1</td>\n",
              "      <td>187</td>\n",
              "      <td>16</td>\n",
              "      <td>18</td>\n",
              "      <td>6.8</td>\n",
              "      <td>3.3</td>\n",
              "      <td>0.90</td>\n",
              "      <td>1</td>\n",
              "    </tr>\n",
              "    <tr>\n",
              "      <th>1</th>\n",
              "      <td>62</td>\n",
              "      <td>Male</td>\n",
              "      <td>10.9</td>\n",
              "      <td>5.5</td>\n",
              "      <td>699</td>\n",
              "      <td>64</td>\n",
              "      <td>100</td>\n",
              "      <td>7.5</td>\n",
              "      <td>3.2</td>\n",
              "      <td>0.74</td>\n",
              "      <td>1</td>\n",
              "    </tr>\n",
              "    <tr>\n",
              "      <th>2</th>\n",
              "      <td>62</td>\n",
              "      <td>Male</td>\n",
              "      <td>7.3</td>\n",
              "      <td>4.1</td>\n",
              "      <td>490</td>\n",
              "      <td>60</td>\n",
              "      <td>68</td>\n",
              "      <td>7.0</td>\n",
              "      <td>3.3</td>\n",
              "      <td>0.89</td>\n",
              "      <td>1</td>\n",
              "    </tr>\n",
              "    <tr>\n",
              "      <th>3</th>\n",
              "      <td>58</td>\n",
              "      <td>Male</td>\n",
              "      <td>1.0</td>\n",
              "      <td>0.4</td>\n",
              "      <td>182</td>\n",
              "      <td>14</td>\n",
              "      <td>20</td>\n",
              "      <td>6.8</td>\n",
              "      <td>3.4</td>\n",
              "      <td>1.00</td>\n",
              "      <td>1</td>\n",
              "    </tr>\n",
              "    <tr>\n",
              "      <th>4</th>\n",
              "      <td>72</td>\n",
              "      <td>Male</td>\n",
              "      <td>3.9</td>\n",
              "      <td>2.0</td>\n",
              "      <td>195</td>\n",
              "      <td>27</td>\n",
              "      <td>59</td>\n",
              "      <td>7.3</td>\n",
              "      <td>2.4</td>\n",
              "      <td>0.40</td>\n",
              "      <td>1</td>\n",
              "    </tr>\n",
              "  </tbody>\n",
              "</table>\n",
              "</div>"
            ],
            "text/plain": [
              "   Age  Gender  Total_Bilirubin  ...  Albumin  Albumin_and_Globulin_Ratio  Dataset\n",
              "0   65  Female              0.7  ...      3.3                        0.90        1\n",
              "1   62    Male             10.9  ...      3.2                        0.74        1\n",
              "2   62    Male              7.3  ...      3.3                        0.89        1\n",
              "3   58    Male              1.0  ...      3.4                        1.00        1\n",
              "4   72    Male              3.9  ...      2.4                        0.40        1\n",
              "\n",
              "[5 rows x 11 columns]"
            ]
          },
          "metadata": {},
          "execution_count": 2
        }
      ]
    },
    {
      "cell_type": "code",
      "metadata": {
        "colab": {
          "base_uri": "https://localhost:8080/"
        },
        "id": "bT04FaXuDswe",
        "outputId": "0c209b72-bb61-42a6-8c7f-5689d770e11a"
      },
      "source": [
        "df.notnull().count()"
      ],
      "execution_count": 3,
      "outputs": [
        {
          "output_type": "execute_result",
          "data": {
            "text/plain": [
              "Age                           583\n",
              "Gender                        583\n",
              "Total_Bilirubin               583\n",
              "Direct_Bilirubin              583\n",
              "Alkaline_Phosphotase          583\n",
              "Alamine_Aminotransferase      583\n",
              "Aspartate_Aminotransferase    583\n",
              "Total_Protiens                583\n",
              "Albumin                       583\n",
              "Albumin_and_Globulin_Ratio    583\n",
              "Dataset                       583\n",
              "dtype: int64"
            ]
          },
          "metadata": {},
          "execution_count": 3
        }
      ]
    },
    {
      "cell_type": "code",
      "metadata": {
        "colab": {
          "base_uri": "https://localhost:8080/",
          "height": 472
        },
        "id": "65lJw0M3Hksg",
        "outputId": "8ad0b74e-d484-4723-901a-7fda1f2d03ac"
      },
      "source": [
        "df[df.duplicated()]"
      ],
      "execution_count": 4,
      "outputs": [
        {
          "output_type": "execute_result",
          "data": {
            "text/html": [
              "<div>\n",
              "<style scoped>\n",
              "    .dataframe tbody tr th:only-of-type {\n",
              "        vertical-align: middle;\n",
              "    }\n",
              "\n",
              "    .dataframe tbody tr th {\n",
              "        vertical-align: top;\n",
              "    }\n",
              "\n",
              "    .dataframe thead th {\n",
              "        text-align: right;\n",
              "    }\n",
              "</style>\n",
              "<table border=\"1\" class=\"dataframe\">\n",
              "  <thead>\n",
              "    <tr style=\"text-align: right;\">\n",
              "      <th></th>\n",
              "      <th>Age</th>\n",
              "      <th>Gender</th>\n",
              "      <th>Total_Bilirubin</th>\n",
              "      <th>Direct_Bilirubin</th>\n",
              "      <th>Alkaline_Phosphotase</th>\n",
              "      <th>Alamine_Aminotransferase</th>\n",
              "      <th>Aspartate_Aminotransferase</th>\n",
              "      <th>Total_Protiens</th>\n",
              "      <th>Albumin</th>\n",
              "      <th>Albumin_and_Globulin_Ratio</th>\n",
              "      <th>Dataset</th>\n",
              "    </tr>\n",
              "  </thead>\n",
              "  <tbody>\n",
              "    <tr>\n",
              "      <th>19</th>\n",
              "      <td>40</td>\n",
              "      <td>Female</td>\n",
              "      <td>0.9</td>\n",
              "      <td>0.3</td>\n",
              "      <td>293</td>\n",
              "      <td>232</td>\n",
              "      <td>245</td>\n",
              "      <td>6.8</td>\n",
              "      <td>3.1</td>\n",
              "      <td>0.80</td>\n",
              "      <td>1</td>\n",
              "    </tr>\n",
              "    <tr>\n",
              "      <th>26</th>\n",
              "      <td>34</td>\n",
              "      <td>Male</td>\n",
              "      <td>4.1</td>\n",
              "      <td>2.0</td>\n",
              "      <td>289</td>\n",
              "      <td>875</td>\n",
              "      <td>731</td>\n",
              "      <td>5.0</td>\n",
              "      <td>2.7</td>\n",
              "      <td>1.10</td>\n",
              "      <td>1</td>\n",
              "    </tr>\n",
              "    <tr>\n",
              "      <th>34</th>\n",
              "      <td>38</td>\n",
              "      <td>Female</td>\n",
              "      <td>2.6</td>\n",
              "      <td>1.2</td>\n",
              "      <td>410</td>\n",
              "      <td>59</td>\n",
              "      <td>57</td>\n",
              "      <td>5.6</td>\n",
              "      <td>3.0</td>\n",
              "      <td>0.80</td>\n",
              "      <td>2</td>\n",
              "    </tr>\n",
              "    <tr>\n",
              "      <th>55</th>\n",
              "      <td>42</td>\n",
              "      <td>Male</td>\n",
              "      <td>8.9</td>\n",
              "      <td>4.5</td>\n",
              "      <td>272</td>\n",
              "      <td>31</td>\n",
              "      <td>61</td>\n",
              "      <td>5.8</td>\n",
              "      <td>2.0</td>\n",
              "      <td>0.50</td>\n",
              "      <td>1</td>\n",
              "    </tr>\n",
              "    <tr>\n",
              "      <th>62</th>\n",
              "      <td>58</td>\n",
              "      <td>Male</td>\n",
              "      <td>1.0</td>\n",
              "      <td>0.5</td>\n",
              "      <td>158</td>\n",
              "      <td>37</td>\n",
              "      <td>43</td>\n",
              "      <td>7.2</td>\n",
              "      <td>3.6</td>\n",
              "      <td>1.00</td>\n",
              "      <td>1</td>\n",
              "    </tr>\n",
              "    <tr>\n",
              "      <th>106</th>\n",
              "      <td>36</td>\n",
              "      <td>Male</td>\n",
              "      <td>5.3</td>\n",
              "      <td>2.3</td>\n",
              "      <td>145</td>\n",
              "      <td>32</td>\n",
              "      <td>92</td>\n",
              "      <td>5.1</td>\n",
              "      <td>2.6</td>\n",
              "      <td>1.00</td>\n",
              "      <td>2</td>\n",
              "    </tr>\n",
              "    <tr>\n",
              "      <th>108</th>\n",
              "      <td>36</td>\n",
              "      <td>Male</td>\n",
              "      <td>0.8</td>\n",
              "      <td>0.2</td>\n",
              "      <td>158</td>\n",
              "      <td>29</td>\n",
              "      <td>39</td>\n",
              "      <td>6.0</td>\n",
              "      <td>2.2</td>\n",
              "      <td>0.50</td>\n",
              "      <td>2</td>\n",
              "    </tr>\n",
              "    <tr>\n",
              "      <th>138</th>\n",
              "      <td>18</td>\n",
              "      <td>Male</td>\n",
              "      <td>0.8</td>\n",
              "      <td>0.2</td>\n",
              "      <td>282</td>\n",
              "      <td>72</td>\n",
              "      <td>140</td>\n",
              "      <td>5.5</td>\n",
              "      <td>2.5</td>\n",
              "      <td>0.80</td>\n",
              "      <td>1</td>\n",
              "    </tr>\n",
              "    <tr>\n",
              "      <th>143</th>\n",
              "      <td>30</td>\n",
              "      <td>Male</td>\n",
              "      <td>1.6</td>\n",
              "      <td>0.4</td>\n",
              "      <td>332</td>\n",
              "      <td>84</td>\n",
              "      <td>139</td>\n",
              "      <td>5.6</td>\n",
              "      <td>2.7</td>\n",
              "      <td>0.90</td>\n",
              "      <td>1</td>\n",
              "    </tr>\n",
              "    <tr>\n",
              "      <th>158</th>\n",
              "      <td>72</td>\n",
              "      <td>Male</td>\n",
              "      <td>0.7</td>\n",
              "      <td>0.1</td>\n",
              "      <td>196</td>\n",
              "      <td>20</td>\n",
              "      <td>35</td>\n",
              "      <td>5.8</td>\n",
              "      <td>2.0</td>\n",
              "      <td>0.50</td>\n",
              "      <td>1</td>\n",
              "    </tr>\n",
              "    <tr>\n",
              "      <th>164</th>\n",
              "      <td>39</td>\n",
              "      <td>Male</td>\n",
              "      <td>1.9</td>\n",
              "      <td>0.9</td>\n",
              "      <td>180</td>\n",
              "      <td>42</td>\n",
              "      <td>62</td>\n",
              "      <td>7.4</td>\n",
              "      <td>4.3</td>\n",
              "      <td>1.38</td>\n",
              "      <td>1</td>\n",
              "    </tr>\n",
              "    <tr>\n",
              "      <th>174</th>\n",
              "      <td>31</td>\n",
              "      <td>Male</td>\n",
              "      <td>0.6</td>\n",
              "      <td>0.1</td>\n",
              "      <td>175</td>\n",
              "      <td>48</td>\n",
              "      <td>34</td>\n",
              "      <td>6.0</td>\n",
              "      <td>3.7</td>\n",
              "      <td>1.60</td>\n",
              "      <td>1</td>\n",
              "    </tr>\n",
              "    <tr>\n",
              "      <th>201</th>\n",
              "      <td>49</td>\n",
              "      <td>Male</td>\n",
              "      <td>0.6</td>\n",
              "      <td>0.1</td>\n",
              "      <td>218</td>\n",
              "      <td>50</td>\n",
              "      <td>53</td>\n",
              "      <td>5.0</td>\n",
              "      <td>2.4</td>\n",
              "      <td>0.90</td>\n",
              "      <td>1</td>\n",
              "    </tr>\n",
              "  </tbody>\n",
              "</table>\n",
              "</div>"
            ],
            "text/plain": [
              "     Age  Gender  Total_Bilirubin  ...  Albumin  Albumin_and_Globulin_Ratio  Dataset\n",
              "19    40  Female              0.9  ...      3.1                        0.80        1\n",
              "26    34    Male              4.1  ...      2.7                        1.10        1\n",
              "34    38  Female              2.6  ...      3.0                        0.80        2\n",
              "55    42    Male              8.9  ...      2.0                        0.50        1\n",
              "62    58    Male              1.0  ...      3.6                        1.00        1\n",
              "106   36    Male              5.3  ...      2.6                        1.00        2\n",
              "108   36    Male              0.8  ...      2.2                        0.50        2\n",
              "138   18    Male              0.8  ...      2.5                        0.80        1\n",
              "143   30    Male              1.6  ...      2.7                        0.90        1\n",
              "158   72    Male              0.7  ...      2.0                        0.50        1\n",
              "164   39    Male              1.9  ...      4.3                        1.38        1\n",
              "174   31    Male              0.6  ...      3.7                        1.60        1\n",
              "201   49    Male              0.6  ...      2.4                        0.90        1\n",
              "\n",
              "[13 rows x 11 columns]"
            ]
          },
          "metadata": {},
          "execution_count": 4
        }
      ]
    },
    {
      "cell_type": "code",
      "metadata": {
        "colab": {
          "base_uri": "https://localhost:8080/",
          "height": 317
        },
        "id": "zOXBi_WkGMyt",
        "outputId": "8927db41-17d5-491c-ead3-8139b4514d68"
      },
      "source": [
        "df.describe()"
      ],
      "execution_count": 5,
      "outputs": [
        {
          "output_type": "execute_result",
          "data": {
            "text/html": [
              "<div>\n",
              "<style scoped>\n",
              "    .dataframe tbody tr th:only-of-type {\n",
              "        vertical-align: middle;\n",
              "    }\n",
              "\n",
              "    .dataframe tbody tr th {\n",
              "        vertical-align: top;\n",
              "    }\n",
              "\n",
              "    .dataframe thead th {\n",
              "        text-align: right;\n",
              "    }\n",
              "</style>\n",
              "<table border=\"1\" class=\"dataframe\">\n",
              "  <thead>\n",
              "    <tr style=\"text-align: right;\">\n",
              "      <th></th>\n",
              "      <th>Age</th>\n",
              "      <th>Total_Bilirubin</th>\n",
              "      <th>Direct_Bilirubin</th>\n",
              "      <th>Alkaline_Phosphotase</th>\n",
              "      <th>Alamine_Aminotransferase</th>\n",
              "      <th>Aspartate_Aminotransferase</th>\n",
              "      <th>Total_Protiens</th>\n",
              "      <th>Albumin</th>\n",
              "      <th>Albumin_and_Globulin_Ratio</th>\n",
              "      <th>Dataset</th>\n",
              "    </tr>\n",
              "  </thead>\n",
              "  <tbody>\n",
              "    <tr>\n",
              "      <th>count</th>\n",
              "      <td>583.000000</td>\n",
              "      <td>583.000000</td>\n",
              "      <td>583.000000</td>\n",
              "      <td>583.000000</td>\n",
              "      <td>583.000000</td>\n",
              "      <td>583.000000</td>\n",
              "      <td>583.000000</td>\n",
              "      <td>583.000000</td>\n",
              "      <td>579.000000</td>\n",
              "      <td>583.000000</td>\n",
              "    </tr>\n",
              "    <tr>\n",
              "      <th>mean</th>\n",
              "      <td>44.746141</td>\n",
              "      <td>3.298799</td>\n",
              "      <td>1.486106</td>\n",
              "      <td>290.576329</td>\n",
              "      <td>80.713551</td>\n",
              "      <td>109.910806</td>\n",
              "      <td>6.483190</td>\n",
              "      <td>3.141852</td>\n",
              "      <td>0.947064</td>\n",
              "      <td>1.286449</td>\n",
              "    </tr>\n",
              "    <tr>\n",
              "      <th>std</th>\n",
              "      <td>16.189833</td>\n",
              "      <td>6.209522</td>\n",
              "      <td>2.808498</td>\n",
              "      <td>242.937989</td>\n",
              "      <td>182.620356</td>\n",
              "      <td>288.918529</td>\n",
              "      <td>1.085451</td>\n",
              "      <td>0.795519</td>\n",
              "      <td>0.319592</td>\n",
              "      <td>0.452490</td>\n",
              "    </tr>\n",
              "    <tr>\n",
              "      <th>min</th>\n",
              "      <td>4.000000</td>\n",
              "      <td>0.400000</td>\n",
              "      <td>0.100000</td>\n",
              "      <td>63.000000</td>\n",
              "      <td>10.000000</td>\n",
              "      <td>10.000000</td>\n",
              "      <td>2.700000</td>\n",
              "      <td>0.900000</td>\n",
              "      <td>0.300000</td>\n",
              "      <td>1.000000</td>\n",
              "    </tr>\n",
              "    <tr>\n",
              "      <th>25%</th>\n",
              "      <td>33.000000</td>\n",
              "      <td>0.800000</td>\n",
              "      <td>0.200000</td>\n",
              "      <td>175.500000</td>\n",
              "      <td>23.000000</td>\n",
              "      <td>25.000000</td>\n",
              "      <td>5.800000</td>\n",
              "      <td>2.600000</td>\n",
              "      <td>0.700000</td>\n",
              "      <td>1.000000</td>\n",
              "    </tr>\n",
              "    <tr>\n",
              "      <th>50%</th>\n",
              "      <td>45.000000</td>\n",
              "      <td>1.000000</td>\n",
              "      <td>0.300000</td>\n",
              "      <td>208.000000</td>\n",
              "      <td>35.000000</td>\n",
              "      <td>42.000000</td>\n",
              "      <td>6.600000</td>\n",
              "      <td>3.100000</td>\n",
              "      <td>0.930000</td>\n",
              "      <td>1.000000</td>\n",
              "    </tr>\n",
              "    <tr>\n",
              "      <th>75%</th>\n",
              "      <td>58.000000</td>\n",
              "      <td>2.600000</td>\n",
              "      <td>1.300000</td>\n",
              "      <td>298.000000</td>\n",
              "      <td>60.500000</td>\n",
              "      <td>87.000000</td>\n",
              "      <td>7.200000</td>\n",
              "      <td>3.800000</td>\n",
              "      <td>1.100000</td>\n",
              "      <td>2.000000</td>\n",
              "    </tr>\n",
              "    <tr>\n",
              "      <th>max</th>\n",
              "      <td>90.000000</td>\n",
              "      <td>75.000000</td>\n",
              "      <td>19.700000</td>\n",
              "      <td>2110.000000</td>\n",
              "      <td>2000.000000</td>\n",
              "      <td>4929.000000</td>\n",
              "      <td>9.600000</td>\n",
              "      <td>5.500000</td>\n",
              "      <td>2.800000</td>\n",
              "      <td>2.000000</td>\n",
              "    </tr>\n",
              "  </tbody>\n",
              "</table>\n",
              "</div>"
            ],
            "text/plain": [
              "              Age  Total_Bilirubin  ...  Albumin_and_Globulin_Ratio     Dataset\n",
              "count  583.000000       583.000000  ...                  579.000000  583.000000\n",
              "mean    44.746141         3.298799  ...                    0.947064    1.286449\n",
              "std     16.189833         6.209522  ...                    0.319592    0.452490\n",
              "min      4.000000         0.400000  ...                    0.300000    1.000000\n",
              "25%     33.000000         0.800000  ...                    0.700000    1.000000\n",
              "50%     45.000000         1.000000  ...                    0.930000    1.000000\n",
              "75%     58.000000         2.600000  ...                    1.100000    2.000000\n",
              "max     90.000000        75.000000  ...                    2.800000    2.000000\n",
              "\n",
              "[8 rows x 10 columns]"
            ]
          },
          "metadata": {},
          "execution_count": 5
        }
      ]
    },
    {
      "cell_type": "code",
      "metadata": {
        "colab": {
          "base_uri": "https://localhost:8080/"
        },
        "id": "vVtyFFojHypg",
        "outputId": "cffc793b-bb2e-4c22-885b-dbe6bcf151a8"
      },
      "source": [
        "df1=df.drop_duplicates()\n",
        "df1.duplicated().sum()"
      ],
      "execution_count": 6,
      "outputs": [
        {
          "output_type": "execute_result",
          "data": {
            "text/plain": [
              "0"
            ]
          },
          "metadata": {},
          "execution_count": 6
        }
      ]
    },
    {
      "cell_type": "code",
      "metadata": {
        "colab": {
          "base_uri": "https://localhost:8080/",
          "height": 419
        },
        "id": "nnWfFYaKIyS4",
        "outputId": "858d69ca-a729-4aeb-cdee-3b8726d58ae3"
      },
      "source": [
        "sns.heatmap(df1.isnull())"
      ],
      "execution_count": 7,
      "outputs": [
        {
          "output_type": "execute_result",
          "data": {
            "text/plain": [
              "<matplotlib.axes._subplots.AxesSubplot at 0x7efc7d81c610>"
            ]
          },
          "metadata": {},
          "execution_count": 7
        },
        {
          "output_type": "display_data",
          "data": {
            "image/png": "[encoded data removed]",
            "text/plain": [
              "<Figure size 432x288 with 2 Axes>"
            ]
          },
          "metadata": {
            "needs_background": "light"
          }
        }
      ]
    },
    {
      "cell_type": "code",
      "metadata": {
        "colab": {
          "base_uri": "https://localhost:8080/",
          "height": 419
        },
        "id": "wZPEaNa1H-ao",
        "outputId": "fdd790ad-e3e8-4f9d-80f7-9b08daf162ea"
      },
      "source": [
        "df1=df1.dropna()\n",
        "sns.heatmap(df1.isnull())\n"
      ],
      "execution_count": 8,
      "outputs": [
        {
          "output_type": "execute_result",
          "data": {
            "text/plain": [
              "<matplotlib.axes._subplots.AxesSubplot at 0x7efc752170d0>"
            ]
          },
          "metadata": {},
          "execution_count": 8
        },
        {
          "output_type": "display_data",
          "data": {
            "image/png": "[encoded data removed]",
            "text/plain": [
              "<Figure size 432x288 with 2 Axes>"
            ]
          },
          "metadata": {
            "needs_background": "light"
          }
        }
      ]
    },
    {
      "cell_type": "code",
      "metadata": {
        "id": "iAd28cIOJwny"
      },
      "source": [
        "df1.rename(columns={'liver_disease':'liver_disease'},inplace=True)"
      ],
      "execution_count": 9,
      "outputs": []
    },
    {
      "cell_type": "code",
      "metadata": {
        "colab": {
          "base_uri": "https://localhost:8080/"
        },
        "id": "6qvIEMBoJegu",
        "outputId": "d3129a66-ec98-416c-be21-ffb0dc020e76"
      },
      "source": [
        "df1.info()"
      ],
      "execution_count": 10,
      "outputs": [
        {
          "output_type": "stream",
          "name": "stdout",
          "text": [
            "<class 'pandas.core.frame.DataFrame'>\n",
            "Int64Index: 566 entries, 0 to 582\n",
            "Data columns (total 11 columns):\n",
            " #   Column                      Non-Null Count  Dtype  \n",
            "---  ------                      --------------  -----  \n",
            " 0   Age                         566 non-null    int64  \n",
            " 1   Gender                      566 non-null    object \n",
            " 2   Total_Bilirubin             566 non-null    float64\n",
            " 3   Direct_Bilirubin            566 non-null    float64\n",
            " 4   Alkaline_Phosphotase        566 non-null    int64  \n",
            " 5   Alamine_Aminotransferase    566 non-null    int64  \n",
            " 6   Aspartate_Aminotransferase  566 non-null    int64  \n",
            " 7   Total_Protiens              566 non-null    float64\n",
            " 8   Albumin                     566 non-null    float64\n",
            " 9   Albumin_and_Globulin_Ratio  566 non-null    float64\n",
            " 10  Dataset                     566 non-null    int64  \n",
            "dtypes: float64(5), int64(5), object(1)\n",
            "memory usage: 53.1+ KB\n"
          ]
        }
      ]
    },
    {
      "cell_type": "code",
      "metadata": {
        "colab": {
          "base_uri": "https://localhost:8080/",
          "height": 378
        },
        "id": "h-WXNSKmKdL-",
        "outputId": "51447963-418d-466a-9feb-ff0dab434f83"
      },
      "source": [
        "plt.figure(figsize=(7,5.5))\n",
        "sns.countplot(x='Dataset',data=df1,palette='Set2')\n",
        "plt.xticks(ticks=[0,1],labels=['Negetive','Positive'])\n",
        "plt.plot()"
      ],
      "execution_count": 11,
      "outputs": [
        {
          "output_type": "execute_result",
          "data": {
            "text/plain": [
              "[]"
            ]
          },
          "metadata": {},
          "execution_count": 11
        },
        {
          "output_type": "display_data",
          "data": {
            "image/png": "[encoded data removed]",
            "text/plain": [
              "<Figure size 504x396 with 1 Axes>"
            ]
          },
          "metadata": {
            "needs_background": "light"
          }
        }
      ]
    },
    {
      "cell_type": "code",
      "metadata": {
        "colab": {
          "base_uri": "https://localhost:8080/"
        },
        "id": "BaJ0y6kCLvJK",
        "outputId": "6d57f137-4087-4823-f697-d15c9d0736db"
      },
      "source": [
        "male_postive=df1.loc[(df1.Gender=='Male') & (df1.Dataset==1)].value_counts().count()\n",
        "print(f'No of males having liver disease is {male_postive}')\n",
        "female_positive=df1.loc[(df1.Gender=='Female') & (df1.Dataset==1)].value_counts().count()\n",
        "print(f'No of females having liver disease is {female_positive}')"
      ],
      "execution_count": 12,
      "outputs": [
        {
          "output_type": "stream",
          "name": "stdout",
          "text": [
            "No of males having liver disease is 314\n",
            "No of females having liver disease is 90\n"
          ]
        }
      ]
    },
    {
      "cell_type": "code",
      "metadata": {
        "colab": {
          "base_uri": "https://localhost:8080/",
          "height": 378
        },
        "id": "7I00FOe1Pctr",
        "outputId": "2febecef-464e-4bc3-85fd-230f7690a440"
      },
      "source": [
        "plt.figure(figsize=(7,5.5))\n",
        "sns.countplot(x='Gender',data=df1,palette='Set1',hue='Dataset')\n",
        "\n",
        "plt.plot()"
      ],
      "execution_count": 13,
      "outputs": [
        {
          "output_type": "execute_result",
          "data": {
            "text/plain": [
              "[]"
            ]
          },
          "metadata": {},
          "execution_count": 13
        },
        {
          "output_type": "display_data",
          "data": {
            "image/png": "[encoded data removed]",
            "text/plain": [
              "<Figure size 504x396 with 1 Axes>"
            ]
          },
          "metadata": {
            "needs_background": "light"
          }
        }
      ]
    },
    {
      "cell_type": "code",
      "metadata": {
        "colab": {
          "base_uri": "https://localhost:8080/",
          "height": 350
        },
        "id": "D_Ng0sdCResB",
        "outputId": "1ee89cbb-2ba8-443e-92ad-d081ddad55c6"
      },
      "source": [
        "#Age distribution\n",
        "sns.distplot(a=df1['Age'],kde=True)"
      ],
      "execution_count": 14,
      "outputs": [
        {
          "output_type": "stream",
          "name": "stderr",
          "text": [
            "/usr/local/lib/python3.7/dist-packages/seaborn/distributions.py:2557: FutureWarning: `distplot` is a deprecated function and will be removed in a future version. Please adapt your code to use either `displot` (a figure-level function with similar flexibility) or `histplot` (an axes-level function for histograms).\n",
            "  warnings.warn(msg, FutureWarning)\n"
          ]
        },
        {
          "output_type": "execute_result",
          "data": {
            "text/plain": [
              "<matplotlib.axes._subplots.AxesSubplot at 0x7efc73d68e90>"
            ]
          },
          "metadata": {},
          "execution_count": 14
        },
        {
          "output_type": "display_data",
          "data": {
            "image/png": "[encoded data removed]",
            "text/plain": [
              "<Figure size 432x288 with 1 Axes>"
            ]
          },
          "metadata": {
            "needs_background": "light"
          }
        }
      ]
    },
    {
      "cell_type": "code",
      "metadata": {
        "colab": {
          "base_uri": "https://localhost:8080/",
          "height": 354
        },
        "id": "YltVeAwiTYEN",
        "outputId": "f1ca2b3f-514e-497c-e542-453c6761b46f"
      },
      "source": [
        "sns.distplot(a=df1['Total_Bilirubin'],kde=False)"
      ],
      "execution_count": 15,
      "outputs": [
        {
          "output_type": "stream",
          "name": "stderr",
          "text": [
            "/usr/local/lib/python3.7/dist-packages/seaborn/distributions.py:2557: FutureWarning: `distplot` is a deprecated function and will be removed in a future version. Please adapt your code to use either `displot` (a figure-level function with similar flexibility) or `histplot` (an axes-level function for histograms).\n",
            "  warnings.warn(msg, FutureWarning)\n"
          ]
        },
        {
          "output_type": "execute_result",
          "data": {
            "text/plain": [
              "<matplotlib.axes._subplots.AxesSubplot at 0x7efc73cfd8d0>"
            ]
          },
          "metadata": {},
          "execution_count": 15
        },
        {
          "output_type": "display_data",
          "data": {
            "image/png": "[encoded data removed]",
            "text/plain": [
              "<Figure size 432x288 with 1 Axes>"
            ]
          },
          "metadata": {
            "needs_background": "light"
          }
        }
      ]
    },
    {
      "cell_type": "code",
      "metadata": {
        "colab": {
          "base_uri": "https://localhost:8080/"
        },
        "id": "eB7AbFvoTo1v",
        "outputId": "21b851f8-94fb-4791-9f69-bc5f9792db6d"
      },
      "source": [
        "#no of adults having jaundice\n",
        "adults_having_jaundice=df1.loc[(df1.Age>=18) & (df1.Total_Bilirubin\t>2.5)].value_counts().count()\n",
        "print(f'No of adults having jaundice are {adults_having_jaundice}')"
      ],
      "execution_count": 16,
      "outputs": [
        {
          "output_type": "stream",
          "name": "stdout",
          "text": [
            "No of adults having jaundice are 142\n"
          ]
        }
      ]
    },
    {
      "cell_type": "code",
      "metadata": {
        "id": "TY1NTbPpxKIZ",
        "colab": {
          "base_uri": "https://localhost:8080/"
        },
        "outputId": "9628dba5-6bfd-4a4b-d88d-9752d8afc71e"
      },
      "source": [
        "#Mean of data points\n",
        "df1.mean()"
      ],
      "execution_count": 17,
      "outputs": [
        {
          "output_type": "execute_result",
          "data": {
            "text/plain": [
              "Age                            44.886926\n",
              "Total_Bilirubin                 3.338869\n",
              "Direct_Bilirubin                1.505830\n",
              "Alkaline_Phosphotase          292.567138\n",
              "Alamine_Aminotransferase       80.143110\n",
              "Aspartate_Aminotransferase    109.892226\n",
              "Total_Protiens                  6.494876\n",
              "Albumin                         3.145583\n",
              "Albumin_and_Globulin_Ratio      0.948004\n",
              "Dataset                         1.286219\n",
              "dtype: float64"
            ]
          },
          "metadata": {},
          "execution_count": 17
        }
      ]
    },
    {
      "cell_type": "code",
      "metadata": {
        "colab": {
          "base_uri": "https://localhost:8080/"
        },
        "id": "ZTTdRLOwDlrn",
        "outputId": "9a29cf2d-667c-40c0-d83f-b3434b1cae08"
      },
      "source": [
        "#Skewness\n",
        "df1.skew()"
      ],
      "execution_count": 18,
      "outputs": [
        {
          "output_type": "execute_result",
          "data": {
            "text/plain": [
              "Age                           -0.050998\n",
              "Total_Bilirubin                4.852444\n",
              "Direct_Bilirubin               3.174186\n",
              "Alkaline_Phosphotase           3.716540\n",
              "Alamine_Aminotransferase       6.672512\n",
              "Aspartate_Aminotransferase    10.524552\n",
              "Total_Protiens                -0.317937\n",
              "Albumin                       -0.065818\n",
              "Albumin_and_Globulin_Ratio     1.001294\n",
              "Dataset                        0.948463\n",
              "dtype: float64"
            ]
          },
          "metadata": {},
          "execution_count": 18
        }
      ]
    },
    {
      "cell_type": "code",
      "metadata": {
        "colab": {
          "base_uri": "https://localhost:8080/"
        },
        "id": "krvyJQaPDcZw",
        "outputId": "39800772-4559-4c53-f35c-1a6009da5be8"
      },
      "source": [
        "df1.kurtosis()"
      ],
      "execution_count": 19,
      "outputs": [
        {
          "output_type": "execute_result",
          "data": {
            "text/plain": [
              "Age                            -0.570584\n",
              "Total_Bilirubin                36.262008\n",
              "Direct_Bilirubin               11.021222\n",
              "Alkaline_Phosphotase           17.236024\n",
              "Alamine_Aminotransferase       52.345206\n",
              "Aspartate_Aminotransferase    149.305593\n",
              "Total_Protiens                  0.272734\n",
              "Albumin                        -0.375984\n",
              "Albumin_and_Globulin_Ratio      3.354530\n",
              "Dataset                        -1.104332\n",
              "dtype: float64"
            ]
          },
          "metadata": {},
          "execution_count": 19
        }
      ]
    },
    {
      "cell_type": "code",
      "metadata": {
        "colab": {
          "base_uri": "https://localhost:8080/"
        },
        "id": "hwnnTv_ED-_I",
        "outputId": "3f1783fa-39b2-450d-8bce-d6cdfa87c4d8"
      },
      "source": [
        "#median of data points\n",
        "df1.median()\n"
      ],
      "execution_count": 20,
      "outputs": [
        {
          "output_type": "execute_result",
          "data": {
            "text/plain": [
              "Age                            45.00\n",
              "Total_Bilirubin                 1.00\n",
              "Direct_Bilirubin                0.30\n",
              "Alkaline_Phosphotase          208.00\n",
              "Alamine_Aminotransferase       35.00\n",
              "Aspartate_Aminotransferase     41.00\n",
              "Total_Protiens                  6.60\n",
              "Albumin                         3.10\n",
              "Albumin_and_Globulin_Ratio      0.95\n",
              "Dataset                         1.00\n",
              "dtype: float64"
            ]
          },
          "metadata": {},
          "execution_count": 20
        }
      ]
    },
    {
      "cell_type": "code",
      "metadata": {
        "colab": {
          "base_uri": "https://localhost:8080/",
          "height": 379
        },
        "id": "wlbpsieZENr0",
        "outputId": "710c6fc1-3583-40b4-9ce9-14878b6b58ad"
      },
      "source": [
        "df1.corr()"
      ],
      "execution_count": 21,
      "outputs": [
        {
          "output_type": "execute_result",
          "data": {
            "text/html": [
              "<div>\n",
              "<style scoped>\n",
              "    .dataframe tbody tr th:only-of-type {\n",
              "        vertical-align: middle;\n",
              "    }\n",
              "\n",
              "    .dataframe tbody tr th {\n",
              "        vertical-align: top;\n",
              "    }\n",
              "\n",
              "    .dataframe thead th {\n",
              "        text-align: right;\n",
              "    }\n",
              "</style>\n",
              "<table border=\"1\" class=\"dataframe\">\n",
              "  <thead>\n",
              "    <tr style=\"text-align: right;\">\n",
              "      <th></th>\n",
              "      <th>Age</th>\n",
              "      <th>Total_Bilirubin</th>\n",
              "      <th>Direct_Bilirubin</th>\n",
              "      <th>Alkaline_Phosphotase</th>\n",
              "      <th>Alamine_Aminotransferase</th>\n",
              "      <th>Aspartate_Aminotransferase</th>\n",
              "      <th>Total_Protiens</th>\n",
              "      <th>Albumin</th>\n",
              "      <th>Albumin_and_Globulin_Ratio</th>\n",
              "      <th>Dataset</th>\n",
              "    </tr>\n",
              "  </thead>\n",
              "  <tbody>\n",
              "    <tr>\n",
              "      <th>Age</th>\n",
              "      <td>1.000000</td>\n",
              "      <td>0.010704</td>\n",
              "      <td>0.006268</td>\n",
              "      <td>0.080085</td>\n",
              "      <td>-0.084319</td>\n",
              "      <td>-0.017352</td>\n",
              "      <td>-0.195893</td>\n",
              "      <td>-0.269448</td>\n",
              "      <td>-0.215967</td>\n",
              "      <td>-0.133821</td>\n",
              "    </tr>\n",
              "    <tr>\n",
              "      <th>Total_Bilirubin</th>\n",
              "      <td>0.010704</td>\n",
              "      <td>1.000000</td>\n",
              "      <td>0.873975</td>\n",
              "      <td>0.205286</td>\n",
              "      <td>0.216776</td>\n",
              "      <td>0.238167</td>\n",
              "      <td>-0.008423</td>\n",
              "      <td>-0.223979</td>\n",
              "      <td>-0.207740</td>\n",
              "      <td>-0.224467</td>\n",
              "    </tr>\n",
              "    <tr>\n",
              "      <th>Direct_Bilirubin</th>\n",
              "      <td>0.006268</td>\n",
              "      <td>0.873975</td>\n",
              "      <td>1.000000</td>\n",
              "      <td>0.233653</td>\n",
              "      <td>0.236731</td>\n",
              "      <td>0.257965</td>\n",
              "      <td>-0.000735</td>\n",
              "      <td>-0.230650</td>\n",
              "      <td>-0.201519</td>\n",
              "      <td>-0.250926</td>\n",
              "    </tr>\n",
              "    <tr>\n",
              "      <th>Alkaline_Phosphotase</th>\n",
              "      <td>0.080085</td>\n",
              "      <td>0.205286</td>\n",
              "      <td>0.233653</td>\n",
              "      <td>1.000000</td>\n",
              "      <td>0.125917</td>\n",
              "      <td>0.166609</td>\n",
              "      <td>-0.028623</td>\n",
              "      <td>-0.166287</td>\n",
              "      <td>-0.236251</td>\n",
              "      <td>-0.186057</td>\n",
              "    </tr>\n",
              "    <tr>\n",
              "      <th>Alamine_Aminotransferase</th>\n",
              "      <td>-0.084319</td>\n",
              "      <td>0.216776</td>\n",
              "      <td>0.236731</td>\n",
              "      <td>0.125917</td>\n",
              "      <td>1.000000</td>\n",
              "      <td>0.791754</td>\n",
              "      <td>-0.035104</td>\n",
              "      <td>-0.026890</td>\n",
              "      <td>-0.006525</td>\n",
              "      <td>-0.161617</td>\n",
              "    </tr>\n",
              "    <tr>\n",
              "      <th>Aspartate_Aminotransferase</th>\n",
              "      <td>-0.017352</td>\n",
              "      <td>0.238167</td>\n",
              "      <td>0.257965</td>\n",
              "      <td>0.166609</td>\n",
              "      <td>0.791754</td>\n",
              "      <td>1.000000</td>\n",
              "      <td>-0.022114</td>\n",
              "      <td>-0.084821</td>\n",
              "      <td>-0.072899</td>\n",
              "      <td>-0.151009</td>\n",
              "    </tr>\n",
              "    <tr>\n",
              "      <th>Total_Protiens</th>\n",
              "      <td>-0.195893</td>\n",
              "      <td>-0.008423</td>\n",
              "      <td>-0.000735</td>\n",
              "      <td>-0.028623</td>\n",
              "      <td>-0.035104</td>\n",
              "      <td>-0.022114</td>\n",
              "      <td>1.000000</td>\n",
              "      <td>0.783800</td>\n",
              "      <td>0.234576</td>\n",
              "      <td>0.036443</td>\n",
              "    </tr>\n",
              "    <tr>\n",
              "      <th>Albumin</th>\n",
              "      <td>-0.269448</td>\n",
              "      <td>-0.223979</td>\n",
              "      <td>-0.230650</td>\n",
              "      <td>-0.166287</td>\n",
              "      <td>-0.026890</td>\n",
              "      <td>-0.084821</td>\n",
              "      <td>0.783800</td>\n",
              "      <td>1.000000</td>\n",
              "      <td>0.687438</td>\n",
              "      <td>0.165273</td>\n",
              "    </tr>\n",
              "    <tr>\n",
              "      <th>Albumin_and_Globulin_Ratio</th>\n",
              "      <td>-0.215967</td>\n",
              "      <td>-0.207740</td>\n",
              "      <td>-0.201519</td>\n",
              "      <td>-0.236251</td>\n",
              "      <td>-0.006525</td>\n",
              "      <td>-0.072899</td>\n",
              "      <td>0.234576</td>\n",
              "      <td>0.687438</td>\n",
              "      <td>1.000000</td>\n",
              "      <td>0.171402</td>\n",
              "    </tr>\n",
              "    <tr>\n",
              "      <th>Dataset</th>\n",
              "      <td>-0.133821</td>\n",
              "      <td>-0.224467</td>\n",
              "      <td>-0.250926</td>\n",
              "      <td>-0.186057</td>\n",
              "      <td>-0.161617</td>\n",
              "      <td>-0.151009</td>\n",
              "      <td>0.036443</td>\n",
              "      <td>0.165273</td>\n",
              "      <td>0.171402</td>\n",
              "      <td>1.000000</td>\n",
              "    </tr>\n",
              "  </tbody>\n",
              "</table>\n",
              "</div>"
            ],
            "text/plain": [
              "                                 Age  ...   Dataset\n",
              "Age                         1.000000  ... -0.133821\n",
              "Total_Bilirubin             0.010704  ... -0.224467\n",
              "Direct_Bilirubin            0.006268  ... -0.250926\n",
              "Alkaline_Phosphotase        0.080085  ... -0.186057\n",
              "Alamine_Aminotransferase   -0.084319  ... -0.161617\n",
              "Aspartate_Aminotransferase -0.017352  ... -0.151009\n",
              "Total_Protiens             -0.195893  ...  0.036443\n",
              "Albumin                    -0.269448  ...  0.165273\n",
              "Albumin_and_Globulin_Ratio -0.215967  ...  0.171402\n",
              "Dataset                    -0.133821  ...  1.000000\n",
              "\n",
              "[10 rows x 10 columns]"
            ]
          },
          "metadata": {},
          "execution_count": 21
        }
      ]
    },
    {
      "cell_type": "code",
      "metadata": {
        "colab": {
          "base_uri": "https://localhost:8080/",
          "height": 745
        },
        "id": "nfFvEAIDERyv",
        "outputId": "61092bd9-3310-4160-f01a-f607751e11c8"
      },
      "source": [
        "#creating a heatmap using correlation value\n",
        "fig, ax = plt.subplots(figsize=(10,10)) \n",
        "\n",
        "sns.heatmap(df1.corr(),annot=True,ax=ax)"
      ],
      "execution_count": 22,
      "outputs": [
        {
          "output_type": "execute_result",
          "data": {
            "text/plain": [
              "<matplotlib.axes._subplots.AxesSubplot at 0x7efc71b9e2d0>"
            ]
          },
          "metadata": {},
          "execution_count": 22
        },
        {
          "output_type": "display_data",
          "data": {
            "image/png": "[encoded data removed]",
            "text/plain": [
              "<Figure size 720x720 with 2 Axes>"
            ]
          },
          "metadata": {
            "needs_background": "light"
          }
        }
      ]
    },
    {
      "cell_type": "code",
      "metadata": {
        "colab": {
          "base_uri": "https://localhost:8080/",
          "height": 965
        },
        "id": "ehbN-HxmFvJN",
        "outputId": "085f3d0d-adb9-4d52-d30f-19c2f2242699"
      },
      "source": [
        "#seeing no of people having jaundice at what age.\n",
        "df_avg_billirubin=df1.groupby('Age')['Total_Bilirubin'].mean()\n",
        "df_avg_billirubin[15:35].plot.bar(color='red',figsize=(20,20))"
      ],
      "execution_count": 23,
      "outputs": [
        {
          "output_type": "execute_result",
          "data": {
            "text/plain": [
              "<matplotlib.axes._subplots.AxesSubplot at 0x7efc701c1a90>"
            ]
          },
          "metadata": {},
          "execution_count": 23
        },
        {
          "output_type": "display_data",
          "data": {
            "image/png": "[encoded data removed]",
            "text/plain": [
              "<Figure size 1440x1440 with 1 Axes>"
            ]
          },
          "metadata": {
            "needs_background": "light"
          }
        }
      ]
    },
    {
      "cell_type": "code",
      "metadata": {
        "colab": {
          "base_uri": "https://localhost:8080/",
          "height": 766
        },
        "id": "Iw0qTSdeTZN9",
        "outputId": "f325b093-f03f-488e-a9b2-8cde8a895786"
      },
      "source": [
        "df1.boxplot(figsize=(20,16))"
      ],
      "execution_count": 24,
      "outputs": [
        {
          "output_type": "execute_result",
          "data": {
            "text/plain": [
              "<matplotlib.axes._subplots.AxesSubplot at 0x7efc70093850>"
            ]
          },
          "metadata": {},
          "execution_count": 24
        },
        {
          "output_type": "display_data",
          "data": {
            "image/png": "[encoded data removed]",
            "text/plain": [
              "<Figure size 1440x1152 with 1 Axes>"
            ]
          },
          "metadata": {
            "needs_background": "light"
          }
        }
      ]
    },
    {
      "cell_type": "code",
      "metadata": {
        "id": "ni_mvCcRfht3"
      },
      "source": [
        "df1=pd.get_dummies(data=df1,drop_first=True)"
      ],
      "execution_count": 25,
      "outputs": []
    },
    {
      "cell_type": "code",
      "metadata": {
        "colab": {
          "base_uri": "https://localhost:8080/",
          "height": 224
        },
        "id": "bVt5CAnZfU-j",
        "outputId": "0502e8f6-4938-409e-cef3-7fe2383086e2"
      },
      "source": [
        "df1.head()"
      ],
      "execution_count": 26,
      "outputs": [
        {
          "output_type": "execute_result",
          "data": {
            "text/html": [
              "<div>\n",
              "<style scoped>\n",
              "    .dataframe tbody tr th:only-of-type {\n",
              "        vertical-align: middle;\n",
              "    }\n",
              "\n",
              "    .dataframe tbody tr th {\n",
              "        vertical-align: top;\n",
              "    }\n",
              "\n",
              "    .dataframe thead th {\n",
              "        text-align: right;\n",
              "    }\n",
              "</style>\n",
              "<table border=\"1\" class=\"dataframe\">\n",
              "  <thead>\n",
              "    <tr style=\"text-align: right;\">\n",
              "      <th></th>\n",
              "      <th>Age</th>\n",
              "      <th>Total_Bilirubin</th>\n",
              "      <th>Direct_Bilirubin</th>\n",
              "      <th>Alkaline_Phosphotase</th>\n",
              "      <th>Alamine_Aminotransferase</th>\n",
              "      <th>Aspartate_Aminotransferase</th>\n",
              "      <th>Total_Protiens</th>\n",
              "      <th>Albumin</th>\n",
              "      <th>Albumin_and_Globulin_Ratio</th>\n",
              "      <th>Dataset</th>\n",
              "      <th>Gender_Male</th>\n",
              "    </tr>\n",
              "  </thead>\n",
              "  <tbody>\n",
              "    <tr>\n",
              "      <th>0</th>\n",
              "      <td>65</td>\n",
              "      <td>0.7</td>\n",
              "      <td>0.1</td>\n",
              "      <td>187</td>\n",
              "      <td>16</td>\n",
              "      <td>18</td>\n",
              "      <td>6.8</td>\n",
              "      <td>3.3</td>\n",
              "      <td>0.90</td>\n",
              "      <td>1</td>\n",
              "      <td>0</td>\n",
              "    </tr>\n",
              "    <tr>\n",
              "      <th>1</th>\n",
              "      <td>62</td>\n",
              "      <td>10.9</td>\n",
              "      <td>5.5</td>\n",
              "      <td>699</td>\n",
              "      <td>64</td>\n",
              "      <td>100</td>\n",
              "      <td>7.5</td>\n",
              "      <td>3.2</td>\n",
              "      <td>0.74</td>\n",
              "      <td>1</td>\n",
              "      <td>1</td>\n",
              "    </tr>\n",
              "    <tr>\n",
              "      <th>2</th>\n",
              "      <td>62</td>\n",
              "      <td>7.3</td>\n",
              "      <td>4.1</td>\n",
              "      <td>490</td>\n",
              "      <td>60</td>\n",
              "      <td>68</td>\n",
              "      <td>7.0</td>\n",
              "      <td>3.3</td>\n",
              "      <td>0.89</td>\n",
              "      <td>1</td>\n",
              "      <td>1</td>\n",
              "    </tr>\n",
              "    <tr>\n",
              "      <th>3</th>\n",
              "      <td>58</td>\n",
              "      <td>1.0</td>\n",
              "      <td>0.4</td>\n",
              "      <td>182</td>\n",
              "      <td>14</td>\n",
              "      <td>20</td>\n",
              "      <td>6.8</td>\n",
              "      <td>3.4</td>\n",
              "      <td>1.00</td>\n",
              "      <td>1</td>\n",
              "      <td>1</td>\n",
              "    </tr>\n",
              "    <tr>\n",
              "      <th>4</th>\n",
              "      <td>72</td>\n",
              "      <td>3.9</td>\n",
              "      <td>2.0</td>\n",
              "      <td>195</td>\n",
              "      <td>27</td>\n",
              "      <td>59</td>\n",
              "      <td>7.3</td>\n",
              "      <td>2.4</td>\n",
              "      <td>0.40</td>\n",
              "      <td>1</td>\n",
              "      <td>1</td>\n",
              "    </tr>\n",
              "  </tbody>\n",
              "</table>\n",
              "</div>"
            ],
            "text/plain": [
              "   Age  Total_Bilirubin  ...  Dataset  Gender_Male\n",
              "0   65              0.7  ...        1            0\n",
              "1   62             10.9  ...        1            1\n",
              "2   62              7.3  ...        1            1\n",
              "3   58              1.0  ...        1            1\n",
              "4   72              3.9  ...        1            1\n",
              "\n",
              "[5 rows x 11 columns]"
            ]
          },
          "metadata": {},
          "execution_count": 26
        }
      ]
    },
    {
      "cell_type": "code",
      "metadata": {
        "id": "AAoi81LCTlcl"
      },
      "source": [
        "from sklearn.model_selection import cross_val_score, cross_val_predict\n",
        "from sklearn.metrics import mean_squared_error,r2_score\n",
        "from sklearn.model_selection import KFold\n"
      ],
      "execution_count": 27,
      "outputs": []
    },
    {
      "cell_type": "code",
      "metadata": {
        "id": "qxAVc8R5a6-X"
      },
      "source": [
        "y=df1['Dataset']\n"
      ],
      "execution_count": 28,
      "outputs": []
    },
    {
      "cell_type": "code",
      "metadata": {
        "id": "6FVoFwTfdHUc"
      },
      "source": [
        "X=df1.drop('Dataset',axis=1)"
      ],
      "execution_count": 29,
      "outputs": []
    },
    {
      "cell_type": "code",
      "metadata": {
        "id": "BDQ8bCRDajEH"
      },
      "source": [
        "from sklearn.model_selection import train_test_split\n",
        "X_train,X_test,y_train,y_test = train_test_split(X,y,test_size = 0.2)\n"
      ],
      "execution_count": 30,
      "outputs": []
    },
    {
      "cell_type": "code",
      "metadata": {
        "colab": {
          "base_uri": "https://localhost:8080/"
        },
        "id": "FkTbQSDMdP5F",
        "outputId": "37ccc28f-9182-4f1d-ab03-dc2e143e8857"
      },
      "source": [
        "from sklearn.linear_model import LogisticRegression\n",
        "cv=KFold(n_splits=10,random_state=1,shuffle=True)\n",
        "model=LogisticRegression()\n",
        "scores = cross_val_score(model, X_train, y_train, scoring='accuracy', cv=cv, n_jobs=-1)\n",
        "print(np.mean(scores))\n",
        "print(np.median(scores))"
      ],
      "execution_count": 31,
      "outputs": [
        {
          "output_type": "stream",
          "name": "stdout",
          "text": [
            "0.6945893719806764\n",
            "0.692512077294686\n"
          ]
        }
      ]
    },
    {
      "cell_type": "code",
      "metadata": {
        "colab": {
          "base_uri": "https://localhost:8080/"
        },
        "id": "wj18o7KSgBFL",
        "outputId": "70558530-9a76-4f2e-bf4c-e1f7200db350"
      },
      "source": [
        "from sklearn.pipeline import make_pipeline\n",
        "from sklearn.preprocessing import StandardScaler\n",
        "pipe = make_pipeline(StandardScaler(), LogisticRegression())\n",
        "pipe.fit(X_train, y_train) \n",
        "pipe.score(X_test, y_test)"
      ],
      "execution_count": 32,
      "outputs": [
        {
          "output_type": "execute_result",
          "data": {
            "text/plain": [
              "0.7368421052631579"
            ]
          },
          "metadata": {},
          "execution_count": 32
        }
      ]
    },
    {
      "cell_type": "code",
      "metadata": {
        "colab": {
          "base_uri": "https://localhost:8080/"
        },
        "id": "k6PdiqrtinE8",
        "outputId": "a19ba677-a0a6-4103-f1cd-500180189a53"
      },
      "source": [
        "from sklearn.ensemble import RandomForestClassifier\n",
        "model2=RandomForestClassifier(100)\n",
        "scores1 = cross_val_score(model2, X_train, y_train, scoring='accuracy', cv=cv, n_jobs=-1)\n",
        "print(np.mean(scores1))\n",
        "print(np.median(scores1))\n",
        "pipe2=make_pipeline(StandardScaler(),RandomForestClassifier())\n",
        "pipe2.fit(X_train,y_train)\n",
        "pipe2.score(X_test,y_test)"
      ],
      "execution_count": 35,
      "outputs": [
        {
          "output_type": "stream",
          "name": "stdout",
          "text": [
            "0.7079710144927537\n",
            "0.7111111111111111\n"
          ]
        },
        {
          "output_type": "execute_result",
          "data": {
            "text/plain": [
              "0.6842105263157895"
            ]
          },
          "metadata": {},
          "execution_count": 35
        }
      ]
    }
  ]
}