{
  "nbformat": 4,
  "nbformat_minor": 5,
  "metadata": {
    "kernelspec": {
      "name": "python3",
      "display_name": "Python 3.8.5 64-bit ('base': conda)"
    },
    "language_info": {
      "codemirror_mode": {
        "name": "ipython",
        "version": 3
      },
      "file_extension": ".py",
      "mimetype": "text/x-python",
      "name": "python",
      "nbconvert_exporter": "python",
      "pygments_lexer": "ipython3",
      "version": "3.8.5"
    },
    "interpreter": {
      "hash": "2171705a5225fd7ebbf06f3e5565458c0dd1d2f29a4c72232e93f399081d7a5a"
    },
    "colab": {
      "name": "RA1911026010113_Data_Exploration.ipynb",
      "provenance": []
    }
  },
  "cells": [
    {
      "cell_type": "code",
      "metadata": {
        "ExecuteTime": {
          "end_time": "2021-08-26T17:50:23.711586Z",
          "start_time": "2021-08-26T17:50:23.706991Z"
        },
        "id": "H_KFEwk8YzN2"
      },
      "source": [
        "%matplotlib inline\n",
        "\n",
        "from numpy import arange\n",
        "from matplotlib import pyplot as plt\n",
        "from scipy.stats import norm\n",
        "import pandas as pd\n",
        "\n",
        "plt.rcParams['figure.figsize'] = [16, 7]"
      ],
      "id": "H_KFEwk8YzN2",
      "execution_count": 30,
      "outputs": []
    },
    {
      "cell_type": "markdown",
      "metadata": {
        "ExecuteTime": {
          "end_time": "2021-08-26T08:56:37.325513Z",
          "start_time": "2021-08-26T08:56:37.322857Z"
        },
        "id": "ISEnY6OTYzOA"
      },
      "source": [
        "## Load data:"
      ],
      "id": "ISEnY6OTYzOA"
    },
    {
      "cell_type": "markdown",
      "metadata": {
        "id": "9HVUqaSgYzOD"
      },
      "source": [
        "For Each Attribute:\n",
        "   1. Watch time(Minutes)\n",
        "   2. Stream time(minutes)\t\n",
        "   3. Peak viewers\n",
        "   4. Average viewers\t\n",
        "   5. Followers\n",
        "   6. Followers gained\t\n",
        "   7. Views gained\t\n",
        "   8. Mature\n",
        "   9. Language"
      ],
      "id": "9HVUqaSgYzOD"
    },
    {
      "cell_type": "code",
      "metadata": {
        "ExecuteTime": {
          "end_time": "2021-08-26T17:32:55.925322Z",
          "start_time": "2021-08-26T17:32:55.794858Z"
        },
        "colab": {
          "base_uri": "https://localhost:8080/",
          "height": 203
        },
        "id": "TUMKUI2eYzOE",
        "outputId": "99cb5545-10fb-48d2-a801-8478e04384ff"
      },
      "source": [
        "df = pd.read_csv(\"./Apple.csv\")\n",
        "df.head()"
      ],
      "id": "TUMKUI2eYzOE",
      "execution_count": 31,
      "outputs": [
        {
          "output_type": "execute_result",
          "data": {
            "text/html": [
              "<div>\n",
              "<style scoped>\n",
              "    .dataframe tbody tr th:only-of-type {\n",
              "        vertical-align: middle;\n",
              "    }\n",
              "\n",
              "    .dataframe tbody tr th {\n",
              "        vertical-align: top;\n",
              "    }\n",
              "\n",
              "    .dataframe thead th {\n",
              "        text-align: right;\n",
              "    }\n",
              "</style>\n",
              "<table border=\"1\" class=\"dataframe\">\n",
              "  <thead>\n",
              "    <tr style=\"text-align: right;\">\n",
              "      <th></th>\n",
              "      <th>Date</th>\n",
              "      <th>Open</th>\n",
              "      <th>High</th>\n",
              "      <th>Low</th>\n",
              "      <th>Close</th>\n",
              "      <th>Adj Close</th>\n",
              "      <th>Volume</th>\n",
              "    </tr>\n",
              "  </thead>\n",
              "  <tbody>\n",
              "    <tr>\n",
              "      <th>0</th>\n",
              "      <td>1980-12-12</td>\n",
              "      <td>0.128348</td>\n",
              "      <td>0.128906</td>\n",
              "      <td>0.128348</td>\n",
              "      <td>0.128348</td>\n",
              "      <td>0.101261</td>\n",
              "      <td>469033600.0</td>\n",
              "    </tr>\n",
              "    <tr>\n",
              "      <th>1</th>\n",
              "      <td>1980-12-15</td>\n",
              "      <td>0.122210</td>\n",
              "      <td>0.122210</td>\n",
              "      <td>0.121652</td>\n",
              "      <td>0.121652</td>\n",
              "      <td>0.095978</td>\n",
              "      <td>175884800.0</td>\n",
              "    </tr>\n",
              "    <tr>\n",
              "      <th>2</th>\n",
              "      <td>1980-12-16</td>\n",
              "      <td>0.113281</td>\n",
              "      <td>0.113281</td>\n",
              "      <td>0.112723</td>\n",
              "      <td>0.112723</td>\n",
              "      <td>0.088934</td>\n",
              "      <td>105728000.0</td>\n",
              "    </tr>\n",
              "    <tr>\n",
              "      <th>3</th>\n",
              "      <td>1980-12-17</td>\n",
              "      <td>0.115513</td>\n",
              "      <td>0.116071</td>\n",
              "      <td>0.115513</td>\n",
              "      <td>0.115513</td>\n",
              "      <td>0.091135</td>\n",
              "      <td>86441600.0</td>\n",
              "    </tr>\n",
              "    <tr>\n",
              "      <th>4</th>\n",
              "      <td>1980-12-18</td>\n",
              "      <td>0.118862</td>\n",
              "      <td>0.119420</td>\n",
              "      <td>0.118862</td>\n",
              "      <td>0.118862</td>\n",
              "      <td>0.093777</td>\n",
              "      <td>73449600.0</td>\n",
              "    </tr>\n",
              "  </tbody>\n",
              "</table>\n",
              "</div>"
            ],
            "text/plain": [
              "         Date      Open      High       Low     Close  Adj Close       Volume\n",
              "0  1980-12-12  0.128348  0.128906  0.128348  0.128348   0.101261  469033600.0\n",
              "1  1980-12-15  0.122210  0.122210  0.121652  0.121652   0.095978  175884800.0\n",
              "2  1980-12-16  0.113281  0.113281  0.112723  0.112723   0.088934  105728000.0\n",
              "3  1980-12-17  0.115513  0.116071  0.115513  0.115513   0.091135   86441600.0\n",
              "4  1980-12-18  0.118862  0.119420  0.118862  0.118862   0.093777   73449600.0"
            ]
          },
          "metadata": {},
          "execution_count": 31
        }
      ]
    },
    {
      "cell_type": "code",
      "metadata": {
        "ExecuteTime": {
          "end_time": "2021-08-26T17:32:56.852446Z",
          "start_time": "2021-08-26T17:32:56.846952Z"
        },
        "colab": {
          "base_uri": "https://localhost:8080/"
        },
        "id": "dhJa_RiXYzOH",
        "outputId": "704a3212-1c69-4dd3-d2af-8cdb6f942580"
      },
      "source": [
        "df.dtypes"
      ],
      "id": "dhJa_RiXYzOH",
      "execution_count": 32,
      "outputs": [
        {
          "output_type": "execute_result",
          "data": {
            "text/plain": [
              "Date          object\n",
              "Open         float64\n",
              "High         float64\n",
              "Low          float64\n",
              "Close        float64\n",
              "Adj Close    float64\n",
              "Volume       float64\n",
              "dtype: object"
            ]
          },
          "metadata": {},
          "execution_count": 32
        }
      ]
    },
    {
      "cell_type": "code",
      "metadata": {
        "ExecuteTime": {
          "end_time": "2021-08-26T17:34:00.338178Z",
          "start_time": "2021-08-26T17:34:00.326876Z"
        },
        "colab": {
          "base_uri": "https://localhost:8080/"
        },
        "id": "Tp_u61xMYzOI",
        "outputId": "529d5ef2-95df-4df2-f720-ee0ae0c2c0f6"
      },
      "source": [
        "df.info()"
      ],
      "id": "Tp_u61xMYzOI",
      "execution_count": 33,
      "outputs": [
        {
          "output_type": "stream",
          "name": "stdout",
          "text": [
            "<class 'pandas.core.frame.DataFrame'>\n",
            "RangeIndex: 10016 entries, 0 to 10015\n",
            "Data columns (total 7 columns):\n",
            " #   Column     Non-Null Count  Dtype  \n",
            "---  ------     --------------  -----  \n",
            " 0   Date       10016 non-null  object \n",
            " 1   Open       10015 non-null  float64\n",
            " 2   High       10015 non-null  float64\n",
            " 3   Low        10015 non-null  float64\n",
            " 4   Close      10015 non-null  float64\n",
            " 5   Adj Close  10015 non-null  float64\n",
            " 6   Volume     10015 non-null  float64\n",
            "dtypes: float64(6), object(1)\n",
            "memory usage: 547.9+ KB\n"
          ]
        }
      ]
    },
    {
      "cell_type": "code",
      "metadata": {
        "ExecuteTime": {
          "end_time": "2021-08-26T17:34:16.096480Z",
          "start_time": "2021-08-26T17:34:16.091251Z"
        },
        "colab": {
          "base_uri": "https://localhost:8080/"
        },
        "id": "wExk4SEIYzOJ",
        "outputId": "9daa2e7a-76d6-402a-e172-0f0777ddc0ac"
      },
      "source": [
        "df.memory_usage() # in bytes"
      ],
      "id": "wExk4SEIYzOJ",
      "execution_count": 34,
      "outputs": [
        {
          "output_type": "execute_result",
          "data": {
            "text/plain": [
              "Index          128\n",
              "Date         80128\n",
              "Open         80128\n",
              "High         80128\n",
              "Low          80128\n",
              "Close        80128\n",
              "Adj Close    80128\n",
              "Volume       80128\n",
              "dtype: int64"
            ]
          },
          "metadata": {},
          "execution_count": 34
        }
      ]
    },
    {
      "cell_type": "code",
      "metadata": {
        "ExecuteTime": {
          "end_time": "2021-08-26T17:34:21.732967Z",
          "start_time": "2021-08-26T17:34:21.727409Z"
        },
        "colab": {
          "base_uri": "https://localhost:8080/"
        },
        "id": "MCcmwSMMYzOK",
        "outputId": "28a390b4-89f9-43d9-d2ac-64ac2ac4486c"
      },
      "source": [
        "df.memory_usage().sum()"
      ],
      "id": "MCcmwSMMYzOK",
      "execution_count": 35,
      "outputs": [
        {
          "output_type": "execute_result",
          "data": {
            "text/plain": [
              "561024"
            ]
          },
          "metadata": {},
          "execution_count": 35
        }
      ]
    },
    {
      "cell_type": "code",
      "metadata": {
        "ExecuteTime": {
          "end_time": "2021-08-26T17:34:43.583554Z",
          "start_time": "2021-08-26T17:34:43.549449Z"
        },
        "colab": {
          "base_uri": "https://localhost:8080/",
          "height": 295
        },
        "id": "UXE-n368YzOM",
        "outputId": "af9e53eb-a5ed-4bfe-8030-908fdd0e2a9d"
      },
      "source": [
        "df.describe()"
      ],
      "id": "UXE-n368YzOM",
      "execution_count": 36,
      "outputs": [
        {
          "output_type": "execute_result",
          "data": {
            "text/html": [
              "<div>\n",
              "<style scoped>\n",
              "    .dataframe tbody tr th:only-of-type {\n",
              "        vertical-align: middle;\n",
              "    }\n",
              "\n",
              "    .dataframe tbody tr th {\n",
              "        vertical-align: top;\n",
              "    }\n",
              "\n",
              "    .dataframe thead th {\n",
              "        text-align: right;\n",
              "    }\n",
              "</style>\n",
              "<table border=\"1\" class=\"dataframe\">\n",
              "  <thead>\n",
              "    <tr style=\"text-align: right;\">\n",
              "      <th></th>\n",
              "      <th>Open</th>\n",
              "      <th>High</th>\n",
              "      <th>Low</th>\n",
              "      <th>Close</th>\n",
              "      <th>Adj Close</th>\n",
              "      <th>Volume</th>\n",
              "    </tr>\n",
              "  </thead>\n",
              "  <tbody>\n",
              "    <tr>\n",
              "      <th>count</th>\n",
              "      <td>10015.000000</td>\n",
              "      <td>10015.000000</td>\n",
              "      <td>10015.000000</td>\n",
              "      <td>10015.000000</td>\n",
              "      <td>10015.000000</td>\n",
              "      <td>1.001500e+04</td>\n",
              "    </tr>\n",
              "    <tr>\n",
              "      <th>mean</th>\n",
              "      <td>9.013322</td>\n",
              "      <td>9.107720</td>\n",
              "      <td>8.920993</td>\n",
              "      <td>9.018933</td>\n",
              "      <td>8.478195</td>\n",
              "      <td>3.413188e+08</td>\n",
              "    </tr>\n",
              "    <tr>\n",
              "      <th>std</th>\n",
              "      <td>16.842643</td>\n",
              "      <td>17.028099</td>\n",
              "      <td>16.677225</td>\n",
              "      <td>16.868353</td>\n",
              "      <td>16.466161</td>\n",
              "      <td>3.426534e+08</td>\n",
              "    </tr>\n",
              "    <tr>\n",
              "      <th>min</th>\n",
              "      <td>0.049665</td>\n",
              "      <td>0.049665</td>\n",
              "      <td>0.049107</td>\n",
              "      <td>0.049107</td>\n",
              "      <td>0.038743</td>\n",
              "      <td>1.388800e+06</td>\n",
              "    </tr>\n",
              "    <tr>\n",
              "      <th>25%</th>\n",
              "      <td>0.270089</td>\n",
              "      <td>0.275357</td>\n",
              "      <td>0.263951</td>\n",
              "      <td>0.270089</td>\n",
              "      <td>0.229988</td>\n",
              "      <td>1.315944e+08</td>\n",
              "    </tr>\n",
              "    <tr>\n",
              "      <th>50%</th>\n",
              "      <td>0.437500</td>\n",
              "      <td>0.446429</td>\n",
              "      <td>0.430357</td>\n",
              "      <td>0.437500</td>\n",
              "      <td>0.369111</td>\n",
              "      <td>2.285380e+08</td>\n",
              "    </tr>\n",
              "    <tr>\n",
              "      <th>75%</th>\n",
              "      <td>10.064286</td>\n",
              "      <td>10.185000</td>\n",
              "      <td>9.886071</td>\n",
              "      <td>10.102678</td>\n",
              "      <td>8.730120</td>\n",
              "      <td>4.250092e+08</td>\n",
              "    </tr>\n",
              "    <tr>\n",
              "      <th>max</th>\n",
              "      <td>132.759995</td>\n",
              "      <td>134.800003</td>\n",
              "      <td>130.529999</td>\n",
              "      <td>134.179993</td>\n",
              "      <td>134.179993</td>\n",
              "      <td>7.421641e+09</td>\n",
              "    </tr>\n",
              "  </tbody>\n",
              "</table>\n",
              "</div>"
            ],
            "text/plain": [
              "               Open          High  ...     Adj Close        Volume\n",
              "count  10015.000000  10015.000000  ...  10015.000000  1.001500e+04\n",
              "mean       9.013322      9.107720  ...      8.478195  3.413188e+08\n",
              "std       16.842643     17.028099  ...     16.466161  3.426534e+08\n",
              "min        0.049665      0.049665  ...      0.038743  1.388800e+06\n",
              "25%        0.270089      0.275357  ...      0.229988  1.315944e+08\n",
              "50%        0.437500      0.446429  ...      0.369111  2.285380e+08\n",
              "75%       10.064286     10.185000  ...      8.730120  4.250092e+08\n",
              "max      132.759995    134.800003  ...    134.179993  7.421641e+09\n",
              "\n",
              "[8 rows x 6 columns]"
            ]
          },
          "metadata": {},
          "execution_count": 36
        }
      ]
    },
    {
      "cell_type": "markdown",
      "metadata": {
        "ExecuteTime": {
          "end_time": "2021-08-26T17:35:00.903940Z",
          "start_time": "2021-08-26T17:35:00.898758Z"
        },
        "id": "3h7WTRFZYzOO"
      },
      "source": [
        "#### Statistical moments\n",
        "\n",
        "1. Mean (1st moment)\n",
        "2. Variance (2nd moment)\n",
        "3. Skewness (3rd moment)\n",
        "4. Kurtosis (4th moment)"
      ],
      "id": "3h7WTRFZYzOO"
    },
    {
      "cell_type": "code",
      "metadata": {
        "ExecuteTime": {
          "end_time": "2021-08-26T17:35:29.915418Z",
          "start_time": "2021-08-26T17:35:29.908546Z"
        },
        "colab": {
          "base_uri": "https://localhost:8080/"
        },
        "id": "sKRrnP6FYzOP",
        "outputId": "0acedc84-e9d7-492f-ccd7-7263b2109dfa"
      },
      "source": [
        "df.mean()"
      ],
      "id": "sKRrnP6FYzOP",
      "execution_count": 37,
      "outputs": [
        {
          "output_type": "execute_result",
          "data": {
            "text/plain": [
              "Open         9.013322e+00\n",
              "High         9.107720e+00\n",
              "Low          8.920993e+00\n",
              "Close        9.018933e+00\n",
              "Adj Close    8.478195e+00\n",
              "Volume       3.413188e+08\n",
              "dtype: float64"
            ]
          },
          "metadata": {},
          "execution_count": 37
        }
      ]
    },
    {
      "cell_type": "code",
      "metadata": {
        "ExecuteTime": {
          "end_time": "2021-08-26T17:36:07.776815Z",
          "start_time": "2021-08-26T17:36:07.772037Z"
        },
        "colab": {
          "base_uri": "https://localhost:8080/"
        },
        "id": "CIeJorxeYzOP",
        "outputId": "d94a1a76-6133-4207-da45-23651dfb18c8"
      },
      "source": [
        "df['Open'].mean()"
      ],
      "id": "CIeJorxeYzOP",
      "execution_count": 38,
      "outputs": [
        {
          "output_type": "execute_result",
          "data": {
            "text/plain": [
              "9.013321904243641"
            ]
          },
          "metadata": {},
          "execution_count": 38
        }
      ]
    },
    {
      "cell_type": "code",
      "metadata": {
        "ExecuteTime": {
          "end_time": "2021-08-26T17:36:21.105550Z",
          "start_time": "2021-08-26T17:36:21.100944Z"
        },
        "colab": {
          "base_uri": "https://localhost:8080/"
        },
        "id": "tsbNGRFIYzOQ",
        "outputId": "fefe7d4f-cdf2-4d23-c4c0-7f615a9ab630"
      },
      "source": [
        "df['High'].mean()"
      ],
      "id": "tsbNGRFIYzOQ",
      "execution_count": 39,
      "outputs": [
        {
          "output_type": "execute_result",
          "data": {
            "text/plain": [
              "9.107720031253123"
            ]
          },
          "metadata": {},
          "execution_count": 39
        }
      ]
    },
    {
      "cell_type": "code",
      "metadata": {
        "ExecuteTime": {
          "end_time": "2021-08-26T17:37:00.516303Z",
          "start_time": "2021-08-26T17:37:00.509845Z"
        },
        "colab": {
          "base_uri": "https://localhost:8080/"
        },
        "id": "7g8J7QKqYzOS",
        "outputId": "6cee6e92-92ed-4347-bf9d-64e184da9596"
      },
      "source": [
        "df.var()"
      ],
      "id": "7g8J7QKqYzOS",
      "execution_count": 40,
      "outputs": [
        {
          "output_type": "execute_result",
          "data": {
            "text/plain": [
              "Open         2.836746e+02\n",
              "High         2.899561e+02\n",
              "Low          2.781298e+02\n",
              "Close        2.845413e+02\n",
              "Adj Close    2.711345e+02\n",
              "Volume       1.174114e+17\n",
              "dtype: float64"
            ]
          },
          "metadata": {},
          "execution_count": 40
        }
      ]
    },
    {
      "cell_type": "markdown",
      "metadata": {
        "id": "DIZkXPv9YzOT"
      },
      "source": [
        "#### Skewness\n",
        "\n",
        "Skewness is the measure of the symmetry of a distribution compared to standard normal distribution\n",
        "\n",
        " - +ive - right skewed (mean is to the right of mode/median). Long tail in the +ive direction.\n",
        " - 0 - symmetric\n",
        " - -ive - left skewed (mean is to the left of mode/median). Long tail in the -ive direction."
      ],
      "id": "DIZkXPv9YzOT"
    },
    {
      "cell_type": "code",
      "metadata": {
        "ExecuteTime": {
          "end_time": "2021-08-26T17:36:52.403400Z",
          "start_time": "2021-08-26T17:36:52.396839Z"
        },
        "colab": {
          "base_uri": "https://localhost:8080/"
        },
        "id": "P7Z7UuUdYzOU",
        "outputId": "edc96792-f556-439f-cde4-bf81bb0902ba"
      },
      "source": [
        "df.skew()"
      ],
      "id": "P7Z7UuUdYzOU",
      "execution_count": 41,
      "outputs": [
        {
          "output_type": "execute_result",
          "data": {
            "text/plain": [
              "Open         2.616314\n",
              "High         2.627091\n",
              "Low          2.609499\n",
              "Close        2.623214\n",
              "Adj Close    2.790776\n",
              "Volume       3.503450\n",
              "dtype: float64"
            ]
          },
          "metadata": {},
          "execution_count": 41
        }
      ]
    },
    {
      "cell_type": "markdown",
      "metadata": {
        "id": "3PG0ahNdYzOV"
      },
      "source": [
        "#### Kurtosis\n",
        "\n",
        "Kurtosis is a measure of the flatness or peakedness of a distribution compared to the normal distribution.\n",
        "\n",
        " - +ive - Leptokurtosis (sharper/spikier peak compared to the normal dist.)\n",
        " - 0 - Mesokurtic (normal dist.)\n",
        " - -ive - Platykurtic (flatter peak compared to the normal dist.) eg. Uniform distribution"
      ],
      "id": "3PG0ahNdYzOV"
    },
    {
      "cell_type": "code",
      "metadata": {
        "ExecuteTime": {
          "end_time": "2021-08-26T17:37:36.977615Z",
          "start_time": "2021-08-26T17:37:36.970828Z"
        },
        "colab": {
          "base_uri": "https://localhost:8080/"
        },
        "id": "IV6-_ofBYzOV",
        "outputId": "00773043-1412-4794-cf81-78418728272d"
      },
      "source": [
        "df.kurtosis()"
      ],
      "id": "IV6-_ofBYzOV",
      "execution_count": 42,
      "outputs": [
        {
          "output_type": "execute_result",
          "data": {
            "text/plain": [
              "Open          8.178712\n",
              "High          8.263038\n",
              "Low           8.107204\n",
              "Close         8.231585\n",
              "Adj Close     9.375840\n",
              "Volume       29.583545\n",
              "dtype: float64"
            ]
          },
          "metadata": {},
          "execution_count": 42
        }
      ]
    },
    {
      "cell_type": "markdown",
      "metadata": {
        "id": "2HsQgcsDYzOW"
      },
      "source": [
        "#### min / max / median"
      ],
      "id": "2HsQgcsDYzOW"
    },
    {
      "cell_type": "code",
      "metadata": {
        "ExecuteTime": {
          "end_time": "2021-08-26T17:40:59.442641Z",
          "start_time": "2021-08-26T17:40:59.435626Z"
        },
        "colab": {
          "base_uri": "https://localhost:8080/"
        },
        "id": "Y_ZFmU6uYzOW",
        "outputId": "b7f3d4cd-0f01-4432-ccc8-166beb860e28"
      },
      "source": [
        "df.min()"
      ],
      "id": "Y_ZFmU6uYzOW",
      "execution_count": 43,
      "outputs": [
        {
          "output_type": "execute_result",
          "data": {
            "text/plain": [
              "Date         1980-12-12\n",
              "Open           0.049665\n",
              "High           0.049665\n",
              "Low            0.049107\n",
              "Close          0.049107\n",
              "Adj Close      0.038743\n",
              "Volume       1.3888e+06\n",
              "dtype: object"
            ]
          },
          "metadata": {},
          "execution_count": 43
        }
      ]
    },
    {
      "cell_type": "code",
      "metadata": {
        "ExecuteTime": {
          "end_time": "2021-08-26T17:40:59.766425Z",
          "start_time": "2021-08-26T17:40:59.760419Z"
        },
        "colab": {
          "base_uri": "https://localhost:8080/"
        },
        "id": "WhgvX9CbYzOX",
        "outputId": "e53763e8-0117-4c12-cf04-b3c91ffdd706"
      },
      "source": [
        "df.max()"
      ],
      "id": "WhgvX9CbYzOX",
      "execution_count": 44,
      "outputs": [
        {
          "output_type": "execute_result",
          "data": {
            "text/plain": [
              "Date          2020-09-01\n",
              "Open              132.76\n",
              "High               134.8\n",
              "Low               130.53\n",
              "Close             134.18\n",
              "Adj Close         134.18\n",
              "Volume       7.42164e+09\n",
              "dtype: object"
            ]
          },
          "metadata": {},
          "execution_count": 44
        }
      ]
    },
    {
      "cell_type": "code",
      "metadata": {
        "ExecuteTime": {
          "end_time": "2021-08-26T17:40:59.976834Z",
          "start_time": "2021-08-26T17:40:59.971392Z"
        },
        "colab": {
          "base_uri": "https://localhost:8080/"
        },
        "id": "3bVmYCMDYzOY",
        "outputId": "874f000f-6bec-4719-8653-9b0d2bfc65e5"
      },
      "source": [
        "df.median()"
      ],
      "id": "3bVmYCMDYzOY",
      "execution_count": 45,
      "outputs": [
        {
          "output_type": "execute_result",
          "data": {
            "text/plain": [
              "Open         4.375000e-01\n",
              "High         4.464290e-01\n",
              "Low          4.303570e-01\n",
              "Close        4.375000e-01\n",
              "Adj Close    3.691110e-01\n",
              "Volume       2.285380e+08\n",
              "dtype: float64"
            ]
          },
          "metadata": {},
          "execution_count": 45
        }
      ]
    },
    {
      "cell_type": "markdown",
      "metadata": {
        "id": "gEJ5ksrNYzOZ"
      },
      "source": [
        "#### Correlation"
      ],
      "id": "gEJ5ksrNYzOZ"
    },
    {
      "cell_type": "code",
      "metadata": {
        "ExecuteTime": {
          "end_time": "2021-08-26T17:41:16.262428Z",
          "start_time": "2021-08-26T17:41:16.240905Z"
        },
        "colab": {
          "base_uri": "https://localhost:8080/",
          "height": 234
        },
        "id": "Ih-yMPA1YzOZ",
        "outputId": "adcdd8d2-5a25-4a66-e2fc-00e63b265e21"
      },
      "source": [
        "df.corr()"
      ],
      "id": "Ih-yMPA1YzOZ",
      "execution_count": 46,
      "outputs": [
        {
          "output_type": "execute_result",
          "data": {
            "text/html": [
              "<div>\n",
              "<style scoped>\n",
              "    .dataframe tbody tr th:only-of-type {\n",
              "        vertical-align: middle;\n",
              "    }\n",
              "\n",
              "    .dataframe tbody tr th {\n",
              "        vertical-align: top;\n",
              "    }\n",
              "\n",
              "    .dataframe thead th {\n",
              "        text-align: right;\n",
              "    }\n",
              "</style>\n",
              "<table border=\"1\" class=\"dataframe\">\n",
              "  <thead>\n",
              "    <tr style=\"text-align: right;\">\n",
              "      <th></th>\n",
              "      <th>Open</th>\n",
              "      <th>High</th>\n",
              "      <th>Low</th>\n",
              "      <th>Close</th>\n",
              "      <th>Adj Close</th>\n",
              "      <th>Volume</th>\n",
              "    </tr>\n",
              "  </thead>\n",
              "  <tbody>\n",
              "    <tr>\n",
              "      <th>Open</th>\n",
              "      <td>1.000000</td>\n",
              "      <td>0.999932</td>\n",
              "      <td>0.999930</td>\n",
              "      <td>0.999864</td>\n",
              "      <td>0.999004</td>\n",
              "      <td>-0.142183</td>\n",
              "    </tr>\n",
              "    <tr>\n",
              "      <th>High</th>\n",
              "      <td>0.999932</td>\n",
              "      <td>1.000000</td>\n",
              "      <td>0.999894</td>\n",
              "      <td>0.999929</td>\n",
              "      <td>0.999140</td>\n",
              "      <td>-0.141216</td>\n",
              "    </tr>\n",
              "    <tr>\n",
              "      <th>Low</th>\n",
              "      <td>0.999930</td>\n",
              "      <td>0.999894</td>\n",
              "      <td>1.000000</td>\n",
              "      <td>0.999927</td>\n",
              "      <td>0.999050</td>\n",
              "      <td>-0.143716</td>\n",
              "    </tr>\n",
              "    <tr>\n",
              "      <th>Close</th>\n",
              "      <td>0.999864</td>\n",
              "      <td>0.999929</td>\n",
              "      <td>0.999927</td>\n",
              "      <td>1.000000</td>\n",
              "      <td>0.999189</td>\n",
              "      <td>-0.142465</td>\n",
              "    </tr>\n",
              "    <tr>\n",
              "      <th>Adj Close</th>\n",
              "      <td>0.999004</td>\n",
              "      <td>0.999140</td>\n",
              "      <td>0.999050</td>\n",
              "      <td>0.999189</td>\n",
              "      <td>1.000000</td>\n",
              "      <td>-0.149676</td>\n",
              "    </tr>\n",
              "    <tr>\n",
              "      <th>Volume</th>\n",
              "      <td>-0.142183</td>\n",
              "      <td>-0.141216</td>\n",
              "      <td>-0.143716</td>\n",
              "      <td>-0.142465</td>\n",
              "      <td>-0.149676</td>\n",
              "      <td>1.000000</td>\n",
              "    </tr>\n",
              "  </tbody>\n",
              "</table>\n",
              "</div>"
            ],
            "text/plain": [
              "               Open      High       Low     Close  Adj Close    Volume\n",
              "Open       1.000000  0.999932  0.999930  0.999864   0.999004 -0.142183\n",
              "High       0.999932  1.000000  0.999894  0.999929   0.999140 -0.141216\n",
              "Low        0.999930  0.999894  1.000000  0.999927   0.999050 -0.143716\n",
              "Close      0.999864  0.999929  0.999927  1.000000   0.999189 -0.142465\n",
              "Adj Close  0.999004  0.999140  0.999050  0.999189   1.000000 -0.149676\n",
              "Volume    -0.142183 -0.141216 -0.143716 -0.142465  -0.149676  1.000000"
            ]
          },
          "metadata": {},
          "execution_count": 46
        }
      ]
    },
    {
      "cell_type": "code",
      "metadata": {
        "ExecuteTime": {
          "end_time": "2021-08-27T06:29:22.118315Z",
          "start_time": "2021-08-27T06:29:21.711121Z"
        },
        "id": "1AZQ7bsFYzOa"
      },
      "source": [
        "import seaborn as sns"
      ],
      "id": "1AZQ7bsFYzOa",
      "execution_count": 47,
      "outputs": []
    },
    {
      "cell_type": "code",
      "metadata": {
        "ExecuteTime": {
          "end_time": "2021-08-27T06:31:20.392759Z",
          "start_time": "2021-08-27T06:31:19.694837Z"
        },
        "colab": {
          "base_uri": "https://localhost:8080/",
          "height": 449
        },
        "id": "V3h_AaowYzOa",
        "outputId": "d357840f-8cea-49ad-8807-3be08abbf73e"
      },
      "source": [
        "sns.heatmap(df.corr(), annot=True)"
      ],
      "id": "V3h_AaowYzOa",
      "execution_count": 48,
      "outputs": [
        {
          "output_type": "execute_result",
          "data": {
            "text/plain": [
              "<matplotlib.axes._subplots.AxesSubplot at 0x7f5df9958b50>"
            ]
          },
          "metadata": {},
          "execution_count": 48
        },
        {
          "output_type": "display_data",
          "data": {
            "image/png": "[encoded data removed]",
            "text/plain": [
              "<Figure size 1152x504 with 2 Axes>"
            ]
          },
          "metadata": {
            "needs_background": "light"
          }
        }
      ]
    },
    {
      "cell_type": "markdown",
      "metadata": {
        "id": "p-3WTQ0SYzOa"
      },
      "source": [
        "### Lineplot"
      ],
      "id": "p-3WTQ0SYzOa"
    },
    {
      "cell_type": "code",
      "metadata": {
        "ExecuteTime": {
          "end_time": "2021-08-26T17:50:27.813348Z",
          "start_time": "2021-08-26T17:50:27.625928Z"
        },
        "colab": {
          "base_uri": "https://localhost:8080/",
          "height": 351
        },
        "id": "g2J8KxZzYzOb",
        "outputId": "56c13a1a-d6fb-4089-db63-c4a2365460d9"
      },
      "source": [
        "df['Low'].plot(figsize=(12, 5), color='black')\n",
        "\n",
        "plt.xlabel('Count')\n",
        "plt.ylabel('Price')\n"
      ],
      "id": "g2J8KxZzYzOb",
      "execution_count": 54,
      "outputs": [
        {
          "output_type": "execute_result",
          "data": {
            "text/plain": [
              "Text(0, 0.5, 'Price')"
            ]
          },
          "metadata": {},
          "execution_count": 54
        },
        {
          "output_type": "display_data",
          "data": {
            "image/png": "[encoded data removed]",
            "text/plain": [
              "<Figure size 864x360 with 1 Axes>"
            ]
          },
          "metadata": {
            "needs_background": "light"
          }
        }
      ]
    },
    {
      "cell_type": "markdown",
      "metadata": {
        "id": "B9CZ9i1lYzOc"
      },
      "source": [
        "### Scatterplot"
      ],
      "id": "B9CZ9i1lYzOc"
    },
    {
      "cell_type": "code",
      "metadata": {
        "ExecuteTime": {
          "end_time": "2021-08-26T17:50:31.645936Z",
          "start_time": "2021-08-26T17:50:31.474508Z"
        },
        "colab": {
          "base_uri": "https://localhost:8080/",
          "height": 353
        },
        "id": "Y2WIA129YzOc",
        "outputId": "047198aa-83da-4922-eb23-786e2826fc75"
      },
      "source": [
        "df.plot.scatter('Close', 'Adj Close', figsize=(8, 5))"
      ],
      "id": "Y2WIA129YzOc",
      "execution_count": 53,
      "outputs": [
        {
          "output_type": "execute_result",
          "data": {
            "text/plain": [
              "<matplotlib.axes._subplots.AxesSubplot at 0x7f5df959ba50>"
            ]
          },
          "metadata": {},
          "execution_count": 53
        },
        {
          "output_type": "display_data",
          "data": {
            "image/png": "[encoded data removed]",
            "text/plain": [
              "<Figure size 576x360 with 1 Axes>"
            ]
          },
          "metadata": {
            "needs_background": "light"
          }
        }
      ]
    },
    {
      "cell_type": "markdown",
      "metadata": {
        "id": "zyNNkcIOYzOc"
      },
      "source": [
        "### Boxplot"
      ],
      "id": "zyNNkcIOYzOc"
    },
    {
      "cell_type": "code",
      "metadata": {
        "ExecuteTime": {
          "end_time": "2021-08-26T17:51:00.025661Z",
          "start_time": "2021-08-26T17:50:59.903505Z"
        },
        "colab": {
          "base_uri": "https://localhost:8080/",
          "height": 348
        },
        "id": "3RvjqK24YzOd",
        "outputId": "433bbac4-30c8-4fa2-db0b-296b8f278b98"
      },
      "source": [
        "df['Volume'].plot.box(figsize=(8, 5))"
      ],
      "id": "3RvjqK24YzOd",
      "execution_count": 55,
      "outputs": [
        {
          "output_type": "execute_result",
          "data": {
            "text/plain": [
              "<matplotlib.axes._subplots.AxesSubplot at 0x7f5df94d6ad0>"
            ]
          },
          "metadata": {},
          "execution_count": 55
        },
        {
          "output_type": "display_data",
          "data": {
            "image/png": "[encoded data removed]",
            "text/plain": [
              "<Figure size 576x360 with 1 Axes>"
            ]
          },
          "metadata": {
            "needs_background": "light"
          }
        }
      ]
    },
    {
      "cell_type": "code",
      "metadata": {
        "ExecuteTime": {
          "end_time": "2021-08-26T17:51:05.416226Z",
          "start_time": "2021-08-26T17:51:05.093999Z"
        },
        "colab": {
          "base_uri": "https://localhost:8080/",
          "height": 348
        },
        "id": "UnItTDD2YzOd",
        "outputId": "9b7aab84-4665-4a5a-a667-e74e3f28e26b"
      },
      "source": [
        "df.boxplot(figsize=(16, 5))\n",
        "# Due to the size of data in \"Volume\" the rest are showing up as dots"
      ],
      "id": "UnItTDD2YzOd",
      "execution_count": 58,
      "outputs": [
        {
          "output_type": "execute_result",
          "data": {
            "text/plain": [
              "<matplotlib.axes._subplots.AxesSubplot at 0x7f5df925d910>"
            ]
          },
          "metadata": {},
          "execution_count": 58
        },
        {
          "output_type": "display_data",
          "data": {
            "image/png": "[encoded data removed]",
            "text/plain": [
              "<Figure size 1152x360 with 1 Axes>"
            ]
          },
          "metadata": {
            "needs_background": "light"
          }
        }
      ]
    },
    {
      "cell_type": "markdown",
      "metadata": {
        "id": "kwkMPfwhYzOe"
      },
      "source": [
        "### Histogram"
      ],
      "id": "kwkMPfwhYzOe"
    },
    {
      "cell_type": "code",
      "metadata": {
        "ExecuteTime": {
          "end_time": "2021-08-26T17:51:23.136327Z",
          "start_time": "2021-08-26T17:51:22.956951Z"
        },
        "colab": {
          "base_uri": "https://localhost:8080/",
          "height": 337
        },
        "id": "lo07vD1CYzOe",
        "outputId": "90241a76-3172-45cc-b73d-64e9890b7e16"
      },
      "source": [
        "df['High'].hist(bins=100, figsize=(8, 5))"
      ],
      "id": "lo07vD1CYzOe",
      "execution_count": 59,
      "outputs": [
        {
          "output_type": "execute_result",
          "data": {
            "text/plain": [
              "<matplotlib.axes._subplots.AxesSubplot at 0x7f5df9168510>"
            ]
          },
          "metadata": {},
          "execution_count": 59
        },
        {
          "output_type": "display_data",
          "data": {
            "image/png": "[encoded data removed]",
            "text/plain": [
              "<Figure size 576x360 with 1 Axes>"
            ]
          },
          "metadata": {
            "needs_background": "light"
          }
        }
      ]
    },
    {
      "cell_type": "markdown",
      "metadata": {
        "id": "ThLdabaMYzOf"
      },
      "source": [
        "### Barplot\n",
        "The bar charts are used to visualize categorical data (nominal or ordinal values) and the height shows the value it represents"
      ],
      "id": "ThLdabaMYzOf"
    },
    {
      "cell_type": "code",
      "metadata": {
        "ExecuteTime": {
          "end_time": "2021-08-26T18:06:20.658635Z",
          "start_time": "2021-08-26T18:06:20.450888Z"
        },
        "colab": {
          "base_uri": "https://localhost:8080/",
          "height": 507
        },
        "id": "t6u3B2M3YzOg",
        "outputId": "8f77d159-08cd-483c-ff84-63e7292a675d"
      },
      "source": [
        "df_avg_stream_time = df.groupby('Date')['High'].mean()\n",
        "df_avg_stream_time[-20:].plot.bar(color='orange')"
      ],
      "id": "t6u3B2M3YzOg",
      "execution_count": 72,
      "outputs": [
        {
          "output_type": "execute_result",
          "data": {
            "text/plain": [
              "<matplotlib.axes._subplots.AxesSubplot at 0x7f5df8509510>"
            ]
          },
          "metadata": {},
          "execution_count": 72
        },
        {
          "output_type": "display_data",
          "data": {
            "image/png": "[encoded data removed]",
            "text/plain": [
              "<Figure size 1152x504 with 1 Axes>"
            ]
          },
          "metadata": {
            "needs_background": "light"
          }
        }
      ]
    },
    {
      "cell_type": "code",
      "metadata": {
        "ExecuteTime": {
          "end_time": "2021-08-26T18:06:50.301927Z",
          "start_time": "2021-08-26T18:06:50.115187Z"
        },
        "colab": {
          "base_uri": "https://localhost:8080/",
          "height": 456
        },
        "id": "g94HMkvAYzOg",
        "outputId": "69dece5f-c5cf-47bd-e3d9-b5782342454b"
      },
      "source": [
        "ax = df[['Date', 'Close']][:10].plot.bar(stacked=True)\n",
        "\n",
        "ax.set_xlabel(\"Date\")\n",
        "ax.set_ylabel(\"Close\")"
      ],
      "id": "g94HMkvAYzOg",
      "execution_count": 76,
      "outputs": [
        {
          "output_type": "execute_result",
          "data": {
            "text/plain": [
              "Text(0, 0.5, 'Close')"
            ]
          },
          "metadata": {},
          "execution_count": 76
        },
        {
          "output_type": "display_data",
          "data": {
            "image/png": "[encoded data removed]",
            "text/plain": [
              "<Figure size 1152x504 with 1 Axes>"
            ]
          },
          "metadata": {
            "needs_background": "light"
          }
        }
      ]
    },
    {
      "cell_type": "markdown",
      "metadata": {
        "id": "71-dHWDEYzOh"
      },
      "source": [
        "### Multiple Plots"
      ],
      "id": "71-dHWDEYzOh"
    },
    {
      "cell_type": "code",
      "metadata": {
        "ExecuteTime": {
          "end_time": "2021-08-26T18:06:54.886228Z",
          "start_time": "2021-08-26T18:06:54.263723Z"
        },
        "colab": {
          "base_uri": "https://localhost:8080/",
          "height": 585
        },
        "id": "otk-kP5VYzOh",
        "outputId": "3f70bf59-42b9-4a8b-822a-22196c31314a"
      },
      "source": [
        "fig, axes = plt.subplots(2, 2, figsize=(12, 8))\n",
        "\n",
        "df['High'].plot(ax=axes[0][0], style='.', color='red')  # top left\n",
        "df['Low'].plot(ax=axes[0][1], style='.', color='blue')  # top right\n",
        "\n",
        "df['Open'].plot.hist(\n",
        "    bins=30, ax=axes[1][0], color='black')  # bottom left\n",
        "df['Close'].plot.hist(\n",
        "    bins=20, ax=axes[1][1], color='gray')  # bottom right\n",
        "\n",
        "axes[0][0].set_xlabel('Price')\n",
        "axes[0][1].set_xlabel('Price')\n",
        "axes[1][0].set_xlabel('Price')\n",
        "axes[1][1].set_xlabel('Price')\n",
        "\n",
        "axes[0][0].set_ylabel('Count')\n",
        "axes[0][1].set_ylabel('Count')\n",
        "\n",
        "fig.tight_layout()"
      ],
      "id": "otk-kP5VYzOh",
      "execution_count": 71,
      "outputs": [
        {
          "output_type": "display_data",
          "data": {
            "image/png": "[encoded data removed]",
            "text/plain": [
              "<Figure size 864x576 with 4 Axes>"
            ]
          },
          "metadata": {
            "needs_background": "light"
          }
        }
      ]
    }
  ]
}