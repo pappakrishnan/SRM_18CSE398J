{
  "nbformat": 4,
  "nbformat_minor": 0,
  "metadata": {
    "colab": {
      "name": "RA1911026010114_Logistic_Regression.ipynb",
      "provenance": []
    },
    "kernelspec": {
      "display_name": "Python 3",
      "language": "python",
      "name": "python3"
    },
    "language_info": {
      "codemirror_mode": {
        "name": "ipython",
        "version": 3
      },
      "file_extension": ".py",
      "mimetype": "text/x-python",
      "name": "python",
      "nbconvert_exporter": "python",
      "pygments_lexer": "ipython3",
      "version": "3.7.6"
    }
  },
  "cells": [
    {
      "cell_type": "code",
      "metadata": {
        "id": "XuZcL95-t71o"
      },
      "source": [
        "import numpy as np\n",
        "import matplotlib.pyplot as plt\n",
        "import pandas as pd\n",
        "from sklearn.model_selection import KFold \n",
        "from sklearn.model_selection import train_test_split\n",
        "from sklearn.preprocessing import StandardScaler\n",
        "from sklearn.linear_model import LogisticRegression\n",
        "from sklearn.metrics import confusion_matrix,accuracy_score"
      ],
      "execution_count": 19,
      "outputs": []
    },
    {
      "cell_type": "code",
      "metadata": {
        "colab": {
          "base_uri": "https://localhost:8080/"
        },
        "id": "XnVq4QzzjxBF",
        "outputId": "81932b2f-80d2-4ca1-db1e-875d2239b96b"
      },
      "source": [
        "from google.colab import drive\n",
        "drive.mount('/content/drive')"
      ],
      "execution_count": 20,
      "outputs": [
        {
          "output_type": "stream",
          "name": "stdout",
          "text": [
            "Drive already mounted at /content/drive; to attempt to forcibly remount, call drive.mount(\"/content/drive\", force_remount=True).\n"
          ]
        }
      ]
    },
    {
      "cell_type": "code",
      "metadata": {
        "colab": {
          "base_uri": "https://localhost:8080/"
        },
        "id": "VnRAfqUOkAKm",
        "outputId": "237eb201-8d70-4f77-f522-deb434658bde"
      },
      "source": [
        "dataset=pd.read_csv(r'/content/drive/MyDrive/ml datasets/Facebook_Ads.csv',encoding='latin-1')     #dataset imported\n",
        "print(dataset)\n",
        "x = dataset.iloc[:,3:-1].values\n",
        "y = dataset.iloc[:,-1].values"
      ],
      "execution_count": 21,
      "outputs": [
        {
          "output_type": "stream",
          "name": "stdout",
          "text": [
            "               Names  ... Clicked\n",
            "0      Martina Avila  ...       0\n",
            "1      Harlan Barnes  ...       1\n",
            "2    Naomi Rodriquez  ...       0\n",
            "3    Jade Cunningham  ...       1\n",
            "4       Cedric Leach  ...       0\n",
            "..               ...  ...     ...\n",
            "494            Rigel  ...       0\n",
            "495           Walter  ...       0\n",
            "496            Vanna  ...       0\n",
            "497            Pearl  ...       0\n",
            "498             Nell  ...       1\n",
            "\n",
            "[499 rows x 6 columns]\n"
          ]
        }
      ]
    },
    {
      "cell_type": "code",
      "metadata": {
        "id": "-CX3nPrzuGgD"
      },
      "source": [
        "x_train,x_test,y_train,y_test = train_test_split(x,y,test_size=0.25,random_state=0)"
      ],
      "execution_count": 22,
      "outputs": []
    },
    {
      "cell_type": "code",
      "metadata": {
        "id": "W_6BCeWRuKbL"
      },
      "source": [
        "ss = StandardScaler()\n",
        "x_train = ss.fit_transform(x_train)\n",
        "x_test = ss.transform(x_test)"
      ],
      "execution_count": 23,
      "outputs": []
    },
    {
      "cell_type": "code",
      "metadata": {
        "colab": {
          "base_uri": "https://localhost:8080/"
        },
        "id": "3PVHu8uMuODb",
        "outputId": "4c85be7c-8b44-4576-b34d-685b4960fff6"
      },
      "source": [
        "lr = LogisticRegression(random_state=0)\n",
        "lr.fit(x_train,y_train)"
      ],
      "execution_count": 24,
      "outputs": [
        {
          "output_type": "execute_result",
          "data": {
            "text/plain": [
              "LogisticRegression(C=1.0, class_weight=None, dual=False, fit_intercept=True,\n",
              "                   intercept_scaling=1, l1_ratio=None, max_iter=100,\n",
              "                   multi_class='auto', n_jobs=None, penalty='l2',\n",
              "                   random_state=0, solver='lbfgs', tol=0.0001, verbose=0,\n",
              "                   warm_start=False)"
            ]
          },
          "metadata": {},
          "execution_count": 24
        }
      ]
    },
    {
      "cell_type": "code",
      "metadata": {
        "id": "OM8fV2ozuTP8"
      },
      "source": [
        "y_pred = lr.predict(x_test)"
      ],
      "execution_count": 25,
      "outputs": []
    },
    {
      "cell_type": "code",
      "metadata": {
        "colab": {
          "base_uri": "https://localhost:8080/"
        },
        "id": "HK24DAbKuZ40",
        "outputId": "3ede99b7-a829-44d5-e60d-86efc5a499ea"
      },
      "source": [
        "cm = confusion_matrix(y_test,y_pred)\n",
        "print(cm)\n",
        "acs = accuracy_score(y_test,y_pred)\n",
        "print(acs)"
      ],
      "execution_count": 26,
      "outputs": [
        {
          "output_type": "stream",
          "name": "stdout",
          "text": [
            "[[53  8]\n",
            " [12 52]]\n",
            "0.84\n"
          ]
        }
      ]
    },
    {
      "cell_type": "code",
      "metadata": {
        "colab": {
          "base_uri": "https://localhost:8080/"
        },
        "id": "xvedijloudK7",
        "outputId": "bd5f08bb-c637-4eab-b386-3370ba1ca241"
      },
      "source": [
        "k = 15\n",
        "kf = KFold(n_splits=15, random_state=None)\n",
        "model = LogisticRegression(random_state=0)\n",
        " \n",
        "acc_score = []\n",
        " \n",
        "for train_index , test_index in kf.split(x):\n",
        "    X_train , X_test = x[train_index,:],x[test_index,:]\n",
        "    y_train , y_test = y[train_index] , y[test_index]\n",
        "    model.fit(X_train,y_train)\n",
        "    pred_values = model.predict(X_test)\n",
        "    acc = accuracy_score(pred_values , y_test)\n",
        "    acc_score.append(acc)\n",
        "\n",
        "avg_acc_score = sum(acc_score)/k\n",
        " \n",
        "print('Accuracy of each fold - {}'.format(acc_score))\n",
        "print('Avg accuracy : {}'.format(avg_acc_score))"
      ],
      "execution_count": 27,
      "outputs": [
        {
          "output_type": "stream",
          "name": "stdout",
          "text": [
            "Accuracy of each fold - [0.47058823529411764, 0.5294117647058824, 0.5, 0.7352941176470589, 0.6363636363636364, 0.45454545454545453, 0.5151515151515151, 0.48484848484848486, 0.48484848484848486, 0.45454545454545453, 0.5757575757575758, 0.9393939393939394, 0.48484848484848486, 0.45454545454545453, 0.45454545454545453]\n",
            "Avg accuracy : 0.5449792038027331\n"
          ]
        }
      ]
    }
  ]
}