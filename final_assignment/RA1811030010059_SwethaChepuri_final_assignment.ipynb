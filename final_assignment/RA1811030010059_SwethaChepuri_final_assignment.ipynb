{
 "cells": [
  {
   "cell_type": "markdown",
   "metadata": {},
   "source": [
    "# Stock Market Prediction and Forecasting Using Stacked LSTM\n",
    "\n",
    "\n",
    "## by  Swetha Chepuri\n",
    "\n"
   ]
  },
  {
   "cell_type": "markdown",
   "metadata": {},
   "source": [
    "import libraries"
   ]
  },
  {
   "cell_type": "code",
   "execution_count": 1,
   "metadata": {},
   "outputs": [],
   "source": [
    "import numpy as np\n",
    "import pandas as pd\n",
    "import matplotlib.pyplot as plt"
   ]
  },
  {
   "cell_type": "markdown",
   "metadata": {},
   "source": [
    "load dataset"
   ]
  },
  {
   "cell_type": "code",
   "execution_count": 2,
   "metadata": {},
   "outputs": [],
   "source": [
    "url=\"https://raw.githubusercontent.com/mwitiderrick/stockprice/master/NSE-TATAGLOBAL.csv\"\n",
    "dataset_train=pd.read_csv(url)\n",
    "training_set= dataset_train.iloc[:,1:2].values"
   ]
  },
  {
   "cell_type": "markdown",
   "metadata": {},
   "source": [
    "first five values of the dataset"
   ]
  },
  {
   "cell_type": "code",
   "execution_count": 3,
   "metadata": {},
   "outputs": [
    {
     "data": {
      "text/html": [
       "<div>\n",
       "<style scoped>\n",
       "    .dataframe tbody tr th:only-of-type {\n",
       "        vertical-align: middle;\n",
       "    }\n",
       "\n",
       "    .dataframe tbody tr th {\n",
       "        vertical-align: top;\n",
       "    }\n",
       "\n",
       "    .dataframe thead th {\n",
       "        text-align: right;\n",
       "    }\n",
       "</style>\n",
       "<table border=\"1\" class=\"dataframe\">\n",
       "  <thead>\n",
       "    <tr style=\"text-align: right;\">\n",
       "      <th></th>\n",
       "      <th>Date</th>\n",
       "      <th>Open</th>\n",
       "      <th>High</th>\n",
       "      <th>Low</th>\n",
       "      <th>Last</th>\n",
       "      <th>Close</th>\n",
       "      <th>Total Trade Quantity</th>\n",
       "      <th>Turnover (Lacs)</th>\n",
       "    </tr>\n",
       "  </thead>\n",
       "  <tbody>\n",
       "    <tr>\n",
       "      <th>0</th>\n",
       "      <td>2018-09-28</td>\n",
       "      <td>234.05</td>\n",
       "      <td>235.95</td>\n",
       "      <td>230.20</td>\n",
       "      <td>233.50</td>\n",
       "      <td>233.75</td>\n",
       "      <td>3069914</td>\n",
       "      <td>7162.35</td>\n",
       "    </tr>\n",
       "    <tr>\n",
       "      <th>1</th>\n",
       "      <td>2018-09-27</td>\n",
       "      <td>234.55</td>\n",
       "      <td>236.80</td>\n",
       "      <td>231.10</td>\n",
       "      <td>233.80</td>\n",
       "      <td>233.25</td>\n",
       "      <td>5082859</td>\n",
       "      <td>11859.95</td>\n",
       "    </tr>\n",
       "    <tr>\n",
       "      <th>2</th>\n",
       "      <td>2018-09-26</td>\n",
       "      <td>240.00</td>\n",
       "      <td>240.00</td>\n",
       "      <td>232.50</td>\n",
       "      <td>235.00</td>\n",
       "      <td>234.25</td>\n",
       "      <td>2240909</td>\n",
       "      <td>5248.60</td>\n",
       "    </tr>\n",
       "    <tr>\n",
       "      <th>3</th>\n",
       "      <td>2018-09-25</td>\n",
       "      <td>233.30</td>\n",
       "      <td>236.75</td>\n",
       "      <td>232.00</td>\n",
       "      <td>236.25</td>\n",
       "      <td>236.10</td>\n",
       "      <td>2349368</td>\n",
       "      <td>5503.90</td>\n",
       "    </tr>\n",
       "    <tr>\n",
       "      <th>4</th>\n",
       "      <td>2018-09-24</td>\n",
       "      <td>233.55</td>\n",
       "      <td>239.20</td>\n",
       "      <td>230.75</td>\n",
       "      <td>234.00</td>\n",
       "      <td>233.30</td>\n",
       "      <td>3423509</td>\n",
       "      <td>7999.55</td>\n",
       "    </tr>\n",
       "  </tbody>\n",
       "</table>\n",
       "</div>"
      ],
      "text/plain": [
       "         Date    Open    High     Low    Last   Close  Total Trade Quantity  \\\n",
       "0  2018-09-28  234.05  235.95  230.20  233.50  233.75               3069914   \n",
       "1  2018-09-27  234.55  236.80  231.10  233.80  233.25               5082859   \n",
       "2  2018-09-26  240.00  240.00  232.50  235.00  234.25               2240909   \n",
       "3  2018-09-25  233.30  236.75  232.00  236.25  236.10               2349368   \n",
       "4  2018-09-24  233.55  239.20  230.75  234.00  233.30               3423509   \n",
       "\n",
       "   Turnover (Lacs)  \n",
       "0          7162.35  \n",
       "1         11859.95  \n",
       "2          5248.60  \n",
       "3          5503.90  \n",
       "4          7999.55  "
      ]
     },
     "execution_count": 3,
     "metadata": {},
     "output_type": "execute_result"
    }
   ],
   "source": [
    "\n",
    "dataset_train.head()"
   ]
  },
  {
   "cell_type": "code",
   "execution_count": 4,
   "metadata": {},
   "outputs": [
    {
     "data": {
      "text/plain": [
       "0       233.75\n",
       "1       233.25\n",
       "2       234.25\n",
       "3       236.10\n",
       "4       233.30\n",
       "         ...  \n",
       "2030    118.65\n",
       "2031    117.60\n",
       "2032    120.65\n",
       "2033    120.90\n",
       "2034    121.55\n",
       "Name: Close, Length: 2035, dtype: float64"
      ]
     },
     "execution_count": 4,
     "metadata": {},
     "output_type": "execute_result"
    }
   ],
   "source": [
    "data_close=dataset_train[\"Close\"]\n",
    "data_close"
   ]
  },
  {
   "cell_type": "code",
   "execution_count": 5,
   "metadata": {},
   "outputs": [
    {
     "data": {
      "text/plain": [
       "[<matplotlib.lines.Line2D at 0x7fb7880e1af0>]"
      ]
     },
     "execution_count": 5,
     "metadata": {},
     "output_type": "execute_result"
    },
    {
     "data": {
      "image/png": "[encoded data removed]",
      "text/plain": [
       "<Figure size 432x288 with 1 Axes>"
      ]
     },
     "metadata": {
      "needs_background": "light"
     },
     "output_type": "display_data"
    }
   ],
   "source": [
    "plt.plot(data_close)"
   ]
  },
  {
   "cell_type": "markdown",
   "metadata": {},
   "source": [
    "### DATA NORMALISATION"
   ]
  },
  {
   "cell_type": "code",
   "execution_count": 6,
   "metadata": {},
   "outputs": [
    {
     "data": {
      "text/plain": [
       "(2035, 1)"
      ]
     },
     "execution_count": 6,
     "metadata": {},
     "output_type": "execute_result"
    }
   ],
   "source": [
    "from sklearn.preprocessing import MinMaxScaler\n",
    "scaler= MinMaxScaler(feature_range = (0,1))\n",
    "data_close = scaler.fit_transform(np.array(data_close).reshape(-1,1))\n",
    "data_close.shape"
   ]
  },
  {
   "cell_type": "code",
   "execution_count": 7,
   "metadata": {},
   "outputs": [
    {
     "name": "stdout",
     "output_type": "stream",
     "text": [
      "[[0.62418301]\n",
      " [0.62214052]\n",
      " [0.62622549]\n",
      " ...\n",
      " [0.1621732 ]\n",
      " [0.16319444]\n",
      " [0.16584967]]\n"
     ]
    }
   ],
   "source": [
    "print(data_close)"
   ]
  },
  {
   "cell_type": "markdown",
   "metadata": {},
   "source": [
    "### TRAIN AND TEST SPLIT"
   ]
  },
  {
   "cell_type": "code",
   "execution_count": 8,
   "metadata": {},
   "outputs": [],
   "source": [
    "training_size = int(len(data_close)*0.75)\n",
    "test_size = len(data_close) - training_size\n",
    "train_data, test_data= data_close[0:training_size,:], data_close[training_size:len(data_close),:1]"
   ]
  },
  {
   "cell_type": "code",
   "execution_count": 9,
   "metadata": {},
   "outputs": [],
   "source": [
    "def create_dataset(dataset, time_step = 1):\n",
    "    datax,datay= [],[]\n",
    "    for i in range (len(dataset)-time_step - 1):\n",
    "        a = dataset[i:(i+time_step),0]\n",
    "        datax.append(a)\n",
    "        datay.append(dataset[i+time_step,0])\n",
    "    return np.array(datax), np.array(datay)"
   ]
  },
  {
   "cell_type": "code",
   "execution_count": 11,
   "metadata": {},
   "outputs": [],
   "source": [
    "time_step=100\n",
    "x_train,y_train = create_dataset(train_data,time_step)\n",
    "x_test,y_test = create_dataset(test_data,time_step)"
   ]
  },
  {
   "cell_type": "code",
   "execution_count": 12,
   "metadata": {},
   "outputs": [],
   "source": [
    "x_train = x_train.reshape(x_train.shape[0],x_train.shape[1],1)\n",
    "x_test = x_test.reshape(x_test.shape[0],x_test.shape[1],1)"
   ]
  },
  {
   "cell_type": "code",
   "execution_count": 14,
   "metadata": {},
   "outputs": [
    {
     "name": "stdout",
     "output_type": "stream",
     "text": [
      "Model: \"sequential_1\"\n",
      "_________________________________________________________________\n",
      "Layer (type)                 Output Shape              Param #   \n",
      "=================================================================\n",
      "lstm_3 (LSTM)                (None, 100, 50)           10400     \n",
      "_________________________________________________________________\n",
      "lstm_4 (LSTM)                (None, 100, 50)           20200     \n",
      "_________________________________________________________________\n",
      "lstm_5 (LSTM)                (None, 50)                20200     \n",
      "_________________________________________________________________\n",
      "dense_1 (Dense)              (None, 1)                 51        \n",
      "=================================================================\n",
      "Total params: 50,851\n",
      "Trainable params: 50,851\n",
      "Non-trainable params: 0\n",
      "_________________________________________________________________\n"
     ]
    }
   ],
   "source": [
    "from keras.models import Sequential\n",
    "from keras.layers import LSTM\n",
    "from keras.layers import Dropout\n",
    "from keras.layers import Dense\n",
    "model = Sequential()\n",
    "model.add(LSTM(50,return_sequences =True, input_shape = (100,1)))\n",
    "model.add(LSTM(50,return_sequences = True))\n",
    "model.add(LSTM(50))\n",
    "model.add(Dense(1))\n",
    "model.compile(loss= 'mean_squared_error', optimizer ='adam')\n",
    "model.summary()"
   ]
  },
  {
   "cell_type": "code",
   "execution_count": 15,
   "metadata": {},
   "outputs": [
    {
     "name": "stdout",
     "output_type": "stream",
     "text": [
      "Model: \"sequential_1\"\n",
      "_________________________________________________________________\n",
      "Layer (type)                 Output Shape              Param #   \n",
      "=================================================================\n",
      "lstm_3 (LSTM)                (None, 100, 50)           10400     \n",
      "_________________________________________________________________\n",
      "lstm_4 (LSTM)                (None, 100, 50)           20200     \n",
      "_________________________________________________________________\n",
      "lstm_5 (LSTM)                (None, 50)                20200     \n",
      "_________________________________________________________________\n",
      "dense_1 (Dense)              (None, 1)                 51        \n",
      "=================================================================\n",
      "Total params: 50,851\n",
      "Trainable params: 50,851\n",
      "Non-trainable params: 0\n",
      "_________________________________________________________________\n"
     ]
    }
   ],
   "source": [
    "\n",
    "model.summary()"
   ]
  },
  {
   "cell_type": "code",
   "execution_count": 16,
   "metadata": {},
   "outputs": [
    {
     "name": "stderr",
     "output_type": "stream",
     "text": [
      "2021-09-16 14:09:49.476092: I tensorflow/compiler/mlir/mlir_graph_optimization_pass.cc:116] None of the MLIR optimization passes are enabled (registered 2)\n"
     ]
    },
    {
     "name": "stdout",
     "output_type": "stream",
     "text": [
      "Epoch 1/100\n",
      "23/23 [==============================] - 6s 164ms/step - loss: 0.0378 - val_loss: 0.0061\n",
      "Epoch 2/100\n",
      "23/23 [==============================] - 3s 129ms/step - loss: 0.0030 - val_loss: 0.0010\n",
      "Epoch 3/100\n",
      "23/23 [==============================] - 3s 130ms/step - loss: 0.0018 - val_loss: 0.0010\n",
      "Epoch 4/100\n",
      "23/23 [==============================] - 3s 130ms/step - loss: 0.0017 - val_loss: 0.0012\n",
      "Epoch 5/100\n",
      "23/23 [==============================] - 3s 130ms/step - loss: 0.0016 - val_loss: 0.0014\n",
      "Epoch 6/100\n",
      "23/23 [==============================] - 3s 131ms/step - loss: 0.0013 - val_loss: 0.0014\n",
      "Epoch 7/100\n",
      "23/23 [==============================] - 3s 130ms/step - loss: 0.0013 - val_loss: 8.7483e-04\n",
      "Epoch 8/100\n",
      "23/23 [==============================] - 3s 130ms/step - loss: 0.0011 - val_loss: 9.6750e-04\n",
      "Epoch 9/100\n",
      "23/23 [==============================] - 3s 133ms/step - loss: 0.0011 - val_loss: 7.5341e-04\n",
      "Epoch 10/100\n",
      "23/23 [==============================] - 3s 129ms/step - loss: 0.0011 - val_loss: 7.2516e-04\n",
      "Epoch 11/100\n",
      "23/23 [==============================] - 3s 130ms/step - loss: 0.0012 - val_loss: 0.0011\n",
      "Epoch 12/100\n",
      "23/23 [==============================] - 3s 130ms/step - loss: 9.9047e-04 - val_loss: 9.1267e-04\n",
      "Epoch 13/100\n",
      "23/23 [==============================] - 3s 133ms/step - loss: 9.9016e-04 - val_loss: 8.5114e-04\n",
      "Epoch 14/100\n",
      "23/23 [==============================] - 3s 131ms/step - loss: 9.1979e-04 - val_loss: 0.0010\n",
      "Epoch 15/100\n",
      "23/23 [==============================] - 3s 129ms/step - loss: 0.0011 - val_loss: 6.9857e-04\n",
      "Epoch 16/100\n",
      "23/23 [==============================] - 3s 129ms/step - loss: 8.1644e-04 - val_loss: 6.8184e-04\n",
      "Epoch 17/100\n",
      "23/23 [==============================] - 3s 129ms/step - loss: 7.7655e-04 - val_loss: 5.8471e-04\n",
      "Epoch 18/100\n",
      "23/23 [==============================] - 3s 129ms/step - loss: 9.6056e-04 - val_loss: 7.7281e-04\n",
      "Epoch 19/100\n",
      "23/23 [==============================] - 3s 128ms/step - loss: 8.5164e-04 - val_loss: 9.2774e-04\n",
      "Epoch 20/100\n",
      "23/23 [==============================] - 3s 130ms/step - loss: 7.4220e-04 - val_loss: 6.2971e-04\n",
      "Epoch 21/100\n",
      "23/23 [==============================] - 3s 129ms/step - loss: 8.0397e-04 - val_loss: 7.4913e-04\n",
      "Epoch 22/100\n",
      "23/23 [==============================] - 3s 130ms/step - loss: 6.9343e-04 - val_loss: 5.7074e-04\n",
      "Epoch 23/100\n",
      "23/23 [==============================] - 3s 129ms/step - loss: 6.8850e-04 - val_loss: 8.7900e-04\n",
      "Epoch 24/100\n",
      "23/23 [==============================] - 3s 130ms/step - loss: 6.4572e-04 - val_loss: 6.4294e-04\n",
      "Epoch 25/100\n",
      "23/23 [==============================] - 3s 131ms/step - loss: 6.0514e-04 - val_loss: 6.4688e-04\n",
      "Epoch 26/100\n",
      "23/23 [==============================] - 3s 132ms/step - loss: 5.8489e-04 - val_loss: 6.0840e-04\n",
      "Epoch 27/100\n",
      "23/23 [==============================] - 3s 130ms/step - loss: 6.6024e-04 - val_loss: 5.7167e-04\n",
      "Epoch 28/100\n",
      "23/23 [==============================] - 3s 128ms/step - loss: 5.8248e-04 - val_loss: 6.8770e-04\n",
      "Epoch 29/100\n",
      "23/23 [==============================] - 3s 129ms/step - loss: 5.5191e-04 - val_loss: 8.1783e-04\n",
      "Epoch 30/100\n",
      "23/23 [==============================] - 3s 128ms/step - loss: 5.9333e-04 - val_loss: 6.1335e-04\n",
      "Epoch 31/100\n",
      "23/23 [==============================] - 3s 130ms/step - loss: 5.4224e-04 - val_loss: 6.8094e-04\n",
      "Epoch 32/100\n",
      "23/23 [==============================] - 3s 129ms/step - loss: 5.1214e-04 - val_loss: 6.0876e-04\n",
      "Epoch 33/100\n",
      "23/23 [==============================] - 3s 129ms/step - loss: 5.3601e-04 - val_loss: 5.6005e-04\n",
      "Epoch 34/100\n",
      "23/23 [==============================] - 3s 130ms/step - loss: 4.6716e-04 - val_loss: 5.9532e-04\n",
      "Epoch 35/100\n",
      "23/23 [==============================] - 3s 129ms/step - loss: 5.5814e-04 - val_loss: 5.1513e-04\n",
      "Epoch 36/100\n",
      "23/23 [==============================] - 3s 129ms/step - loss: 5.5403e-04 - val_loss: 5.0803e-04\n",
      "Epoch 37/100\n",
      "23/23 [==============================] - 3s 130ms/step - loss: 4.8712e-04 - val_loss: 4.3892e-04\n",
      "Epoch 38/100\n",
      "23/23 [==============================] - 3s 130ms/step - loss: 3.9702e-04 - val_loss: 4.2423e-04\n",
      "Epoch 39/100\n",
      "23/23 [==============================] - 3s 133ms/step - loss: 4.1461e-04 - val_loss: 4.3602e-04\n",
      "Epoch 40/100\n",
      "23/23 [==============================] - 3s 138ms/step - loss: 3.8259e-04 - val_loss: 5.6143e-04\n",
      "Epoch 41/100\n",
      "23/23 [==============================] - 3s 145ms/step - loss: 5.7702e-04 - val_loss: 3.7388e-04\n",
      "Epoch 42/100\n",
      "23/23 [==============================] - 3s 134ms/step - loss: 4.8145e-04 - val_loss: 3.6576e-04\n",
      "Epoch 43/100\n",
      "23/23 [==============================] - 3s 132ms/step - loss: 3.8424e-04 - val_loss: 4.0749e-04\n",
      "Epoch 44/100\n",
      "23/23 [==============================] - 3s 133ms/step - loss: 3.4969e-04 - val_loss: 3.8626e-04\n",
      "Epoch 45/100\n",
      "23/23 [==============================] - 3s 144ms/step - loss: 3.6661e-04 - val_loss: 3.8618e-04\n",
      "Epoch 46/100\n",
      "23/23 [==============================] - 3s 134ms/step - loss: 3.1770e-04 - val_loss: 3.7264e-04\n",
      "Epoch 47/100\n",
      "23/23 [==============================] - 3s 130ms/step - loss: 3.5964e-04 - val_loss: 2.8665e-04\n",
      "Epoch 48/100\n",
      "23/23 [==============================] - 3s 131ms/step - loss: 4.2504e-04 - val_loss: 4.0381e-04\n",
      "Epoch 49/100\n",
      "23/23 [==============================] - 3s 130ms/step - loss: 2.8623e-04 - val_loss: 4.6722e-04\n",
      "Epoch 50/100\n",
      "23/23 [==============================] - 3s 132ms/step - loss: 2.9162e-04 - val_loss: 3.1386e-04\n",
      "Epoch 51/100\n",
      "23/23 [==============================] - 3s 131ms/step - loss: 2.6131e-04 - val_loss: 3.8372e-04\n",
      "Epoch 52/100\n",
      "23/23 [==============================] - 3s 130ms/step - loss: 2.8356e-04 - val_loss: 2.8256e-04\n",
      "Epoch 53/100\n",
      "23/23 [==============================] - 3s 132ms/step - loss: 2.6043e-04 - val_loss: 3.3077e-04\n",
      "Epoch 54/100\n",
      "23/23 [==============================] - 3s 130ms/step - loss: 2.8380e-04 - val_loss: 2.7403e-04\n",
      "Epoch 55/100\n",
      "23/23 [==============================] - 3s 131ms/step - loss: 2.7983e-04 - val_loss: 3.0484e-04\n",
      "Epoch 56/100\n",
      "23/23 [==============================] - 3s 130ms/step - loss: 2.5336e-04 - val_loss: 3.1221e-04\n",
      "Epoch 57/100\n",
      "23/23 [==============================] - 3s 129ms/step - loss: 2.5175e-04 - val_loss: 2.2162e-04\n",
      "Epoch 58/100\n",
      "23/23 [==============================] - 3s 130ms/step - loss: 2.6505e-04 - val_loss: 2.1614e-04\n",
      "Epoch 59/100\n",
      "23/23 [==============================] - 3s 129ms/step - loss: 2.8361e-04 - val_loss: 5.8637e-04\n",
      "Epoch 60/100\n",
      "23/23 [==============================] - 3s 129ms/step - loss: 3.7767e-04 - val_loss: 2.4591e-04\n",
      "Epoch 61/100\n",
      "23/23 [==============================] - 3s 131ms/step - loss: 2.4439e-04 - val_loss: 2.3128e-04\n",
      "Epoch 62/100\n",
      "23/23 [==============================] - 3s 130ms/step - loss: 3.0786e-04 - val_loss: 1.9233e-04\n",
      "Epoch 63/100\n",
      "23/23 [==============================] - 3s 130ms/step - loss: 2.3378e-04 - val_loss: 1.9225e-04\n",
      "Epoch 64/100\n",
      "23/23 [==============================] - 3s 130ms/step - loss: 2.1033e-04 - val_loss: 2.6372e-04\n",
      "Epoch 65/100\n",
      "23/23 [==============================] - 3s 129ms/step - loss: 2.0768e-04 - val_loss: 2.6333e-04\n",
      "Epoch 66/100\n",
      "23/23 [==============================] - 3s 129ms/step - loss: 2.0408e-04 - val_loss: 1.8346e-04\n",
      "Epoch 67/100\n",
      "23/23 [==============================] - 3s 130ms/step - loss: 2.8815e-04 - val_loss: 4.0523e-04\n",
      "Epoch 68/100\n",
      "23/23 [==============================] - 3s 131ms/step - loss: 3.2389e-04 - val_loss: 2.1657e-04\n",
      "Epoch 69/100\n",
      "23/23 [==============================] - 3s 131ms/step - loss: 2.6874e-04 - val_loss: 1.8176e-04\n",
      "Epoch 70/100\n",
      "23/23 [==============================] - 3s 129ms/step - loss: 2.1957e-04 - val_loss: 2.2679e-04\n",
      "Epoch 71/100\n",
      "23/23 [==============================] - 3s 130ms/step - loss: 2.1791e-04 - val_loss: 2.7411e-04\n",
      "Epoch 72/100\n",
      "23/23 [==============================] - 3s 130ms/step - loss: 2.2338e-04 - val_loss: 1.8956e-04\n",
      "Epoch 73/100\n",
      "23/23 [==============================] - 3s 130ms/step - loss: 2.0047e-04 - val_loss: 3.7088e-04\n",
      "Epoch 74/100\n",
      "23/23 [==============================] - 3s 129ms/step - loss: 2.4040e-04 - val_loss: 2.3830e-04\n",
      "Epoch 75/100\n",
      "23/23 [==============================] - 3s 130ms/step - loss: 2.1610e-04 - val_loss: 2.0362e-04\n",
      "Epoch 76/100\n",
      "23/23 [==============================] - 3s 129ms/step - loss: 1.9898e-04 - val_loss: 1.6267e-04\n",
      "Epoch 77/100\n",
      "23/23 [==============================] - 3s 129ms/step - loss: 3.7691e-04 - val_loss: 4.6924e-04\n",
      "Epoch 78/100\n",
      "23/23 [==============================] - 3s 128ms/step - loss: 3.0135e-04 - val_loss: 2.5406e-04\n",
      "Epoch 79/100\n",
      "23/23 [==============================] - 3s 130ms/step - loss: 2.1123e-04 - val_loss: 1.9936e-04\n",
      "Epoch 80/100\n",
      "23/23 [==============================] - 3s 129ms/step - loss: 2.4509e-04 - val_loss: 2.5887e-04\n",
      "Epoch 81/100\n",
      "23/23 [==============================] - 3s 128ms/step - loss: 2.1351e-04 - val_loss: 2.3713e-04\n",
      "Epoch 82/100\n",
      "23/23 [==============================] - 3s 130ms/step - loss: 1.9318e-04 - val_loss: 2.0678e-04\n",
      "Epoch 83/100\n",
      "23/23 [==============================] - 3s 130ms/step - loss: 1.9422e-04 - val_loss: 2.3395e-04\n",
      "Epoch 84/100\n",
      "23/23 [==============================] - 3s 129ms/step - loss: 2.1380e-04 - val_loss: 2.0620e-04\n",
      "Epoch 85/100\n",
      "23/23 [==============================] - 3s 130ms/step - loss: 2.1645e-04 - val_loss: 2.3208e-04\n",
      "Epoch 86/100\n",
      "23/23 [==============================] - 3s 130ms/step - loss: 1.9161e-04 - val_loss: 1.7448e-04\n",
      "Epoch 87/100\n",
      "23/23 [==============================] - 4s 193ms/step - loss: 1.8797e-04 - val_loss: 2.3092e-04\n",
      "Epoch 88/100\n",
      "23/23 [==============================] - 3s 129ms/step - loss: 2.0091e-04 - val_loss: 1.8742e-04\n",
      "Epoch 89/100\n",
      "23/23 [==============================] - 3s 127ms/step - loss: 2.1036e-04 - val_loss: 2.2005e-04\n",
      "Epoch 90/100\n",
      "23/23 [==============================] - 3s 129ms/step - loss: 2.2797e-04 - val_loss: 1.8457e-04\n",
      "Epoch 91/100\n",
      "23/23 [==============================] - 3s 129ms/step - loss: 2.1524e-04 - val_loss: 1.7295e-04\n",
      "Epoch 92/100\n",
      "23/23 [==============================] - 3s 129ms/step - loss: 2.2274e-04 - val_loss: 1.8297e-04\n",
      "Epoch 93/100\n",
      "23/23 [==============================] - 3s 129ms/step - loss: 2.3913e-04 - val_loss: 1.6140e-04\n",
      "Epoch 94/100\n",
      "23/23 [==============================] - 3s 129ms/step - loss: 2.6495e-04 - val_loss: 1.9384e-04\n",
      "Epoch 95/100\n",
      "23/23 [==============================] - 3s 130ms/step - loss: 2.0008e-04 - val_loss: 2.4780e-04\n",
      "Epoch 96/100\n",
      "23/23 [==============================] - 3s 129ms/step - loss: 2.3052e-04 - val_loss: 1.5134e-04\n",
      "Epoch 97/100\n",
      "23/23 [==============================] - 3s 128ms/step - loss: 3.2226e-04 - val_loss: 1.8910e-04\n",
      "Epoch 98/100\n",
      "23/23 [==============================] - 3s 131ms/step - loss: 3.1762e-04 - val_loss: 1.4924e-04\n",
      "Epoch 99/100\n",
      "23/23 [==============================] - 3s 129ms/step - loss: 2.4533e-04 - val_loss: 2.5472e-04\n",
      "Epoch 100/100\n",
      "23/23 [==============================] - 3s 129ms/step - loss: 2.2795e-04 - val_loss: 2.1161e-04\n"
     ]
    },
    {
     "data": {
      "text/plain": [
       "<tensorflow.python.keras.callbacks.History at 0x7fb778fe7190>"
      ]
     },
     "execution_count": 16,
     "metadata": {},
     "output_type": "execute_result"
    }
   ],
   "source": [
    "model.fit(x_train,y_train, validation_data = (x_test, y_test), epochs = 100,batch_size = 64, verbose = 1)\n"
   ]
  },
  {
   "cell_type": "code",
   "execution_count": 17,
   "metadata": {},
   "outputs": [],
   "source": [
    "train_predict = model.predict(x_train)\n",
    "test_predict = model.predict(x_test)"
   ]
  },
  {
   "cell_type": "code",
   "execution_count": 18,
   "metadata": {},
   "outputs": [],
   "source": [
    "train_predict = scaler.inverse_transform(train_predict)\n",
    "test_predict = scaler.inverse_transform(test_predict)"
   ]
  },
  {
   "cell_type": "code",
   "execution_count": 19,
   "metadata": {},
   "outputs": [
    {
     "data": {
      "text/plain": [
       "163.47200546380688"
      ]
     },
     "execution_count": 19,
     "metadata": {},
     "output_type": "execute_result"
    }
   ],
   "source": [
    "import math\n",
    "from sklearn.metrics import mean_squared_error\n",
    "math.sqrt(mean_squared_error(y_train, train_predict))"
   ]
  },
  {
   "cell_type": "code",
   "execution_count": 20,
   "metadata": {},
   "outputs": [
    {
     "data": {
      "text/plain": [
       "106.30198961157276"
      ]
     },
     "execution_count": 20,
     "metadata": {},
     "output_type": "execute_result"
    }
   ],
   "source": [
    "math.sqrt(mean_squared_error(y_test, test_predict))"
   ]
  },
  {
   "cell_type": "code",
   "execution_count": 21,
   "metadata": {},
   "outputs": [
    {
     "data": {
      "image/png": "[encoded data removed]",
      "text/plain": [
       "<Figure size 432x288 with 1 Axes>"
      ]
     },
     "metadata": {
      "needs_background": "light"
     },
     "output_type": "display_data"
    }
   ],
   "source": [
    "look_back = 100\n",
    "trainPredictPlot=np.empty_like(data_close)\n",
    "trainPredictPlot[:,:] = np.nan\n",
    "trainPredictPlot[look_back:len(train_predict)+look_back,:]=train_predict\n",
    "\n",
    "testPredictPlot = np.empty_like(data_close)\n",
    "testPredictPlot[:,:] = np.nan\n",
    "testPredictPlot[len(train_predict)+(look_back*2)+1:len(data_close)-1, :] =test_predict\n",
    "\n",
    "plt.plot(scaler.inverse_transform(data_close))\n",
    "plt.plot(trainPredictPlot)\n",
    "plt.plot(testPredictPlot)\n",
    "plt.show()"
   ]
  },
  {
   "cell_type": "markdown",
   "metadata": {},
   "source": [
    "#  PREDICTING STOCK FOR THE NEXT 30 DAYS"
   ]
  },
  {
   "cell_type": "code",
   "execution_count": 22,
   "metadata": {},
   "outputs": [
    {
     "data": {
      "text/plain": [
       "(509, (408, 100, 1))"
      ]
     },
     "execution_count": 22,
     "metadata": {},
     "output_type": "execute_result"
    }
   ],
   "source": [
    "len(test_data), x_test.shape"
   ]
  },
  {
   "cell_type": "code",
   "execution_count": 23,
   "metadata": {},
   "outputs": [
    {
     "data": {
      "text/plain": [
       "(1, 100)"
      ]
     },
     "execution_count": 23,
     "metadata": {},
     "output_type": "execute_result"
    }
   ],
   "source": [
    "x_input = test_data[409:].reshape(1,-1)\n",
    "x_input.shape"
   ]
  },
  {
   "cell_type": "code",
   "execution_count": 24,
   "metadata": {},
   "outputs": [],
   "source": [
    "temp_input =list(x_input)\n",
    "temp_input = temp_input[0].tolist()"
   ]
  },
  {
   "cell_type": "code",
   "execution_count": 25,
   "metadata": {},
   "outputs": [
    {
     "name": "stdout",
     "output_type": "stream",
     "text": [
      "[0.1682593]\n",
      "101\n",
      "1 day input [0.13848039 0.14011438 0.13888889 0.13541667 0.14011438 0.1380719\n",
      " 0.13071895 0.13071895 0.12867647 0.11846405 0.14644608 0.14808007\n",
      " 0.15910948 0.15992647 0.15788399 0.16441993 0.17892157 0.17933007\n",
      " 0.19260621 0.20812908 0.18974673 0.18055556 0.18239379 0.17708333\n",
      " 0.17810458 0.18055556 0.17810458 0.17851307 0.19607843 0.18913399\n",
      " 0.18954248 0.19403595 0.19444444 0.20200163 0.19771242 0.19934641\n",
      " 0.19873366 0.1997549  0.2128268  0.21568627 0.20445261 0.21772876\n",
      " 0.21098856 0.21425654 0.19750817 0.18811275 0.17851307 0.17381536\n",
      " 0.16033497 0.16564542 0.17116013 0.17422386 0.18035131 0.17401961\n",
      " 0.16278595 0.16973039 0.17810458 0.17034314 0.16830065 0.17279412\n",
      " 0.17544935 0.18382353 0.19138072 0.18913399 0.19097222 0.17238562\n",
      " 0.16830065 0.1693219  0.17177288 0.16156046 0.14971405 0.1503268\n",
      " 0.15196078 0.14726307 0.14501634 0.14603758 0.12479575 0.13112745\n",
      " 0.11397059 0.1190768  0.12377451 0.13562092 0.12908497 0.13459967\n",
      " 0.12806373 0.13031046 0.12724673 0.13521242 0.14522059 0.15257353\n",
      " 0.14848856 0.14338235 0.14562908 0.15236928 0.15400327 0.14971405\n",
      " 0.1621732  0.16319444 0.16584967 0.16825929] \n",
      "1 day output [[0.1707143]] \n",
      "2 day input [0.14011438 0.13888889 0.13541667 0.14011438 0.1380719  0.13071895\n",
      " 0.13071895 0.12867647 0.11846405 0.14644608 0.14808007 0.15910948\n",
      " 0.15992647 0.15788399 0.16441993 0.17892157 0.17933007 0.19260621\n",
      " 0.20812908 0.18974673 0.18055556 0.18239379 0.17708333 0.17810458\n",
      " 0.18055556 0.17810458 0.17851307 0.19607843 0.18913399 0.18954248\n",
      " 0.19403595 0.19444444 0.20200163 0.19771242 0.19934641 0.19873366\n",
      " 0.1997549  0.2128268  0.21568627 0.20445261 0.21772876 0.21098856\n",
      " 0.21425654 0.19750817 0.18811275 0.17851307 0.17381536 0.16033497\n",
      " 0.16564542 0.17116013 0.17422386 0.18035131 0.17401961 0.16278595\n",
      " 0.16973039 0.17810458 0.17034314 0.16830065 0.17279412 0.17544935\n",
      " 0.18382353 0.19138072 0.18913399 0.19097222 0.17238562 0.16830065\n",
      " 0.1693219  0.17177288 0.16156046 0.14971405 0.1503268  0.15196078\n",
      " 0.14726307 0.14501634 0.14603758 0.12479575 0.13112745 0.11397059\n",
      " 0.1190768  0.12377451 0.13562092 0.12908497 0.13459967 0.12806373\n",
      " 0.13031046 0.12724673 0.13521242 0.14522059 0.15257353 0.14848856\n",
      " 0.14338235 0.14562908 0.15236928 0.15400327 0.14971405 0.1621732\n",
      " 0.16319444 0.16584967 0.16825929 0.1707143 ] \n",
      "2 day output [[0.17282492]] \n",
      "3 day input [0.13888889 0.13541667 0.14011438 0.1380719  0.13071895 0.13071895\n",
      " 0.12867647 0.11846405 0.14644608 0.14808007 0.15910948 0.15992647\n",
      " 0.15788399 0.16441993 0.17892157 0.17933007 0.19260621 0.20812908\n",
      " 0.18974673 0.18055556 0.18239379 0.17708333 0.17810458 0.18055556\n",
      " 0.17810458 0.17851307 0.19607843 0.18913399 0.18954248 0.19403595\n",
      " 0.19444444 0.20200163 0.19771242 0.19934641 0.19873366 0.1997549\n",
      " 0.2128268  0.21568627 0.20445261 0.21772876 0.21098856 0.21425654\n",
      " 0.19750817 0.18811275 0.17851307 0.17381536 0.16033497 0.16564542\n",
      " 0.17116013 0.17422386 0.18035131 0.17401961 0.16278595 0.16973039\n",
      " 0.17810458 0.17034314 0.16830065 0.17279412 0.17544935 0.18382353\n",
      " 0.19138072 0.18913399 0.19097222 0.17238562 0.16830065 0.1693219\n",
      " 0.17177288 0.16156046 0.14971405 0.1503268  0.15196078 0.14726307\n",
      " 0.14501634 0.14603758 0.12479575 0.13112745 0.11397059 0.1190768\n",
      " 0.12377451 0.13562092 0.12908497 0.13459967 0.12806373 0.13031046\n",
      " 0.12724673 0.13521242 0.14522059 0.15257353 0.14848856 0.14338235\n",
      " 0.14562908 0.15236928 0.15400327 0.14971405 0.1621732  0.16319444\n",
      " 0.16584967 0.16825929 0.1707143  0.17282492] \n",
      "3 day output [[0.17472388]] \n",
      "4 day input [0.13541667 0.14011438 0.1380719  0.13071895 0.13071895 0.12867647\n",
      " 0.11846405 0.14644608 0.14808007 0.15910948 0.15992647 0.15788399\n",
      " 0.16441993 0.17892157 0.17933007 0.19260621 0.20812908 0.18974673\n",
      " 0.18055556 0.18239379 0.17708333 0.17810458 0.18055556 0.17810458\n",
      " 0.17851307 0.19607843 0.18913399 0.18954248 0.19403595 0.19444444\n",
      " 0.20200163 0.19771242 0.19934641 0.19873366 0.1997549  0.2128268\n",
      " 0.21568627 0.20445261 0.21772876 0.21098856 0.21425654 0.19750817\n",
      " 0.18811275 0.17851307 0.17381536 0.16033497 0.16564542 0.17116013\n",
      " 0.17422386 0.18035131 0.17401961 0.16278595 0.16973039 0.17810458\n",
      " 0.17034314 0.16830065 0.17279412 0.17544935 0.18382353 0.19138072\n",
      " 0.18913399 0.19097222 0.17238562 0.16830065 0.1693219  0.17177288\n",
      " 0.16156046 0.14971405 0.1503268  0.15196078 0.14726307 0.14501634\n",
      " 0.14603758 0.12479575 0.13112745 0.11397059 0.1190768  0.12377451\n",
      " 0.13562092 0.12908497 0.13459967 0.12806373 0.13031046 0.12724673\n",
      " 0.13521242 0.14522059 0.15257353 0.14848856 0.14338235 0.14562908\n",
      " 0.15236928 0.15400327 0.14971405 0.1621732  0.16319444 0.16584967\n",
      " 0.16825929 0.1707143  0.17282492 0.17472388] \n",
      "4 day output [[0.17646767]] \n",
      "5 day input [0.14011438 0.1380719  0.13071895 0.13071895 0.12867647 0.11846405\n",
      " 0.14644608 0.14808007 0.15910948 0.15992647 0.15788399 0.16441993\n",
      " 0.17892157 0.17933007 0.19260621 0.20812908 0.18974673 0.18055556\n",
      " 0.18239379 0.17708333 0.17810458 0.18055556 0.17810458 0.17851307\n",
      " 0.19607843 0.18913399 0.18954248 0.19403595 0.19444444 0.20200163\n",
      " 0.19771242 0.19934641 0.19873366 0.1997549  0.2128268  0.21568627\n",
      " 0.20445261 0.21772876 0.21098856 0.21425654 0.19750817 0.18811275\n",
      " 0.17851307 0.17381536 0.16033497 0.16564542 0.17116013 0.17422386\n",
      " 0.18035131 0.17401961 0.16278595 0.16973039 0.17810458 0.17034314\n",
      " 0.16830065 0.17279412 0.17544935 0.18382353 0.19138072 0.18913399\n",
      " 0.19097222 0.17238562 0.16830065 0.1693219  0.17177288 0.16156046\n",
      " 0.14971405 0.1503268  0.15196078 0.14726307 0.14501634 0.14603758\n",
      " 0.12479575 0.13112745 0.11397059 0.1190768  0.12377451 0.13562092\n",
      " 0.12908497 0.13459967 0.12806373 0.13031046 0.12724673 0.13521242\n",
      " 0.14522059 0.15257353 0.14848856 0.14338235 0.14562908 0.15236928\n",
      " 0.15400327 0.14971405 0.1621732  0.16319444 0.16584967 0.16825929\n",
      " 0.1707143  0.17282492 0.17472388 0.17646767] \n",
      "5 day output [[0.17809995]] \n",
      "6 day input [0.1380719  0.13071895 0.13071895 0.12867647 0.11846405 0.14644608\n",
      " 0.14808007 0.15910948 0.15992647 0.15788399 0.16441993 0.17892157\n",
      " 0.17933007 0.19260621 0.20812908 0.18974673 0.18055556 0.18239379\n",
      " 0.17708333 0.17810458 0.18055556 0.17810458 0.17851307 0.19607843\n",
      " 0.18913399 0.18954248 0.19403595 0.19444444 0.20200163 0.19771242\n",
      " 0.19934641 0.19873366 0.1997549  0.2128268  0.21568627 0.20445261\n",
      " 0.21772876 0.21098856 0.21425654 0.19750817 0.18811275 0.17851307\n",
      " 0.17381536 0.16033497 0.16564542 0.17116013 0.17422386 0.18035131\n",
      " 0.17401961 0.16278595 0.16973039 0.17810458 0.17034314 0.16830065\n",
      " 0.17279412 0.17544935 0.18382353 0.19138072 0.18913399 0.19097222\n",
      " 0.17238562 0.16830065 0.1693219  0.17177288 0.16156046 0.14971405\n",
      " 0.1503268  0.15196078 0.14726307 0.14501634 0.14603758 0.12479575\n",
      " 0.13112745 0.11397059 0.1190768  0.12377451 0.13562092 0.12908497\n",
      " 0.13459967 0.12806373 0.13031046 0.12724673 0.13521242 0.14522059\n",
      " 0.15257353 0.14848856 0.14338235 0.14562908 0.15236928 0.15400327\n",
      " 0.14971405 0.1621732  0.16319444 0.16584967 0.16825929 0.1707143\n",
      " 0.17282492 0.17472388 0.17646767 0.17809995] \n",
      "6 day output [[0.17965582]] \n",
      "7 day input [0.13071895 0.13071895 0.12867647 0.11846405 0.14644608 0.14808007\n",
      " 0.15910948 0.15992647 0.15788399 0.16441993 0.17892157 0.17933007\n",
      " 0.19260621 0.20812908 0.18974673 0.18055556 0.18239379 0.17708333\n",
      " 0.17810458 0.18055556 0.17810458 0.17851307 0.19607843 0.18913399\n",
      " 0.18954248 0.19403595 0.19444444 0.20200163 0.19771242 0.19934641\n",
      " 0.19873366 0.1997549  0.2128268  0.21568627 0.20445261 0.21772876\n",
      " 0.21098856 0.21425654 0.19750817 0.18811275 0.17851307 0.17381536\n",
      " 0.16033497 0.16564542 0.17116013 0.17422386 0.18035131 0.17401961\n",
      " 0.16278595 0.16973039 0.17810458 0.17034314 0.16830065 0.17279412\n",
      " 0.17544935 0.18382353 0.19138072 0.18913399 0.19097222 0.17238562\n",
      " 0.16830065 0.1693219  0.17177288 0.16156046 0.14971405 0.1503268\n",
      " 0.15196078 0.14726307 0.14501634 0.14603758 0.12479575 0.13112745\n",
      " 0.11397059 0.1190768  0.12377451 0.13562092 0.12908497 0.13459967\n",
      " 0.12806373 0.13031046 0.12724673 0.13521242 0.14522059 0.15257353\n",
      " 0.14848856 0.14338235 0.14562908 0.15236928 0.15400327 0.14971405\n",
      " 0.1621732  0.16319444 0.16584967 0.16825929 0.1707143  0.17282492\n",
      " 0.17472388 0.17646767 0.17809995 0.17965582] \n",
      "7 day output [[0.18116087]] \n",
      "8 day input [0.13071895 0.12867647 0.11846405 0.14644608 0.14808007 0.15910948\n",
      " 0.15992647 0.15788399 0.16441993 0.17892157 0.17933007 0.19260621\n",
      " 0.20812908 0.18974673 0.18055556 0.18239379 0.17708333 0.17810458\n",
      " 0.18055556 0.17810458 0.17851307 0.19607843 0.18913399 0.18954248\n",
      " 0.19403595 0.19444444 0.20200163 0.19771242 0.19934641 0.19873366\n",
      " 0.1997549  0.2128268  0.21568627 0.20445261 0.21772876 0.21098856\n",
      " 0.21425654 0.19750817 0.18811275 0.17851307 0.17381536 0.16033497\n",
      " 0.16564542 0.17116013 0.17422386 0.18035131 0.17401961 0.16278595\n",
      " 0.16973039 0.17810458 0.17034314 0.16830065 0.17279412 0.17544935\n",
      " 0.18382353 0.19138072 0.18913399 0.19097222 0.17238562 0.16830065\n",
      " 0.1693219  0.17177288 0.16156046 0.14971405 0.1503268  0.15196078\n",
      " 0.14726307 0.14501634 0.14603758 0.12479575 0.13112745 0.11397059\n",
      " 0.1190768  0.12377451 0.13562092 0.12908497 0.13459967 0.12806373\n",
      " 0.13031046 0.12724673 0.13521242 0.14522059 0.15257353 0.14848856\n",
      " 0.14338235 0.14562908 0.15236928 0.15400327 0.14971405 0.1621732\n",
      " 0.16319444 0.16584967 0.16825929 0.1707143  0.17282492 0.17472388\n",
      " 0.17646767 0.17809995 0.17965582 0.18116087] \n",
      "8 day output [[0.18263154]] \n",
      "9 day input [0.12867647 0.11846405 0.14644608 0.14808007 0.15910948 0.15992647\n",
      " 0.15788399 0.16441993 0.17892157 0.17933007 0.19260621 0.20812908\n",
      " 0.18974673 0.18055556 0.18239379 0.17708333 0.17810458 0.18055556\n",
      " 0.17810458 0.17851307 0.19607843 0.18913399 0.18954248 0.19403595\n",
      " 0.19444444 0.20200163 0.19771242 0.19934641 0.19873366 0.1997549\n",
      " 0.2128268  0.21568627 0.20445261 0.21772876 0.21098856 0.21425654\n",
      " 0.19750817 0.18811275 0.17851307 0.17381536 0.16033497 0.16564542\n",
      " 0.17116013 0.17422386 0.18035131 0.17401961 0.16278595 0.16973039\n",
      " 0.17810458 0.17034314 0.16830065 0.17279412 0.17544935 0.18382353\n",
      " 0.19138072 0.18913399 0.19097222 0.17238562 0.16830065 0.1693219\n",
      " 0.17177288 0.16156046 0.14971405 0.1503268  0.15196078 0.14726307\n",
      " 0.14501634 0.14603758 0.12479575 0.13112745 0.11397059 0.1190768\n",
      " 0.12377451 0.13562092 0.12908497 0.13459967 0.12806373 0.13031046\n",
      " 0.12724673 0.13521242 0.14522059 0.15257353 0.14848856 0.14338235\n",
      " 0.14562908 0.15236928 0.15400327 0.14971405 0.1621732  0.16319444\n",
      " 0.16584967 0.16825929 0.1707143  0.17282492 0.17472388 0.17646767\n",
      " 0.17809995 0.17965582 0.18116087 0.18263154] \n",
      "9 day output [[0.18407635]] \n",
      "10 day input [0.11846405 0.14644608 0.14808007 0.15910948 0.15992647 0.15788399\n",
      " 0.16441993 0.17892157 0.17933007 0.19260621 0.20812908 0.18974673\n",
      " 0.18055556 0.18239379 0.17708333 0.17810458 0.18055556 0.17810458\n",
      " 0.17851307 0.19607843 0.18913399 0.18954248 0.19403595 0.19444444\n",
      " 0.20200163 0.19771242 0.19934641 0.19873366 0.1997549  0.2128268\n",
      " 0.21568627 0.20445261 0.21772876 0.21098856 0.21425654 0.19750817\n",
      " 0.18811275 0.17851307 0.17381536 0.16033497 0.16564542 0.17116013\n",
      " 0.17422386 0.18035131 0.17401961 0.16278595 0.16973039 0.17810458\n",
      " 0.17034314 0.16830065 0.17279412 0.17544935 0.18382353 0.19138072\n",
      " 0.18913399 0.19097222 0.17238562 0.16830065 0.1693219  0.17177288\n",
      " 0.16156046 0.14971405 0.1503268  0.15196078 0.14726307 0.14501634\n",
      " 0.14603758 0.12479575 0.13112745 0.11397059 0.1190768  0.12377451\n",
      " 0.13562092 0.12908497 0.13459967 0.12806373 0.13031046 0.12724673\n",
      " 0.13521242 0.14522059 0.15257353 0.14848856 0.14338235 0.14562908\n",
      " 0.15236928 0.15400327 0.14971405 0.1621732  0.16319444 0.16584967\n",
      " 0.16825929 0.1707143  0.17282492 0.17472388 0.17646767 0.17809995\n",
      " 0.17965582 0.18116087 0.18263154 0.18407635] \n",
      "10 day output [[0.1854983]] \n",
      "11 day input [0.14644608 0.14808007 0.15910948 0.15992647 0.15788399 0.16441993\n",
      " 0.17892157 0.17933007 0.19260621 0.20812908 0.18974673 0.18055556\n",
      " 0.18239379 0.17708333 0.17810458 0.18055556 0.17810458 0.17851307\n",
      " 0.19607843 0.18913399 0.18954248 0.19403595 0.19444444 0.20200163\n",
      " 0.19771242 0.19934641 0.19873366 0.1997549  0.2128268  0.21568627\n",
      " 0.20445261 0.21772876 0.21098856 0.21425654 0.19750817 0.18811275\n",
      " 0.17851307 0.17381536 0.16033497 0.16564542 0.17116013 0.17422386\n",
      " 0.18035131 0.17401961 0.16278595 0.16973039 0.17810458 0.17034314\n",
      " 0.16830065 0.17279412 0.17544935 0.18382353 0.19138072 0.18913399\n",
      " 0.19097222 0.17238562 0.16830065 0.1693219  0.17177288 0.16156046\n",
      " 0.14971405 0.1503268  0.15196078 0.14726307 0.14501634 0.14603758\n",
      " 0.12479575 0.13112745 0.11397059 0.1190768  0.12377451 0.13562092\n",
      " 0.12908497 0.13459967 0.12806373 0.13031046 0.12724673 0.13521242\n",
      " 0.14522059 0.15257353 0.14848856 0.14338235 0.14562908 0.15236928\n",
      " 0.15400327 0.14971405 0.1621732  0.16319444 0.16584967 0.16825929\n",
      " 0.1707143  0.17282492 0.17472388 0.17646767 0.17809995 0.17965582\n",
      " 0.18116087 0.18263154 0.18407635 0.1854983 ] \n",
      "11 day output [[0.18689676]] \n",
      "12 day input [0.14808007 0.15910948 0.15992647 0.15788399 0.16441993 0.17892157\n",
      " 0.17933007 0.19260621 0.20812908 0.18974673 0.18055556 0.18239379\n",
      " 0.17708333 0.17810458 0.18055556 0.17810458 0.17851307 0.19607843\n",
      " 0.18913399 0.18954248 0.19403595 0.19444444 0.20200163 0.19771242\n",
      " 0.19934641 0.19873366 0.1997549  0.2128268  0.21568627 0.20445261\n",
      " 0.21772876 0.21098856 0.21425654 0.19750817 0.18811275 0.17851307\n",
      " 0.17381536 0.16033497 0.16564542 0.17116013 0.17422386 0.18035131\n",
      " 0.17401961 0.16278595 0.16973039 0.17810458 0.17034314 0.16830065\n",
      " 0.17279412 0.17544935 0.18382353 0.19138072 0.18913399 0.19097222\n",
      " 0.17238562 0.16830065 0.1693219  0.17177288 0.16156046 0.14971405\n",
      " 0.1503268  0.15196078 0.14726307 0.14501634 0.14603758 0.12479575\n",
      " 0.13112745 0.11397059 0.1190768  0.12377451 0.13562092 0.12908497\n",
      " 0.13459967 0.12806373 0.13031046 0.12724673 0.13521242 0.14522059\n",
      " 0.15257353 0.14848856 0.14338235 0.14562908 0.15236928 0.15400327\n",
      " 0.14971405 0.1621732  0.16319444 0.16584967 0.16825929 0.1707143\n",
      " 0.17282492 0.17472388 0.17646767 0.17809995 0.17965582 0.18116087\n",
      " 0.18263154 0.18407635 0.1854983  0.18689676] \n",
      "12 day output [[0.18826945]] \n",
      "13 day input [0.15910948 0.15992647 0.15788399 0.16441993 0.17892157 0.17933007\n",
      " 0.19260621 0.20812908 0.18974673 0.18055556 0.18239379 0.17708333\n",
      " 0.17810458 0.18055556 0.17810458 0.17851307 0.19607843 0.18913399\n",
      " 0.18954248 0.19403595 0.19444444 0.20200163 0.19771242 0.19934641\n",
      " 0.19873366 0.1997549  0.2128268  0.21568627 0.20445261 0.21772876\n",
      " 0.21098856 0.21425654 0.19750817 0.18811275 0.17851307 0.17381536\n",
      " 0.16033497 0.16564542 0.17116013 0.17422386 0.18035131 0.17401961\n",
      " 0.16278595 0.16973039 0.17810458 0.17034314 0.16830065 0.17279412\n",
      " 0.17544935 0.18382353 0.19138072 0.18913399 0.19097222 0.17238562\n",
      " 0.16830065 0.1693219  0.17177288 0.16156046 0.14971405 0.1503268\n",
      " 0.15196078 0.14726307 0.14501634 0.14603758 0.12479575 0.13112745\n",
      " 0.11397059 0.1190768  0.12377451 0.13562092 0.12908497 0.13459967\n",
      " 0.12806373 0.13031046 0.12724673 0.13521242 0.14522059 0.15257353\n",
      " 0.14848856 0.14338235 0.14562908 0.15236928 0.15400327 0.14971405\n",
      " 0.1621732  0.16319444 0.16584967 0.16825929 0.1707143  0.17282492\n",
      " 0.17472388 0.17646767 0.17809995 0.17965582 0.18116087 0.18263154\n",
      " 0.18407635 0.1854983  0.18689676 0.18826945] \n",
      "13 day output [[0.18961385]] \n",
      "14 day input [0.15992647 0.15788399 0.16441993 0.17892157 0.17933007 0.19260621\n",
      " 0.20812908 0.18974673 0.18055556 0.18239379 0.17708333 0.17810458\n",
      " 0.18055556 0.17810458 0.17851307 0.19607843 0.18913399 0.18954248\n",
      " 0.19403595 0.19444444 0.20200163 0.19771242 0.19934641 0.19873366\n",
      " 0.1997549  0.2128268  0.21568627 0.20445261 0.21772876 0.21098856\n",
      " 0.21425654 0.19750817 0.18811275 0.17851307 0.17381536 0.16033497\n",
      " 0.16564542 0.17116013 0.17422386 0.18035131 0.17401961 0.16278595\n",
      " 0.16973039 0.17810458 0.17034314 0.16830065 0.17279412 0.17544935\n",
      " 0.18382353 0.19138072 0.18913399 0.19097222 0.17238562 0.16830065\n",
      " 0.1693219  0.17177288 0.16156046 0.14971405 0.1503268  0.15196078\n",
      " 0.14726307 0.14501634 0.14603758 0.12479575 0.13112745 0.11397059\n",
      " 0.1190768  0.12377451 0.13562092 0.12908497 0.13459967 0.12806373\n",
      " 0.13031046 0.12724673 0.13521242 0.14522059 0.15257353 0.14848856\n",
      " 0.14338235 0.14562908 0.15236928 0.15400327 0.14971405 0.1621732\n",
      " 0.16319444 0.16584967 0.16825929 0.1707143  0.17282492 0.17472388\n",
      " 0.17646767 0.17809995 0.17965582 0.18116087 0.18263154 0.18407635\n",
      " 0.1854983  0.18689676 0.18826945 0.18961385] \n",
      "14 day output [[0.1909279]] \n",
      "15 day input [0.15788399 0.16441993 0.17892157 0.17933007 0.19260621 0.20812908\n",
      " 0.18974673 0.18055556 0.18239379 0.17708333 0.17810458 0.18055556\n",
      " 0.17810458 0.17851307 0.19607843 0.18913399 0.18954248 0.19403595\n",
      " 0.19444444 0.20200163 0.19771242 0.19934641 0.19873366 0.1997549\n",
      " 0.2128268  0.21568627 0.20445261 0.21772876 0.21098856 0.21425654\n",
      " 0.19750817 0.18811275 0.17851307 0.17381536 0.16033497 0.16564542\n",
      " 0.17116013 0.17422386 0.18035131 0.17401961 0.16278595 0.16973039\n",
      " 0.17810458 0.17034314 0.16830065 0.17279412 0.17544935 0.18382353\n",
      " 0.19138072 0.18913399 0.19097222 0.17238562 0.16830065 0.1693219\n",
      " 0.17177288 0.16156046 0.14971405 0.1503268  0.15196078 0.14726307\n",
      " 0.14501634 0.14603758 0.12479575 0.13112745 0.11397059 0.1190768\n",
      " 0.12377451 0.13562092 0.12908497 0.13459967 0.12806373 0.13031046\n",
      " 0.12724673 0.13521242 0.14522059 0.15257353 0.14848856 0.14338235\n",
      " 0.14562908 0.15236928 0.15400327 0.14971405 0.1621732  0.16319444\n",
      " 0.16584967 0.16825929 0.1707143  0.17282492 0.17472388 0.17646767\n",
      " 0.17809995 0.17965582 0.18116087 0.18263154 0.18407635 0.1854983\n",
      " 0.18689676 0.18826945 0.18961385 0.19092789] \n",
      "15 day output [[0.19221087]] \n",
      "16 day input [0.16441993 0.17892157 0.17933007 0.19260621 0.20812908 0.18974673\n",
      " 0.18055556 0.18239379 0.17708333 0.17810458 0.18055556 0.17810458\n",
      " 0.17851307 0.19607843 0.18913399 0.18954248 0.19403595 0.19444444\n",
      " 0.20200163 0.19771242 0.19934641 0.19873366 0.1997549  0.2128268\n",
      " 0.21568627 0.20445261 0.21772876 0.21098856 0.21425654 0.19750817\n",
      " 0.18811275 0.17851307 0.17381536 0.16033497 0.16564542 0.17116013\n",
      " 0.17422386 0.18035131 0.17401961 0.16278595 0.16973039 0.17810458\n",
      " 0.17034314 0.16830065 0.17279412 0.17544935 0.18382353 0.19138072\n",
      " 0.18913399 0.19097222 0.17238562 0.16830065 0.1693219  0.17177288\n",
      " 0.16156046 0.14971405 0.1503268  0.15196078 0.14726307 0.14501634\n",
      " 0.14603758 0.12479575 0.13112745 0.11397059 0.1190768  0.12377451\n",
      " 0.13562092 0.12908497 0.13459967 0.12806373 0.13031046 0.12724673\n",
      " 0.13521242 0.14522059 0.15257353 0.14848856 0.14338235 0.14562908\n",
      " 0.15236928 0.15400327 0.14971405 0.1621732  0.16319444 0.16584967\n",
      " 0.16825929 0.1707143  0.17282492 0.17472388 0.17646767 0.17809995\n",
      " 0.17965582 0.18116087 0.18263154 0.18407635 0.1854983  0.18689676\n",
      " 0.18826945 0.18961385 0.19092789 0.19221087] \n",
      "16 day output [[0.1934631]] \n",
      "17 day input [0.17892157 0.17933007 0.19260621 0.20812908 0.18974673 0.18055556\n",
      " 0.18239379 0.17708333 0.17810458 0.18055556 0.17810458 0.17851307\n",
      " 0.19607843 0.18913399 0.18954248 0.19403595 0.19444444 0.20200163\n",
      " 0.19771242 0.19934641 0.19873366 0.1997549  0.2128268  0.21568627\n",
      " 0.20445261 0.21772876 0.21098856 0.21425654 0.19750817 0.18811275\n",
      " 0.17851307 0.17381536 0.16033497 0.16564542 0.17116013 0.17422386\n",
      " 0.18035131 0.17401961 0.16278595 0.16973039 0.17810458 0.17034314\n",
      " 0.16830065 0.17279412 0.17544935 0.18382353 0.19138072 0.18913399\n",
      " 0.19097222 0.17238562 0.16830065 0.1693219  0.17177288 0.16156046\n",
      " 0.14971405 0.1503268  0.15196078 0.14726307 0.14501634 0.14603758\n",
      " 0.12479575 0.13112745 0.11397059 0.1190768  0.12377451 0.13562092\n",
      " 0.12908497 0.13459967 0.12806373 0.13031046 0.12724673 0.13521242\n",
      " 0.14522059 0.15257353 0.14848856 0.14338235 0.14562908 0.15236928\n",
      " 0.15400327 0.14971405 0.1621732  0.16319444 0.16584967 0.16825929\n",
      " 0.1707143  0.17282492 0.17472388 0.17646767 0.17809995 0.17965582\n",
      " 0.18116087 0.18263154 0.18407635 0.1854983  0.18689676 0.18826945\n",
      " 0.18961385 0.19092789 0.19221087 0.1934631 ] \n",
      "17 day output [[0.194686]] \n",
      "18 day input [0.17933007 0.19260621 0.20812908 0.18974673 0.18055556 0.18239379\n",
      " 0.17708333 0.17810458 0.18055556 0.17810458 0.17851307 0.19607843\n",
      " 0.18913399 0.18954248 0.19403595 0.19444444 0.20200163 0.19771242\n",
      " 0.19934641 0.19873366 0.1997549  0.2128268  0.21568627 0.20445261\n",
      " 0.21772876 0.21098856 0.21425654 0.19750817 0.18811275 0.17851307\n",
      " 0.17381536 0.16033497 0.16564542 0.17116013 0.17422386 0.18035131\n",
      " 0.17401961 0.16278595 0.16973039 0.17810458 0.17034314 0.16830065\n",
      " 0.17279412 0.17544935 0.18382353 0.19138072 0.18913399 0.19097222\n",
      " 0.17238562 0.16830065 0.1693219  0.17177288 0.16156046 0.14971405\n",
      " 0.1503268  0.15196078 0.14726307 0.14501634 0.14603758 0.12479575\n",
      " 0.13112745 0.11397059 0.1190768  0.12377451 0.13562092 0.12908497\n",
      " 0.13459967 0.12806373 0.13031046 0.12724673 0.13521242 0.14522059\n",
      " 0.15257353 0.14848856 0.14338235 0.14562908 0.15236928 0.15400327\n",
      " 0.14971405 0.1621732  0.16319444 0.16584967 0.16825929 0.1707143\n",
      " 0.17282492 0.17472388 0.17646767 0.17809995 0.17965582 0.18116087\n",
      " 0.18263154 0.18407635 0.1854983  0.18689676 0.18826945 0.18961385\n",
      " 0.19092789 0.19221087 0.1934631  0.194686  ] \n",
      "18 day output [[0.19588165]] \n",
      "19 day input [0.19260621 0.20812908 0.18974673 0.18055556 0.18239379 0.17708333\n",
      " 0.17810458 0.18055556 0.17810458 0.17851307 0.19607843 0.18913399\n",
      " 0.18954248 0.19403595 0.19444444 0.20200163 0.19771242 0.19934641\n",
      " 0.19873366 0.1997549  0.2128268  0.21568627 0.20445261 0.21772876\n",
      " 0.21098856 0.21425654 0.19750817 0.18811275 0.17851307 0.17381536\n",
      " 0.16033497 0.16564542 0.17116013 0.17422386 0.18035131 0.17401961\n",
      " 0.16278595 0.16973039 0.17810458 0.17034314 0.16830065 0.17279412\n",
      " 0.17544935 0.18382353 0.19138072 0.18913399 0.19097222 0.17238562\n",
      " 0.16830065 0.1693219  0.17177288 0.16156046 0.14971405 0.1503268\n",
      " 0.15196078 0.14726307 0.14501634 0.14603758 0.12479575 0.13112745\n",
      " 0.11397059 0.1190768  0.12377451 0.13562092 0.12908497 0.13459967\n",
      " 0.12806373 0.13031046 0.12724673 0.13521242 0.14522059 0.15257353\n",
      " 0.14848856 0.14338235 0.14562908 0.15236928 0.15400327 0.14971405\n",
      " 0.1621732  0.16319444 0.16584967 0.16825929 0.1707143  0.17282492\n",
      " 0.17472388 0.17646767 0.17809995 0.17965582 0.18116087 0.18263154\n",
      " 0.18407635 0.1854983  0.18689676 0.18826945 0.18961385 0.19092789\n",
      " 0.19221087 0.1934631  0.194686   0.19588165] \n",
      "19 day output [[0.19705254]] \n",
      "20 day input [0.20812908 0.18974673 0.18055556 0.18239379 0.17708333 0.17810458\n",
      " 0.18055556 0.17810458 0.17851307 0.19607843 0.18913399 0.18954248\n",
      " 0.19403595 0.19444444 0.20200163 0.19771242 0.19934641 0.19873366\n",
      " 0.1997549  0.2128268  0.21568627 0.20445261 0.21772876 0.21098856\n",
      " 0.21425654 0.19750817 0.18811275 0.17851307 0.17381536 0.16033497\n",
      " 0.16564542 0.17116013 0.17422386 0.18035131 0.17401961 0.16278595\n",
      " 0.16973039 0.17810458 0.17034314 0.16830065 0.17279412 0.17544935\n",
      " 0.18382353 0.19138072 0.18913399 0.19097222 0.17238562 0.16830065\n",
      " 0.1693219  0.17177288 0.16156046 0.14971405 0.1503268  0.15196078\n",
      " 0.14726307 0.14501634 0.14603758 0.12479575 0.13112745 0.11397059\n",
      " 0.1190768  0.12377451 0.13562092 0.12908497 0.13459967 0.12806373\n",
      " 0.13031046 0.12724673 0.13521242 0.14522059 0.15257353 0.14848856\n",
      " 0.14338235 0.14562908 0.15236928 0.15400327 0.14971405 0.1621732\n",
      " 0.16319444 0.16584967 0.16825929 0.1707143  0.17282492 0.17472388\n",
      " 0.17646767 0.17809995 0.17965582 0.18116087 0.18263154 0.18407635\n",
      " 0.1854983  0.18689676 0.18826945 0.18961385 0.19092789 0.19221087\n",
      " 0.1934631  0.194686   0.19588165 0.19705254] \n",
      "20 day output [[0.19820109]] \n",
      "21 day input [0.18974673 0.18055556 0.18239379 0.17708333 0.17810458 0.18055556\n",
      " 0.17810458 0.17851307 0.19607843 0.18913399 0.18954248 0.19403595\n",
      " 0.19444444 0.20200163 0.19771242 0.19934641 0.19873366 0.1997549\n",
      " 0.2128268  0.21568627 0.20445261 0.21772876 0.21098856 0.21425654\n",
      " 0.19750817 0.18811275 0.17851307 0.17381536 0.16033497 0.16564542\n",
      " 0.17116013 0.17422386 0.18035131 0.17401961 0.16278595 0.16973039\n",
      " 0.17810458 0.17034314 0.16830065 0.17279412 0.17544935 0.18382353\n",
      " 0.19138072 0.18913399 0.19097222 0.17238562 0.16830065 0.1693219\n",
      " 0.17177288 0.16156046 0.14971405 0.1503268  0.15196078 0.14726307\n",
      " 0.14501634 0.14603758 0.12479575 0.13112745 0.11397059 0.1190768\n",
      " 0.12377451 0.13562092 0.12908497 0.13459967 0.12806373 0.13031046\n",
      " 0.12724673 0.13521242 0.14522059 0.15257353 0.14848856 0.14338235\n",
      " 0.14562908 0.15236928 0.15400327 0.14971405 0.1621732  0.16319444\n",
      " 0.16584967 0.16825929 0.1707143  0.17282492 0.17472388 0.17646767\n",
      " 0.17809995 0.17965582 0.18116087 0.18263154 0.18407635 0.1854983\n",
      " 0.18689676 0.18826945 0.18961385 0.19092789 0.19221087 0.1934631\n",
      " 0.194686   0.19588165 0.19705254 0.19820109] \n",
      "21 day output [[0.19932954]] \n",
      "22 day input [0.18055556 0.18239379 0.17708333 0.17810458 0.18055556 0.17810458\n",
      " 0.17851307 0.19607843 0.18913399 0.18954248 0.19403595 0.19444444\n",
      " 0.20200163 0.19771242 0.19934641 0.19873366 0.1997549  0.2128268\n",
      " 0.21568627 0.20445261 0.21772876 0.21098856 0.21425654 0.19750817\n",
      " 0.18811275 0.17851307 0.17381536 0.16033497 0.16564542 0.17116013\n",
      " 0.17422386 0.18035131 0.17401961 0.16278595 0.16973039 0.17810458\n",
      " 0.17034314 0.16830065 0.17279412 0.17544935 0.18382353 0.19138072\n",
      " 0.18913399 0.19097222 0.17238562 0.16830065 0.1693219  0.17177288\n",
      " 0.16156046 0.14971405 0.1503268  0.15196078 0.14726307 0.14501634\n",
      " 0.14603758 0.12479575 0.13112745 0.11397059 0.1190768  0.12377451\n",
      " 0.13562092 0.12908497 0.13459967 0.12806373 0.13031046 0.12724673\n",
      " 0.13521242 0.14522059 0.15257353 0.14848856 0.14338235 0.14562908\n",
      " 0.15236928 0.15400327 0.14971405 0.1621732  0.16319444 0.16584967\n",
      " 0.16825929 0.1707143  0.17282492 0.17472388 0.17646767 0.17809995\n",
      " 0.17965582 0.18116087 0.18263154 0.18407635 0.1854983  0.18689676\n",
      " 0.18826945 0.18961385 0.19092789 0.19221087 0.1934631  0.194686\n",
      " 0.19588165 0.19705254 0.19820109 0.19932954] \n",
      "22 day output [[0.20043978]] \n",
      "23 day input [0.18239379 0.17708333 0.17810458 0.18055556 0.17810458 0.17851307\n",
      " 0.19607843 0.18913399 0.18954248 0.19403595 0.19444444 0.20200163\n",
      " 0.19771242 0.19934641 0.19873366 0.1997549  0.2128268  0.21568627\n",
      " 0.20445261 0.21772876 0.21098856 0.21425654 0.19750817 0.18811275\n",
      " 0.17851307 0.17381536 0.16033497 0.16564542 0.17116013 0.17422386\n",
      " 0.18035131 0.17401961 0.16278595 0.16973039 0.17810458 0.17034314\n",
      " 0.16830065 0.17279412 0.17544935 0.18382353 0.19138072 0.18913399\n",
      " 0.19097222 0.17238562 0.16830065 0.1693219  0.17177288 0.16156046\n",
      " 0.14971405 0.1503268  0.15196078 0.14726307 0.14501634 0.14603758\n",
      " 0.12479575 0.13112745 0.11397059 0.1190768  0.12377451 0.13562092\n",
      " 0.12908497 0.13459967 0.12806373 0.13031046 0.12724673 0.13521242\n",
      " 0.14522059 0.15257353 0.14848856 0.14338235 0.14562908 0.15236928\n",
      " 0.15400327 0.14971405 0.1621732  0.16319444 0.16584967 0.16825929\n",
      " 0.1707143  0.17282492 0.17472388 0.17646767 0.17809995 0.17965582\n",
      " 0.18116087 0.18263154 0.18407635 0.1854983  0.18689676 0.18826945\n",
      " 0.18961385 0.19092789 0.19221087 0.1934631  0.194686   0.19588165\n",
      " 0.19705254 0.19820109 0.19932954 0.20043978] \n",
      "23 day output [[0.20153311]] \n",
      "24 day input [0.17708333 0.17810458 0.18055556 0.17810458 0.17851307 0.19607843\n",
      " 0.18913399 0.18954248 0.19403595 0.19444444 0.20200163 0.19771242\n",
      " 0.19934641 0.19873366 0.1997549  0.2128268  0.21568627 0.20445261\n",
      " 0.21772876 0.21098856 0.21425654 0.19750817 0.18811275 0.17851307\n",
      " 0.17381536 0.16033497 0.16564542 0.17116013 0.17422386 0.18035131\n",
      " 0.17401961 0.16278595 0.16973039 0.17810458 0.17034314 0.16830065\n",
      " 0.17279412 0.17544935 0.18382353 0.19138072 0.18913399 0.19097222\n",
      " 0.17238562 0.16830065 0.1693219  0.17177288 0.16156046 0.14971405\n",
      " 0.1503268  0.15196078 0.14726307 0.14501634 0.14603758 0.12479575\n",
      " 0.13112745 0.11397059 0.1190768  0.12377451 0.13562092 0.12908497\n",
      " 0.13459967 0.12806373 0.13031046 0.12724673 0.13521242 0.14522059\n",
      " 0.15257353 0.14848856 0.14338235 0.14562908 0.15236928 0.15400327\n",
      " 0.14971405 0.1621732  0.16319444 0.16584967 0.16825929 0.1707143\n",
      " 0.17282492 0.17472388 0.17646767 0.17809995 0.17965582 0.18116087\n",
      " 0.18263154 0.18407635 0.1854983  0.18689676 0.18826945 0.18961385\n",
      " 0.19092789 0.19221087 0.1934631  0.194686   0.19588165 0.19705254\n",
      " 0.19820109 0.19932954 0.20043978 0.20153311] \n",
      "24 day output [[0.20261046]] \n",
      "25 day input [0.17810458 0.18055556 0.17810458 0.17851307 0.19607843 0.18913399\n",
      " 0.18954248 0.19403595 0.19444444 0.20200163 0.19771242 0.19934641\n",
      " 0.19873366 0.1997549  0.2128268  0.21568627 0.20445261 0.21772876\n",
      " 0.21098856 0.21425654 0.19750817 0.18811275 0.17851307 0.17381536\n",
      " 0.16033497 0.16564542 0.17116013 0.17422386 0.18035131 0.17401961\n",
      " 0.16278595 0.16973039 0.17810458 0.17034314 0.16830065 0.17279412\n",
      " 0.17544935 0.18382353 0.19138072 0.18913399 0.19097222 0.17238562\n",
      " 0.16830065 0.1693219  0.17177288 0.16156046 0.14971405 0.1503268\n",
      " 0.15196078 0.14726307 0.14501634 0.14603758 0.12479575 0.13112745\n",
      " 0.11397059 0.1190768  0.12377451 0.13562092 0.12908497 0.13459967\n",
      " 0.12806373 0.13031046 0.12724673 0.13521242 0.14522059 0.15257353\n",
      " 0.14848856 0.14338235 0.14562908 0.15236928 0.15400327 0.14971405\n",
      " 0.1621732  0.16319444 0.16584967 0.16825929 0.1707143  0.17282492\n",
      " 0.17472388 0.17646767 0.17809995 0.17965582 0.18116087 0.18263154\n",
      " 0.18407635 0.1854983  0.18689676 0.18826945 0.18961385 0.19092789\n",
      " 0.19221087 0.1934631  0.194686   0.19588165 0.19705254 0.19820109\n",
      " 0.19932954 0.20043978 0.20153311 0.20261046] \n",
      "25 day output [[0.20367232]] \n",
      "26 day input [0.18055556 0.17810458 0.17851307 0.19607843 0.18913399 0.18954248\n",
      " 0.19403595 0.19444444 0.20200163 0.19771242 0.19934641 0.19873366\n",
      " 0.1997549  0.2128268  0.21568627 0.20445261 0.21772876 0.21098856\n",
      " 0.21425654 0.19750817 0.18811275 0.17851307 0.17381536 0.16033497\n",
      " 0.16564542 0.17116013 0.17422386 0.18035131 0.17401961 0.16278595\n",
      " 0.16973039 0.17810458 0.17034314 0.16830065 0.17279412 0.17544935\n",
      " 0.18382353 0.19138072 0.18913399 0.19097222 0.17238562 0.16830065\n",
      " 0.1693219  0.17177288 0.16156046 0.14971405 0.1503268  0.15196078\n",
      " 0.14726307 0.14501634 0.14603758 0.12479575 0.13112745 0.11397059\n",
      " 0.1190768  0.12377451 0.13562092 0.12908497 0.13459967 0.12806373\n",
      " 0.13031046 0.12724673 0.13521242 0.14522059 0.15257353 0.14848856\n",
      " 0.14338235 0.14562908 0.15236928 0.15400327 0.14971405 0.1621732\n",
      " 0.16319444 0.16584967 0.16825929 0.1707143  0.17282492 0.17472388\n",
      " 0.17646767 0.17809995 0.17965582 0.18116087 0.18263154 0.18407635\n",
      " 0.1854983  0.18689676 0.18826945 0.18961385 0.19092789 0.19221087\n",
      " 0.1934631  0.194686   0.19588165 0.19705254 0.19820109 0.19932954\n",
      " 0.20043978 0.20153311 0.20261046 0.20367232] \n",
      "26 day output [[0.20471878]] \n",
      "27 day input [0.17810458 0.17851307 0.19607843 0.18913399 0.18954248 0.19403595\n",
      " 0.19444444 0.20200163 0.19771242 0.19934641 0.19873366 0.1997549\n",
      " 0.2128268  0.21568627 0.20445261 0.21772876 0.21098856 0.21425654\n",
      " 0.19750817 0.18811275 0.17851307 0.17381536 0.16033497 0.16564542\n",
      " 0.17116013 0.17422386 0.18035131 0.17401961 0.16278595 0.16973039\n",
      " 0.17810458 0.17034314 0.16830065 0.17279412 0.17544935 0.18382353\n",
      " 0.19138072 0.18913399 0.19097222 0.17238562 0.16830065 0.1693219\n",
      " 0.17177288 0.16156046 0.14971405 0.1503268  0.15196078 0.14726307\n",
      " 0.14501634 0.14603758 0.12479575 0.13112745 0.11397059 0.1190768\n",
      " 0.12377451 0.13562092 0.12908497 0.13459967 0.12806373 0.13031046\n",
      " 0.12724673 0.13521242 0.14522059 0.15257353 0.14848856 0.14338235\n",
      " 0.14562908 0.15236928 0.15400327 0.14971405 0.1621732  0.16319444\n",
      " 0.16584967 0.16825929 0.1707143  0.17282492 0.17472388 0.17646767\n",
      " 0.17809995 0.17965582 0.18116087 0.18263154 0.18407635 0.1854983\n",
      " 0.18689676 0.18826945 0.18961385 0.19092789 0.19221087 0.1934631\n",
      " 0.194686   0.19588165 0.19705254 0.19820109 0.19932954 0.20043978\n",
      " 0.20153311 0.20261046 0.20367232 0.20471878] \n",
      "27 day output [[0.20574981]] \n",
      "28 day input [0.17851307 0.19607843 0.18913399 0.18954248 0.19403595 0.19444444\n",
      " 0.20200163 0.19771242 0.19934641 0.19873366 0.1997549  0.2128268\n",
      " 0.21568627 0.20445261 0.21772876 0.21098856 0.21425654 0.19750817\n",
      " 0.18811275 0.17851307 0.17381536 0.16033497 0.16564542 0.17116013\n",
      " 0.17422386 0.18035131 0.17401961 0.16278595 0.16973039 0.17810458\n",
      " 0.17034314 0.16830065 0.17279412 0.17544935 0.18382353 0.19138072\n",
      " 0.18913399 0.19097222 0.17238562 0.16830065 0.1693219  0.17177288\n",
      " 0.16156046 0.14971405 0.1503268  0.15196078 0.14726307 0.14501634\n",
      " 0.14603758 0.12479575 0.13112745 0.11397059 0.1190768  0.12377451\n",
      " 0.13562092 0.12908497 0.13459967 0.12806373 0.13031046 0.12724673\n",
      " 0.13521242 0.14522059 0.15257353 0.14848856 0.14338235 0.14562908\n",
      " 0.15236928 0.15400327 0.14971405 0.1621732  0.16319444 0.16584967\n",
      " 0.16825929 0.1707143  0.17282492 0.17472388 0.17646767 0.17809995\n",
      " 0.17965582 0.18116087 0.18263154 0.18407635 0.1854983  0.18689676\n",
      " 0.18826945 0.18961385 0.19092789 0.19221087 0.1934631  0.194686\n",
      " 0.19588165 0.19705254 0.19820109 0.19932954 0.20043978 0.20153311\n",
      " 0.20261046 0.20367232 0.20471878 0.20574981] \n",
      "28 day output [[0.20676522]] \n",
      "29 day input [0.19607843 0.18913399 0.18954248 0.19403595 0.19444444 0.20200163\n",
      " 0.19771242 0.19934641 0.19873366 0.1997549  0.2128268  0.21568627\n",
      " 0.20445261 0.21772876 0.21098856 0.21425654 0.19750817 0.18811275\n",
      " 0.17851307 0.17381536 0.16033497 0.16564542 0.17116013 0.17422386\n",
      " 0.18035131 0.17401961 0.16278595 0.16973039 0.17810458 0.17034314\n",
      " 0.16830065 0.17279412 0.17544935 0.18382353 0.19138072 0.18913399\n",
      " 0.19097222 0.17238562 0.16830065 0.1693219  0.17177288 0.16156046\n",
      " 0.14971405 0.1503268  0.15196078 0.14726307 0.14501634 0.14603758\n",
      " 0.12479575 0.13112745 0.11397059 0.1190768  0.12377451 0.13562092\n",
      " 0.12908497 0.13459967 0.12806373 0.13031046 0.12724673 0.13521242\n",
      " 0.14522059 0.15257353 0.14848856 0.14338235 0.14562908 0.15236928\n",
      " 0.15400327 0.14971405 0.1621732  0.16319444 0.16584967 0.16825929\n",
      " 0.1707143  0.17282492 0.17472388 0.17646767 0.17809995 0.17965582\n",
      " 0.18116087 0.18263154 0.18407635 0.1854983  0.18689676 0.18826945\n",
      " 0.18961385 0.19092789 0.19221087 0.1934631  0.194686   0.19588165\n",
      " 0.19705254 0.19820109 0.19932954 0.20043978 0.20153311 0.20261046\n",
      " 0.20367232 0.20471878 0.20574981 0.20676522] \n",
      "29 day output [[0.20776473]] \n",
      "[[0.16825929284095764], [0.17071430385112762], [0.1728249192237854], [0.17472387850284576], [0.1764676719903946], [0.17809994518756866], [0.17965582013130188], [0.18116086721420288], [0.18263153731822968], [0.18407635390758514], [0.18549829721450806], [0.18689675629138947], [0.1882694512605667], [0.18961384892463684], [0.1909278929233551], [0.1922108680009842], [0.19346310198307037], [0.19468599557876587], [0.195881649851799], [0.19705253839492798], [0.19820109009742737], [0.19932954013347626], [0.20043978095054626], [0.20153310894966125], [0.20261046290397644], [0.20367231965065002], [0.20471878349781036], [0.20574980974197388], [0.20676521956920624], [0.20776472985744476]]\n"
     ]
    }
   ],
   "source": [
    "lst_output= []\n",
    "n_steps = 100\n",
    "nextNumberOfDays = 30\n",
    "i=0\n",
    "\n",
    "while(i<nextNumberOfDays):\n",
    "    \n",
    "    if(len(temp_input)>100):\n",
    "        x_input = np.array(temp_input[1:])\n",
    "        print(\"{} day input {} \".format(i,x_input))\n",
    "        x_input = x_input.reshape(1,-1)\n",
    "        x_input = x_input.reshape(1, n_steps, 1)\n",
    "        yhat = model.predict(x_input, verbose= 0)\n",
    "        print(\"{} day output {} \".format(i,yhat))\n",
    "        temp_input.extend(yhat[0].tolist())\n",
    "        temp_input=temp_input[1:]\n",
    "        lst_output.extend(yhat.tolist())\n",
    "        i=i+1\n",
    "    else:\n",
    "        x_input = x_input.reshape((1,n_steps,1))\n",
    "        yhat = model.predict(x_input,verbose= 0)\n",
    "        print(yhat[0])\n",
    "        temp_input.extend(yhat[0].tolist())\n",
    "        print(len(temp_input))\n",
    "        lst_output.extend(yhat.tolist())\n",
    "        i=i+1\n",
    "        \n",
    "        \n",
    "print(lst_output)"
   ]
  },
  {
   "cell_type": "code",
   "execution_count": 27,
   "metadata": {},
   "outputs": [],
   "source": [
    "day_new= np.arange(1,101)\n",
    "day_pred = np.arange(101,131)"
   ]
  },
  {
   "cell_type": "code",
   "execution_count": 28,
   "metadata": {},
   "outputs": [],
   "source": [
    "df3= data_close.tolist()\n",
    "df3.extend(lst_output)"
   ]
  },
  {
   "cell_type": "code",
   "execution_count": 29,
   "metadata": {},
   "outputs": [
    {
     "data": {
      "text/plain": [
       "2035"
      ]
     },
     "execution_count": 29,
     "metadata": {},
     "output_type": "execute_result"
    }
   ],
   "source": [
    "len(data_close)"
   ]
  },
  {
   "cell_type": "code",
   "execution_count": 31,
   "metadata": {},
   "outputs": [
    {
     "data": {
      "text/plain": [
       "[<matplotlib.lines.Line2D at 0x7fb73817fa30>]"
      ]
     },
     "execution_count": 31,
     "metadata": {},
     "output_type": "execute_result"
    },
    {
     "data": {
      "image/png": "[encoded data removed]",
      "text/plain": [
       "<Figure size 432x288 with 1 Axes>"
      ]
     },
     "metadata": {
      "needs_background": "light"
     },
     "output_type": "display_data"
    }
   ],
   "source": [
    "plt.plot(day_new,scaler.inverse_transform(data_close[1935:]))\n",
    "plt.plot(day_pred,scaler.inverse_trans"
   ]
  },
  {
   "cell_type": "code",
   "execution_count": null,
   "metadata": {},
   "outputs": [],
   "source": []
  }
 ],
 "metadata": {
  "kernelspec": {
   "display_name": "Python 3",
   "language": "python",
   "name": "python3"
  },
  "language_info": {
   "codemirror_mode": {
    "name": "ipython",
    "version": 3
   },
   "file_extension": ".py",
   "mimetype": "text/x-python",
   "name": "python",
   "nbconvert_exporter": "python",
   "pygments_lexer": "ipython3",
   "version": "3.8.5"
  }
 },
 "nbformat": 4,
 "nbformat_minor": 5
}
