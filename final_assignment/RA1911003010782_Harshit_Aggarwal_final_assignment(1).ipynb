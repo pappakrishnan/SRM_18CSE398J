{
  "nbformat": 4,
  "nbformat_minor": 5,
  "metadata": {
    "kernelspec": {
      "display_name": "Python 3",
      "language": "python",
      "name": "python3"
    },
    "language_info": {
      "codemirror_mode": {
        "name": "ipython",
        "version": 3
      },
      "file_extension": ".py",
      "mimetype": "text/x-python",
      "name": "python",
      "nbconvert_exporter": "python",
      "pygments_lexer": "ipython3",
      "version": "3.7.10"
    },
    "papermill": {
      "default_parameters": {},
      "duration": 767.876621,
      "end_time": "2021-09-09T08:08:45.423623",
      "environment_variables": {},
      "exception": null,
      "input_path": "__notebook__.ipynb",
      "output_path": "__notebook__.ipynb",
      "parameters": {},
      "start_time": "2021-09-09T07:55:57.547002",
      "version": "2.3.3"
    },
    "colab": {
      "name": "RA1911003010782_Harshit_Aggarwal_final_assignment.ipynb",
      "provenance": []
    },
    "accelerator": "GPU"
  },
  "cells": [
    {
      "cell_type": "markdown",
      "metadata": {
        "id": "A2pgXsGKac_H"
      },
      "source": [
        "# Classification of American Sign Language\n",
        "### Harshit Aggarwal \n",
        "### RA1911003010782\n",
        "\n",
        "Dataset: https://www.kaggle.com/datamunge/sign-language-mnist"
      ],
      "id": "A2pgXsGKac_H"
    },
    {
      "cell_type": "code",
      "metadata": {
        "execution": {
          "iopub.execute_input": "2021-09-09T07:56:04.204253Z",
          "iopub.status.busy": "2021-09-09T07:56:04.203754Z",
          "iopub.status.idle": "2021-09-09T07:56:05.609223Z",
          "shell.execute_reply": "2021-09-09T07:56:05.610764Z",
          "shell.execute_reply.started": "2021-09-09T07:44:44.389767Z"
        },
        "papermill": {
          "duration": 1.434109,
          "end_time": "2021-09-09T07:56:05.611005",
          "exception": false,
          "start_time": "2021-09-09T07:56:04.176896",
          "status": "completed"
        },
        "tags": [],
        "id": "a9abf0dd"
      },
      "source": [
        "import time\n",
        "import numpy as np # linear algebra\n",
        "import pandas as pd # data processing, CSV file I/O (e.g. pd.read_csv)\n",
        "import os\n",
        "import sys\n",
        "from tqdm import tqdm\n",
        "import matplotlib.pyplot as plt\n",
        "\n",
        "import torch\n",
        "from torch import nn\n",
        "from torch import optim\n",
        "from torch.nn import functional as F\n",
        "import torch.utils.data as data\n",
        "\n",
        "\n",
        "import torchvision\n",
        "import torchvision.transforms as transforms\n",
        "import torchvision.models as models\n",
        "\n"
      ],
      "id": "a9abf0dd",
      "execution_count": 1,
      "outputs": []
    },
    {
      "cell_type": "code",
      "metadata": {
        "execution": {
          "iopub.execute_input": "2021-09-09T07:56:05.729194Z",
          "iopub.status.busy": "2021-09-09T07:56:05.728334Z",
          "iopub.status.idle": "2021-09-09T07:56:05.732391Z",
          "shell.execute_reply": "2021-09-09T07:56:05.732784Z",
          "shell.execute_reply.started": "2021-09-09T07:44:48.444942Z"
        },
        "papermill": {
          "duration": 0.083682,
          "end_time": "2021-09-09T07:56:05.732928",
          "exception": false,
          "start_time": "2021-09-09T07:56:05.649246",
          "status": "completed"
        },
        "tags": [],
        "colab": {
          "base_uri": "https://localhost:8080/"
        },
        "id": "48b351c7",
        "outputId": "bb2b76be-bb49-47cf-d823-2b55dede005d"
      },
      "source": [
        "torch.cuda.is_available()"
      ],
      "id": "48b351c7",
      "execution_count": 2,
      "outputs": [
        {
          "output_type": "execute_result",
          "data": {
            "text/plain": [
              "True"
            ]
          },
          "metadata": {},
          "execution_count": 2
        }
      ]
    },
    {
      "cell_type": "markdown",
      "metadata": {
        "papermill": {
          "duration": 0.023091,
          "end_time": "2021-09-09T07:56:05.779365",
          "exception": false,
          "start_time": "2021-09-09T07:56:05.756274",
          "status": "completed"
        },
        "tags": [],
        "id": "2024fe98"
      },
      "source": [
        "## Defining Pytorch Dataset and Dataloader:"
      ],
      "id": "2024fe98"
    },
    {
      "cell_type": "code",
      "metadata": {
        "execution": {
          "iopub.execute_input": "2021-09-09T07:56:05.829936Z",
          "iopub.status.busy": "2021-09-09T07:56:05.829331Z",
          "iopub.status.idle": "2021-09-09T07:56:10.583608Z",
          "shell.execute_reply": "2021-09-09T07:56:10.583135Z",
          "shell.execute_reply.started": "2021-09-09T07:44:45.207566Z"
        },
        "papermill": {
          "duration": 4.781045,
          "end_time": "2021-09-09T07:56:10.583738",
          "exception": false,
          "start_time": "2021-09-09T07:56:05.802693",
          "status": "completed"
        },
        "tags": [],
        "id": "6609f503"
      },
      "source": [
        "train = pd.read_csv('/content/sign_mnist_train.csv')\n",
        "test = pd.read_csv('/content/sign_mnist_test.csv')"
      ],
      "id": "6609f503",
      "execution_count": 8,
      "outputs": []
    },
    {
      "cell_type": "code",
      "metadata": {
        "execution": {
          "iopub.execute_input": "2021-09-09T07:56:10.637002Z",
          "iopub.status.busy": "2021-09-09T07:56:10.636327Z",
          "iopub.status.idle": "2021-09-09T07:56:10.639696Z",
          "shell.execute_reply": "2021-09-09T07:56:10.639231Z",
          "shell.execute_reply.started": "2021-09-09T07:44:48.497806Z"
        },
        "papermill": {
          "duration": 0.031774,
          "end_time": "2021-09-09T07:56:10.639816",
          "exception": false,
          "start_time": "2021-09-09T07:56:10.608042",
          "status": "completed"
        },
        "tags": [],
        "id": "baa7fb5e"
      },
      "source": [
        "class SignLanguageDataset(data.Dataset):\n",
        "    \n",
        "    def __init__(self, df, transform=None):\n",
        "        \n",
        "        self.df = df\n",
        "        self.transform = transform\n",
        "        \n",
        "    def __len__(self):\n",
        "        return self.df.shape[0]\n",
        "    \n",
        "    def __getitem__(self, index):\n",
        "        \n",
        "        label = self.df.iloc[index, 0]\n",
        "        \n",
        "        img = self.df.iloc[index, 1:].values.reshape(28, 28)\n",
        "        img = torch.Tensor(img).unsqueeze(0)\n",
        "        if self.transform is not None:\n",
        "            img =self.transform(img)\n",
        "        \n",
        "        return img, label\n",
        "        "
      ],
      "id": "baa7fb5e",
      "execution_count": 9,
      "outputs": []
    },
    {
      "cell_type": "code",
      "metadata": {
        "execution": {
          "iopub.execute_input": "2021-09-09T07:56:10.690542Z",
          "iopub.status.busy": "2021-09-09T07:56:10.689321Z",
          "iopub.status.idle": "2021-09-09T07:56:10.691650Z",
          "shell.execute_reply": "2021-09-09T07:56:10.692009Z",
          "shell.execute_reply.started": "2021-09-09T07:44:49.342254Z"
        },
        "papermill": {
          "duration": 0.029465,
          "end_time": "2021-09-09T07:56:10.692123",
          "exception": false,
          "start_time": "2021-09-09T07:56:10.662658",
          "status": "completed"
        },
        "tags": [],
        "id": "740c7377"
      },
      "source": [
        "def show_img(img, label):\n",
        "    img = img.squeeze()\n",
        "    img = img*40. + 159.\n",
        "    imgnp = img.detach().numpy()\n",
        "    plt.imshow(img, interpolation='bicubic')\n",
        "    print(label)"
      ],
      "id": "740c7377",
      "execution_count": 10,
      "outputs": []
    },
    {
      "cell_type": "code",
      "metadata": {
        "execution": {
          "iopub.execute_input": "2021-09-09T07:56:10.743047Z",
          "iopub.status.busy": "2021-09-09T07:56:10.741849Z",
          "iopub.status.idle": "2021-09-09T07:56:10.744227Z",
          "shell.execute_reply": "2021-09-09T07:56:10.744767Z",
          "shell.execute_reply.started": "2021-09-09T07:44:51.915277Z"
        },
        "papermill": {
          "duration": 0.029731,
          "end_time": "2021-09-09T07:56:10.744879",
          "exception": false,
          "start_time": "2021-09-09T07:56:10.715148",
          "status": "completed"
        },
        "tags": [],
        "id": "1c24c454"
      },
      "source": [
        "transforms4train = transforms.Compose([\n",
        "        #transforms.Normalize(159, 40),\n",
        "        transforms.RandomHorizontalFlip(p=0.1),\n",
        "        transforms.RandomApply([transforms.RandomRotation(degrees=(-180, 180))], p=0.2),\n",
        "]) "
      ],
      "id": "1c24c454",
      "execution_count": 11,
      "outputs": []
    },
    {
      "cell_type": "code",
      "metadata": {
        "execution": {
          "iopub.execute_input": "2021-09-09T07:56:10.794718Z",
          "iopub.status.busy": "2021-09-09T07:56:10.793532Z",
          "iopub.status.idle": "2021-09-09T07:56:10.795777Z",
          "shell.execute_reply": "2021-09-09T07:56:10.796167Z",
          "shell.execute_reply.started": "2021-09-09T07:44:53.283631Z"
        },
        "papermill": {
          "duration": 0.028639,
          "end_time": "2021-09-09T07:56:10.796277",
          "exception": false,
          "start_time": "2021-09-09T07:56:10.767638",
          "status": "completed"
        },
        "tags": [],
        "id": "ec03f507"
      },
      "source": [
        "train_dataset = SignLanguageDataset(train, transform=transforms4train)\n",
        "test_dataset = SignLanguageDataset(test)"
      ],
      "id": "ec03f507",
      "execution_count": 12,
      "outputs": []
    },
    {
      "cell_type": "code",
      "metadata": {
        "execution": {
          "iopub.execute_input": "2021-09-09T07:56:10.847351Z",
          "iopub.status.busy": "2021-09-09T07:56:10.846841Z",
          "iopub.status.idle": "2021-09-09T07:56:10.852775Z",
          "shell.execute_reply": "2021-09-09T07:56:10.852350Z",
          "shell.execute_reply.started": "2021-09-09T07:44:54.020386Z"
        },
        "papermill": {
          "duration": 0.033058,
          "end_time": "2021-09-09T07:56:10.852883",
          "exception": false,
          "start_time": "2021-09-09T07:56:10.819825",
          "status": "completed"
        },
        "tags": [],
        "colab": {
          "base_uri": "https://localhost:8080/"
        },
        "id": "e5e9b25c",
        "outputId": "ae237d8d-515e-4b13-bd98-75b362ee30cc"
      },
      "source": [
        "len(train_dataset), len(test_dataset)"
      ],
      "id": "e5e9b25c",
      "execution_count": 13,
      "outputs": [
        {
          "output_type": "execute_result",
          "data": {
            "text/plain": [
              "(27455, 7172)"
            ]
          },
          "metadata": {},
          "execution_count": 13
        }
      ]
    },
    {
      "cell_type": "code",
      "metadata": {
        "execution": {
          "iopub.execute_input": "2021-09-09T07:56:10.904344Z",
          "iopub.status.busy": "2021-09-09T07:56:10.903046Z",
          "iopub.status.idle": "2021-09-09T07:56:10.905473Z",
          "shell.execute_reply": "2021-09-09T07:56:10.905905Z",
          "shell.execute_reply.started": "2021-09-09T07:44:54.754190Z"
        },
        "papermill": {
          "duration": 0.029895,
          "end_time": "2021-09-09T07:56:10.906023",
          "exception": false,
          "start_time": "2021-09-09T07:56:10.876128",
          "status": "completed"
        },
        "tags": [],
        "id": "d3c37342"
      },
      "source": [
        "train_loader = data.DataLoader(train_dataset, batch_size=200, shuffle=True, num_workers=2)\n",
        "test_loader = data.DataLoader(test_dataset, batch_size=200, shuffle=True, num_workers=2)"
      ],
      "id": "d3c37342",
      "execution_count": 14,
      "outputs": []
    },
    {
      "cell_type": "code",
      "metadata": {
        "execution": {
          "iopub.execute_input": "2021-09-09T07:56:10.958586Z",
          "iopub.status.busy": "2021-09-09T07:56:10.957943Z",
          "iopub.status.idle": "2021-09-09T07:56:11.262273Z",
          "shell.execute_reply": "2021-09-09T07:56:11.263949Z",
          "shell.execute_reply.started": "2021-09-09T07:44:55.560162Z"
        },
        "papermill": {
          "duration": 0.33449,
          "end_time": "2021-09-09T07:56:11.264179",
          "exception": false,
          "start_time": "2021-09-09T07:56:10.929689",
          "status": "completed"
        },
        "tags": [],
        "colab": {
          "base_uri": "https://localhost:8080/"
        },
        "id": "b8eef04c",
        "outputId": "35b98e59-0490-4bcd-af8d-c4bedee3a678"
      },
      "source": [
        "trainiter = iter(train_loader)\n",
        "img, label = next(trainiter)\n",
        "print(img.shape)"
      ],
      "id": "b8eef04c",
      "execution_count": 15,
      "outputs": [
        {
          "output_type": "stream",
          "name": "stdout",
          "text": [
            "torch.Size([200, 1, 28, 28])\n"
          ]
        }
      ]
    },
    {
      "cell_type": "code",
      "metadata": {
        "execution": {
          "iopub.execute_input": "2021-09-09T07:56:11.447552Z",
          "iopub.status.busy": "2021-09-09T07:56:11.442195Z",
          "iopub.status.idle": "2021-09-09T07:56:11.673322Z",
          "shell.execute_reply": "2021-09-09T07:56:11.672889Z",
          "shell.execute_reply.started": "2021-09-09T07:44:57.185003Z"
        },
        "papermill": {
          "duration": 0.318818,
          "end_time": "2021-09-09T07:56:11.673468",
          "exception": false,
          "start_time": "2021-09-09T07:56:11.354650",
          "status": "completed"
        },
        "tags": [],
        "colab": {
          "base_uri": "https://localhost:8080/",
          "height": 282
        },
        "id": "edf76db2",
        "outputId": "48203f86-e4d9-4d74-84e7-3e9d249f16be"
      },
      "source": [
        "show_img(img[10], label[10])"
      ],
      "id": "edf76db2",
      "execution_count": 16,
      "outputs": [
        {
          "output_type": "stream",
          "name": "stdout",
          "text": [
            "tensor(10)\n"
          ]
        },
        {
          "output_type": "display_data",
          "data": {
            "image/png": "[encoded data removed]",
            "text/plain": [
              "<Figure size 432x288 with 1 Axes>"
            ]
          },
          "metadata": {
            "needs_background": "light"
          }
        }
      ]
    },
    {
      "cell_type": "code",
      "metadata": {
        "execution": {
          "iopub.execute_input": "2021-09-09T07:56:11.729275Z",
          "iopub.status.busy": "2021-09-09T07:56:11.728759Z",
          "iopub.status.idle": "2021-09-09T07:56:11.732707Z",
          "shell.execute_reply": "2021-09-09T07:56:11.732265Z",
          "shell.execute_reply.started": "2021-09-09T07:44:58.754417Z"
        },
        "papermill": {
          "duration": 0.033606,
          "end_time": "2021-09-09T07:56:11.732820",
          "exception": false,
          "start_time": "2021-09-09T07:56:11.699214",
          "status": "completed"
        },
        "tags": [],
        "id": "134cf2b1"
      },
      "source": [
        "def calc_out_size(img_size, kernel_size, stride=1, padding=1, dilation=1 ):\n",
        "    out_size = ((img_size + 2*padding - (dilation*(kernel_size-1) +1 )) / stride) + 1\n",
        "    return int(out_size)"
      ],
      "id": "134cf2b1",
      "execution_count": 17,
      "outputs": []
    },
    {
      "cell_type": "code",
      "metadata": {
        "execution": {
          "iopub.execute_input": "2021-09-09T07:56:11.787106Z",
          "iopub.status.busy": "2021-09-09T07:56:11.786579Z",
          "iopub.status.idle": "2021-09-09T07:56:11.791866Z",
          "shell.execute_reply": "2021-09-09T07:56:11.792238Z",
          "shell.execute_reply.started": "2021-09-09T07:44:59.807782Z"
        },
        "papermill": {
          "duration": 0.03469,
          "end_time": "2021-09-09T07:56:11.792361",
          "exception": false,
          "start_time": "2021-09-09T07:56:11.757671",
          "status": "completed"
        },
        "tags": [],
        "colab": {
          "base_uri": "https://localhost:8080/"
        },
        "id": "0b205bc7",
        "outputId": "add049e4-9f78-4c00-88c3-8de649e62d70"
      },
      "source": [
        "calc_out_size(28, 3)"
      ],
      "id": "0b205bc7",
      "execution_count": 18,
      "outputs": [
        {
          "output_type": "execute_result",
          "data": {
            "text/plain": [
              "28"
            ]
          },
          "metadata": {},
          "execution_count": 18
        }
      ]
    },
    {
      "cell_type": "markdown",
      "metadata": {
        "papermill": {
          "duration": 0.025399,
          "end_time": "2021-09-09T07:56:11.843261",
          "exception": false,
          "start_time": "2021-09-09T07:56:11.817862",
          "status": "completed"
        },
        "tags": [],
        "id": "ae7de93c"
      },
      "source": [
        "## Making simple custom convolution net:"
      ],
      "id": "ae7de93c"
    },
    {
      "cell_type": "code",
      "metadata": {
        "execution": {
          "iopub.execute_input": "2021-09-09T07:56:11.903402Z",
          "iopub.status.busy": "2021-09-09T07:56:11.902898Z",
          "iopub.status.idle": "2021-09-09T07:56:11.906155Z",
          "shell.execute_reply": "2021-09-09T07:56:11.906539Z",
          "shell.execute_reply.started": "2021-09-09T07:45:00.754965Z"
        },
        "papermill": {
          "duration": 0.038187,
          "end_time": "2021-09-09T07:56:11.906661",
          "exception": false,
          "start_time": "2021-09-09T07:56:11.868474",
          "status": "completed"
        },
        "tags": [],
        "id": "8e6bacd3"
      },
      "source": [
        "class MyConvNet(nn.Module):\n",
        "    \n",
        "    def __init__(self, stride=1, dilation=1, n_classes=25):\n",
        "        \n",
        "        super(MyConvNet, self).__init__()\n",
        "        \n",
        "        self.stride = stride\n",
        "        self.dilation = dilation\n",
        "        self.n_classes = n_classes\n",
        "        \n",
        "        self.block1 = nn.Sequential(\n",
        "            #input=(batch, 1, 28, 28)\n",
        "            nn.Conv2d(in_channels=1, out_channels=8, kernel_size=3, padding=1, stride=self.stride, dilation=self.dilation),\n",
        "            nn.BatchNorm2d(8),\n",
        "            # (batch, 8, 28, 28)\n",
        "            nn.AvgPool2d(2),\n",
        "            # (batch, 8, 14, 14)\n",
        "            nn.ReLU()\n",
        "            )\n",
        "        \n",
        "        self.block2 = nn.Sequential(\n",
        "            nn.Conv2d(in_channels=8, out_channels=16, kernel_size=3, padding=1, stride=self.stride, dilation=self.dilation),\n",
        "            nn.BatchNorm2d(16),\n",
        "            # (batch, 16, 14, 14)\n",
        "            nn.AvgPool2d(2),\n",
        "            # (batch, 16, 7, 7)\n",
        "            nn.ReLU()\n",
        "        )\n",
        "        \n",
        "        self.lin1 = nn.Linear(in_features=16*7*7, out_features=100)\n",
        "        # (batch, 100)\n",
        "        self.act1 = nn.LeakyReLU()\n",
        "        self.drop1 = nn.Dropout(p=0.3)\n",
        "        self.lin2 = nn.Linear(100, self.n_classes)\n",
        "        # (batch, 25)\n",
        "    \n",
        "    def forward(self, x):\n",
        "        \n",
        "        x = self.block1(x)\n",
        "        x = self.block2(x)\n",
        "        x = x.view((x.shape[0], -1))\n",
        "        x = self.lin1(x)\n",
        "        x = self.act1(x)\n",
        "        x = self.drop1(x)\n",
        "        x = self.lin2(x)\n",
        "        \n",
        "        return x"
      ],
      "id": "8e6bacd3",
      "execution_count": 19,
      "outputs": []
    },
    {
      "cell_type": "code",
      "metadata": {
        "execution": {
          "iopub.execute_input": "2021-09-09T07:56:11.965386Z",
          "iopub.status.busy": "2021-09-09T07:56:11.964512Z",
          "iopub.status.idle": "2021-09-09T07:56:11.971176Z",
          "shell.execute_reply": "2021-09-09T07:56:11.971586Z",
          "shell.execute_reply.started": "2021-09-09T07:45:05.140421Z"
        },
        "papermill": {
          "duration": 0.040137,
          "end_time": "2021-09-09T07:56:11.971703",
          "exception": false,
          "start_time": "2021-09-09T07:56:11.931566",
          "status": "completed"
        },
        "tags": [],
        "colab": {
          "base_uri": "https://localhost:8080/"
        },
        "id": "62ed7593",
        "outputId": "8f7bc323-4a09-4b0c-f4bf-88689a64a9f0"
      },
      "source": [
        "model = MyConvNet()\n",
        "model"
      ],
      "id": "62ed7593",
      "execution_count": 20,
      "outputs": [
        {
          "output_type": "execute_result",
          "data": {
            "text/plain": [
              "MyConvNet(\n",
              "  (block1): Sequential(\n",
              "    (0): Conv2d(1, 8, kernel_size=(3, 3), stride=(1, 1), padding=(1, 1))\n",
              "    (1): BatchNorm2d(8, eps=1e-05, momentum=0.1, affine=True, track_running_stats=True)\n",
              "    (2): AvgPool2d(kernel_size=2, stride=2, padding=0)\n",
              "    (3): ReLU()\n",
              "  )\n",
              "  (block2): Sequential(\n",
              "    (0): Conv2d(8, 16, kernel_size=(3, 3), stride=(1, 1), padding=(1, 1))\n",
              "    (1): BatchNorm2d(16, eps=1e-05, momentum=0.1, affine=True, track_running_stats=True)\n",
              "    (2): AvgPool2d(kernel_size=2, stride=2, padding=0)\n",
              "    (3): ReLU()\n",
              "  )\n",
              "  (lin1): Linear(in_features=784, out_features=100, bias=True)\n",
              "  (act1): LeakyReLU(negative_slope=0.01)\n",
              "  (drop1): Dropout(p=0.3, inplace=False)\n",
              "  (lin2): Linear(in_features=100, out_features=25, bias=True)\n",
              ")"
            ]
          },
          "metadata": {},
          "execution_count": 20
        }
      ]
    },
    {
      "cell_type": "code",
      "metadata": {
        "execution": {
          "iopub.execute_input": "2021-09-09T07:56:12.027955Z",
          "iopub.status.busy": "2021-09-09T07:56:12.027341Z",
          "iopub.status.idle": "2021-09-09T07:56:12.095887Z",
          "shell.execute_reply": "2021-09-09T07:56:12.095452Z",
          "shell.execute_reply.started": "2021-09-08T15:18:07.89582Z"
        },
        "papermill": {
          "duration": 0.098828,
          "end_time": "2021-09-09T07:56:12.095991",
          "exception": false,
          "start_time": "2021-09-09T07:56:11.997163",
          "status": "completed"
        },
        "tags": [],
        "colab": {
          "base_uri": "https://localhost:8080/"
        },
        "id": "671a3994",
        "outputId": "e24c99c5-a4d8-491b-935d-d5f7d8dc61dd"
      },
      "source": [
        "sample_batch = torch.ones(20, 1, 28, 28)\n",
        "print(model.block1(sample_batch).shape)\n",
        "print(model.block2(model.block1(sample_batch)).shape)\n",
        "print(model(sample_batch).shape)"
      ],
      "id": "671a3994",
      "execution_count": 21,
      "outputs": [
        {
          "output_type": "stream",
          "name": "stdout",
          "text": [
            "torch.Size([20, 8, 14, 14])\n",
            "torch.Size([20, 16, 7, 7])\n",
            "torch.Size([20, 25])\n"
          ]
        }
      ]
    },
    {
      "cell_type": "markdown",
      "metadata": {
        "papermill": {
          "duration": 0.026083,
          "end_time": "2021-09-09T07:56:12.148020",
          "exception": false,
          "start_time": "2021-09-09T07:56:12.121937",
          "status": "completed"
        },
        "tags": [],
        "id": "c48130d2"
      },
      "source": [
        "## Defining our training and evaluation pipeline:"
      ],
      "id": "c48130d2"
    },
    {
      "cell_type": "code",
      "metadata": {
        "execution": {
          "iopub.execute_input": "2021-09-09T07:56:12.207614Z",
          "iopub.status.busy": "2021-09-09T07:56:12.206222Z",
          "iopub.status.idle": "2021-09-09T07:56:12.209389Z",
          "shell.execute_reply": "2021-09-09T07:56:12.208961Z",
          "shell.execute_reply.started": "2021-09-09T07:45:10.882254Z"
        },
        "papermill": {
          "duration": 0.035739,
          "end_time": "2021-09-09T07:56:12.209948",
          "exception": false,
          "start_time": "2021-09-09T07:56:12.174209",
          "status": "completed"
        },
        "tags": [],
        "id": "df782e66"
      },
      "source": [
        "def eval_model(model, criterion, test_loader, cuda=True):\n",
        "    \n",
        "    if cuda:\n",
        "        model = model.cuda()\n",
        "    \n",
        "    model = model.eval()\n",
        "    \n",
        "    running_loss = 0.\n",
        "    num_correct = 0.\n",
        "    num_total = 0.\n",
        "    \n",
        "    for batch, labels in test_loader:\n",
        "        \n",
        "        if cuda:\n",
        "            batch = batch.cuda()\n",
        "            labels = labels.cuda()\n",
        "        \n",
        "        out = model(batch)\n",
        "        pred_labels = out.argmax(dim=1)\n",
        "        num_correct += float((pred_labels == labels).sum())\n",
        "        \n",
        "        loss = criterion(out, labels)\n",
        "        running_loss += loss.data.cpu()\n",
        "        \n",
        "        num_total += labels.shape[0]\n",
        "    \n",
        "    mean_loss = running_loss / num_total\n",
        "    accuracy = num_correct / num_total\n",
        "    \n",
        "    return mean_loss, accuracy\n",
        "        \n",
        "        "
      ],
      "id": "df782e66",
      "execution_count": 22,
      "outputs": []
    },
    {
      "cell_type": "code",
      "metadata": {
        "execution": {
          "iopub.execute_input": "2021-09-09T07:56:12.271897Z",
          "iopub.status.busy": "2021-09-09T07:56:12.271222Z",
          "iopub.status.idle": "2021-09-09T07:56:12.274398Z",
          "shell.execute_reply": "2021-09-09T07:56:12.274830Z",
          "shell.execute_reply.started": "2021-09-09T07:45:15.395888Z"
        },
        "papermill": {
          "duration": 0.038949,
          "end_time": "2021-09-09T07:56:12.274962",
          "exception": false,
          "start_time": "2021-09-09T07:56:12.236013",
          "status": "completed"
        },
        "tags": [],
        "id": "d443bd98"
      },
      "source": [
        "def train_model(n_epochs, model, optimizer, criterion, train_loader, test_loader, cuda=True):\n",
        "    \n",
        "    if cuda:\n",
        "        model = model.cuda()\n",
        "    \n",
        "    model = model.train()\n",
        "    \n",
        "    train_loss, train_acc = [], []\n",
        "    test_loss, test_acc = [], []\n",
        "    \n",
        "    for epoch in range(n_epochs):\n",
        "        t0 = time.perf_counter()\n",
        "        \n",
        "        running_loss = 0.\n",
        "        num_correct = 0.\n",
        "        num_total = 0.\n",
        "        \n",
        "        for batch, labels in train_loader:\n",
        "            if cuda:\n",
        "                batch = batch.cuda()\n",
        "                labels = labels.cuda()\n",
        "            \n",
        "            optimizer.zero_grad()\n",
        "            \n",
        "            out = model(batch)\n",
        "            pred_labels = out.argmax(dim=1)\n",
        "            num_correct += float((pred_labels == labels).sum())\n",
        "            num_total += labels.shape[0]\n",
        "            \n",
        "            \n",
        "            \n",
        "            loss = criterion(out, labels)\n",
        "            running_loss += loss\n",
        "            loss.backward()\n",
        "            optimizer.step()\n",
        "        \n",
        "        epoch_loss = running_loss / num_total\n",
        "        epoch_acc = num_correct / num_total\n",
        "        \n",
        "        train_loss.append(epoch_loss.data.cpu())\n",
        "        train_acc.append(epoch_acc)\n",
        "        \n",
        "        t_loss, t_acc = eval_model(model, criterion, test_loader, cuda=True)\n",
        "        \n",
        "        test_loss.append(t_loss.data.cpu())\n",
        "        test_acc.append(t_acc)\n",
        "        \n",
        "        t1 = time.perf_counter()\n",
        "        \n",
        "        delta_t = t1 - t0\n",
        "        print(f\"EPOCH {epoch} ({round(delta_t, 4)} s.): train loss - {epoch_loss}, train accuracy - {epoch_acc}; test loss - {t_loss}, test accuracy - {t_acc}\")\n",
        "        \n",
        "    \n",
        "    return model, train_loss, train_acc, test_loss, test_acc        \n",
        "        \n",
        "        "
      ],
      "id": "d443bd98",
      "execution_count": 23,
      "outputs": []
    },
    {
      "cell_type": "code",
      "metadata": {
        "execution": {
          "iopub.execute_input": "2021-09-09T07:56:12.331937Z",
          "iopub.status.busy": "2021-09-09T07:56:12.331403Z",
          "iopub.status.idle": "2021-09-09T07:56:12.335192Z",
          "shell.execute_reply": "2021-09-09T07:56:12.334774Z",
          "shell.execute_reply.started": "2021-09-08T15:18:07.976185Z"
        },
        "papermill": {
          "duration": 0.033937,
          "end_time": "2021-09-09T07:56:12.335298",
          "exception": false,
          "start_time": "2021-09-09T07:56:12.301361",
          "status": "completed"
        },
        "tags": [],
        "id": "dec9ee47"
      },
      "source": [
        "optimizer = optim.Adam(model.parameters(), lr=1e-3)\n",
        "criterion = nn.CrossEntropyLoss()"
      ],
      "id": "dec9ee47",
      "execution_count": 24,
      "outputs": []
    },
    {
      "cell_type": "code",
      "metadata": {
        "execution": {
          "iopub.execute_input": "2021-09-09T07:56:12.395534Z",
          "iopub.status.busy": "2021-09-09T07:56:12.394931Z",
          "iopub.status.idle": "2021-09-09T08:00:35.390356Z",
          "shell.execute_reply": "2021-09-09T08:00:35.390976Z",
          "shell.execute_reply.started": "2021-09-08T15:20:25.8057Z"
        },
        "papermill": {
          "duration": 263.029003,
          "end_time": "2021-09-09T08:00:35.391180",
          "exception": false,
          "start_time": "2021-09-09T07:56:12.362177",
          "status": "completed"
        },
        "tags": [],
        "colab": {
          "base_uri": "https://localhost:8080/"
        },
        "id": "96107d69",
        "outputId": "c662be5a-8c55-4d8d-dcf0-622d714c7a54"
      },
      "source": [
        "model, train_loss, train_acc, test_loss, test_acc = train_model(20, model, optimizer, criterion, train_loader, test_loader, cuda=True)"
      ],
      "id": "96107d69",
      "execution_count": 25,
      "outputs": [
        {
          "output_type": "stream",
          "name": "stdout",
          "text": [
            "EPOCH 0 (14.2901 s.): train loss - 0.010675240308046341, train accuracy - 0.38798033145146604; test loss - 0.005127804819494486, test accuracy - 0.7073340769659788\n",
            "EPOCH 1 (14.2259 s.): train loss - 0.004896213766187429, train accuracy - 0.7223092332908395; test loss - 0.0026465870905667543, test accuracy - 0.8205521472392638\n",
            "EPOCH 2 (14.1573 s.): train loss - 0.0032905463594943285, train accuracy - 0.8116554361682754; test loss - 0.0019050601404160261, test accuracy - 0.8831567205800335\n",
            "EPOCH 3 (14.2033 s.): train loss - 0.0026896754279732704, train accuracy - 0.8417046075396103; test loss - 0.002152571687474847, test accuracy - 0.8653095370886782\n",
            "EPOCH 4 (14.1554 s.): train loss - 0.0023171259090304375, train accuracy - 0.8606446913130578; test loss - 0.0020003621466457844, test accuracy - 0.8696319018404908\n",
            "EPOCH 5 (14.1198 s.): train loss - 0.0021157539449632168, train accuracy - 0.8702604261518849; test loss - 0.001713134115561843, test accuracy - 0.8984941438929169\n",
            "EPOCH 6 (14.0697 s.): train loss - 0.001936420681886375, train accuracy - 0.87936623565835; test loss - 0.0017182520823553205, test accuracy - 0.89654210819855\n",
            "EPOCH 7 (14.2481 s.): train loss - 0.0017729038372635841, train accuracy - 0.8882899289746858; test loss - 0.0021118908189237118, test accuracy - 0.8923591745677635\n",
            "EPOCH 8 (14.1967 s.): train loss - 0.001662904629483819, train accuracy - 0.8945547259151339; test loss - 0.0021186168305575848, test accuracy - 0.8753485778025656\n",
            "EPOCH 9 (14.2758 s.): train loss - 0.0015588809037581086, train accuracy - 0.9006738299034784; test loss - 0.0020532836206257343, test accuracy - 0.8897099832682654\n",
            "EPOCH 10 (14.1679 s.): train loss - 0.0014822576195001602, train accuracy - 0.9040611910398835; test loss - 0.0021174794528633356, test accuracy - 0.8800892359174568\n",
            "EPOCH 11 (14.1284 s.): train loss - 0.0013956616166979074, train accuracy - 0.9091240211254781; test loss - 0.0018062562448903918, test accuracy - 0.8905465699944227\n",
            "EPOCH 12 (14.187 s.): train loss - 0.0013261280255392194, train accuracy - 0.9141868512110727; test loss - 0.0017980618868023157, test accuracy - 0.8906860011154489\n",
            "EPOCH 13 (14.1538 s.): train loss - 0.0012993511045351624, train accuracy - 0.9137497723547623; test loss - 0.002159279538318515, test accuracy - 0.897239263803681\n",
            "EPOCH 14 (14.2274 s.): train loss - 0.0012214964954182506, train accuracy - 0.9205973411036241; test loss - 0.0019330650102347136, test accuracy - 0.9046291132180703\n",
            "EPOCH 15 (14.248 s.): train loss - 0.0011938299285247922, train accuracy - 0.9223092332908396; test loss - 0.0023130227345973253, test accuracy - 0.8728388176240937\n",
            "EPOCH 16 (14.2421 s.): train loss - 0.0011523214634507895, train accuracy - 0.9248224367146239; test loss - 0.002298820996657014, test accuracy - 0.897239263803681\n",
            "EPOCH 17 (14.1459 s.): train loss - 0.0010690655326470733, train accuracy - 0.9302130759424513; test loss - 0.0019424444762989879, test accuracy - 0.8918014500836586\n",
            "EPOCH 18 (14.1127 s.): train loss - 0.0010318702552467585, train accuracy - 0.9329812420324167; test loss - 0.0020318892784416676, test accuracy - 0.895287228109314\n",
            "EPOCH 19 (14.1316 s.): train loss - 0.001028877799399197, train accuracy - 0.9320342378437443; test loss - 0.002026940695941448, test accuracy - 0.8926380368098159\n"
          ]
        }
      ]
    },
    {
      "cell_type": "code",
      "metadata": {
        "execution": {
          "iopub.execute_input": "2021-09-09T08:00:35.475895Z",
          "iopub.status.busy": "2021-09-09T08:00:35.474738Z",
          "iopub.status.idle": "2021-09-09T08:00:35.778531Z",
          "shell.execute_reply": "2021-09-09T08:00:35.778937Z",
          "shell.execute_reply.started": "2021-09-08T15:30:58.960284Z"
        },
        "papermill": {
          "duration": 0.3556,
          "end_time": "2021-09-09T08:00:35.779075",
          "exception": false,
          "start_time": "2021-09-09T08:00:35.423475",
          "status": "completed"
        },
        "tags": [],
        "colab": {
          "base_uri": "https://localhost:8080/",
          "height": 407
        },
        "id": "574b5cc6",
        "outputId": "f88f0291-270d-4afd-fa82-381a522a0397"
      },
      "source": [
        "fig, (ax1, ax2) = plt.subplots(1, 2, figsize=(12,6))\n",
        "ax1.plot(train_loss)\n",
        "ax1.plot(test_loss)\n",
        "ax1.legend(['train', 'test'])\n",
        "ax1.set_title('Loss')\n",
        "ax2.plot(train_acc)\n",
        "ax2.plot(test_acc)\n",
        "ax2.legend(['train', 'test'])\n",
        "ax2.set_title('Accuracy')"
      ],
      "id": "574b5cc6",
      "execution_count": 26,
      "outputs": [
        {
          "output_type": "execute_result",
          "data": {
            "text/plain": [
              "Text(0.5, 1.0, 'Accuracy')"
            ]
          },
          "metadata": {},
          "execution_count": 26
        },
        {
          "output_type": "display_data",
          "data": {
            "image/png": "[encoded data removed]",
            "text/plain": [
              "<Figure size 864x432 with 2 Axes>"
            ]
          },
          "metadata": {
            "needs_background": "light"
          }
        }
      ]
    },
    {
      "cell_type": "code",
      "metadata": {
        "execution": {
          "iopub.execute_input": "2021-09-09T08:00:35.848833Z",
          "iopub.status.busy": "2021-09-09T08:00:35.848270Z",
          "iopub.status.idle": "2021-09-09T08:00:35.858626Z",
          "shell.execute_reply": "2021-09-09T08:00:35.859027Z",
          "shell.execute_reply.started": "2021-09-08T15:25:13.103751Z"
        },
        "papermill": {
          "duration": 0.047502,
          "end_time": "2021-09-09T08:00:35.859208",
          "exception": false,
          "start_time": "2021-09-09T08:00:35.811706",
          "status": "completed"
        },
        "tags": [],
        "id": "9c229f41"
      },
      "source": [
        "state = {'model': model.state_dict(),\n",
        "        'epoch': 20}\n",
        "torch.save(state, './myconvnet_sign_lang.pth')"
      ],
      "id": "9c229f41",
      "execution_count": 27,
      "outputs": []
    },
    {
      "cell_type": "code",
      "metadata": {
        "execution": {
          "iopub.execute_input": "2021-09-09T08:00:35.929711Z",
          "iopub.status.busy": "2021-09-09T08:00:35.927885Z",
          "iopub.status.idle": "2021-09-09T08:00:36.095302Z",
          "shell.execute_reply": "2021-09-09T08:00:36.096447Z",
          "shell.execute_reply.started": "2021-09-08T15:45:19.091004Z"
        },
        "papermill": {
          "duration": 0.204851,
          "end_time": "2021-09-09T08:00:36.096681",
          "exception": false,
          "start_time": "2021-09-09T08:00:35.891830",
          "status": "completed"
        },
        "tags": [],
        "id": "18e570e2"
      },
      "source": [
        "testiter = iter(test_loader)\n",
        "img, label = next(testiter)\n",
        "model = model.cpu()"
      ],
      "id": "18e570e2",
      "execution_count": 28,
      "outputs": []
    },
    {
      "cell_type": "code",
      "metadata": {
        "execution": {
          "iopub.execute_input": "2021-09-09T08:00:36.235342Z",
          "iopub.status.busy": "2021-09-09T08:00:36.234504Z",
          "iopub.status.idle": "2021-09-09T08:00:36.446756Z",
          "shell.execute_reply": "2021-09-09T08:00:36.447123Z",
          "shell.execute_reply.started": "2021-09-08T15:45:47.900875Z"
        },
        "papermill": {
          "duration": 0.281622,
          "end_time": "2021-09-09T08:00:36.447271",
          "exception": false,
          "start_time": "2021-09-09T08:00:36.165649",
          "status": "completed"
        },
        "tags": [],
        "colab": {
          "base_uri": "https://localhost:8080/",
          "height": 299
        },
        "id": "8b59c6d6",
        "outputId": "1a95ebd1-9027-433b-ab5d-aa0761e75214"
      },
      "source": [
        "idx=12\n",
        "pred = model(img)\n",
        "print(f'Fact: {label[idx]}, Prediction: {(torch.argmax(pred[idx], dim=0))}')\n",
        "show_img(img[idx], label[idx])"
      ],
      "id": "8b59c6d6",
      "execution_count": 29,
      "outputs": [
        {
          "output_type": "stream",
          "name": "stdout",
          "text": [
            "Fact: 12, Prediction: 13\n",
            "tensor(12)\n"
          ]
        },
        {
          "output_type": "display_data",
          "data": {
            "image/png": "[encoded data removed]",
            "text/plain": [
              "<Figure size 432x288 with 1 Axes>"
            ]
          },
          "metadata": {
            "needs_background": "light"
          }
        }
      ]
    },
    {
      "cell_type": "markdown",
      "metadata": {
        "papermill": {
          "duration": 0.034479,
          "end_time": "2021-09-09T08:00:36.516024",
          "exception": false,
          "start_time": "2021-09-09T08:00:36.481545",
          "status": "completed"
        },
        "tags": [],
        "id": "49d792ee"
      },
      "source": [
        "## Using ready ResNet18 architecture (with additional layers to match desired input and output sizes)"
      ],
      "id": "49d792ee"
    },
    {
      "cell_type": "code",
      "metadata": {
        "execution": {
          "iopub.execute_input": "2021-09-09T08:00:36.588578Z",
          "iopub.status.busy": "2021-09-09T08:00:36.587774Z",
          "iopub.status.idle": "2021-09-09T08:00:36.790262Z",
          "shell.execute_reply": "2021-09-09T08:00:36.790726Z",
          "shell.execute_reply.started": "2021-09-09T07:39:35.347020Z"
        },
        "papermill": {
          "duration": 0.240901,
          "end_time": "2021-09-09T08:00:36.790902",
          "exception": false,
          "start_time": "2021-09-09T08:00:36.550001",
          "status": "completed"
        },
        "tags": [],
        "colab": {
          "base_uri": "https://localhost:8080/"
        },
        "id": "e3626fc6",
        "outputId": "f99a328e-7620-4ae6-ddf1-344b4a9ec207"
      },
      "source": [
        "resnet18 = models.resnet18(pretrained=False)\n",
        "resnet18"
      ],
      "id": "e3626fc6",
      "execution_count": 30,
      "outputs": [
        {
          "output_type": "execute_result",
          "data": {
            "text/plain": [
              "ResNet(\n",
              "  (conv1): Conv2d(3, 64, kernel_size=(7, 7), stride=(2, 2), padding=(3, 3), bias=False)\n",
              "  (bn1): BatchNorm2d(64, eps=1e-05, momentum=0.1, affine=True, track_running_stats=True)\n",
              "  (relu): ReLU(inplace=True)\n",
              "  (maxpool): MaxPool2d(kernel_size=3, stride=2, padding=1, dilation=1, ceil_mode=False)\n",
              "  (layer1): Sequential(\n",
              "    (0): BasicBlock(\n",
              "      (conv1): Conv2d(64, 64, kernel_size=(3, 3), stride=(1, 1), padding=(1, 1), bias=False)\n",
              "      (bn1): BatchNorm2d(64, eps=1e-05, momentum=0.1, affine=True, track_running_stats=True)\n",
              "      (relu): ReLU(inplace=True)\n",
              "      (conv2): Conv2d(64, 64, kernel_size=(3, 3), stride=(1, 1), padding=(1, 1), bias=False)\n",
              "      (bn2): BatchNorm2d(64, eps=1e-05, momentum=0.1, affine=True, track_running_stats=True)\n",
              "    )\n",
              "    (1): BasicBlock(\n",
              "      (conv1): Conv2d(64, 64, kernel_size=(3, 3), stride=(1, 1), padding=(1, 1), bias=False)\n",
              "      (bn1): BatchNorm2d(64, eps=1e-05, momentum=0.1, affine=True, track_running_stats=True)\n",
              "      (relu): ReLU(inplace=True)\n",
              "      (conv2): Conv2d(64, 64, kernel_size=(3, 3), stride=(1, 1), padding=(1, 1), bias=False)\n",
              "      (bn2): BatchNorm2d(64, eps=1e-05, momentum=0.1, affine=True, track_running_stats=True)\n",
              "    )\n",
              "  )\n",
              "  (layer2): Sequential(\n",
              "    (0): BasicBlock(\n",
              "      (conv1): Conv2d(64, 128, kernel_size=(3, 3), stride=(2, 2), padding=(1, 1), bias=False)\n",
              "      (bn1): BatchNorm2d(128, eps=1e-05, momentum=0.1, affine=True, track_running_stats=True)\n",
              "      (relu): ReLU(inplace=True)\n",
              "      (conv2): Conv2d(128, 128, kernel_size=(3, 3), stride=(1, 1), padding=(1, 1), bias=False)\n",
              "      (bn2): BatchNorm2d(128, eps=1e-05, momentum=0.1, affine=True, track_running_stats=True)\n",
              "      (downsample): Sequential(\n",
              "        (0): Conv2d(64, 128, kernel_size=(1, 1), stride=(2, 2), bias=False)\n",
              "        (1): BatchNorm2d(128, eps=1e-05, momentum=0.1, affine=True, track_running_stats=True)\n",
              "      )\n",
              "    )\n",
              "    (1): BasicBlock(\n",
              "      (conv1): Conv2d(128, 128, kernel_size=(3, 3), stride=(1, 1), padding=(1, 1), bias=False)\n",
              "      (bn1): BatchNorm2d(128, eps=1e-05, momentum=0.1, affine=True, track_running_stats=True)\n",
              "      (relu): ReLU(inplace=True)\n",
              "      (conv2): Conv2d(128, 128, kernel_size=(3, 3), stride=(1, 1), padding=(1, 1), bias=False)\n",
              "      (bn2): BatchNorm2d(128, eps=1e-05, momentum=0.1, affine=True, track_running_stats=True)\n",
              "    )\n",
              "  )\n",
              "  (layer3): Sequential(\n",
              "    (0): BasicBlock(\n",
              "      (conv1): Conv2d(128, 256, kernel_size=(3, 3), stride=(2, 2), padding=(1, 1), bias=False)\n",
              "      (bn1): BatchNorm2d(256, eps=1e-05, momentum=0.1, affine=True, track_running_stats=True)\n",
              "      (relu): ReLU(inplace=True)\n",
              "      (conv2): Conv2d(256, 256, kernel_size=(3, 3), stride=(1, 1), padding=(1, 1), bias=False)\n",
              "      (bn2): BatchNorm2d(256, eps=1e-05, momentum=0.1, affine=True, track_running_stats=True)\n",
              "      (downsample): Sequential(\n",
              "        (0): Conv2d(128, 256, kernel_size=(1, 1), stride=(2, 2), bias=False)\n",
              "        (1): BatchNorm2d(256, eps=1e-05, momentum=0.1, affine=True, track_running_stats=True)\n",
              "      )\n",
              "    )\n",
              "    (1): BasicBlock(\n",
              "      (conv1): Conv2d(256, 256, kernel_size=(3, 3), stride=(1, 1), padding=(1, 1), bias=False)\n",
              "      (bn1): BatchNorm2d(256, eps=1e-05, momentum=0.1, affine=True, track_running_stats=True)\n",
              "      (relu): ReLU(inplace=True)\n",
              "      (conv2): Conv2d(256, 256, kernel_size=(3, 3), stride=(1, 1), padding=(1, 1), bias=False)\n",
              "      (bn2): BatchNorm2d(256, eps=1e-05, momentum=0.1, affine=True, track_running_stats=True)\n",
              "    )\n",
              "  )\n",
              "  (layer4): Sequential(\n",
              "    (0): BasicBlock(\n",
              "      (conv1): Conv2d(256, 512, kernel_size=(3, 3), stride=(2, 2), padding=(1, 1), bias=False)\n",
              "      (bn1): BatchNorm2d(512, eps=1e-05, momentum=0.1, affine=True, track_running_stats=True)\n",
              "      (relu): ReLU(inplace=True)\n",
              "      (conv2): Conv2d(512, 512, kernel_size=(3, 3), stride=(1, 1), padding=(1, 1), bias=False)\n",
              "      (bn2): BatchNorm2d(512, eps=1e-05, momentum=0.1, affine=True, track_running_stats=True)\n",
              "      (downsample): Sequential(\n",
              "        (0): Conv2d(256, 512, kernel_size=(1, 1), stride=(2, 2), bias=False)\n",
              "        (1): BatchNorm2d(512, eps=1e-05, momentum=0.1, affine=True, track_running_stats=True)\n",
              "      )\n",
              "    )\n",
              "    (1): BasicBlock(\n",
              "      (conv1): Conv2d(512, 512, kernel_size=(3, 3), stride=(1, 1), padding=(1, 1), bias=False)\n",
              "      (bn1): BatchNorm2d(512, eps=1e-05, momentum=0.1, affine=True, track_running_stats=True)\n",
              "      (relu): ReLU(inplace=True)\n",
              "      (conv2): Conv2d(512, 512, kernel_size=(3, 3), stride=(1, 1), padding=(1, 1), bias=False)\n",
              "      (bn2): BatchNorm2d(512, eps=1e-05, momentum=0.1, affine=True, track_running_stats=True)\n",
              "    )\n",
              "  )\n",
              "  (avgpool): AdaptiveAvgPool2d(output_size=(1, 1))\n",
              "  (fc): Linear(in_features=512, out_features=1000, bias=True)\n",
              ")"
            ]
          },
          "metadata": {},
          "execution_count": 30
        }
      ]
    },
    {
      "cell_type": "code",
      "metadata": {
        "execution": {
          "iopub.execute_input": "2021-09-09T08:00:36.865437Z",
          "iopub.status.busy": "2021-09-09T08:00:36.864736Z",
          "iopub.status.idle": "2021-09-09T08:00:36.867562Z",
          "shell.execute_reply": "2021-09-09T08:00:36.867140Z",
          "shell.execute_reply.started": "2021-09-09T07:42:29.074418Z"
        },
        "papermill": {
          "duration": 0.041507,
          "end_time": "2021-09-09T08:00:36.867675",
          "exception": false,
          "start_time": "2021-09-09T08:00:36.826168",
          "status": "completed"
        },
        "tags": [],
        "id": "89129a3d"
      },
      "source": [
        "resnet18.fc = nn.Linear(in_features=512, out_features=25) "
      ],
      "id": "89129a3d",
      "execution_count": 31,
      "outputs": []
    },
    {
      "cell_type": "code",
      "metadata": {
        "execution": {
          "iopub.execute_input": "2021-09-09T08:00:36.940399Z",
          "iopub.status.busy": "2021-09-09T08:00:36.939911Z",
          "iopub.status.idle": "2021-09-09T08:00:36.943763Z",
          "shell.execute_reply": "2021-09-09T08:00:36.943230Z",
          "shell.execute_reply.started": "2021-09-09T07:44:01.428554Z"
        },
        "papermill": {
          "duration": 0.041964,
          "end_time": "2021-09-09T08:00:36.943892",
          "exception": false,
          "start_time": "2021-09-09T08:00:36.901928",
          "status": "completed"
        },
        "tags": [],
        "id": "09d411c7"
      },
      "source": [
        "resnet18_1channel = nn.Sequential(nn.Conv2d(in_channels=1, out_channels=3, kernel_size=3, padding=1), \n",
        "                                resnet18)"
      ],
      "id": "09d411c7",
      "execution_count": 32,
      "outputs": []
    },
    {
      "cell_type": "code",
      "metadata": {
        "execution": {
          "iopub.execute_input": "2021-09-09T08:00:37.018373Z",
          "iopub.status.busy": "2021-09-09T08:00:37.017256Z",
          "iopub.status.idle": "2021-09-09T08:00:37.090226Z",
          "shell.execute_reply": "2021-09-09T08:00:37.089805Z",
          "shell.execute_reply.started": "2021-09-09T07:44:25.512993Z"
        },
        "papermill": {
          "duration": 0.11177,
          "end_time": "2021-09-09T08:00:37.090347",
          "exception": false,
          "start_time": "2021-09-09T08:00:36.978577",
          "status": "completed"
        },
        "tags": [],
        "colab": {
          "base_uri": "https://localhost:8080/"
        },
        "id": "5084a783",
        "outputId": "7da3c6ed-3575-4d8b-c814-8bccc53a5aff"
      },
      "source": [
        "smpl = torch.ones((10, 1, 28, 28))\n",
        "resnet18_1channel(smpl).shape"
      ],
      "id": "5084a783",
      "execution_count": 33,
      "outputs": [
        {
          "output_type": "stream",
          "name": "stderr",
          "text": [
            "/usr/local/lib/python3.7/dist-packages/torch/nn/functional.py:718: UserWarning: Named tensors and all their associated APIs are an experimental feature and subject to change. Please do not use them for anything important until they are released as stable. (Triggered internally at  /pytorch/c10/core/TensorImpl.h:1156.)\n",
            "  return torch.max_pool2d(input, kernel_size, stride, padding, dilation, ceil_mode)\n"
          ]
        },
        {
          "output_type": "execute_result",
          "data": {
            "text/plain": [
              "torch.Size([10, 25])"
            ]
          },
          "metadata": {},
          "execution_count": 33
        }
      ]
    },
    {
      "cell_type": "code",
      "metadata": {
        "execution": {
          "iopub.execute_input": "2021-09-09T08:00:37.167304Z",
          "iopub.status.busy": "2021-09-09T08:00:37.166066Z",
          "iopub.status.idle": "2021-09-09T08:00:37.168399Z",
          "shell.execute_reply": "2021-09-09T08:00:37.168827Z",
          "shell.execute_reply.started": "2021-09-09T07:45:39.988353Z"
        },
        "papermill": {
          "duration": 0.042599,
          "end_time": "2021-09-09T08:00:37.168949",
          "exception": false,
          "start_time": "2021-09-09T08:00:37.126350",
          "status": "completed"
        },
        "tags": [],
        "id": "e8945b80"
      },
      "source": [
        "optimizer = optim.Adam(resnet18_1channel.parameters(), lr=1e-3)\n",
        "criterion = nn.CrossEntropyLoss()"
      ],
      "id": "e8945b80",
      "execution_count": 34,
      "outputs": []
    },
    {
      "cell_type": "code",
      "metadata": {
        "execution": {
          "iopub.execute_input": "2021-09-09T08:00:37.242071Z",
          "iopub.status.busy": "2021-09-09T08:00:37.241580Z",
          "iopub.status.idle": "2021-09-09T08:08:43.672280Z",
          "shell.execute_reply": "2021-09-09T08:08:43.672906Z",
          "shell.execute_reply.started": "2021-09-09T07:46:29.718166Z"
        },
        "papermill": {
          "duration": 486.469641,
          "end_time": "2021-09-09T08:08:43.673113",
          "exception": false,
          "start_time": "2021-09-09T08:00:37.203472",
          "status": "completed"
        },
        "tags": [],
        "colab": {
          "base_uri": "https://localhost:8080/"
        },
        "id": "e3a33b96",
        "outputId": "a27f8d9d-82dc-40ed-ba4d-2022a8e8a9c8"
      },
      "source": [
        "model, train_loss, train_acc, test_loss, test_acc = train_model(30, resnet18_1channel, optimizer, criterion, train_loader, test_loader, cuda=True)"
      ],
      "id": "e3a33b96",
      "execution_count": 35,
      "outputs": [
        {
          "output_type": "stream",
          "name": "stdout",
          "text": [
            "EPOCH 0 (18.1212 s.): train loss - 0.0041451104916632175, train accuracy - 0.7525405208523037; test loss - 0.0018121289322152734, test accuracy - 0.8819018404907976\n",
            "EPOCH 1 (18.0476 s.): train loss - 0.015466601587831974, train accuracy - 0.14729557457657985; test loss - 0.008730575442314148, test accuracy - 0.39472950362520914\n",
            "EPOCH 2 (18.1359 s.): train loss - 0.006898985244333744, train accuracy - 0.553268985612821; test loss - 0.003999494947493076, test accuracy - 0.7279698828778584\n",
            "EPOCH 3 (18.1649 s.): train loss - 0.003673792351037264, train accuracy - 0.7684574758696048; test loss - 0.002044738968834281, test accuracy - 0.9023982152816509\n",
            "EPOCH 4 (18.0725 s.): train loss - 0.0027548742946237326, train accuracy - 0.8258969222363868; test loss - 0.0020877476781606674, test accuracy - 0.9089514779698828\n",
            "EPOCH 5 (18.1976 s.): train loss - 0.0024189797695726156, train accuracy - 0.8439628482972136; test loss - 0.00210236432030797, test accuracy - 0.9015616285554936\n",
            "EPOCH 6 (18.1331 s.): train loss - 0.0021920865401625633, train accuracy - 0.8594791476962302; test loss - 0.002093201968818903, test accuracy - 0.9082543223647518\n",
            "EPOCH 7 (18.0144 s.): train loss - 0.0017823120579123497, train accuracy - 0.884064833363686; test loss - 0.0011525858426466584, test accuracy - 0.9406023424428333\n",
            "EPOCH 8 (18.179 s.): train loss - 0.0015681852819398046, train accuracy - 0.8951374977235477; test loss - 0.0012214801972731948, test accuracy - 0.9333519241494702\n",
            "EPOCH 9 (18.0549 s.): train loss - 0.0014001264935359359, train accuracy - 0.9036969586596248; test loss - 0.0012762321857735515, test accuracy - 0.9323759063022866\n",
            "EPOCH 10 (18.2834 s.): train loss - 0.0012840675190091133, train accuracy - 0.9123656893097797; test loss - 0.0011843263637274504, test accuracy - 0.9491076408254322\n",
            "EPOCH 11 (18.0871 s.): train loss - 0.0012722144601866603, train accuracy - 0.9137133491167365; test loss - 0.0013887009117752314, test accuracy - 0.9220580033463469\n",
            "EPOCH 12 (18.1686 s.): train loss - 0.0011572098592296243, train accuracy - 0.9217628847204516; test loss - 0.0015158412279561162, test accuracy - 0.9284718349135527\n",
            "EPOCH 13 (18.1629 s.): train loss - 0.0010559086222201586, train accuracy - 0.927153523948279; test loss - 0.0013987786369398236, test accuracy - 0.9350250976017848\n",
            "EPOCH 14 (18.2359 s.): train loss - 0.0009500973974354565, train accuracy - 0.9348024039337097; test loss - 0.001305317273363471, test accuracy - 0.9484104852203011\n",
            "EPOCH 15 (18.0717 s.): train loss - 0.0008943174034357071, train accuracy - 0.938626843926425; test loss - 0.0013809599913656712, test accuracy - 0.939765755716676\n",
            "EPOCH 16 (18.095 s.): train loss - 0.000824668095447123, train accuracy - 0.9440174831542524; test loss - 0.0012476847041398287, test accuracy - 0.9474344673731177\n",
            "EPOCH 17 (18.1878 s.): train loss - 0.0008148651104420424, train accuracy - 0.9449644873429248; test loss - 0.0011420303490012884, test accuracy - 0.9495259341885108\n",
            "EPOCH 18 (18.1958 s.): train loss - 0.0007812638650648296, train accuracy - 0.9473319978146058; test loss - 0.0013553762109950185, test accuracy - 0.9500836586726157\n",
            "EPOCH 19 (18.2307 s.): train loss - 0.00078506552381441, train accuracy - 0.945692952103442; test loss - 0.000961556623224169, test accuracy - 0.9585889570552147\n",
            "EPOCH 20 (18.169 s.): train loss - 0.000696616421919316, train accuracy - 0.9526133673283554; test loss - 0.00122829619795084, test accuracy - 0.9537088678192973\n",
            "EPOCH 21 (18.0668 s.): train loss - 0.0007047579856589437, train accuracy - 0.9515570934256056; test loss - 0.0010316958650946617, test accuracy - 0.9478527607361963\n",
            "EPOCH 22 (18.1222 s.): train loss - 0.0006612660945393145, train accuracy - 0.9543252595155709; test loss - 0.0014268065569922328, test accuracy - 0.9440881204684886\n",
            "EPOCH 23 (17.9952 s.): train loss - 0.0006639313069172204, train accuracy - 0.9549080313239847; test loss - 0.0007582272519357502, test accuracy - 0.9616564417177914\n",
            "EPOCH 24 (18.3223 s.): train loss - 0.000628071662504226, train accuracy - 0.9565835002731743; test loss - 0.0009766716975718737, test accuracy - 0.9566369213608478\n",
            "EPOCH 25 (18.2176 s.): train loss - 0.0005924751167185605, train accuracy - 0.9600801311236569; test loss - 0.0008771847933530807, test accuracy - 0.956776352481874\n",
            "EPOCH 26 (18.1536 s.): train loss - 0.0006207514088600874, train accuracy - 0.9572755417956657; test loss - 0.0005674542626366019, test accuracy - 0.9683491355270496\n",
            "EPOCH 27 (18.1191 s.): train loss - 0.0005154770333319902, train accuracy - 0.9651793844472774; test loss - 0.000598836864810437, test accuracy - 0.9696040156162855\n",
            "EPOCH 28 (18.0981 s.): train loss - 0.0004908449482172728, train accuracy - 0.966308504826079; test loss - 0.0011492007179185748, test accuracy - 0.9446458449525934\n",
            "EPOCH 29 (18.1553 s.): train loss - 0.0005045848665758967, train accuracy - 0.9660899653979239; test loss - 0.0008725607767701149, test accuracy - 0.9599832682654769\n"
          ]
        }
      ]
    },
    {
      "cell_type": "code",
      "metadata": {
        "colab": {
          "base_uri": "https://localhost:8080/",
          "height": 407
        },
        "id": "wHDA4b53fkEb",
        "outputId": "149eb923-b353-4dc5-9020-4f511784317d"
      },
      "source": [
        "fig, (ax1, ax2) = plt.subplots(1, 2, figsize=(12,6))\n",
        "ax1.plot(train_loss)\n",
        "ax1.plot(test_loss)\n",
        "ax1.legend(['train', 'test'])\n",
        "ax1.set_title('Loss')\n",
        "ax2.plot(train_acc)\n",
        "ax2.plot(test_acc)\n",
        "ax2.legend(['train', 'test'])\n",
        "ax2.set_title('Accuracy')"
      ],
      "id": "wHDA4b53fkEb",
      "execution_count": 36,
      "outputs": [
        {
          "output_type": "execute_result",
          "data": {
            "text/plain": [
              "Text(0.5, 1.0, 'Accuracy')"
            ]
          },
          "metadata": {},
          "execution_count": 36
        },
        {
          "output_type": "display_data",
          "data": {
            "image/png": "[encoded data removed]",
            "text/plain": [
              "<Figure size 864x432 with 2 Axes>"
            ]
          },
          "metadata": {
            "needs_background": "light"
          }
        }
      ]
    },
    {
      "cell_type": "code",
      "metadata": {
        "id": "5OC_geH9i5nt"
      },
      "source": [
        "state = {'model': model.state_dict(),\n",
        "        'epoch': 20}\n",
        "torch.save(state, './myconvnet_sign_lang.pth')"
      ],
      "id": "5OC_geH9i5nt",
      "execution_count": 37,
      "outputs": []
    },
    {
      "cell_type": "code",
      "metadata": {
        "id": "PNUz6e8ri94U"
      },
      "source": [
        "testiter = iter(test_loader)\n",
        "img, label = next(testiter)\n",
        "model = model.cpu()"
      ],
      "id": "PNUz6e8ri94U",
      "execution_count": 38,
      "outputs": []
    },
    {
      "cell_type": "code",
      "metadata": {
        "colab": {
          "base_uri": "https://localhost:8080/",
          "height": 299
        },
        "id": "_dWevDEvjAxJ",
        "outputId": "1d2a86fd-3762-4ab0-92bf-6dcbf589ef3e"
      },
      "source": [
        "idx=12\n",
        "pred = model(img)\n",
        "print(f'Fact: {label[idx]}, Prediction: {(torch.argmax(pred[idx], dim=0))}')\n",
        "show_img(img[idx], label[idx])"
      ],
      "id": "_dWevDEvjAxJ",
      "execution_count": 39,
      "outputs": [
        {
          "output_type": "stream",
          "name": "stdout",
          "text": [
            "Fact: 1, Prediction: 1\n",
            "tensor(1)\n"
          ]
        },
        {
          "output_type": "display_data",
          "data": {
            "image/png": "[encoded data removed]",
            "text/plain": [
              "<Figure size 432x288 with 1 Axes>"
            ]
          },
          "metadata": {
            "needs_background": "light"
          }
        }
      ]
    },
    {
      "cell_type": "markdown",
      "metadata": {
        "id": "l4hYOcSdjOr0"
      },
      "source": [
        "# Thus we get 95.9% validation accuracy by combining two architectures"
      ],
      "id": "l4hYOcSdjOr0"
    }
  ]
}