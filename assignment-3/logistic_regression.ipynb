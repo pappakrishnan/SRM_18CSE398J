{
 "cells": [
  {
   "cell_type": "markdown",
   "metadata": {},
   "source": [
    "# Logistic regression"
   ]
  },
  {
   "cell_type": "code",
   "execution_count": 2,
   "metadata": {},
   "outputs": [],
   "source": [
    "import pandas\n",
    "import numpy as np\n",
    "import matplotlib.pyplot as plt\n",
    "import sys"
   ]
  },
  {
   "cell_type": "code",
   "execution_count": 3,
   "metadata": {},
   "outputs": [],
   "source": [
    "x_file = 'data/logisticX.csv'\n",
    "y_file = 'data/logisticY.csv'\n",
    "\n",
    "# Read data\n",
    "X = pandas.read_csv(x_file, header=None).values\n",
    "Y = np.squeeze(pandas.read_csv(y_file, header=None).values)"
   ]
  },
  {
   "cell_type": "markdown",
   "metadata": {},
   "source": [
    "### Newton's method"
   ]
  },
  {
   "cell_type": "code",
   "execution_count": 6,
   "metadata": {},
   "outputs": [],
   "source": [
    "eps = 1e-3\n",
    "\n",
    "def sigmoid(x):\n",
    "    return 1 / (1 + np.exp(-x))\n",
    "\n",
    "\n",
    "def newtons(X, Y):\n",
    "\n",
    "    m = X.shape[0]      # number of training examples\n",
    "    # append intercept term to X\n",
    "    Y = np.squeeze(Y)\n",
    "    X = np.append(np.ones((X.shape[0], 1)), X,  axis=1)\n",
    "    # initialize theta to zeros\n",
    "    theta = np.zeros(X.shape[1])\n",
    "\n",
    "    while True:\n",
    "        sigm = sigmoid(X @ theta)\n",
    "        grad = X.T @ (Y - sigm)\n",
    "        H = - X.T @ np.diag(sigm*(1-sigm)) @ X\n",
    "        # if not converged, update parameters\n",
    "        del_theta = np.linalg.inv(H) @ grad\n",
    "        if (del_theta < eps).all():\n",
    "            break\n",
    "        theta = theta - del_theta\n",
    "    print('theta = {}'.format(theta))\n",
    "    return theta"
   ]
  },
  {
   "cell_type": "code",
   "execution_count": 7,
   "metadata": {},
   "outputs": [
    {
     "name": "stdout",
     "output_type": "stream",
     "text": [
      "theta = [ 0.2232824   1.96257779 -1.96482452]\n"
     ]
    },
    {
     "data": {
      "image/png": "[encoded data removed]",
      "text/plain": [
       "<Figure size 432x288 with 1 Axes>"
      ]
     },
     "metadata": {
      "needs_background": "light"
     },
     "output_type": "display_data"
    }
   ],
   "source": [
    "# plot the points\n",
    "ind0 = np.where(Y == 0)\n",
    "ind1 = np.where(Y == 1)\n",
    "plt.scatter(X[ind0, 0], X[ind0, 1], s=10, label='y=0')\n",
    "plt.scatter(X[ind1, 0], X[ind1, 1], s=10, label='y=1', marker='v')\n",
    "plt.xlabel('x1')\n",
    "plt.ylabel('x2')\n",
    "\n",
    "theta = newtons(X, Y)\n",
    "\n",
    "# draw the decision boundary\n",
    "xx = np.linspace(X[:, 0].min()-1, X[:, 0].max()+1, 100)\n",
    "yy = -(theta[0] + theta[1] * xx)/theta[2]\n",
    "plt.plot(xx, yy, 'g', label='Decision boundary')\n",
    "plt.legend()\n",
    "plt.show()"
   ]
  }
 ],
 "metadata": {
  "kernelspec": {
   "display_name": "Python 3",
   "language": "python",
   "name": "python3"
  },
  "language_info": {
   "codemirror_mode": {
    "name": "ipython",
    "version": 3
   },
   "file_extension": ".py",
   "mimetype": "text/x-python",
   "name": "python",
   "nbconvert_exporter": "python",
   "pygments_lexer": "ipython3",
   "version": "3.6.8"
  }
 },
 "nbformat": 4,
 "nbformat_minor": 2
}
