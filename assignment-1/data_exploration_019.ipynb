{
 "cells": [
  {
   "cell_type": "code",
   "execution_count": 2,
   "id": "bca4bf44",
   "metadata": {},
   "outputs": [],
   "source": [
    "%matplotlib inline\n",
    "\n",
    "from numpy import arange\n",
    "from matplotlib import pyplot as plt\n",
    "from scipy.stats import norm\n",
    "import pandas as pd\n",
    "\n",
    "plt.rcParams['figure.figsize'] = [16, 7]"
   ]
  },
  {
   "cell_type": "code",
   "execution_count": 51,
   "id": "f70429e6",
   "metadata": {},
   "outputs": [
    {
     "data": {
      "text/html": [
       "<div>\n",
       "<style scoped>\n",
       "    .dataframe tbody tr th:only-of-type {\n",
       "        vertical-align: middle;\n",
       "    }\n",
       "\n",
       "    .dataframe tbody tr th {\n",
       "        vertical-align: top;\n",
       "    }\n",
       "\n",
       "    .dataframe thead th {\n",
       "        text-align: right;\n",
       "    }\n",
       "</style>\n",
       "<table border=\"1\" class=\"dataframe\">\n",
       "  <thead>\n",
       "    <tr style=\"text-align: right;\">\n",
       "      <th></th>\n",
       "      <th>Date</th>\n",
       "      <th>Open</th>\n",
       "      <th>High</th>\n",
       "      <th>Low</th>\n",
       "      <th>Close</th>\n",
       "      <th>Adj Close</th>\n",
       "      <th>Volume</th>\n",
       "    </tr>\n",
       "  </thead>\n",
       "  <tbody>\n",
       "    <tr>\n",
       "      <th>0</th>\n",
       "      <td>2010-06-29</td>\n",
       "      <td>3.800</td>\n",
       "      <td>5.000</td>\n",
       "      <td>3.508</td>\n",
       "      <td>4.778</td>\n",
       "      <td>4.778</td>\n",
       "      <td>93831500</td>\n",
       "    </tr>\n",
       "    <tr>\n",
       "      <th>1</th>\n",
       "      <td>2010-06-30</td>\n",
       "      <td>5.158</td>\n",
       "      <td>6.084</td>\n",
       "      <td>4.660</td>\n",
       "      <td>4.766</td>\n",
       "      <td>4.766</td>\n",
       "      <td>85935500</td>\n",
       "    </tr>\n",
       "    <tr>\n",
       "      <th>2</th>\n",
       "      <td>2010-07-01</td>\n",
       "      <td>5.000</td>\n",
       "      <td>5.184</td>\n",
       "      <td>4.054</td>\n",
       "      <td>4.392</td>\n",
       "      <td>4.392</td>\n",
       "      <td>41094000</td>\n",
       "    </tr>\n",
       "    <tr>\n",
       "      <th>3</th>\n",
       "      <td>2010-07-02</td>\n",
       "      <td>4.600</td>\n",
       "      <td>4.620</td>\n",
       "      <td>3.742</td>\n",
       "      <td>3.840</td>\n",
       "      <td>3.840</td>\n",
       "      <td>25699000</td>\n",
       "    </tr>\n",
       "    <tr>\n",
       "      <th>4</th>\n",
       "      <td>2010-07-06</td>\n",
       "      <td>4.000</td>\n",
       "      <td>4.000</td>\n",
       "      <td>3.166</td>\n",
       "      <td>3.222</td>\n",
       "      <td>3.222</td>\n",
       "      <td>34334500</td>\n",
       "    </tr>\n",
       "  </tbody>\n",
       "</table>\n",
       "</div>"
      ],
      "text/plain": [
       "         Date   Open   High    Low  Close  Adj Close    Volume\n",
       "0  2010-06-29  3.800  5.000  3.508  4.778      4.778  93831500\n",
       "1  2010-06-30  5.158  6.084  4.660  4.766      4.766  85935500\n",
       "2  2010-07-01  5.000  5.184  4.054  4.392      4.392  41094000\n",
       "3  2010-07-02  4.600  4.620  3.742  3.840      3.840  25699000\n",
       "4  2010-07-06  4.000  4.000  3.166  3.222      3.222  34334500"
      ]
     },
     "execution_count": 51,
     "metadata": {},
     "output_type": "execute_result"
    }
   ],
   "source": [
    "url = r'''C:\\Users\\jamwa\\Downloads\\tsla.csv'''\n",
    "\n",
    "columns = ['Date','Open','High','Low','Close','Adj Close','Volume']\n",
    "\n",
    "df = pd.read_csv(url, header=0)\n",
    "#df.columns = columns\n",
    "df.head()"
   ]
  },
  {
   "cell_type": "code",
   "execution_count": 10,
   "id": "88fd712f",
   "metadata": {},
   "outputs": [
    {
     "data": {
      "text/plain": [
       "Date         object\n",
       "Open         object\n",
       "High         object\n",
       "Low          object\n",
       "Close        object\n",
       "Adj Close    object\n",
       "Volume       object\n",
       "dtype: object"
      ]
     },
     "execution_count": 10,
     "metadata": {},
     "output_type": "execute_result"
    }
   ],
   "source": [
    "df.dtypes"
   ]
  },
  {
   "cell_type": "code",
   "execution_count": 53,
   "id": "6eaf7b02",
   "metadata": {},
   "outputs": [
    {
     "name": "stdout",
     "output_type": "stream",
     "text": [
      "<class 'pandas.core.frame.DataFrame'>\n",
      "RangeIndex: 2813 entries, 0 to 2812\n",
      "Data columns (total 7 columns):\n",
      " #   Column     Non-Null Count  Dtype  \n",
      "---  ------     --------------  -----  \n",
      " 0   Date       2813 non-null   object \n",
      " 1   Open       2813 non-null   float64\n",
      " 2   High       2813 non-null   float64\n",
      " 3   Low        2813 non-null   float64\n",
      " 4   Close      2813 non-null   float64\n",
      " 5   Adj Close  2813 non-null   float64\n",
      " 6   Volume     2813 non-null   int64  \n",
      "dtypes: float64(5), int64(1), object(1)\n",
      "memory usage: 154.0+ KB\n"
     ]
    }
   ],
   "source": [
    "df.info()"
   ]
  },
  {
   "cell_type": "code",
   "execution_count": 54,
   "id": "ed1d9f14",
   "metadata": {},
   "outputs": [
    {
     "data": {
      "text/plain": [
       "Index          128\n",
       "Date         22504\n",
       "Open         22504\n",
       "High         22504\n",
       "Low          22504\n",
       "Close        22504\n",
       "Adj Close    22504\n",
       "Volume       22504\n",
       "dtype: int64"
      ]
     },
     "execution_count": 54,
     "metadata": {},
     "output_type": "execute_result"
    }
   ],
   "source": [
    "df.memory_usage()"
   ]
  },
  {
   "cell_type": "code",
   "execution_count": 55,
   "id": "b15940c0",
   "metadata": {},
   "outputs": [
    {
     "data": {
      "text/plain": [
       "157656"
      ]
     },
     "execution_count": 55,
     "metadata": {},
     "output_type": "execute_result"
    }
   ],
   "source": [
    "df.memory_usage().sum()"
   ]
  },
  {
   "cell_type": "code",
   "execution_count": 56,
   "id": "1f999bbe",
   "metadata": {},
   "outputs": [
    {
     "data": {
      "text/html": [
       "<div>\n",
       "<style scoped>\n",
       "    .dataframe tbody tr th:only-of-type {\n",
       "        vertical-align: middle;\n",
       "    }\n",
       "\n",
       "    .dataframe tbody tr th {\n",
       "        vertical-align: top;\n",
       "    }\n",
       "\n",
       "    .dataframe thead th {\n",
       "        text-align: right;\n",
       "    }\n",
       "</style>\n",
       "<table border=\"1\" class=\"dataframe\">\n",
       "  <thead>\n",
       "    <tr style=\"text-align: right;\">\n",
       "      <th></th>\n",
       "      <th>Open</th>\n",
       "      <th>High</th>\n",
       "      <th>Low</th>\n",
       "      <th>Close</th>\n",
       "      <th>Adj Close</th>\n",
       "      <th>Volume</th>\n",
       "    </tr>\n",
       "  </thead>\n",
       "  <tbody>\n",
       "    <tr>\n",
       "      <th>count</th>\n",
       "      <td>2813.000000</td>\n",
       "      <td>2813.000000</td>\n",
       "      <td>2813.000000</td>\n",
       "      <td>2813.000000</td>\n",
       "      <td>2813.000000</td>\n",
       "      <td>2.813000e+03</td>\n",
       "    </tr>\n",
       "    <tr>\n",
       "      <th>mean</th>\n",
       "      <td>98.307804</td>\n",
       "      <td>100.386953</td>\n",
       "      <td>96.069256</td>\n",
       "      <td>98.349877</td>\n",
       "      <td>98.349877</td>\n",
       "      <td>3.160441e+07</td>\n",
       "    </tr>\n",
       "    <tr>\n",
       "      <th>std</th>\n",
       "      <td>176.108180</td>\n",
       "      <td>179.847860</td>\n",
       "      <td>171.937613</td>\n",
       "      <td>176.160413</td>\n",
       "      <td>176.160413</td>\n",
       "      <td>2.857384e+07</td>\n",
       "    </tr>\n",
       "    <tr>\n",
       "      <th>min</th>\n",
       "      <td>3.228000</td>\n",
       "      <td>3.326000</td>\n",
       "      <td>2.996000</td>\n",
       "      <td>3.160000</td>\n",
       "      <td>3.160000</td>\n",
       "      <td>5.925000e+05</td>\n",
       "    </tr>\n",
       "    <tr>\n",
       "      <th>25%</th>\n",
       "      <td>8.838000</td>\n",
       "      <td>9.228000</td>\n",
       "      <td>8.782000</td>\n",
       "      <td>9.090000</td>\n",
       "      <td>9.090000</td>\n",
       "      <td>1.232800e+07</td>\n",
       "    </tr>\n",
       "    <tr>\n",
       "      <th>50%</th>\n",
       "      <td>45.720001</td>\n",
       "      <td>46.307999</td>\n",
       "      <td>44.908001</td>\n",
       "      <td>45.664001</td>\n",
       "      <td>45.664001</td>\n",
       "      <td>2.513300e+07</td>\n",
       "    </tr>\n",
       "    <tr>\n",
       "      <th>75%</th>\n",
       "      <td>63.998001</td>\n",
       "      <td>65.334000</td>\n",
       "      <td>63.014000</td>\n",
       "      <td>64.269997</td>\n",
       "      <td>64.269997</td>\n",
       "      <td>4.050650e+07</td>\n",
       "    </tr>\n",
       "    <tr>\n",
       "      <th>max</th>\n",
       "      <td>891.380005</td>\n",
       "      <td>900.400024</td>\n",
       "      <td>871.599976</td>\n",
       "      <td>883.090027</td>\n",
       "      <td>883.090027</td>\n",
       "      <td>3.046940e+08</td>\n",
       "    </tr>\n",
       "  </tbody>\n",
       "</table>\n",
       "</div>"
      ],
      "text/plain": [
       "              Open         High          Low        Close    Adj Close  \\\n",
       "count  2813.000000  2813.000000  2813.000000  2813.000000  2813.000000   \n",
       "mean     98.307804   100.386953    96.069256    98.349877    98.349877   \n",
       "std     176.108180   179.847860   171.937613   176.160413   176.160413   \n",
       "min       3.228000     3.326000     2.996000     3.160000     3.160000   \n",
       "25%       8.838000     9.228000     8.782000     9.090000     9.090000   \n",
       "50%      45.720001    46.307999    44.908001    45.664001    45.664001   \n",
       "75%      63.998001    65.334000    63.014000    64.269997    64.269997   \n",
       "max     891.380005   900.400024   871.599976   883.090027   883.090027   \n",
       "\n",
       "             Volume  \n",
       "count  2.813000e+03  \n",
       "mean   3.160441e+07  \n",
       "std    2.857384e+07  \n",
       "min    5.925000e+05  \n",
       "25%    1.232800e+07  \n",
       "50%    2.513300e+07  \n",
       "75%    4.050650e+07  \n",
       "max    3.046940e+08  "
      ]
     },
     "execution_count": 56,
     "metadata": {},
     "output_type": "execute_result"
    }
   ],
   "source": [
    "df.describe()"
   ]
  },
  {
   "cell_type": "code",
   "execution_count": 57,
   "id": "3ca882eb",
   "metadata": {},
   "outputs": [
    {
     "data": {
      "text/plain": [
       "Open         9.830780e+01\n",
       "High         1.003870e+02\n",
       "Low          9.606926e+01\n",
       "Close        9.834988e+01\n",
       "Adj Close    9.834988e+01\n",
       "Volume       3.160441e+07\n",
       "dtype: float64"
      ]
     },
     "execution_count": 57,
     "metadata": {},
     "output_type": "execute_result"
    }
   ],
   "source": [
    "df.mean()"
   ]
  },
  {
   "cell_type": "code",
   "execution_count": 58,
   "id": "b53747c8",
   "metadata": {},
   "outputs": [
    {
     "data": {
      "text/plain": [
       "Open         3.101409e+04\n",
       "High         3.234525e+04\n",
       "Low          2.956254e+04\n",
       "Close        3.103249e+04\n",
       "Adj Close    3.103249e+04\n",
       "Volume       8.164646e+14\n",
       "dtype: float64"
      ]
     },
     "execution_count": 58,
     "metadata": {},
     "output_type": "execute_result"
    }
   ],
   "source": [
    "df.var()"
   ]
  },
  {
   "cell_type": "code",
   "execution_count": 59,
   "id": "86fc2390",
   "metadata": {},
   "outputs": [
    {
     "data": {
      "text/plain": [
       "Open         2.821972\n",
       "High         2.812831\n",
       "Low          2.830220\n",
       "Close        2.820368\n",
       "Adj Close    2.820368\n",
       "Volume       2.262218\n",
       "dtype: float64"
      ]
     },
     "execution_count": 59,
     "metadata": {},
     "output_type": "execute_result"
    }
   ],
   "source": [
    "df.skew()"
   ]
  },
  {
   "cell_type": "code",
   "execution_count": 60,
   "id": "05678052",
   "metadata": {},
   "outputs": [
    {
     "data": {
      "text/plain": [
       "Open         6.885320\n",
       "High         6.821455\n",
       "Low          6.944914\n",
       "Close        6.873660\n",
       "Adj Close    6.873660\n",
       "Volume       8.854525\n",
       "dtype: float64"
      ]
     },
     "execution_count": 60,
     "metadata": {},
     "output_type": "execute_result"
    }
   ],
   "source": [
    "df.kurtosis()"
   ]
  },
  {
   "cell_type": "code",
   "execution_count": 61,
   "id": "066c49ad",
   "metadata": {},
   "outputs": [
    {
     "data": {
      "text/plain": [
       "Date         2010-06-29\n",
       "Open              3.228\n",
       "High              3.326\n",
       "Low               2.996\n",
       "Close              3.16\n",
       "Adj Close          3.16\n",
       "Volume           592500\n",
       "dtype: object"
      ]
     },
     "execution_count": 61,
     "metadata": {},
     "output_type": "execute_result"
    }
   ],
   "source": [
    "df.min()"
   ]
  },
  {
   "cell_type": "code",
   "execution_count": 62,
   "id": "a18b9396",
   "metadata": {},
   "outputs": [
    {
     "data": {
      "text/plain": [
       "Date         2021-08-30\n",
       "Open         891.380005\n",
       "High         900.400024\n",
       "Low          871.599976\n",
       "Close        883.090027\n",
       "Adj Close    883.090027\n",
       "Volume        304694000\n",
       "dtype: object"
      ]
     },
     "execution_count": 62,
     "metadata": {},
     "output_type": "execute_result"
    }
   ],
   "source": [
    "df.max()"
   ]
  },
  {
   "cell_type": "code",
   "execution_count": 63,
   "id": "ebc67d12",
   "metadata": {},
   "outputs": [
    {
     "data": {
      "text/plain": [
       "Open         4.572000e+01\n",
       "High         4.630800e+01\n",
       "Low          4.490800e+01\n",
       "Close        4.566400e+01\n",
       "Adj Close    4.566400e+01\n",
       "Volume       2.513300e+07\n",
       "dtype: float64"
      ]
     },
     "execution_count": 63,
     "metadata": {},
     "output_type": "execute_result"
    }
   ],
   "source": [
    "df.median()"
   ]
  },
  {
   "cell_type": "code",
   "execution_count": 64,
   "id": "d72d75c2",
   "metadata": {},
   "outputs": [
    {
     "data": {
      "text/html": [
       "<div>\n",
       "<style scoped>\n",
       "    .dataframe tbody tr th:only-of-type {\n",
       "        vertical-align: middle;\n",
       "    }\n",
       "\n",
       "    .dataframe tbody tr th {\n",
       "        vertical-align: top;\n",
       "    }\n",
       "\n",
       "    .dataframe thead th {\n",
       "        text-align: right;\n",
       "    }\n",
       "</style>\n",
       "<table border=\"1\" class=\"dataframe\">\n",
       "  <thead>\n",
       "    <tr style=\"text-align: right;\">\n",
       "      <th></th>\n",
       "      <th>Open</th>\n",
       "      <th>High</th>\n",
       "      <th>Low</th>\n",
       "      <th>Close</th>\n",
       "      <th>Adj Close</th>\n",
       "      <th>Volume</th>\n",
       "    </tr>\n",
       "  </thead>\n",
       "  <tbody>\n",
       "    <tr>\n",
       "      <th>Open</th>\n",
       "      <td>1.000000</td>\n",
       "      <td>0.999740</td>\n",
       "      <td>0.999666</td>\n",
       "      <td>0.999371</td>\n",
       "      <td>0.999371</td>\n",
       "      <td>0.174808</td>\n",
       "    </tr>\n",
       "    <tr>\n",
       "      <th>High</th>\n",
       "      <td>0.999740</td>\n",
       "      <td>1.000000</td>\n",
       "      <td>0.999594</td>\n",
       "      <td>0.999751</td>\n",
       "      <td>0.999751</td>\n",
       "      <td>0.179915</td>\n",
       "    </tr>\n",
       "    <tr>\n",
       "      <th>Low</th>\n",
       "      <td>0.999666</td>\n",
       "      <td>0.999594</td>\n",
       "      <td>1.000000</td>\n",
       "      <td>0.999654</td>\n",
       "      <td>0.999654</td>\n",
       "      <td>0.169714</td>\n",
       "    </tr>\n",
       "    <tr>\n",
       "      <th>Close</th>\n",
       "      <td>0.999371</td>\n",
       "      <td>0.999751</td>\n",
       "      <td>0.999654</td>\n",
       "      <td>1.000000</td>\n",
       "      <td>1.000000</td>\n",
       "      <td>0.175873</td>\n",
       "    </tr>\n",
       "    <tr>\n",
       "      <th>Adj Close</th>\n",
       "      <td>0.999371</td>\n",
       "      <td>0.999751</td>\n",
       "      <td>0.999654</td>\n",
       "      <td>1.000000</td>\n",
       "      <td>1.000000</td>\n",
       "      <td>0.175873</td>\n",
       "    </tr>\n",
       "    <tr>\n",
       "      <th>Volume</th>\n",
       "      <td>0.174808</td>\n",
       "      <td>0.179915</td>\n",
       "      <td>0.169714</td>\n",
       "      <td>0.175873</td>\n",
       "      <td>0.175873</td>\n",
       "      <td>1.000000</td>\n",
       "    </tr>\n",
       "  </tbody>\n",
       "</table>\n",
       "</div>"
      ],
      "text/plain": [
       "               Open      High       Low     Close  Adj Close    Volume\n",
       "Open       1.000000  0.999740  0.999666  0.999371   0.999371  0.174808\n",
       "High       0.999740  1.000000  0.999594  0.999751   0.999751  0.179915\n",
       "Low        0.999666  0.999594  1.000000  0.999654   0.999654  0.169714\n",
       "Close      0.999371  0.999751  0.999654  1.000000   1.000000  0.175873\n",
       "Adj Close  0.999371  0.999751  0.999654  1.000000   1.000000  0.175873\n",
       "Volume     0.174808  0.179915  0.169714  0.175873   0.175873  1.000000"
      ]
     },
     "execution_count": 64,
     "metadata": {},
     "output_type": "execute_result"
    }
   ],
   "source": [
    "df.corr()"
   ]
  },
  {
   "cell_type": "code",
   "execution_count": 65,
   "id": "325cbfb8",
   "metadata": {},
   "outputs": [],
   "source": [
    "import seaborn as sns"
   ]
  },
  {
   "cell_type": "code",
   "execution_count": 66,
   "id": "b0aea6ba",
   "metadata": {},
   "outputs": [
    {
     "data": {
      "text/plain": [
       "<AxesSubplot:>"
      ]
     },
     "execution_count": 66,
     "metadata": {},
     "output_type": "execute_result"
    },
    {
     "data": {
      "image/png": "[encoded data removed]",
      "text/plain": [
       "<Figure size 1152x504 with 2 Axes>"
      ]
     },
     "metadata": {
      "needs_background": "light"
     },
     "output_type": "display_data"
    }
   ],
   "source": [
    "sns.heatmap(df.corr(), annot=True)"
   ]
  },
  {
   "cell_type": "code",
   "execution_count": 80,
   "id": "2272ee2f",
   "metadata": {},
   "outputs": [
    {
     "data": {
      "image/png": "[encoded data removed]",
      "text/plain": [
       "<Figure size 864x360 with 1 Axes>"
      ]
     },
     "metadata": {
      "needs_background": "light"
     },
     "output_type": "display_data"
    }
   ],
   "source": [
    "df['Volume'].plot(figsize=(12, 5), color='black') # color and figsize changed\n",
    "\n",
    "#plt.xlim(0, 305000000) # range for x-axis\n",
    "#plt.ylim(0, 305000000) # range for x-axis\n",
    "plt.xlabel('index')\n",
    "plt.ylabel('Volume'); # \";\" prevents object info from displaying"
   ]
  },
  {
   "cell_type": "code",
   "execution_count": 77,
   "id": "66cd79c7",
   "metadata": {},
   "outputs": [
    {
     "data": {
      "text/plain": [
       "<AxesSubplot:xlabel='Low', ylabel='High'>"
      ]
     },
     "execution_count": 77,
     "metadata": {},
     "output_type": "execute_result"
    },
    {
     "data": {
      "image/png": "[encoded data removed]",
      "text/plain": [
       "<Figure size 576x360 with 1 Axes>"
      ]
     },
     "metadata": {
      "needs_background": "light"
     },
     "output_type": "display_data"
    }
   ],
   "source": [
    "df.plot.scatter('Low', 'High', figsize=(8, 5))"
   ]
  },
  {
   "cell_type": "code",
   "execution_count": 81,
   "id": "d2dfced8",
   "metadata": {},
   "outputs": [
    {
     "data": {
      "text/plain": [
       "<AxesSubplot:>"
      ]
     },
     "execution_count": 81,
     "metadata": {},
     "output_type": "execute_result"
    },
    {
     "data": {
      "image/png": "[encoded data removed]",
      "text/plain": [
       "<Figure size 1152x360 with 1 Axes>"
      ]
     },
     "metadata": {
      "needs_background": "light"
     },
     "output_type": "display_data"
    }
   ],
   "source": [
    "df.boxplot(figsize=(16, 5))"
   ]
  },
  {
   "cell_type": "code",
   "execution_count": 82,
   "id": "0d787e26",
   "metadata": {},
   "outputs": [
    {
     "data": {
      "image/png": "[encoded data removed]",
      "text/plain": [
       "<Figure size 576x360 with 1 Axes>"
      ]
     },
     "metadata": {
      "needs_background": "light"
     },
     "output_type": "display_data"
    }
   ],
   "source": [
    "df['Volume'].hist(bins=30, figsize=(8, 5));"
   ]
  },
  {
   "cell_type": "code",
   "execution_count": 85,
   "id": "26386723",
   "metadata": {},
   "outputs": [
    {
     "data": {
      "image/png": "[encoded data removed]",
      "text/plain": [
       "<Figure size 1152x504 with 1 Axes>"
      ]
     },
     "metadata": {
      "needs_background": "light"
     },
     "output_type": "display_data"
    }
   ],
   "source": [
    "df_avg_BP = df.groupby('Date')['Volume'].mean()\n",
    "df_avg_BP[:10].plot.bar(color='orange');"
   ]
  },
  {
   "cell_type": "code",
   "execution_count": 86,
   "id": "880d6492",
   "metadata": {},
   "outputs": [
    {
     "data": {
      "image/png": "[encoded data removed]",
      "text/plain": [
       "<Figure size 1152x504 with 1 Axes>"
      ]
     },
     "metadata": {
      "needs_background": "light"
     },
     "output_type": "display_data"
    }
   ],
   "source": [
    "ax = df[['Date', 'Volume']][:5].plot.bar(stacked=True)\n",
    "\n",
    "ax.set_xlabel(\"Index\")\n",
    "ax.set_ylabel(\"Count\");"
   ]
  },
  {
   "cell_type": "code",
   "execution_count": null,
   "id": "6d187aad",
   "metadata": {},
   "outputs": [],
   "source": []
  }
 ],
 "metadata": {
  "kernelspec": {
   "display_name": "Python 3",
   "language": "python",
   "name": "python3"
  },
  "language_info": {
   "codemirror_mode": {
    "name": "ipython",
    "version": 3
   },
   "file_extension": ".py",
   "mimetype": "text/x-python",
   "name": "python",
   "nbconvert_exporter": "python",
   "pygments_lexer": "ipython3",
   "version": "3.9.6"
  }
 },
 "nbformat": 4,
 "nbformat_minor": 5
}
