{
  "nbformat": 4,
  "nbformat_minor": 0,
  "metadata": {
    "kernelspec": {
      "display_name": "Python 3",
      "language": "python",
      "name": "python3"
    },
    "language_info": {
      "codemirror_mode": {
        "name": "ipython",
        "version": 3
      },
      "file_extension": ".py",
      "mimetype": "text/x-python",
      "name": "python",
      "nbconvert_exporter": "python",
      "pygments_lexer": "ipython3",
      "version": "3.8.5"
    },
    "colab": {
      "name": "782-assignment5.ipynb",
      "provenance": []
    }
  },
  "cells": [
    {
      "cell_type": "markdown",
      "metadata": {
        "id": "vVmfS7d31ZpS"
      },
      "source": [
        "# Assignment 5\n",
        "## Harshit Aggarwal RA1911003010782\n",
        "\n",
        "Dataset used: wine quality dataset from kaggle"
      ]
    },
    {
      "cell_type": "markdown",
      "metadata": {
        "id": "AtRjCB0f1lXZ"
      },
      "source": [
        "## Importing Libraries and Dataset"
      ]
    },
    {
      "cell_type": "code",
      "metadata": {
        "id": "b5wNyyzs1XKz"
      },
      "source": [
        "import pandas as pd\n",
        "from sklearn.metrics import accuracy_score, confusion_matrix,f1_score\n",
        "from sklearn.model_selection import train_test_split\n",
        "from sklearn.tree import DecisionTreeClassifier\n",
        "from sklearn import tree\n"
      ],
      "execution_count": 1,
      "outputs": []
    },
    {
      "cell_type": "code",
      "metadata": {
        "colab": {
          "base_uri": "https://localhost:8080/",
          "height": 204
        },
        "id": "FB4833Tu1XK3",
        "outputId": "5f6c5c07-ffd4-4021-9811-ae567e1b93d1"
      },
      "source": [
        "data = pd.read_csv('/content/winequalityN.csv')\n",
        "data.head()\n",
        "#a dataset, which tells the quality of wine based on various factors in the wine"
      ],
      "execution_count": 2,
      "outputs": [
        {
          "output_type": "execute_result",
          "data": {
            "text/html": [
              "<div>\n",
              "<style scoped>\n",
              "    .dataframe tbody tr th:only-of-type {\n",
              "        vertical-align: middle;\n",
              "    }\n",
              "\n",
              "    .dataframe tbody tr th {\n",
              "        vertical-align: top;\n",
              "    }\n",
              "\n",
              "    .dataframe thead th {\n",
              "        text-align: right;\n",
              "    }\n",
              "</style>\n",
              "<table border=\"1\" class=\"dataframe\">\n",
              "  <thead>\n",
              "    <tr style=\"text-align: right;\">\n",
              "      <th></th>\n",
              "      <th>type</th>\n",
              "      <th>fixed acidity</th>\n",
              "      <th>volatile acidity</th>\n",
              "      <th>citric acid</th>\n",
              "      <th>residual sugar</th>\n",
              "      <th>chlorides</th>\n",
              "      <th>free sulfur dioxide</th>\n",
              "      <th>total sulfur dioxide</th>\n",
              "      <th>density</th>\n",
              "      <th>pH</th>\n",
              "      <th>sulphates</th>\n",
              "      <th>alcohol</th>\n",
              "      <th>quality</th>\n",
              "    </tr>\n",
              "  </thead>\n",
              "  <tbody>\n",
              "    <tr>\n",
              "      <th>0</th>\n",
              "      <td>white</td>\n",
              "      <td>7.0</td>\n",
              "      <td>0.27</td>\n",
              "      <td>0.36</td>\n",
              "      <td>20.7</td>\n",
              "      <td>0.045</td>\n",
              "      <td>45.0</td>\n",
              "      <td>170.0</td>\n",
              "      <td>1.0010</td>\n",
              "      <td>3.00</td>\n",
              "      <td>0.45</td>\n",
              "      <td>8.8</td>\n",
              "      <td>6</td>\n",
              "    </tr>\n",
              "    <tr>\n",
              "      <th>1</th>\n",
              "      <td>white</td>\n",
              "      <td>6.3</td>\n",
              "      <td>0.30</td>\n",
              "      <td>0.34</td>\n",
              "      <td>1.6</td>\n",
              "      <td>0.049</td>\n",
              "      <td>14.0</td>\n",
              "      <td>132.0</td>\n",
              "      <td>0.9940</td>\n",
              "      <td>3.30</td>\n",
              "      <td>0.49</td>\n",
              "      <td>9.5</td>\n",
              "      <td>6</td>\n",
              "    </tr>\n",
              "    <tr>\n",
              "      <th>2</th>\n",
              "      <td>white</td>\n",
              "      <td>8.1</td>\n",
              "      <td>0.28</td>\n",
              "      <td>0.40</td>\n",
              "      <td>6.9</td>\n",
              "      <td>0.050</td>\n",
              "      <td>30.0</td>\n",
              "      <td>97.0</td>\n",
              "      <td>0.9951</td>\n",
              "      <td>3.26</td>\n",
              "      <td>0.44</td>\n",
              "      <td>10.1</td>\n",
              "      <td>6</td>\n",
              "    </tr>\n",
              "    <tr>\n",
              "      <th>3</th>\n",
              "      <td>white</td>\n",
              "      <td>7.2</td>\n",
              "      <td>0.23</td>\n",
              "      <td>0.32</td>\n",
              "      <td>8.5</td>\n",
              "      <td>0.058</td>\n",
              "      <td>47.0</td>\n",
              "      <td>186.0</td>\n",
              "      <td>0.9956</td>\n",
              "      <td>3.19</td>\n",
              "      <td>0.40</td>\n",
              "      <td>9.9</td>\n",
              "      <td>6</td>\n",
              "    </tr>\n",
              "    <tr>\n",
              "      <th>4</th>\n",
              "      <td>white</td>\n",
              "      <td>7.2</td>\n",
              "      <td>0.23</td>\n",
              "      <td>0.32</td>\n",
              "      <td>8.5</td>\n",
              "      <td>0.058</td>\n",
              "      <td>47.0</td>\n",
              "      <td>186.0</td>\n",
              "      <td>0.9956</td>\n",
              "      <td>3.19</td>\n",
              "      <td>0.40</td>\n",
              "      <td>9.9</td>\n",
              "      <td>6</td>\n",
              "    </tr>\n",
              "  </tbody>\n",
              "</table>\n",
              "</div>"
            ],
            "text/plain": [
              "    type  fixed acidity  volatile acidity  ...  sulphates  alcohol  quality\n",
              "0  white            7.0              0.27  ...       0.45      8.8        6\n",
              "1  white            6.3              0.30  ...       0.49      9.5        6\n",
              "2  white            8.1              0.28  ...       0.44     10.1        6\n",
              "3  white            7.2              0.23  ...       0.40      9.9        6\n",
              "4  white            7.2              0.23  ...       0.40      9.9        6\n",
              "\n",
              "[5 rows x 13 columns]"
            ]
          },
          "metadata": {},
          "execution_count": 2
        }
      ]
    },
    {
      "cell_type": "code",
      "metadata": {
        "colab": {
          "base_uri": "https://localhost:8080/",
          "height": 297
        },
        "id": "zAr_PnUu1XK5",
        "outputId": "37e1e005-e16c-4cb9-d28b-36e7a070616a"
      },
      "source": [
        "data.describe()\n",
        "#no out liners or extream values are present, as we can see from minimum, maximum and std rows"
      ],
      "execution_count": 3,
      "outputs": [
        {
          "output_type": "execute_result",
          "data": {
            "text/html": [
              "<div>\n",
              "<style scoped>\n",
              "    .dataframe tbody tr th:only-of-type {\n",
              "        vertical-align: middle;\n",
              "    }\n",
              "\n",
              "    .dataframe tbody tr th {\n",
              "        vertical-align: top;\n",
              "    }\n",
              "\n",
              "    .dataframe thead th {\n",
              "        text-align: right;\n",
              "    }\n",
              "</style>\n",
              "<table border=\"1\" class=\"dataframe\">\n",
              "  <thead>\n",
              "    <tr style=\"text-align: right;\">\n",
              "      <th></th>\n",
              "      <th>fixed acidity</th>\n",
              "      <th>volatile acidity</th>\n",
              "      <th>citric acid</th>\n",
              "      <th>residual sugar</th>\n",
              "      <th>chlorides</th>\n",
              "      <th>free sulfur dioxide</th>\n",
              "      <th>total sulfur dioxide</th>\n",
              "      <th>density</th>\n",
              "      <th>pH</th>\n",
              "      <th>sulphates</th>\n",
              "      <th>alcohol</th>\n",
              "      <th>quality</th>\n",
              "    </tr>\n",
              "  </thead>\n",
              "  <tbody>\n",
              "    <tr>\n",
              "      <th>count</th>\n",
              "      <td>6487.000000</td>\n",
              "      <td>6489.000000</td>\n",
              "      <td>6494.000000</td>\n",
              "      <td>6495.000000</td>\n",
              "      <td>6495.000000</td>\n",
              "      <td>6497.000000</td>\n",
              "      <td>6497.000000</td>\n",
              "      <td>6497.000000</td>\n",
              "      <td>6488.000000</td>\n",
              "      <td>6493.000000</td>\n",
              "      <td>6497.000000</td>\n",
              "      <td>6497.000000</td>\n",
              "    </tr>\n",
              "    <tr>\n",
              "      <th>mean</th>\n",
              "      <td>7.216579</td>\n",
              "      <td>0.339691</td>\n",
              "      <td>0.318722</td>\n",
              "      <td>5.444326</td>\n",
              "      <td>0.056042</td>\n",
              "      <td>30.525319</td>\n",
              "      <td>115.744574</td>\n",
              "      <td>0.994697</td>\n",
              "      <td>3.218395</td>\n",
              "      <td>0.531215</td>\n",
              "      <td>10.491801</td>\n",
              "      <td>5.818378</td>\n",
              "    </tr>\n",
              "    <tr>\n",
              "      <th>std</th>\n",
              "      <td>1.296750</td>\n",
              "      <td>0.164649</td>\n",
              "      <td>0.145265</td>\n",
              "      <td>4.758125</td>\n",
              "      <td>0.035036</td>\n",
              "      <td>17.749400</td>\n",
              "      <td>56.521855</td>\n",
              "      <td>0.002999</td>\n",
              "      <td>0.160748</td>\n",
              "      <td>0.148814</td>\n",
              "      <td>1.192712</td>\n",
              "      <td>0.873255</td>\n",
              "    </tr>\n",
              "    <tr>\n",
              "      <th>min</th>\n",
              "      <td>3.800000</td>\n",
              "      <td>0.080000</td>\n",
              "      <td>0.000000</td>\n",
              "      <td>0.600000</td>\n",
              "      <td>0.009000</td>\n",
              "      <td>1.000000</td>\n",
              "      <td>6.000000</td>\n",
              "      <td>0.987110</td>\n",
              "      <td>2.720000</td>\n",
              "      <td>0.220000</td>\n",
              "      <td>8.000000</td>\n",
              "      <td>3.000000</td>\n",
              "    </tr>\n",
              "    <tr>\n",
              "      <th>25%</th>\n",
              "      <td>6.400000</td>\n",
              "      <td>0.230000</td>\n",
              "      <td>0.250000</td>\n",
              "      <td>1.800000</td>\n",
              "      <td>0.038000</td>\n",
              "      <td>17.000000</td>\n",
              "      <td>77.000000</td>\n",
              "      <td>0.992340</td>\n",
              "      <td>3.110000</td>\n",
              "      <td>0.430000</td>\n",
              "      <td>9.500000</td>\n",
              "      <td>5.000000</td>\n",
              "    </tr>\n",
              "    <tr>\n",
              "      <th>50%</th>\n",
              "      <td>7.000000</td>\n",
              "      <td>0.290000</td>\n",
              "      <td>0.310000</td>\n",
              "      <td>3.000000</td>\n",
              "      <td>0.047000</td>\n",
              "      <td>29.000000</td>\n",
              "      <td>118.000000</td>\n",
              "      <td>0.994890</td>\n",
              "      <td>3.210000</td>\n",
              "      <td>0.510000</td>\n",
              "      <td>10.300000</td>\n",
              "      <td>6.000000</td>\n",
              "    </tr>\n",
              "    <tr>\n",
              "      <th>75%</th>\n",
              "      <td>7.700000</td>\n",
              "      <td>0.400000</td>\n",
              "      <td>0.390000</td>\n",
              "      <td>8.100000</td>\n",
              "      <td>0.065000</td>\n",
              "      <td>41.000000</td>\n",
              "      <td>156.000000</td>\n",
              "      <td>0.996990</td>\n",
              "      <td>3.320000</td>\n",
              "      <td>0.600000</td>\n",
              "      <td>11.300000</td>\n",
              "      <td>6.000000</td>\n",
              "    </tr>\n",
              "    <tr>\n",
              "      <th>max</th>\n",
              "      <td>15.900000</td>\n",
              "      <td>1.580000</td>\n",
              "      <td>1.660000</td>\n",
              "      <td>65.800000</td>\n",
              "      <td>0.611000</td>\n",
              "      <td>289.000000</td>\n",
              "      <td>440.000000</td>\n",
              "      <td>1.038980</td>\n",
              "      <td>4.010000</td>\n",
              "      <td>2.000000</td>\n",
              "      <td>14.900000</td>\n",
              "      <td>9.000000</td>\n",
              "    </tr>\n",
              "  </tbody>\n",
              "</table>\n",
              "</div>"
            ],
            "text/plain": [
              "       fixed acidity  volatile acidity  ...      alcohol      quality\n",
              "count    6487.000000       6489.000000  ...  6497.000000  6497.000000\n",
              "mean        7.216579          0.339691  ...    10.491801     5.818378\n",
              "std         1.296750          0.164649  ...     1.192712     0.873255\n",
              "min         3.800000          0.080000  ...     8.000000     3.000000\n",
              "25%         6.400000          0.230000  ...     9.500000     5.000000\n",
              "50%         7.000000          0.290000  ...    10.300000     6.000000\n",
              "75%         7.700000          0.400000  ...    11.300000     6.000000\n",
              "max        15.900000          1.580000  ...    14.900000     9.000000\n",
              "\n",
              "[8 rows x 12 columns]"
            ]
          },
          "metadata": {},
          "execution_count": 3
        }
      ]
    },
    {
      "cell_type": "code",
      "metadata": {
        "colab": {
          "base_uri": "https://localhost:8080/",
          "height": 421
        },
        "id": "rmf-Cqc51XK5",
        "outputId": "e4864395-809d-432d-af95-f59bfbd72d66"
      },
      "source": [
        "data.corr()"
      ],
      "execution_count": 4,
      "outputs": [
        {
          "output_type": "execute_result",
          "data": {
            "text/html": [
              "<div>\n",
              "<style scoped>\n",
              "    .dataframe tbody tr th:only-of-type {\n",
              "        vertical-align: middle;\n",
              "    }\n",
              "\n",
              "    .dataframe tbody tr th {\n",
              "        vertical-align: top;\n",
              "    }\n",
              "\n",
              "    .dataframe thead th {\n",
              "        text-align: right;\n",
              "    }\n",
              "</style>\n",
              "<table border=\"1\" class=\"dataframe\">\n",
              "  <thead>\n",
              "    <tr style=\"text-align: right;\">\n",
              "      <th></th>\n",
              "      <th>fixed acidity</th>\n",
              "      <th>volatile acidity</th>\n",
              "      <th>citric acid</th>\n",
              "      <th>residual sugar</th>\n",
              "      <th>chlorides</th>\n",
              "      <th>free sulfur dioxide</th>\n",
              "      <th>total sulfur dioxide</th>\n",
              "      <th>density</th>\n",
              "      <th>pH</th>\n",
              "      <th>sulphates</th>\n",
              "      <th>alcohol</th>\n",
              "      <th>quality</th>\n",
              "    </tr>\n",
              "  </thead>\n",
              "  <tbody>\n",
              "    <tr>\n",
              "      <th>fixed acidity</th>\n",
              "      <td>1.000000</td>\n",
              "      <td>0.220172</td>\n",
              "      <td>0.323736</td>\n",
              "      <td>-0.112319</td>\n",
              "      <td>0.298421</td>\n",
              "      <td>-0.283317</td>\n",
              "      <td>-0.329747</td>\n",
              "      <td>0.459204</td>\n",
              "      <td>-0.251814</td>\n",
              "      <td>0.300380</td>\n",
              "      <td>-0.095603</td>\n",
              "      <td>-0.077031</td>\n",
              "    </tr>\n",
              "    <tr>\n",
              "      <th>volatile acidity</th>\n",
              "      <td>0.220172</td>\n",
              "      <td>1.000000</td>\n",
              "      <td>-0.378061</td>\n",
              "      <td>-0.196702</td>\n",
              "      <td>0.377167</td>\n",
              "      <td>-0.353230</td>\n",
              "      <td>-0.414928</td>\n",
              "      <td>0.271193</td>\n",
              "      <td>0.260660</td>\n",
              "      <td>0.225476</td>\n",
              "      <td>-0.038248</td>\n",
              "      <td>-0.265953</td>\n",
              "    </tr>\n",
              "    <tr>\n",
              "      <th>citric acid</th>\n",
              "      <td>0.323736</td>\n",
              "      <td>-0.378061</td>\n",
              "      <td>1.000000</td>\n",
              "      <td>0.142486</td>\n",
              "      <td>0.039315</td>\n",
              "      <td>0.133437</td>\n",
              "      <td>0.195218</td>\n",
              "      <td>0.096320</td>\n",
              "      <td>-0.328689</td>\n",
              "      <td>0.057613</td>\n",
              "      <td>-0.010433</td>\n",
              "      <td>0.085706</td>\n",
              "    </tr>\n",
              "    <tr>\n",
              "      <th>residual sugar</th>\n",
              "      <td>-0.112319</td>\n",
              "      <td>-0.196702</td>\n",
              "      <td>0.142486</td>\n",
              "      <td>1.000000</td>\n",
              "      <td>-0.128902</td>\n",
              "      <td>0.403439</td>\n",
              "      <td>0.495820</td>\n",
              "      <td>0.552498</td>\n",
              "      <td>-0.267050</td>\n",
              "      <td>-0.185745</td>\n",
              "      <td>-0.359706</td>\n",
              "      <td>-0.036825</td>\n",
              "    </tr>\n",
              "    <tr>\n",
              "      <th>chlorides</th>\n",
              "      <td>0.298421</td>\n",
              "      <td>0.377167</td>\n",
              "      <td>0.039315</td>\n",
              "      <td>-0.128902</td>\n",
              "      <td>1.000000</td>\n",
              "      <td>-0.195042</td>\n",
              "      <td>-0.279580</td>\n",
              "      <td>0.362594</td>\n",
              "      <td>0.044806</td>\n",
              "      <td>0.395332</td>\n",
              "      <td>-0.256861</td>\n",
              "      <td>-0.200886</td>\n",
              "    </tr>\n",
              "    <tr>\n",
              "      <th>free sulfur dioxide</th>\n",
              "      <td>-0.283317</td>\n",
              "      <td>-0.353230</td>\n",
              "      <td>0.133437</td>\n",
              "      <td>0.403439</td>\n",
              "      <td>-0.195042</td>\n",
              "      <td>1.000000</td>\n",
              "      <td>0.720934</td>\n",
              "      <td>0.025717</td>\n",
              "      <td>-0.145191</td>\n",
              "      <td>-0.188489</td>\n",
              "      <td>-0.179838</td>\n",
              "      <td>0.055463</td>\n",
              "    </tr>\n",
              "    <tr>\n",
              "      <th>total sulfur dioxide</th>\n",
              "      <td>-0.329747</td>\n",
              "      <td>-0.414928</td>\n",
              "      <td>0.195218</td>\n",
              "      <td>0.495820</td>\n",
              "      <td>-0.279580</td>\n",
              "      <td>0.720934</td>\n",
              "      <td>1.000000</td>\n",
              "      <td>0.032395</td>\n",
              "      <td>-0.237687</td>\n",
              "      <td>-0.275381</td>\n",
              "      <td>-0.265740</td>\n",
              "      <td>-0.041385</td>\n",
              "    </tr>\n",
              "    <tr>\n",
              "      <th>density</th>\n",
              "      <td>0.459204</td>\n",
              "      <td>0.271193</td>\n",
              "      <td>0.096320</td>\n",
              "      <td>0.552498</td>\n",
              "      <td>0.362594</td>\n",
              "      <td>0.025717</td>\n",
              "      <td>0.032395</td>\n",
              "      <td>1.000000</td>\n",
              "      <td>0.011920</td>\n",
              "      <td>0.259454</td>\n",
              "      <td>-0.686745</td>\n",
              "      <td>-0.305858</td>\n",
              "    </tr>\n",
              "    <tr>\n",
              "      <th>pH</th>\n",
              "      <td>-0.251814</td>\n",
              "      <td>0.260660</td>\n",
              "      <td>-0.328689</td>\n",
              "      <td>-0.267050</td>\n",
              "      <td>0.044806</td>\n",
              "      <td>-0.145191</td>\n",
              "      <td>-0.237687</td>\n",
              "      <td>0.011920</td>\n",
              "      <td>1.000000</td>\n",
              "      <td>0.191248</td>\n",
              "      <td>0.121002</td>\n",
              "      <td>0.019366</td>\n",
              "    </tr>\n",
              "    <tr>\n",
              "      <th>sulphates</th>\n",
              "      <td>0.300380</td>\n",
              "      <td>0.225476</td>\n",
              "      <td>0.057613</td>\n",
              "      <td>-0.185745</td>\n",
              "      <td>0.395332</td>\n",
              "      <td>-0.188489</td>\n",
              "      <td>-0.275381</td>\n",
              "      <td>0.259454</td>\n",
              "      <td>0.191248</td>\n",
              "      <td>1.000000</td>\n",
              "      <td>-0.003261</td>\n",
              "      <td>0.038729</td>\n",
              "    </tr>\n",
              "    <tr>\n",
              "      <th>alcohol</th>\n",
              "      <td>-0.095603</td>\n",
              "      <td>-0.038248</td>\n",
              "      <td>-0.010433</td>\n",
              "      <td>-0.359706</td>\n",
              "      <td>-0.256861</td>\n",
              "      <td>-0.179838</td>\n",
              "      <td>-0.265740</td>\n",
              "      <td>-0.686745</td>\n",
              "      <td>0.121002</td>\n",
              "      <td>-0.003261</td>\n",
              "      <td>1.000000</td>\n",
              "      <td>0.444319</td>\n",
              "    </tr>\n",
              "    <tr>\n",
              "      <th>quality</th>\n",
              "      <td>-0.077031</td>\n",
              "      <td>-0.265953</td>\n",
              "      <td>0.085706</td>\n",
              "      <td>-0.036825</td>\n",
              "      <td>-0.200886</td>\n",
              "      <td>0.055463</td>\n",
              "      <td>-0.041385</td>\n",
              "      <td>-0.305858</td>\n",
              "      <td>0.019366</td>\n",
              "      <td>0.038729</td>\n",
              "      <td>0.444319</td>\n",
              "      <td>1.000000</td>\n",
              "    </tr>\n",
              "  </tbody>\n",
              "</table>\n",
              "</div>"
            ],
            "text/plain": [
              "                      fixed acidity  volatile acidity  ...   alcohol   quality\n",
              "fixed acidity              1.000000          0.220172  ... -0.095603 -0.077031\n",
              "volatile acidity           0.220172          1.000000  ... -0.038248 -0.265953\n",
              "citric acid                0.323736         -0.378061  ... -0.010433  0.085706\n",
              "residual sugar            -0.112319         -0.196702  ... -0.359706 -0.036825\n",
              "chlorides                  0.298421          0.377167  ... -0.256861 -0.200886\n",
              "free sulfur dioxide       -0.283317         -0.353230  ... -0.179838  0.055463\n",
              "total sulfur dioxide      -0.329747         -0.414928  ... -0.265740 -0.041385\n",
              "density                    0.459204          0.271193  ... -0.686745 -0.305858\n",
              "pH                        -0.251814          0.260660  ...  0.121002  0.019366\n",
              "sulphates                  0.300380          0.225476  ... -0.003261  0.038729\n",
              "alcohol                   -0.095603         -0.038248  ...  1.000000  0.444319\n",
              "quality                   -0.077031         -0.265953  ...  0.444319  1.000000\n",
              "\n",
              "[12 rows x 12 columns]"
            ]
          },
          "metadata": {},
          "execution_count": 4
        }
      ]
    },
    {
      "cell_type": "code",
      "metadata": {
        "colab": {
          "base_uri": "https://localhost:8080/",
          "height": 370
        },
        "id": "y9cNiGgC2HHs",
        "outputId": "61a2cd77-380d-4567-991d-f971888ad4bd"
      },
      "source": [
        "import seaborn as sns\n",
        "sns.heatmap(data.corr())"
      ],
      "execution_count": 5,
      "outputs": [
        {
          "output_type": "execute_result",
          "data": {
            "text/plain": [
              "<matplotlib.axes._subplots.AxesSubplot at 0x7ff83f73e4d0>"
            ]
          },
          "metadata": {},
          "execution_count": 5
        },
        {
          "output_type": "display_data",
          "data": {
            "image/png": "[encoded data removed]",
            "text/plain": [
              "<Figure size 432x288 with 2 Axes>"
            ]
          },
          "metadata": {
            "needs_background": "light"
          }
        }
      ]
    },
    {
      "cell_type": "code",
      "metadata": {
        "colab": {
          "base_uri": "https://localhost:8080/",
          "height": 371
        },
        "id": "sCo6Ze-Q2NxW",
        "outputId": "e224df78-4f20-4d1d-ff37-fd928ad80a42"
      },
      "source": [
        "sns.heatmap(data.isnull())"
      ],
      "execution_count": 6,
      "outputs": [
        {
          "output_type": "execute_result",
          "data": {
            "text/plain": [
              "<matplotlib.axes._subplots.AxesSubplot at 0x7ff83f831d90>"
            ]
          },
          "metadata": {},
          "execution_count": 6
        },
        {
          "output_type": "display_data",
          "data": {
            "image/png": "[encoded data removed]",
            "text/plain": [
              "<Figure size 432x288 with 2 Axes>"
            ]
          },
          "metadata": {
            "needs_background": "light"
          }
        }
      ]
    },
    {
      "cell_type": "code",
      "metadata": {
        "colab": {
          "base_uri": "https://localhost:8080/"
        },
        "id": "KO-00pIr1XK6",
        "outputId": "d64ae619-6f4a-44f0-9785-2804791613fc"
      },
      "source": [
        "data.isnull().sum()"
      ],
      "execution_count": 7,
      "outputs": [
        {
          "output_type": "execute_result",
          "data": {
            "text/plain": [
              "type                     0\n",
              "fixed acidity           10\n",
              "volatile acidity         8\n",
              "citric acid              3\n",
              "residual sugar           2\n",
              "chlorides                2\n",
              "free sulfur dioxide      0\n",
              "total sulfur dioxide     0\n",
              "density                  0\n",
              "pH                       9\n",
              "sulphates                4\n",
              "alcohol                  0\n",
              "quality                  0\n",
              "dtype: int64"
            ]
          },
          "metadata": {},
          "execution_count": 7
        }
      ]
    },
    {
      "cell_type": "code",
      "metadata": {
        "colab": {
          "base_uri": "https://localhost:8080/"
        },
        "id": "Bl8VEEEp1XK6",
        "outputId": "75835742-477c-4b5e-ac29-5380e1fae1f1"
      },
      "source": [
        "pos = data[['quality']] == 1\n",
        "\n",
        "pos_n = 0;\n",
        "pos.iloc[:,0]\n",
        "\n",
        "for i in range(pos.shape[0]):\n",
        "    if pos.iloc[i][0] == True:\n",
        "        pos_n+=1\n",
        "        \n",
        "print('Positive_count = ',pos_n)\n",
        "print('Negative_count = ',pos.shape[0] - pos_n)"
      ],
      "execution_count": 8,
      "outputs": [
        {
          "output_type": "stream",
          "name": "stdout",
          "text": [
            "Positive_count =  0\n",
            "Negative_count =  6497\n"
          ]
        }
      ]
    },
    {
      "cell_type": "markdown",
      "metadata": {
        "id": "N5PbBhB61XK6"
      },
      "source": [
        "Therefore, out of 1599 examples, we have only 217 positive datasets, and rest are negative"
      ]
    },
    {
      "cell_type": "markdown",
      "metadata": {
        "id": "QMl9R9632Ykb"
      },
      "source": [
        "## Splitting into training and testing dataset"
      ]
    },
    {
      "cell_type": "code",
      "metadata": {
        "id": "TJxiuWZ91XK8"
      },
      "source": [
        "y = data.iloc[:,-1]\n",
        "X = data.iloc[:,:-1]\n",
        "# X = Training Features, y = Target\n",
        "\n",
        "X_train, X_test, y_train, y_test = train_test_split(X,y,test_size = 0.3, random_state = 42)"
      ],
      "execution_count": 11,
      "outputs": []
    },
    {
      "cell_type": "markdown",
      "metadata": {
        "id": "WvczqVjE3gQD"
      },
      "source": [
        "## Building Model and Training"
      ]
    },
    {
      "cell_type": "code",
      "metadata": {
        "id": "iIL1Dzd-1XK9"
      },
      "source": [
        "model = DecisionTreeClassifier()"
      ],
      "execution_count": 12,
      "outputs": []
    },
    {
      "cell_type": "code",
      "metadata": {
        "id": "vT9ccuY13aBK"
      },
      "source": [
        "model.fit(X_train,y_train)"
      ],
      "execution_count": null,
      "outputs": []
    },
    {
      "cell_type": "code",
      "metadata": {
        "id": "cP_ieLiv1XK-",
        "outputId": "5382006b-d2e3-4660-dc0d-6708d21fc70b"
      },
      "source": [
        "y_prd = model.predict(X_test)\n",
        "print(f1_score(y_test,y_prd))\n",
        "print(confusion_matrix(y_test,y_prd))\n"
      ],
      "execution_count": null,
      "outputs": [
        {
          "name": "stdout",
          "output_type": "stream",
          "text": [
            "0.5454545454545454\n",
            "[[368  45]\n",
            " [ 25  42]]\n"
          ]
        }
      ]
    },
    {
      "cell_type": "code",
      "metadata": {
        "id": "X-32sVJU1XK_",
        "outputId": "de08ef3f-cf79-4211-e612-b1c0bc951f0e"
      },
      "source": [
        "model.get_params()"
      ],
      "execution_count": null,
      "outputs": [
        {
          "data": {
            "text/plain": [
              "{'ccp_alpha': 0.0,\n",
              " 'class_weight': None,\n",
              " 'criterion': 'gini',\n",
              " 'max_depth': None,\n",
              " 'max_features': None,\n",
              " 'max_leaf_nodes': None,\n",
              " 'min_impurity_decrease': 0.0,\n",
              " 'min_impurity_split': None,\n",
              " 'min_samples_leaf': 1,\n",
              " 'min_samples_split': 2,\n",
              " 'min_weight_fraction_leaf': 0.0,\n",
              " 'presort': 'deprecated',\n",
              " 'random_state': None,\n",
              " 'splitter': 'best'}"
            ]
          },
          "execution_count": 13,
          "metadata": {},
          "output_type": "execute_result"
        }
      ]
    },
    {
      "cell_type": "markdown",
      "metadata": {
        "id": "ymrDuhQM1XK_"
      },
      "source": [
        "## Accuracy with default Hyperparameters"
      ]
    },
    {
      "cell_type": "code",
      "metadata": {
        "id": "YosBzwRy1XK_",
        "outputId": "23fca68a-4c54-4f63-c98c-555fc62ea620"
      },
      "source": [
        "# tweeking Hyperparameters to get the best f1 score, for this dataset\n",
        "# as no. of positives is very less than no. negatives, it is better to find f1 scores\n",
        "\n",
        "#here, we are iterating over possible values of hyperparameneters,train model, then test it on testing dataset, then find\n",
        "#f1-score and finding the best hyperparameters so that the model has optimul bias and variance\n",
        "max_depth = list(range(5,20))#values for max_depth\n",
        "leaves = list(range(20,125))  #values for max_leaf_nodes\n",
        "Min_sample_leaf = list(range(1,50)) #values for min_sapmles_leaf\n",
        "\n",
        "best_score = 0;\n",
        "best_max_depth = 0;\n",
        "best_max_leaf_nodes = 0;\n",
        "best_min_sample_leaf = 0;\n",
        "\n",
        "\n",
        "for dp in range(len(max_depth)):\n",
        "    for lev in range(len(leaves)):\n",
        "        for sl in range(len(Min_sample_leaf)):\n",
        "            model = DecisionTreeClassifier(max_depth = max_depth[dp], max_leaf_nodes= leaves[lev],min_samples_leaf = Min_sample_leaf[sl])\n",
        "            model.fit(X_train,y_train)\n",
        "            y_pred = model.predict(X_test)\n",
        "            \n",
        "            score = f1_score(y_test,y_pred)\n",
        "            \n",
        "            if(score > best_score):\n",
        "                print(score)\n",
        "                best_score = score\n",
        "                best_max_depth = max_depth[dp]\n",
        "                best_max_leaf_nodes = leaves[lev]\n",
        "                best_min_sample_leaf = Min_sample_leaf[sl]\n",
        "                \n",
        "print( best_score,'depth=', best_max_depth,'max_leaf_nodes=', best_max_leaf_nodes,'min_sample_leaf=',best_min_sample_leaf)\n",
        "            "
      ],
      "execution_count": null,
      "outputs": [
        {
          "name": "stdout",
          "output_type": "stream",
          "text": [
            "0.45045045045045046\n",
            "0.4590163934426229\n",
            "0.47154471544715443\n",
            "0.4736842105263158\n",
            "0.48\n",
            "0.4920634920634921\n",
            "0.5\n",
            "0.5087719298245613\n",
            "0.5161290322580644\n",
            "0.5196850393700787\n",
            "0.5203252032520325\n",
            "0.5245901639344261\n",
            "0.532258064516129\n",
            "0.5409836065573771\n",
            "0.5454545454545454\n",
            "0.5468749999999999\n",
            "0.5606060606060606\n",
            "0.5625\n",
            "0.5671641791044776\n",
            "0.5797101449275361\n",
            "0.5899280575539567\n",
            "0.5945945945945946\n",
            "0.5972222222222222\n",
            "0.6056338028169014\n",
            "0.6122448979591838\n",
            "0.6301369863013699\n",
            "0.6301369863013699 depth= 11 max_leaf_nodes= 95 min_sample_leaf= 1\n"
          ]
        }
      ]
    },
    {
      "cell_type": "markdown",
      "metadata": {
        "id": "SVVL2uHL1XLA"
      },
      "source": [
        "\n",
        "Here, with the above printed hyperparameteres, we are getting the highest f1 score.\n",
        "Hence we found the best model with optimal bias and variance."
      ]
    },
    {
      "cell_type": "code",
      "metadata": {
        "id": "criSMIa31XLA",
        "outputId": "7072111c-fea2-482f-a0e9-559477ac2e21"
      },
      "source": [
        "tree.plot_tree(model, filled=True, fontsize=3)"
      ],
      "execution_count": null,
      "outputs": [
        {
          "data": {
            "text/plain": [
              "[Text(172.32352941176472, 201.90857142857143, 'X[10] <= 11.55\\ngini = 0.232\\nsamples = 1119\\nvalue = [969, 150]'),\n",
              " Text(108.31764705882354, 170.84571428571428, 'X[1] <= 0.335\\ngini = 0.135\\nsamples = 951\\nvalue = [882, 69]'),\n",
              " Text(39.38823529411765, 139.78285714285715, 'X[9] <= 0.745\\ngini = 0.405\\nsamples = 103\\nvalue = [74, 29]'),\n",
              " Text(19.694117647058825, 108.72, 'gini = 0.245\\nsamples = 49\\nvalue = [42, 7]'),\n",
              " Text(59.082352941176474, 108.72, 'gini = 0.483\\nsamples = 54\\nvalue = [32, 22]'),\n",
              " Text(177.24705882352941, 139.78285714285715, 'X[9] <= 0.645\\ngini = 0.09\\nsamples = 848\\nvalue = [808, 40]'),\n",
              " Text(98.47058823529412, 108.72, 'X[6] <= 35.5\\ngini = 0.036\\nsamples = 546\\nvalue = [536, 10]'),\n",
              " Text(59.082352941176474, 77.65714285714284, 'X[5] <= 11.5\\ngini = 0.073\\nsamples = 238\\nvalue = [229, 9]'),\n",
              " Text(39.38823529411765, 46.59428571428572, 'X[4] <= 0.073\\ngini = 0.033\\nsamples = 178\\nvalue = [175, 3]'),\n",
              " Text(19.694117647058825, 15.531428571428563, 'gini = 0.113\\nsamples = 50\\nvalue = [47, 3]'),\n",
              " Text(59.082352941176474, 15.531428571428563, 'gini = 0.0\\nsamples = 128\\nvalue = [128, 0]'),\n",
              " Text(78.7764705882353, 46.59428571428572, 'gini = 0.18\\nsamples = 60\\nvalue = [54, 6]'),\n",
              " Text(137.85882352941178, 77.65714285714284, 'X[7] <= 0.998\\ngini = 0.006\\nsamples = 308\\nvalue = [307, 1]'),\n",
              " Text(118.16470588235295, 46.59428571428572, 'gini = 0.0\\nsamples = 259\\nvalue = [259, 0]'),\n",
              " Text(157.5529411764706, 46.59428571428572, 'gini = 0.04\\nsamples = 49\\nvalue = [48, 1]'),\n",
              " Text(256.02352941176474, 108.72, 'X[10] <= 9.95\\ngini = 0.179\\nsamples = 302\\nvalue = [272, 30]'),\n",
              " Text(216.63529411764708, 77.65714285714284, 'X[8] <= 3.235\\ngini = 0.032\\nsamples = 123\\nvalue = [121, 2]'),\n",
              " Text(196.94117647058823, 46.59428571428572, 'gini = 0.077\\nsamples = 50\\nvalue = [48, 2]'),\n",
              " Text(236.3294117647059, 46.59428571428572, 'gini = 0.0\\nsamples = 73\\nvalue = [73, 0]'),\n",
              " Text(295.4117647058824, 77.65714285714284, 'X[6] <= 50.0\\ngini = 0.264\\nsamples = 179\\nvalue = [151, 28]'),\n",
              " Text(275.71764705882356, 46.59428571428572, 'X[6] <= 27.5\\ngini = 0.328\\nsamples = 121\\nvalue = [96, 25]'),\n",
              " Text(256.02352941176474, 15.531428571428563, 'gini = 0.228\\nsamples = 61\\nvalue = [53, 8]'),\n",
              " Text(295.4117647058824, 15.531428571428563, 'gini = 0.406\\nsamples = 60\\nvalue = [43, 17]'),\n",
              " Text(315.1058823529412, 46.59428571428572, 'gini = 0.098\\nsamples = 58\\nvalue = [55, 3]'),\n",
              " Text(236.3294117647059, 170.84571428571428, 'X[9] <= 0.685\\ngini = 0.499\\nsamples = 168\\nvalue = [87, 81]'),\n",
              " Text(216.63529411764708, 139.78285714285715, 'gini = 0.401\\nsamples = 90\\nvalue = [65, 25]'),\n",
              " Text(256.02352941176474, 139.78285714285715, 'gini = 0.405\\nsamples = 78\\nvalue = [22, 56]')]"
            ]
          },
          "execution_count": 15,
          "metadata": {},
          "output_type": "execute_result"
        },
        {
          "data": {
            "image/png": "[encoded data removed]",
            "text/plain": [
              "<Figure size 432x288 with 1 Axes>"
            ]
          },
          "metadata": {
            "needs_background": "light"
          },
          "output_type": "display_data"
        }
      ]
    },
    {
      "cell_type": "markdown",
      "metadata": {
        "id": "bj3FnZj_1XLB"
      },
      "source": [
        "# Random Forest"
      ]
    },
    {
      "cell_type": "markdown",
      "metadata": {
        "id": "GBzhfPVj35wA"
      },
      "source": [
        "## Importing libraries and dataset"
      ]
    },
    {
      "cell_type": "code",
      "metadata": {
        "id": "ltO9A4n71XLB"
      },
      "source": [
        "import pandas as pd\n",
        "from sklearn.metrics import accuracy_score, confusion_matrix,f1_score\n",
        "from sklearn.model_selection import train_test_split\n",
        "from sklearn.ensemble import RandomForestClassifier"
      ],
      "execution_count": 14,
      "outputs": []
    },
    {
      "cell_type": "code",
      "metadata": {
        "colab": {
          "base_uri": "https://localhost:8080/",
          "height": 204
        },
        "id": "muTuKhnp1XLB",
        "outputId": "4206a438-17e2-42fc-a3ec-93d53a05637b"
      },
      "source": [
        "data = pd.read_csv('/content/winequalityN.csv')\n",
        "data.head()\n",
        "#same data as above"
      ],
      "execution_count": 17,
      "outputs": [
        {
          "output_type": "execute_result",
          "data": {
            "text/html": [
              "<div>\n",
              "<style scoped>\n",
              "    .dataframe tbody tr th:only-of-type {\n",
              "        vertical-align: middle;\n",
              "    }\n",
              "\n",
              "    .dataframe tbody tr th {\n",
              "        vertical-align: top;\n",
              "    }\n",
              "\n",
              "    .dataframe thead th {\n",
              "        text-align: right;\n",
              "    }\n",
              "</style>\n",
              "<table border=\"1\" class=\"dataframe\">\n",
              "  <thead>\n",
              "    <tr style=\"text-align: right;\">\n",
              "      <th></th>\n",
              "      <th>type</th>\n",
              "      <th>fixed acidity</th>\n",
              "      <th>volatile acidity</th>\n",
              "      <th>citric acid</th>\n",
              "      <th>residual sugar</th>\n",
              "      <th>chlorides</th>\n",
              "      <th>free sulfur dioxide</th>\n",
              "      <th>total sulfur dioxide</th>\n",
              "      <th>density</th>\n",
              "      <th>pH</th>\n",
              "      <th>sulphates</th>\n",
              "      <th>alcohol</th>\n",
              "      <th>quality</th>\n",
              "    </tr>\n",
              "  </thead>\n",
              "  <tbody>\n",
              "    <tr>\n",
              "      <th>0</th>\n",
              "      <td>white</td>\n",
              "      <td>7.0</td>\n",
              "      <td>0.27</td>\n",
              "      <td>0.36</td>\n",
              "      <td>20.7</td>\n",
              "      <td>0.045</td>\n",
              "      <td>45.0</td>\n",
              "      <td>170.0</td>\n",
              "      <td>1.0010</td>\n",
              "      <td>3.00</td>\n",
              "      <td>0.45</td>\n",
              "      <td>8.8</td>\n",
              "      <td>6</td>\n",
              "    </tr>\n",
              "    <tr>\n",
              "      <th>1</th>\n",
              "      <td>white</td>\n",
              "      <td>6.3</td>\n",
              "      <td>0.30</td>\n",
              "      <td>0.34</td>\n",
              "      <td>1.6</td>\n",
              "      <td>0.049</td>\n",
              "      <td>14.0</td>\n",
              "      <td>132.0</td>\n",
              "      <td>0.9940</td>\n",
              "      <td>3.30</td>\n",
              "      <td>0.49</td>\n",
              "      <td>9.5</td>\n",
              "      <td>6</td>\n",
              "    </tr>\n",
              "    <tr>\n",
              "      <th>2</th>\n",
              "      <td>white</td>\n",
              "      <td>8.1</td>\n",
              "      <td>0.28</td>\n",
              "      <td>0.40</td>\n",
              "      <td>6.9</td>\n",
              "      <td>0.050</td>\n",
              "      <td>30.0</td>\n",
              "      <td>97.0</td>\n",
              "      <td>0.9951</td>\n",
              "      <td>3.26</td>\n",
              "      <td>0.44</td>\n",
              "      <td>10.1</td>\n",
              "      <td>6</td>\n",
              "    </tr>\n",
              "    <tr>\n",
              "      <th>3</th>\n",
              "      <td>white</td>\n",
              "      <td>7.2</td>\n",
              "      <td>0.23</td>\n",
              "      <td>0.32</td>\n",
              "      <td>8.5</td>\n",
              "      <td>0.058</td>\n",
              "      <td>47.0</td>\n",
              "      <td>186.0</td>\n",
              "      <td>0.9956</td>\n",
              "      <td>3.19</td>\n",
              "      <td>0.40</td>\n",
              "      <td>9.9</td>\n",
              "      <td>6</td>\n",
              "    </tr>\n",
              "    <tr>\n",
              "      <th>4</th>\n",
              "      <td>white</td>\n",
              "      <td>7.2</td>\n",
              "      <td>0.23</td>\n",
              "      <td>0.32</td>\n",
              "      <td>8.5</td>\n",
              "      <td>0.058</td>\n",
              "      <td>47.0</td>\n",
              "      <td>186.0</td>\n",
              "      <td>0.9956</td>\n",
              "      <td>3.19</td>\n",
              "      <td>0.40</td>\n",
              "      <td>9.9</td>\n",
              "      <td>6</td>\n",
              "    </tr>\n",
              "  </tbody>\n",
              "</table>\n",
              "</div>"
            ],
            "text/plain": [
              "    type  fixed acidity  volatile acidity  ...  sulphates  alcohol  quality\n",
              "0  white            7.0              0.27  ...       0.45      8.8        6\n",
              "1  white            6.3              0.30  ...       0.49      9.5        6\n",
              "2  white            8.1              0.28  ...       0.44     10.1        6\n",
              "3  white            7.2              0.23  ...       0.40      9.9        6\n",
              "4  white            7.2              0.23  ...       0.40      9.9        6\n",
              "\n",
              "[5 rows x 13 columns]"
            ]
          },
          "metadata": {},
          "execution_count": 17
        }
      ]
    },
    {
      "cell_type": "markdown",
      "metadata": {
        "id": "0dWSnf9N3_nQ"
      },
      "source": [
        "## Splitting into training and testing"
      ]
    },
    {
      "cell_type": "code",
      "metadata": {
        "id": "9eBKMxjb1XLB"
      },
      "source": [
        "X = data.iloc[:,:-1]\n",
        "y = data.iloc[:,-1]\n",
        "X_train, X_test, y_train, y_test = train_test_split(X,y,test_size = 0.3)"
      ],
      "execution_count": 18,
      "outputs": []
    },
    {
      "cell_type": "markdown",
      "metadata": {
        "id": "m3UTF-7s4Cxc"
      },
      "source": [
        "## Building model and training"
      ]
    },
    {
      "cell_type": "code",
      "metadata": {
        "id": "4yG9CDVA1XLC"
      },
      "source": [
        "model = RandomForestClassifier()"
      ],
      "execution_count": 19,
      "outputs": []
    },
    {
      "cell_type": "code",
      "metadata": {
        "id": "mdlGW7Xl33-C"
      },
      "source": [
        "model.fit(X_train,y_train)"
      ],
      "execution_count": null,
      "outputs": []
    },
    {
      "cell_type": "code",
      "metadata": {
        "id": "Thu72h4G1XLC"
      },
      "source": [
        "y_pred = model.predict(X_test)"
      ],
      "execution_count": null,
      "outputs": []
    },
    {
      "cell_type": "code",
      "metadata": {
        "id": "Lu98c7Ip1XLC",
        "outputId": "db781291-80f0-4c65-c8cc-9b8704fcb37d"
      },
      "source": [
        "f1_score(y_test,y_pred)"
      ],
      "execution_count": null,
      "outputs": [
        {
          "data": {
            "text/plain": [
              "0.6333333333333333"
            ]
          },
          "execution_count": 7,
          "metadata": {},
          "output_type": "execute_result"
        }
      ]
    },
    {
      "cell_type": "markdown",
      "metadata": {
        "id": "0U-9BI2F4JMq"
      },
      "source": [
        "## Tweaking Hyperparameters to get the best f1 score, for this dataset"
      ]
    },
    {
      "cell_type": "code",
      "metadata": {
        "id": "yMT3zhGo1XLD",
        "outputId": "e41f517e-b0a9-480f-c119-bdccf5dc6f34"
      },
      "source": [
        "n = list(range(5,120,5))\n",
        "max_depth = list(range(5,20))#values for max_depth\n",
        "\n",
        "\n",
        "best_score = 0;\n",
        "best_n = 0;\n",
        "best_max_depth = 0;\n",
        "best_max_leaf_nodes = 0;\n",
        "best_min_sample_leaf = 0;\n",
        "\n",
        "for ne in range(len(n)):\n",
        "    for dp in range(len(max_depth)):\n",
        "        \n",
        "        model = RandomForestClassifier(n_estimators = n[ne],max_depth = max_depth[dp],n_jobs = -1)\n",
        "        model.fit(X_train,y_train)\n",
        "        y_pred = model.predict(X_test)\n",
        "\n",
        "        score = f1_score(y_test,y_pred)\n",
        "\n",
        "        if(score > best_score):\n",
        "            print(score)\n",
        "            best_score = score\n",
        "            best_n = n[ne]\n",
        "            best_max_depth = max_depth[dp]\n",
        "                   \n",
        "                \n",
        "print( best_score,'n= ', best_n,'depth=', best_max_depth,)\n",
        "            \n"
      ],
      "execution_count": null,
      "outputs": [
        {
          "name": "stdout",
          "output_type": "stream",
          "text": [
            "0.41509433962264153\n",
            "0.4793388429752066\n",
            "0.5486725663716815\n",
            "0.6016260162601625\n",
            "0.608\n",
            "0.6341463414634146\n",
            "0.6446280991735536\n",
            "0.6446280991735536 n=  30 depth= 17 max_leaf_nodes=\n"
          ]
        }
      ]
    },
    {
      "cell_type": "markdown",
      "metadata": {
        "id": "rhH2I9Re1XLD"
      },
      "source": [
        "Here, with the above printed hyperparameteres, we are getting the highest f1 score.\n",
        "Hence we found the best model with optimal bias and variance."
      ]
    },
    {
      "cell_type": "markdown",
      "metadata": {
        "id": "_rn-4pHD1XLD"
      },
      "source": [
        "For this data set, we can we that the f1 score of random forest is higher than that of a decision tree."
      ]
    },
    {
      "cell_type": "code",
      "metadata": {
        "id": "_s-IkO7Y1XLD"
      },
      "source": [
        "final_model= RandomForestClassifier(n_estimators  = 30, max_depth = 17)"
      ],
      "execution_count": null,
      "outputs": []
    },
    {
      "cell_type": "code",
      "metadata": {
        "id": "3Ln2Ekvi1XLD",
        "outputId": "36e35a52-e72c-4124-8377-2be4172b5edf"
      },
      "source": [
        "final_model.fit(X_train,y_train)"
      ],
      "execution_count": null,
      "outputs": [
        {
          "data": {
            "text/plain": [
              "RandomForestClassifier(max_depth=17, n_estimators=30)"
            ]
          },
          "execution_count": 12,
          "metadata": {},
          "output_type": "execute_result"
        }
      ]
    },
    {
      "cell_type": "code",
      "metadata": {
        "id": "uBlEAdPQ1XLD"
      },
      "source": [
        "y_pred = model.predict(X_test)"
      ],
      "execution_count": null,
      "outputs": []
    },
    {
      "cell_type": "code",
      "metadata": {
        "id": "0QBBkQFG1XLE",
        "outputId": "2e0319ec-baab-4ae3-a35e-9f7606300e20"
      },
      "source": [
        "confusion_matrix(y_test,y_pred)"
      ],
      "execution_count": null,
      "outputs": [
        {
          "data": {
            "text/plain": [
              "array([[394,  14],\n",
              "       [ 34,  38]], dtype=int64)"
            ]
          },
          "execution_count": 16,
          "metadata": {},
          "output_type": "execute_result"
        }
      ]
    },
    {
      "cell_type": "markdown",
      "metadata": {
        "id": "Bi8dmuFx4Q9I"
      },
      "source": [
        "# Hence we have got the results and the differences"
      ]
    }
  ]
}