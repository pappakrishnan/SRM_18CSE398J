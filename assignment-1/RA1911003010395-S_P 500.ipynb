{
 "cells": [
  {
   "cell_type": "code",
   "execution_count": 20,
   "metadata": {},
   "outputs": [],
   "source": [
    "import pandas \n",
    "import numpy as np \n",
    "import seaborn as sns"
   ]
  },
  {
   "cell_type": "code",
   "execution_count": 65,
   "metadata": {},
   "outputs": [],
   "source": [
    "data = pandas.read_csv(r\"C:\\Users\\asus\\Downloads\\constituents-financials.csv\")"
   ]
  },
  {
   "cell_type": "code",
   "execution_count": 66,
   "metadata": {},
   "outputs": [
    {
     "data": {
      "text/html": [
       "<div>\n",
       "<style scoped>\n",
       "    .dataframe tbody tr th:only-of-type {\n",
       "        vertical-align: middle;\n",
       "    }\n",
       "\n",
       "    .dataframe tbody tr th {\n",
       "        vertical-align: top;\n",
       "    }\n",
       "\n",
       "    .dataframe thead th {\n",
       "        text-align: right;\n",
       "    }\n",
       "</style>\n",
       "<table border=\"1\" class=\"dataframe\">\n",
       "  <thead>\n",
       "    <tr style=\"text-align: right;\">\n",
       "      <th></th>\n",
       "      <th>Name</th>\n",
       "      <th>Sector</th>\n",
       "      <th>Price</th>\n",
       "      <th>Price/Earnings</th>\n",
       "      <th>Dividend Yield</th>\n",
       "      <th>Earnings/Share</th>\n",
       "      <th>52 Week Low</th>\n",
       "      <th>52 Week High</th>\n",
       "      <th>Market Cap</th>\n",
       "      <th>EBITDA</th>\n",
       "      <th>Price/Sales</th>\n",
       "      <th>Price/Book</th>\n",
       "    </tr>\n",
       "  </thead>\n",
       "  <tbody>\n",
       "    <tr>\n",
       "      <th>0</th>\n",
       "      <td>3M Company</td>\n",
       "      <td>Industrials</td>\n",
       "      <td>222.89</td>\n",
       "      <td>24.31</td>\n",
       "      <td>2.332862</td>\n",
       "      <td>7.92</td>\n",
       "      <td>259.77</td>\n",
       "      <td>175.490</td>\n",
       "      <td>1.390000e+11</td>\n",
       "      <td>9.048000e+09</td>\n",
       "      <td>4.390271</td>\n",
       "      <td>11.34</td>\n",
       "    </tr>\n",
       "    <tr>\n",
       "      <th>1</th>\n",
       "      <td>A.O. Smith Corp</td>\n",
       "      <td>Industrials</td>\n",
       "      <td>60.24</td>\n",
       "      <td>27.76</td>\n",
       "      <td>1.147959</td>\n",
       "      <td>1.70</td>\n",
       "      <td>68.39</td>\n",
       "      <td>48.925</td>\n",
       "      <td>1.078342e+10</td>\n",
       "      <td>6.010000e+08</td>\n",
       "      <td>3.575483</td>\n",
       "      <td>6.35</td>\n",
       "    </tr>\n",
       "    <tr>\n",
       "      <th>2</th>\n",
       "      <td>Abbott Laboratories</td>\n",
       "      <td>Health Care</td>\n",
       "      <td>56.27</td>\n",
       "      <td>22.51</td>\n",
       "      <td>1.908982</td>\n",
       "      <td>0.26</td>\n",
       "      <td>64.60</td>\n",
       "      <td>42.280</td>\n",
       "      <td>1.020000e+11</td>\n",
       "      <td>5.744000e+09</td>\n",
       "      <td>3.740480</td>\n",
       "      <td>3.19</td>\n",
       "    </tr>\n",
       "    <tr>\n",
       "      <th>3</th>\n",
       "      <td>AbbVie Inc.</td>\n",
       "      <td>Health Care</td>\n",
       "      <td>108.48</td>\n",
       "      <td>19.41</td>\n",
       "      <td>2.499560</td>\n",
       "      <td>3.29</td>\n",
       "      <td>125.86</td>\n",
       "      <td>60.050</td>\n",
       "      <td>1.810000e+11</td>\n",
       "      <td>1.031000e+10</td>\n",
       "      <td>6.291571</td>\n",
       "      <td>26.14</td>\n",
       "    </tr>\n",
       "    <tr>\n",
       "      <th>4</th>\n",
       "      <td>Accenture plc</td>\n",
       "      <td>Information Technology</td>\n",
       "      <td>150.51</td>\n",
       "      <td>25.47</td>\n",
       "      <td>1.714470</td>\n",
       "      <td>5.44</td>\n",
       "      <td>162.60</td>\n",
       "      <td>114.820</td>\n",
       "      <td>9.876586e+10</td>\n",
       "      <td>5.643228e+09</td>\n",
       "      <td>2.604117</td>\n",
       "      <td>10.62</td>\n",
       "    </tr>\n",
       "  </tbody>\n",
       "</table>\n",
       "</div>"
      ],
      "text/plain": [
       "                  Name                  Sector   Price  Price/Earnings  \\\n",
       "0           3M Company             Industrials  222.89           24.31   \n",
       "1      A.O. Smith Corp             Industrials   60.24           27.76   \n",
       "2  Abbott Laboratories             Health Care   56.27           22.51   \n",
       "3          AbbVie Inc.             Health Care  108.48           19.41   \n",
       "4        Accenture plc  Information Technology  150.51           25.47   \n",
       "\n",
       "   Dividend Yield  Earnings/Share  52 Week Low  52 Week High    Market Cap  \\\n",
       "0        2.332862            7.92       259.77       175.490  1.390000e+11   \n",
       "1        1.147959            1.70        68.39        48.925  1.078342e+10   \n",
       "2        1.908982            0.26        64.60        42.280  1.020000e+11   \n",
       "3        2.499560            3.29       125.86        60.050  1.810000e+11   \n",
       "4        1.714470            5.44       162.60       114.820  9.876586e+10   \n",
       "\n",
       "         EBITDA  Price/Sales  Price/Book  \n",
       "0  9.048000e+09     4.390271       11.34  \n",
       "1  6.010000e+08     3.575483        6.35  \n",
       "2  5.744000e+09     3.740480        3.19  \n",
       "3  1.031000e+10     6.291571       26.14  \n",
       "4  5.643228e+09     2.604117       10.62  "
      ]
     },
     "execution_count": 66,
     "metadata": {},
     "output_type": "execute_result"
    }
   ],
   "source": [
    "data.head()"
   ]
  },
  {
   "cell_type": "code",
   "execution_count": 67,
   "metadata": {},
   "outputs": [
    {
     "data": {
      "text/html": [
       "<div>\n",
       "<style scoped>\n",
       "    .dataframe tbody tr th:only-of-type {\n",
       "        vertical-align: middle;\n",
       "    }\n",
       "\n",
       "    .dataframe tbody tr th {\n",
       "        vertical-align: top;\n",
       "    }\n",
       "\n",
       "    .dataframe thead th {\n",
       "        text-align: right;\n",
       "    }\n",
       "</style>\n",
       "<table border=\"1\" class=\"dataframe\">\n",
       "  <thead>\n",
       "    <tr style=\"text-align: right;\">\n",
       "      <th></th>\n",
       "      <th>Name</th>\n",
       "      <th>Sector</th>\n",
       "      <th>Price</th>\n",
       "      <th>Price/Earnings</th>\n",
       "      <th>Dividend Yield</th>\n",
       "      <th>Earnings/Share</th>\n",
       "      <th>52 Week Low</th>\n",
       "      <th>52 Week High</th>\n",
       "      <th>Market Cap</th>\n",
       "      <th>EBITDA</th>\n",
       "      <th>Price/Sales</th>\n",
       "      <th>Price/Book</th>\n",
       "    </tr>\n",
       "  </thead>\n",
       "  <tbody>\n",
       "    <tr>\n",
       "      <th>500</th>\n",
       "      <td>Xylem Inc.</td>\n",
       "      <td>Industrials</td>\n",
       "      <td>70.24</td>\n",
       "      <td>30.94</td>\n",
       "      <td>1.170079</td>\n",
       "      <td>1.83</td>\n",
       "      <td>76.81</td>\n",
       "      <td>46.86</td>\n",
       "      <td>1.291502e+10</td>\n",
       "      <td>7.220000e+08</td>\n",
       "      <td>2.726209</td>\n",
       "      <td>5.31</td>\n",
       "    </tr>\n",
       "    <tr>\n",
       "      <th>501</th>\n",
       "      <td>Yum! Brands Inc</td>\n",
       "      <td>Consumer Discretionary</td>\n",
       "      <td>76.30</td>\n",
       "      <td>27.25</td>\n",
       "      <td>1.797080</td>\n",
       "      <td>4.07</td>\n",
       "      <td>86.93</td>\n",
       "      <td>62.85</td>\n",
       "      <td>2.700330e+10</td>\n",
       "      <td>2.289000e+09</td>\n",
       "      <td>6.313636</td>\n",
       "      <td>212.08</td>\n",
       "    </tr>\n",
       "    <tr>\n",
       "      <th>502</th>\n",
       "      <td>Zimmer Biomet Holdings</td>\n",
       "      <td>Health Care</td>\n",
       "      <td>115.53</td>\n",
       "      <td>14.32</td>\n",
       "      <td>0.794834</td>\n",
       "      <td>9.01</td>\n",
       "      <td>133.49</td>\n",
       "      <td>108.17</td>\n",
       "      <td>2.445470e+10</td>\n",
       "      <td>2.007400e+09</td>\n",
       "      <td>3.164895</td>\n",
       "      <td>2.39</td>\n",
       "    </tr>\n",
       "    <tr>\n",
       "      <th>503</th>\n",
       "      <td>Zions Bancorp</td>\n",
       "      <td>Financials</td>\n",
       "      <td>50.71</td>\n",
       "      <td>17.73</td>\n",
       "      <td>1.480933</td>\n",
       "      <td>2.60</td>\n",
       "      <td>55.61</td>\n",
       "      <td>38.43</td>\n",
       "      <td>1.067068e+10</td>\n",
       "      <td>0.000000e+00</td>\n",
       "      <td>3.794579</td>\n",
       "      <td>1.42</td>\n",
       "    </tr>\n",
       "    <tr>\n",
       "      <th>504</th>\n",
       "      <td>Zoetis</td>\n",
       "      <td>Health Care</td>\n",
       "      <td>71.51</td>\n",
       "      <td>32.80</td>\n",
       "      <td>0.682372</td>\n",
       "      <td>1.65</td>\n",
       "      <td>80.13</td>\n",
       "      <td>52.00</td>\n",
       "      <td>3.599111e+10</td>\n",
       "      <td>1.734000e+09</td>\n",
       "      <td>9.280896</td>\n",
       "      <td>18.09</td>\n",
       "    </tr>\n",
       "  </tbody>\n",
       "</table>\n",
       "</div>"
      ],
      "text/plain": [
       "                       Name                  Sector   Price  Price/Earnings  \\\n",
       "500              Xylem Inc.             Industrials   70.24           30.94   \n",
       "501         Yum! Brands Inc  Consumer Discretionary   76.30           27.25   \n",
       "502  Zimmer Biomet Holdings             Health Care  115.53           14.32   \n",
       "503           Zions Bancorp              Financials   50.71           17.73   \n",
       "504                  Zoetis             Health Care   71.51           32.80   \n",
       "\n",
       "     Dividend Yield  Earnings/Share  52 Week Low  52 Week High    Market Cap  \\\n",
       "500        1.170079            1.83        76.81         46.86  1.291502e+10   \n",
       "501        1.797080            4.07        86.93         62.85  2.700330e+10   \n",
       "502        0.794834            9.01       133.49        108.17  2.445470e+10   \n",
       "503        1.480933            2.60        55.61         38.43  1.067068e+10   \n",
       "504        0.682372            1.65        80.13         52.00  3.599111e+10   \n",
       "\n",
       "           EBITDA  Price/Sales  Price/Book  \n",
       "500  7.220000e+08     2.726209        5.31  \n",
       "501  2.289000e+09     6.313636      212.08  \n",
       "502  2.007400e+09     3.164895        2.39  \n",
       "503  0.000000e+00     3.794579        1.42  \n",
       "504  1.734000e+09     9.280896       18.09  "
      ]
     },
     "execution_count": 67,
     "metadata": {},
     "output_type": "execute_result"
    }
   ],
   "source": [
    "data.tail()"
   ]
  },
  {
   "cell_type": "code",
   "execution_count": 68,
   "metadata": {},
   "outputs": [
    {
     "data": {
      "text/plain": [
       "(505, 12)"
      ]
     },
     "execution_count": 68,
     "metadata": {},
     "output_type": "execute_result"
    }
   ],
   "source": [
    "data.shape"
   ]
  },
  {
   "cell_type": "code",
   "execution_count": 69,
   "metadata": {},
   "outputs": [
    {
     "data": {
      "text/html": [
       "<div>\n",
       "<style scoped>\n",
       "    .dataframe tbody tr th:only-of-type {\n",
       "        vertical-align: middle;\n",
       "    }\n",
       "\n",
       "    .dataframe tbody tr th {\n",
       "        vertical-align: top;\n",
       "    }\n",
       "\n",
       "    .dataframe thead th {\n",
       "        text-align: right;\n",
       "    }\n",
       "</style>\n",
       "<table border=\"1\" class=\"dataframe\">\n",
       "  <thead>\n",
       "    <tr style=\"text-align: right;\">\n",
       "      <th></th>\n",
       "      <th>Price</th>\n",
       "      <th>Price/Earnings</th>\n",
       "      <th>Dividend Yield</th>\n",
       "      <th>Earnings/Share</th>\n",
       "      <th>52 Week Low</th>\n",
       "      <th>52 Week High</th>\n",
       "      <th>Market Cap</th>\n",
       "      <th>EBITDA</th>\n",
       "      <th>Price/Sales</th>\n",
       "      <th>Price/Book</th>\n",
       "    </tr>\n",
       "  </thead>\n",
       "  <tbody>\n",
       "    <tr>\n",
       "      <th>count</th>\n",
       "      <td>505.000000</td>\n",
       "      <td>503.000000</td>\n",
       "      <td>505.000000</td>\n",
       "      <td>505.000000</td>\n",
       "      <td>505.000000</td>\n",
       "      <td>505.000000</td>\n",
       "      <td>5.050000e+02</td>\n",
       "      <td>5.050000e+02</td>\n",
       "      <td>505.000000</td>\n",
       "      <td>497.000000</td>\n",
       "    </tr>\n",
       "    <tr>\n",
       "      <th>mean</th>\n",
       "      <td>103.830634</td>\n",
       "      <td>24.808390</td>\n",
       "      <td>1.895953</td>\n",
       "      <td>3.753743</td>\n",
       "      <td>122.623832</td>\n",
       "      <td>83.536616</td>\n",
       "      <td>4.923784e+10</td>\n",
       "      <td>3.590328e+09</td>\n",
       "      <td>3.941705</td>\n",
       "      <td>14.453179</td>\n",
       "    </tr>\n",
       "    <tr>\n",
       "      <th>std</th>\n",
       "      <td>134.427636</td>\n",
       "      <td>41.241081</td>\n",
       "      <td>1.537214</td>\n",
       "      <td>5.689036</td>\n",
       "      <td>155.362140</td>\n",
       "      <td>105.725473</td>\n",
       "      <td>9.006020e+10</td>\n",
       "      <td>6.840544e+09</td>\n",
       "      <td>3.460110</td>\n",
       "      <td>89.660508</td>\n",
       "    </tr>\n",
       "    <tr>\n",
       "      <th>min</th>\n",
       "      <td>2.820000</td>\n",
       "      <td>-251.530000</td>\n",
       "      <td>0.000000</td>\n",
       "      <td>-28.010000</td>\n",
       "      <td>6.590000</td>\n",
       "      <td>2.800000</td>\n",
       "      <td>2.626102e+09</td>\n",
       "      <td>-5.067000e+09</td>\n",
       "      <td>0.153186</td>\n",
       "      <td>0.510000</td>\n",
       "    </tr>\n",
       "    <tr>\n",
       "      <th>25%</th>\n",
       "      <td>46.250000</td>\n",
       "      <td>15.350000</td>\n",
       "      <td>0.794834</td>\n",
       "      <td>1.490000</td>\n",
       "      <td>56.250000</td>\n",
       "      <td>38.430000</td>\n",
       "      <td>1.273207e+10</td>\n",
       "      <td>7.739320e+08</td>\n",
       "      <td>1.629490</td>\n",
       "      <td>2.020000</td>\n",
       "    </tr>\n",
       "    <tr>\n",
       "      <th>50%</th>\n",
       "      <td>73.920000</td>\n",
       "      <td>19.450000</td>\n",
       "      <td>1.769255</td>\n",
       "      <td>2.890000</td>\n",
       "      <td>86.680000</td>\n",
       "      <td>62.850000</td>\n",
       "      <td>2.140095e+10</td>\n",
       "      <td>1.614399e+09</td>\n",
       "      <td>2.896440</td>\n",
       "      <td>3.400000</td>\n",
       "    </tr>\n",
       "    <tr>\n",
       "      <th>75%</th>\n",
       "      <td>116.540000</td>\n",
       "      <td>25.750000</td>\n",
       "      <td>2.781114</td>\n",
       "      <td>5.140000</td>\n",
       "      <td>140.130000</td>\n",
       "      <td>96.660000</td>\n",
       "      <td>4.511968e+10</td>\n",
       "      <td>3.692749e+09</td>\n",
       "      <td>4.703842</td>\n",
       "      <td>6.110000</td>\n",
       "    </tr>\n",
       "    <tr>\n",
       "      <th>max</th>\n",
       "      <td>1806.060000</td>\n",
       "      <td>520.150000</td>\n",
       "      <td>12.661196</td>\n",
       "      <td>44.090000</td>\n",
       "      <td>2067.990000</td>\n",
       "      <td>1589.000000</td>\n",
       "      <td>8.100000e+11</td>\n",
       "      <td>7.938600e+10</td>\n",
       "      <td>20.094294</td>\n",
       "      <td>1403.380000</td>\n",
       "    </tr>\n",
       "  </tbody>\n",
       "</table>\n",
       "</div>"
      ],
      "text/plain": [
       "             Price  Price/Earnings  Dividend Yield  Earnings/Share  \\\n",
       "count   505.000000      503.000000      505.000000      505.000000   \n",
       "mean    103.830634       24.808390        1.895953        3.753743   \n",
       "std     134.427636       41.241081        1.537214        5.689036   \n",
       "min       2.820000     -251.530000        0.000000      -28.010000   \n",
       "25%      46.250000       15.350000        0.794834        1.490000   \n",
       "50%      73.920000       19.450000        1.769255        2.890000   \n",
       "75%     116.540000       25.750000        2.781114        5.140000   \n",
       "max    1806.060000      520.150000       12.661196       44.090000   \n",
       "\n",
       "       52 Week Low  52 Week High    Market Cap        EBITDA  Price/Sales  \\\n",
       "count   505.000000    505.000000  5.050000e+02  5.050000e+02   505.000000   \n",
       "mean    122.623832     83.536616  4.923784e+10  3.590328e+09     3.941705   \n",
       "std     155.362140    105.725473  9.006020e+10  6.840544e+09     3.460110   \n",
       "min       6.590000      2.800000  2.626102e+09 -5.067000e+09     0.153186   \n",
       "25%      56.250000     38.430000  1.273207e+10  7.739320e+08     1.629490   \n",
       "50%      86.680000     62.850000  2.140095e+10  1.614399e+09     2.896440   \n",
       "75%     140.130000     96.660000  4.511968e+10  3.692749e+09     4.703842   \n",
       "max    2067.990000   1589.000000  8.100000e+11  7.938600e+10    20.094294   \n",
       "\n",
       "        Price/Book  \n",
       "count   497.000000  \n",
       "mean     14.453179  \n",
       "std      89.660508  \n",
       "min       0.510000  \n",
       "25%       2.020000  \n",
       "50%       3.400000  \n",
       "75%       6.110000  \n",
       "max    1403.380000  "
      ]
     },
     "execution_count": 69,
     "metadata": {},
     "output_type": "execute_result"
    }
   ],
   "source": [
    "data.describe()"
   ]
  },
  {
   "cell_type": "code",
   "execution_count": 70,
   "metadata": {},
   "outputs": [
    {
     "data": {
      "text/plain": [
       "Index(['Name', 'Sector', 'Price', 'Price/Earnings', 'Dividend Yield',\n",
       "       'Earnings/Share', '52 Week Low', '52 Week High', 'Market Cap', 'EBITDA',\n",
       "       'Price/Sales', 'Price/Book'],\n",
       "      dtype='object')"
      ]
     },
     "execution_count": 70,
     "metadata": {},
     "output_type": "execute_result"
    }
   ],
   "source": [
    "data.columns"
   ]
  },
  {
   "cell_type": "code",
   "execution_count": 71,
   "metadata": {},
   "outputs": [
    {
     "data": {
      "text/plain": [
       "Name              505\n",
       "Sector             11\n",
       "Price             494\n",
       "Price/Earnings    457\n",
       "Dividend Yield    420\n",
       "Earnings/Share    402\n",
       "52 Week Low       501\n",
       "52 Week High      495\n",
       "Market Cap        500\n",
       "EBITDA            444\n",
       "Price/Sales       505\n",
       "Price/Book        391\n",
       "dtype: int64"
      ]
     },
     "execution_count": 71,
     "metadata": {},
     "output_type": "execute_result"
    }
   ],
   "source": [
    "data.nunique()"
   ]
  },
  {
   "cell_type": "code",
   "execution_count": 72,
   "metadata": {},
   "outputs": [
    {
     "data": {
      "text/plain": [
       "array(['3M Company', 'A.O. Smith Corp', 'Abbott Laboratories',\n",
       "       'AbbVie Inc.', 'Accenture plc', 'Activision Blizzard',\n",
       "       'Acuity Brands Inc', 'Adobe Systems Inc', 'Advance Auto Parts',\n",
       "       'Advanced Micro Devices Inc', 'AES Corp', 'Aetna Inc',\n",
       "       'Affiliated Managers Group Inc', 'AFLAC Inc',\n",
       "       'Agilent Technologies Inc', 'Air Products & Chemicals Inc',\n",
       "       'Akamai Technologies Inc', 'Alaska Air Group Inc',\n",
       "       'Albemarle Corp', 'Alexandria Real Estate Equities Inc',\n",
       "       'Alexion Pharmaceuticals', 'Align Technology', 'Allegion',\n",
       "       'Allergan, Plc', 'Alliance Data Systems', 'Alliant Energy Corp',\n",
       "       'Allstate Corp', 'Alphabet Inc Class A', 'Alphabet Inc Class C',\n",
       "       'Altria Group Inc', 'Amazon.com Inc', 'Ameren Corp',\n",
       "       'American Airlines Group', 'American Electric Power',\n",
       "       'American Express Co', 'American International Group, Inc.',\n",
       "       'American Tower Corp A', 'American Water Works Company Inc',\n",
       "       'Ameriprise Financial', 'AmerisourceBergen Corp', 'AMETEK Inc',\n",
       "       'Amgen Inc', 'Amphenol Corp', 'Anadarko Petroleum Corp',\n",
       "       'Analog Devices, Inc.', 'Andeavor', 'ANSYS', 'Anthem Inc.',\n",
       "       'Aon plc', 'Apache Corporation',\n",
       "       'Apartment Investment & Management', 'Apple Inc.',\n",
       "       'Applied Materials Inc', 'Aptiv Plc', 'Archer-Daniels-Midland Co',\n",
       "       'Arconic Inc', 'Arthur J. Gallagher & Co.', 'Assurant Inc',\n",
       "       'AT&T Inc', 'Autodesk Inc', 'Automatic Data Processing',\n",
       "       'AutoZone Inc', 'AvalonBay Communities, Inc.',\n",
       "       'Avery Dennison Corp', 'Baker Hughes, a GE Company', 'Ball Corp',\n",
       "       'Bank of America Corp', 'Baxter International Inc.',\n",
       "       'BB&T Corporation', 'Becton Dickinson', 'Berkshire Hathaway',\n",
       "       'Best Buy Co. Inc.', 'Biogen Inc.', 'BlackRock', 'Block H&R',\n",
       "       'Boeing Company', 'BorgWarner', 'Boston Properties',\n",
       "       'Boston Scientific', 'Brighthouse Financial Inc',\n",
       "       'Bristol-Myers Squibb', 'Broadcom', 'Brown-Forman Corp.',\n",
       "       'C. H. Robinson Worldwide', 'CA, Inc.', 'Cabot Oil & Gas',\n",
       "       'Cadence Design Systems', 'Campbell Soup', 'Capital One Financial',\n",
       "       'Cardinal Health Inc.', 'Carmax Inc', 'Carnival Corp.',\n",
       "       'Caterpillar Inc.', 'CBOE Holdings', 'CBRE Group', 'CBS Corp.',\n",
       "       'Celgene Corp.', 'Centene Corporation', 'CenterPoint Energy',\n",
       "       'CenturyLink Inc', 'Cerner', 'CF Industries Holdings Inc',\n",
       "       'Charles Schwab Corporation', 'Charter Communications',\n",
       "       'Chesapeake Energy', 'Chevron Corp.', 'Chipotle Mexican Grill',\n",
       "       'Chubb Limited', 'Church & Dwight', 'CIGNA Corp.',\n",
       "       'Cimarex Energy', 'Cincinnati Financial', 'Cintas Corporation',\n",
       "       'Cisco Systems', 'Citigroup Inc.', 'Citizens Financial Group',\n",
       "       'Citrix Systems', 'CME Group Inc.', 'CMS Energy',\n",
       "       'Coca-Cola Company (The)', 'Cognizant Technology Solutions',\n",
       "       'Colgate-Palmolive', 'Comcast Corp.', 'Comerica Inc.',\n",
       "       'Conagra Brands', 'Concho Resources', 'ConocoPhillips',\n",
       "       'Consolidated Edison', 'Constellation Brands', 'Corning Inc.',\n",
       "       'Costco Wholesale Corp.', 'Coty, Inc',\n",
       "       'Crown Castle International Corp.', 'CSRA Inc.', 'CSX Corp.',\n",
       "       'Cummins Inc.', 'CVS Health', 'D. R. Horton', 'Danaher Corp.',\n",
       "       'Darden Restaurants', 'DaVita Inc.', 'Deere & Co.',\n",
       "       'Delta Air Lines Inc.', 'Dentsply Sirona', 'Devon Energy Corp.',\n",
       "       'Digital Realty Trust Inc', 'Discover Financial Services',\n",
       "       'Discovery Communications-A', 'Discovery Communications-C',\n",
       "       'Dish Network', 'Dollar General', 'Dollar Tree', 'Dominion Energy',\n",
       "       'Dover Corp.', 'DowDuPont', 'Dr Pepper Snapple Group',\n",
       "       'DTE Energy Co.', 'Duke Energy', 'Duke Realty Corp',\n",
       "       'DXC Technology', 'E*Trade', 'Eastman Chemical',\n",
       "       'Eaton Corporation', 'eBay Inc.', 'Ecolab Inc.', \"Edison Int'l\",\n",
       "       'Edwards Lifesciences', 'Electronic Arts',\n",
       "       'Emerson Electric Company', 'Entergy Corp.', 'Envision Healthcare',\n",
       "       'EOG Resources', 'EQT Corporation', 'Equifax Inc.', 'Equinix',\n",
       "       'Equity Residential', 'Essex Property Trust, Inc.',\n",
       "       'Estee Lauder Cos.', 'Everest Re Group Ltd.', 'Eversource Energy',\n",
       "       'Exelon Corp.', 'Expedia Inc.', 'Expeditors International',\n",
       "       'Express Scripts', 'Extra Space Storage', 'Exxon Mobil Corp.',\n",
       "       'F5 Networks', 'Facebook, Inc.', 'Fastenal Co',\n",
       "       'Federal Realty Investment Trust', 'FedEx Corporation',\n",
       "       'Fidelity National Information Services', 'Fifth Third Bancorp',\n",
       "       'FirstEnergy Corp', 'Fiserv Inc', 'FLIR Systems',\n",
       "       'Flowserve Corporation', 'Fluor Corp.', 'FMC Corporation',\n",
       "       'Foot Locker Inc', 'Ford Motor', 'Fortive Corp',\n",
       "       'Fortune Brands Home & Security', 'Franklin Resources',\n",
       "       'Freeport-McMoRan Inc.', 'Gap Inc.', 'Garmin Ltd.', 'Gartner Inc',\n",
       "       'General Dynamics', 'General Electric',\n",
       "       'General Growth Properties Inc.', 'General Mills',\n",
       "       'General Motors', 'Genuine Parts', 'Gilead Sciences',\n",
       "       'Global Payments Inc.', 'Goldman Sachs Group',\n",
       "       'Goodyear Tire & Rubber', 'Grainger (W.W.) Inc.',\n",
       "       'Halliburton Co.', 'Hanesbrands Inc', 'Harley-Davidson',\n",
       "       'Harris Corporation', 'Hartford Financial Svc.Gp.', 'Hasbro Inc.',\n",
       "       'HCA Holdings', 'HCP Inc.', 'Helmerich & Payne', 'Henry Schein',\n",
       "       'Hess Corporation', 'Hewlett Packard Enterprise',\n",
       "       'Hilton Worldwide Holdings Inc', 'Hologic', 'Home Depot',\n",
       "       \"Honeywell Int'l Inc.\", 'Hormel Foods Corp.',\n",
       "       'Host Hotels & Resorts', 'HP Inc.', 'Humana Inc.',\n",
       "       'Huntington Bancshares', 'Huntington Ingalls Industries',\n",
       "       'IDEXX Laboratories', 'IHS Markit Ltd.', 'Illinois Tool Works',\n",
       "       'Illumina Inc', 'Incyte', 'Ingersoll-Rand PLC', 'Intel Corp.',\n",
       "       'Intercontinental Exchange', 'International Business Machines',\n",
       "       'International Paper', 'Interpublic Group',\n",
       "       'Intl Flavors & Fragrances', 'Intuit Inc.',\n",
       "       'Intuitive Surgical Inc.', 'Invesco Ltd.', 'IQVIA Holdings Inc.',\n",
       "       'Iron Mountain Incorporated', 'J. B. Hunt Transport Services',\n",
       "       'Jacobs Engineering Group', 'JM Smucker', 'Johnson & Johnson',\n",
       "       'Johnson Controls International', 'JPMorgan Chase & Co.',\n",
       "       'Juniper Networks', 'Kansas City Southern', 'Kellogg Co.',\n",
       "       'KeyCorp', 'Kimberly-Clark', 'Kimco Realty', 'Kinder Morgan',\n",
       "       'KLA-Tencor Corp.', \"Kohl's Corp.\", 'Kraft Heinz Co', 'Kroger Co.',\n",
       "       'L Brands Inc.', 'L-3 Communications Holdings',\n",
       "       'Laboratory Corp. of America Holding', 'Lam Research',\n",
       "       'Leggett & Platt', 'Lennar Corp.', 'Leucadia National Corp.',\n",
       "       'Lilly (Eli) & Co.', 'Lincoln National', 'LKQ Corporation',\n",
       "       'Lockheed Martin Corp.', 'Loews Corp.', \"Lowe's Cos.\",\n",
       "       'LyondellBasell', 'M&T Bank Corp.', 'Macerich', \"Macy's Inc.\",\n",
       "       'Marathon Oil Corp.', 'Marathon Petroleum', \"Marriott Int'l.\",\n",
       "       'Marsh & McLennan', 'Martin Marietta Materials', 'Masco Corp.',\n",
       "       'Mastercard Inc.', 'Mattel Inc.', 'McCormick & Co.',\n",
       "       \"McDonald's Corp.\", 'McKesson Corp.', 'Medtronic plc',\n",
       "       'Merck & Co.', 'MetLife Inc.', 'Mettler Toledo',\n",
       "       'MGM Resorts International', 'Michael Kors Holdings',\n",
       "       'Microchip Technology', 'Micron Technology', 'Microsoft Corp.',\n",
       "       'Mid-America Apartments', 'Mohawk Industries',\n",
       "       'Molson Coors Brewing Company', 'Mondelez International',\n",
       "       'Monsanto Co.', 'Monster Beverage', \"Moody's Corp\",\n",
       "       'Morgan Stanley', 'Motorola Solutions Inc.', 'Mylan N.V.',\n",
       "       'Nasdaq, Inc.', 'National Oilwell Varco Inc.', 'Navient', 'NetApp',\n",
       "       'Netflix Inc.', 'Newell Brands', 'Newfield Exploration Co',\n",
       "       'Newmont Mining Corporation', 'News Corp. Class A',\n",
       "       'News Corp. Class B', 'NextEra Energy', 'Nielsen Holdings', 'Nike',\n",
       "       'NiSource Inc.', 'Noble Energy Inc', 'Nordstrom',\n",
       "       'Norfolk Southern Corp.', 'Northern Trust Corp.',\n",
       "       'Northrop Grumman Corp.', 'Norwegian Cruise Line', 'NRG Energy',\n",
       "       'Nucor Corp.', 'Nvidia Corporation', \"O'Reilly Automotive\",\n",
       "       'Occidental Petroleum', 'Omnicom Group', 'ONEOK', 'Oracle Corp.',\n",
       "       'PACCAR Inc.', 'Packaging Corporation of America',\n",
       "       'Parker-Hannifin', 'Patterson Companies', 'Paychex Inc.', 'PayPal',\n",
       "       'Pentair Ltd.', \"People's United Financial\", 'PepsiCo Inc.',\n",
       "       'PerkinElmer', 'Perrigo', 'Pfizer Inc.', 'PG&E Corp.',\n",
       "       'Philip Morris International', 'Phillips 66',\n",
       "       'Pinnacle West Capital', 'Pioneer Natural Resources',\n",
       "       'PNC Financial Services', 'Polo Ralph Lauren Corp.',\n",
       "       'PPG Industries', 'PPL Corp.', 'Praxair Inc.', 'Priceline.com Inc',\n",
       "       'Principal Financial Group', 'Procter & Gamble',\n",
       "       'Progressive Corp.', 'Prologis', 'Prudential Financial',\n",
       "       'Public Serv. Enterprise Inc.', 'Public Storage',\n",
       "       'Pulte Homes Inc.', 'PVH Corp.', 'Qorvo', 'QUALCOMM Inc.',\n",
       "       'Quanta Services Inc.', 'Quest Diagnostics',\n",
       "       'Range Resources Corp.', 'Raymond James Financial Inc.',\n",
       "       'Raytheon Co.', 'Realty Income Corporation', 'Red Hat Inc.',\n",
       "       'Regency Centers Corporation', 'Regeneron',\n",
       "       'Regions Financial Corp.', 'Republic Services Inc', 'ResMed',\n",
       "       'Robert Half International', 'Rockwell Automation Inc.',\n",
       "       'Rockwell Collins', 'Roper Technologies', 'Ross Stores',\n",
       "       'Royal Caribbean Cruises Ltd', 'S&P Global, Inc.',\n",
       "       'Salesforce.com', 'SBA Communications', 'SCANA Corp',\n",
       "       'Schlumberger Ltd.', 'Scripps Networks Interactive Inc.',\n",
       "       'Seagate Technology', 'Sealed Air', 'Sempra Energy',\n",
       "       'Sherwin-Williams', 'Signet Jewelers', 'Simon Property Group Inc',\n",
       "       'Skyworks Solutions', 'SL Green Realty', 'Snap-On Inc.',\n",
       "       'Southern Co.', 'Southwest Airlines', 'Stanley Black & Decker',\n",
       "       'Starbucks Corp.', 'State Street Corp.', 'Stericycle Inc',\n",
       "       'Stryker Corp.', 'SunTrust Banks', 'Symantec Corp.',\n",
       "       'Synchrony Financial', 'Synopsys Inc.', 'Sysco Corp.',\n",
       "       'T. Rowe Price Group', 'Tapestry, Inc.', 'Target Corp.',\n",
       "       'TE Connectivity Ltd.', 'TechnipFMC', 'Texas Instruments',\n",
       "       'Textron Inc.', 'The Bank of New York Mellon Corp.',\n",
       "       'The Clorox Company', 'The Cooper Companies',\n",
       "       'The Hershey Company', 'The Mosaic Company',\n",
       "       'The Travelers Companies Inc.', 'The Walt Disney Company',\n",
       "       'Thermo Fisher Scientific', 'Tiffany & Co.', 'Time Warner Inc.',\n",
       "       'TJX Companies Inc.', 'Torchmark Corp.', 'Total System Services',\n",
       "       'Tractor Supply Company', 'TransDigm Group', 'TripAdvisor',\n",
       "       'Twenty-First Century Fox Class A',\n",
       "       'Twenty-First Century Fox Class B', 'Tyson Foods', 'U.S. Bancorp',\n",
       "       'UDR Inc', 'Ulta Salon Cosmetics & Fragrance Inc',\n",
       "       'Under Armour Class A', 'Under Armour Class C', 'Union Pacific',\n",
       "       'United Continental Holdings', 'United Health Group Inc.',\n",
       "       'United Parcel Service', 'United Rentals, Inc.',\n",
       "       'United Technologies', 'Universal Health Services, Inc.',\n",
       "       'Unum Group', 'V.F. Corp.', 'Valero Energy',\n",
       "       'Varian Medical Systems', 'Ventas Inc', 'Verisign Inc.',\n",
       "       'Verisk Analytics', 'Verizon Communications',\n",
       "       'Vertex Pharmaceuticals Inc', 'Viacom Inc.', 'Visa Inc.',\n",
       "       'Vornado Realty Trust', 'Vulcan Materials', 'Wal-Mart Stores',\n",
       "       'Walgreens Boots Alliance', 'Waste Management Inc.',\n",
       "       'Waters Corporation', 'Wec Energy Group Inc', 'Wells Fargo',\n",
       "       'Welltower Inc.', 'Western Digital', 'Western Union Co',\n",
       "       'WestRock Company', 'Weyerhaeuser Corp.', 'Whirlpool Corp.',\n",
       "       'Williams Cos.', 'Willis Towers Watson', 'Wyndham Worldwide',\n",
       "       'Wynn Resorts Ltd', 'Xcel Energy Inc', 'Xerox Corp.', 'Xilinx Inc',\n",
       "       'XL Capital', 'Xylem Inc.', 'Yum! Brands Inc',\n",
       "       'Zimmer Biomet Holdings', 'Zions Bancorp', 'Zoetis'], dtype=object)"
      ]
     },
     "execution_count": 72,
     "metadata": {},
     "output_type": "execute_result"
    }
   ],
   "source": [
    "data['Name'].unique()"
   ]
  },
  {
   "cell_type": "code",
   "execution_count": 78,
   "metadata": {},
   "outputs": [
    {
     "data": {
      "text/plain": [
       "Name              0\n",
       "Sector            0\n",
       "Price             0\n",
       "Price/Earnings    2\n",
       "Dividend Yield    0\n",
       "Earnings/Share    0\n",
       "52 Week Low       0\n",
       "52 Week High      0\n",
       "Market Cap        0\n",
       "EBITDA            0\n",
       "Price/Sales       0\n",
       "Price/Book        8\n",
       "dtype: int64"
      ]
     },
     "execution_count": 78,
     "metadata": {},
     "output_type": "execute_result"
    }
   ],
   "source": [
    "data.isnull().sum()"
   ]
  },
  {
   "cell_type": "code",
   "execution_count": 79,
   "metadata": {},
   "outputs": [],
   "source": [
    "high = data.drop(['Dividend Yield', 'Earnings/Share', '52 Week High',  '52 Week Low','EBITDA', 'Price/Book', 'Price/Sales'],axis=1)"
   ]
  },
  {
   "cell_type": "code",
   "execution_count": 80,
   "metadata": {},
   "outputs": [
    {
     "data": {
      "text/html": [
       "<div>\n",
       "<style scoped>\n",
       "    .dataframe tbody tr th:only-of-type {\n",
       "        vertical-align: middle;\n",
       "    }\n",
       "\n",
       "    .dataframe tbody tr th {\n",
       "        vertical-align: top;\n",
       "    }\n",
       "\n",
       "    .dataframe thead th {\n",
       "        text-align: right;\n",
       "    }\n",
       "</style>\n",
       "<table border=\"1\" class=\"dataframe\">\n",
       "  <thead>\n",
       "    <tr style=\"text-align: right;\">\n",
       "      <th></th>\n",
       "      <th>Name</th>\n",
       "      <th>Sector</th>\n",
       "      <th>Price</th>\n",
       "      <th>Price/Earnings</th>\n",
       "      <th>Market Cap</th>\n",
       "    </tr>\n",
       "  </thead>\n",
       "  <tbody>\n",
       "    <tr>\n",
       "      <th>0</th>\n",
       "      <td>3M Company</td>\n",
       "      <td>Industrials</td>\n",
       "      <td>222.89</td>\n",
       "      <td>24.31</td>\n",
       "      <td>1.390000e+11</td>\n",
       "    </tr>\n",
       "    <tr>\n",
       "      <th>1</th>\n",
       "      <td>A.O. Smith Corp</td>\n",
       "      <td>Industrials</td>\n",
       "      <td>60.24</td>\n",
       "      <td>27.76</td>\n",
       "      <td>1.078342e+10</td>\n",
       "    </tr>\n",
       "    <tr>\n",
       "      <th>2</th>\n",
       "      <td>Abbott Laboratories</td>\n",
       "      <td>Health Care</td>\n",
       "      <td>56.27</td>\n",
       "      <td>22.51</td>\n",
       "      <td>1.020000e+11</td>\n",
       "    </tr>\n",
       "    <tr>\n",
       "      <th>3</th>\n",
       "      <td>AbbVie Inc.</td>\n",
       "      <td>Health Care</td>\n",
       "      <td>108.48</td>\n",
       "      <td>19.41</td>\n",
       "      <td>1.810000e+11</td>\n",
       "    </tr>\n",
       "    <tr>\n",
       "      <th>4</th>\n",
       "      <td>Accenture plc</td>\n",
       "      <td>Information Technology</td>\n",
       "      <td>150.51</td>\n",
       "      <td>25.47</td>\n",
       "      <td>9.876586e+10</td>\n",
       "    </tr>\n",
       "  </tbody>\n",
       "</table>\n",
       "</div>"
      ],
      "text/plain": [
       "                  Name                  Sector   Price  Price/Earnings  \\\n",
       "0           3M Company             Industrials  222.89           24.31   \n",
       "1      A.O. Smith Corp             Industrials   60.24           27.76   \n",
       "2  Abbott Laboratories             Health Care   56.27           22.51   \n",
       "3          AbbVie Inc.             Health Care  108.48           19.41   \n",
       "4        Accenture plc  Information Technology  150.51           25.47   \n",
       "\n",
       "     Market Cap  \n",
       "0  1.390000e+11  \n",
       "1  1.078342e+10  \n",
       "2  1.020000e+11  \n",
       "3  1.810000e+11  \n",
       "4  9.876586e+10  "
      ]
     },
     "execution_count": 80,
     "metadata": {},
     "output_type": "execute_result"
    }
   ],
   "source": [
    "high.head()"
   ]
  },
  {
   "cell_type": "code",
   "execution_count": 84,
   "metadata": {},
   "outputs": [],
   "source": [
    "corelation = high.corr()"
   ]
  },
  {
   "cell_type": "code",
   "execution_count": 85,
   "metadata": {},
   "outputs": [
    {
     "data": {
      "text/plain": [
       "<AxesSubplot:>"
      ]
     },
     "execution_count": 85,
     "metadata": {},
     "output_type": "execute_result"
    },
    {
     "data": {
      "image/png": "[encoded data removed]",
      "text/plain": [
       "<Figure size 1152x504 with 2 Axes>"
      ]
     },
     "metadata": {
      "needs_background": "light"
     },
     "output_type": "display_data"
    }
   ],
   "source": [
    "sns.heatmap(corelation, xticklabels=corelation.columns, yticklabels=corelation.columns)"
   ]
  },
  {
   "cell_type": "code",
   "execution_count": 86,
   "metadata": {},
   "outputs": [
    {
     "data": {
      "text/plain": [
       "<seaborn.axisgrid.PairGrid at 0x2a6c38354c0>"
      ]
     },
     "execution_count": 86,
     "metadata": {},
     "output_type": "execute_result"
    },
    {
     "data": {
      "image/png": "[encoded data removed]",
      "text/plain": [
       "<Figure size 540x540 with 12 Axes>"
      ]
     },
     "metadata": {
      "needs_background": "light"
     },
     "output_type": "display_data"
    }
   ],
   "source": [
    "sns.pairplot(high)"
   ]
  },
  {
   "cell_type": "code",
   "execution_count": 88,
   "metadata": {},
   "outputs": [
    {
     "data": {
      "text/plain": [
       "<seaborn.axisgrid.FacetGrid at 0x2a6c4826ac0>"
      ]
     },
     "execution_count": 88,
     "metadata": {},
     "output_type": "execute_result"
    },
    {
     "data": {
      "image/png": "[encoded data removed]",
      "text/plain": [
       "<Figure size 537.75x360 with 1 Axes>"
      ]
     },
     "metadata": {
      "needs_background": "light"
     },
     "output_type": "display_data"
    }
   ],
   "source": [
    "sns.relplot(x = 'Market Cap', y='Price', hue='Sector', data=high)"
   ]
  },
  {
   "cell_type": "code",
   "execution_count": 93,
   "metadata": {},
   "outputs": [
    {
     "data": {
      "text/plain": [
       "<AxesSubplot:xlabel='Market Cap', ylabel='Count'>"
      ]
     },
     "execution_count": 93,
     "metadata": {},
     "output_type": "execute_result"
    },
    {
     "data": {
      "image/png": "[encoded data removed]",
      "text/plain": [
       "<Figure size 1152x504 with 1 Axes>"
      ]
     },
     "metadata": {
      "needs_background": "light"
     },
     "output_type": "display_data"
    }
   ],
   "source": [
    "sns.histplot(high['Market Cap'])"
   ]
  },
  {
   "cell_type": "code",
   "execution_count": 97,
   "metadata": {},
   "outputs": [
    {
     "data": {
      "text/plain": [
       "<seaborn.axisgrid.FacetGrid at 0x2a6c5989af0>"
      ]
     },
     "execution_count": 97,
     "metadata": {},
     "output_type": "execute_result"
    },
    {
     "data": {
      "image/png": "[encoded data removed]",
      "text/plain": [
       "<Figure size 360x360 with 1 Axes>"
      ]
     },
     "metadata": {
      "needs_background": "light"
     },
     "output_type": "display_data"
    }
   ],
   "source": [
    "sns.catplot(x='Price/Earnings', kind='box', data=high)"
   ]
  }
 ],
 "metadata": {
  "kernelspec": {
   "display_name": "Python 3",
   "language": "python",
   "name": "python3"
  },
  "language_info": {
   "codemirror_mode": {
    "name": "ipython",
    "version": 3
   },
   "file_extension": ".py",
   "mimetype": "text/x-python",
   "name": "python",
   "nbconvert_exporter": "python",
   "pygments_lexer": "ipython3",
   "version": "3.8.5"
  }
 },
 "nbformat": 4,
 "nbformat_minor": 4
}
