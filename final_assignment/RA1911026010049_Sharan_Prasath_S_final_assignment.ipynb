{
  "nbformat": 4,
  "nbformat_minor": 0,
  "metadata": {
    "colab": {
      "name": "RA1911026010049_Sharan Prasath S_final_assignment.ipynb",
      "provenance": [],
      "collapsed_sections": []
    },
    "kernelspec": {
      "name": "python3",
      "display_name": "Python 3"
    },
    "language_info": {
      "name": "python"
    }
  },
  "cells": [
    {
      "cell_type": "markdown",
      "metadata": {
        "id": "SXXkA8fPbsYV"
      },
      "source": [
        "##Problem Statement\n",
        "<h5><strong>Dataset</strong>: The dataset Belongs to classic UCI Machine Learning Repository</h5>\n",
        "<h5><strong>Given</strong></h5>\n",
        "<ul>\n",
        "<li>Breast Cancer Dataset</li>\n",
        "<li>Features related to the Breast cancer</li>\n",
        "<li>Aim is to predict whether the Tumor is Benign or Malignant</li>\n",
        "<li>Divided into two classes where 2 - Benign and 4- Malignant</li>\n",
        "\n",
        "</ul>\n",
        "<h5><strong>Method</strong></h5>\n",
        "<ul>\n",
        "<li>Training the dataset with different Machine Learning models and Concluding which Model Gives the Highest Accuracy </li>\n",
        "</ul>\n"
      ]
    },
    {
      "cell_type": "markdown",
      "metadata": {
        "id": "q9-hW1qveXXa"
      },
      "source": [
        "##Importing Libraries"
      ]
    },
    {
      "cell_type": "code",
      "metadata": {
        "id": "vol0BUY8aJzC"
      },
      "source": [
        "import numpy as np\n",
        "import matplotlib.pyplot as plt\n",
        "import pandas as pd\n",
        " "
      ],
      "execution_count": 10,
      "outputs": []
    },
    {
      "cell_type": "markdown",
      "metadata": {
        "id": "S61IWl6WfNIR"
      },
      "source": [
        "##Data Preprocessing"
      ]
    },
    {
      "cell_type": "code",
      "metadata": {
        "id": "plqJVHpnaZoH"
      },
      "source": [
        "dataset = pd.read_csv('Breast Cancer Dataset.csv')\n",
        "dataset.drop('Sample code number',\n",
        "  axis='columns', inplace=True)\n",
        "#Dropping the Sample Code Number as it has no influence over the Classification\n",
        "#it also can Reduce the Accuracy of the model\n"
      ],
      "execution_count": 11,
      "outputs": []
    },
    {
      "cell_type": "code",
      "metadata": {
        "colab": {
          "base_uri": "https://localhost:8080/",
          "height": 238
        },
        "id": "h4AgEG_Dah1o",
        "outputId": "0a569adf-a852-4466-f8b3-f7e83409a836"
      },
      "source": [
        "X = dataset.iloc[:, :-1].values\n",
        "y = dataset.iloc[:, -1].values\n",
        "#X is the Independent Variable and Y is the Dependent Variable\n",
        "dataset.head()\n"
      ],
      "execution_count": 12,
      "outputs": [
        {
          "output_type": "execute_result",
          "data": {
            "text/html": [
              "<div>\n",
              "<style scoped>\n",
              "    .dataframe tbody tr th:only-of-type {\n",
              "        vertical-align: middle;\n",
              "    }\n",
              "\n",
              "    .dataframe tbody tr th {\n",
              "        vertical-align: top;\n",
              "    }\n",
              "\n",
              "    .dataframe thead th {\n",
              "        text-align: right;\n",
              "    }\n",
              "</style>\n",
              "<table border=\"1\" class=\"dataframe\">\n",
              "  <thead>\n",
              "    <tr style=\"text-align: right;\">\n",
              "      <th></th>\n",
              "      <th>Clump Thickness</th>\n",
              "      <th>Uniformity of Cell Size</th>\n",
              "      <th>Uniformity of Cell Shape</th>\n",
              "      <th>Marginal Adhesion</th>\n",
              "      <th>Single Epithelial Cell Size</th>\n",
              "      <th>Bare Nuclei</th>\n",
              "      <th>Bland Chromatin</th>\n",
              "      <th>Normal Nucleoli</th>\n",
              "      <th>Mitoses</th>\n",
              "      <th>Class</th>\n",
              "    </tr>\n",
              "  </thead>\n",
              "  <tbody>\n",
              "    <tr>\n",
              "      <th>0</th>\n",
              "      <td>5</td>\n",
              "      <td>1</td>\n",
              "      <td>1</td>\n",
              "      <td>1</td>\n",
              "      <td>2</td>\n",
              "      <td>1</td>\n",
              "      <td>3</td>\n",
              "      <td>1</td>\n",
              "      <td>1</td>\n",
              "      <td>2</td>\n",
              "    </tr>\n",
              "    <tr>\n",
              "      <th>1</th>\n",
              "      <td>5</td>\n",
              "      <td>4</td>\n",
              "      <td>4</td>\n",
              "      <td>5</td>\n",
              "      <td>7</td>\n",
              "      <td>10</td>\n",
              "      <td>3</td>\n",
              "      <td>2</td>\n",
              "      <td>1</td>\n",
              "      <td>2</td>\n",
              "    </tr>\n",
              "    <tr>\n",
              "      <th>2</th>\n",
              "      <td>3</td>\n",
              "      <td>1</td>\n",
              "      <td>1</td>\n",
              "      <td>1</td>\n",
              "      <td>2</td>\n",
              "      <td>2</td>\n",
              "      <td>3</td>\n",
              "      <td>1</td>\n",
              "      <td>1</td>\n",
              "      <td>2</td>\n",
              "    </tr>\n",
              "    <tr>\n",
              "      <th>3</th>\n",
              "      <td>6</td>\n",
              "      <td>8</td>\n",
              "      <td>8</td>\n",
              "      <td>1</td>\n",
              "      <td>3</td>\n",
              "      <td>4</td>\n",
              "      <td>3</td>\n",
              "      <td>7</td>\n",
              "      <td>1</td>\n",
              "      <td>2</td>\n",
              "    </tr>\n",
              "    <tr>\n",
              "      <th>4</th>\n",
              "      <td>4</td>\n",
              "      <td>1</td>\n",
              "      <td>1</td>\n",
              "      <td>3</td>\n",
              "      <td>2</td>\n",
              "      <td>1</td>\n",
              "      <td>3</td>\n",
              "      <td>1</td>\n",
              "      <td>1</td>\n",
              "      <td>2</td>\n",
              "    </tr>\n",
              "  </tbody>\n",
              "</table>\n",
              "</div>"
            ],
            "text/plain": [
              "   Clump Thickness  Uniformity of Cell Size  ...  Mitoses  Class\n",
              "0                5                        1  ...        1      2\n",
              "1                5                        4  ...        1      2\n",
              "2                3                        1  ...        1      2\n",
              "3                6                        8  ...        1      2\n",
              "4                4                        1  ...        1      2\n",
              "\n",
              "[5 rows x 10 columns]"
            ]
          },
          "metadata": {},
          "execution_count": 12
        }
      ]
    },
    {
      "cell_type": "markdown",
      "metadata": {
        "id": "zWdLIXVaf0AO"
      },
      "source": [
        "##Splitting into Training and Test Data"
      ]
    },
    {
      "cell_type": "code",
      "metadata": {
        "id": "eBN2RFMzamPO"
      },
      "source": [
        "from sklearn.model_selection import train_test_split\n",
        "X_train, X_test, y_train, y_test = train_test_split(X, y, test_size = 0.2)"
      ],
      "execution_count": 13,
      "outputs": []
    },
    {
      "cell_type": "markdown",
      "metadata": {
        "id": "bP2yr-FDf5cJ"
      },
      "source": [
        "##Feature Scaling"
      ]
    },
    {
      "cell_type": "code",
      "metadata": {
        "id": "pzBwXTi-axVS"
      },
      "source": [
        " \n",
        "from sklearn.preprocessing import StandardScaler\n",
        "sc = StandardScaler()\n",
        "X_train = sc.fit_transform(X_train)\n",
        "X_test = sc.transform(X_test)"
      ],
      "execution_count": 14,
      "outputs": []
    },
    {
      "cell_type": "markdown",
      "metadata": {
        "id": "MEpYNmLfgMuM"
      },
      "source": [
        "##Training the Data through different Machine Learning Models"
      ]
    },
    {
      "cell_type": "markdown",
      "metadata": {
        "id": "EpDzxneGgTdn"
      },
      "source": [
        "##Naive Bayes ML model"
      ]
    },
    {
      "cell_type": "code",
      "metadata": {
        "colab": {
          "base_uri": "https://localhost:8080/"
        },
        "id": "b7b218eYa2e6",
        "outputId": "4df0d5f7-0d9e-42b2-8ac2-405dd558aa57"
      },
      "source": [
        "from sklearn.naive_bayes import GaussianNB\n",
        "from sklearn.metrics import confusion_matrix, accuracy_score\n",
        "classifier_Bayes = GaussianNB()\n",
        "classifier_Bayes.fit(X_train, y_train)\n",
        "y_pred = classifier_Bayes.predict(X_test)\n",
        "cm_Bayes = confusion_matrix(y_test, y_pred)\n",
        "print(cm_Bayes)\n",
        "acc_score_bayes = accuracy_score(y_test, y_pred)\n",
        "##Printing the Confusion Matrix"
      ],
      "execution_count": 15,
      "outputs": [
        {
          "output_type": "stream",
          "name": "stdout",
          "text": [
            "[[75  9]\n",
            " [ 0 53]]\n"
          ]
        }
      ]
    },
    {
      "cell_type": "markdown",
      "metadata": {
        "id": "LudVyOyoggrg"
      },
      "source": [
        "##Decision Tree Classifier ML model"
      ]
    },
    {
      "cell_type": "code",
      "metadata": {
        "colab": {
          "base_uri": "https://localhost:8080/"
        },
        "id": "jw3JPzQva3QM",
        "outputId": "11ec282d-8d41-46b6-afaa-7c4afbb50189"
      },
      "source": [
        "from sklearn.tree import DecisionTreeClassifier\n",
        "from sklearn.metrics import confusion_matrix, accuracy_score\n",
        "classifier_tree = DecisionTreeClassifier(criterion = 'entropy')\n",
        "classifier_tree.fit(X_train, y_train)\n",
        "y_pred = classifier_tree.predict(X_test)\n",
        "cm_tree = confusion_matrix(y_test, y_pred)\n",
        "print(cm_tree)\n",
        "acc_score_tree = accuracy_score(y_test, y_pred)\n",
        "##Printing the Confusion Matrix\n",
        " "
      ],
      "execution_count": 16,
      "outputs": [
        {
          "output_type": "stream",
          "name": "stdout",
          "text": [
            "[[80  4]\n",
            " [ 2 51]]\n"
          ]
        }
      ]
    },
    {
      "cell_type": "markdown",
      "metadata": {
        "id": "avW7gGjLhGTV"
      },
      "source": [
        "##Logistic Regression classfier ML model "
      ]
    },
    {
      "cell_type": "code",
      "metadata": {
        "colab": {
          "base_uri": "https://localhost:8080/"
        },
        "id": "xnS1d-5xa6Pg",
        "outputId": "7742252d-74e9-4cfe-c9a2-aa69ae4a3c61"
      },
      "source": [
        "\n",
        "from sklearn.linear_model import LogisticRegression\n",
        "from sklearn.metrics import confusion_matrix, accuracy_score\n",
        "classifier_log_reg = LogisticRegression()\n",
        "classifier_log_reg.fit(X_train, y_train)\n",
        "y_pred = classifier_log_reg.predict(X_test)\n",
        "cm_log_reg = confusion_matrix(y_test, y_pred)\n",
        "print(cm_log_reg)\n",
        "acc_score_log_reg = accuracy_score(y_test, y_pred)\n",
        "##Printing the Confusion Matrix"
      ],
      "execution_count": 17,
      "outputs": [
        {
          "output_type": "stream",
          "name": "stdout",
          "text": [
            "[[79  5]\n",
            " [ 0 53]]\n"
          ]
        }
      ]
    },
    {
      "cell_type": "markdown",
      "metadata": {
        "id": "I0HPXosuhvr8"
      },
      "source": [
        "##K Nearest Neighbor ML model"
      ]
    },
    {
      "cell_type": "code",
      "metadata": {
        "colab": {
          "base_uri": "https://localhost:8080/"
        },
        "id": "VT15I4NNa9ia",
        "outputId": "0fdc85ec-a5e4-45b4-fd96-9c6ecd1f186c"
      },
      "source": [
        "from sklearn.neighbors import KNeighborsClassifier\n",
        "from sklearn.metrics import confusion_matrix, accuracy_score\n",
        "classifier_knn = KNeighborsClassifier(n_neighbors = 5, metric = 'minkowski', p = 2)\n",
        "classifier_knn.fit(X_train, y_train)\n",
        "y_pred = classifier_knn.predict(X_test)\n",
        "cm_knn = confusion_matrix(y_test, y_pred)\n",
        "print(cm_knn)\n",
        "acc_score_knn = accuracy_score(y_test, y_pred)\n",
        "##Printing the Confusion Matrix"
      ],
      "execution_count": 18,
      "outputs": [
        {
          "output_type": "stream",
          "name": "stdout",
          "text": [
            "[[80  4]\n",
            " [ 0 53]]\n"
          ]
        }
      ]
    },
    {
      "cell_type": "markdown",
      "metadata": {
        "id": "LyJ-PijNh449"
      },
      "source": [
        "##Random Forest Classifier ML model"
      ]
    },
    {
      "cell_type": "code",
      "metadata": {
        "colab": {
          "base_uri": "https://localhost:8080/"
        },
        "id": "2KVySu2DbAOW",
        "outputId": "97f9b881-876b-4847-b7df-47fcc18aac6c"
      },
      "source": [
        "from sklearn.ensemble import RandomForestClassifier\n",
        "from sklearn.metrics import confusion_matrix, accuracy_score\n",
        "classifier_forest = RandomForestClassifier(n_estimators = 10, criterion = 'entropy')\n",
        "classifier_forest.fit(X_train, y_train)\n",
        "y_pred = classifier_forest.predict(X_test)\n",
        "cm_forest = confusion_matrix(y_test, y_pred)\n",
        "print(cm_forest)\n",
        "acc_score_forest = accuracy_score(y_test, y_pred)\n",
        "##Printing the Confusion Matrix"
      ],
      "execution_count": 19,
      "outputs": [
        {
          "output_type": "stream",
          "name": "stdout",
          "text": [
            "[[80  4]\n",
            " [ 1 52]]\n"
          ]
        }
      ]
    },
    {
      "cell_type": "markdown",
      "metadata": {
        "id": "z9kxX09fiTHV"
      },
      "source": [
        "##Support Vector Machine ML model"
      ]
    },
    {
      "cell_type": "code",
      "metadata": {
        "colab": {
          "base_uri": "https://localhost:8080/"
        },
        "id": "xlbJljBybH0x",
        "outputId": "8cbf8a36-f610-4e90-cef8-cd4d48c58cd9"
      },
      "source": [
        "from sklearn.svm import SVC\n",
        "from sklearn.metrics import confusion_matrix, accuracy_score\n",
        "classifier_SVM_lin = SVC(kernel = 'linear')\n",
        "classifier_SVM_lin.fit(X_train, y_train)\n",
        "y_pred = classifier_SVM_lin.predict(X_test)\n",
        "cm_SVM_lin = confusion_matrix(y_test, y_pred)\n",
        "print(cm_SVM_lin)\n",
        "acc_score_SVM_lin = accuracy_score(y_test, y_pred)\n",
        "##Printing the Confusion Matrix"
      ],
      "execution_count": 20,
      "outputs": [
        {
          "output_type": "stream",
          "name": "stdout",
          "text": [
            "[[79  5]\n",
            " [ 0 53]]\n"
          ]
        }
      ]
    },
    {
      "cell_type": "markdown",
      "metadata": {
        "id": "mn8k_rAhingL"
      },
      "source": [
        "##Kernal SVM ML model"
      ]
    },
    {
      "cell_type": "code",
      "metadata": {
        "colab": {
          "base_uri": "https://localhost:8080/"
        },
        "id": "Eu7giULWbLvL",
        "outputId": "50255224-e769-473f-e67d-c9103a49be44"
      },
      "source": [
        "from sklearn.svm import SVC\n",
        "from sklearn.metrics import confusion_matrix, accuracy_score \n",
        "classifier_SVM_rbf = SVC(kernel = 'rbf')\n",
        "classifier_SVM_rbf.fit(X_train, y_train)\n",
        "y_pred = classifier_SVM_rbf.predict(X_test)\n",
        "cm_SVM_rbf = confusion_matrix(y_test, y_pred)\n",
        "print(cm_SVM_rbf)\n",
        "acc_score_SVM_rbf = accuracy_score(y_test, y_pred)\n",
        "##Printing the Confusion Matrix"
      ],
      "execution_count": 21,
      "outputs": [
        {
          "output_type": "stream",
          "name": "stdout",
          "text": [
            "[[79  5]\n",
            " [ 0 53]]\n"
          ]
        }
      ]
    },
    {
      "cell_type": "code",
      "metadata": {
        "colab": {
          "base_uri": "https://localhost:8080/"
        },
        "id": "U3s6AE1JbTsR",
        "outputId": "c12070be-5f0f-4df7-922b-25bb104889f4"
      },
      "source": [
        "print(f\"Score for Naive Bayes: {100*acc_score_bayes:.2f} % accuracy\\n\")\n",
        "\n",
        "print(f\"Score for Decision Tree: {100*acc_score_tree:.2f} % accuracy\\n\")\n",
        "\n",
        "print(f\"Score for Logistic Regression: {100*acc_score_log_reg:.2f} % accuracy\\n\")\n",
        "\n",
        "print(f\"Score for K_NN: {100*acc_score_knn:.2f} % accuracy\\n\")\n",
        "\n",
        "print(f\"Score for Random Forest: {100*acc_score_forest:.2f} % accuracy\\n\")\n",
        "\n",
        "print(f\"score for Support Vector Machine: {100*acc_score_SVM_lin:.2f} % accuracy\\n\")\n",
        "\n",
        "print(f\"score for Kernal SVM: {100*acc_score_SVM_rbf:.2f} % accuracy\")"
      ],
      "execution_count": 22,
      "outputs": [
        {
          "output_type": "stream",
          "name": "stdout",
          "text": [
            "Score for Naive Bayes: 93.43 % accuracy\n",
            "\n",
            "Score for Decision Tree: 95.62 % accuracy\n",
            "\n",
            "Score for Logistic Regression: 96.35 % accuracy\n",
            "\n",
            "Score for K_NN: 97.08 % accuracy\n",
            "\n",
            "Score for Random Forest: 96.35 % accuracy\n",
            "\n",
            "score for Support Vector Machine: 96.35 % accuracy\n",
            "\n",
            "score for Kernal SVM: 96.35 % accuracy\n"
          ]
        }
      ]
    },
    {
      "cell_type": "markdown",
      "metadata": {
        "id": "rotsWfetMXcv"
      },
      "source": [
        "##Predicting a Single Value"
      ]
    },
    {
      "cell_type": "code",
      "metadata": {
        "colab": {
          "base_uri": "https://localhost:8080/"
        },
        "id": "pUL11CubLtUx",
        "outputId": "cf34140d-ef03-4ea3-ec94-9150ced1a03f"
      },
      "source": [
        "#Now that we know Naive Bayes algorithm gives highest accuracy , trying to predict the class.\n",
        "#The class is predicted according to the values of the repective features\n",
        "print(classifier_Bayes.predict(sc.transform([[4,8,1,2,2,5,3,2,1]])))\n",
        "#Therefore it has predicted that for these set of feature values the tumor is going to be Malignant i.e class 4"
      ],
      "execution_count": 24,
      "outputs": [
        {
          "output_type": "stream",
          "name": "stdout",
          "text": [
            "[4]\n"
          ]
        }
      ]
    },
    {
      "cell_type": "markdown",
      "metadata": {
        "id": "pV86etPcjZin"
      },
      "source": [
        "<h3><strong>Conclusion</strong></h3>\n",
        "<ul>\n",
        "<li>From the above Accuracy Scores Naive Bayes ML model has given the highest Accuracy </li>\n",
        "<li>Observing the Confusion Matrix<ul>\n",
        "<li>Out of 96 Dependent Values(class) only 3 were predicted wrong and 93 values were predicted correctly which in turn gave the high accuracy</li>\n",
        "</ul></li>\n",
        "</ul>\n"
      ]
    }
  ]
}