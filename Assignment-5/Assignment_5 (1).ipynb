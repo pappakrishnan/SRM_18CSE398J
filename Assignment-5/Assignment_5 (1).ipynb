{
  "nbformat": 4,
  "nbformat_minor": 0,
  "metadata": {
    "kernelspec": {
      "language": "python",
      "display_name": "Python 3",
      "name": "python3"
    },
    "language_info": {
      "pygments_lexer": "ipython3",
      "nbconvert_exporter": "python",
      "version": "3.6.4",
      "file_extension": ".py",
      "codemirror_mode": {
        "name": "ipython",
        "version": 3
      },
      "name": "python",
      "mimetype": "text/x-python"
    },
    "colab": {
      "name": "Assignment-5",
      "provenance": [],
      "collapsed_sections": []
    }
  },
  "cells": [
    {
      "cell_type": "markdown",
      "metadata": {
        "id": "30vR5KBPeOn6"
      },
      "source": [
        "# **Drug Classification Prediction**\n",
        "#### **Name: Aryan Jamwal**\n",
        "#### **Reg No: RA1811031010019**\n",
        "#### **CSE-IT**"
      ]
    },
    {
      "cell_type": "markdown",
      "metadata": {
        "id": "2IQ7wR2Nf_UY"
      },
      "source": [
        "# Importing Library"
      ]
    },
    {
      "cell_type": "code",
      "metadata": {
        "id": "BWyI7RUxdubo",
        "execution": {
          "iopub.status.busy": "2021-10-05T10:46:25.008085Z",
          "iopub.execute_input": "2021-10-05T10:46:25.008459Z",
          "iopub.status.idle": "2021-10-05T10:46:25.922617Z",
          "shell.execute_reply.started": "2021-10-05T10:46:25.008374Z",
          "shell.execute_reply": "2021-10-05T10:46:25.92176Z"
        },
        "trusted": true
      },
      "source": [
        "import numpy as np\n",
        "import pandas as pd\n",
        "import matplotlib.pyplot as plt\n",
        "import seaborn as sns\n",
        "import os"
      ],
      "execution_count": 307,
      "outputs": []
    },
    {
      "cell_type": "markdown",
      "metadata": {
        "id": "GOWA0yfdgKh2"
      },
      "source": [
        "# Reading Dataset"
      ]
    },
    {
      "cell_type": "code",
      "metadata": {
        "id": "MttOdogGf977",
        "execution": {
          "iopub.status.busy": "2021-10-05T10:46:25.924253Z",
          "iopub.execute_input": "2021-10-05T10:46:25.924506Z",
          "iopub.status.idle": "2021-10-05T10:46:25.946531Z",
          "shell.execute_reply.started": "2021-10-05T10:46:25.924477Z",
          "shell.execute_reply": "2021-10-05T10:46:25.945655Z"
        },
        "trusted": true
      },
      "source": [
        "df_drug = pd.read_csv(\"/content/drug200.csv\")"
      ],
      "execution_count": 308,
      "outputs": []
    },
    {
      "cell_type": "code",
      "metadata": {
        "id": "03SilAIggW36",
        "execution": {
          "iopub.status.busy": "2021-10-05T10:46:25.947757Z",
          "iopub.execute_input": "2021-10-05T10:46:25.948002Z",
          "iopub.status.idle": "2021-10-05T10:46:25.97089Z",
          "shell.execute_reply.started": "2021-10-05T10:46:25.947975Z",
          "shell.execute_reply": "2021-10-05T10:46:25.970077Z"
        },
        "trusted": true,
        "colab": {
          "base_uri": "https://localhost:8080/",
          "height": 203
        },
        "outputId": "f850fddd-7e67-4c96-c6b2-d41fcf843466"
      },
      "source": [
        "df_drug.head()"
      ],
      "execution_count": 309,
      "outputs": [
        {
          "output_type": "execute_result",
          "data": {
            "text/html": [
              "<div>\n",
              "<style scoped>\n",
              "    .dataframe tbody tr th:only-of-type {\n",
              "        vertical-align: middle;\n",
              "    }\n",
              "\n",
              "    .dataframe tbody tr th {\n",
              "        vertical-align: top;\n",
              "    }\n",
              "\n",
              "    .dataframe thead th {\n",
              "        text-align: right;\n",
              "    }\n",
              "</style>\n",
              "<table border=\"1\" class=\"dataframe\">\n",
              "  <thead>\n",
              "    <tr style=\"text-align: right;\">\n",
              "      <th></th>\n",
              "      <th>Age</th>\n",
              "      <th>Sex</th>\n",
              "      <th>BP</th>\n",
              "      <th>Cholesterol</th>\n",
              "      <th>Na_to_K</th>\n",
              "      <th>Drug</th>\n",
              "    </tr>\n",
              "  </thead>\n",
              "  <tbody>\n",
              "    <tr>\n",
              "      <th>0</th>\n",
              "      <td>23</td>\n",
              "      <td>F</td>\n",
              "      <td>HIGH</td>\n",
              "      <td>HIGH</td>\n",
              "      <td>25.355</td>\n",
              "      <td>DrugY</td>\n",
              "    </tr>\n",
              "    <tr>\n",
              "      <th>1</th>\n",
              "      <td>47</td>\n",
              "      <td>M</td>\n",
              "      <td>LOW</td>\n",
              "      <td>HIGH</td>\n",
              "      <td>13.093</td>\n",
              "      <td>drugC</td>\n",
              "    </tr>\n",
              "    <tr>\n",
              "      <th>2</th>\n",
              "      <td>47</td>\n",
              "      <td>M</td>\n",
              "      <td>LOW</td>\n",
              "      <td>HIGH</td>\n",
              "      <td>10.114</td>\n",
              "      <td>drugC</td>\n",
              "    </tr>\n",
              "    <tr>\n",
              "      <th>3</th>\n",
              "      <td>28</td>\n",
              "      <td>F</td>\n",
              "      <td>NORMAL</td>\n",
              "      <td>HIGH</td>\n",
              "      <td>7.798</td>\n",
              "      <td>drugX</td>\n",
              "    </tr>\n",
              "    <tr>\n",
              "      <th>4</th>\n",
              "      <td>61</td>\n",
              "      <td>F</td>\n",
              "      <td>LOW</td>\n",
              "      <td>HIGH</td>\n",
              "      <td>18.043</td>\n",
              "      <td>DrugY</td>\n",
              "    </tr>\n",
              "  </tbody>\n",
              "</table>\n",
              "</div>"
            ],
            "text/plain": [
              "   Age Sex      BP Cholesterol  Na_to_K   Drug\n",
              "0   23   F    HIGH        HIGH   25.355  DrugY\n",
              "1   47   M     LOW        HIGH   13.093  drugC\n",
              "2   47   M     LOW        HIGH   10.114  drugC\n",
              "3   28   F  NORMAL        HIGH    7.798  drugX\n",
              "4   61   F     LOW        HIGH   18.043  DrugY"
            ]
          },
          "metadata": {},
          "execution_count": 309
        }
      ]
    },
    {
      "cell_type": "code",
      "metadata": {
        "id": "wxebQ3nmgaB0",
        "execution": {
          "iopub.status.busy": "2021-10-05T10:46:25.972776Z",
          "iopub.execute_input": "2021-10-05T10:46:25.973669Z",
          "iopub.status.idle": "2021-10-05T10:46:25.995866Z",
          "shell.execute_reply.started": "2021-10-05T10:46:25.973627Z",
          "shell.execute_reply": "2021-10-05T10:46:25.994865Z"
        },
        "trusted": true,
        "colab": {
          "base_uri": "https://localhost:8080/"
        },
        "outputId": "b401eb3e-f1ea-4662-ccf6-fec17b40fcc1"
      },
      "source": [
        "print(df_drug.info())"
      ],
      "execution_count": 310,
      "outputs": [
        {
          "output_type": "stream",
          "name": "stdout",
          "text": [
            "<class 'pandas.core.frame.DataFrame'>\n",
            "RangeIndex: 200 entries, 0 to 199\n",
            "Data columns (total 6 columns):\n",
            " #   Column       Non-Null Count  Dtype  \n",
            "---  ------       --------------  -----  \n",
            " 0   Age          200 non-null    int64  \n",
            " 1   Sex          200 non-null    object \n",
            " 2   BP           200 non-null    object \n",
            " 3   Cholesterol  200 non-null    object \n",
            " 4   Na_to_K      200 non-null    float64\n",
            " 5   Drug         200 non-null    object \n",
            "dtypes: float64(1), int64(1), object(4)\n",
            "memory usage: 9.5+ KB\n",
            "None\n"
          ]
        }
      ]
    },
    {
      "cell_type": "markdown",
      "metadata": {
        "id": "Q8UvtoqEiT99"
      },
      "source": [
        "From the results above, there are no missing value in this dataset"
      ]
    },
    {
      "cell_type": "markdown",
      "metadata": {
        "id": "PY0yjKQfgcar"
      },
      "source": [
        "# Data Exploration"
      ]
    },
    {
      "cell_type": "markdown",
      "metadata": {
        "id": "SIh-WZeDhSUk"
      },
      "source": [
        "## Categorical columns"
      ]
    },
    {
      "cell_type": "code",
      "metadata": {
        "id": "1wxlj91AgzBZ",
        "execution": {
          "iopub.status.busy": "2021-10-05T10:46:25.997346Z",
          "iopub.execute_input": "2021-10-05T10:46:25.997658Z",
          "iopub.status.idle": "2021-10-05T10:46:26.008274Z",
          "shell.execute_reply.started": "2021-10-05T10:46:25.997617Z",
          "shell.execute_reply": "2021-10-05T10:46:26.007608Z"
        },
        "trusted": true,
        "colab": {
          "base_uri": "https://localhost:8080/"
        },
        "outputId": "a77bf867-3ad6-425e-dfe2-f1a4bba1aa2a"
      },
      "source": [
        "df_drug.Drug.value_counts()"
      ],
      "execution_count": 311,
      "outputs": [
        {
          "output_type": "execute_result",
          "data": {
            "text/plain": [
              "DrugY    91\n",
              "drugX    54\n",
              "drugA    23\n",
              "drugB    16\n",
              "drugC    16\n",
              "Name: Drug, dtype: int64"
            ]
          },
          "metadata": {},
          "execution_count": 311
        }
      ]
    },
    {
      "cell_type": "code",
      "metadata": {
        "id": "ztSS3uKSg-uU",
        "execution": {
          "iopub.status.busy": "2021-10-05T10:46:26.009365Z",
          "iopub.execute_input": "2021-10-05T10:46:26.009694Z",
          "iopub.status.idle": "2021-10-05T10:46:26.021315Z",
          "shell.execute_reply.started": "2021-10-05T10:46:26.009668Z",
          "shell.execute_reply": "2021-10-05T10:46:26.020468Z"
        },
        "trusted": true,
        "colab": {
          "base_uri": "https://localhost:8080/"
        },
        "outputId": "674c819b-09c0-4658-de03-4f350bff9201"
      },
      "source": [
        "df_drug.Sex.value_counts()"
      ],
      "execution_count": 312,
      "outputs": [
        {
          "output_type": "execute_result",
          "data": {
            "text/plain": [
              "M    104\n",
              "F     96\n",
              "Name: Sex, dtype: int64"
            ]
          },
          "metadata": {},
          "execution_count": 312
        }
      ]
    },
    {
      "cell_type": "code",
      "metadata": {
        "id": "mZYP8-0uhDbn",
        "execution": {
          "iopub.status.busy": "2021-10-05T10:46:26.022541Z",
          "iopub.execute_input": "2021-10-05T10:46:26.023304Z",
          "iopub.status.idle": "2021-10-05T10:46:26.033575Z",
          "shell.execute_reply.started": "2021-10-05T10:46:26.023261Z",
          "shell.execute_reply": "2021-10-05T10:46:26.032594Z"
        },
        "trusted": true,
        "colab": {
          "base_uri": "https://localhost:8080/"
        },
        "outputId": "e61cc191-4c59-4c30-ee10-bdc94fec00f8"
      },
      "source": [
        "df_drug.BP.value_counts()"
      ],
      "execution_count": 313,
      "outputs": [
        {
          "output_type": "execute_result",
          "data": {
            "text/plain": [
              "HIGH      77\n",
              "LOW       64\n",
              "NORMAL    59\n",
              "Name: BP, dtype: int64"
            ]
          },
          "metadata": {},
          "execution_count": 313
        }
      ]
    },
    {
      "cell_type": "code",
      "metadata": {
        "id": "trZ2eOuFhFXb",
        "execution": {
          "iopub.status.busy": "2021-10-05T10:46:26.034599Z",
          "iopub.execute_input": "2021-10-05T10:46:26.035091Z",
          "iopub.status.idle": "2021-10-05T10:46:26.047351Z",
          "shell.execute_reply.started": "2021-10-05T10:46:26.035057Z",
          "shell.execute_reply": "2021-10-05T10:46:26.046628Z"
        },
        "trusted": true,
        "colab": {
          "base_uri": "https://localhost:8080/"
        },
        "outputId": "b417754f-d3ac-44c8-f850-215ac0ae8a50"
      },
      "source": [
        "df_drug.Cholesterol.value_counts()"
      ],
      "execution_count": 314,
      "outputs": [
        {
          "output_type": "execute_result",
          "data": {
            "text/plain": [
              "HIGH      103\n",
              "NORMAL     97\n",
              "Name: Cholesterol, dtype: int64"
            ]
          },
          "metadata": {},
          "execution_count": 314
        }
      ]
    },
    {
      "cell_type": "markdown",
      "metadata": {
        "id": "pqvB06WYhV9o"
      },
      "source": [
        "## Numerical columns"
      ]
    },
    {
      "cell_type": "code",
      "metadata": {
        "id": "1ugOd6wihXjS",
        "execution": {
          "iopub.status.busy": "2021-10-05T10:46:26.04882Z",
          "iopub.execute_input": "2021-10-05T10:46:26.049027Z",
          "iopub.status.idle": "2021-10-05T10:46:26.073549Z",
          "shell.execute_reply.started": "2021-10-05T10:46:26.049003Z",
          "shell.execute_reply": "2021-10-05T10:46:26.072791Z"
        },
        "trusted": true,
        "colab": {
          "base_uri": "https://localhost:8080/",
          "height": 295
        },
        "outputId": "6b3e66ab-1892-4b60-b14f-74206a271fed"
      },
      "source": [
        "df_drug.describe()"
      ],
      "execution_count": 315,
      "outputs": [
        {
          "output_type": "execute_result",
          "data": {
            "text/html": [
              "<div>\n",
              "<style scoped>\n",
              "    .dataframe tbody tr th:only-of-type {\n",
              "        vertical-align: middle;\n",
              "    }\n",
              "\n",
              "    .dataframe tbody tr th {\n",
              "        vertical-align: top;\n",
              "    }\n",
              "\n",
              "    .dataframe thead th {\n",
              "        text-align: right;\n",
              "    }\n",
              "</style>\n",
              "<table border=\"1\" class=\"dataframe\">\n",
              "  <thead>\n",
              "    <tr style=\"text-align: right;\">\n",
              "      <th></th>\n",
              "      <th>Age</th>\n",
              "      <th>Na_to_K</th>\n",
              "    </tr>\n",
              "  </thead>\n",
              "  <tbody>\n",
              "    <tr>\n",
              "      <th>count</th>\n",
              "      <td>200.000000</td>\n",
              "      <td>200.000000</td>\n",
              "    </tr>\n",
              "    <tr>\n",
              "      <th>mean</th>\n",
              "      <td>44.315000</td>\n",
              "      <td>16.084485</td>\n",
              "    </tr>\n",
              "    <tr>\n",
              "      <th>std</th>\n",
              "      <td>16.544315</td>\n",
              "      <td>7.223956</td>\n",
              "    </tr>\n",
              "    <tr>\n",
              "      <th>min</th>\n",
              "      <td>15.000000</td>\n",
              "      <td>6.269000</td>\n",
              "    </tr>\n",
              "    <tr>\n",
              "      <th>25%</th>\n",
              "      <td>31.000000</td>\n",
              "      <td>10.445500</td>\n",
              "    </tr>\n",
              "    <tr>\n",
              "      <th>50%</th>\n",
              "      <td>45.000000</td>\n",
              "      <td>13.936500</td>\n",
              "    </tr>\n",
              "    <tr>\n",
              "      <th>75%</th>\n",
              "      <td>58.000000</td>\n",
              "      <td>19.380000</td>\n",
              "    </tr>\n",
              "    <tr>\n",
              "      <th>max</th>\n",
              "      <td>74.000000</td>\n",
              "      <td>38.247000</td>\n",
              "    </tr>\n",
              "  </tbody>\n",
              "</table>\n",
              "</div>"
            ],
            "text/plain": [
              "              Age     Na_to_K\n",
              "count  200.000000  200.000000\n",
              "mean    44.315000   16.084485\n",
              "std     16.544315    7.223956\n",
              "min     15.000000    6.269000\n",
              "25%     31.000000   10.445500\n",
              "50%     45.000000   13.936500\n",
              "75%     58.000000   19.380000\n",
              "max     74.000000   38.247000"
            ]
          },
          "metadata": {},
          "execution_count": 315
        }
      ]
    },
    {
      "cell_type": "code",
      "metadata": {
        "id": "BdcdYKewh3Qt",
        "execution": {
          "iopub.status.busy": "2021-10-05T10:46:26.076051Z",
          "iopub.execute_input": "2021-10-05T10:46:26.076289Z",
          "iopub.status.idle": "2021-10-05T10:46:26.081717Z",
          "shell.execute_reply.started": "2021-10-05T10:46:26.076262Z",
          "shell.execute_reply": "2021-10-05T10:46:26.080805Z"
        },
        "trusted": true,
        "colab": {
          "base_uri": "https://localhost:8080/"
        },
        "outputId": "0a6bc8c2-f591-4692-82d6-cbf8e94342f5"
      },
      "source": [
        "skewAge = df_drug.Age.skew(axis = 0, skipna = True)\n",
        "print('Age skewness: ', skewAge)"
      ],
      "execution_count": 316,
      "outputs": [
        {
          "output_type": "stream",
          "name": "stdout",
          "text": [
            "Age skewness:  0.03030835703000607\n"
          ]
        }
      ]
    },
    {
      "cell_type": "code",
      "metadata": {
        "id": "RH84R0yyiD8o",
        "execution": {
          "iopub.status.busy": "2021-10-05T10:46:26.083032Z",
          "iopub.execute_input": "2021-10-05T10:46:26.083312Z",
          "iopub.status.idle": "2021-10-05T10:46:26.094684Z",
          "shell.execute_reply.started": "2021-10-05T10:46:26.083277Z",
          "shell.execute_reply": "2021-10-05T10:46:26.09377Z"
        },
        "trusted": true,
        "colab": {
          "base_uri": "https://localhost:8080/"
        },
        "outputId": "03519749-7fca-4a37-eebd-051e70c5f0f0"
      },
      "source": [
        "skewNatoK = df_drug.Na_to_K.skew(axis = 0, skipna = True)\n",
        "print('Na to K skewness: ', skewNatoK)"
      ],
      "execution_count": 317,
      "outputs": [
        {
          "output_type": "stream",
          "name": "stdout",
          "text": [
            "Na to K skewness:  1.039341186028881\n"
          ]
        }
      ]
    },
    {
      "cell_type": "code",
      "metadata": {
        "id": "x3x2nvtOlXmL",
        "execution": {
          "iopub.status.busy": "2021-10-05T10:46:26.09579Z",
          "iopub.execute_input": "2021-10-05T10:46:26.096017Z",
          "iopub.status.idle": "2021-10-05T10:46:26.381902Z",
          "shell.execute_reply.started": "2021-10-05T10:46:26.09599Z",
          "shell.execute_reply": "2021-10-05T10:46:26.381152Z"
        },
        "trusted": true,
        "colab": {
          "base_uri": "https://localhost:8080/",
          "height": 355
        },
        "outputId": "6abb1ed8-d441-4552-b26e-5b055d35cfe0"
      },
      "source": [
        "sns.distplot(df_drug['Age'])"
      ],
      "execution_count": 318,
      "outputs": [
        {
          "output_type": "stream",
          "name": "stderr",
          "text": [
            "/usr/local/lib/python3.7/dist-packages/seaborn/distributions.py:2619: FutureWarning: `distplot` is a deprecated function and will be removed in a future version. Please adapt your code to use either `displot` (a figure-level function with similar flexibility) or `histplot` (an axes-level function for histograms).\n",
            "  warnings.warn(msg, FutureWarning)\n"
          ]
        },
        {
          "output_type": "execute_result",
          "data": {
            "text/plain": [
              "<matplotlib.axes._subplots.AxesSubplot at 0x7f13ed0a1d10>"
            ]
          },
          "metadata": {},
          "execution_count": 318
        },
        {
          "output_type": "display_data",
          "data": {
            "image/png": "[encoded data removed]",
            "text/plain": [
              "<Figure size 432x288 with 1 Axes>"
            ]
          },
          "metadata": {}
        }
      ]
    },
    {
      "cell_type": "code",
      "metadata": {
        "id": "1Ntxk96ulaeQ",
        "execution": {
          "iopub.status.busy": "2021-10-05T10:46:26.383093Z",
          "iopub.execute_input": "2021-10-05T10:46:26.383361Z",
          "iopub.status.idle": "2021-10-05T10:46:26.599431Z",
          "shell.execute_reply.started": "2021-10-05T10:46:26.383334Z",
          "shell.execute_reply": "2021-10-05T10:46:26.598541Z"
        },
        "trusted": true,
        "colab": {
          "base_uri": "https://localhost:8080/",
          "height": 355
        },
        "outputId": "f11b184a-9c5c-4955-923f-c59de079eb48"
      },
      "source": [
        "sns.distplot(df_drug['Na_to_K'])"
      ],
      "execution_count": 319,
      "outputs": [
        {
          "output_type": "stream",
          "name": "stderr",
          "text": [
            "/usr/local/lib/python3.7/dist-packages/seaborn/distributions.py:2619: FutureWarning: `distplot` is a deprecated function and will be removed in a future version. Please adapt your code to use either `displot` (a figure-level function with similar flexibility) or `histplot` (an axes-level function for histograms).\n",
            "  warnings.warn(msg, FutureWarning)\n"
          ]
        },
        {
          "output_type": "execute_result",
          "data": {
            "text/plain": [
              "<matplotlib.axes._subplots.AxesSubplot at 0x7f13ed4c5ad0>"
            ]
          },
          "metadata": {},
          "execution_count": 319
        },
        {
          "output_type": "display_data",
          "data": {
            "image/png": "[encoded data removed]",
            "text/plain": [
              "<Figure size 432x288 with 1 Axes>"
            ]
          },
          "metadata": {}
        }
      ]
    },
    {
      "cell_type": "markdown",
      "metadata": {
        "id": "eAQzoK6VkbbM"
      },
      "source": [
        "The distribution of **'Age'** column is **symetric**, since the skewness value  between -0.5 and 0.5\n",
        "\n",
        "The distribution of **'Na_to_K'** column is **moderately skewed**, since the skewness value is ***between 0.5 and 1***. It can also be seen from the histogram for 'Na_to_K' column"
      ]
    },
    {
      "cell_type": "markdown",
      "metadata": {
        "id": "MWjpuZDGiNrb"
      },
      "source": [
        "# Exploratory Data Analysis"
      ]
    },
    {
      "cell_type": "code",
      "metadata": {
        "id": "3b7RwO3rnH-u",
        "execution": {
          "iopub.status.busy": "2021-10-05T10:46:26.600578Z",
          "iopub.execute_input": "2021-10-05T10:46:26.60081Z",
          "iopub.status.idle": "2021-10-05T10:46:26.764779Z",
          "shell.execute_reply.started": "2021-10-05T10:46:26.600777Z",
          "shell.execute_reply": "2021-10-05T10:46:26.763791Z"
        },
        "trusted": true,
        "colab": {
          "base_uri": "https://localhost:8080/",
          "height": 285
        },
        "outputId": "37ce8e6e-7687-4bff-bc83-9ed3fce1e373"
      },
      "source": [
        "sns.set_theme(style=\"dark\")\n",
        "sns.countplot(y=\"Drug\", data=df_drug, palette=\"Blues\")\n",
        "plt.ylabel('Drug Type')\n",
        "plt.xlabel('Total')\n",
        "plt.show()"
      ],
      "execution_count": 320,
      "outputs": [
        {
          "output_type": "display_data",
          "data": {
            "image/png": "[encoded data removed]",
            "text/plain": [
              "<Figure size 432x288 with 1 Axes>"
            ]
          },
          "metadata": {}
        }
      ]
    },
    {
      "cell_type": "code",
      "metadata": {
        "id": "FQktCCnppjoN",
        "execution": {
          "iopub.status.busy": "2021-10-05T10:46:26.766211Z",
          "iopub.execute_input": "2021-10-05T10:46:26.766475Z",
          "iopub.status.idle": "2021-10-05T10:46:26.886548Z",
          "shell.execute_reply.started": "2021-10-05T10:46:26.766446Z",
          "shell.execute_reply": "2021-10-05T10:46:26.885661Z"
        },
        "trusted": true,
        "colab": {
          "base_uri": "https://localhost:8080/",
          "height": 285
        },
        "outputId": "86162089-c14f-4f5c-b9a5-8b27ffa3e51d"
      },
      "source": [
        "sns.set_theme(style=\"dark\")\n",
        "sns.countplot(x=\"Sex\", data=df_drug, palette=\"Blues\")\n",
        "plt.xlabel('Gender (F=Female, M=Male)')\n",
        "plt.ylabel('Total')\n",
        "plt.show()"
      ],
      "execution_count": 321,
      "outputs": [
        {
          "output_type": "display_data",
          "data": {
            "image/png": "[encoded data removed]",
            "text/plain": [
              "<Figure size 432x288 with 1 Axes>"
            ]
          },
          "metadata": {}
        }
      ]
    },
    {
      "cell_type": "code",
      "metadata": {
        "id": "qoN-IX-W2n2e",
        "execution": {
          "iopub.status.busy": "2021-10-05T10:46:26.887913Z",
          "iopub.execute_input": "2021-10-05T10:46:26.888208Z",
          "iopub.status.idle": "2021-10-05T10:46:27.134617Z",
          "shell.execute_reply.started": "2021-10-05T10:46:26.888161Z",
          "shell.execute_reply": "2021-10-05T10:46:27.133764Z"
        },
        "trusted": true,
        "colab": {
          "base_uri": "https://localhost:8080/",
          "height": 285
        },
        "outputId": "628fff9a-d9a2-42cd-86de-78904e18806f"
      },
      "source": [
        "sns.set_theme(style=\"dark\")\n",
        "sns.countplot(y=\"BP\", data=df_drug, palette=\"Blues\")\n",
        "plt.ylabel('Blood Pressure')\n",
        "plt.xlabel('Total')\n",
        "plt.show()"
      ],
      "execution_count": 322,
      "outputs": [
        {
          "output_type": "display_data",
          "data": {
            "image/png": "[encoded data removed]",
            "text/plain": [
              "<Figure size 432x288 with 1 Axes>"
            ]
          },
          "metadata": {}
        }
      ]
    },
    {
      "cell_type": "code",
      "metadata": {
        "id": "8knVYttd26h1",
        "execution": {
          "iopub.status.busy": "2021-10-05T10:46:27.135986Z",
          "iopub.execute_input": "2021-10-05T10:46:27.136223Z",
          "iopub.status.idle": "2021-10-05T10:46:27.311978Z",
          "shell.execute_reply.started": "2021-10-05T10:46:27.136197Z",
          "shell.execute_reply": "2021-10-05T10:46:27.31085Z"
        },
        "trusted": true,
        "colab": {
          "base_uri": "https://localhost:8080/",
          "height": 285
        },
        "outputId": "2ed55dbd-8788-4391-c3b7-8baed45fe957"
      },
      "source": [
        "sns.set_theme(style=\"dark\")\n",
        "sns.countplot(x=\"Cholesterol\", data=df_drug, palette=\"Blues\")\n",
        "plt.xlabel('Blood Pressure')\n",
        "plt.ylabel('Total')\n",
        "plt.show()"
      ],
      "execution_count": 323,
      "outputs": [
        {
          "output_type": "display_data",
          "data": {
            "image/png": "[encoded data removed]",
            "text/plain": [
              "<Figure size 432x288 with 1 Axes>"
            ]
          },
          "metadata": {}
        }
      ]
    },
    {
      "cell_type": "code",
      "metadata": {
        "id": "T47gXdj9pxD8",
        "execution": {
          "iopub.status.busy": "2021-10-05T10:46:27.313398Z",
          "iopub.execute_input": "2021-10-05T10:46:27.313711Z",
          "iopub.status.idle": "2021-10-05T10:46:27.696082Z",
          "shell.execute_reply.started": "2021-10-05T10:46:27.313672Z",
          "shell.execute_reply": "2021-10-05T10:46:27.695205Z"
        },
        "trusted": true,
        "colab": {
          "base_uri": "https://localhost:8080/",
          "height": 355
        },
        "outputId": "520e1672-ab38-4314-d463-b880a8990a75"
      },
      "source": [
        "pd.crosstab(df_drug.Sex,df_drug.Drug).plot(kind=\"bar\",figsize=(12,5),color=['#003f5c','#ffa600','#58508d','#bc5090','#ff6361'])\n",
        "plt.title('Gender distribution based on Drug type')\n",
        "plt.xlabel('Gender')\n",
        "plt.xticks(rotation=0)\n",
        "plt.ylabel('Frequency')\n",
        "plt.show()"
      ],
      "execution_count": 324,
      "outputs": [
        {
          "output_type": "display_data",
          "data": {
            "image/png": "[encoded data removed]",
            "text/plain": [
              "<Figure size 864x360 with 1 Axes>"
            ]
          },
          "metadata": {}
        }
      ]
    },
    {
      "cell_type": "code",
      "metadata": {
        "id": "bg01FIf75DRW",
        "execution": {
          "iopub.status.busy": "2021-10-05T10:46:27.697588Z",
          "iopub.execute_input": "2021-10-05T10:46:27.69799Z",
          "iopub.status.idle": "2021-10-05T10:46:27.957865Z",
          "shell.execute_reply.started": "2021-10-05T10:46:27.697945Z",
          "shell.execute_reply": "2021-10-05T10:46:27.957249Z"
        },
        "trusted": true,
        "colab": {
          "base_uri": "https://localhost:8080/",
          "height": 410
        },
        "outputId": "c05e126a-1be8-459e-b070-bcd26432d288"
      },
      "source": [
        "pd.crosstab(df_drug.BP,df_drug.Cholesterol).plot(kind=\"bar\",figsize=(15,6),color=['#6929c4','#1192e8'])\n",
        "plt.title('Blood Pressure distribution based on Cholesterol')\n",
        "plt.xlabel('Blood Pressure')\n",
        "plt.xticks(rotation=0)\n",
        "plt.ylabel('Frequency')\n",
        "plt.show()"
      ],
      "execution_count": 325,
      "outputs": [
        {
          "output_type": "display_data",
          "data": {
            "image/png": "[encoded data removed]",
            "text/plain": [
              "<Figure size 1080x432 with 1 Axes>"
            ]
          },
          "metadata": {}
        }
      ]
    },
    {
      "cell_type": "code",
      "metadata": {
        "id": "Lz49pj9X7ZTS",
        "execution": {
          "iopub.status.busy": "2021-10-05T10:46:27.958971Z",
          "iopub.execute_input": "2021-10-05T10:46:27.959919Z",
          "iopub.status.idle": "2021-10-05T10:46:28.266067Z",
          "shell.execute_reply.started": "2021-10-05T10:46:27.959872Z",
          "shell.execute_reply": "2021-10-05T10:46:28.265349Z"
        },
        "trusted": true,
        "colab": {
          "base_uri": "https://localhost:8080/",
          "height": 285
        },
        "outputId": "1aefd33a-29fd-4bf4-ca67-6325b47fd930"
      },
      "source": [
        "plt.scatter(x=df_drug.Age[df_drug.Sex=='F'], y=df_drug.Na_to_K[(df_drug.Sex=='F')], c=\"Blue\")\n",
        "plt.scatter(x=df_drug.Age[df_drug.Sex=='M'], y=df_drug.Na_to_K[(df_drug.Sex=='M')], c=\"Red\")\n",
        "plt.legend([\"Female\", \"Male\"])\n",
        "plt.xlabel(\"Age\")\n",
        "plt.ylabel(\"Na_to_K\")\n",
        "plt.show()"
      ],
      "execution_count": 326,
      "outputs": [
        {
          "output_type": "display_data",
          "data": {
            "image/png": "[encoded data removed]",
            "text/plain": [
              "<Figure size 432x288 with 1 Axes>"
            ]
          },
          "metadata": {}
        }
      ]
    },
    {
      "cell_type": "markdown",
      "metadata": {
        "id": "vwJ_hPlzl32j"
      },
      "source": [
        "# Data Preprocessing"
      ]
    },
    {
      "cell_type": "markdown",
      "metadata": {
        "id": "ozM4xmd5mSrn"
      },
      "source": [
        "## Data Binning"
      ]
    },
    {
      "cell_type": "markdown",
      "metadata": {
        "id": "NOZNMiUsm058"
      },
      "source": [
        "### 'Age' Column"
      ]
    },
    {
      "cell_type": "code",
      "metadata": {
        "id": "CDg1nDQamzvu",
        "execution": {
          "iopub.status.busy": "2021-10-05T10:46:28.26722Z",
          "iopub.execute_input": "2021-10-05T10:46:28.268077Z",
          "iopub.status.idle": "2021-10-05T10:46:28.277957Z",
          "shell.execute_reply.started": "2021-10-05T10:46:28.268034Z",
          "shell.execute_reply": "2021-10-05T10:46:28.277047Z"
        },
        "trusted": true
      },
      "source": [
        "bin_age = [0, 19, 29, 39, 49, 59, 69, 80]\n",
        "category_age = ['<20s', '20s', '30s', '40s', '50s', '60s', '>60s']\n",
        "df_drug['Age_binned'] = pd.cut(df_drug['Age'], bins=bin_age, labels=category_age)\n",
        "df_drug = df_drug.drop(['Age'], axis = 1)"
      ],
      "execution_count": 327,
      "outputs": []
    },
    {
      "cell_type": "markdown",
      "metadata": {
        "id": "3CcOt0Ilm4C8"
      },
      "source": [
        "### 'Na_to_K' Column"
      ]
    },
    {
      "cell_type": "code",
      "metadata": {
        "id": "bhoBfPl3m9zN",
        "execution": {
          "iopub.status.busy": "2021-10-05T10:46:28.279807Z",
          "iopub.execute_input": "2021-10-05T10:46:28.280178Z",
          "iopub.status.idle": "2021-10-05T10:46:28.294707Z",
          "shell.execute_reply.started": "2021-10-05T10:46:28.280122Z",
          "shell.execute_reply": "2021-10-05T10:46:28.293714Z"
        },
        "trusted": true
      },
      "source": [
        "bin_NatoK = [0, 9, 19, 29, 50]\n",
        "category_NatoK = ['<10', '10-20', '20-30', '>30']\n",
        "df_drug['Na_to_K_binned'] = pd.cut(df_drug['Na_to_K'], bins=bin_NatoK, labels=category_NatoK)\n",
        "df_drug = df_drug.drop(['Na_to_K'], axis = 1)"
      ],
      "execution_count": 328,
      "outputs": []
    },
    {
      "cell_type": "markdown",
      "metadata": {
        "id": "ts4FHhNuyZ3G"
      },
      "source": [
        "# Data Preparation"
      ]
    },
    {
      "cell_type": "code",
      "metadata": {
        "id": "8b9Slzpdycfy",
        "execution": {
          "iopub.status.busy": "2021-10-05T10:46:28.296421Z",
          "iopub.execute_input": "2021-10-05T10:46:28.296755Z",
          "iopub.status.idle": "2021-10-05T10:46:28.457917Z",
          "shell.execute_reply.started": "2021-10-05T10:46:28.296713Z",
          "shell.execute_reply": "2021-10-05T10:46:28.457213Z"
        },
        "trusted": true
      },
      "source": [
        "from sklearn.metrics import confusion_matrix\n",
        "from sklearn.metrics import classification_report"
      ],
      "execution_count": 329,
      "outputs": []
    },
    {
      "cell_type": "code",
      "metadata": {
        "id": "8Ryn2U0Syvo5",
        "execution": {
          "iopub.status.busy": "2021-10-05T10:46:28.459209Z",
          "iopub.execute_input": "2021-10-05T10:46:28.460048Z",
          "iopub.status.idle": "2021-10-05T10:46:28.484004Z",
          "shell.execute_reply.started": "2021-10-05T10:46:28.460001Z",
          "shell.execute_reply": "2021-10-05T10:46:28.483237Z"
        },
        "trusted": true
      },
      "source": [
        "X = df_drug.drop([\"Drug\"], axis=1)\n",
        "y = df_drug[\"Drug\"]\n",
        "\n",
        "from sklearn.model_selection import train_test_split\n",
        "X_train, X_test, y_train, y_test = train_test_split(X, y, test_size = 0.3, random_state = 0)"
      ],
      "execution_count": 330,
      "outputs": []
    },
    {
      "cell_type": "markdown",
      "metadata": {
        "id": "pUab4khX2beO"
      },
      "source": [
        "## Feature Engineering"
      ]
    },
    {
      "cell_type": "code",
      "metadata": {
        "id": "E_RiMVZg2bH_",
        "execution": {
          "iopub.status.busy": "2021-10-05T10:46:28.485519Z",
          "iopub.execute_input": "2021-10-05T10:46:28.485859Z",
          "iopub.status.idle": "2021-10-05T10:46:28.505567Z",
          "shell.execute_reply.started": "2021-10-05T10:46:28.485818Z",
          "shell.execute_reply": "2021-10-05T10:46:28.504768Z"
        },
        "trusted": true
      },
      "source": [
        "X_train = pd.get_dummies(X_train)\n",
        "X_test = pd.get_dummies(X_test)"
      ],
      "execution_count": 331,
      "outputs": []
    },
    {
      "cell_type": "markdown",
      "metadata": {
        "id": "Y17SOiU8kz5K"
      },
      "source": [
        "## SMOTE Technique\n",
        "\n",
        "Since the number of 'DrugY' is more than other types of drugs, oversampling is carried out to avoid overfitting"
      ]
    },
    {
      "cell_type": "code",
      "metadata": {
        "id": "_dGygsNalXbp",
        "execution": {
          "iopub.status.busy": "2021-10-05T10:46:28.506911Z",
          "iopub.execute_input": "2021-10-05T10:46:28.50767Z",
          "iopub.status.idle": "2021-10-05T10:46:28.835634Z",
          "shell.execute_reply.started": "2021-10-05T10:46:28.507625Z",
          "shell.execute_reply": "2021-10-05T10:46:28.834731Z"
        },
        "trusted": true,
        "colab": {
          "base_uri": "https://localhost:8080/"
        },
        "outputId": "adec09fe-2708-4a6d-f893-9b11aa948d25"
      },
      "source": [
        "from imblearn.over_sampling import SMOTE\n",
        "X_train, y_train = SMOTE().fit_resample(X_train, y_train)"
      ],
      "execution_count": 332,
      "outputs": [
        {
          "output_type": "stream",
          "name": "stderr",
          "text": [
            "/usr/local/lib/python3.7/dist-packages/sklearn/utils/deprecation.py:87: FutureWarning: Function safe_indexing is deprecated; safe_indexing is deprecated in version 0.22 and will be removed in version 0.24.\n",
            "  warnings.warn(msg, category=FutureWarning)\n",
            "/usr/local/lib/python3.7/dist-packages/sklearn/utils/deprecation.py:87: FutureWarning: Function safe_indexing is deprecated; safe_indexing is deprecated in version 0.22 and will be removed in version 0.24.\n",
            "  warnings.warn(msg, category=FutureWarning)\n",
            "/usr/local/lib/python3.7/dist-packages/sklearn/utils/deprecation.py:87: FutureWarning: Function safe_indexing is deprecated; safe_indexing is deprecated in version 0.22 and will be removed in version 0.24.\n",
            "  warnings.warn(msg, category=FutureWarning)\n",
            "/usr/local/lib/python3.7/dist-packages/sklearn/utils/deprecation.py:87: FutureWarning: Function safe_indexing is deprecated; safe_indexing is deprecated in version 0.22 and will be removed in version 0.24.\n",
            "  warnings.warn(msg, category=FutureWarning)\n"
          ]
        }
      ]
    },
    {
      "cell_type": "code",
      "metadata": {
        "id": "x8SkcI_qlxQ2",
        "execution": {
          "iopub.status.busy": "2021-10-05T10:46:28.836956Z",
          "iopub.execute_input": "2021-10-05T10:46:28.837635Z",
          "iopub.status.idle": "2021-10-05T10:46:29.022178Z",
          "shell.execute_reply.started": "2021-10-05T10:46:28.837595Z",
          "shell.execute_reply": "2021-10-05T10:46:29.021313Z"
        },
        "trusted": true,
        "colab": {
          "base_uri": "https://localhost:8080/",
          "height": 285
        },
        "outputId": "132c8686-e358-4c39-c82a-70a881e0274e"
      },
      "source": [
        "sns.set_theme(style=\"darkgrid\")\n",
        "sns.countplot(y=y_train, data=df_drug, palette=\"Blues\")\n",
        "plt.ylabel('Drug Type')\n",
        "plt.xlabel('Total')\n",
        "plt.show()"
      ],
      "execution_count": 333,
      "outputs": [
        {
          "output_type": "display_data",
          "data": {
            "image/png": "[encoded data removed]",
            "text/plain": [
              "<Figure size 432x288 with 1 Axes>"
            ]
          },
          "metadata": {}
        }
      ]
    },
    {
      "cell_type": "markdown",
      "metadata": {
        "id": "ZdHv3O78nKZu"
      },
      "source": [
        "# Model Building"
      ]
    },
    {
      "cell_type": "markdown",
      "metadata": {
        "id": "t2mXDibjnj2q"
      },
      "source": [
        "## Decision Tree"
      ]
    },
    {
      "cell_type": "code",
      "metadata": {
        "id": "08HoXmgsnmd0",
        "execution": {
          "iopub.status.busy": "2021-10-05T10:48:05.224042Z",
          "iopub.execute_input": "2021-10-05T10:48:05.224414Z",
          "iopub.status.idle": "2021-10-05T10:48:05.244766Z",
          "shell.execute_reply.started": "2021-10-05T10:48:05.224374Z",
          "shell.execute_reply": "2021-10-05T10:48:05.243796Z"
        },
        "trusted": true,
        "colab": {
          "base_uri": "https://localhost:8080/"
        },
        "outputId": "63fae17f-99ce-4398-d9cc-84d792ed1be0"
      },
      "source": [
        "from sklearn.tree import DecisionTreeClassifier\n",
        "DTclassifier = DecisionTreeClassifier(max_leaf_nodes=21)\n",
        "DTclassifier.fit(X_train, y_train)\n",
        "\n",
        "y_pred = DTclassifier.predict(X_test)\n",
        "\n",
        "print(classification_report(y_test, y_pred))\n",
        "print(confusion_matrix(y_test, y_pred))\n",
        "\n",
        "from sklearn.metrics import accuracy_score\n",
        "DTAcc = accuracy_score(y_pred,y_test)\n",
        "print('Decision Tree accuracy is: {:.2f}%'.format(DTAcc*100))"
      ],
      "execution_count": 334,
      "outputs": [
        {
          "output_type": "stream",
          "name": "stdout",
          "text": [
            "              precision    recall  f1-score   support\n",
            "\n",
            "       DrugY       0.91      0.67      0.77        30\n",
            "       drugA       0.50      0.60      0.55         5\n",
            "       drugB       0.75      1.00      0.86         3\n",
            "       drugC       0.67      1.00      0.80         4\n",
            "       drugX       0.82      1.00      0.90        18\n",
            "\n",
            "    accuracy                           0.80        60\n",
            "   macro avg       0.73      0.85      0.77        60\n",
            "weighted avg       0.82      0.80      0.80        60\n",
            "\n",
            "[[20  3  1  2  4]\n",
            " [ 2  3  0  0  0]\n",
            " [ 0  0  3  0  0]\n",
            " [ 0  0  0  4  0]\n",
            " [ 0  0  0  0 18]]\n",
            "Decision Tree accuracy is: 80.00%\n"
          ]
        }
      ]
    },
    {
      "cell_type": "markdown",
      "metadata": {
        "id": "RddcpXutnmsq"
      },
      "source": [
        "## Random Forest"
      ]
    },
    {
      "cell_type": "code",
      "metadata": {
        "id": "N1m2oLhRnzm8",
        "execution": {
          "iopub.status.busy": "2021-10-05T10:48:44.345584Z",
          "iopub.execute_input": "2021-10-05T10:48:44.345854Z",
          "iopub.status.idle": "2021-10-05T10:48:44.523934Z",
          "shell.execute_reply.started": "2021-10-05T10:48:44.345827Z",
          "shell.execute_reply": "2021-10-05T10:48:44.523005Z"
        },
        "trusted": true,
        "colab": {
          "base_uri": "https://localhost:8080/"
        },
        "outputId": "a09b95e7-2626-4ea2-ab1f-26c0c8ee7885"
      },
      "source": [
        "from sklearn.ensemble import RandomForestClassifier\n",
        "\n",
        "RFclassifier = RandomForestClassifier(max_leaf_nodes=30)\n",
        "RFclassifier.fit(X_train, y_train)\n",
        "\n",
        "y_pred = RFclassifier.predict(X_test)\n",
        "\n",
        "print(classification_report(y_test, y_pred))\n",
        "print(confusion_matrix(y_test, y_pred))\n",
        "\n",
        "from sklearn.metrics import accuracy_score\n",
        "RFAcc = accuracy_score(y_pred,y_test)\n",
        "print('Random Forest accuracy is: {:.2f}%'.format(RFAcc*100))"
      ],
      "execution_count": 335,
      "outputs": [
        {
          "output_type": "stream",
          "name": "stdout",
          "text": [
            "              precision    recall  f1-score   support\n",
            "\n",
            "       DrugY       1.00      0.70      0.82        30\n",
            "       drugA       0.71      1.00      0.83         5\n",
            "       drugB       0.75      1.00      0.86         3\n",
            "       drugC       0.67      1.00      0.80         4\n",
            "       drugX       0.82      1.00      0.90        18\n",
            "\n",
            "    accuracy                           0.85        60\n",
            "   macro avg       0.79      0.94      0.84        60\n",
            "weighted avg       0.89      0.85      0.85        60\n",
            "\n",
            "[[21  2  1  2  4]\n",
            " [ 0  5  0  0  0]\n",
            " [ 0  0  3  0  0]\n",
            " [ 0  0  0  4  0]\n",
            " [ 0  0  0  0 18]]\n",
            "Random Forest accuracy is: 85.00%\n"
          ]
        }
      ]
    },
    {
      "cell_type": "markdown",
      "metadata": {
        "id": "_xm7OvKS07Zl"
      },
      "source": [
        "# Model Comparison"
      ]
    },
    {
      "cell_type": "code",
      "metadata": {
        "id": "Y3KGgy0o06O8",
        "execution": {
          "iopub.status.busy": "2021-10-05T10:48:49.325164Z",
          "iopub.execute_input": "2021-10-05T10:48:49.325436Z",
          "iopub.status.idle": "2021-10-05T10:48:49.339226Z",
          "shell.execute_reply.started": "2021-10-05T10:48:49.32541Z",
          "shell.execute_reply": "2021-10-05T10:48:49.338347Z"
        },
        "trusted": true,
        "colab": {
          "base_uri": "https://localhost:8080/",
          "height": 110
        },
        "outputId": "5409d9fe-6626-470f-c775-b3b5ded01d5a"
      },
      "source": [
        "compare = pd.DataFrame({'Model': ['Decision Tree','Random Forest'], \n",
        "                        'Accuracy': [DTAcc*100,RFAcc*100]})\n",
        "compare.sort_values(by='Accuracy', ascending=False)"
      ],
      "execution_count": 336,
      "outputs": [
        {
          "output_type": "execute_result",
          "data": {
            "text/html": [
              "<div>\n",
              "<style scoped>\n",
              "    .dataframe tbody tr th:only-of-type {\n",
              "        vertical-align: middle;\n",
              "    }\n",
              "\n",
              "    .dataframe tbody tr th {\n",
              "        vertical-align: top;\n",
              "    }\n",
              "\n",
              "    .dataframe thead th {\n",
              "        text-align: right;\n",
              "    }\n",
              "</style>\n",
              "<table border=\"1\" class=\"dataframe\">\n",
              "  <thead>\n",
              "    <tr style=\"text-align: right;\">\n",
              "      <th></th>\n",
              "      <th>Model</th>\n",
              "      <th>Accuracy</th>\n",
              "    </tr>\n",
              "  </thead>\n",
              "  <tbody>\n",
              "    <tr>\n",
              "      <th>1</th>\n",
              "      <td>Random Forest</td>\n",
              "      <td>85.0</td>\n",
              "    </tr>\n",
              "    <tr>\n",
              "      <th>0</th>\n",
              "      <td>Decision Tree</td>\n",
              "      <td>80.0</td>\n",
              "    </tr>\n",
              "  </tbody>\n",
              "</table>\n",
              "</div>"
            ],
            "text/plain": [
              "           Model  Accuracy\n",
              "1  Random Forest      85.0\n",
              "0  Decision Tree      80.0"
            ]
          },
          "metadata": {},
          "execution_count": 336
        }
      ]
    }
  ]
}