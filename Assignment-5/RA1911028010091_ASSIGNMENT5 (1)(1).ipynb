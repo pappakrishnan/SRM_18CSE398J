{
 "cells": [
  {
   "cell_type": "markdown",
   "metadata": {},
   "source": [
    "RA1911028010091\n",
    "\n",
    "SIDHARTH MANOJ\n",
    "\n",
    "COMPARISON BETWEEN DESCISION TREE AND RANDOM FOREST\n"
   ]
  },
  {
   "cell_type": "code",
   "execution_count": null,
   "metadata": {},
   "outputs": [],
   "source": [
    "\n",
    "import pandas as pd\n",
    "import numpy as np\n",
    "import matplotlib.pyplot as plt\n",
    "from sklearn.metrics import f1_score\n",
    "from sklearn.model_selection import train_test_split\n",
    "\n",
    "# Importing dataset\n",
    "df=pd.read_csv(r'C:\\Users\\sm196\\Downloads\\dta.csv')\n",
    "df.head()"
   ]
  },
  {
   "cell_type": "code",
   "execution_count": 17,
   "metadata": {},
   "outputs": [],
   "source": [
    "# Data Preprocessing and null values imputation\n",
    "# Label Encoding\n",
    "df['Gender']=df['Gender'].map({'Male':1,'Female':0})\n",
    "df['Married']=df['Married'].map({'Yes':1,'No':0})\n",
    "df['Education']=df['Education'].map({'Graduate':1,'Not Graduate':0})\n",
    "df['Dependents'].replace('3+',3,inplace=True)\n",
    "df['Self_Employed']=df['Self_Employed'].map({'Yes':1,'No':0})\n",
    "df['Property_Area']=df['Property_Area'].map({'Semiurban':1,'Urban':2,'Rural':3})\n",
    "df['Loan_Status']=df['Loan_Status'].map({'Y':1,'N':0})\n",
    "\n",
    "#Null Value Imputation\n",
    "rev_null=['Gender','Married','Dependents','Self_Employed','Credit_History','LoanAmount','Loan_Amount_Term']\n",
    "df[rev_null]=df[rev_null].replace({np.nan:df['Gender'].mode(),\n",
    "                                   np.nan:df['Married'].mode(),\n",
    "                                   np.nan:df['Dependents'].mode(),\n",
    "                                   np.nan:df['Self_Employed'].mode(),\n",
    "                                   np.nan:df['Credit_History'].mode(),\n",
    "                                   np.nan:df['LoanAmount'].mean(),\n",
    "                                   np.nan:df['Loan_Amount_Term'].mean()})"
   ]
  },
  {
   "cell_type": "code",
   "execution_count": 18,
   "metadata": {},
   "outputs": [],
   "source": [
    "X=df.drop(columns=['Loan_ID','Loan_Status']).values\n",
    "Y=df['Loan_Status'].values\n",
    "X_train, X_test, Y_train, Y_test = train_test_split(X, Y, test_size = 0.2, random_state = 42)"
   ]
  },
  {
   "cell_type": "code",
   "execution_count": 19,
   "metadata": {},
   "outputs": [
    {
     "name": "stdout",
     "output_type": "stream",
     "text": [
      "Shape of X_train=> (491, 11)\n",
      "Shape of X_test=> (123, 11)\n",
      "Shape of Y_train=> (491,)\n",
      "Shape of Y_test=> (123,)\n"
     ]
    }
   ],
   "source": [
    "print('Shape of X_train=>',X_train.shape)\n",
    "print('Shape of X_test=>',X_test.shape)\n",
    "print('Shape of Y_train=>',Y_train.shape)\n",
    "print('Shape of Y_test=>',Y_test.shape)"
   ]
  },
  {
   "cell_type": "code",
   "execution_count": 20,
   "metadata": {},
   "outputs": [],
   "source": [
    "# Building Decision Tree\n",
    "from sklearn.tree import DecisionTreeClassifier\n",
    "dt = DecisionTreeClassifier(criterion = 'entropy', random_state = 42)\n",
    "dt.fit(X_train, Y_train)\n",
    "dt_pred_train = dt.predict(X_train)"
   ]
  },
  {
   "cell_type": "code",
   "execution_count": 21,
   "metadata": {},
   "outputs": [
    {
     "name": "stdout",
     "output_type": "stream",
     "text": [
      "Training Set Evaluation F1-Score=> 1.0\n"
     ]
    }
   ],
   "source": [
    "# Evaluation on Training set\n",
    "dt_pred_train = dt.predict(X_train)\n",
    "print('Training Set Evaluation F1-Score=>',f1_score(Y_train,dt_pred_train))"
   ]
  },
  {
   "cell_type": "code",
   "execution_count": 22,
   "metadata": {},
   "outputs": [
    {
     "name": "stdout",
     "output_type": "stream",
     "text": [
      "Testing Set Evaluation F1-Score=> 0.7953216374269005\n"
     ]
    }
   ],
   "source": [
    "# Evaluating on Test set\n",
    "dt_pred_test = dt.predict(X_test)\n",
    "print('Testing Set Evaluation F1-Score=>',f1_score(Y_test,dt_pred_test))"
   ]
  },
  {
   "cell_type": "code",
   "execution_count": 23,
   "metadata": {},
   "outputs": [
    {
     "name": "stdout",
     "output_type": "stream",
     "text": [
      "Training Set Evaluation F1-Score=> 0.992679355783309\n"
     ]
    },
    {
     "name": "stderr",
     "output_type": "stream",
     "text": [
      "C:\\Users\\sm196\\Anaconda3\\envs\\python-cvcourse\\lib\\site-packages\\sklearn\\ensemble\\forest.py:245: FutureWarning: The default value of n_estimators will change from 10 in version 0.20 to 100 in 0.22.\n",
      "  \"10 in version 0.20 to 100 in 0.22.\", FutureWarning)\n"
     ]
    }
   ],
   "source": [
    "# Building  Random Forest Classifier\n",
    "from sklearn.ensemble import RandomForestClassifier\n",
    "rfc = RandomForestClassifier(criterion = 'entropy', random_state = 42)\n",
    "rfc.fit(X_train, Y_train)\n",
    "\n",
    "# Evaluating on Training set\n",
    "rfc_pred_train = rfc.predict(X_train)\n",
    "print('Training Set Evaluation F1-Score=>',f1_score(Y_train,rfc_pred_train))"
   ]
  },
  {
   "cell_type": "code",
   "execution_count": 24,
   "metadata": {},
   "outputs": [
    {
     "name": "stdout",
     "output_type": "stream",
     "text": [
      "Testing Set Evaluation F1-Score=> 0.7951807228915662\n"
     ]
    }
   ],
   "source": [
    "# Evaluating on Test set\n",
    "rfc_pred_test = rfc.predict(X_test)\n",
    "print('Testing Set Evaluation F1-Score=>',f1_score(Y_test,rfc_pred_test))"
   ]
  },
  {
   "cell_type": "code",
   "execution_count": 26,
   "metadata": {},
   "outputs": [
    {
     "data": {
      "image/png": "[encoded data removed]",
      "text/plain": [
       "<Figure size 1296x576 with 1 Axes>"
      ]
     },
     "metadata": {
      "needs_background": "light"
     },
     "output_type": "display_data"
    }
   ],
   "source": [
    "feature_importance=pd.DataFrame({\n",
    "    'rfc':rfc.feature_importances_,\n",
    "    'dt':dt.feature_importances_\n",
    "},index=df.drop(columns=['Loan_ID','Loan_Status']).columns)\n",
    "feature_importance.sort_values(by='rfc',ascending=True,inplace=True)\n",
    "\n",
    "index = np.arange(len(feature_importance))\n",
    "fig, ax = plt.subplots(figsize=(18,8))\n",
    "rfc_feature=ax.barh(index,feature_importance['rfc'],0.4,color='yellow',label='Random Forest')\n",
    "dt_feature=ax.barh(index+0.4,feature_importance['dt'],0.4,color='red',label='Decision Tree')\n",
    "ax.set(yticks=index+0.4,yticklabels=feature_importance.index)\n",
    "\n",
    "ax.legend()\n",
    "plt.show()"
   ]
  },
  {
   "cell_type": "markdown",
   "metadata": {},
   "source": [
    "CONCLUSION:-\n",
    "The decision tree model gives high importance to a particular set of features. But the random forest chooses features randomly during the training process. Therefore, it does not depend highly on any specific set of features. This is a special characteristic of random forest over bagging trees.Therefore, the random forest can generalize over the data in a better way. This randomized feature selection makes random forest much more accurate than a decision tree.\n",
    "\n"
   ]
  },
  {
   "cell_type": "code",
   "execution_count": null,
   "metadata": {},
   "outputs": [],
   "source": []
  }
 ],
 "metadata": {
  "kernelspec": {
   "display_name": "Python 3",
   "language": "python",
   "name": "python3"
  },
  "language_info": {
   "codemirror_mode": {
    "name": "ipython",
    "version": 3
   },
   "file_extension": ".py",
   "mimetype": "text/x-python",
   "name": "python",
   "nbconvert_exporter": "python",
   "pygments_lexer": "ipython3",
   "version": "3.6.6"
  }
 },
 "nbformat": 4,
 "nbformat_minor": 2
}
