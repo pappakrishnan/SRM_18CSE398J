{
 "cells": [
  {
   "cell_type": "markdown",
   "metadata": {},
   "source": [
    "Importing libraries"
   ]
  },
  {
   "cell_type": "code",
   "execution_count": 17,
   "metadata": {},
   "outputs": [],
   "source": [
    "import numpy as np \n",
    "import pandas as pd\n",
    "import matplotlib.pyplot as plt \n",
    "import seaborn as sns"
   ]
  },
  {
   "cell_type": "markdown",
   "metadata": {},
   "source": [
    "Importing the dataset"
   ]
  },
  {
   "cell_type": "code",
   "execution_count": 3,
   "metadata": {},
   "outputs": [],
   "source": [
    "df=pd.read_csv('ETH-USD.csv')"
   ]
  },
  {
   "cell_type": "markdown",
   "metadata": {},
   "source": [
    "Looking at the dataset using built in pandas functions"
   ]
  },
  {
   "cell_type": "code",
   "execution_count": 20,
   "metadata": {},
   "outputs": [
    {
     "data": {
      "text/plain": [
       "Index(['Date', 'Open', 'High', 'Low', 'Close', 'Adj Close', 'Volume'], dtype='object')"
      ]
     },
     "execution_count": 20,
     "metadata": {},
     "output_type": "execute_result"
    }
   ],
   "source": [
    "df.columns"
   ]
  },
  {
   "cell_type": "code",
   "execution_count": 5,
   "metadata": {},
   "outputs": [
    {
     "data": {
      "text/html": [
       "<div>\n",
       "<style scoped>\n",
       "    .dataframe tbody tr th:only-of-type {\n",
       "        vertical-align: middle;\n",
       "    }\n",
       "\n",
       "    .dataframe tbody tr th {\n",
       "        vertical-align: top;\n",
       "    }\n",
       "\n",
       "    .dataframe thead th {\n",
       "        text-align: right;\n",
       "    }\n",
       "</style>\n",
       "<table border=\"1\" class=\"dataframe\">\n",
       "  <thead>\n",
       "    <tr style=\"text-align: right;\">\n",
       "      <th></th>\n",
       "      <th>Date</th>\n",
       "      <th>Open</th>\n",
       "      <th>High</th>\n",
       "      <th>Low</th>\n",
       "      <th>Close</th>\n",
       "      <th>Adj Close</th>\n",
       "      <th>Volume</th>\n",
       "    </tr>\n",
       "  </thead>\n",
       "  <tbody>\n",
       "    <tr>\n",
       "      <th>0</th>\n",
       "      <td>2015-08-07</td>\n",
       "      <td>2.831620</td>\n",
       "      <td>3.536610</td>\n",
       "      <td>2.521120</td>\n",
       "      <td>2.772120</td>\n",
       "      <td>2.772120</td>\n",
       "      <td>164329.0</td>\n",
       "    </tr>\n",
       "    <tr>\n",
       "      <th>1</th>\n",
       "      <td>2015-08-08</td>\n",
       "      <td>2.793760</td>\n",
       "      <td>2.798810</td>\n",
       "      <td>0.714725</td>\n",
       "      <td>0.753325</td>\n",
       "      <td>0.753325</td>\n",
       "      <td>674188.0</td>\n",
       "    </tr>\n",
       "    <tr>\n",
       "      <th>2</th>\n",
       "      <td>2015-08-09</td>\n",
       "      <td>0.706136</td>\n",
       "      <td>0.879810</td>\n",
       "      <td>0.629191</td>\n",
       "      <td>0.701897</td>\n",
       "      <td>0.701897</td>\n",
       "      <td>532170.0</td>\n",
       "    </tr>\n",
       "    <tr>\n",
       "      <th>3</th>\n",
       "      <td>2015-08-10</td>\n",
       "      <td>0.713989</td>\n",
       "      <td>0.729854</td>\n",
       "      <td>0.636546</td>\n",
       "      <td>0.708448</td>\n",
       "      <td>0.708448</td>\n",
       "      <td>405283.0</td>\n",
       "    </tr>\n",
       "    <tr>\n",
       "      <th>4</th>\n",
       "      <td>2015-08-11</td>\n",
       "      <td>0.708087</td>\n",
       "      <td>1.131410</td>\n",
       "      <td>0.663235</td>\n",
       "      <td>1.067860</td>\n",
       "      <td>1.067860</td>\n",
       "      <td>1463100.0</td>\n",
       "    </tr>\n",
       "    <tr>\n",
       "      <th>5</th>\n",
       "      <td>2015-08-12</td>\n",
       "      <td>1.058750</td>\n",
       "      <td>1.289940</td>\n",
       "      <td>0.883608</td>\n",
       "      <td>1.217440</td>\n",
       "      <td>1.217440</td>\n",
       "      <td>2150620.0</td>\n",
       "    </tr>\n",
       "    <tr>\n",
       "      <th>6</th>\n",
       "      <td>2015-08-13</td>\n",
       "      <td>1.222240</td>\n",
       "      <td>1.965070</td>\n",
       "      <td>1.171990</td>\n",
       "      <td>1.827670</td>\n",
       "      <td>1.827670</td>\n",
       "      <td>4068680.0</td>\n",
       "    </tr>\n",
       "    <tr>\n",
       "      <th>7</th>\n",
       "      <td>2015-08-14</td>\n",
       "      <td>1.810920</td>\n",
       "      <td>2.261880</td>\n",
       "      <td>1.754750</td>\n",
       "      <td>1.827870</td>\n",
       "      <td>1.827870</td>\n",
       "      <td>4637030.0</td>\n",
       "    </tr>\n",
       "    <tr>\n",
       "      <th>8</th>\n",
       "      <td>2015-08-15</td>\n",
       "      <td>1.802890</td>\n",
       "      <td>1.877240</td>\n",
       "      <td>1.570980</td>\n",
       "      <td>1.688900</td>\n",
       "      <td>1.688900</td>\n",
       "      <td>2554360.0</td>\n",
       "    </tr>\n",
       "    <tr>\n",
       "      <th>9</th>\n",
       "      <td>2015-08-16</td>\n",
       "      <td>1.684350</td>\n",
       "      <td>1.695240</td>\n",
       "      <td>1.089810</td>\n",
       "      <td>1.566030</td>\n",
       "      <td>1.566030</td>\n",
       "      <td>3550790.0</td>\n",
       "    </tr>\n",
       "  </tbody>\n",
       "</table>\n",
       "</div>"
      ],
      "text/plain": [
       "         Date      Open      High       Low     Close  Adj Close     Volume\n",
       "0  2015-08-07  2.831620  3.536610  2.521120  2.772120   2.772120   164329.0\n",
       "1  2015-08-08  2.793760  2.798810  0.714725  0.753325   0.753325   674188.0\n",
       "2  2015-08-09  0.706136  0.879810  0.629191  0.701897   0.701897   532170.0\n",
       "3  2015-08-10  0.713989  0.729854  0.636546  0.708448   0.708448   405283.0\n",
       "4  2015-08-11  0.708087  1.131410  0.663235  1.067860   1.067860  1463100.0\n",
       "5  2015-08-12  1.058750  1.289940  0.883608  1.217440   1.217440  2150620.0\n",
       "6  2015-08-13  1.222240  1.965070  1.171990  1.827670   1.827670  4068680.0\n",
       "7  2015-08-14  1.810920  2.261880  1.754750  1.827870   1.827870  4637030.0\n",
       "8  2015-08-15  1.802890  1.877240  1.570980  1.688900   1.688900  2554360.0\n",
       "9  2015-08-16  1.684350  1.695240  1.089810  1.566030   1.566030  3550790.0"
      ]
     },
     "execution_count": 5,
     "metadata": {},
     "output_type": "execute_result"
    }
   ],
   "source": [
    "df.head(10)"
   ]
  },
  {
   "cell_type": "code",
   "execution_count": 50,
   "metadata": {},
   "outputs": [
    {
     "name": "stdout",
     "output_type": "stream",
     "text": [
      "<class 'pandas.core.frame.DataFrame'>\n",
      "RangeIndex: 2214 entries, 0 to 2213\n",
      "Data columns (total 7 columns):\n",
      " #   Column     Non-Null Count  Dtype  \n",
      "---  ------     --------------  -----  \n",
      " 0   Date       2214 non-null   object \n",
      " 1   Open       2210 non-null   float64\n",
      " 2   High       2210 non-null   float64\n",
      " 3   Low        2210 non-null   float64\n",
      " 4   Close      2210 non-null   float64\n",
      " 5   Adj Close  2210 non-null   float64\n",
      " 6   Volume     2210 non-null   float64\n",
      "dtypes: float64(6), object(1)\n",
      "memory usage: 121.2+ KB\n"
     ]
    }
   ],
   "source": [
    "df.info()"
   ]
  },
  {
   "cell_type": "code",
   "execution_count": 8,
   "metadata": {},
   "outputs": [
    {
     "data": {
      "text/plain": [
       "<bound method NDFrame.describe of             Date         Open         High          Low        Close  \\\n",
       "0     2015-08-07     2.831620     3.536610     2.521120     2.772120   \n",
       "1     2015-08-08     2.793760     2.798810     0.714725     0.753325   \n",
       "2     2015-08-09     0.706136     0.879810     0.629191     0.701897   \n",
       "3     2015-08-10     0.713989     0.729854     0.636546     0.708448   \n",
       "4     2015-08-11     0.708087     1.131410     0.663235     1.067860   \n",
       "...          ...          ...          ...          ...          ...   \n",
       "2209  2021-08-24  3324.855469  3358.688232  3154.121338  3172.456299   \n",
       "2210  2021-08-25  3174.269775  3248.727295  3086.114990  3224.915283   \n",
       "2211  2021-08-26  3228.747314  3249.655273  3060.228760  3100.325439   \n",
       "2212  2021-08-27  3096.406006  3281.840576  3064.485107  3270.600830   \n",
       "2213  2021-08-28  3275.104492  3284.845947  3217.403564  3244.403320   \n",
       "\n",
       "        Adj Close        Volume  \n",
       "0        2.772120  1.643290e+05  \n",
       "1        0.753325  6.741880e+05  \n",
       "2        0.701897  5.321700e+05  \n",
       "3        0.708448  4.052830e+05  \n",
       "4        1.067860  1.463100e+06  \n",
       "...           ...           ...  \n",
       "2209  3172.456299  2.013103e+10  \n",
       "2210  3224.915283  1.890273e+10  \n",
       "2211  3100.325439  1.740567e+10  \n",
       "2212  3270.600830  1.848960e+10  \n",
       "2213  3244.403320  1.370963e+10  \n",
       "\n",
       "[2214 rows x 7 columns]>"
      ]
     },
     "execution_count": 8,
     "metadata": {},
     "output_type": "execute_result"
    }
   ],
   "source": [
    "df.describe"
   ]
  },
  {
   "cell_type": "code",
   "execution_count": 10,
   "metadata": {},
   "outputs": [
    {
     "data": {
      "text/plain": [
       "Index          128\n",
       "Date         17712\n",
       "Open         17712\n",
       "High         17712\n",
       "Low          17712\n",
       "Close        17712\n",
       "Adj Close    17712\n",
       "Volume       17712\n",
       "dtype: int64"
      ]
     },
     "execution_count": 10,
     "metadata": {},
     "output_type": "execute_result"
    }
   ],
   "source": [
    "df.memory_usage()"
   ]
  },
  {
   "cell_type": "code",
   "execution_count": 12,
   "metadata": {},
   "outputs": [
    {
     "name": "stderr",
     "output_type": "stream",
     "text": [
      "<ipython-input-12-9e0b1e29546f>:1: FutureWarning: Dropping of nuisance columns in DataFrame reductions (with 'numeric_only=None') is deprecated; in a future version this will raise TypeError.  Select only valid columns before calling the reduction.\n",
      "  df.skew()\n"
     ]
    },
    {
     "data": {
      "text/plain": [
       "Open         2.622861\n",
       "High         2.629797\n",
       "Low          2.619037\n",
       "Close        2.618080\n",
       "Adj Close    2.618080\n",
       "Volume       2.305083\n",
       "dtype: float64"
      ]
     },
     "execution_count": 12,
     "metadata": {},
     "output_type": "execute_result"
    }
   ],
   "source": [
    "df.skew()"
   ]
  },
  {
   "cell_type": "code",
   "execution_count": 13,
   "metadata": {},
   "outputs": [
    {
     "name": "stderr",
     "output_type": "stream",
     "text": [
      "<ipython-input-13-c7edf97eb14c>:1: FutureWarning: Dropping of nuisance columns in DataFrame reductions (with 'numeric_only=None') is deprecated; in a future version this will raise TypeError.  Select only valid columns before calling the reduction.\n",
      "  df.kurtosis()\n"
     ]
    },
    {
     "data": {
      "text/plain": [
       "Open         6.819258\n",
       "High         6.879165\n",
       "Low          6.780694\n",
       "Close        6.772179\n",
       "Adj Close    6.772179\n",
       "Volume       6.633686\n",
       "dtype: float64"
      ]
     },
     "execution_count": 13,
     "metadata": {},
     "output_type": "execute_result"
    }
   ],
   "source": [
    "df.kurtosis()"
   ]
  },
  {
   "cell_type": "code",
   "execution_count": 15,
   "metadata": {},
   "outputs": [
    {
     "data": {
      "text/html": [
       "<div>\n",
       "<style scoped>\n",
       "    .dataframe tbody tr th:only-of-type {\n",
       "        vertical-align: middle;\n",
       "    }\n",
       "\n",
       "    .dataframe tbody tr th {\n",
       "        vertical-align: top;\n",
       "    }\n",
       "\n",
       "    .dataframe thead th {\n",
       "        text-align: right;\n",
       "    }\n",
       "</style>\n",
       "<table border=\"1\" class=\"dataframe\">\n",
       "  <thead>\n",
       "    <tr style=\"text-align: right;\">\n",
       "      <th></th>\n",
       "      <th>Open</th>\n",
       "      <th>High</th>\n",
       "      <th>Low</th>\n",
       "      <th>Close</th>\n",
       "      <th>Adj Close</th>\n",
       "      <th>Volume</th>\n",
       "    </tr>\n",
       "  </thead>\n",
       "  <tbody>\n",
       "    <tr>\n",
       "      <th>Open</th>\n",
       "      <td>1.000000</td>\n",
       "      <td>0.999012</td>\n",
       "      <td>0.997661</td>\n",
       "      <td>0.997285</td>\n",
       "      <td>0.997285</td>\n",
       "      <td>0.750651</td>\n",
       "    </tr>\n",
       "    <tr>\n",
       "      <th>High</th>\n",
       "      <td>0.999012</td>\n",
       "      <td>1.000000</td>\n",
       "      <td>0.997553</td>\n",
       "      <td>0.998712</td>\n",
       "      <td>0.998712</td>\n",
       "      <td>0.755594</td>\n",
       "    </tr>\n",
       "    <tr>\n",
       "      <th>Low</th>\n",
       "      <td>0.997661</td>\n",
       "      <td>0.997553</td>\n",
       "      <td>1.000000</td>\n",
       "      <td>0.998721</td>\n",
       "      <td>0.998721</td>\n",
       "      <td>0.738976</td>\n",
       "    </tr>\n",
       "    <tr>\n",
       "      <th>Close</th>\n",
       "      <td>0.997285</td>\n",
       "      <td>0.998712</td>\n",
       "      <td>0.998721</td>\n",
       "      <td>1.000000</td>\n",
       "      <td>1.000000</td>\n",
       "      <td>0.748436</td>\n",
       "    </tr>\n",
       "    <tr>\n",
       "      <th>Adj Close</th>\n",
       "      <td>0.997285</td>\n",
       "      <td>0.998712</td>\n",
       "      <td>0.998721</td>\n",
       "      <td>1.000000</td>\n",
       "      <td>1.000000</td>\n",
       "      <td>0.748436</td>\n",
       "    </tr>\n",
       "    <tr>\n",
       "      <th>Volume</th>\n",
       "      <td>0.750651</td>\n",
       "      <td>0.755594</td>\n",
       "      <td>0.738976</td>\n",
       "      <td>0.748436</td>\n",
       "      <td>0.748436</td>\n",
       "      <td>1.000000</td>\n",
       "    </tr>\n",
       "  </tbody>\n",
       "</table>\n",
       "</div>"
      ],
      "text/plain": [
       "               Open      High       Low     Close  Adj Close    Volume\n",
       "Open       1.000000  0.999012  0.997661  0.997285   0.997285  0.750651\n",
       "High       0.999012  1.000000  0.997553  0.998712   0.998712  0.755594\n",
       "Low        0.997661  0.997553  1.000000  0.998721   0.998721  0.738976\n",
       "Close      0.997285  0.998712  0.998721  1.000000   1.000000  0.748436\n",
       "Adj Close  0.997285  0.998712  0.998721  1.000000   1.000000  0.748436\n",
       "Volume     0.750651  0.755594  0.738976  0.748436   0.748436  1.000000"
      ]
     },
     "execution_count": 15,
     "metadata": {},
     "output_type": "execute_result"
    }
   ],
   "source": [
    "df.corr()"
   ]
  },
  {
   "cell_type": "markdown",
   "metadata": {},
   "source": [
    "Visualizing the Dataset "
   ]
  },
  {
   "cell_type": "code",
   "execution_count": 19,
   "metadata": {},
   "outputs": [
    {
     "data": {
      "text/plain": [
       "<AxesSubplot:>"
      ]
     },
     "execution_count": 19,
     "metadata": {},
     "output_type": "execute_result"
    },
    {
     "data": {
      "image/png": "[encoded data removed]",
      "text/plain": [
       "<Figure size 432x288 with 2 Axes>"
      ]
     },
     "metadata": {
      "needs_background": "light"
     },
     "output_type": "display_data"
    }
   ],
   "source": [
    "sns.heatmap(df.corr())"
   ]
  },
  {
   "cell_type": "code",
   "execution_count": 34,
   "metadata": {},
   "outputs": [
    {
     "data": {
      "image/png": "[encoded data removed]",
      "text/plain": [
       "<Figure size 432x288 with 1 Axes>"
      ]
     },
     "metadata": {
      "needs_background": "light"
     },
     "output_type": "display_data"
    }
   ],
   "source": [
    "for i in range(0,5):\n",
    "    plt.plot(df.iloc[:,i+1])"
   ]
  },
  {
   "cell_type": "code",
   "execution_count": 46,
   "metadata": {},
   "outputs": [
    {
     "data": {
      "text/plain": [
       "<AxesSubplot:>"
      ]
     },
     "execution_count": 46,
     "metadata": {},
     "output_type": "execute_result"
    },
    {
     "data": {
      "image/png": "[encoded data removed]",
      "text/plain": [
       "<Figure size 864x360 with 1 Axes>"
      ]
     },
     "metadata": {
      "needs_background": "light"
     },
     "output_type": "display_data"
    }
   ],
   "source": [
    "df['Volume'].plot.box(figsize=(12,5))"
   ]
  },
  {
   "cell_type": "code",
   "execution_count": 48,
   "metadata": {},
   "outputs": [
    {
     "data": {
      "text/plain": [
       "<AxesSubplot:>"
      ]
     },
     "execution_count": 48,
     "metadata": {},
     "output_type": "execute_result"
    },
    {
     "data": {
      "image/png": "[encoded data removed]",
      "text/plain": [
       "<Figure size 576x360 with 1 Axes>"
      ]
     },
     "metadata": {
      "needs_background": "light"
     },
     "output_type": "display_data"
    }
   ],
   "source": [
    "df['Open'].hist(bins=30,figsize=(8,5))"
   ]
  }
 ],
 "metadata": {
  "kernelspec": {
   "display_name": "Python 3",
   "language": "python",
   "name": "python3"
  },
  "language_info": {
   "codemirror_mode": {
    "name": "ipython",
    "version": 3
   },
   "file_extension": ".py",
   "mimetype": "text/x-python",
   "name": "python",
   "nbconvert_exporter": "python",
   "pygments_lexer": "ipython3",
   "version": "3.9.6"
  }
 },
 "nbformat": 4,
 "nbformat_minor": 4
}
