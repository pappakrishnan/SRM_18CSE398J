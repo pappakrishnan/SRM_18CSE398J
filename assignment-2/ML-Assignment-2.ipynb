{
 "cells": [
  {
   "cell_type": "markdown",
   "id": "4dbb60a9",
   "metadata": {},
   "source": [
    "# Assignment-2 | Sahil Sareen RA1911003010464"
   ]
  },
  {
   "cell_type": "markdown",
   "id": "84ac270a",
   "metadata": {},
   "source": [
    "### 18CSE398J Machine Learning - Core Concepts with Applications"
   ]
  },
  {
   "cell_type": "markdown",
   "id": "3b7e9887",
   "metadata": {},
   "source": [
    "#### Performing Logistic Regression on Equity Apartments Dataset from Assignment-1"
   ]
  },
  {
   "cell_type": "markdown",
   "id": "91c7fdc5",
   "metadata": {},
   "source": [
    "***"
   ]
  },
  {
   "cell_type": "markdown",
   "id": "ea129920",
   "metadata": {},
   "source": [
    "### Data Collection"
   ]
  },
  {
   "cell_type": "code",
   "execution_count": 1,
   "id": "06c2a6ab",
   "metadata": {
    "scrolled": true
   },
   "outputs": [],
   "source": [
    "import pandas as pd\n",
    "import matplotlib.pyplot as plt\n",
    "import numpy as np\n",
    "from matplotlib.axes._axes import _log as matplotlib_axes_logger\n",
    "matplotlib_axes_logger.setLevel('ERROR')\n",
    "import warnings\n",
    "warnings.simplefilter(action='ignore', category=FutureWarning)\n",
    "\n",
    "file = 'Equity_Apartments_Data.csv'\n",
    "df = pd.read_csv(file, nrows=1000)"
   ]
  },
  {
   "cell_type": "markdown",
   "id": "63597e4f",
   "metadata": {},
   "source": [
    "### Data cleaning"
   ]
  },
  {
   "cell_type": "code",
   "execution_count": 2,
   "id": "45d189ab",
   "metadata": {},
   "outputs": [],
   "source": [
    "to_drop = ['Northern_Exposure',\n",
    "           'Southern_Exposure',\n",
    "           'Eastern_Exposure',\n",
    "           'Western_Exposure',\n",
    "           'City_Skyline',\n",
    "           'Kitchen_Island',\n",
    "           'Stainless_Appliances']\n",
    "\n",
    "df.drop(to_drop, inplace = True, axis = 1)"
   ]
  },
  {
   "cell_type": "markdown",
   "id": "94471024",
   "metadata": {},
   "source": [
    "#### Columns that were not of much use are dropped."
   ]
  },
  {
   "cell_type": "markdown",
   "id": "8cc705e5",
   "metadata": {},
   "source": [
    "## Data Exploration"
   ]
  },
  {
   "cell_type": "code",
   "execution_count": 3,
   "id": "39db4e31",
   "metadata": {
    "scrolled": true
   },
   "outputs": [
    {
     "data": {
      "text/plain": [
       "(493, 14)"
      ]
     },
     "execution_count": 3,
     "metadata": {},
     "output_type": "execute_result"
    }
   ],
   "source": [
    "Beds = df[df.Beds==1]\n",
    "Beds.shape"
   ]
  },
  {
   "cell_type": "code",
   "execution_count": 4,
   "id": "e18177bd",
   "metadata": {},
   "outputs": [
    {
     "data": {
      "text/plain": [
       "(186, 14)"
      ]
     },
     "execution_count": 4,
     "metadata": {},
     "output_type": "execute_result"
    }
   ],
   "source": [
    "NoBeds = df[df.Beds==0]\n",
    "NoBeds.shape"
   ]
  },
  {
   "cell_type": "code",
   "execution_count": 5,
   "id": "b858b804",
   "metadata": {
    "scrolled": true
   },
   "outputs": [
    {
     "data": {
      "text/html": [
       "<div>\n",
       "<style scoped>\n",
       "    .dataframe tbody tr th:only-of-type {\n",
       "        vertical-align: middle;\n",
       "    }\n",
       "\n",
       "    .dataframe tbody tr th {\n",
       "        vertical-align: top;\n",
       "    }\n",
       "\n",
       "    .dataframe thead th {\n",
       "        text-align: right;\n",
       "    }\n",
       "</style>\n",
       "<table border=\"1\" class=\"dataframe\">\n",
       "  <thead>\n",
       "    <tr style=\"text-align: right;\">\n",
       "      <th></th>\n",
       "      <th>Price</th>\n",
       "      <th>Baths</th>\n",
       "      <th>sq.ft</th>\n",
       "      <th>Floor</th>\n",
       "      <th>Units</th>\n",
       "      <th>Balcony</th>\n",
       "      <th>Walk_In_Closet</th>\n",
       "      <th>Fireplace</th>\n",
       "      <th>Renovated</th>\n",
       "      <th>Office_Space</th>\n",
       "      <th>Days_Till_Available</th>\n",
       "      <th>Estimated_Vacancy</th>\n",
       "    </tr>\n",
       "    <tr>\n",
       "      <th>Beds</th>\n",
       "      <th></th>\n",
       "      <th></th>\n",
       "      <th></th>\n",
       "      <th></th>\n",
       "      <th></th>\n",
       "      <th></th>\n",
       "      <th></th>\n",
       "      <th></th>\n",
       "      <th></th>\n",
       "      <th></th>\n",
       "      <th></th>\n",
       "      <th></th>\n",
       "    </tr>\n",
       "  </thead>\n",
       "  <tbody>\n",
       "    <tr>\n",
       "      <th>0</th>\n",
       "      <td>2526.693548</td>\n",
       "      <td>1.000000</td>\n",
       "      <td>525.709677</td>\n",
       "      <td>13.284946</td>\n",
       "      <td>343.145161</td>\n",
       "      <td>0.107527</td>\n",
       "      <td>0.037634</td>\n",
       "      <td>0.010753</td>\n",
       "      <td>0.096774</td>\n",
       "      <td>0.000000</td>\n",
       "      <td>26.462366</td>\n",
       "      <td>0.051394</td>\n",
       "    </tr>\n",
       "    <tr>\n",
       "      <th>1</th>\n",
       "      <td>3292.010142</td>\n",
       "      <td>1.011156</td>\n",
       "      <td>737.113590</td>\n",
       "      <td>10.561866</td>\n",
       "      <td>311.892495</td>\n",
       "      <td>0.125761</td>\n",
       "      <td>0.141988</td>\n",
       "      <td>0.012170</td>\n",
       "      <td>0.144016</td>\n",
       "      <td>0.008114</td>\n",
       "      <td>33.687627</td>\n",
       "      <td>0.107733</td>\n",
       "    </tr>\n",
       "    <tr>\n",
       "      <th>2</th>\n",
       "      <td>4382.082474</td>\n",
       "      <td>1.943299</td>\n",
       "      <td>1112.079038</td>\n",
       "      <td>10.481100</td>\n",
       "      <td>306.529210</td>\n",
       "      <td>0.199313</td>\n",
       "      <td>0.305842</td>\n",
       "      <td>0.051546</td>\n",
       "      <td>0.137457</td>\n",
       "      <td>0.006873</td>\n",
       "      <td>41.446735</td>\n",
       "      <td>0.129058</td>\n",
       "    </tr>\n",
       "    <tr>\n",
       "      <th>3</th>\n",
       "      <td>4983.333333</td>\n",
       "      <td>2.083333</td>\n",
       "      <td>1390.566667</td>\n",
       "      <td>8.366667</td>\n",
       "      <td>341.300000</td>\n",
       "      <td>0.100000</td>\n",
       "      <td>0.200000</td>\n",
       "      <td>0.166667</td>\n",
       "      <td>0.233333</td>\n",
       "      <td>0.000000</td>\n",
       "      <td>33.800000</td>\n",
       "      <td>0.034297</td>\n",
       "    </tr>\n",
       "  </tbody>\n",
       "</table>\n",
       "</div>"
      ],
      "text/plain": [
       "            Price     Baths        sq.ft      Floor       Units   Balcony  \\\n",
       "Beds                                                                        \n",
       "0     2526.693548  1.000000   525.709677  13.284946  343.145161  0.107527   \n",
       "1     3292.010142  1.011156   737.113590  10.561866  311.892495  0.125761   \n",
       "2     4382.082474  1.943299  1112.079038  10.481100  306.529210  0.199313   \n",
       "3     4983.333333  2.083333  1390.566667   8.366667  341.300000  0.100000   \n",
       "\n",
       "      Walk_In_Closet  Fireplace  Renovated  Office_Space  Days_Till_Available  \\\n",
       "Beds                                                                            \n",
       "0           0.037634   0.010753   0.096774      0.000000            26.462366   \n",
       "1           0.141988   0.012170   0.144016      0.008114            33.687627   \n",
       "2           0.305842   0.051546   0.137457      0.006873            41.446735   \n",
       "3           0.200000   0.166667   0.233333      0.000000            33.800000   \n",
       "\n",
       "      Estimated_Vacancy  \n",
       "Beds                     \n",
       "0              0.051394  \n",
       "1              0.107733  \n",
       "2              0.129058  \n",
       "3              0.034297  "
      ]
     },
     "execution_count": 5,
     "metadata": {},
     "output_type": "execute_result"
    }
   ],
   "source": [
    "df.groupby('Beds').mean()"
   ]
  },
  {
   "cell_type": "code",
   "execution_count": 6,
   "id": "21024226",
   "metadata": {
    "scrolled": false
   },
   "outputs": [
    {
     "data": {
      "text/plain": [
       "<AxesSubplot:xlabel='Beds', ylabel='Floor'>"
      ]
     },
     "execution_count": 6,
     "metadata": {},
     "output_type": "execute_result"
    },
    {
     "data": {
      "image/png": "[encoded data removed]",
      "text/plain": [
       "<Figure size 1152x720 with 1 Axes>"
      ]
     },
     "metadata": {
      "needs_background": "light"
     },
     "output_type": "display_data"
    }
   ],
   "source": [
    "df.plot.scatter('Beds','Floor',color='red', figsize=(16, 10))"
   ]
  },
  {
   "cell_type": "code",
   "execution_count": 7,
   "id": "99085d78",
   "metadata": {
    "scrolled": false
   },
   "outputs": [
    {
     "data": {
      "text/plain": [
       "<matplotlib.collections.PathCollection at 0x293f2a7ebe0>"
      ]
     },
     "execution_count": 7,
     "metadata": {},
     "output_type": "execute_result"
    },
    {
     "data": {
      "image/png": "[encoded data removed]",
      "text/plain": [
       "<Figure size 432x288 with 1 Axes>"
      ]
     },
     "metadata": {
      "needs_background": "light"
     },
     "output_type": "display_data"
    }
   ],
   "source": [
    "plt.scatter(df.Beds,df.Balcony,marker='+',color='red')"
   ]
  },
  {
   "cell_type": "code",
   "execution_count": 8,
   "id": "cd4ad606",
   "metadata": {
    "scrolled": false
   },
   "outputs": [
    {
     "data": {
      "text/plain": [
       "<AxesSubplot:xlabel='Units', ylabel='Floor'>"
      ]
     },
     "execution_count": 8,
     "metadata": {},
     "output_type": "execute_result"
    },
    {
     "data": {
      "image/png": "[encoded data removed]",
      "text/plain": [
       "<Figure size 1152x720 with 1 Axes>"
      ]
     },
     "metadata": {
      "needs_background": "light"
     },
     "output_type": "display_data"
    }
   ],
   "source": [
    "df.plot.scatter('Units', 'Floor', figsize=(16, 10), color='purple')"
   ]
  },
  {
   "cell_type": "code",
   "execution_count": 9,
   "id": "1458571d",
   "metadata": {},
   "outputs": [
    {
     "data": {
      "text/plain": [
       "Text(0, 0.5, 'Frequency')"
      ]
     },
     "execution_count": 9,
     "metadata": {},
     "output_type": "execute_result"
    },
    {
     "data": {
      "image/png": "[encoded data removed]",
      "text/plain": [
       "<Figure size 432x288 with 1 Axes>"
      ]
     },
     "metadata": {
      "needs_background": "light"
     },
     "output_type": "display_data"
    }
   ],
   "source": [
    "df.Beds.hist()\n",
    "plt.title('Histogram of Bedrooms')\n",
    "plt.xlabel('Bedrooms')\n",
    "plt.ylabel('Frequency')"
   ]
  },
  {
   "cell_type": "markdown",
   "id": "0a7fc09f",
   "metadata": {},
   "source": [
    "#### It is observed that properties with a single bedroom are most common."
   ]
  },
  {
   "cell_type": "code",
   "execution_count": 10,
   "id": "dd84d188",
   "metadata": {
    "scrolled": true
   },
   "outputs": [
    {
     "data": {
      "text/plain": [
       "<AxesSubplot:xlabel='Beds'>"
      ]
     },
     "execution_count": 10,
     "metadata": {},
     "output_type": "execute_result"
    },
    {
     "data": {
      "image/png": "[encoded data removed]",
      "text/plain": [
       "<Figure size 432x288 with 1 Axes>"
      ]
     },
     "metadata": {
      "needs_background": "light"
     },
     "output_type": "display_data"
    }
   ],
   "source": [
    "pd.crosstab(df.Beds,df.Balcony).plot(kind='bar')"
   ]
  },
  {
   "cell_type": "markdown",
   "id": "e8641c64",
   "metadata": {},
   "source": [
    "#### It is observed that properties with a double bedroom have a higher chance of also having a balcony."
   ]
  },
  {
   "cell_type": "code",
   "execution_count": 11,
   "id": "88d81b40",
   "metadata": {},
   "outputs": [
    {
     "data": {
      "text/plain": [
       "<AxesSubplot:xlabel='Balcony'>"
      ]
     },
     "execution_count": 11,
     "metadata": {},
     "output_type": "execute_result"
    },
    {
     "data": {
      "image/png": "[encoded data removed]",
      "text/plain": [
       "<Figure size 432x288 with 1 Axes>"
      ]
     },
     "metadata": {
      "needs_background": "light"
     },
     "output_type": "display_data"
    }
   ],
   "source": [
    "pd.crosstab(df.Balcony,df.Baths).plot(kind='bar')"
   ]
  },
  {
   "cell_type": "code",
   "execution_count": 12,
   "id": "54b8e8cb",
   "metadata": {},
   "outputs": [
    {
     "data": {
      "text/plain": [
       "<AxesSubplot:xlabel='City'>"
      ]
     },
     "execution_count": 12,
     "metadata": {},
     "output_type": "execute_result"
    },
    {
     "data": {
      "image/png": "[encoded data removed]",
      "text/plain": [
       "<Figure size 432x288 with 1 Axes>"
      ]
     },
     "metadata": {
      "needs_background": "light"
     },
     "output_type": "display_data"
    }
   ],
   "source": [
    "pd.crosstab(df.City,df.Baths).plot(kind='bar')"
   ]
  },
  {
   "cell_type": "markdown",
   "id": "3539bf23",
   "metadata": {},
   "source": [
    "#### It is observed that in New York, most properties have alteast a single bathroom."
   ]
  },
  {
   "cell_type": "code",
   "execution_count": 13,
   "id": "b3105dd2",
   "metadata": {},
   "outputs": [],
   "source": [
    "df2 = df.rename(columns = {'sq.ft': 'sqft'}, inplace = False)"
   ]
  },
  {
   "cell_type": "code",
   "execution_count": 14,
   "id": "d932f38d",
   "metadata": {
    "scrolled": true
   },
   "outputs": [
    {
     "data": {
      "text/plain": [
       "<AxesSubplot:xlabel='Renovated'>"
      ]
     },
     "execution_count": 14,
     "metadata": {},
     "output_type": "execute_result"
    },
    {
     "data": {
      "image/png": "[encoded data removed]",
      "text/plain": [
       "<Figure size 432x288 with 1 Axes>"
      ]
     },
     "metadata": {
      "needs_background": "light"
     },
     "output_type": "display_data"
    }
   ],
   "source": [
    "pd.crosstab(df.Renovated,df.Beds).plot(kind='bar')"
   ]
  },
  {
   "cell_type": "code",
   "execution_count": 15,
   "id": "abd01873",
   "metadata": {
    "scrolled": false
   },
   "outputs": [
    {
     "data": {
      "text/plain": [
       "<AxesSubplot:xlabel='City'>"
      ]
     },
     "execution_count": 15,
     "metadata": {},
     "output_type": "execute_result"
    },
    {
     "data": {
      "image/png": "[encoded data removed]",
      "text/plain": [
       "<Figure size 432x288 with 1 Axes>"
      ]
     },
     "metadata": {
      "needs_background": "light"
     },
     "output_type": "display_data"
    }
   ],
   "source": [
    "pd.crosstab(df.City,df.Beds).plot(kind='bar')"
   ]
  },
  {
   "cell_type": "markdown",
   "id": "109c9c85",
   "metadata": {},
   "source": [
    "#### It is observed that in New York, properties with a single bedroom are most common."
   ]
  },
  {
   "cell_type": "code",
   "execution_count": 16,
   "id": "d5394939",
   "metadata": {
    "scrolled": false
   },
   "outputs": [
    {
     "data": {
      "text/plain": [
       "Text(0, 0.5, 'Proportion')"
      ]
     },
     "execution_count": 16,
     "metadata": {},
     "output_type": "execute_result"
    },
    {
     "data": {
      "image/png": "[encoded data removed]",
      "text/plain": [
       "<Figure size 432x288 with 1 Axes>"
      ]
     },
     "metadata": {
      "needs_background": "light"
     },
     "output_type": "display_data"
    }
   ],
   "source": [
    "table=pd.crosstab(df.City,df.Beds)\n",
    "table.div(table.sum(1).astype(float), axis=0).plot(kind='bar', stacked=True)\n",
    "plt.title('Stacked Bar Chart of City vs Beds')\n",
    "plt.xlabel('City')\n",
    "plt.ylabel('Proportion')"
   ]
  },
  {
   "cell_type": "markdown",
   "id": "c1a9fad9",
   "metadata": {},
   "source": [
    "## Data Selection"
   ]
  },
  {
   "cell_type": "code",
   "execution_count": 17,
   "id": "69be1e27",
   "metadata": {
    "scrolled": true
   },
   "outputs": [
    {
     "data": {
      "text/html": [
       "<div>\n",
       "<style scoped>\n",
       "    .dataframe tbody tr th:only-of-type {\n",
       "        vertical-align: middle;\n",
       "    }\n",
       "\n",
       "    .dataframe tbody tr th {\n",
       "        vertical-align: top;\n",
       "    }\n",
       "\n",
       "    .dataframe thead th {\n",
       "        text-align: right;\n",
       "    }\n",
       "</style>\n",
       "<table border=\"1\" class=\"dataframe\">\n",
       "  <thead>\n",
       "    <tr style=\"text-align: right;\">\n",
       "      <th></th>\n",
       "      <th>Baths</th>\n",
       "      <th>Floor</th>\n",
       "      <th>Beds</th>\n",
       "      <th>Office_Space</th>\n",
       "      <th>Balcony</th>\n",
       "      <th>City</th>\n",
       "      <th>Price</th>\n",
       "    </tr>\n",
       "  </thead>\n",
       "  <tbody>\n",
       "    <tr>\n",
       "      <th>0</th>\n",
       "      <td>1.0</td>\n",
       "      <td>5</td>\n",
       "      <td>0</td>\n",
       "      <td>0</td>\n",
       "      <td>0</td>\n",
       "      <td>Washington DC</td>\n",
       "      <td>2377</td>\n",
       "    </tr>\n",
       "    <tr>\n",
       "      <th>1</th>\n",
       "      <td>1.0</td>\n",
       "      <td>2</td>\n",
       "      <td>1</td>\n",
       "      <td>0</td>\n",
       "      <td>0</td>\n",
       "      <td>Washington DC</td>\n",
       "      <td>2816</td>\n",
       "    </tr>\n",
       "    <tr>\n",
       "      <th>2</th>\n",
       "      <td>2.0</td>\n",
       "      <td>6</td>\n",
       "      <td>2</td>\n",
       "      <td>0</td>\n",
       "      <td>0</td>\n",
       "      <td>Washington DC</td>\n",
       "      <td>3811</td>\n",
       "    </tr>\n",
       "    <tr>\n",
       "      <th>3</th>\n",
       "      <td>1.0</td>\n",
       "      <td>2</td>\n",
       "      <td>0</td>\n",
       "      <td>0</td>\n",
       "      <td>0</td>\n",
       "      <td>Washington DC</td>\n",
       "      <td>1549</td>\n",
       "    </tr>\n",
       "    <tr>\n",
       "      <th>4</th>\n",
       "      <td>1.0</td>\n",
       "      <td>3</td>\n",
       "      <td>1</td>\n",
       "      <td>0</td>\n",
       "      <td>0</td>\n",
       "      <td>Washington DC</td>\n",
       "      <td>1753</td>\n",
       "    </tr>\n",
       "  </tbody>\n",
       "</table>\n",
       "</div>"
      ],
      "text/plain": [
       "   Baths  Floor  Beds  Office_Space  Balcony           City  Price\n",
       "0    1.0      5     0             0        0  Washington DC   2377\n",
       "1    1.0      2     1             0        0  Washington DC   2816\n",
       "2    2.0      6     2             0        0  Washington DC   3811\n",
       "3    1.0      2     0             0        0  Washington DC   1549\n",
       "4    1.0      3     1             0        0  Washington DC   1753"
      ]
     },
     "execution_count": 17,
     "metadata": {},
     "output_type": "execute_result"
    }
   ],
   "source": [
    "subdf = df[['Baths','Floor','Beds','Office_Space','Balcony','City','Price']]\n",
    "subdf.head()"
   ]
  },
  {
   "cell_type": "code",
   "execution_count": 18,
   "id": "8b6142f7",
   "metadata": {},
   "outputs": [],
   "source": [
    "City_dummies = pd.get_dummies(subdf.City, prefix=\"City\")"
   ]
  },
  {
   "cell_type": "code",
   "execution_count": 19,
   "id": "1325666a",
   "metadata": {},
   "outputs": [],
   "source": [
    "df_with_dummies = pd.concat([subdf,City_dummies],axis='columns')"
   ]
  },
  {
   "cell_type": "code",
   "execution_count": 20,
   "id": "0fb7d4df",
   "metadata": {},
   "outputs": [
    {
     "data": {
      "text/html": [
       "<div>\n",
       "<style scoped>\n",
       "    .dataframe tbody tr th:only-of-type {\n",
       "        vertical-align: middle;\n",
       "    }\n",
       "\n",
       "    .dataframe tbody tr th {\n",
       "        vertical-align: top;\n",
       "    }\n",
       "\n",
       "    .dataframe thead th {\n",
       "        text-align: right;\n",
       "    }\n",
       "</style>\n",
       "<table border=\"1\" class=\"dataframe\">\n",
       "  <thead>\n",
       "    <tr style=\"text-align: right;\">\n",
       "      <th></th>\n",
       "      <th>Baths</th>\n",
       "      <th>Floor</th>\n",
       "      <th>Beds</th>\n",
       "      <th>Office_Space</th>\n",
       "      <th>Balcony</th>\n",
       "      <th>City</th>\n",
       "      <th>Price</th>\n",
       "      <th>City_Boston</th>\n",
       "      <th>City_Denver</th>\n",
       "      <th>City_Los Angeles</th>\n",
       "      <th>City_New York City</th>\n",
       "      <th>City_Seattle</th>\n",
       "      <th>City_Washington DC</th>\n",
       "    </tr>\n",
       "  </thead>\n",
       "  <tbody>\n",
       "    <tr>\n",
       "      <th>0</th>\n",
       "      <td>1.0</td>\n",
       "      <td>5</td>\n",
       "      <td>0</td>\n",
       "      <td>0</td>\n",
       "      <td>0</td>\n",
       "      <td>Washington DC</td>\n",
       "      <td>2377</td>\n",
       "      <td>0</td>\n",
       "      <td>0</td>\n",
       "      <td>0</td>\n",
       "      <td>0</td>\n",
       "      <td>0</td>\n",
       "      <td>1</td>\n",
       "    </tr>\n",
       "    <tr>\n",
       "      <th>1</th>\n",
       "      <td>1.0</td>\n",
       "      <td>2</td>\n",
       "      <td>1</td>\n",
       "      <td>0</td>\n",
       "      <td>0</td>\n",
       "      <td>Washington DC</td>\n",
       "      <td>2816</td>\n",
       "      <td>0</td>\n",
       "      <td>0</td>\n",
       "      <td>0</td>\n",
       "      <td>0</td>\n",
       "      <td>0</td>\n",
       "      <td>1</td>\n",
       "    </tr>\n",
       "    <tr>\n",
       "      <th>2</th>\n",
       "      <td>2.0</td>\n",
       "      <td>6</td>\n",
       "      <td>2</td>\n",
       "      <td>0</td>\n",
       "      <td>0</td>\n",
       "      <td>Washington DC</td>\n",
       "      <td>3811</td>\n",
       "      <td>0</td>\n",
       "      <td>0</td>\n",
       "      <td>0</td>\n",
       "      <td>0</td>\n",
       "      <td>0</td>\n",
       "      <td>1</td>\n",
       "    </tr>\n",
       "    <tr>\n",
       "      <th>3</th>\n",
       "      <td>1.0</td>\n",
       "      <td>2</td>\n",
       "      <td>0</td>\n",
       "      <td>0</td>\n",
       "      <td>0</td>\n",
       "      <td>Washington DC</td>\n",
       "      <td>1549</td>\n",
       "      <td>0</td>\n",
       "      <td>0</td>\n",
       "      <td>0</td>\n",
       "      <td>0</td>\n",
       "      <td>0</td>\n",
       "      <td>1</td>\n",
       "    </tr>\n",
       "    <tr>\n",
       "      <th>4</th>\n",
       "      <td>1.0</td>\n",
       "      <td>3</td>\n",
       "      <td>1</td>\n",
       "      <td>0</td>\n",
       "      <td>0</td>\n",
       "      <td>Washington DC</td>\n",
       "      <td>1753</td>\n",
       "      <td>0</td>\n",
       "      <td>0</td>\n",
       "      <td>0</td>\n",
       "      <td>0</td>\n",
       "      <td>0</td>\n",
       "      <td>1</td>\n",
       "    </tr>\n",
       "  </tbody>\n",
       "</table>\n",
       "</div>"
      ],
      "text/plain": [
       "   Baths  Floor  Beds  Office_Space  Balcony           City  Price  \\\n",
       "0    1.0      5     0             0        0  Washington DC   2377   \n",
       "1    1.0      2     1             0        0  Washington DC   2816   \n",
       "2    2.0      6     2             0        0  Washington DC   3811   \n",
       "3    1.0      2     0             0        0  Washington DC   1549   \n",
       "4    1.0      3     1             0        0  Washington DC   1753   \n",
       "\n",
       "   City_Boston  City_Denver  City_Los Angeles  City_New York City  \\\n",
       "0            0            0                 0                   0   \n",
       "1            0            0                 0                   0   \n",
       "2            0            0                 0                   0   \n",
       "3            0            0                 0                   0   \n",
       "4            0            0                 0                   0   \n",
       "\n",
       "   City_Seattle  City_Washington DC  \n",
       "0             0                   1  \n",
       "1             0                   1  \n",
       "2             0                   1  \n",
       "3             0                   1  \n",
       "4             0                   1  "
      ]
     },
     "execution_count": 20,
     "metadata": {},
     "output_type": "execute_result"
    }
   ],
   "source": [
    "df_with_dummies.head()"
   ]
  },
  {
   "cell_type": "code",
   "execution_count": 21,
   "id": "3cad67a5",
   "metadata": {},
   "outputs": [
    {
     "data": {
      "text/html": [
       "<div>\n",
       "<style scoped>\n",
       "    .dataframe tbody tr th:only-of-type {\n",
       "        vertical-align: middle;\n",
       "    }\n",
       "\n",
       "    .dataframe tbody tr th {\n",
       "        vertical-align: top;\n",
       "    }\n",
       "\n",
       "    .dataframe thead th {\n",
       "        text-align: right;\n",
       "    }\n",
       "</style>\n",
       "<table border=\"1\" class=\"dataframe\">\n",
       "  <thead>\n",
       "    <tr style=\"text-align: right;\">\n",
       "      <th></th>\n",
       "      <th>Baths</th>\n",
       "      <th>Floor</th>\n",
       "      <th>Beds</th>\n",
       "      <th>Office_Space</th>\n",
       "      <th>Balcony</th>\n",
       "      <th>Price</th>\n",
       "      <th>City_Boston</th>\n",
       "      <th>City_Denver</th>\n",
       "      <th>City_Los Angeles</th>\n",
       "      <th>City_New York City</th>\n",
       "      <th>City_Seattle</th>\n",
       "      <th>City_Washington DC</th>\n",
       "    </tr>\n",
       "  </thead>\n",
       "  <tbody>\n",
       "    <tr>\n",
       "      <th>0</th>\n",
       "      <td>1.0</td>\n",
       "      <td>5</td>\n",
       "      <td>0</td>\n",
       "      <td>0</td>\n",
       "      <td>0</td>\n",
       "      <td>2377</td>\n",
       "      <td>0</td>\n",
       "      <td>0</td>\n",
       "      <td>0</td>\n",
       "      <td>0</td>\n",
       "      <td>0</td>\n",
       "      <td>1</td>\n",
       "    </tr>\n",
       "    <tr>\n",
       "      <th>1</th>\n",
       "      <td>1.0</td>\n",
       "      <td>2</td>\n",
       "      <td>1</td>\n",
       "      <td>0</td>\n",
       "      <td>0</td>\n",
       "      <td>2816</td>\n",
       "      <td>0</td>\n",
       "      <td>0</td>\n",
       "      <td>0</td>\n",
       "      <td>0</td>\n",
       "      <td>0</td>\n",
       "      <td>1</td>\n",
       "    </tr>\n",
       "    <tr>\n",
       "      <th>2</th>\n",
       "      <td>2.0</td>\n",
       "      <td>6</td>\n",
       "      <td>2</td>\n",
       "      <td>0</td>\n",
       "      <td>0</td>\n",
       "      <td>3811</td>\n",
       "      <td>0</td>\n",
       "      <td>0</td>\n",
       "      <td>0</td>\n",
       "      <td>0</td>\n",
       "      <td>0</td>\n",
       "      <td>1</td>\n",
       "    </tr>\n",
       "    <tr>\n",
       "      <th>3</th>\n",
       "      <td>1.0</td>\n",
       "      <td>2</td>\n",
       "      <td>0</td>\n",
       "      <td>0</td>\n",
       "      <td>0</td>\n",
       "      <td>1549</td>\n",
       "      <td>0</td>\n",
       "      <td>0</td>\n",
       "      <td>0</td>\n",
       "      <td>0</td>\n",
       "      <td>0</td>\n",
       "      <td>1</td>\n",
       "    </tr>\n",
       "    <tr>\n",
       "      <th>4</th>\n",
       "      <td>1.0</td>\n",
       "      <td>3</td>\n",
       "      <td>1</td>\n",
       "      <td>0</td>\n",
       "      <td>0</td>\n",
       "      <td>1753</td>\n",
       "      <td>0</td>\n",
       "      <td>0</td>\n",
       "      <td>0</td>\n",
       "      <td>0</td>\n",
       "      <td>0</td>\n",
       "      <td>1</td>\n",
       "    </tr>\n",
       "  </tbody>\n",
       "</table>\n",
       "</div>"
      ],
      "text/plain": [
       "   Baths  Floor  Beds  Office_Space  Balcony  Price  City_Boston  City_Denver  \\\n",
       "0    1.0      5     0             0        0   2377            0            0   \n",
       "1    1.0      2     1             0        0   2816            0            0   \n",
       "2    2.0      6     2             0        0   3811            0            0   \n",
       "3    1.0      2     0             0        0   1549            0            0   \n",
       "4    1.0      3     1             0        0   1753            0            0   \n",
       "\n",
       "   City_Los Angeles  City_New York City  City_Seattle  City_Washington DC  \n",
       "0                 0                   0             0                   1  \n",
       "1                 0                   0             0                   1  \n",
       "2                 0                   0             0                   1  \n",
       "3                 0                   0             0                   1  \n",
       "4                 0                   0             0                   1  "
      ]
     },
     "execution_count": 21,
     "metadata": {},
     "output_type": "execute_result"
    }
   ],
   "source": [
    "df_with_dummies.drop('City',axis='columns',inplace=True)\n",
    "df_with_dummies.head()"
   ]
  },
  {
   "cell_type": "markdown",
   "id": "85b34a3d",
   "metadata": {},
   "source": [
    "## Model Building"
   ]
  },
  {
   "cell_type": "code",
   "execution_count": 22,
   "id": "4793d9ce",
   "metadata": {},
   "outputs": [
    {
     "data": {
      "text/html": [
       "<div>\n",
       "<style scoped>\n",
       "    .dataframe tbody tr th:only-of-type {\n",
       "        vertical-align: middle;\n",
       "    }\n",
       "\n",
       "    .dataframe tbody tr th {\n",
       "        vertical-align: top;\n",
       "    }\n",
       "\n",
       "    .dataframe thead th {\n",
       "        text-align: right;\n",
       "    }\n",
       "</style>\n",
       "<table border=\"1\" class=\"dataframe\">\n",
       "  <thead>\n",
       "    <tr style=\"text-align: right;\">\n",
       "      <th></th>\n",
       "      <th>Baths</th>\n",
       "      <th>Floor</th>\n",
       "      <th>Beds</th>\n",
       "      <th>Office_Space</th>\n",
       "      <th>Balcony</th>\n",
       "      <th>Price</th>\n",
       "      <th>City_Boston</th>\n",
       "      <th>City_Denver</th>\n",
       "      <th>City_Los Angeles</th>\n",
       "      <th>City_New York City</th>\n",
       "      <th>City_Seattle</th>\n",
       "      <th>City_Washington DC</th>\n",
       "    </tr>\n",
       "  </thead>\n",
       "  <tbody>\n",
       "    <tr>\n",
       "      <th>0</th>\n",
       "      <td>1.0</td>\n",
       "      <td>5</td>\n",
       "      <td>0</td>\n",
       "      <td>0</td>\n",
       "      <td>0</td>\n",
       "      <td>2377</td>\n",
       "      <td>0</td>\n",
       "      <td>0</td>\n",
       "      <td>0</td>\n",
       "      <td>0</td>\n",
       "      <td>0</td>\n",
       "      <td>1</td>\n",
       "    </tr>\n",
       "    <tr>\n",
       "      <th>1</th>\n",
       "      <td>1.0</td>\n",
       "      <td>2</td>\n",
       "      <td>1</td>\n",
       "      <td>0</td>\n",
       "      <td>0</td>\n",
       "      <td>2816</td>\n",
       "      <td>0</td>\n",
       "      <td>0</td>\n",
       "      <td>0</td>\n",
       "      <td>0</td>\n",
       "      <td>0</td>\n",
       "      <td>1</td>\n",
       "    </tr>\n",
       "    <tr>\n",
       "      <th>2</th>\n",
       "      <td>2.0</td>\n",
       "      <td>6</td>\n",
       "      <td>2</td>\n",
       "      <td>0</td>\n",
       "      <td>0</td>\n",
       "      <td>3811</td>\n",
       "      <td>0</td>\n",
       "      <td>0</td>\n",
       "      <td>0</td>\n",
       "      <td>0</td>\n",
       "      <td>0</td>\n",
       "      <td>1</td>\n",
       "    </tr>\n",
       "    <tr>\n",
       "      <th>3</th>\n",
       "      <td>1.0</td>\n",
       "      <td>2</td>\n",
       "      <td>0</td>\n",
       "      <td>0</td>\n",
       "      <td>0</td>\n",
       "      <td>1549</td>\n",
       "      <td>0</td>\n",
       "      <td>0</td>\n",
       "      <td>0</td>\n",
       "      <td>0</td>\n",
       "      <td>0</td>\n",
       "      <td>1</td>\n",
       "    </tr>\n",
       "    <tr>\n",
       "      <th>4</th>\n",
       "      <td>1.0</td>\n",
       "      <td>3</td>\n",
       "      <td>1</td>\n",
       "      <td>0</td>\n",
       "      <td>0</td>\n",
       "      <td>1753</td>\n",
       "      <td>0</td>\n",
       "      <td>0</td>\n",
       "      <td>0</td>\n",
       "      <td>0</td>\n",
       "      <td>0</td>\n",
       "      <td>1</td>\n",
       "    </tr>\n",
       "  </tbody>\n",
       "</table>\n",
       "</div>"
      ],
      "text/plain": [
       "   Baths  Floor  Beds  Office_Space  Balcony  Price  City_Boston  City_Denver  \\\n",
       "0    1.0      5     0             0        0   2377            0            0   \n",
       "1    1.0      2     1             0        0   2816            0            0   \n",
       "2    2.0      6     2             0        0   3811            0            0   \n",
       "3    1.0      2     0             0        0   1549            0            0   \n",
       "4    1.0      3     1             0        0   1753            0            0   \n",
       "\n",
       "   City_Los Angeles  City_New York City  City_Seattle  City_Washington DC  \n",
       "0                 0                   0             0                   1  \n",
       "1                 0                   0             0                   1  \n",
       "2                 0                   0             0                   1  \n",
       "3                 0                   0             0                   1  \n",
       "4                 0                   0             0                   1  "
      ]
     },
     "execution_count": 22,
     "metadata": {},
     "output_type": "execute_result"
    }
   ],
   "source": [
    "X = df_with_dummies\n",
    "X.head()"
   ]
  },
  {
   "cell_type": "code",
   "execution_count": 23,
   "id": "5f6c90b6",
   "metadata": {},
   "outputs": [],
   "source": [
    "y = df.Beds"
   ]
  },
  {
   "cell_type": "markdown",
   "id": "1ff8af5b",
   "metadata": {},
   "source": [
    "#### y is our target variable that is the number of bedrooms."
   ]
  },
  {
   "cell_type": "code",
   "execution_count": 24,
   "id": "b79d498a",
   "metadata": {},
   "outputs": [
    {
     "name": "stdout",
     "output_type": "stream",
     "text": [
      "0      0\n",
      "1      1\n",
      "2      2\n",
      "3      0\n",
      "4      1\n",
      "      ..\n",
      "995    2\n",
      "996    2\n",
      "997    2\n",
      "998    2\n",
      "999    2\n",
      "Name: Beds, Length: 1000, dtype: int64\n"
     ]
    }
   ],
   "source": [
    "print(y)"
   ]
  },
  {
   "cell_type": "markdown",
   "id": "60bbc98b",
   "metadata": {},
   "source": [
    "### Model Fitting"
   ]
  },
  {
   "cell_type": "code",
   "execution_count": 25,
   "id": "1a53839a",
   "metadata": {},
   "outputs": [],
   "source": [
    "from sklearn.model_selection import train_test_split\n",
    "X_train, X_test, y_train, y_test = train_test_split(X,y,train_size=0.3)"
   ]
  },
  {
   "cell_type": "code",
   "execution_count": 26,
   "id": "0a71a36a",
   "metadata": {},
   "outputs": [],
   "source": [
    "from sklearn.linear_model import LogisticRegression\n",
    "model = LogisticRegression(solver='lbfgs', max_iter=10000)"
   ]
  },
  {
   "cell_type": "code",
   "execution_count": 27,
   "id": "b897512c",
   "metadata": {},
   "outputs": [
    {
     "data": {
      "text/plain": [
       "LogisticRegression(max_iter=10000)"
      ]
     },
     "execution_count": 27,
     "metadata": {},
     "output_type": "execute_result"
    }
   ],
   "source": [
    "model.fit(X_train, y_train)"
   ]
  },
  {
   "cell_type": "code",
   "execution_count": 28,
   "id": "6517e2fe",
   "metadata": {},
   "outputs": [
    {
     "data": {
      "text/plain": [
       "array([1, 0, 2, 2, 2, 0, 1, 2, 2, 2, 2, 1, 2, 1, 2, 1, 0, 1, 0, 1, 1, 1,\n",
       "       1, 0, 2, 1, 1, 1, 1, 2, 1, 2, 1, 0, 1, 1, 3, 2, 2, 1, 2, 2, 1, 1,\n",
       "       1, 1, 0, 2, 2, 1, 0, 1, 1, 1, 0, 1, 1, 2, 1, 0, 1, 1, 1, 2, 2, 0,\n",
       "       1, 2, 1, 1, 1, 2, 2, 1, 2, 1, 1, 0, 1, 2, 0, 2, 0, 1, 1, 1, 1, 2,\n",
       "       2, 0, 1, 1, 2, 2, 1, 2, 1, 1, 1, 1, 2, 1, 0, 1, 1, 1, 2, 2, 1, 0,\n",
       "       2, 1, 2, 2, 2, 2, 2, 1, 1, 1, 2, 0, 1, 2, 2, 1, 2, 0, 1, 1, 1, 1,\n",
       "       2, 2, 1, 2, 0, 1, 1, 0, 0, 0, 1, 2, 1, 2, 1, 1, 1, 2, 1, 0, 1, 2,\n",
       "       0, 1, 2, 1, 1, 1, 2, 1, 1, 1, 1, 0, 2, 1, 0, 2, 1, 2, 1, 1, 1, 1,\n",
       "       1, 0, 2, 2, 1, 1, 2, 2, 1, 1, 1, 0, 1, 2, 1, 1, 1, 0, 1, 1, 2, 0,\n",
       "       1, 1, 2, 2, 1, 1, 1, 2, 2, 1, 0, 1, 1, 3, 0, 3, 1, 2, 1, 1, 0, 0,\n",
       "       1, 2, 1, 1, 1, 2, 2, 0, 0, 1, 1, 1, 1, 2, 2, 1, 2, 2, 1, 1, 1, 1,\n",
       "       0, 1, 1, 0, 0, 0, 1, 1, 2, 0, 2, 1, 1, 1, 2, 0, 1, 0, 0, 1, 1, 1,\n",
       "       1, 0, 0, 1, 1, 2, 1, 2, 0, 1, 2, 2, 2, 1, 2, 0, 1, 3, 1, 0, 1, 1,\n",
       "       2, 1, 2, 1, 2, 2, 1, 1, 1, 1, 0, 0, 2, 2, 1, 1, 1, 2, 1, 1, 1, 0,\n",
       "       2, 1, 1, 1, 1, 2, 1, 1, 1, 2, 2, 1, 1, 1, 1, 1, 3, 0, 1, 0, 1, 1,\n",
       "       1, 0, 0, 0, 2, 2, 1, 1, 1, 1, 0, 0, 1, 1, 2, 0, 2, 2, 1, 1, 0, 2,\n",
       "       1, 1, 2, 1, 0, 1, 2, 2, 0, 0, 2, 2, 1, 2, 2, 2, 0, 2, 1, 0, 2, 1,\n",
       "       2, 1, 2, 2, 0, 2, 1, 0, 1, 1, 0, 1, 2, 0, 2, 1, 1, 2, 1, 0, 2, 1,\n",
       "       1, 2, 2, 2, 2, 1, 2, 1, 0, 0, 2, 2, 2, 1, 1, 1, 2, 2, 2, 0, 2, 1,\n",
       "       2, 0, 1, 1, 0, 1, 0, 0, 0, 1, 1, 1, 1, 1, 0, 1, 1, 1, 1, 1, 0, 1,\n",
       "       1, 1, 2, 2, 0, 1, 0, 1, 2, 1, 1, 1, 2, 1, 2, 2, 1, 0, 1, 1, 1, 2,\n",
       "       0, 1, 2, 2, 0, 3, 0, 0, 1, 0, 2, 2, 1, 1, 1, 2, 2, 2, 0, 2, 2, 0,\n",
       "       1, 2, 2, 1, 0, 2, 0, 2, 1, 0, 1, 1, 0, 0, 2, 1, 2, 1, 1, 1, 0, 1,\n",
       "       2, 1, 1, 1, 0, 0, 1, 2, 1, 1, 2, 1, 0, 1, 1, 0, 1, 2, 0, 1, 2, 1,\n",
       "       0, 1, 1, 2, 1, 1, 0, 2, 0, 1, 1, 2, 1, 1, 1, 3, 2, 1, 1, 1, 2, 2,\n",
       "       2, 1, 1, 2, 1, 0, 2, 0, 2, 2, 0, 1, 2, 1, 1, 0, 1, 0, 2, 0, 1, 1,\n",
       "       1, 2, 1, 1, 2, 1, 0, 0, 0, 0, 0, 2, 2, 1, 1, 1, 0, 1, 3, 0, 1, 1,\n",
       "       1, 0, 2, 0, 1, 2, 1, 1, 2, 2, 1, 1, 2, 1, 2, 0, 2, 2, 0, 1, 2, 1,\n",
       "       1, 2, 1, 0, 1, 1, 1, 0, 3, 1, 0, 0, 2, 0, 1, 1, 1, 1, 2, 0, 1, 0,\n",
       "       0, 1, 2, 1, 2, 1, 2, 1, 1, 0, 1, 0, 1, 1, 2, 1, 1, 1, 0, 0, 2, 0,\n",
       "       1, 1, 1, 1, 2, 1, 1, 0, 1, 2, 1, 2, 1, 0, 1, 2, 1, 1, 1, 1, 2, 2,\n",
       "       1, 1, 2, 1, 1, 1, 2, 1, 1, 0, 2, 1, 0, 2, 0, 1, 1, 0], dtype=int64)"
      ]
     },
     "execution_count": 28,
     "metadata": {},
     "output_type": "execute_result"
    }
   ],
   "source": [
    "model.predict(X_test)"
   ]
  },
  {
   "cell_type": "code",
   "execution_count": 29,
   "id": "cadeeb17",
   "metadata": {},
   "outputs": [],
   "source": [
    "y_pred = model.predict(X_test)"
   ]
  },
  {
   "cell_type": "code",
   "execution_count": 30,
   "id": "0429dd9a",
   "metadata": {
    "scrolled": true
   },
   "outputs": [
    {
     "data": {
      "text/plain": [
       "array([1, 0, 2, 2, 2, 0, 1, 2, 2, 2, 2, 1, 2, 1, 2, 1, 0, 1, 0, 1, 1, 1,\n",
       "       1, 0, 2, 1, 1, 1, 1, 2, 1, 2, 1, 0, 1, 1, 3, 2, 2, 1, 2, 2, 1, 1,\n",
       "       1, 1, 0, 2, 2, 1, 0, 1, 1, 1, 0, 1, 1, 2, 1, 0, 1, 1, 1, 2, 2, 0,\n",
       "       1, 2, 1, 1, 1, 2, 2, 1, 2, 1, 1, 0, 1, 2, 0, 2, 0, 1, 1, 1, 1, 2,\n",
       "       2, 0, 1, 1, 2, 2, 1, 2, 1, 1, 1, 1, 2, 1, 0, 1, 1, 1, 2, 2, 1, 0,\n",
       "       2, 1, 2, 2, 2, 2, 2, 1, 1, 1, 2, 0, 1, 2, 2, 1, 2, 0, 1, 1, 1, 1,\n",
       "       2, 2, 1, 2, 0, 1, 1, 0, 0, 0, 1, 2, 1, 2, 1, 1, 1, 2, 1, 0, 1, 2,\n",
       "       0, 1, 2, 1, 1, 1, 2, 1, 1, 1, 1, 0, 2, 1, 0, 2, 1, 2, 1, 1, 1, 1,\n",
       "       1, 0, 2, 2, 1, 1, 2, 2, 1, 1, 1, 0, 1, 2, 1, 1, 1, 0, 1, 1, 2, 0,\n",
       "       1, 1, 2, 2, 1, 1, 1, 2, 2, 1, 0, 1, 1, 3, 0, 3, 1, 2, 1, 1, 0, 0,\n",
       "       1, 2, 1, 1, 1, 2, 2, 0, 0, 1, 1, 1, 1, 2, 2, 1, 2, 2, 1, 1, 1, 1,\n",
       "       0, 1, 1, 0, 0, 0, 1, 1, 2, 0, 2, 1, 1, 1, 2, 0, 1, 0, 0, 1, 1, 1,\n",
       "       1, 0, 0, 1, 1, 2, 1, 2, 0, 1, 2, 2, 2, 1, 2, 0, 1, 3, 1, 0, 1, 1,\n",
       "       2, 1, 2, 1, 2, 2, 1, 1, 1, 1, 0, 0, 2, 2, 1, 1, 1, 2, 1, 1, 1, 0,\n",
       "       2, 1, 1, 1, 1, 2, 1, 1, 1, 2, 2, 1, 1, 1, 1, 1, 3, 0, 1, 0, 1, 1,\n",
       "       1, 0, 0, 0, 2, 2, 1, 1, 1, 1, 0, 0, 1, 1, 2, 0, 2, 2, 1, 1, 0, 2,\n",
       "       1, 1, 2, 1, 0, 1, 2, 2, 0, 0, 2, 2, 1, 2, 2, 2, 0, 2, 1, 0, 2, 1,\n",
       "       2, 1, 2, 2, 0, 2, 1, 0, 1, 1, 0, 1, 2, 0, 2, 1, 1, 2, 1, 0, 2, 1,\n",
       "       1, 2, 2, 2, 2, 1, 2, 1, 0, 0, 2, 2, 2, 1, 1, 1, 2, 2, 2, 0, 2, 1,\n",
       "       2, 0, 1, 1, 0, 1, 0, 0, 0, 1, 1, 1, 1, 1, 0, 1, 1, 1, 1, 1, 0, 1,\n",
       "       1, 1, 2, 2, 0, 1, 0, 1, 2, 1, 1, 1, 2, 1, 2, 2, 1, 0, 1, 1, 1, 2,\n",
       "       0, 1, 2, 2, 0, 3, 0, 0, 1, 0, 2, 2, 1, 1, 1, 2, 2, 2, 0, 2, 2, 0,\n",
       "       1, 2, 2, 1, 0, 2, 0, 2, 1, 0, 1, 1, 0, 0, 2, 1, 2, 1, 1, 1, 0, 1,\n",
       "       2, 1, 1, 1, 0, 0, 1, 2, 1, 1, 2, 1, 0, 1, 1, 0, 1, 2, 0, 1, 2, 1,\n",
       "       0, 1, 1, 2, 1, 1, 0, 2, 0, 1, 1, 2, 1, 1, 1, 3, 2, 1, 1, 1, 2, 2,\n",
       "       2, 1, 1, 2, 1, 0, 2, 0, 2, 2, 0, 1, 2, 1, 1, 0, 1, 0, 2, 0, 1, 1,\n",
       "       1, 2, 1, 1, 2, 1, 0, 0, 0, 0, 0, 2, 2, 1, 1, 1, 0, 1, 3, 0, 1, 1,\n",
       "       1, 0, 2, 0, 1, 2, 1, 1, 2, 2, 1, 1, 2, 1, 2, 0, 2, 2, 0, 1, 2, 1,\n",
       "       1, 2, 1, 0, 1, 1, 1, 0, 3, 1, 0, 0, 2, 0, 1, 1, 1, 1, 2, 0, 1, 0,\n",
       "       0, 1, 2, 1, 2, 1, 2, 1, 1, 0, 1, 0, 1, 1, 2, 1, 1, 1, 0, 0, 2, 0,\n",
       "       1, 1, 1, 1, 2, 1, 1, 0, 1, 2, 1, 2, 1, 0, 1, 2, 1, 1, 1, 1, 2, 2,\n",
       "       1, 1, 2, 1, 1, 1, 2, 1, 1, 0, 2, 1, 0, 2, 0, 1, 1, 0], dtype=int64)"
      ]
     },
     "execution_count": 30,
     "metadata": {},
     "output_type": "execute_result"
    }
   ],
   "source": [
    "y_pred"
   ]
  },
  {
   "cell_type": "code",
   "execution_count": 31,
   "id": "89bb17bb",
   "metadata": {},
   "outputs": [
    {
     "data": {
      "text/plain": [
       "array([[ 9.19967717e-01,  5.64042715e-02, -5.12747121e+00,\n",
       "         0.00000000e+00, -1.36462728e-01, -6.93145927e-04,\n",
       "         2.88947557e-01,  1.35824630e-01,  2.30825947e-01,\n",
       "         5.90807512e-01,  1.79002481e-01, -1.47261068e-01],\n",
       "       [-2.50975533e+00,  1.59457753e-02, -6.39760227e-02,\n",
       "         0.00000000e+00,  3.16828982e-01, -1.22927588e-04,\n",
       "         4.20693479e-01, -1.99524264e-02, -2.21403645e-01,\n",
       "         2.31645549e-01, -1.07751307e-01, -3.46856397e-01],\n",
       "       [ 2.38386579e+00, -1.48152441e-02,  1.27910059e+00,\n",
       "         0.00000000e+00, -2.69829533e-01,  1.56727006e-04,\n",
       "         2.51037489e-01, -1.24944392e-01,  9.32082947e-02,\n",
       "        -1.97329289e-01,  5.60321097e-02,  6.16173110e-01],\n",
       "       [-7.94078177e-01, -5.75348027e-02,  3.91234664e+00,\n",
       "         0.00000000e+00,  8.94632792e-02,  6.59346507e-04,\n",
       "        -9.60678526e-01,  9.07218830e-03, -1.02630597e-01,\n",
       "        -6.25123773e-01, -1.27283284e-01, -1.22055645e-01]])"
      ]
     },
     "execution_count": 31,
     "metadata": {},
     "output_type": "execute_result"
    }
   ],
   "source": [
    "model.coef_"
   ]
  },
  {
   "cell_type": "code",
   "execution_count": 32,
   "id": "55c3b022",
   "metadata": {},
   "outputs": [
    {
     "data": {
      "text/plain": [
       "array([ 5.39372331,  6.0446717 , -4.11015886, -7.32823616])"
      ]
     },
     "execution_count": 32,
     "metadata": {},
     "output_type": "execute_result"
    }
   ],
   "source": [
    "model.intercept_"
   ]
  },
  {
   "cell_type": "code",
   "execution_count": 33,
   "id": "6c2f4143",
   "metadata": {
    "scrolled": false
   },
   "outputs": [
    {
     "data": {
      "text/plain": [
       "Text(0, 0.5, 'Predicted Y')"
      ]
     },
     "execution_count": 33,
     "metadata": {},
     "output_type": "execute_result"
    },
    {
     "data": {
      "image/png": "[encoded data removed]",
      "text/plain": [
       "<Figure size 720x432 with 1 Axes>"
      ]
     },
     "metadata": {
      "needs_background": "light"
     },
     "output_type": "display_data"
    }
   ],
   "source": [
    "fig = plt.figure(figsize=(10, 6))\n",
    "plt.scatter(y_test,y_pred, color='r')\n",
    "plt.xlabel('Y Test')\n",
    "plt.ylabel('Predicted Y')"
   ]
  },
  {
   "cell_type": "markdown",
   "id": "28bddec7",
   "metadata": {},
   "source": [
    "#### Confusion Matrix"
   ]
  },
  {
   "cell_type": "code",
   "execution_count": 34,
   "id": "a86e9796",
   "metadata": {
    "scrolled": true
   },
   "outputs": [
    {
     "data": {
      "text/plain": [
       "array([[142,   0,   0,   0],\n",
       "       [  0, 333,   1,   0],\n",
       "       [  0,  13, 190,   0],\n",
       "       [  0,   0,  12,   9]], dtype=int64)"
      ]
     },
     "execution_count": 34,
     "metadata": {},
     "output_type": "execute_result"
    }
   ],
   "source": [
    "from sklearn.metrics import confusion_matrix\n",
    "cm = confusion_matrix(y_test, y_pred)\n",
    "cm"
   ]
  },
  {
   "cell_type": "markdown",
   "id": "40061980",
   "metadata": {},
   "source": [
    "#### Accuracy"
   ]
  },
  {
   "cell_type": "code",
   "execution_count": 35,
   "id": "147700fc",
   "metadata": {
    "scrolled": true
   },
   "outputs": [
    {
     "name": "stdout",
     "output_type": "stream",
     "text": [
      "Accuracy of logistic regression classifier on test set: 0.96\n"
     ]
    }
   ],
   "source": [
    "print('Accuracy of logistic regression classifier on test set: {:.2f}'.format(model.score(X_test, y_test)))"
   ]
  },
  {
   "cell_type": "markdown",
   "id": "e7881685",
   "metadata": {},
   "source": [
    " ## Model evaluation"
   ]
  },
  {
   "cell_type": "code",
   "execution_count": 36,
   "id": "def1eeaa",
   "metadata": {},
   "outputs": [
    {
     "name": "stdout",
     "output_type": "stream",
     "text": [
      "MAE: 0.037142857142857144\n",
      "MSE: 0.037142857142857144\n",
      "RMSE: 0.19272482233188631\n"
     ]
    }
   ],
   "source": [
    "from sklearn import metrics\n",
    "\n",
    "print('MAE:', metrics.mean_absolute_error(y_test, y_pred))\n",
    "print('MSE:', metrics.mean_squared_error(y_test, y_pred))\n",
    "print('RMSE:', np.sqrt(metrics.mean_squared_error(y_test, y_pred)))"
   ]
  },
  {
   "cell_type": "code",
   "execution_count": 37,
   "id": "38a0df03",
   "metadata": {},
   "outputs": [
    {
     "data": {
      "image/png": "[encoded data removed]",
      "text/plain": [
       "<Figure size 432x288 with 1 Axes>"
      ]
     },
     "metadata": {
      "needs_background": "light"
     },
     "output_type": "display_data"
    }
   ],
   "source": [
    "import seaborn as sns\n",
    "\n",
    "sns.distplot((y_test-y_pred),bins=10, color='r');"
   ]
  },
  {
   "cell_type": "markdown",
   "id": "70aaeff1",
   "metadata": {},
   "source": [
    "### K-fold model validation"
   ]
  },
  {
   "cell_type": "code",
   "execution_count": 38,
   "id": "83717bf1",
   "metadata": {},
   "outputs": [
    {
     "data": {
      "text/plain": [
       "array([0.93492408, 0.93785603, 0.90506329, 0.87341772, 0.89649224])"
      ]
     },
     "execution_count": 38,
     "metadata": {},
     "output_type": "execute_result"
    }
   ],
   "source": [
    "from sklearn.model_selection import cross_val_score\n",
    "\n",
    "scores = cross_val_score(model, X_train, y_train, scoring='r2', cv=5)\n",
    "scores"
   ]
  },
  {
   "cell_type": "code",
   "execution_count": 39,
   "id": "b7bb11db",
   "metadata": {},
   "outputs": [
    {
     "data": {
      "text/plain": [
       "12"
      ]
     },
     "execution_count": 39,
     "metadata": {},
     "output_type": "execute_result"
    }
   ],
   "source": [
    "len(X_train.columns)"
   ]
  },
  {
   "cell_type": "code",
   "execution_count": 40,
   "id": "f635ab6f",
   "metadata": {},
   "outputs": [
    {
     "name": "stdout",
     "output_type": "stream",
     "text": [
      "Fitting 5 folds for each of 11 candidates, totalling 55 fits\n"
     ]
    },
    {
     "data": {
      "text/plain": [
       "GridSearchCV(cv=KFold(n_splits=5, random_state=100, shuffle=True),\n",
       "             estimator=RFE(estimator=LogisticRegression(max_iter=10000)),\n",
       "             param_grid=[{'n_features_to_select': [1, 2, 3, 4, 5, 6, 7, 8, 9,\n",
       "                                                   10, 11]}],\n",
       "             return_train_score=True, scoring='r2', verbose=1)"
      ]
     },
     "execution_count": 40,
     "metadata": {},
     "output_type": "execute_result"
    }
   ],
   "source": [
    "from sklearn.feature_selection import RFE\n",
    "from sklearn.model_selection import GridSearchCV\n",
    "from sklearn.model_selection import KFold\n",
    "\n",
    "folds = KFold(n_splits = 5, shuffle = True, random_state = 100)\n",
    "\n",
    "hyper_params = [{'n_features_to_select': list(range(1, 12))}]\n",
    "\n",
    "model = LogisticRegression(solver='lbfgs', max_iter=10000)\n",
    "model.fit(X_train, y_train)\n",
    "rfe = RFE(model)             \n",
    "\n",
    "model_cv = GridSearchCV(estimator = rfe, \n",
    "                        param_grid = hyper_params, \n",
    "                        scoring= 'r2', \n",
    "                        cv = folds, \n",
    "                        verbose = 1,\n",
    "                        return_train_score=True)      \n",
    "\n",
    "# fit the model\n",
    "model_cv.fit(X_train, y_train)  "
   ]
  },
  {
   "cell_type": "code",
   "execution_count": 41,
   "id": "82f42f80",
   "metadata": {
    "scrolled": false
   },
   "outputs": [
    {
     "data": {
      "text/html": [
       "<div>\n",
       "<style scoped>\n",
       "    .dataframe tbody tr th:only-of-type {\n",
       "        vertical-align: middle;\n",
       "    }\n",
       "\n",
       "    .dataframe tbody tr th {\n",
       "        vertical-align: top;\n",
       "    }\n",
       "\n",
       "    .dataframe thead th {\n",
       "        text-align: right;\n",
       "    }\n",
       "</style>\n",
       "<table border=\"1\" class=\"dataframe\">\n",
       "  <thead>\n",
       "    <tr style=\"text-align: right;\">\n",
       "      <th></th>\n",
       "      <th>mean_fit_time</th>\n",
       "      <th>std_fit_time</th>\n",
       "      <th>mean_score_time</th>\n",
       "      <th>std_score_time</th>\n",
       "      <th>param_n_features_to_select</th>\n",
       "      <th>params</th>\n",
       "      <th>split0_test_score</th>\n",
       "      <th>split1_test_score</th>\n",
       "      <th>split2_test_score</th>\n",
       "      <th>split3_test_score</th>\n",
       "      <th>...</th>\n",
       "      <th>mean_test_score</th>\n",
       "      <th>std_test_score</th>\n",
       "      <th>rank_test_score</th>\n",
       "      <th>split0_train_score</th>\n",
       "      <th>split1_train_score</th>\n",
       "      <th>split2_train_score</th>\n",
       "      <th>split3_train_score</th>\n",
       "      <th>split4_train_score</th>\n",
       "      <th>mean_train_score</th>\n",
       "      <th>std_train_score</th>\n",
       "    </tr>\n",
       "  </thead>\n",
       "  <tbody>\n",
       "    <tr>\n",
       "      <th>0</th>\n",
       "      <td>1.866800</td>\n",
       "      <td>0.217061</td>\n",
       "      <td>0.000000</td>\n",
       "      <td>0.000000</td>\n",
       "      <td>1</td>\n",
       "      <td>{'n_features_to_select': 1}</td>\n",
       "      <td>0.937856</td>\n",
       "      <td>0.968354</td>\n",
       "      <td>0.964706</td>\n",
       "      <td>0.929036</td>\n",
       "      <td>...</td>\n",
       "      <td>0.942515</td>\n",
       "      <td>0.021247</td>\n",
       "      <td>1</td>\n",
       "      <td>0.943088</td>\n",
       "      <td>0.935266</td>\n",
       "      <td>0.936875</td>\n",
       "      <td>0.944691</td>\n",
       "      <td>0.950304</td>\n",
       "      <td>0.942045</td>\n",
       "      <td>0.005458</td>\n",
       "    </tr>\n",
       "    <tr>\n",
       "      <th>1</th>\n",
       "      <td>1.902275</td>\n",
       "      <td>0.226385</td>\n",
       "      <td>0.003125</td>\n",
       "      <td>0.006251</td>\n",
       "      <td>2</td>\n",
       "      <td>{'n_features_to_select': 2}</td>\n",
       "      <td>0.937856</td>\n",
       "      <td>0.968354</td>\n",
       "      <td>0.929412</td>\n",
       "      <td>0.893554</td>\n",
       "      <td>...</td>\n",
       "      <td>0.916709</td>\n",
       "      <td>0.039238</td>\n",
       "      <td>7</td>\n",
       "      <td>0.910566</td>\n",
       "      <td>0.959541</td>\n",
       "      <td>0.968438</td>\n",
       "      <td>0.920988</td>\n",
       "      <td>0.933738</td>\n",
       "      <td>0.938654</td>\n",
       "      <td>0.022129</td>\n",
       "    </tr>\n",
       "    <tr>\n",
       "      <th>2</th>\n",
       "      <td>1.878426</td>\n",
       "      <td>0.215173</td>\n",
       "      <td>0.000000</td>\n",
       "      <td>0.000000</td>\n",
       "      <td>3</td>\n",
       "      <td>{'n_features_to_select': 3}</td>\n",
       "      <td>0.937856</td>\n",
       "      <td>0.968354</td>\n",
       "      <td>0.929412</td>\n",
       "      <td>0.893554</td>\n",
       "      <td>...</td>\n",
       "      <td>0.916709</td>\n",
       "      <td>0.039238</td>\n",
       "      <td>7</td>\n",
       "      <td>0.910566</td>\n",
       "      <td>0.959541</td>\n",
       "      <td>0.960547</td>\n",
       "      <td>0.920988</td>\n",
       "      <td>0.933738</td>\n",
       "      <td>0.937076</td>\n",
       "      <td>0.020141</td>\n",
       "    </tr>\n",
       "    <tr>\n",
       "      <th>3</th>\n",
       "      <td>1.894225</td>\n",
       "      <td>0.221302</td>\n",
       "      <td>0.000000</td>\n",
       "      <td>0.000000</td>\n",
       "      <td>4</td>\n",
       "      <td>{'n_features_to_select': 4}</td>\n",
       "      <td>0.937856</td>\n",
       "      <td>0.968354</td>\n",
       "      <td>0.929412</td>\n",
       "      <td>0.893554</td>\n",
       "      <td>...</td>\n",
       "      <td>0.916709</td>\n",
       "      <td>0.039238</td>\n",
       "      <td>7</td>\n",
       "      <td>0.910566</td>\n",
       "      <td>0.951450</td>\n",
       "      <td>0.960547</td>\n",
       "      <td>0.920988</td>\n",
       "      <td>0.933738</td>\n",
       "      <td>0.935458</td>\n",
       "      <td>0.018532</td>\n",
       "    </tr>\n",
       "    <tr>\n",
       "      <th>4</th>\n",
       "      <td>1.853288</td>\n",
       "      <td>0.221038</td>\n",
       "      <td>0.003125</td>\n",
       "      <td>0.006250</td>\n",
       "      <td>5</td>\n",
       "      <td>{'n_features_to_select': 5}</td>\n",
       "      <td>0.937856</td>\n",
       "      <td>0.968354</td>\n",
       "      <td>0.929412</td>\n",
       "      <td>0.893554</td>\n",
       "      <td>...</td>\n",
       "      <td>0.916709</td>\n",
       "      <td>0.039238</td>\n",
       "      <td>7</td>\n",
       "      <td>0.926827</td>\n",
       "      <td>0.951450</td>\n",
       "      <td>0.960547</td>\n",
       "      <td>0.920988</td>\n",
       "      <td>0.933738</td>\n",
       "      <td>0.938710</td>\n",
       "      <td>0.014961</td>\n",
       "    </tr>\n",
       "    <tr>\n",
       "      <th>5</th>\n",
       "      <td>1.850369</td>\n",
       "      <td>0.223578</td>\n",
       "      <td>0.000000</td>\n",
       "      <td>0.000000</td>\n",
       "      <td>6</td>\n",
       "      <td>{'n_features_to_select': 6}</td>\n",
       "      <td>0.937856</td>\n",
       "      <td>0.968354</td>\n",
       "      <td>0.929412</td>\n",
       "      <td>0.893554</td>\n",
       "      <td>...</td>\n",
       "      <td>0.916709</td>\n",
       "      <td>0.039238</td>\n",
       "      <td>7</td>\n",
       "      <td>0.926827</td>\n",
       "      <td>0.951450</td>\n",
       "      <td>0.960547</td>\n",
       "      <td>0.936790</td>\n",
       "      <td>0.933738</td>\n",
       "      <td>0.941870</td>\n",
       "      <td>0.012319</td>\n",
       "    </tr>\n",
       "    <tr>\n",
       "      <th>6</th>\n",
       "      <td>1.846674</td>\n",
       "      <td>0.221245</td>\n",
       "      <td>0.000285</td>\n",
       "      <td>0.000571</td>\n",
       "      <td>7</td>\n",
       "      <td>{'n_features_to_select': 7}</td>\n",
       "      <td>0.937856</td>\n",
       "      <td>0.968354</td>\n",
       "      <td>0.929412</td>\n",
       "      <td>0.929036</td>\n",
       "      <td>...</td>\n",
       "      <td>0.923805</td>\n",
       "      <td>0.037583</td>\n",
       "      <td>2</td>\n",
       "      <td>0.934957</td>\n",
       "      <td>0.935266</td>\n",
       "      <td>0.960547</td>\n",
       "      <td>0.944691</td>\n",
       "      <td>0.933738</td>\n",
       "      <td>0.941840</td>\n",
       "      <td>0.010142</td>\n",
       "    </tr>\n",
       "    <tr>\n",
       "      <th>7</th>\n",
       "      <td>1.788982</td>\n",
       "      <td>0.210315</td>\n",
       "      <td>0.000000</td>\n",
       "      <td>0.000000</td>\n",
       "      <td>8</td>\n",
       "      <td>{'n_features_to_select': 8}</td>\n",
       "      <td>0.937856</td>\n",
       "      <td>0.968354</td>\n",
       "      <td>0.929412</td>\n",
       "      <td>0.929036</td>\n",
       "      <td>...</td>\n",
       "      <td>0.923805</td>\n",
       "      <td>0.037583</td>\n",
       "      <td>2</td>\n",
       "      <td>0.934957</td>\n",
       "      <td>0.943358</td>\n",
       "      <td>0.960547</td>\n",
       "      <td>0.944691</td>\n",
       "      <td>0.933738</td>\n",
       "      <td>0.943458</td>\n",
       "      <td>0.009595</td>\n",
       "    </tr>\n",
       "    <tr>\n",
       "      <th>8</th>\n",
       "      <td>1.812067</td>\n",
       "      <td>0.230460</td>\n",
       "      <td>0.001400</td>\n",
       "      <td>0.000490</td>\n",
       "      <td>9</td>\n",
       "      <td>{'n_features_to_select': 9}</td>\n",
       "      <td>0.937856</td>\n",
       "      <td>0.968354</td>\n",
       "      <td>0.929412</td>\n",
       "      <td>0.929036</td>\n",
       "      <td>...</td>\n",
       "      <td>0.923805</td>\n",
       "      <td>0.037583</td>\n",
       "      <td>2</td>\n",
       "      <td>0.934957</td>\n",
       "      <td>0.943358</td>\n",
       "      <td>0.960547</td>\n",
       "      <td>0.944691</td>\n",
       "      <td>0.933738</td>\n",
       "      <td>0.943458</td>\n",
       "      <td>0.009595</td>\n",
       "    </tr>\n",
       "    <tr>\n",
       "      <th>9</th>\n",
       "      <td>1.794841</td>\n",
       "      <td>0.224799</td>\n",
       "      <td>0.003125</td>\n",
       "      <td>0.006250</td>\n",
       "      <td>10</td>\n",
       "      <td>{'n_features_to_select': 10}</td>\n",
       "      <td>0.937856</td>\n",
       "      <td>0.968354</td>\n",
       "      <td>0.929412</td>\n",
       "      <td>0.929036</td>\n",
       "      <td>...</td>\n",
       "      <td>0.923805</td>\n",
       "      <td>0.037583</td>\n",
       "      <td>2</td>\n",
       "      <td>0.934957</td>\n",
       "      <td>0.943358</td>\n",
       "      <td>0.952656</td>\n",
       "      <td>0.944691</td>\n",
       "      <td>0.933738</td>\n",
       "      <td>0.941880</td>\n",
       "      <td>0.006934</td>\n",
       "    </tr>\n",
       "    <tr>\n",
       "      <th>10</th>\n",
       "      <td>1.753490</td>\n",
       "      <td>0.230547</td>\n",
       "      <td>0.000000</td>\n",
       "      <td>0.000000</td>\n",
       "      <td>11</td>\n",
       "      <td>{'n_features_to_select': 11}</td>\n",
       "      <td>0.937856</td>\n",
       "      <td>1.000000</td>\n",
       "      <td>0.929412</td>\n",
       "      <td>0.893554</td>\n",
       "      <td>...</td>\n",
       "      <td>0.923038</td>\n",
       "      <td>0.048514</td>\n",
       "      <td>6</td>\n",
       "      <td>0.934957</td>\n",
       "      <td>0.910991</td>\n",
       "      <td>0.952656</td>\n",
       "      <td>0.936790</td>\n",
       "      <td>0.942021</td>\n",
       "      <td>0.935483</td>\n",
       "      <td>0.013708</td>\n",
       "    </tr>\n",
       "  </tbody>\n",
       "</table>\n",
       "<p>11 rows × 21 columns</p>\n",
       "</div>"
      ],
      "text/plain": [
       "    mean_fit_time  std_fit_time  mean_score_time  std_score_time  \\\n",
       "0        1.866800      0.217061         0.000000        0.000000   \n",
       "1        1.902275      0.226385         0.003125        0.006251   \n",
       "2        1.878426      0.215173         0.000000        0.000000   \n",
       "3        1.894225      0.221302         0.000000        0.000000   \n",
       "4        1.853288      0.221038         0.003125        0.006250   \n",
       "5        1.850369      0.223578         0.000000        0.000000   \n",
       "6        1.846674      0.221245         0.000285        0.000571   \n",
       "7        1.788982      0.210315         0.000000        0.000000   \n",
       "8        1.812067      0.230460         0.001400        0.000490   \n",
       "9        1.794841      0.224799         0.003125        0.006250   \n",
       "10       1.753490      0.230547         0.000000        0.000000   \n",
       "\n",
       "   param_n_features_to_select                        params  \\\n",
       "0                           1   {'n_features_to_select': 1}   \n",
       "1                           2   {'n_features_to_select': 2}   \n",
       "2                           3   {'n_features_to_select': 3}   \n",
       "3                           4   {'n_features_to_select': 4}   \n",
       "4                           5   {'n_features_to_select': 5}   \n",
       "5                           6   {'n_features_to_select': 6}   \n",
       "6                           7   {'n_features_to_select': 7}   \n",
       "7                           8   {'n_features_to_select': 8}   \n",
       "8                           9   {'n_features_to_select': 9}   \n",
       "9                          10  {'n_features_to_select': 10}   \n",
       "10                         11  {'n_features_to_select': 11}   \n",
       "\n",
       "    split0_test_score  split1_test_score  split2_test_score  \\\n",
       "0            0.937856           0.968354           0.964706   \n",
       "1            0.937856           0.968354           0.929412   \n",
       "2            0.937856           0.968354           0.929412   \n",
       "3            0.937856           0.968354           0.929412   \n",
       "4            0.937856           0.968354           0.929412   \n",
       "5            0.937856           0.968354           0.929412   \n",
       "6            0.937856           0.968354           0.929412   \n",
       "7            0.937856           0.968354           0.929412   \n",
       "8            0.937856           0.968354           0.929412   \n",
       "9            0.937856           0.968354           0.929412   \n",
       "10           0.937856           1.000000           0.929412   \n",
       "\n",
       "    split3_test_score  ...  mean_test_score  std_test_score  rank_test_score  \\\n",
       "0            0.929036  ...         0.942515        0.021247                1   \n",
       "1            0.893554  ...         0.916709        0.039238                7   \n",
       "2            0.893554  ...         0.916709        0.039238                7   \n",
       "3            0.893554  ...         0.916709        0.039238                7   \n",
       "4            0.893554  ...         0.916709        0.039238                7   \n",
       "5            0.893554  ...         0.916709        0.039238                7   \n",
       "6            0.929036  ...         0.923805        0.037583                2   \n",
       "7            0.929036  ...         0.923805        0.037583                2   \n",
       "8            0.929036  ...         0.923805        0.037583                2   \n",
       "9            0.929036  ...         0.923805        0.037583                2   \n",
       "10           0.893554  ...         0.923038        0.048514                6   \n",
       "\n",
       "    split0_train_score  split1_train_score  split2_train_score  \\\n",
       "0             0.943088            0.935266            0.936875   \n",
       "1             0.910566            0.959541            0.968438   \n",
       "2             0.910566            0.959541            0.960547   \n",
       "3             0.910566            0.951450            0.960547   \n",
       "4             0.926827            0.951450            0.960547   \n",
       "5             0.926827            0.951450            0.960547   \n",
       "6             0.934957            0.935266            0.960547   \n",
       "7             0.934957            0.943358            0.960547   \n",
       "8             0.934957            0.943358            0.960547   \n",
       "9             0.934957            0.943358            0.952656   \n",
       "10            0.934957            0.910991            0.952656   \n",
       "\n",
       "    split3_train_score  split4_train_score  mean_train_score  std_train_score  \n",
       "0             0.944691            0.950304          0.942045         0.005458  \n",
       "1             0.920988            0.933738          0.938654         0.022129  \n",
       "2             0.920988            0.933738          0.937076         0.020141  \n",
       "3             0.920988            0.933738          0.935458         0.018532  \n",
       "4             0.920988            0.933738          0.938710         0.014961  \n",
       "5             0.936790            0.933738          0.941870         0.012319  \n",
       "6             0.944691            0.933738          0.941840         0.010142  \n",
       "7             0.944691            0.933738          0.943458         0.009595  \n",
       "8             0.944691            0.933738          0.943458         0.009595  \n",
       "9             0.944691            0.933738          0.941880         0.006934  \n",
       "10            0.936790            0.942021          0.935483         0.013708  \n",
       "\n",
       "[11 rows x 21 columns]"
      ]
     },
     "execution_count": 41,
     "metadata": {},
     "output_type": "execute_result"
    }
   ],
   "source": [
    "cv_results = pd.DataFrame(model_cv.cv_results_)\n",
    "cv_results"
   ]
  },
  {
   "cell_type": "code",
   "execution_count": 42,
   "id": "7b8a1bcd",
   "metadata": {},
   "outputs": [
    {
     "name": "stdout",
     "output_type": "stream",
     "text": [
      "K-fold cross validation average accuracy: 0.953\n"
     ]
    }
   ],
   "source": [
    "from sklearn import model_selection\n",
    "from sklearn.model_selection import cross_val_score\n",
    "kfold = model_selection.KFold(n_splits= 5)\n",
    "modelCV = LogisticRegression(solver='lbfgs', max_iter=10000)\n",
    "scoring = 'accuracy'\n",
    "results = model_selection.cross_val_score(modelCV, X_train, y_train, cv=kfold, scoring=scoring)\n",
    "print(\"K-fold cross validation average accuracy: %.3f\" % (results.mean()))"
   ]
  },
  {
   "cell_type": "code",
   "execution_count": 43,
   "id": "9d5b38bf",
   "metadata": {},
   "outputs": [
    {
     "name": "stdout",
     "output_type": "stream",
     "text": [
      "              precision    recall  f1-score   support\n",
      "\n",
      "           0       1.00      1.00      1.00       142\n",
      "           1       0.96      1.00      0.98       334\n",
      "           2       0.94      0.94      0.94       203\n",
      "           3       1.00      0.43      0.60        21\n",
      "\n",
      "    accuracy                           0.96       700\n",
      "   macro avg       0.97      0.84      0.88       700\n",
      "weighted avg       0.96      0.96      0.96       700\n",
      "\n"
     ]
    }
   ],
   "source": [
    "from sklearn.metrics import classification_report\n",
    "print(classification_report(y_test, y_pred))"
   ]
  },
  {
   "cell_type": "code",
   "execution_count": 50,
   "id": "9dd29e04",
   "metadata": {},
   "outputs": [
    {
     "data": {
      "text/plain": [
       "<matplotlib.legend.Legend at 0x2938f1c80d0>"
      ]
     },
     "execution_count": 50,
     "metadata": {},
     "output_type": "execute_result"
    },
    {
     "data": {
      "image/png": "[encoded data removed]",
      "text/plain": [
       "<Figure size 864x288 with 1 Axes>"
      ]
     },
     "metadata": {
      "needs_background": "light"
     },
     "output_type": "display_data"
    }
   ],
   "source": [
    "plt.figure(figsize=(12,4))\n",
    "\n",
    "plt.plot(cv_results[\"param_n_features_to_select\"], cv_results[\"mean_test_score\"])\n",
    "plt.plot(cv_results[\"param_n_features_to_select\"], cv_results[\"mean_train_score\"])\n",
    "plt.xlabel('number of features')\n",
    "plt.ylabel('r-squared')\n",
    "plt.title(\"Optimal Number of Features\")\n",
    "plt.legend(['test score', 'train score'], loc='upper left')"
   ]
  }
 ],
 "metadata": {
  "kernelspec": {
   "display_name": "Python 3 (ipykernel)",
   "language": "python",
   "name": "python3"
  },
  "language_info": {
   "codemirror_mode": {
    "name": "ipython",
    "version": 3
   },
   "file_extension": ".py",
   "mimetype": "text/x-python",
   "name": "python",
   "nbconvert_exporter": "python",
   "pygments_lexer": "ipython3",
   "version": "3.9.6"
  }
 },
 "nbformat": 4,
 "nbformat_minor": 5
}
