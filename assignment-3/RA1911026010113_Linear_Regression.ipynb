{
  "nbformat": 4,
  "nbformat_minor": 0,
  "metadata": {
    "colab": {
      "name": "RA1911026010113_Linear_Regression.ipynb",
      "provenance": []
    },
    "kernelspec": {
      "name": "python3",
      "display_name": "Python 3"
    },
    "language_info": {
      "name": "python"
    }
  },
  "cells": [
    {
      "cell_type": "markdown",
      "metadata": {
        "id": "EgpHhHvqkoAw"
      },
      "source": [
        "Dataset Used : https://www.kaggle.com/vinicius150987/ice-cream-revenue\n",
        "\n",
        "#Importing the Libraries\n",
        "\n"
      ]
    },
    {
      "cell_type": "code",
      "metadata": {
        "id": "tvlzYfshBHdZ"
      },
      "source": [
        "import numpy as np\n",
        "import matplotlib.pyplot as plt\n",
        "import pandas as pd\n",
        "from sklearn.model_selection import KFold \n",
        "from sklearn.model_selection import train_test_split\n",
        "from sklearn.linear_model import LinearRegression\n",
        "from sklearn.metrics import r2_score"
      ],
      "execution_count": 10,
      "outputs": []
    },
    {
      "cell_type": "markdown",
      "metadata": {
        "id": "h9nRPNH4kuhA"
      },
      "source": [
        "#Importing the Dataset"
      ]
    },
    {
      "cell_type": "code",
      "metadata": {
        "id": "KfBkaUtXhnFh"
      },
      "source": [
        "dataset = pd.read_csv('IceCreamData.csv')\n",
        "X = dataset.iloc[:, :-1].values\n",
        "y = dataset.iloc[:, -1].values"
      ],
      "execution_count": 11,
      "outputs": []
    },
    {
      "cell_type": "markdown",
      "metadata": {
        "id": "36wTqO2Xk30w"
      },
      "source": [
        "#Splitting the Dataset"
      ]
    },
    {
      "cell_type": "code",
      "metadata": {
        "id": "L79s4N53iIB5"
      },
      "source": [
        "X_train, X_test, y_train, y_test = train_test_split(X, y, test_size = 0.2, random_state = 0)"
      ],
      "execution_count": 12,
      "outputs": []
    },
    {
      "cell_type": "markdown",
      "metadata": {
        "id": "_J_UApJHk8bn"
      },
      "source": [
        "#Training the Linear Regression model"
      ]
    },
    {
      "cell_type": "code",
      "metadata": {
        "colab": {
          "base_uri": "https://localhost:8080/"
        },
        "id": "RghR4VR_iKSg",
        "outputId": "6be9e93f-ef6c-4549-a502-3875a96b807f"
      },
      "source": [
        "regressor = LinearRegression()\n",
        "regressor.fit(X_train, y_train)"
      ],
      "execution_count": 13,
      "outputs": [
        {
          "output_type": "execute_result",
          "data": {
            "text/plain": [
              "LinearRegression(copy_X=True, fit_intercept=True, n_jobs=None, normalize=False)"
            ]
          },
          "metadata": {},
          "execution_count": 13
        }
      ]
    },
    {
      "cell_type": "code",
      "metadata": {
        "id": "_APa9c3KiMHH"
      },
      "source": [
        "pred = regressor.predict(X_test)"
      ],
      "execution_count": 14,
      "outputs": []
    },
    {
      "cell_type": "markdown",
      "metadata": {
        "id": "GpptbgdylDz3"
      },
      "source": [
        "#Validation"
      ]
    },
    {
      "cell_type": "code",
      "metadata": {
        "colab": {
          "base_uri": "https://localhost:8080/"
        },
        "id": "9VzIBjVfilhX",
        "outputId": "31621652-a8f5-42b7-d51d-28bd197c4ee5"
      },
      "source": [
        "k = 5\n",
        "kf = KFold(n_splits=5, random_state=None)\n",
        "model = LinearRegression()\n",
        " \n",
        "acc_score = []\n",
        " \n",
        "for train_index , test_index in kf.split(X):\n",
        "    X_train , X_test = X[train_index,:],X[test_index,:]\n",
        "    y_train , y_test = y[train_index] , y[test_index]\n",
        "     \n",
        "    model.fit(X_train,y_train)\n",
        "    pred_values = model.predict(X_test)\n",
        "    acc = r2_score(pred_values , y_test)\n",
        "    acc_score.append(acc)\n",
        "\n",
        "avg_acc_score = sum(acc_score)/k\n",
        " \n",
        "print('Accuracy of each fold - {}'.format(acc_score))\n",
        "print('Avg accuracy : {}'.format(avg_acc_score))"
      ],
      "execution_count": 15,
      "outputs": [
        {
          "output_type": "stream",
          "name": "stdout",
          "text": [
            "Accuracy of each fold - [0.9840884586324629, 0.9759742468786446, 0.9748663513774655, 0.9835811387684941, 0.9735420576976559]\n",
            "Avg accuracy : 0.9784104506709446\n"
          ]
        }
      ]
    },
    {
      "cell_type": "markdown",
      "metadata": {
        "id": "rZKxt1zYlJdf"
      },
      "source": [
        "#Data Representation"
      ]
    },
    {
      "cell_type": "code",
      "metadata": {
        "colab": {
          "base_uri": "https://localhost:8080/",
          "height": 295
        },
        "id": "aWipyx48iw33",
        "outputId": "9761eb7b-6cc1-4953-8c35-c59b68d09dd4"
      },
      "source": [
        "plt.scatter(X_train,y_train,color='red')\n",
        "plt.plot(X_train ,regressor.predict(X_train),color='blue')\n",
        "plt.title('Train')\n",
        "plt.xlabel('Temperature')\n",
        "plt.ylabel('Revenue')\n",
        "plt.show()"
      ],
      "execution_count": 16,
      "outputs": [
        {
          "output_type": "display_data",
          "data": {
            "image/png": "[encoded data removed]",
            "text/plain": [
              "<Figure size 432x288 with 1 Axes>"
            ]
          },
          "metadata": {
            "needs_background": "light"
          }
        }
      ]
    },
    {
      "cell_type": "code",
      "metadata": {
        "colab": {
          "base_uri": "https://localhost:8080/",
          "height": 295
        },
        "id": "liqEnnBZkcyt",
        "outputId": "5f1fc827-fba5-43c3-e24c-9929515cc386"
      },
      "source": [
        "plt.scatter(X_test,y_test,color='red')\n",
        "plt.plot(X_train ,regressor.predict(X_train),color='blue')\n",
        "plt.title('Train')\n",
        "plt.xlabel('Temperature')\n",
        "plt.ylabel('Revenue')\n",
        "plt.show()"
      ],
      "execution_count": 17,
      "outputs": [
        {
          "output_type": "display_data",
          "data": {
            "image/png": "[encoded data removed]",
            "text/plain": [
              "<Figure size 432x288 with 1 Axes>"
            ]
          },
          "metadata": {
            "needs_background": "light"
          }
        }
      ]
    }
  ]
}