{
  "nbformat": 4,
  "nbformat_minor": 0,
  "metadata": {
    "kernelspec": {
      "language": "python",
      "display_name": "Python 3",
      "name": "python3"
    },
    "language_info": {
      "name": "python",
      "version": "3.7.10",
      "mimetype": "text/x-python",
      "codemirror_mode": {
        "name": "ipython",
        "version": 3
      },
      "pygments_lexer": "ipython3",
      "nbconvert_exporter": "python",
      "file_extension": ".py"
    },
    "colab": {
      "name": "fraud-detection-machine-learning.ipynb",
      "provenance": []
    }
  },
  "cells": [
    {
      "cell_type": "markdown",
      "metadata": {
        "_uuid": "8f2839f25d086af736a60e9eeb907d3b93b6e0e5",
        "_cell_guid": "b1076dfc-b9ad-4769-8c92-a6c4dae69d19",
        "id": "m1TXHub3Kqsg"
      },
      "source": [
        "# Fraud Transaction Detection Machine Learning\n",
        "\n",
        "The objective is to classify the data transactions as either legitimate (class 0) or fradulent (class 1) using a machine learning model. Four machine learning models will be trained and tested to determine which will yield the best results:\n",
        "\n",
        "- Decision Trees\n",
        "- Random Forest"
      ]
    },
    {
      "cell_type": "code",
      "metadata": {
        "execution": {
          "iopub.status.busy": "2021-10-21T09:22:03.371379Z",
          "iopub.execute_input": "2021-10-21T09:22:03.371629Z",
          "iopub.status.idle": "2021-10-21T09:22:03.378803Z",
          "shell.execute_reply.started": "2021-10-21T09:22:03.371603Z",
          "shell.execute_reply": "2021-10-21T09:22:03.377973Z"
        },
        "trusted": true,
        "id": "4N4jnML2Kqsk"
      },
      "source": [
        "import pandas as pd\n",
        "import numpy as np\n",
        "import matplotlib.pyplot as plt\n",
        "import seaborn as sns\n",
        "%matplotlib inline"
      ],
      "execution_count": 1,
      "outputs": []
    },
    {
      "cell_type": "code",
      "metadata": {
        "colab": {
          "base_uri": "https://localhost:8080/"
        },
        "id": "s5-dvQMBNAAi",
        "outputId": "d34156fc-eb7c-45ed-9025-2d5b4fca4942"
      },
      "source": [
        "! pip install kaggle"
      ],
      "execution_count": 2,
      "outputs": [
        {
          "output_type": "stream",
          "name": "stdout",
          "text": [
            "Requirement already satisfied: kaggle in /usr/local/lib/python3.7/dist-packages (1.5.12)\n",
            "Requirement already satisfied: six>=1.10 in /usr/local/lib/python3.7/dist-packages (from kaggle) (1.15.0)\n",
            "Requirement already satisfied: python-slugify in /usr/local/lib/python3.7/dist-packages (from kaggle) (5.0.2)\n",
            "Requirement already satisfied: python-dateutil in /usr/local/lib/python3.7/dist-packages (from kaggle) (2.8.2)\n",
            "Requirement already satisfied: tqdm in /usr/local/lib/python3.7/dist-packages (from kaggle) (4.62.3)\n",
            "Requirement already satisfied: requests in /usr/local/lib/python3.7/dist-packages (from kaggle) (2.23.0)\n",
            "Requirement already satisfied: urllib3 in /usr/local/lib/python3.7/dist-packages (from kaggle) (1.24.3)\n",
            "Requirement already satisfied: certifi in /usr/local/lib/python3.7/dist-packages (from kaggle) (2021.5.30)\n",
            "Requirement already satisfied: text-unidecode>=1.3 in /usr/local/lib/python3.7/dist-packages (from python-slugify->kaggle) (1.3)\n",
            "Requirement already satisfied: chardet<4,>=3.0.2 in /usr/local/lib/python3.7/dist-packages (from requests->kaggle) (3.0.4)\n",
            "Requirement already satisfied: idna<3,>=2.5 in /usr/local/lib/python3.7/dist-packages (from requests->kaggle) (2.10)\n"
          ]
        }
      ]
    },
    {
      "cell_type": "code",
      "metadata": {
        "colab": {
          "base_uri": "https://localhost:8080/"
        },
        "id": "NOGJMTMlNBI-",
        "outputId": "045ccc9f-9599-4b0a-f3bb-b27129cb609a"
      },
      "source": [
        "! mkdir ~/.kaggle"
      ],
      "execution_count": 5,
      "outputs": [
        {
          "output_type": "stream",
          "name": "stdout",
          "text": [
            "mkdir: cannot create directory ‘/root/.kaggle’: File exists\n"
          ]
        }
      ]
    },
    {
      "cell_type": "code",
      "metadata": {
        "id": "qaokNeV7NG4N"
      },
      "source": [
        "! cp kaggle.json ~/.kaggle/"
      ],
      "execution_count": 6,
      "outputs": []
    },
    {
      "cell_type": "code",
      "metadata": {
        "id": "Ag8cb0IvNKFU"
      },
      "source": [
        "! chmod 600 ~/.kaggle/kaggle.json"
      ],
      "execution_count": 7,
      "outputs": []
    },
    {
      "cell_type": "code",
      "metadata": {
        "colab": {
          "base_uri": "https://localhost:8080/"
        },
        "id": "iqPE0Mv9Naet",
        "outputId": "51772943-8610-4aaf-ab4a-ff6bf502182c"
      },
      "source": [
        "! kaggle datasets download -d mlg-ulb/creditcardfraud"
      ],
      "execution_count": 8,
      "outputs": [
        {
          "output_type": "stream",
          "name": "stdout",
          "text": [
            "Downloading creditcardfraud.zip to /content\n",
            " 70% 46.0M/66.0M [00:00<00:00, 121MB/s]\n",
            "100% 66.0M/66.0M [00:00<00:00, 134MB/s]\n"
          ]
        }
      ]
    },
    {
      "cell_type": "code",
      "metadata": {
        "colab": {
          "base_uri": "https://localhost:8080/"
        },
        "id": "uur5XC2fOMdu",
        "outputId": "eb6188eb-e38a-4ef2-9168-67f936fabcb8"
      },
      "source": [
        "! unzip creditcardfraud"
      ],
      "execution_count": 10,
      "outputs": [
        {
          "output_type": "stream",
          "name": "stdout",
          "text": [
            "Archive:  creditcardfraud.zip\n",
            "  inflating: creditcard.csv          \n"
          ]
        }
      ]
    },
    {
      "cell_type": "code",
      "metadata": {
        "execution": {
          "iopub.status.busy": "2021-10-21T09:22:05.151161Z",
          "iopub.execute_input": "2021-10-21T09:22:05.151668Z",
          "iopub.status.idle": "2021-10-21T09:22:07.258080Z",
          "shell.execute_reply.started": "2021-10-21T09:22:05.151618Z",
          "shell.execute_reply": "2021-10-21T09:22:07.256907Z"
        },
        "trusted": true,
        "colab": {
          "base_uri": "https://localhost:8080/",
          "height": 225
        },
        "id": "ANDMDJNEKqsm",
        "outputId": "67f62fa8-38f6-42d1-d295-e574e4156257"
      },
      "source": [
        "cards = pd.read_csv('creditcard.csv')\n",
        "\n",
        "cards.head()"
      ],
      "execution_count": 11,
      "outputs": [
        {
          "output_type": "execute_result",
          "data": {
            "text/html": [
              "<div>\n",
              "<style scoped>\n",
              "    .dataframe tbody tr th:only-of-type {\n",
              "        vertical-align: middle;\n",
              "    }\n",
              "\n",
              "    .dataframe tbody tr th {\n",
              "        vertical-align: top;\n",
              "    }\n",
              "\n",
              "    .dataframe thead th {\n",
              "        text-align: right;\n",
              "    }\n",
              "</style>\n",
              "<table border=\"1\" class=\"dataframe\">\n",
              "  <thead>\n",
              "    <tr style=\"text-align: right;\">\n",
              "      <th></th>\n",
              "      <th>Time</th>\n",
              "      <th>V1</th>\n",
              "      <th>V2</th>\n",
              "      <th>V3</th>\n",
              "      <th>V4</th>\n",
              "      <th>V5</th>\n",
              "      <th>V6</th>\n",
              "      <th>V7</th>\n",
              "      <th>V8</th>\n",
              "      <th>V9</th>\n",
              "      <th>V10</th>\n",
              "      <th>V11</th>\n",
              "      <th>V12</th>\n",
              "      <th>V13</th>\n",
              "      <th>V14</th>\n",
              "      <th>V15</th>\n",
              "      <th>V16</th>\n",
              "      <th>V17</th>\n",
              "      <th>V18</th>\n",
              "      <th>V19</th>\n",
              "      <th>V20</th>\n",
              "      <th>V21</th>\n",
              "      <th>V22</th>\n",
              "      <th>V23</th>\n",
              "      <th>V24</th>\n",
              "      <th>V25</th>\n",
              "      <th>V26</th>\n",
              "      <th>V27</th>\n",
              "      <th>V28</th>\n",
              "      <th>Amount</th>\n",
              "      <th>Class</th>\n",
              "    </tr>\n",
              "  </thead>\n",
              "  <tbody>\n",
              "    <tr>\n",
              "      <th>0</th>\n",
              "      <td>0.0</td>\n",
              "      <td>-1.359807</td>\n",
              "      <td>-0.072781</td>\n",
              "      <td>2.536347</td>\n",
              "      <td>1.378155</td>\n",
              "      <td>-0.338321</td>\n",
              "      <td>0.462388</td>\n",
              "      <td>0.239599</td>\n",
              "      <td>0.098698</td>\n",
              "      <td>0.363787</td>\n",
              "      <td>0.090794</td>\n",
              "      <td>-0.551600</td>\n",
              "      <td>-0.617801</td>\n",
              "      <td>-0.991390</td>\n",
              "      <td>-0.311169</td>\n",
              "      <td>1.468177</td>\n",
              "      <td>-0.470401</td>\n",
              "      <td>0.207971</td>\n",
              "      <td>0.025791</td>\n",
              "      <td>0.403993</td>\n",
              "      <td>0.251412</td>\n",
              "      <td>-0.018307</td>\n",
              "      <td>0.277838</td>\n",
              "      <td>-0.110474</td>\n",
              "      <td>0.066928</td>\n",
              "      <td>0.128539</td>\n",
              "      <td>-0.189115</td>\n",
              "      <td>0.133558</td>\n",
              "      <td>-0.021053</td>\n",
              "      <td>149.62</td>\n",
              "      <td>0</td>\n",
              "    </tr>\n",
              "    <tr>\n",
              "      <th>1</th>\n",
              "      <td>0.0</td>\n",
              "      <td>1.191857</td>\n",
              "      <td>0.266151</td>\n",
              "      <td>0.166480</td>\n",
              "      <td>0.448154</td>\n",
              "      <td>0.060018</td>\n",
              "      <td>-0.082361</td>\n",
              "      <td>-0.078803</td>\n",
              "      <td>0.085102</td>\n",
              "      <td>-0.255425</td>\n",
              "      <td>-0.166974</td>\n",
              "      <td>1.612727</td>\n",
              "      <td>1.065235</td>\n",
              "      <td>0.489095</td>\n",
              "      <td>-0.143772</td>\n",
              "      <td>0.635558</td>\n",
              "      <td>0.463917</td>\n",
              "      <td>-0.114805</td>\n",
              "      <td>-0.183361</td>\n",
              "      <td>-0.145783</td>\n",
              "      <td>-0.069083</td>\n",
              "      <td>-0.225775</td>\n",
              "      <td>-0.638672</td>\n",
              "      <td>0.101288</td>\n",
              "      <td>-0.339846</td>\n",
              "      <td>0.167170</td>\n",
              "      <td>0.125895</td>\n",
              "      <td>-0.008983</td>\n",
              "      <td>0.014724</td>\n",
              "      <td>2.69</td>\n",
              "      <td>0</td>\n",
              "    </tr>\n",
              "    <tr>\n",
              "      <th>2</th>\n",
              "      <td>1.0</td>\n",
              "      <td>-1.358354</td>\n",
              "      <td>-1.340163</td>\n",
              "      <td>1.773209</td>\n",
              "      <td>0.379780</td>\n",
              "      <td>-0.503198</td>\n",
              "      <td>1.800499</td>\n",
              "      <td>0.791461</td>\n",
              "      <td>0.247676</td>\n",
              "      <td>-1.514654</td>\n",
              "      <td>0.207643</td>\n",
              "      <td>0.624501</td>\n",
              "      <td>0.066084</td>\n",
              "      <td>0.717293</td>\n",
              "      <td>-0.165946</td>\n",
              "      <td>2.345865</td>\n",
              "      <td>-2.890083</td>\n",
              "      <td>1.109969</td>\n",
              "      <td>-0.121359</td>\n",
              "      <td>-2.261857</td>\n",
              "      <td>0.524980</td>\n",
              "      <td>0.247998</td>\n",
              "      <td>0.771679</td>\n",
              "      <td>0.909412</td>\n",
              "      <td>-0.689281</td>\n",
              "      <td>-0.327642</td>\n",
              "      <td>-0.139097</td>\n",
              "      <td>-0.055353</td>\n",
              "      <td>-0.059752</td>\n",
              "      <td>378.66</td>\n",
              "      <td>0</td>\n",
              "    </tr>\n",
              "    <tr>\n",
              "      <th>3</th>\n",
              "      <td>1.0</td>\n",
              "      <td>-0.966272</td>\n",
              "      <td>-0.185226</td>\n",
              "      <td>1.792993</td>\n",
              "      <td>-0.863291</td>\n",
              "      <td>-0.010309</td>\n",
              "      <td>1.247203</td>\n",
              "      <td>0.237609</td>\n",
              "      <td>0.377436</td>\n",
              "      <td>-1.387024</td>\n",
              "      <td>-0.054952</td>\n",
              "      <td>-0.226487</td>\n",
              "      <td>0.178228</td>\n",
              "      <td>0.507757</td>\n",
              "      <td>-0.287924</td>\n",
              "      <td>-0.631418</td>\n",
              "      <td>-1.059647</td>\n",
              "      <td>-0.684093</td>\n",
              "      <td>1.965775</td>\n",
              "      <td>-1.232622</td>\n",
              "      <td>-0.208038</td>\n",
              "      <td>-0.108300</td>\n",
              "      <td>0.005274</td>\n",
              "      <td>-0.190321</td>\n",
              "      <td>-1.175575</td>\n",
              "      <td>0.647376</td>\n",
              "      <td>-0.221929</td>\n",
              "      <td>0.062723</td>\n",
              "      <td>0.061458</td>\n",
              "      <td>123.50</td>\n",
              "      <td>0</td>\n",
              "    </tr>\n",
              "    <tr>\n",
              "      <th>4</th>\n",
              "      <td>2.0</td>\n",
              "      <td>-1.158233</td>\n",
              "      <td>0.877737</td>\n",
              "      <td>1.548718</td>\n",
              "      <td>0.403034</td>\n",
              "      <td>-0.407193</td>\n",
              "      <td>0.095921</td>\n",
              "      <td>0.592941</td>\n",
              "      <td>-0.270533</td>\n",
              "      <td>0.817739</td>\n",
              "      <td>0.753074</td>\n",
              "      <td>-0.822843</td>\n",
              "      <td>0.538196</td>\n",
              "      <td>1.345852</td>\n",
              "      <td>-1.119670</td>\n",
              "      <td>0.175121</td>\n",
              "      <td>-0.451449</td>\n",
              "      <td>-0.237033</td>\n",
              "      <td>-0.038195</td>\n",
              "      <td>0.803487</td>\n",
              "      <td>0.408542</td>\n",
              "      <td>-0.009431</td>\n",
              "      <td>0.798278</td>\n",
              "      <td>-0.137458</td>\n",
              "      <td>0.141267</td>\n",
              "      <td>-0.206010</td>\n",
              "      <td>0.502292</td>\n",
              "      <td>0.219422</td>\n",
              "      <td>0.215153</td>\n",
              "      <td>69.99</td>\n",
              "      <td>0</td>\n",
              "    </tr>\n",
              "  </tbody>\n",
              "</table>\n",
              "</div>"
            ],
            "text/plain": [
              "   Time        V1        V2        V3  ...       V27       V28  Amount  Class\n",
              "0   0.0 -1.359807 -0.072781  2.536347  ...  0.133558 -0.021053  149.62      0\n",
              "1   0.0  1.191857  0.266151  0.166480  ... -0.008983  0.014724    2.69      0\n",
              "2   1.0 -1.358354 -1.340163  1.773209  ... -0.055353 -0.059752  378.66      0\n",
              "3   1.0 -0.966272 -0.185226  1.792993  ...  0.062723  0.061458  123.50      0\n",
              "4   2.0 -1.158233  0.877737  1.548718  ...  0.219422  0.215153   69.99      0\n",
              "\n",
              "[5 rows x 31 columns]"
            ]
          },
          "metadata": {},
          "execution_count": 11
        }
      ]
    },
    {
      "cell_type": "code",
      "metadata": {
        "execution": {
          "iopub.status.busy": "2021-10-21T09:22:09.487583Z",
          "iopub.execute_input": "2021-10-21T09:22:09.487820Z",
          "iopub.status.idle": "2021-10-21T09:22:09.493591Z",
          "shell.execute_reply.started": "2021-10-21T09:22:09.487794Z",
          "shell.execute_reply": "2021-10-21T09:22:09.493024Z"
        },
        "trusted": true,
        "colab": {
          "base_uri": "https://localhost:8080/"
        },
        "id": "ufVzTFL-Kqsm",
        "outputId": "b5cf3704-71b9-4ae2-9483-e842789b6337"
      },
      "source": [
        "cards.columns"
      ],
      "execution_count": 13,
      "outputs": [
        {
          "output_type": "execute_result",
          "data": {
            "text/plain": [
              "Index(['Time', 'V1', 'V2', 'V3', 'V4', 'V5', 'V6', 'V7', 'V8', 'V9', 'V10',\n",
              "       'V11', 'V12', 'V13', 'V14', 'V15', 'V16', 'V17', 'V18', 'V19', 'V20',\n",
              "       'V21', 'V22', 'V23', 'V24', 'V25', 'V26', 'V27', 'V28', 'Amount',\n",
              "       'Class'],\n",
              "      dtype='object')"
            ]
          },
          "metadata": {},
          "execution_count": 13
        }
      ]
    },
    {
      "cell_type": "markdown",
      "metadata": {
        "id": "LRYuMr4jKqsn"
      },
      "source": [
        "# Checking for Missing Values"
      ]
    },
    {
      "cell_type": "code",
      "metadata": {
        "execution": {
          "iopub.status.busy": "2021-10-21T09:22:14.148427Z",
          "iopub.execute_input": "2021-10-21T09:22:14.148917Z",
          "iopub.status.idle": "2021-10-21T09:22:14.165132Z",
          "shell.execute_reply.started": "2021-10-21T09:22:14.148866Z",
          "shell.execute_reply": "2021-10-21T09:22:14.164278Z"
        },
        "trusted": true,
        "colab": {
          "base_uri": "https://localhost:8080/"
        },
        "id": "yQtSMUOnKqsn",
        "outputId": "a9a76623-24a6-429f-9cce-8a3f193ed971"
      },
      "source": [
        "cards.isna().any().any()"
      ],
      "execution_count": 14,
      "outputs": [
        {
          "output_type": "execute_result",
          "data": {
            "text/plain": [
              "False"
            ]
          },
          "metadata": {},
          "execution_count": 14
        }
      ]
    },
    {
      "cell_type": "code",
      "metadata": {
        "execution": {
          "iopub.status.busy": "2021-10-21T09:22:16.056073Z",
          "iopub.execute_input": "2021-10-21T09:22:16.056360Z",
          "iopub.status.idle": "2021-10-21T09:22:16.829272Z",
          "shell.execute_reply.started": "2021-10-21T09:22:16.056330Z",
          "shell.execute_reply": "2021-10-21T09:22:16.828421Z"
        },
        "trusted": true,
        "colab": {
          "base_uri": "https://localhost:8080/"
        },
        "id": "D7x5tt_cKqso",
        "outputId": "f35c8dfa-791e-450d-a805-0e5beafeb761"
      },
      "source": [
        "cc = cards.corr() \n",
        "\n",
        "cc[\"Class\"].sort_values()"
      ],
      "execution_count": 15,
      "outputs": [
        {
          "output_type": "execute_result",
          "data": {
            "text/plain": [
              "V17      -0.326481\n",
              "V14      -0.302544\n",
              "V12      -0.260593\n",
              "V10      -0.216883\n",
              "V16      -0.196539\n",
              "V3       -0.192961\n",
              "V7       -0.187257\n",
              "V18      -0.111485\n",
              "V1       -0.101347\n",
              "V9       -0.097733\n",
              "V5       -0.094974\n",
              "V6       -0.043643\n",
              "Time     -0.012323\n",
              "V24      -0.007221\n",
              "V13      -0.004570\n",
              "V15      -0.004223\n",
              "V23      -0.002685\n",
              "V22       0.000805\n",
              "V25       0.003308\n",
              "V26       0.004455\n",
              "Amount    0.005632\n",
              "V28       0.009536\n",
              "V27       0.017580\n",
              "V8        0.019875\n",
              "V20       0.020090\n",
              "V19       0.034783\n",
              "V21       0.040413\n",
              "V2        0.091289\n",
              "V4        0.133447\n",
              "V11       0.154876\n",
              "Class     1.000000\n",
              "Name: Class, dtype: float64"
            ]
          },
          "metadata": {},
          "execution_count": 15
        }
      ]
    },
    {
      "cell_type": "markdown",
      "metadata": {
        "id": "r_I3sXcDKqso"
      },
      "source": [
        "## Amount\n",
        "\n",
        "### Fraudulent Transaction Amount"
      ]
    },
    {
      "cell_type": "code",
      "metadata": {
        "execution": {
          "iopub.status.busy": "2021-10-21T09:22:20.995954Z",
          "iopub.execute_input": "2021-10-21T09:22:20.996385Z",
          "iopub.status.idle": "2021-10-21T09:22:21.007556Z",
          "shell.execute_reply.started": "2021-10-21T09:22:20.996349Z",
          "shell.execute_reply": "2021-10-21T09:22:21.006826Z"
        },
        "trusted": true,
        "colab": {
          "base_uri": "https://localhost:8080/"
        },
        "id": "MPFD03SuKqsp",
        "outputId": "5eb13c67-e5cf-4882-f9bd-3a7995f8a171"
      },
      "source": [
        "#Creating a dataframe with all the fraud transactions\n",
        "fraud_cards = cards[cards['Class']==1]\n",
        "\n",
        "fraud_cards['Amount'].describe().round(2)"
      ],
      "execution_count": 16,
      "outputs": [
        {
          "output_type": "execute_result",
          "data": {
            "text/plain": [
              "count     492.00\n",
              "mean      122.21\n",
              "std       256.68\n",
              "min         0.00\n",
              "25%         1.00\n",
              "50%         9.25\n",
              "75%       105.89\n",
              "max      2125.87\n",
              "Name: Amount, dtype: float64"
            ]
          },
          "metadata": {},
          "execution_count": 16
        }
      ]
    },
    {
      "cell_type": "code",
      "metadata": {
        "execution": {
          "iopub.status.busy": "2021-10-21T09:22:22.620781Z",
          "iopub.execute_input": "2021-10-21T09:22:22.621031Z",
          "iopub.status.idle": "2021-10-21T09:22:22.939963Z",
          "shell.execute_reply.started": "2021-10-21T09:22:22.621005Z",
          "shell.execute_reply": "2021-10-21T09:22:22.939136Z"
        },
        "trusted": true,
        "colab": {
          "base_uri": "https://localhost:8080/",
          "height": 423
        },
        "id": "fpxQtaICKqsq",
        "outputId": "5a2eae28-4ced-4581-f140-3d09472501fb"
      },
      "source": [
        "fig_dims = (10, 6)\n",
        "fig, ax = plt.subplots(figsize=fig_dims)\n",
        "sns.histplot(x=fraud_cards['Amount'], binwidth=50)\n",
        "plt.title(\"Distribution of Fraudulent Transaction Amounts\", fontsize=15)\n",
        "ax.set_xlabel(\"Amount ($)\")"
      ],
      "execution_count": 17,
      "outputs": [
        {
          "output_type": "execute_result",
          "data": {
            "text/plain": [
              "Text(0.5, 0, 'Amount ($)')"
            ]
          },
          "metadata": {},
          "execution_count": 17
        },
        {
          "output_type": "display_data",
          "data": {
            "image/png": "[encoded data removed]",
            "text/plain": [
              "<Figure size 720x432 with 1 Axes>"
            ]
          },
          "metadata": {
            "needs_background": "light"
          }
        }
      ]
    },
    {
      "cell_type": "code",
      "metadata": {
        "execution": {
          "iopub.status.busy": "2021-10-21T09:22:24.654522Z",
          "iopub.execute_input": "2021-10-21T09:22:24.654998Z",
          "iopub.status.idle": "2021-10-21T09:22:26.069039Z",
          "shell.execute_reply.started": "2021-10-21T09:22:24.654959Z",
          "shell.execute_reply": "2021-10-21T09:22:26.068277Z"
        },
        "trusted": true,
        "colab": {
          "base_uri": "https://localhost:8080/",
          "height": 317
        },
        "id": "aKinLG-9Kqsq",
        "outputId": "3919935b-c244-4b54-ac4f-ff017ca5f160"
      },
      "source": [
        "fig_dims = (12, 4)\n",
        "fig, ax = plt.subplots(figsize=fig_dims)\n",
        "ax.scatter(y='Time',x='Amount', data=cards)\n",
        "ax.scatter(y='Time',x='Amount', data=fraud_cards,facecolor=\"red\")\n",
        "major_xticks = np.arange(0, 28000, 2000)\n",
        "minor_xticks = np.arange(0, 28000, 500)\n",
        "ax.set_xticks(major_xticks)\n",
        "ax.set_xticks(minor_xticks, minor = True)\n",
        "ax.set_xlabel(\"Amount ($)\")\n",
        "ax.set_ylabel(\"Transaction Time\")\n",
        "ax.set_title('Transaction Time vs. Amount',fontsize=20)"
      ],
      "execution_count": 18,
      "outputs": [
        {
          "output_type": "execute_result",
          "data": {
            "text/plain": [
              "Text(0.5, 1.0, 'Transaction Time vs. Amount')"
            ]
          },
          "metadata": {},
          "execution_count": 18
        },
        {
          "output_type": "display_data",
          "data": {
            "image/png": "[encoded data removed]",
            "text/plain": [
              "<Figure size 864x288 with 1 Axes>"
            ]
          },
          "metadata": {
            "needs_background": "light"
          }
        }
      ]
    },
    {
      "cell_type": "markdown",
      "metadata": {
        "id": "_GEX2wHCKqsr"
      },
      "source": [
        "# Train and Test the Model\n"
      ]
    },
    {
      "cell_type": "code",
      "metadata": {
        "execution": {
          "iopub.status.busy": "2021-10-21T09:22:29.659039Z",
          "iopub.execute_input": "2021-10-21T09:22:29.659335Z",
          "iopub.status.idle": "2021-10-21T09:22:29.669290Z",
          "shell.execute_reply.started": "2021-10-21T09:22:29.659302Z",
          "shell.execute_reply": "2021-10-21T09:22:29.668468Z"
        },
        "trusted": true,
        "colab": {
          "base_uri": "https://localhost:8080/"
        },
        "id": "Enna8BaWKqsr",
        "outputId": "fbc6875f-4574-46e3-b5a5-ae2f310b66bc"
      },
      "source": [
        "#Calculating the no.of frauds/legitimate transactions\n",
        "cards['Class'].value_counts()"
      ],
      "execution_count": 19,
      "outputs": [
        {
          "output_type": "execute_result",
          "data": {
            "text/plain": [
              "0    284315\n",
              "1       492\n",
              "Name: Class, dtype: int64"
            ]
          },
          "metadata": {},
          "execution_count": 19
        }
      ]
    },
    {
      "cell_type": "code",
      "metadata": {
        "execution": {
          "iopub.status.busy": "2021-10-21T09:22:31.179973Z",
          "iopub.execute_input": "2021-10-21T09:22:31.180426Z",
          "iopub.status.idle": "2021-10-21T09:22:31.190729Z",
          "shell.execute_reply.started": "2021-10-21T09:22:31.180386Z",
          "shell.execute_reply": "2021-10-21T09:22:31.189718Z"
        },
        "trusted": true,
        "colab": {
          "base_uri": "https://localhost:8080/"
        },
        "id": "cbRr5LYUKqss",
        "outputId": "6e86f90c-c077-4292-b5b7-29283e988c73"
      },
      "source": [
        "#Calculating the percentage of frauds/legitimate transactions\n",
        "round((cards['Class'].value_counts()/len(cards))*100,2)"
      ],
      "execution_count": 20,
      "outputs": [
        {
          "output_type": "execute_result",
          "data": {
            "text/plain": [
              "0    99.83\n",
              "1     0.17\n",
              "Name: Class, dtype: float64"
            ]
          },
          "metadata": {},
          "execution_count": 20
        }
      ]
    },
    {
      "cell_type": "code",
      "metadata": {
        "execution": {
          "iopub.status.busy": "2021-10-21T09:22:32.705436Z",
          "iopub.execute_input": "2021-10-21T09:22:32.705845Z",
          "iopub.status.idle": "2021-10-21T09:22:32.737814Z",
          "shell.execute_reply.started": "2021-10-21T09:22:32.705816Z",
          "shell.execute_reply": "2021-10-21T09:22:32.737262Z"
        },
        "trusted": true,
        "id": "KPoiJuWWKqss"
      },
      "source": [
        "cards_bal = cards[cards['Class']==1].sample(n=250)\n",
        "\n",
        "cards_bal = cards_bal.append(cards[cards['Class']==0].sample(n=250))"
      ],
      "execution_count": 21,
      "outputs": []
    },
    {
      "cell_type": "code",
      "metadata": {
        "execution": {
          "iopub.status.busy": "2021-10-21T09:22:34.280555Z",
          "iopub.execute_input": "2021-10-21T09:22:34.281015Z",
          "iopub.status.idle": "2021-10-21T09:22:34.288787Z",
          "shell.execute_reply.started": "2021-10-21T09:22:34.280983Z",
          "shell.execute_reply": "2021-10-21T09:22:34.287982Z"
        },
        "trusted": true,
        "colab": {
          "base_uri": "https://localhost:8080/"
        },
        "id": "SmqLlLfpKqss",
        "outputId": "ae975b17-fc9b-44d8-bc5d-0f6a037823ba"
      },
      "source": [
        "#Calculating the percentage of frauds/legitimate transactions in the dataset\n",
        "round((cards_bal['Class'].value_counts()/len(cards_bal))*100,2)"
      ],
      "execution_count": 22,
      "outputs": [
        {
          "output_type": "execute_result",
          "data": {
            "text/plain": [
              "1    50.0\n",
              "0    50.0\n",
              "Name: Class, dtype: float64"
            ]
          },
          "metadata": {},
          "execution_count": 22
        }
      ]
    },
    {
      "cell_type": "code",
      "metadata": {
        "execution": {
          "iopub.status.busy": "2021-10-21T09:22:35.958429Z",
          "iopub.execute_input": "2021-10-21T09:22:35.958710Z",
          "iopub.status.idle": "2021-10-21T09:22:35.966459Z",
          "shell.execute_reply.started": "2021-10-21T09:22:35.958671Z",
          "shell.execute_reply": "2021-10-21T09:22:35.965680Z"
        },
        "trusted": true,
        "id": "FNZ17PwxKqst"
      },
      "source": [
        "from sklearn.model_selection import train_test_split\n",
        "\n",
        "X = cards_bal.drop('Class',axis=1)\n",
        "y = cards_bal['Class']\n",
        "X_train, X_test, y_train, y_test = train_test_split(X, y, test_size=0.30)"
      ],
      "execution_count": 23,
      "outputs": []
    },
    {
      "cell_type": "markdown",
      "metadata": {
        "id": "wTrQQU5JKqst"
      },
      "source": [
        "## Decision Trees\n",
        "\n",
        "### Training a Decision Tree Model"
      ]
    },
    {
      "cell_type": "code",
      "metadata": {
        "execution": {
          "iopub.status.busy": "2021-10-21T09:22:39.424850Z",
          "iopub.execute_input": "2021-10-21T09:22:39.425278Z",
          "iopub.status.idle": "2021-10-21T09:22:39.439584Z",
          "shell.execute_reply.started": "2021-10-21T09:22:39.425241Z",
          "shell.execute_reply": "2021-10-21T09:22:39.438871Z"
        },
        "trusted": true,
        "colab": {
          "base_uri": "https://localhost:8080/"
        },
        "id": "6Bvl65NWKqst",
        "outputId": "3cbc9d35-62c4-4c9b-d0d2-86c01b23058a"
      },
      "source": [
        "#Import DecisionTreeClassifier\n",
        "from sklearn.tree import DecisionTreeClassifier\n",
        "\n",
        "#Create an instance of DecisionTreeClassifier() called dtree and fit it to the training data.\n",
        "dtree = DecisionTreeClassifier()\n",
        "dtree.fit(X_train,y_train)"
      ],
      "execution_count": 24,
      "outputs": [
        {
          "output_type": "execute_result",
          "data": {
            "text/plain": [
              "DecisionTreeClassifier(ccp_alpha=0.0, class_weight=None, criterion='gini',\n",
              "                       max_depth=None, max_features=None, max_leaf_nodes=None,\n",
              "                       min_impurity_decrease=0.0, min_impurity_split=None,\n",
              "                       min_samples_leaf=1, min_samples_split=2,\n",
              "                       min_weight_fraction_leaf=0.0, presort='deprecated',\n",
              "                       random_state=None, splitter='best')"
            ]
          },
          "metadata": {},
          "execution_count": 24
        }
      ]
    },
    {
      "cell_type": "code",
      "metadata": {
        "execution": {
          "iopub.status.busy": "2021-10-21T09:22:41.181747Z",
          "iopub.execute_input": "2021-10-21T09:22:41.182163Z",
          "iopub.status.idle": "2021-10-21T09:22:41.188619Z",
          "shell.execute_reply.started": "2021-10-21T09:22:41.182124Z",
          "shell.execute_reply": "2021-10-21T09:22:41.187810Z"
        },
        "trusted": true,
        "id": "cb9ANcO8Kqst"
      },
      "source": [
        "decision_trees_predictions = dtree.predict(X_test)"
      ],
      "execution_count": 25,
      "outputs": []
    },
    {
      "cell_type": "markdown",
      "metadata": {
        "id": "82kakhB9Kqsu"
      },
      "source": [
        "## Random Forests\n",
        "\n",
        "### Training the Random Forest Model"
      ]
    },
    {
      "cell_type": "code",
      "metadata": {
        "execution": {
          "iopub.status.busy": "2021-10-21T09:22:45.625891Z",
          "iopub.execute_input": "2021-10-21T09:22:45.626157Z",
          "iopub.status.idle": "2021-10-21T09:22:45.857475Z",
          "shell.execute_reply.started": "2021-10-21T09:22:45.626127Z",
          "shell.execute_reply": "2021-10-21T09:22:45.856694Z"
        },
        "trusted": true,
        "colab": {
          "base_uri": "https://localhost:8080/"
        },
        "id": "qog6oQPTKqsu",
        "outputId": "8858d91f-ce21-4f8a-9d68-f342e53ed5af"
      },
      "source": [
        "#Create an instance of the RandomForestClassifier class and fit it to our training data\n",
        "from sklearn.ensemble import RandomForestClassifier\n",
        "\n",
        "#n_estimators is the number of trees in the forest\n",
        "rfc = RandomForestClassifier(n_estimators=100)\n",
        "\n",
        "rfc.fit(X_train,y_train)"
      ],
      "execution_count": 26,
      "outputs": [
        {
          "output_type": "execute_result",
          "data": {
            "text/plain": [
              "RandomForestClassifier(bootstrap=True, ccp_alpha=0.0, class_weight=None,\n",
              "                       criterion='gini', max_depth=None, max_features='auto',\n",
              "                       max_leaf_nodes=None, max_samples=None,\n",
              "                       min_impurity_decrease=0.0, min_impurity_split=None,\n",
              "                       min_samples_leaf=1, min_samples_split=2,\n",
              "                       min_weight_fraction_leaf=0.0, n_estimators=100,\n",
              "                       n_jobs=None, oob_score=False, random_state=None,\n",
              "                       verbose=0, warm_start=False)"
            ]
          },
          "metadata": {},
          "execution_count": 26
        }
      ]
    },
    {
      "cell_type": "code",
      "metadata": {
        "execution": {
          "iopub.status.busy": "2021-10-21T09:22:47.833543Z",
          "iopub.execute_input": "2021-10-21T09:22:47.834128Z",
          "iopub.status.idle": "2021-10-21T09:22:47.851300Z",
          "shell.execute_reply.started": "2021-10-21T09:22:47.834093Z",
          "shell.execute_reply": "2021-10-21T09:22:47.850697Z"
        },
        "trusted": true,
        "id": "bS5S2tNQKqsu"
      },
      "source": [
        "random_forests_predictions = rfc.predict(X_test)"
      ],
      "execution_count": 27,
      "outputs": []
    },
    {
      "cell_type": "markdown",
      "metadata": {
        "id": "OA0_t_wwKqsv"
      },
      "source": [
        "## Comparing Performance"
      ]
    },
    {
      "cell_type": "code",
      "metadata": {
        "execution": {
          "iopub.status.busy": "2021-10-21T09:22:50.739801Z",
          "iopub.execute_input": "2021-10-21T09:22:50.740283Z",
          "iopub.status.idle": "2021-10-21T09:22:50.754130Z",
          "shell.execute_reply.started": "2021-10-21T09:22:50.740213Z",
          "shell.execute_reply": "2021-10-21T09:22:50.753499Z"
        },
        "trusted": true,
        "id": "jVVEIRHPKqsv"
      },
      "source": [
        "#Import Classification Report and Confusion Matrix\n",
        "from sklearn.metrics import classification_report,confusion_matrix\n",
        "\n",
        "#Converting each of the classification reports into dictionaries\n",
        "report_dt = classification_report(y_test,decision_trees_predictions , output_dict=True)\n",
        "report_rf = classification_report(y_test,random_forests_predictions , output_dict=True)"
      ],
      "execution_count": 28,
      "outputs": []
    },
    {
      "cell_type": "code",
      "metadata": {
        "execution": {
          "iopub.status.busy": "2021-10-21T09:22:52.368670Z",
          "iopub.execute_input": "2021-10-21T09:22:52.369123Z",
          "iopub.status.idle": "2021-10-21T09:22:52.393374Z",
          "shell.execute_reply.started": "2021-10-21T09:22:52.369080Z",
          "shell.execute_reply": "2021-10-21T09:22:52.392461Z"
        },
        "trusted": true,
        "colab": {
          "base_uri": "https://localhost:8080/",
          "height": 112
        },
        "id": "SW18kauaKqsv",
        "outputId": "ad3ed73e-8483-46cd-ea00-2d57524e5a3a"
      },
      "source": [
        "model = {'Model Name':['Decision Trees', 'Random Forests'],\n",
        "        'Accuracy':[report_dt['accuracy'], report_rf['accuracy']],\n",
        "        'Precision':[report_dt['weighted avg']['precision'],report_rf['weighted avg']['precision']],\n",
        "        'Recall':[report_dt['weighted avg']['recall'],report_rf['weighted avg']['recall']],\n",
        "        'F1-Score':[report_dt['weighted avg']['f1-score'],report_rf['weighted avg']['f1-score']]}\n",
        "\n",
        "model = pd.DataFrame(model)\n",
        "\n",
        "model.round(2).sort_values(by=['Accuracy','Precision','Recall','F1-Score'],ascending=False)"
      ],
      "execution_count": 29,
      "outputs": [
        {
          "output_type": "execute_result",
          "data": {
            "text/html": [
              "<div>\n",
              "<style scoped>\n",
              "    .dataframe tbody tr th:only-of-type {\n",
              "        vertical-align: middle;\n",
              "    }\n",
              "\n",
              "    .dataframe tbody tr th {\n",
              "        vertical-align: top;\n",
              "    }\n",
              "\n",
              "    .dataframe thead th {\n",
              "        text-align: right;\n",
              "    }\n",
              "</style>\n",
              "<table border=\"1\" class=\"dataframe\">\n",
              "  <thead>\n",
              "    <tr style=\"text-align: right;\">\n",
              "      <th></th>\n",
              "      <th>Model Name</th>\n",
              "      <th>Accuracy</th>\n",
              "      <th>Precision</th>\n",
              "      <th>Recall</th>\n",
              "      <th>F1-Score</th>\n",
              "    </tr>\n",
              "  </thead>\n",
              "  <tbody>\n",
              "    <tr>\n",
              "      <th>1</th>\n",
              "      <td>Random Forests</td>\n",
              "      <td>0.94</td>\n",
              "      <td>0.94</td>\n",
              "      <td>0.94</td>\n",
              "      <td>0.94</td>\n",
              "    </tr>\n",
              "    <tr>\n",
              "      <th>0</th>\n",
              "      <td>Decision Trees</td>\n",
              "      <td>0.90</td>\n",
              "      <td>0.90</td>\n",
              "      <td>0.90</td>\n",
              "      <td>0.90</td>\n",
              "    </tr>\n",
              "  </tbody>\n",
              "</table>\n",
              "</div>"
            ],
            "text/plain": [
              "       Model Name  Accuracy  Precision  Recall  F1-Score\n",
              "1  Random Forests      0.94       0.94    0.94      0.94\n",
              "0  Decision Trees      0.90       0.90    0.90      0.90"
            ]
          },
          "metadata": {},
          "execution_count": 29
        }
      ]
    },
    {
      "cell_type": "markdown",
      "metadata": {
        "id": "A-bUUTN2Kqsv"
      },
      "source": [
        "As seen above the <b>Random Forests Model</b> yields the best results so we will test the model against the original data from the original dataset to compare its performance."
      ]
    },
    {
      "cell_type": "code",
      "metadata": {
        "id": "RXjc25-9Kqsv"
      },
      "source": [
        ""
      ],
      "execution_count": null,
      "outputs": []
    }
  ]
}