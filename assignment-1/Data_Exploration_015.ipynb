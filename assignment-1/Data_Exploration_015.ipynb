{
  "nbformat": 4,
  "nbformat_minor": 5,
  "metadata": {
    "kernelspec": {
      "display_name": "Python 3",
      "language": "python",
      "name": "python3"
    },
    "language_info": {
      "codemirror_mode": {
        "name": "ipython",
        "version": 3
      },
      "file_extension": ".py",
      "mimetype": "text/x-python",
      "name": "python",
      "nbconvert_exporter": "python",
      "pygments_lexer": "ipython3",
      "version": "3.9.6"
    },
    "colab": {
      "name": "Data Exploration 015.ipynb",
      "provenance": [],
      "collapsed_sections": []
    }
  },
  "cells": [
    {
      "cell_type": "code",
      "metadata": {
        "id": "bca4bf44"
      },
      "source": [
        "%matplotlib inline\n",
        "\n",
        "from numpy import arange\n",
        "from matplotlib import pyplot as plt\n",
        "from scipy.stats import norm\n",
        "import pandas as pd\n",
        "\n",
        "plt.rcParams['figure.figsize'] = [16, 7]"
      ],
      "id": "bca4bf44",
      "execution_count": 67,
      "outputs": []
    },
    {
      "cell_type": "code",
      "metadata": {
        "colab": {
          "base_uri": "https://localhost:8080/",
          "height": 204
        },
        "id": "f70429e6",
        "outputId": "4d7fda29-63ff-494c-fe18-3ac4c4dbc8bc"
      },
      "source": [
        "file_name = '/content/sample_data/collegePlace.csv'\n",
        "\n",
        "df = pd.read_csv(file_name, header=0)\n",
        "\n",
        "df.head()"
      ],
      "id": "f70429e6",
      "execution_count": 68,
      "outputs": [
        {
          "output_type": "execute_result",
          "data": {
            "text/html": [
              "<div>\n",
              "<style scoped>\n",
              "    .dataframe tbody tr th:only-of-type {\n",
              "        vertical-align: middle;\n",
              "    }\n",
              "\n",
              "    .dataframe tbody tr th {\n",
              "        vertical-align: top;\n",
              "    }\n",
              "\n",
              "    .dataframe thead th {\n",
              "        text-align: right;\n",
              "    }\n",
              "</style>\n",
              "<table border=\"1\" class=\"dataframe\">\n",
              "  <thead>\n",
              "    <tr style=\"text-align: right;\">\n",
              "      <th></th>\n",
              "      <th>Age</th>\n",
              "      <th>Gender</th>\n",
              "      <th>Stream</th>\n",
              "      <th>Internships</th>\n",
              "      <th>CGPA</th>\n",
              "      <th>Hostel</th>\n",
              "      <th>HistoryOfBacklogs</th>\n",
              "      <th>PlacedOrNot</th>\n",
              "    </tr>\n",
              "  </thead>\n",
              "  <tbody>\n",
              "    <tr>\n",
              "      <th>0</th>\n",
              "      <td>22</td>\n",
              "      <td>Male</td>\n",
              "      <td>Electronics And Communication</td>\n",
              "      <td>1</td>\n",
              "      <td>8</td>\n",
              "      <td>1</td>\n",
              "      <td>1</td>\n",
              "      <td>1</td>\n",
              "    </tr>\n",
              "    <tr>\n",
              "      <th>1</th>\n",
              "      <td>21</td>\n",
              "      <td>Female</td>\n",
              "      <td>Computer Science</td>\n",
              "      <td>0</td>\n",
              "      <td>7</td>\n",
              "      <td>1</td>\n",
              "      <td>1</td>\n",
              "      <td>1</td>\n",
              "    </tr>\n",
              "    <tr>\n",
              "      <th>2</th>\n",
              "      <td>22</td>\n",
              "      <td>Female</td>\n",
              "      <td>Information Technology</td>\n",
              "      <td>1</td>\n",
              "      <td>6</td>\n",
              "      <td>0</td>\n",
              "      <td>0</td>\n",
              "      <td>1</td>\n",
              "    </tr>\n",
              "    <tr>\n",
              "      <th>3</th>\n",
              "      <td>21</td>\n",
              "      <td>Male</td>\n",
              "      <td>Information Technology</td>\n",
              "      <td>0</td>\n",
              "      <td>8</td>\n",
              "      <td>0</td>\n",
              "      <td>1</td>\n",
              "      <td>1</td>\n",
              "    </tr>\n",
              "    <tr>\n",
              "      <th>4</th>\n",
              "      <td>22</td>\n",
              "      <td>Male</td>\n",
              "      <td>Mechanical</td>\n",
              "      <td>0</td>\n",
              "      <td>8</td>\n",
              "      <td>1</td>\n",
              "      <td>0</td>\n",
              "      <td>1</td>\n",
              "    </tr>\n",
              "  </tbody>\n",
              "</table>\n",
              "</div>"
            ],
            "text/plain": [
              "   Age  Gender  ... HistoryOfBacklogs  PlacedOrNot\n",
              "0   22    Male  ...                 1            1\n",
              "1   21  Female  ...                 1            1\n",
              "2   22  Female  ...                 0            1\n",
              "3   21    Male  ...                 1            1\n",
              "4   22    Male  ...                 0            1\n",
              "\n",
              "[5 rows x 8 columns]"
            ]
          },
          "metadata": {},
          "execution_count": 68
        }
      ]
    },
    {
      "cell_type": "code",
      "metadata": {
        "colab": {
          "base_uri": "https://localhost:8080/"
        },
        "id": "88fd712f",
        "outputId": "db281943-5561-4742-e5e9-5f06cb99c0bd"
      },
      "source": [
        "df.dtypes"
      ],
      "id": "88fd712f",
      "execution_count": 69,
      "outputs": [
        {
          "output_type": "execute_result",
          "data": {
            "text/plain": [
              "Age                   int64\n",
              "Gender               object\n",
              "Stream               object\n",
              "Internships           int64\n",
              "CGPA                  int64\n",
              "Hostel                int64\n",
              "HistoryOfBacklogs     int64\n",
              "PlacedOrNot           int64\n",
              "dtype: object"
            ]
          },
          "metadata": {},
          "execution_count": 69
        }
      ]
    },
    {
      "cell_type": "code",
      "metadata": {
        "colab": {
          "base_uri": "https://localhost:8080/"
        },
        "id": "6eaf7b02",
        "outputId": "b51d20dd-1bf7-4f2e-8e13-2e7475697700"
      },
      "source": [
        "df.info()"
      ],
      "id": "6eaf7b02",
      "execution_count": 70,
      "outputs": [
        {
          "output_type": "stream",
          "name": "stdout",
          "text": [
            "<class 'pandas.core.frame.DataFrame'>\n",
            "RangeIndex: 2966 entries, 0 to 2965\n",
            "Data columns (total 8 columns):\n",
            " #   Column             Non-Null Count  Dtype \n",
            "---  ------             --------------  ----- \n",
            " 0   Age                2966 non-null   int64 \n",
            " 1   Gender             2966 non-null   object\n",
            " 2   Stream             2966 non-null   object\n",
            " 3   Internships        2966 non-null   int64 \n",
            " 4   CGPA               2966 non-null   int64 \n",
            " 5   Hostel             2966 non-null   int64 \n",
            " 6   HistoryOfBacklogs  2966 non-null   int64 \n",
            " 7   PlacedOrNot        2966 non-null   int64 \n",
            "dtypes: int64(6), object(2)\n",
            "memory usage: 185.5+ KB\n"
          ]
        }
      ]
    },
    {
      "cell_type": "code",
      "metadata": {
        "colab": {
          "base_uri": "https://localhost:8080/"
        },
        "id": "ed1d9f14",
        "outputId": "03881015-ecdf-452b-979d-46f918e7fec0"
      },
      "source": [
        "df.memory_usage()"
      ],
      "id": "ed1d9f14",
      "execution_count": 71,
      "outputs": [
        {
          "output_type": "execute_result",
          "data": {
            "text/plain": [
              "Index                  128\n",
              "Age                  23728\n",
              "Gender               23728\n",
              "Stream               23728\n",
              "Internships          23728\n",
              "CGPA                 23728\n",
              "Hostel               23728\n",
              "HistoryOfBacklogs    23728\n",
              "PlacedOrNot          23728\n",
              "dtype: int64"
            ]
          },
          "metadata": {},
          "execution_count": 71
        }
      ]
    },
    {
      "cell_type": "code",
      "metadata": {
        "colab": {
          "base_uri": "https://localhost:8080/"
        },
        "id": "b15940c0",
        "outputId": "08549cd0-977a-488a-cd2d-40fd1623640c"
      },
      "source": [
        "df.memory_usage().sum()"
      ],
      "id": "b15940c0",
      "execution_count": 72,
      "outputs": [
        {
          "output_type": "execute_result",
          "data": {
            "text/plain": [
              "189952"
            ]
          },
          "metadata": {},
          "execution_count": 72
        }
      ]
    },
    {
      "cell_type": "code",
      "metadata": {
        "colab": {
          "base_uri": "https://localhost:8080/",
          "height": 297
        },
        "id": "1f999bbe",
        "outputId": "93c5b7b3-43a2-48a7-a698-679d60a15a4c"
      },
      "source": [
        "df.describe()"
      ],
      "id": "1f999bbe",
      "execution_count": 73,
      "outputs": [
        {
          "output_type": "execute_result",
          "data": {
            "text/html": [
              "<div>\n",
              "<style scoped>\n",
              "    .dataframe tbody tr th:only-of-type {\n",
              "        vertical-align: middle;\n",
              "    }\n",
              "\n",
              "    .dataframe tbody tr th {\n",
              "        vertical-align: top;\n",
              "    }\n",
              "\n",
              "    .dataframe thead th {\n",
              "        text-align: right;\n",
              "    }\n",
              "</style>\n",
              "<table border=\"1\" class=\"dataframe\">\n",
              "  <thead>\n",
              "    <tr style=\"text-align: right;\">\n",
              "      <th></th>\n",
              "      <th>Age</th>\n",
              "      <th>Internships</th>\n",
              "      <th>CGPA</th>\n",
              "      <th>Hostel</th>\n",
              "      <th>HistoryOfBacklogs</th>\n",
              "      <th>PlacedOrNot</th>\n",
              "    </tr>\n",
              "  </thead>\n",
              "  <tbody>\n",
              "    <tr>\n",
              "      <th>count</th>\n",
              "      <td>2966.000000</td>\n",
              "      <td>2966.000000</td>\n",
              "      <td>2966.000000</td>\n",
              "      <td>2966.000000</td>\n",
              "      <td>2966.000000</td>\n",
              "      <td>2966.000000</td>\n",
              "    </tr>\n",
              "    <tr>\n",
              "      <th>mean</th>\n",
              "      <td>21.485840</td>\n",
              "      <td>0.703641</td>\n",
              "      <td>7.073837</td>\n",
              "      <td>0.269049</td>\n",
              "      <td>0.192178</td>\n",
              "      <td>0.552596</td>\n",
              "    </tr>\n",
              "    <tr>\n",
              "      <th>std</th>\n",
              "      <td>1.324933</td>\n",
              "      <td>0.740197</td>\n",
              "      <td>0.967748</td>\n",
              "      <td>0.443540</td>\n",
              "      <td>0.394079</td>\n",
              "      <td>0.497310</td>\n",
              "    </tr>\n",
              "    <tr>\n",
              "      <th>min</th>\n",
              "      <td>19.000000</td>\n",
              "      <td>0.000000</td>\n",
              "      <td>5.000000</td>\n",
              "      <td>0.000000</td>\n",
              "      <td>0.000000</td>\n",
              "      <td>0.000000</td>\n",
              "    </tr>\n",
              "    <tr>\n",
              "      <th>25%</th>\n",
              "      <td>21.000000</td>\n",
              "      <td>0.000000</td>\n",
              "      <td>6.000000</td>\n",
              "      <td>0.000000</td>\n",
              "      <td>0.000000</td>\n",
              "      <td>0.000000</td>\n",
              "    </tr>\n",
              "    <tr>\n",
              "      <th>50%</th>\n",
              "      <td>21.000000</td>\n",
              "      <td>1.000000</td>\n",
              "      <td>7.000000</td>\n",
              "      <td>0.000000</td>\n",
              "      <td>0.000000</td>\n",
              "      <td>1.000000</td>\n",
              "    </tr>\n",
              "    <tr>\n",
              "      <th>75%</th>\n",
              "      <td>22.000000</td>\n",
              "      <td>1.000000</td>\n",
              "      <td>8.000000</td>\n",
              "      <td>1.000000</td>\n",
              "      <td>0.000000</td>\n",
              "      <td>1.000000</td>\n",
              "    </tr>\n",
              "    <tr>\n",
              "      <th>max</th>\n",
              "      <td>30.000000</td>\n",
              "      <td>3.000000</td>\n",
              "      <td>9.000000</td>\n",
              "      <td>1.000000</td>\n",
              "      <td>1.000000</td>\n",
              "      <td>1.000000</td>\n",
              "    </tr>\n",
              "  </tbody>\n",
              "</table>\n",
              "</div>"
            ],
            "text/plain": [
              "               Age  Internships  ...  HistoryOfBacklogs  PlacedOrNot\n",
              "count  2966.000000  2966.000000  ...        2966.000000  2966.000000\n",
              "mean     21.485840     0.703641  ...           0.192178     0.552596\n",
              "std       1.324933     0.740197  ...           0.394079     0.497310\n",
              "min      19.000000     0.000000  ...           0.000000     0.000000\n",
              "25%      21.000000     0.000000  ...           0.000000     0.000000\n",
              "50%      21.000000     1.000000  ...           0.000000     1.000000\n",
              "75%      22.000000     1.000000  ...           0.000000     1.000000\n",
              "max      30.000000     3.000000  ...           1.000000     1.000000\n",
              "\n",
              "[8 rows x 6 columns]"
            ]
          },
          "metadata": {},
          "execution_count": 73
        }
      ]
    },
    {
      "cell_type": "code",
      "metadata": {
        "colab": {
          "base_uri": "https://localhost:8080/"
        },
        "id": "3ca882eb",
        "outputId": "2cadbc82-8a62-4138-efad-39b2ced98c36"
      },
      "source": [
        "df.mean()"
      ],
      "id": "3ca882eb",
      "execution_count": 74,
      "outputs": [
        {
          "output_type": "execute_result",
          "data": {
            "text/plain": [
              "Age                  21.485840\n",
              "Internships           0.703641\n",
              "CGPA                  7.073837\n",
              "Hostel                0.269049\n",
              "HistoryOfBacklogs     0.192178\n",
              "PlacedOrNot           0.552596\n",
              "dtype: float64"
            ]
          },
          "metadata": {},
          "execution_count": 74
        }
      ]
    },
    {
      "cell_type": "code",
      "metadata": {
        "colab": {
          "base_uri": "https://localhost:8080/"
        },
        "id": "b53747c8",
        "outputId": "4d844e26-e020-479d-976b-79320dbb532e"
      },
      "source": [
        "df.var()"
      ],
      "id": "b53747c8",
      "execution_count": 75,
      "outputs": [
        {
          "output_type": "execute_result",
          "data": {
            "text/plain": [
              "Age                  1.755449\n",
              "Internships          0.547892\n",
              "CGPA                 0.936536\n",
              "Hostel               0.196728\n",
              "HistoryOfBacklogs    0.155298\n",
              "PlacedOrNot          0.247317\n",
              "dtype: float64"
            ]
          },
          "metadata": {},
          "execution_count": 75
        }
      ]
    },
    {
      "cell_type": "code",
      "metadata": {
        "colab": {
          "base_uri": "https://localhost:8080/"
        },
        "id": "86fc2390",
        "outputId": "f3242948-4fd1-4bab-d47d-fe12c90d6e4c"
      },
      "source": [
        "df.skew()"
      ],
      "id": "86fc2390",
      "execution_count": 76,
      "outputs": [
        {
          "output_type": "execute_result",
          "data": {
            "text/plain": [
              "Age                  0.996099\n",
              "Internships          0.789343\n",
              "CGPA                 0.006222\n",
              "Hostel               1.042100\n",
              "HistoryOfBacklogs    1.563290\n",
              "PlacedOrNot         -0.211665\n",
              "dtype: float64"
            ]
          },
          "metadata": {},
          "execution_count": 76
        }
      ]
    },
    {
      "cell_type": "code",
      "metadata": {
        "colab": {
          "base_uri": "https://localhost:8080/"
        },
        "id": "05678052",
        "outputId": "e0ad86a5-b1d8-4d50-a05b-60c9b06c0087"
      },
      "source": [
        "df.kurtosis()"
      ],
      "id": "05678052",
      "execution_count": 77,
      "outputs": [
        {
          "output_type": "execute_result",
          "data": {
            "text/plain": [
              "Age                  2.831266\n",
              "Internships          0.084428\n",
              "CGPA                -0.757038\n",
              "Hostel              -0.914646\n",
              "HistoryOfBacklogs    0.444176\n",
              "PlacedOrNot         -1.956518\n",
              "dtype: float64"
            ]
          },
          "metadata": {},
          "execution_count": 77
        }
      ]
    },
    {
      "cell_type": "code",
      "metadata": {
        "colab": {
          "base_uri": "https://localhost:8080/"
        },
        "id": "066c49ad",
        "outputId": "677d8b24-f3e4-41b5-ad16-b558bb83246b"
      },
      "source": [
        "df.min()"
      ],
      "id": "066c49ad",
      "execution_count": 78,
      "outputs": [
        {
          "output_type": "execute_result",
          "data": {
            "text/plain": [
              "Age                      19\n",
              "Gender               Female\n",
              "Stream                Civil\n",
              "Internships               0\n",
              "CGPA                      5\n",
              "Hostel                    0\n",
              "HistoryOfBacklogs         0\n",
              "PlacedOrNot               0\n",
              "dtype: object"
            ]
          },
          "metadata": {},
          "execution_count": 78
        }
      ]
    },
    {
      "cell_type": "code",
      "metadata": {
        "colab": {
          "base_uri": "https://localhost:8080/"
        },
        "id": "a18b9396",
        "outputId": "ddb06004-ac57-4b7d-f89b-e254cfe6d154"
      },
      "source": [
        "df.max()"
      ],
      "id": "a18b9396",
      "execution_count": 79,
      "outputs": [
        {
          "output_type": "execute_result",
          "data": {
            "text/plain": [
              "Age                          30\n",
              "Gender                     Male\n",
              "Stream               Mechanical\n",
              "Internships                   3\n",
              "CGPA                          9\n",
              "Hostel                        1\n",
              "HistoryOfBacklogs             1\n",
              "PlacedOrNot                   1\n",
              "dtype: object"
            ]
          },
          "metadata": {},
          "execution_count": 79
        }
      ]
    },
    {
      "cell_type": "code",
      "metadata": {
        "colab": {
          "base_uri": "https://localhost:8080/"
        },
        "id": "ebc67d12",
        "outputId": "160b8c66-6d8a-4baa-c307-89735e2f7d02"
      },
      "source": [
        "df.median()"
      ],
      "id": "ebc67d12",
      "execution_count": 80,
      "outputs": [
        {
          "output_type": "execute_result",
          "data": {
            "text/plain": [
              "Age                  21.0\n",
              "Internships           1.0\n",
              "CGPA                  7.0\n",
              "Hostel                0.0\n",
              "HistoryOfBacklogs     0.0\n",
              "PlacedOrNot           1.0\n",
              "dtype: float64"
            ]
          },
          "metadata": {},
          "execution_count": 80
        }
      ]
    },
    {
      "cell_type": "code",
      "metadata": {
        "colab": {
          "base_uri": "https://localhost:8080/",
          "height": 235
        },
        "id": "d72d75c2",
        "outputId": "cb2c3d75-0939-478c-cd47-abbd95a08e11"
      },
      "source": [
        "df.corr()"
      ],
      "id": "d72d75c2",
      "execution_count": 81,
      "outputs": [
        {
          "output_type": "execute_result",
          "data": {
            "text/html": [
              "<div>\n",
              "<style scoped>\n",
              "    .dataframe tbody tr th:only-of-type {\n",
              "        vertical-align: middle;\n",
              "    }\n",
              "\n",
              "    .dataframe tbody tr th {\n",
              "        vertical-align: top;\n",
              "    }\n",
              "\n",
              "    .dataframe thead th {\n",
              "        text-align: right;\n",
              "    }\n",
              "</style>\n",
              "<table border=\"1\" class=\"dataframe\">\n",
              "  <thead>\n",
              "    <tr style=\"text-align: right;\">\n",
              "      <th></th>\n",
              "      <th>Age</th>\n",
              "      <th>Internships</th>\n",
              "      <th>CGPA</th>\n",
              "      <th>Hostel</th>\n",
              "      <th>HistoryOfBacklogs</th>\n",
              "      <th>PlacedOrNot</th>\n",
              "    </tr>\n",
              "  </thead>\n",
              "  <tbody>\n",
              "    <tr>\n",
              "      <th>Age</th>\n",
              "      <td>1.000000</td>\n",
              "      <td>0.006552</td>\n",
              "      <td>-0.119787</td>\n",
              "      <td>0.003042</td>\n",
              "      <td>-0.042586</td>\n",
              "      <td>0.046943</td>\n",
              "    </tr>\n",
              "    <tr>\n",
              "      <th>Internships</th>\n",
              "      <td>0.006552</td>\n",
              "      <td>1.000000</td>\n",
              "      <td>0.023496</td>\n",
              "      <td>0.004617</td>\n",
              "      <td>-0.015118</td>\n",
              "      <td>0.179334</td>\n",
              "    </tr>\n",
              "    <tr>\n",
              "      <th>CGPA</th>\n",
              "      <td>-0.119787</td>\n",
              "      <td>0.023496</td>\n",
              "      <td>1.000000</td>\n",
              "      <td>0.014991</td>\n",
              "      <td>0.002576</td>\n",
              "      <td>0.588648</td>\n",
              "    </tr>\n",
              "    <tr>\n",
              "      <th>Hostel</th>\n",
              "      <td>0.003042</td>\n",
              "      <td>0.004617</td>\n",
              "      <td>0.014991</td>\n",
              "      <td>1.000000</td>\n",
              "      <td>0.103506</td>\n",
              "      <td>-0.038182</td>\n",
              "    </tr>\n",
              "    <tr>\n",
              "      <th>HistoryOfBacklogs</th>\n",
              "      <td>-0.042586</td>\n",
              "      <td>-0.015118</td>\n",
              "      <td>0.002576</td>\n",
              "      <td>0.103506</td>\n",
              "      <td>1.000000</td>\n",
              "      <td>-0.022337</td>\n",
              "    </tr>\n",
              "    <tr>\n",
              "      <th>PlacedOrNot</th>\n",
              "      <td>0.046943</td>\n",
              "      <td>0.179334</td>\n",
              "      <td>0.588648</td>\n",
              "      <td>-0.038182</td>\n",
              "      <td>-0.022337</td>\n",
              "      <td>1.000000</td>\n",
              "    </tr>\n",
              "  </tbody>\n",
              "</table>\n",
              "</div>"
            ],
            "text/plain": [
              "                        Age  Internships  ...  HistoryOfBacklogs  PlacedOrNot\n",
              "Age                1.000000     0.006552  ...          -0.042586     0.046943\n",
              "Internships        0.006552     1.000000  ...          -0.015118     0.179334\n",
              "CGPA              -0.119787     0.023496  ...           0.002576     0.588648\n",
              "Hostel             0.003042     0.004617  ...           0.103506    -0.038182\n",
              "HistoryOfBacklogs -0.042586    -0.015118  ...           1.000000    -0.022337\n",
              "PlacedOrNot        0.046943     0.179334  ...          -0.022337     1.000000\n",
              "\n",
              "[6 rows x 6 columns]"
            ]
          },
          "metadata": {},
          "execution_count": 81
        }
      ]
    },
    {
      "cell_type": "code",
      "metadata": {
        "id": "325cbfb8"
      },
      "source": [
        "import seaborn as sns"
      ],
      "id": "325cbfb8",
      "execution_count": 82,
      "outputs": []
    },
    {
      "cell_type": "code",
      "metadata": {
        "colab": {
          "base_uri": "https://localhost:8080/",
          "height": 449
        },
        "id": "b0aea6ba",
        "outputId": "813d7986-1867-46fc-a393-653d32b58bc3"
      },
      "source": [
        "sns.heatmap(df.corr(), annot=True)"
      ],
      "id": "b0aea6ba",
      "execution_count": 83,
      "outputs": [
        {
          "output_type": "execute_result",
          "data": {
            "text/plain": [
              "<matplotlib.axes._subplots.AxesSubplot at 0x7fc451114d10>"
            ]
          },
          "metadata": {},
          "execution_count": 83
        },
        {
          "output_type": "display_data",
          "data": {
            "image/png": "[encoded data removed]",
            "text/plain": [
              "<Figure size 1152x504 with 2 Axes>"
            ]
          },
          "metadata": {
            "needs_background": "light"
          }
        }
      ]
    },
    {
      "cell_type": "code",
      "metadata": {
        "colab": {
          "base_uri": "https://localhost:8080/",
          "height": 334
        },
        "id": "2272ee2f",
        "outputId": "8d047554-7437-47dc-d5a8-5452301fe844"
      },
      "source": [
        "df['CGPA'].plot(figsize=(12, 5), color='black') # color and figsize changed\n",
        "\n",
        "plt.xlabel('index')\n",
        "plt.ylabel('Volume');"
      ],
      "id": "2272ee2f",
      "execution_count": 84,
      "outputs": [
        {
          "output_type": "display_data",
          "data": {
            "image/png": "[encoded data removed]",
            "text/plain": [
              "<Figure size 864x360 with 1 Axes>"
            ]
          },
          "metadata": {
            "needs_background": "light"
          }
        }
      ]
    },
    {
      "cell_type": "code",
      "metadata": {
        "colab": {
          "base_uri": "https://localhost:8080/",
          "height": 351
        },
        "id": "66cd79c7",
        "outputId": "f29c6d8d-caba-47c4-b1ee-3ef16eb9a986"
      },
      "source": [
        "df.plot.scatter('Age', 'CGPA', figsize=(8, 5))"
      ],
      "id": "66cd79c7",
      "execution_count": 85,
      "outputs": [
        {
          "output_type": "execute_result",
          "data": {
            "text/plain": [
              "<matplotlib.axes._subplots.AxesSubplot at 0x7fc451114490>"
            ]
          },
          "metadata": {},
          "execution_count": 85
        },
        {
          "output_type": "display_data",
          "data": {
            "image/png": "[encoded data removed]",
            "text/plain": [
              "<Figure size 576x360 with 1 Axes>"
            ]
          },
          "metadata": {
            "needs_background": "light"
          }
        }
      ]
    },
    {
      "cell_type": "code",
      "metadata": {
        "colab": {
          "base_uri": "https://localhost:8080/",
          "height": 337
        },
        "id": "d2dfced8",
        "outputId": "c46a6e93-b580-4937-999d-6191f164e5f9"
      },
      "source": [
        "df.boxplot(figsize=(16, 5))"
      ],
      "id": "d2dfced8",
      "execution_count": 86,
      "outputs": [
        {
          "output_type": "execute_result",
          "data": {
            "text/plain": [
              "<matplotlib.axes._subplots.AxesSubplot at 0x7fc450acfe50>"
            ]
          },
          "metadata": {},
          "execution_count": 86
        },
        {
          "output_type": "display_data",
          "data": {
            "image/png": "[encoded data removed]",
            "text/plain": [
              "<Figure size 1152x360 with 1 Axes>"
            ]
          },
          "metadata": {
            "needs_background": "light"
          }
        }
      ]
    },
    {
      "cell_type": "code",
      "metadata": {
        "colab": {
          "base_uri": "https://localhost:8080/",
          "height": 323
        },
        "id": "0d787e26",
        "outputId": "10b11a2b-659e-4df3-8ea5-f54d3f5ba96a"
      },
      "source": [
        "df['CGPA'].hist(bins=30, figsize=(8, 5));"
      ],
      "id": "0d787e26",
      "execution_count": 87,
      "outputs": [
        {
          "output_type": "display_data",
          "data": {
            "image/png": "[encoded data removed]",
            "text/plain": [
              "<Figure size 576x360 with 1 Axes>"
            ]
          },
          "metadata": {
            "needs_background": "light"
          }
        }
      ]
    },
    {
      "cell_type": "code",
      "metadata": {
        "colab": {
          "base_uri": "https://localhost:8080/",
          "height": 445
        },
        "id": "26386723",
        "outputId": "dc484257-e824-47c9-e49c-b893c18c384e"
      },
      "source": [
        "df_avg_placed = df.groupby('Age')['PlacedOrNot'].mean()\n",
        "df_avg_placed[:10].plot.bar(color='orange');"
      ],
      "id": "26386723",
      "execution_count": 88,
      "outputs": [
        {
          "output_type": "display_data",
          "data": {
            "image/png": "[encoded data removed]",
            "text/plain": [
              "<Figure size 1152x504 with 1 Axes>"
            ]
          },
          "metadata": {
            "needs_background": "light"
          }
        }
      ]
    },
    {
      "cell_type": "code",
      "metadata": {
        "colab": {
          "base_uri": "https://localhost:8080/",
          "height": 439
        },
        "id": "880d6492",
        "outputId": "0b00d371-9f31-4f76-eb6d-a102026bcd48"
      },
      "source": [
        "ax = df[['HistoryOfBacklogs', 'Internships']][:10].plot.bar(stacked=True)\n",
        "\n",
        "ax.set_xlabel(\"Index\")\n",
        "ax.set_ylabel(\"Count\");"
      ],
      "id": "880d6492",
      "execution_count": 89,
      "outputs": [
        {
          "output_type": "display_data",
          "data": {
            "image/png": "[encoded data removed]",
            "text/plain": [
              "<Figure size 1152x504 with 1 Axes>"
            ]
          },
          "metadata": {
            "needs_background": "light"
          }
        }
      ]
    }
  ]
}