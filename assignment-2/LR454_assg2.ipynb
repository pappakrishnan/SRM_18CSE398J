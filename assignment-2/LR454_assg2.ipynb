{
  "nbformat": 4,
  "nbformat_minor": 0,
  "metadata": {
    "colab": {
      "name": "LR454_assg2.ipynb",
      "provenance": [],
      "collapsed_sections": []
    },
    "kernelspec": {
      "name": "python3",
      "display_name": "Python 3"
    },
    "language_info": {
      "name": "python"
    }
  },
  "cells": [
    {
      "cell_type": "markdown",
      "metadata": {
        "id": "wM2IQteeDOLY"
      },
      "source": [
        "##**ASSIGNMENT-2** *LINEAR REGRESSION* on netflix stock price dataset from kaggle.\n",
        "###DIVYA S GUPTA RA1911003010454 CSE-H1"
      ]
    },
    {
      "cell_type": "code",
      "metadata": {
        "colab": {
          "base_uri": "https://localhost:8080/"
        },
        "id": "vOt2QrVGGM-g",
        "outputId": "84402afe-03e6-48f2-f099-7c8362c35887"
      },
      "source": [
        "from google.colab import drive\n",
        "drive.mount('/content/gdrive')"
      ],
      "execution_count": 1,
      "outputs": [
        {
          "output_type": "stream",
          "name": "stdout",
          "text": [
            "Mounted at /content/gdrive\n"
          ]
        }
      ]
    },
    {
      "cell_type": "markdown",
      "metadata": {
        "id": "5E8mp2iFGflP"
      },
      "source": [
        "**Build a linear regression  based on the target variable.The assignment should include k-fold model validation, the suitable metric for evaluation and comparison,etc.**\n",
        "####Here the target variable in 'Open'"
      ]
    },
    {
      "cell_type": "markdown",
      "metadata": {
        "id": "KWJKU6PrHU1t"
      },
      "source": [
        "**Importing dataset from drive.** "
      ]
    },
    {
      "cell_type": "code",
      "metadata": {
        "id": "tbNxWKILHdSm"
      },
      "source": [
        "# required library for visual and stats \n",
        "import numpy as np\n",
        "import pandas as pd #dataset\n",
        "import seaborn as sns #for graphic effects\n",
        "import matplotlib.pyplot as plt #to plot\n",
        "import scipy.stats as stats #statistics"
      ],
      "execution_count": 2,
      "outputs": []
    },
    {
      "cell_type": "code",
      "metadata": {
        "colab": {
          "base_uri": "https://localhost:8080/"
        },
        "id": "JL64CLs1HuV5",
        "outputId": "406c0a3c-dbbe-4edd-da08-dd69a1937611"
      },
      "source": [
        "ds=pd.read_csv(r'/content/gdrive/MyDrive/ml datasets/Netflix.csv') #imported\n",
        "print(ds)"
      ],
      "execution_count": 3,
      "outputs": [
        {
          "output_type": "stream",
          "name": "stdout",
          "text": [
            "            Date        Open        High  ...       Close   Adj Close     Volume\n",
            "0     2002-05-23    1.156429    1.242857  ...    1.196429    1.196429  104790000\n",
            "1     2002-05-24    1.214286    1.225000  ...    1.210000    1.210000   11104800\n",
            "2     2002-05-28    1.213571    1.232143  ...    1.157143    1.157143    6609400\n",
            "3     2002-05-29    1.164286    1.164286  ...    1.103571    1.103571    6757800\n",
            "4     2002-05-30    1.107857    1.107857  ...    1.071429    1.071429   10154200\n",
            "...          ...         ...         ...  ...         ...         ...        ...\n",
            "4576  2020-07-28  496.019989  497.790009  ...  488.510010  488.510010    5986700\n",
            "4577  2020-07-29  492.250000  494.920013  ...  484.480011  484.480011    6611800\n",
            "4578  2020-07-30  480.709991  488.350006  ...  485.799988  485.799988    6608600\n",
            "4579  2020-07-31  488.290009  494.799988  ...  488.880005  488.880005    5924300\n",
            "4580  2020-08-03  490.859985  503.089996  ...  498.619995  498.619995    5873100\n",
            "\n",
            "[4581 rows x 7 columns]\n"
          ]
        }
      ]
    },
    {
      "cell_type": "code",
      "metadata": {
        "colab": {
          "base_uri": "https://localhost:8080/"
        },
        "id": "JwaZmnyqKPqh",
        "outputId": "f722c8bb-9331-476f-9cfd-2e324244961e"
      },
      "source": [
        "ds.info()"
      ],
      "execution_count": 4,
      "outputs": [
        {
          "output_type": "stream",
          "name": "stdout",
          "text": [
            "<class 'pandas.core.frame.DataFrame'>\n",
            "RangeIndex: 4581 entries, 0 to 4580\n",
            "Data columns (total 7 columns):\n",
            " #   Column     Non-Null Count  Dtype  \n",
            "---  ------     --------------  -----  \n",
            " 0   Date       4581 non-null   object \n",
            " 1   Open       4581 non-null   float64\n",
            " 2   High       4581 non-null   float64\n",
            " 3   Low        4581 non-null   float64\n",
            " 4   Close      4581 non-null   float64\n",
            " 5   Adj Close  4581 non-null   float64\n",
            " 6   Volume     4581 non-null   int64  \n",
            "dtypes: float64(5), int64(1), object(1)\n",
            "memory usage: 250.6+ KB\n"
          ]
        }
      ]
    },
    {
      "cell_type": "code",
      "metadata": {
        "colab": {
          "base_uri": "https://localhost:8080/"
        },
        "id": "TabV7f75IUvc",
        "outputId": "9f8961ec-a00d-4e0a-d8a5-f519c4ab33d3"
      },
      "source": [
        "ds[\"Date\"]=pd.to_datetime(ds[\"Date\"]) #date and time type\n",
        "rd = 2 # round of to this many digit\n",
        "ds[\"Open\"]=ds[\"Open\"].apply(lambda x: round(x,rd))\n",
        "ds[\"High\"]=ds[\"High\"].apply(lambda x: round(x,rd))\n",
        "ds[\"Low\"]=ds[\"Low\"].apply(lambda x: round(x,rd))\n",
        "ds[\"Close\"]=ds[\"Close\"].apply(lambda x: round(x,rd))\n",
        "ds[\"Adj Close\"]=ds[\"Adj Close\"].apply(lambda x: round(x,rd))\n",
        "ds[\"Volume\"]=ds[\"Volume\"] / 1000\n",
        "ds.dtypes"
      ],
      "execution_count": 5,
      "outputs": [
        {
          "output_type": "execute_result",
          "data": {
            "text/plain": [
              "Date         datetime64[ns]\n",
              "Open                float64\n",
              "High                float64\n",
              "Low                 float64\n",
              "Close               float64\n",
              "Adj Close           float64\n",
              "Volume              float64\n",
              "dtype: object"
            ]
          },
          "metadata": {},
          "execution_count": 5
        }
      ]
    },
    {
      "cell_type": "markdown",
      "metadata": {
        "id": "i11pMMDgNtsK"
      },
      "source": [
        "data cleaning "
      ]
    },
    {
      "cell_type": "code",
      "metadata": {
        "colab": {
          "base_uri": "https://localhost:8080/"
        },
        "id": "QNyGho3MLl7j",
        "outputId": "3dc9fb7d-91ef-4742-eb89-9fff3ba96bf0"
      },
      "source": [
        "ds.isnull().sum() #to check if any null value is there "
      ],
      "execution_count": 6,
      "outputs": [
        {
          "output_type": "execute_result",
          "data": {
            "text/plain": [
              "Date         0\n",
              "Open         0\n",
              "High         0\n",
              "Low          0\n",
              "Close        0\n",
              "Adj Close    0\n",
              "Volume       0\n",
              "dtype: int64"
            ]
          },
          "metadata": {},
          "execution_count": 6
        }
      ]
    },
    {
      "cell_type": "code",
      "metadata": {
        "colab": {
          "base_uri": "https://localhost:8080/",
          "height": 49
        },
        "id": "AjOQPMfgSSH3",
        "outputId": "e5527dd3-95ac-4759-f44a-44c59573dc96"
      },
      "source": [
        "ds[ds.duplicated(keep=False)] # to check for duplicate value"
      ],
      "execution_count": 7,
      "outputs": [
        {
          "output_type": "execute_result",
          "data": {
            "text/html": [
              "<div>\n",
              "<style scoped>\n",
              "    .dataframe tbody tr th:only-of-type {\n",
              "        vertical-align: middle;\n",
              "    }\n",
              "\n",
              "    .dataframe tbody tr th {\n",
              "        vertical-align: top;\n",
              "    }\n",
              "\n",
              "    .dataframe thead th {\n",
              "        text-align: right;\n",
              "    }\n",
              "</style>\n",
              "<table border=\"1\" class=\"dataframe\">\n",
              "  <thead>\n",
              "    <tr style=\"text-align: right;\">\n",
              "      <th></th>\n",
              "      <th>Date</th>\n",
              "      <th>Open</th>\n",
              "      <th>High</th>\n",
              "      <th>Low</th>\n",
              "      <th>Close</th>\n",
              "      <th>Adj Close</th>\n",
              "      <th>Volume</th>\n",
              "    </tr>\n",
              "  </thead>\n",
              "  <tbody>\n",
              "  </tbody>\n",
              "</table>\n",
              "</div>"
            ],
            "text/plain": [
              "Empty DataFrame\n",
              "Columns: [Date, Open, High, Low, Close, Adj Close, Volume]\n",
              "Index: []"
            ]
          },
          "metadata": {},
          "execution_count": 7
        }
      ]
    },
    {
      "cell_type": "markdown",
      "metadata": {
        "id": "zl-Ehga_NnHw"
      },
      "source": [
        "data engineering"
      ]
    },
    {
      "cell_type": "code",
      "metadata": {
        "colab": {
          "base_uri": "https://localhost:8080/"
        },
        "id": "htnEo5niKjYZ",
        "outputId": "34af5052-e5c8-4110-9049-08c4ff8bbcfa"
      },
      "source": [
        "ds['Turnover']=((ds['High']+ds['Low'])/2)/((ds['Open']+ds['Close'])/2)*ds['Volume'] #new varaiable/feature \n",
        "print(ds)"
      ],
      "execution_count": 8,
      "outputs": [
        {
          "output_type": "stream",
          "name": "stdout",
          "text": [
            "           Date    Open    High  ...  Adj Close    Volume       Turnover\n",
            "0    2002-05-23    1.16    1.24  ...       1.20  104790.0  106122.076271\n",
            "1    2002-05-24    1.21    1.23  ...       1.21   11104.8   11150.687603\n",
            "2    2002-05-28    1.21    1.23  ...       1.16    6609.4    6665.175527\n",
            "3    2002-05-29    1.16    1.16  ...       1.10    6757.8    6727.898230\n",
            "4    2002-05-30    1.11    1.11  ...       1.07   10154.2   10154.200000\n",
            "...         ...     ...     ...  ...        ...       ...            ...\n",
            "4576 2020-07-28  496.02  497.79  ...     488.51    5986.7    5992.902385\n",
            "4577 2020-07-29  492.25  494.92  ...     484.48    6611.8    6627.504827\n",
            "4578 2020-07-30  480.71  488.35  ...     485.80    6608.6    6604.155566\n",
            "4579 2020-07-31  488.29  494.80  ...     488.88    5924.3    5937.213576\n",
            "4580 2020-08-03  490.86  503.09  ...     498.62    5873.1    5895.892481\n",
            "\n",
            "[4581 rows x 8 columns]\n"
          ]
        }
      ]
    },
    {
      "cell_type": "markdown",
      "metadata": {
        "id": "aRy4SVltN3z4"
      },
      "source": [
        "data selection"
      ]
    },
    {
      "cell_type": "code",
      "metadata": {
        "colab": {
          "base_uri": "https://localhost:8080/"
        },
        "id": "3zCEb_oBN6Sh",
        "outputId": "bc0e2ddb-4fbb-424b-ac24-25d64110f979"
      },
      "source": [
        "ds.columns"
      ],
      "execution_count": 9,
      "outputs": [
        {
          "output_type": "execute_result",
          "data": {
            "text/plain": [
              "Index(['Date', 'Open', 'High', 'Low', 'Close', 'Adj Close', 'Volume',\n",
              "       'Turnover'],\n",
              "      dtype='object')"
            ]
          },
          "metadata": {},
          "execution_count": 9
        }
      ]
    },
    {
      "cell_type": "code",
      "metadata": {
        "id": "TJmijlmlOLY7"
      },
      "source": [
        "#Let's select our features\n",
        "x = ds.loc[:,'High':'Turnover'] \n",
        "# or X=ds[['High', 'Low', 'Close', 'Adj Close', 'Volume','Turnover']]\n",
        "y = ds.loc[:,'Open']\n",
        "# or Y=ds[['Open']]"
      ],
      "execution_count": 10,
      "outputs": []
    },
    {
      "cell_type": "code",
      "metadata": {
        "colab": {
          "base_uri": "https://localhost:8080/",
          "height": 204
        },
        "id": "6WFD-_BrPff8",
        "outputId": "af0e39e5-ce3f-417e-efb5-9bd65bac09e4"
      },
      "source": [
        "x.head()"
      ],
      "execution_count": 11,
      "outputs": [
        {
          "output_type": "execute_result",
          "data": {
            "text/html": [
              "<div>\n",
              "<style scoped>\n",
              "    .dataframe tbody tr th:only-of-type {\n",
              "        vertical-align: middle;\n",
              "    }\n",
              "\n",
              "    .dataframe tbody tr th {\n",
              "        vertical-align: top;\n",
              "    }\n",
              "\n",
              "    .dataframe thead th {\n",
              "        text-align: right;\n",
              "    }\n",
              "</style>\n",
              "<table border=\"1\" class=\"dataframe\">\n",
              "  <thead>\n",
              "    <tr style=\"text-align: right;\">\n",
              "      <th></th>\n",
              "      <th>High</th>\n",
              "      <th>Low</th>\n",
              "      <th>Close</th>\n",
              "      <th>Adj Close</th>\n",
              "      <th>Volume</th>\n",
              "      <th>Turnover</th>\n",
              "    </tr>\n",
              "  </thead>\n",
              "  <tbody>\n",
              "    <tr>\n",
              "      <th>0</th>\n",
              "      <td>1.24</td>\n",
              "      <td>1.15</td>\n",
              "      <td>1.20</td>\n",
              "      <td>1.20</td>\n",
              "      <td>104790.0</td>\n",
              "      <td>106122.076271</td>\n",
              "    </tr>\n",
              "    <tr>\n",
              "      <th>1</th>\n",
              "      <td>1.23</td>\n",
              "      <td>1.20</td>\n",
              "      <td>1.21</td>\n",
              "      <td>1.21</td>\n",
              "      <td>11104.8</td>\n",
              "      <td>11150.687603</td>\n",
              "    </tr>\n",
              "    <tr>\n",
              "      <th>2</th>\n",
              "      <td>1.23</td>\n",
              "      <td>1.16</td>\n",
              "      <td>1.16</td>\n",
              "      <td>1.16</td>\n",
              "      <td>6609.4</td>\n",
              "      <td>6665.175527</td>\n",
              "    </tr>\n",
              "    <tr>\n",
              "      <th>3</th>\n",
              "      <td>1.16</td>\n",
              "      <td>1.09</td>\n",
              "      <td>1.10</td>\n",
              "      <td>1.10</td>\n",
              "      <td>6757.8</td>\n",
              "      <td>6727.898230</td>\n",
              "    </tr>\n",
              "    <tr>\n",
              "      <th>4</th>\n",
              "      <td>1.11</td>\n",
              "      <td>1.07</td>\n",
              "      <td>1.07</td>\n",
              "      <td>1.07</td>\n",
              "      <td>10154.2</td>\n",
              "      <td>10154.200000</td>\n",
              "    </tr>\n",
              "  </tbody>\n",
              "</table>\n",
              "</div>"
            ],
            "text/plain": [
              "   High   Low  Close  Adj Close    Volume       Turnover\n",
              "0  1.24  1.15   1.20       1.20  104790.0  106122.076271\n",
              "1  1.23  1.20   1.21       1.21   11104.8   11150.687603\n",
              "2  1.23  1.16   1.16       1.16    6609.4    6665.175527\n",
              "3  1.16  1.09   1.10       1.10    6757.8    6727.898230\n",
              "4  1.11  1.07   1.07       1.07   10154.2   10154.200000"
            ]
          },
          "metadata": {},
          "execution_count": 11
        }
      ]
    },
    {
      "cell_type": "code",
      "metadata": {
        "colab": {
          "base_uri": "https://localhost:8080/"
        },
        "id": "sdKeQsFvPi8S",
        "outputId": "25444c08-9501-4e72-bd75-b59b5e33763b"
      },
      "source": [
        "y.head()"
      ],
      "execution_count": 12,
      "outputs": [
        {
          "output_type": "execute_result",
          "data": {
            "text/plain": [
              "0    1.16\n",
              "1    1.21\n",
              "2    1.21\n",
              "3    1.16\n",
              "4    1.11\n",
              "Name: Open, dtype: float64"
            ]
          },
          "metadata": {},
          "execution_count": 12
        }
      ]
    },
    {
      "cell_type": "markdown",
      "metadata": {
        "id": "-sgjXIwoP35M"
      },
      "source": [
        "split data in training and testing"
      ]
    },
    {
      "cell_type": "code",
      "metadata": {
        "id": "bJXl23grPyM4"
      },
      "source": [
        "from sklearn.model_selection import train_test_split\n",
        "x_train,x_test,y_train,y_test = train_test_split(x,y,test_size = 0.3,random_state = 0)"
      ],
      "execution_count": 13,
      "outputs": []
    },
    {
      "cell_type": "code",
      "metadata": {
        "colab": {
          "base_uri": "https://localhost:8080/",
          "height": 419
        },
        "id": "lVKK6ARgQC8B",
        "outputId": "a3085cd3-c3d4-40e5-c927-d05b6cc7f163"
      },
      "source": [
        "x_train"
      ],
      "execution_count": 14,
      "outputs": [
        {
          "output_type": "execute_result",
          "data": {
            "text/html": [
              "<div>\n",
              "<style scoped>\n",
              "    .dataframe tbody tr th:only-of-type {\n",
              "        vertical-align: middle;\n",
              "    }\n",
              "\n",
              "    .dataframe tbody tr th {\n",
              "        vertical-align: top;\n",
              "    }\n",
              "\n",
              "    .dataframe thead th {\n",
              "        text-align: right;\n",
              "    }\n",
              "</style>\n",
              "<table border=\"1\" class=\"dataframe\">\n",
              "  <thead>\n",
              "    <tr style=\"text-align: right;\">\n",
              "      <th></th>\n",
              "      <th>High</th>\n",
              "      <th>Low</th>\n",
              "      <th>Close</th>\n",
              "      <th>Adj Close</th>\n",
              "      <th>Volume</th>\n",
              "      <th>Turnover</th>\n",
              "    </tr>\n",
              "  </thead>\n",
              "  <tbody>\n",
              "    <tr>\n",
              "      <th>1643</th>\n",
              "      <td>3.26</td>\n",
              "      <td>3.11</td>\n",
              "      <td>3.15</td>\n",
              "      <td>3.15</td>\n",
              "      <td>7054.6</td>\n",
              "      <td>7110.411709</td>\n",
              "    </tr>\n",
              "    <tr>\n",
              "      <th>4168</th>\n",
              "      <td>281.77</td>\n",
              "      <td>266.48</td>\n",
              "      <td>274.88</td>\n",
              "      <td>274.88</td>\n",
              "      <td>11456.7</td>\n",
              "      <td>11577.276837</td>\n",
              "    </tr>\n",
              "    <tr>\n",
              "      <th>2106</th>\n",
              "      <td>22.68</td>\n",
              "      <td>21.65</td>\n",
              "      <td>22.34</td>\n",
              "      <td>22.34</td>\n",
              "      <td>47406.8</td>\n",
              "      <td>47546.231765</td>\n",
              "    </tr>\n",
              "    <tr>\n",
              "      <th>1191</th>\n",
              "      <td>3.24</td>\n",
              "      <td>3.20</td>\n",
              "      <td>3.21</td>\n",
              "      <td>3.21</td>\n",
              "      <td>8286.6</td>\n",
              "      <td>8312.414953</td>\n",
              "    </tr>\n",
              "    <tr>\n",
              "      <th>399</th>\n",
              "      <td>3.73</td>\n",
              "      <td>3.61</td>\n",
              "      <td>3.71</td>\n",
              "      <td>3.71</td>\n",
              "      <td>18925.2</td>\n",
              "      <td>18925.200000</td>\n",
              "    </tr>\n",
              "    <tr>\n",
              "      <th>...</th>\n",
              "      <td>...</td>\n",
              "      <td>...</td>\n",
              "      <td>...</td>\n",
              "      <td>...</td>\n",
              "      <td>...</td>\n",
              "      <td>...</td>\n",
              "    </tr>\n",
              "    <tr>\n",
              "      <th>1033</th>\n",
              "      <td>3.89</td>\n",
              "      <td>3.80</td>\n",
              "      <td>3.88</td>\n",
              "      <td>3.88</td>\n",
              "      <td>5491.5</td>\n",
              "      <td>5498.650391</td>\n",
              "    </tr>\n",
              "    <tr>\n",
              "      <th>3264</th>\n",
              "      <td>83.81</td>\n",
              "      <td>82.99</td>\n",
              "      <td>83.38</td>\n",
              "      <td>83.38</td>\n",
              "      <td>11907.0</td>\n",
              "      <td>11879.224834</td>\n",
              "    </tr>\n",
              "    <tr>\n",
              "      <th>1653</th>\n",
              "      <td>4.12</td>\n",
              "      <td>3.93</td>\n",
              "      <td>4.07</td>\n",
              "      <td>4.07</td>\n",
              "      <td>4821.6</td>\n",
              "      <td>4851.735000</td>\n",
              "    </tr>\n",
              "    <tr>\n",
              "      <th>2607</th>\n",
              "      <td>8.01</td>\n",
              "      <td>7.74</td>\n",
              "      <td>7.94</td>\n",
              "      <td>7.94</td>\n",
              "      <td>21350.7</td>\n",
              "      <td>21122.708857</td>\n",
              "    </tr>\n",
              "    <tr>\n",
              "      <th>2732</th>\n",
              "      <td>26.45</td>\n",
              "      <td>25.16</td>\n",
              "      <td>25.24</td>\n",
              "      <td>25.24</td>\n",
              "      <td>32280.5</td>\n",
              "      <td>32343.168414</td>\n",
              "    </tr>\n",
              "  </tbody>\n",
              "</table>\n",
              "<p>3206 rows × 6 columns</p>\n",
              "</div>"
            ],
            "text/plain": [
              "        High     Low   Close  Adj Close   Volume      Turnover\n",
              "1643    3.26    3.11    3.15       3.15   7054.6   7110.411709\n",
              "4168  281.77  266.48  274.88     274.88  11456.7  11577.276837\n",
              "2106   22.68   21.65   22.34      22.34  47406.8  47546.231765\n",
              "1191    3.24    3.20    3.21       3.21   8286.6   8312.414953\n",
              "399     3.73    3.61    3.71       3.71  18925.2  18925.200000\n",
              "...      ...     ...     ...        ...      ...           ...\n",
              "1033    3.89    3.80    3.88       3.88   5491.5   5498.650391\n",
              "3264   83.81   82.99   83.38      83.38  11907.0  11879.224834\n",
              "1653    4.12    3.93    4.07       4.07   4821.6   4851.735000\n",
              "2607    8.01    7.74    7.94       7.94  21350.7  21122.708857\n",
              "2732   26.45   25.16   25.24      25.24  32280.5  32343.168414\n",
              "\n",
              "[3206 rows x 6 columns]"
            ]
          },
          "metadata": {},
          "execution_count": 14
        }
      ]
    },
    {
      "cell_type": "code",
      "metadata": {
        "colab": {
          "base_uri": "https://localhost:8080/"
        },
        "id": "cqopfFTkR0qu",
        "outputId": "79ac31a7-dc44-4304-f67a-011414e9dbd1"
      },
      "source": [
        "y_train"
      ],
      "execution_count": 15,
      "outputs": [
        {
          "output_type": "execute_result",
          "data": {
            "text/plain": [
              "1643      3.17\n",
              "4168    267.66\n",
              "2106     21.86\n",
              "1191      3.21\n",
              "399       3.63\n",
              "         ...  \n",
              "1033      3.80\n",
              "3264     83.81\n",
              "1653      3.93\n",
              "2607      7.98\n",
              "2732     26.27\n",
              "Name: Open, Length: 3206, dtype: float64"
            ]
          },
          "metadata": {},
          "execution_count": 15
        }
      ]
    },
    {
      "cell_type": "markdown",
      "metadata": {
        "id": "L-qauNAISbJO"
      },
      "source": [
        "linear regression modeling"
      ]
    },
    {
      "cell_type": "code",
      "metadata": {
        "id": "9ELXVGzCSfJm"
      },
      "source": [
        "from sklearn.linear_model import LinearRegression\n",
        "lrm = LinearRegression()"
      ],
      "execution_count": 16,
      "outputs": []
    },
    {
      "cell_type": "code",
      "metadata": {
        "colab": {
          "base_uri": "https://localhost:8080/"
        },
        "id": "Q5JXfoo_SjsS",
        "outputId": "f1ea0d16-2c35-4722-a3d8-d85d009e030c"
      },
      "source": [
        "lrm.fit(x_train,y_train)"
      ],
      "execution_count": 17,
      "outputs": [
        {
          "output_type": "execute_result",
          "data": {
            "text/plain": [
              "LinearRegression(copy_X=True, fit_intercept=True, n_jobs=None, normalize=False)"
            ]
          },
          "metadata": {},
          "execution_count": 17
        }
      ]
    },
    {
      "cell_type": "code",
      "metadata": {
        "colab": {
          "base_uri": "https://localhost:8080/"
        },
        "id": "lmwdTfGLSkDz",
        "outputId": "1f809020-3d2a-4463-a9df-33528b008b37"
      },
      "source": [
        "lrm.score(x_test,y_test)"
      ],
      "execution_count": 18,
      "outputs": [
        {
          "output_type": "execute_result",
          "data": {
            "text/plain": [
              "0.9998581140100695"
            ]
          },
          "metadata": {},
          "execution_count": 18
        }
      ]
    },
    {
      "cell_type": "code",
      "metadata": {
        "colab": {
          "base_uri": "https://localhost:8080/"
        },
        "id": "HxidRVZ-VsFB",
        "outputId": "2edb80d9-a748-4562-8ed6-10b3f953abd4"
      },
      "source": [
        "pred=lrm.predict(x_test)\n",
        "pred"
      ],
      "execution_count": 19,
      "outputs": [
        {
          "output_type": "execute_result",
          "data": {
            "text/plain": [
              "array([16.77815656,  3.77394932, 94.64764214, ...,  0.71231229,\n",
              "        3.52970988,  0.92005962])"
            ]
          },
          "metadata": {},
          "execution_count": 19
        }
      ]
    },
    {
      "cell_type": "code",
      "metadata": {
        "colab": {
          "base_uri": "https://localhost:8080/"
        },
        "id": "G5hMzpemzShy",
        "outputId": "a5536d82-597b-4405-cff5-5d45f520c4e3"
      },
      "source": [
        "accuracy = lrm.score(x_test,y_test)\n",
        "print(\"accuracy = \", accuracy * 100, \"%\")"
      ],
      "execution_count": 20,
      "outputs": [
        {
          "output_type": "stream",
          "name": "stdout",
          "text": [
            "accuracy =  99.98581140100696 %\n"
          ]
        }
      ]
    },
    {
      "cell_type": "markdown",
      "metadata": {
        "id": "QxGgxA4Nelk2"
      },
      "source": [
        "**Checking it on random rows**"
      ]
    },
    {
      "cell_type": "code",
      "metadata": {
        "colab": {
          "base_uri": "https://localhost:8080/"
        },
        "id": "ExUCo3DDesQe",
        "outputId": "2e348cfe-ab7f-4299-b9d4-96b655df2c3d"
      },
      "source": [
        "import random\n",
        "dscheck=ds.loc[[random.randint(0,2000)]]\n",
        "dscheck['Open'] #actual value or observed value"
      ],
      "execution_count": 48,
      "outputs": [
        {
          "output_type": "execute_result",
          "data": {
            "text/plain": [
              "550    2.87\n",
              "Name: Open, dtype: float64"
            ]
          },
          "metadata": {},
          "execution_count": 48
        }
      ]
    },
    {
      "cell_type": "code",
      "metadata": {
        "colab": {
          "base_uri": "https://localhost:8080/"
        },
        "id": "V9k2TjwnjfqK",
        "outputId": "ea263fce-5006-4523-916d-b1086f089455"
      },
      "source": [
        "datac=np.asarray(dscheck.drop(['Date','Open'],1))\n",
        "pp=lrm.predict(datac) #predicted value\n",
        "pp"
      ],
      "execution_count": 49,
      "outputs": [
        {
          "output_type": "execute_result",
          "data": {
            "text/plain": [
              "array([2.83607785])"
            ]
          },
          "metadata": {},
          "execution_count": 49
        }
      ]
    },
    {
      "cell_type": "markdown",
      "metadata": {
        "id": "WoRjt8u70nVZ"
      },
      "source": [
        "k fold validation"
      ]
    },
    {
      "cell_type": "code",
      "metadata": {
        "id": "Y9ijr9Do0LkS"
      },
      "source": [
        "from sklearn.model_selection import KFold\n",
        "from sklearn.model_selection import cross_val_score"
      ],
      "execution_count": 21,
      "outputs": []
    },
    {
      "cell_type": "code",
      "metadata": {
        "id": "76G0YaI20rnZ"
      },
      "source": [
        "kfold_cv = KFold(n_splits=10, random_state=45, shuffle=True)"
      ],
      "execution_count": 22,
      "outputs": []
    },
    {
      "cell_type": "code",
      "metadata": {
        "id": "tAB7VhlB0uUP"
      },
      "source": [
        "model = LinearRegression()"
      ],
      "execution_count": 23,
      "outputs": []
    },
    {
      "cell_type": "code",
      "metadata": {
        "colab": {
          "base_uri": "https://localhost:8080/"
        },
        "id": "_Etojg1M0xpD",
        "outputId": "b58920ab-b0f2-4392-98e4-4675e3e237a1"
      },
      "source": [
        "kfold_scores = cross_val_score(model ,x_train, y_train, cv = kfold_cv)\n",
        "kfold_scores"
      ],
      "execution_count": 24,
      "outputs": [
        {
          "output_type": "execute_result",
          "data": {
            "text/plain": [
              "array([0.9997976 , 0.99988894, 0.99974054, 0.99986993, 0.99987937,\n",
              "       0.99984055, 0.99988202, 0.99988116, 0.99977194, 0.99987736])"
            ]
          },
          "metadata": {},
          "execution_count": 24
        }
      ]
    },
    {
      "cell_type": "code",
      "metadata": {
        "colab": {
          "base_uri": "https://localhost:8080/"
        },
        "id": "KJWHPPAr0479",
        "outputId": "f503dba2-e4c8-452d-b1e6-628d475fe4e5"
      },
      "source": [
        "cross_validation_accuracy = np.mean(kfold_scores)\n",
        "cross_validation_accuracy"
      ],
      "execution_count": 25,
      "outputs": [
        {
          "output_type": "execute_result",
          "data": {
            "text/plain": [
              "0.9998429413916057"
            ]
          },
          "metadata": {},
          "execution_count": 25
        }
      ]
    },
    {
      "cell_type": "markdown",
      "metadata": {
        "id": "aGaQBr4n06dF"
      },
      "source": [
        "Mean Absolute Error (MAE)"
      ]
    },
    {
      "cell_type": "code",
      "metadata": {
        "colab": {
          "base_uri": "https://localhost:8080/"
        },
        "id": "2E-neKIn0-6c",
        "outputId": "6fe6600e-aa18-4d73-92c6-b2e21ca1a3a4"
      },
      "source": [
        "from sklearn.metrics import mean_absolute_error\n",
        "mean_absolute_error(y_test,pred)"
      ],
      "execution_count": 26,
      "outputs": [
        {
          "output_type": "execute_result",
          "data": {
            "text/plain": [
              "0.5484166327562995"
            ]
          },
          "metadata": {},
          "execution_count": 26
        }
      ]
    },
    {
      "cell_type": "markdown",
      "metadata": {
        "id": "FYntduvg2VHW"
      },
      "source": [
        "Mean Squared Error (MSE)"
      ]
    },
    {
      "cell_type": "code",
      "metadata": {
        "colab": {
          "base_uri": "https://localhost:8080/"
        },
        "id": "ioQD_Cx72V1X",
        "outputId": "31b757fc-cbd7-4577-f334-7f038a9cb3a0"
      },
      "source": [
        "from sklearn.metrics import mean_squared_error\n",
        "mean_squared_error(y_test,pred)"
      ],
      "execution_count": 27,
      "outputs": [
        {
          "output_type": "execute_result",
          "data": {
            "text/plain": [
              "1.9370951422043736"
            ]
          },
          "metadata": {},
          "execution_count": 27
        }
      ]
    },
    {
      "cell_type": "markdown",
      "metadata": {
        "id": "kuQp4aN-2iiO"
      },
      "source": [
        "Root Mean Squared Error (RMS)"
      ]
    },
    {
      "cell_type": "code",
      "metadata": {
        "colab": {
          "base_uri": "https://localhost:8080/"
        },
        "id": "NaapS_uR2jbx",
        "outputId": "8155dec1-3aa2-45f9-814e-53f6393ab287"
      },
      "source": [
        "np.sqrt(mean_squared_error(y_test,pred))"
      ],
      "execution_count": 28,
      "outputs": [
        {
          "output_type": "execute_result",
          "data": {
            "text/plain": [
              "1.3917956538962082"
            ]
          },
          "metadata": {},
          "execution_count": 28
        }
      ]
    }
  ]
}