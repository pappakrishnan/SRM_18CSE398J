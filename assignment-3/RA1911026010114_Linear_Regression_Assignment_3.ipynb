{
  "nbformat": 4,
  "nbformat_minor": 0,
  "metadata": {
    "colab": {
      "name": "RA1911026010114_Linear_Regression Assignment 3.ipynb",
      "provenance": []
    },
    "kernelspec": {
      "name": "python3",
      "display_name": "Python 3"
    },
    "language_info": {
      "name": "python"
    }
  },
  "cells": [
    {
      "cell_type": "code",
      "metadata": {
        "id": "LLWfKIdbDnNX"
      },
      "source": [
        "import numpy as np\n",
        "import matplotlib.pyplot as plt\n",
        "import pandas as pd\n",
        "from sklearn.model_selection import KFold \n",
        "from sklearn.model_selection import train_test_split\n",
        "from sklearn.linear_model import LinearRegression\n",
        "from sklearn.metrics import r2_score"
      ],
      "execution_count": 144,
      "outputs": []
    },
    {
      "cell_type": "code",
      "metadata": {
        "colab": {
          "base_uri": "https://localhost:8080/"
        },
        "id": "cBRXKKFpGEAS",
        "outputId": "86b47348-f5b1-4262-dc84-0b5ca3d0cf3c"
      },
      "source": [
        "from google.colab import drive\n",
        "drive.mount('/content/drive')"
      ],
      "execution_count": 145,
      "outputs": [
        {
          "output_type": "stream",
          "name": "stdout",
          "text": [
            "Drive already mounted at /content/drive; to attempt to forcibly remount, call drive.mount(\"/content/drive\", force_remount=True).\n"
          ]
        }
      ]
    },
    {
      "cell_type": "code",
      "metadata": {
        "colab": {
          "base_uri": "https://localhost:8080/"
        },
        "id": "pEYBwQjQGWGW",
        "outputId": "046436a8-426a-4978-9f2f-ccf03b93c6b0"
      },
      "source": [
        "dataset=pd.read_csv(r'/content/drive/MyDrive/ml datasets/Salary.csv')\n",
        "print(dataset)"
      ],
      "execution_count": 146,
      "outputs": [
        {
          "output_type": "stream",
          "name": "stdout",
          "text": [
            "      Years of Experience  Salary\n",
            "0                       0    1036\n",
            "1                       0    1041\n",
            "2                       0    1054\n",
            "3                       0    1069\n",
            "4                       0    1110\n",
            "...                   ...     ...\n",
            "4995                   29   99841\n",
            "4996                   29   99934\n",
            "4997                   29   99940\n",
            "4998                   29   99941\n",
            "4999                   29   99980\n",
            "\n",
            "[5000 rows x 2 columns]\n"
          ]
        }
      ]
    },
    {
      "cell_type": "code",
      "metadata": {
        "id": "_KvklY_4Gfko"
      },
      "source": [
        "X = dataset.iloc[:, :-1].values\n",
        "y = dataset.iloc[:, -1].values"
      ],
      "execution_count": 147,
      "outputs": []
    },
    {
      "cell_type": "code",
      "metadata": {
        "id": "U_gapfzyGk4C"
      },
      "source": [
        "X_train, X_test, y_train, y_test = train_test_split(X, y, test_size = 0.20, random_state = 0)"
      ],
      "execution_count": null,
      "outputs": []
    },
    {
      "cell_type": "code",
      "metadata": {
        "colab": {
          "base_uri": "https://localhost:8080/"
        },
        "id": "7VB0e2P-Gk-O",
        "outputId": "b4b43662-70da-4bae-c621-9404ec4e11c0"
      },
      "source": [
        "lr = LinearRegression()\n",
        "lr.fit(X_train, y_train)"
      ],
      "execution_count": 149,
      "outputs": [
        {
          "output_type": "execute_result",
          "data": {
            "text/plain": [
              "LinearRegression(copy_X=True, fit_intercept=True, n_jobs=None, normalize=False)"
            ]
          },
          "metadata": {},
          "execution_count": 149
        }
      ]
    },
    {
      "cell_type": "code",
      "metadata": {
        "id": "fwxsNi__GrtG"
      },
      "source": [
        "pred = lr.predict(X_test)"
      ],
      "execution_count": 150,
      "outputs": []
    },
    {
      "cell_type": "code",
      "metadata": {
        "colab": {
          "base_uri": "https://localhost:8080/"
        },
        "id": "X8iaFsHYGzwq",
        "outputId": "670d1902-5c19-44aa-fd58-11646dc572bc"
      },
      "source": [
        "k = 5\n",
        "kf = KFold(n_splits=5, random_state=None)\n",
        "model = LinearRegression()\n",
        " \n",
        "acc_score = []\n",
        " \n",
        "for train_index , test_index in kf.split(X):\n",
        "    X_train , X_test = X[train_index,:],X[test_index,:]\n",
        "    y_train , y_test = y[train_index] , y[test_index]\n",
        "     \n",
        "    model.fit(X_train,y_train)\n",
        "    pred_values = model.predict(X_test)\n",
        "    acc = r2_score(pred_values , y_test)\n",
        "    acc_score.append(acc)\n",
        "\n",
        "avg_acc_score = sum(acc_score)/k\n",
        " \n",
        "print('Accuracy of each fold - {}'.format(acc_score))\n",
        "print('Avg accuracy : {}'.format(avg_acc_score))"
      ],
      "execution_count": 151,
      "outputs": [
        {
          "output_type": "stream",
          "name": "stdout",
          "text": [
            "Accuracy of each fold - [0.9499925931720771, 0.9678740356424723, 0.9490580628846396, 0.9460286413842853, 0.966294213463546]\n",
            "Avg accuracy : 0.9558495093094042\n"
          ]
        }
      ]
    },
    {
      "cell_type": "code",
      "metadata": {
        "colab": {
          "base_uri": "https://localhost:8080/",
          "height": 295
        },
        "id": "TPaxEjevG5cB",
        "outputId": "f3898e65-eeab-4499-9387-143f6266cc65"
      },
      "source": [
        "plt.scatter(X_train,y_train,color='purple')\n",
        "plt.plot(X_train ,lr.predict(X_train),color='black')\n",
        "plt.title('Train')\n",
        "plt.xlabel('Years Of Experience')\n",
        "plt.ylabel('Salary')\n",
        "plt.show()"
      ],
      "execution_count": 152,
      "outputs": [
        {
          "output_type": "display_data",
          "data": {
            "image/png": "[encoded data removed]",
            "text/plain": [
              "<Figure size 432x288 with 1 Axes>"
            ]
          },
          "metadata": {
            "needs_background": "light"
          }
        }
      ]
    }
  ]
}