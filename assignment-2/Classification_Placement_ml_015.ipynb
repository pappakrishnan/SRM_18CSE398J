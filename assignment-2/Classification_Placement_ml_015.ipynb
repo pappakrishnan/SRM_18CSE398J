{
 "cells": [
  {
   "cell_type": "markdown",
   "id": "d23deecf",
   "metadata": {},
   "source": [
    "# Placement Prediction Classifier using ML"
   ]
  },
  {
   "cell_type": "markdown",
   "id": "fb00da36",
   "metadata": {},
   "source": [
    "### Register no: RA1811031010015\n",
    "### Name: Shamik Basu\n",
    "### Class: CSE-IT 'K1'\n",
    "### Dataset link: https://www.kaggle.com/tejashvi14/engineering-placements-prediction"
   ]
  },
  {
   "cell_type": "code",
   "execution_count": 295,
   "id": "bca4bf44",
   "metadata": {
    "id": "bca4bf44"
   },
   "outputs": [],
   "source": [
    "\n",
    "warnings.filterwarnings('ignore')\n",
    "\n",
    "%matplotlib inline\n",
    "\n",
    "import seaborn as sns\n",
    "from numpy import arange\n",
    "from matplotlib import pyplot as plt\n",
    "from scipy.stats import norm\n",
    "import pandas as pd\n",
    "from matplotlib import rcParams\n",
    "\n",
    "from sklearn.model_selection import KFold \n",
    "from sklearn.metrics import accuracy_score\n",
    "\n",
    "from sklearn.model_selection import cross_val_score\n",
    "from sklearn.model_selection import cross_val_score\n",
    "from sklearn.model_selection import KFold\n",
    "\n",
    "\n",
    "from sklearn.metrics import recall_score, precision_score, confusion_matrix\n",
    "\n",
    "rcParams['figure.figsize'] = [18, 7]\n",
    "rcParams['font.size'] = '18'\n",
    "sns.set_style('darkgrid')"
   ]
  },
  {
   "cell_type": "markdown",
   "id": "af1c0814",
   "metadata": {},
   "source": [
    "## Data Cleaning"
   ]
  },
  {
   "cell_type": "code",
   "execution_count": 296,
   "id": "f70429e6",
   "metadata": {
    "colab": {
     "base_uri": "https://localhost:8080/",
     "height": 204
    },
    "id": "f70429e6",
    "outputId": "4d7fda29-63ff-494c-fe18-3ac4c4dbc8bc"
   },
   "outputs": [
    {
     "data": {
      "text/html": [
       "<div>\n",
       "<style scoped>\n",
       "    .dataframe tbody tr th:only-of-type {\n",
       "        vertical-align: middle;\n",
       "    }\n",
       "\n",
       "    .dataframe tbody tr th {\n",
       "        vertical-align: top;\n",
       "    }\n",
       "\n",
       "    .dataframe thead th {\n",
       "        text-align: right;\n",
       "    }\n",
       "</style>\n",
       "<table border=\"1\" class=\"dataframe\">\n",
       "  <thead>\n",
       "    <tr style=\"text-align: right;\">\n",
       "      <th></th>\n",
       "      <th>Age</th>\n",
       "      <th>Gender</th>\n",
       "      <th>Stream</th>\n",
       "      <th>Internships</th>\n",
       "      <th>CGPA</th>\n",
       "      <th>Hostel</th>\n",
       "      <th>HistoryOfBacklogs</th>\n",
       "      <th>PlacedOrNot</th>\n",
       "    </tr>\n",
       "  </thead>\n",
       "  <tbody>\n",
       "    <tr>\n",
       "      <th>0</th>\n",
       "      <td>22</td>\n",
       "      <td>Male</td>\n",
       "      <td>Electronics And Communication</td>\n",
       "      <td>1</td>\n",
       "      <td>8</td>\n",
       "      <td>1</td>\n",
       "      <td>1</td>\n",
       "      <td>1</td>\n",
       "    </tr>\n",
       "    <tr>\n",
       "      <th>1</th>\n",
       "      <td>21</td>\n",
       "      <td>Female</td>\n",
       "      <td>Computer Science</td>\n",
       "      <td>0</td>\n",
       "      <td>7</td>\n",
       "      <td>1</td>\n",
       "      <td>1</td>\n",
       "      <td>1</td>\n",
       "    </tr>\n",
       "    <tr>\n",
       "      <th>2</th>\n",
       "      <td>22</td>\n",
       "      <td>Female</td>\n",
       "      <td>Information Technology</td>\n",
       "      <td>1</td>\n",
       "      <td>6</td>\n",
       "      <td>0</td>\n",
       "      <td>0</td>\n",
       "      <td>1</td>\n",
       "    </tr>\n",
       "    <tr>\n",
       "      <th>3</th>\n",
       "      <td>21</td>\n",
       "      <td>Male</td>\n",
       "      <td>Information Technology</td>\n",
       "      <td>0</td>\n",
       "      <td>8</td>\n",
       "      <td>0</td>\n",
       "      <td>1</td>\n",
       "      <td>1</td>\n",
       "    </tr>\n",
       "    <tr>\n",
       "      <th>4</th>\n",
       "      <td>22</td>\n",
       "      <td>Male</td>\n",
       "      <td>Mechanical</td>\n",
       "      <td>0</td>\n",
       "      <td>8</td>\n",
       "      <td>1</td>\n",
       "      <td>0</td>\n",
       "      <td>1</td>\n",
       "    </tr>\n",
       "  </tbody>\n",
       "</table>\n",
       "</div>"
      ],
      "text/plain": [
       "   Age  Gender                         Stream  Internships  CGPA  Hostel  \\\n",
       "0   22    Male  Electronics And Communication            1     8       1   \n",
       "1   21  Female               Computer Science            0     7       1   \n",
       "2   22  Female         Information Technology            1     6       0   \n",
       "3   21    Male         Information Technology            0     8       0   \n",
       "4   22    Male                     Mechanical            0     8       1   \n",
       "\n",
       "   HistoryOfBacklogs  PlacedOrNot  \n",
       "0                  1            1  \n",
       "1                  1            1  \n",
       "2                  0            1  \n",
       "3                  1            1  \n",
       "4                  0            1  "
      ]
     },
     "execution_count": 296,
     "metadata": {},
     "output_type": "execute_result"
    }
   ],
   "source": [
    "file_name = '/home/shamik/Desktop/Shamik/SRM/ML_Sem_7/regression_015/collegePlace.csv'\n",
    "\n",
    "df = pd.read_csv(file_name, header=0)\n",
    "\n",
    "df.head()"
   ]
  },
  {
   "cell_type": "code",
   "execution_count": 297,
   "id": "88fd712f",
   "metadata": {
    "colab": {
     "base_uri": "https://localhost:8080/"
    },
    "id": "88fd712f",
    "outputId": "db281943-5561-4742-e5e9-5f06cb99c0bd"
   },
   "outputs": [
    {
     "data": {
      "text/plain": [
       "Age                   int64\n",
       "Gender               object\n",
       "Stream               object\n",
       "Internships           int64\n",
       "CGPA                  int64\n",
       "Hostel                int64\n",
       "HistoryOfBacklogs     int64\n",
       "PlacedOrNot           int64\n",
       "dtype: object"
      ]
     },
     "execution_count": 297,
     "metadata": {},
     "output_type": "execute_result"
    }
   ],
   "source": [
    "df.dtypes"
   ]
  },
  {
   "cell_type": "code",
   "execution_count": 298,
   "id": "6eaf7b02",
   "metadata": {
    "colab": {
     "base_uri": "https://localhost:8080/"
    },
    "id": "6eaf7b02",
    "outputId": "b51d20dd-1bf7-4f2e-8e13-2e7475697700"
   },
   "outputs": [
    {
     "name": "stdout",
     "output_type": "stream",
     "text": [
      "<class 'pandas.core.frame.DataFrame'>\n",
      "RangeIndex: 2966 entries, 0 to 2965\n",
      "Data columns (total 8 columns):\n",
      " #   Column             Non-Null Count  Dtype \n",
      "---  ------             --------------  ----- \n",
      " 0   Age                2966 non-null   int64 \n",
      " 1   Gender             2966 non-null   object\n",
      " 2   Stream             2966 non-null   object\n",
      " 3   Internships        2966 non-null   int64 \n",
      " 4   CGPA               2966 non-null   int64 \n",
      " 5   Hostel             2966 non-null   int64 \n",
      " 6   HistoryOfBacklogs  2966 non-null   int64 \n",
      " 7   PlacedOrNot        2966 non-null   int64 \n",
      "dtypes: int64(6), object(2)\n",
      "memory usage: 185.5+ KB\n"
     ]
    }
   ],
   "source": [
    "df.info()"
   ]
  },
  {
   "cell_type": "code",
   "execution_count": 299,
   "id": "ed1d9f14",
   "metadata": {
    "colab": {
     "base_uri": "https://localhost:8080/"
    },
    "id": "ed1d9f14",
    "outputId": "03881015-ecdf-452b-979d-46f918e7fec0"
   },
   "outputs": [
    {
     "data": {
      "text/plain": [
       "Index                  128\n",
       "Age                  23728\n",
       "Gender               23728\n",
       "Stream               23728\n",
       "Internships          23728\n",
       "CGPA                 23728\n",
       "Hostel               23728\n",
       "HistoryOfBacklogs    23728\n",
       "PlacedOrNot          23728\n",
       "dtype: int64"
      ]
     },
     "execution_count": 299,
     "metadata": {},
     "output_type": "execute_result"
    }
   ],
   "source": [
    "df.memory_usage()"
   ]
  },
  {
   "cell_type": "code",
   "execution_count": 300,
   "id": "b15940c0",
   "metadata": {
    "colab": {
     "base_uri": "https://localhost:8080/"
    },
    "id": "b15940c0",
    "outputId": "08549cd0-977a-488a-cd2d-40fd1623640c"
   },
   "outputs": [
    {
     "data": {
      "text/plain": [
       "189952"
      ]
     },
     "execution_count": 300,
     "metadata": {},
     "output_type": "execute_result"
    }
   ],
   "source": [
    "df.memory_usage().sum()"
   ]
  },
  {
   "cell_type": "code",
   "execution_count": 301,
   "id": "1f999bbe",
   "metadata": {
    "colab": {
     "base_uri": "https://localhost:8080/",
     "height": 297
    },
    "id": "1f999bbe",
    "outputId": "93c5b7b3-43a2-48a7-a698-679d60a15a4c"
   },
   "outputs": [
    {
     "data": {
      "text/html": [
       "<div>\n",
       "<style scoped>\n",
       "    .dataframe tbody tr th:only-of-type {\n",
       "        vertical-align: middle;\n",
       "    }\n",
       "\n",
       "    .dataframe tbody tr th {\n",
       "        vertical-align: top;\n",
       "    }\n",
       "\n",
       "    .dataframe thead th {\n",
       "        text-align: right;\n",
       "    }\n",
       "</style>\n",
       "<table border=\"1\" class=\"dataframe\">\n",
       "  <thead>\n",
       "    <tr style=\"text-align: right;\">\n",
       "      <th></th>\n",
       "      <th>Age</th>\n",
       "      <th>Internships</th>\n",
       "      <th>CGPA</th>\n",
       "      <th>Hostel</th>\n",
       "      <th>HistoryOfBacklogs</th>\n",
       "      <th>PlacedOrNot</th>\n",
       "    </tr>\n",
       "  </thead>\n",
       "  <tbody>\n",
       "    <tr>\n",
       "      <th>count</th>\n",
       "      <td>2966.000000</td>\n",
       "      <td>2966.000000</td>\n",
       "      <td>2966.000000</td>\n",
       "      <td>2966.000000</td>\n",
       "      <td>2966.000000</td>\n",
       "      <td>2966.000000</td>\n",
       "    </tr>\n",
       "    <tr>\n",
       "      <th>mean</th>\n",
       "      <td>21.485840</td>\n",
       "      <td>0.703641</td>\n",
       "      <td>7.073837</td>\n",
       "      <td>0.269049</td>\n",
       "      <td>0.192178</td>\n",
       "      <td>0.552596</td>\n",
       "    </tr>\n",
       "    <tr>\n",
       "      <th>std</th>\n",
       "      <td>1.324933</td>\n",
       "      <td>0.740197</td>\n",
       "      <td>0.967748</td>\n",
       "      <td>0.443540</td>\n",
       "      <td>0.394079</td>\n",
       "      <td>0.497310</td>\n",
       "    </tr>\n",
       "    <tr>\n",
       "      <th>min</th>\n",
       "      <td>19.000000</td>\n",
       "      <td>0.000000</td>\n",
       "      <td>5.000000</td>\n",
       "      <td>0.000000</td>\n",
       "      <td>0.000000</td>\n",
       "      <td>0.000000</td>\n",
       "    </tr>\n",
       "    <tr>\n",
       "      <th>25%</th>\n",
       "      <td>21.000000</td>\n",
       "      <td>0.000000</td>\n",
       "      <td>6.000000</td>\n",
       "      <td>0.000000</td>\n",
       "      <td>0.000000</td>\n",
       "      <td>0.000000</td>\n",
       "    </tr>\n",
       "    <tr>\n",
       "      <th>50%</th>\n",
       "      <td>21.000000</td>\n",
       "      <td>1.000000</td>\n",
       "      <td>7.000000</td>\n",
       "      <td>0.000000</td>\n",
       "      <td>0.000000</td>\n",
       "      <td>1.000000</td>\n",
       "    </tr>\n",
       "    <tr>\n",
       "      <th>75%</th>\n",
       "      <td>22.000000</td>\n",
       "      <td>1.000000</td>\n",
       "      <td>8.000000</td>\n",
       "      <td>1.000000</td>\n",
       "      <td>0.000000</td>\n",
       "      <td>1.000000</td>\n",
       "    </tr>\n",
       "    <tr>\n",
       "      <th>max</th>\n",
       "      <td>30.000000</td>\n",
       "      <td>3.000000</td>\n",
       "      <td>9.000000</td>\n",
       "      <td>1.000000</td>\n",
       "      <td>1.000000</td>\n",
       "      <td>1.000000</td>\n",
       "    </tr>\n",
       "  </tbody>\n",
       "</table>\n",
       "</div>"
      ],
      "text/plain": [
       "               Age  Internships         CGPA       Hostel  HistoryOfBacklogs  \\\n",
       "count  2966.000000  2966.000000  2966.000000  2966.000000        2966.000000   \n",
       "mean     21.485840     0.703641     7.073837     0.269049           0.192178   \n",
       "std       1.324933     0.740197     0.967748     0.443540           0.394079   \n",
       "min      19.000000     0.000000     5.000000     0.000000           0.000000   \n",
       "25%      21.000000     0.000000     6.000000     0.000000           0.000000   \n",
       "50%      21.000000     1.000000     7.000000     0.000000           0.000000   \n",
       "75%      22.000000     1.000000     8.000000     1.000000           0.000000   \n",
       "max      30.000000     3.000000     9.000000     1.000000           1.000000   \n",
       "\n",
       "       PlacedOrNot  \n",
       "count  2966.000000  \n",
       "mean      0.552596  \n",
       "std       0.497310  \n",
       "min       0.000000  \n",
       "25%       0.000000  \n",
       "50%       1.000000  \n",
       "75%       1.000000  \n",
       "max       1.000000  "
      ]
     },
     "execution_count": 301,
     "metadata": {},
     "output_type": "execute_result"
    }
   ],
   "source": [
    "df.describe()"
   ]
  },
  {
   "cell_type": "code",
   "execution_count": 302,
   "id": "3ca882eb",
   "metadata": {
    "colab": {
     "base_uri": "https://localhost:8080/"
    },
    "id": "3ca882eb",
    "outputId": "2cadbc82-8a62-4138-efad-39b2ced98c36"
   },
   "outputs": [
    {
     "data": {
      "text/plain": [
       "Age                  21.485840\n",
       "Internships           0.703641\n",
       "CGPA                  7.073837\n",
       "Hostel                0.269049\n",
       "HistoryOfBacklogs     0.192178\n",
       "PlacedOrNot           0.552596\n",
       "dtype: float64"
      ]
     },
     "execution_count": 302,
     "metadata": {},
     "output_type": "execute_result"
    }
   ],
   "source": [
    "df.mean()"
   ]
  },
  {
   "cell_type": "code",
   "execution_count": 303,
   "id": "b53747c8",
   "metadata": {
    "colab": {
     "base_uri": "https://localhost:8080/"
    },
    "id": "b53747c8",
    "outputId": "4d844e26-e020-479d-976b-79320dbb532e"
   },
   "outputs": [
    {
     "data": {
      "text/plain": [
       "Age                  1.755449\n",
       "Internships          0.547892\n",
       "CGPA                 0.936536\n",
       "Hostel               0.196728\n",
       "HistoryOfBacklogs    0.155298\n",
       "PlacedOrNot          0.247317\n",
       "dtype: float64"
      ]
     },
     "execution_count": 303,
     "metadata": {},
     "output_type": "execute_result"
    }
   ],
   "source": [
    "df.var()"
   ]
  },
  {
   "cell_type": "code",
   "execution_count": 304,
   "id": "86fc2390",
   "metadata": {
    "colab": {
     "base_uri": "https://localhost:8080/"
    },
    "id": "86fc2390",
    "outputId": "f3242948-4fd1-4bab-d47d-fe12c90d6e4c"
   },
   "outputs": [
    {
     "data": {
      "text/plain": [
       "Age                  0.996099\n",
       "Internships          0.789343\n",
       "CGPA                 0.006222\n",
       "Hostel               1.042100\n",
       "HistoryOfBacklogs    1.563290\n",
       "PlacedOrNot         -0.211665\n",
       "dtype: float64"
      ]
     },
     "execution_count": 304,
     "metadata": {},
     "output_type": "execute_result"
    }
   ],
   "source": [
    "df.skew()"
   ]
  },
  {
   "cell_type": "code",
   "execution_count": 305,
   "id": "05678052",
   "metadata": {
    "colab": {
     "base_uri": "https://localhost:8080/"
    },
    "id": "05678052",
    "outputId": "e0ad86a5-b1d8-4d50-a05b-60c9b06c0087"
   },
   "outputs": [
    {
     "data": {
      "text/plain": [
       "Age                  2.831266\n",
       "Internships          0.084428\n",
       "CGPA                -0.757038\n",
       "Hostel              -0.914646\n",
       "HistoryOfBacklogs    0.444176\n",
       "PlacedOrNot         -1.956518\n",
       "dtype: float64"
      ]
     },
     "execution_count": 305,
     "metadata": {},
     "output_type": "execute_result"
    }
   ],
   "source": [
    "df.kurtosis()"
   ]
  },
  {
   "cell_type": "code",
   "execution_count": 306,
   "id": "066c49ad",
   "metadata": {
    "colab": {
     "base_uri": "https://localhost:8080/"
    },
    "id": "066c49ad",
    "outputId": "677d8b24-f3e4-41b5-ad16-b558bb83246b"
   },
   "outputs": [
    {
     "data": {
      "text/plain": [
       "Age                      19\n",
       "Gender               Female\n",
       "Stream                Civil\n",
       "Internships               0\n",
       "CGPA                      5\n",
       "Hostel                    0\n",
       "HistoryOfBacklogs         0\n",
       "PlacedOrNot               0\n",
       "dtype: object"
      ]
     },
     "execution_count": 306,
     "metadata": {},
     "output_type": "execute_result"
    }
   ],
   "source": [
    "df.min()"
   ]
  },
  {
   "cell_type": "code",
   "execution_count": 307,
   "id": "a18b9396",
   "metadata": {
    "colab": {
     "base_uri": "https://localhost:8080/"
    },
    "id": "a18b9396",
    "outputId": "ddb06004-ac57-4b7d-f89b-e254cfe6d154"
   },
   "outputs": [
    {
     "data": {
      "text/plain": [
       "Age                          30\n",
       "Gender                     Male\n",
       "Stream               Mechanical\n",
       "Internships                   3\n",
       "CGPA                          9\n",
       "Hostel                        1\n",
       "HistoryOfBacklogs             1\n",
       "PlacedOrNot                   1\n",
       "dtype: object"
      ]
     },
     "execution_count": 307,
     "metadata": {},
     "output_type": "execute_result"
    }
   ],
   "source": [
    "df.max()"
   ]
  },
  {
   "cell_type": "code",
   "execution_count": 308,
   "id": "ebc67d12",
   "metadata": {
    "colab": {
     "base_uri": "https://localhost:8080/"
    },
    "id": "ebc67d12",
    "outputId": "160b8c66-6d8a-4baa-c307-89735e2f7d02"
   },
   "outputs": [
    {
     "data": {
      "text/plain": [
       "Age                  21.0\n",
       "Internships           1.0\n",
       "CGPA                  7.0\n",
       "Hostel                0.0\n",
       "HistoryOfBacklogs     0.0\n",
       "PlacedOrNot           1.0\n",
       "dtype: float64"
      ]
     },
     "execution_count": 308,
     "metadata": {},
     "output_type": "execute_result"
    }
   ],
   "source": [
    "df.median()"
   ]
  },
  {
   "cell_type": "code",
   "execution_count": 309,
   "id": "d72d75c2",
   "metadata": {
    "colab": {
     "base_uri": "https://localhost:8080/",
     "height": 235
    },
    "id": "d72d75c2",
    "outputId": "cb2c3d75-0939-478c-cd47-abbd95a08e11",
    "scrolled": true
   },
   "outputs": [
    {
     "data": {
      "text/html": [
       "<div>\n",
       "<style scoped>\n",
       "    .dataframe tbody tr th:only-of-type {\n",
       "        vertical-align: middle;\n",
       "    }\n",
       "\n",
       "    .dataframe tbody tr th {\n",
       "        vertical-align: top;\n",
       "    }\n",
       "\n",
       "    .dataframe thead th {\n",
       "        text-align: right;\n",
       "    }\n",
       "</style>\n",
       "<table border=\"1\" class=\"dataframe\">\n",
       "  <thead>\n",
       "    <tr style=\"text-align: right;\">\n",
       "      <th></th>\n",
       "      <th>Age</th>\n",
       "      <th>Internships</th>\n",
       "      <th>CGPA</th>\n",
       "      <th>Hostel</th>\n",
       "      <th>HistoryOfBacklogs</th>\n",
       "      <th>PlacedOrNot</th>\n",
       "    </tr>\n",
       "  </thead>\n",
       "  <tbody>\n",
       "    <tr>\n",
       "      <th>Age</th>\n",
       "      <td>1.000000</td>\n",
       "      <td>0.006552</td>\n",
       "      <td>-0.119787</td>\n",
       "      <td>0.003042</td>\n",
       "      <td>-0.042586</td>\n",
       "      <td>0.046943</td>\n",
       "    </tr>\n",
       "    <tr>\n",
       "      <th>Internships</th>\n",
       "      <td>0.006552</td>\n",
       "      <td>1.000000</td>\n",
       "      <td>0.023496</td>\n",
       "      <td>0.004617</td>\n",
       "      <td>-0.015118</td>\n",
       "      <td>0.179334</td>\n",
       "    </tr>\n",
       "    <tr>\n",
       "      <th>CGPA</th>\n",
       "      <td>-0.119787</td>\n",
       "      <td>0.023496</td>\n",
       "      <td>1.000000</td>\n",
       "      <td>0.014991</td>\n",
       "      <td>0.002576</td>\n",
       "      <td>0.588648</td>\n",
       "    </tr>\n",
       "    <tr>\n",
       "      <th>Hostel</th>\n",
       "      <td>0.003042</td>\n",
       "      <td>0.004617</td>\n",
       "      <td>0.014991</td>\n",
       "      <td>1.000000</td>\n",
       "      <td>0.103506</td>\n",
       "      <td>-0.038182</td>\n",
       "    </tr>\n",
       "    <tr>\n",
       "      <th>HistoryOfBacklogs</th>\n",
       "      <td>-0.042586</td>\n",
       "      <td>-0.015118</td>\n",
       "      <td>0.002576</td>\n",
       "      <td>0.103506</td>\n",
       "      <td>1.000000</td>\n",
       "      <td>-0.022337</td>\n",
       "    </tr>\n",
       "    <tr>\n",
       "      <th>PlacedOrNot</th>\n",
       "      <td>0.046943</td>\n",
       "      <td>0.179334</td>\n",
       "      <td>0.588648</td>\n",
       "      <td>-0.038182</td>\n",
       "      <td>-0.022337</td>\n",
       "      <td>1.000000</td>\n",
       "    </tr>\n",
       "  </tbody>\n",
       "</table>\n",
       "</div>"
      ],
      "text/plain": [
       "                        Age  Internships      CGPA    Hostel  \\\n",
       "Age                1.000000     0.006552 -0.119787  0.003042   \n",
       "Internships        0.006552     1.000000  0.023496  0.004617   \n",
       "CGPA              -0.119787     0.023496  1.000000  0.014991   \n",
       "Hostel             0.003042     0.004617  0.014991  1.000000   \n",
       "HistoryOfBacklogs -0.042586    -0.015118  0.002576  0.103506   \n",
       "PlacedOrNot        0.046943     0.179334  0.588648 -0.038182   \n",
       "\n",
       "                   HistoryOfBacklogs  PlacedOrNot  \n",
       "Age                        -0.042586     0.046943  \n",
       "Internships                -0.015118     0.179334  \n",
       "CGPA                        0.002576     0.588648  \n",
       "Hostel                      0.103506    -0.038182  \n",
       "HistoryOfBacklogs           1.000000    -0.022337  \n",
       "PlacedOrNot                -0.022337     1.000000  "
      ]
     },
     "execution_count": 309,
     "metadata": {},
     "output_type": "execute_result"
    }
   ],
   "source": [
    "df.corr()"
   ]
  },
  {
   "cell_type": "markdown",
   "id": "24a54249",
   "metadata": {},
   "source": [
    "## Data Exploration"
   ]
  },
  {
   "cell_type": "code",
   "execution_count": 310,
   "id": "b0aea6ba",
   "metadata": {
    "colab": {
     "base_uri": "https://localhost:8080/",
     "height": 449
    },
    "id": "b0aea6ba",
    "outputId": "813d7986-1867-46fc-a393-653d32b58bc3"
   },
   "outputs": [
    {
     "data": {
      "image/png": "[encoded data removed]",
      "text/plain": [
       "<Figure size 1296x504 with 2 Axes>"
      ]
     },
     "metadata": {},
     "output_type": "display_data"
    }
   ],
   "source": [
    "sns.heatmap(df.corr(), annot=True);"
   ]
  },
  {
   "cell_type": "code",
   "execution_count": 311,
   "id": "2272ee2f",
   "metadata": {
    "colab": {
     "base_uri": "https://localhost:8080/",
     "height": 334
    },
    "id": "2272ee2f",
    "outputId": "8d047554-7437-47dc-d5a8-5452301fe844"
   },
   "outputs": [
    {
     "data": {
      "image/png": "[encoded data removed]",
      "text/plain": [
       "<Figure size 864x360 with 1 Axes>"
      ]
     },
     "metadata": {},
     "output_type": "display_data"
    }
   ],
   "source": [
    "df['CGPA'].plot(figsize=(12, 5), color='black') # color and figsize changed\n",
    "\n",
    "plt.xlabel('index')\n",
    "plt.ylabel('Volume');"
   ]
  },
  {
   "cell_type": "code",
   "execution_count": 312,
   "id": "66cd79c7",
   "metadata": {
    "colab": {
     "base_uri": "https://localhost:8080/",
     "height": 351
    },
    "id": "66cd79c7",
    "outputId": "f29c6d8d-caba-47c4-b1ee-3ef16eb9a986"
   },
   "outputs": [
    {
     "data": {
      "image/png": "[encoded data removed]",
      "text/plain": [
       "<Figure size 576x360 with 1 Axes>"
      ]
     },
     "metadata": {},
     "output_type": "display_data"
    }
   ],
   "source": [
    "df.plot.scatter('Age', 'CGPA', figsize=(8, 5));"
   ]
  },
  {
   "cell_type": "code",
   "execution_count": 313,
   "id": "d2dfced8",
   "metadata": {
    "colab": {
     "base_uri": "https://localhost:8080/",
     "height": 337
    },
    "id": "d2dfced8",
    "outputId": "c46a6e93-b580-4937-999d-6191f164e5f9"
   },
   "outputs": [
    {
     "data": {
      "image/png": "[encoded data removed]",
      "text/plain": [
       "<Figure size 1152x360 with 1 Axes>"
      ]
     },
     "metadata": {},
     "output_type": "display_data"
    }
   ],
   "source": [
    "df.boxplot(figsize=(16, 5));"
   ]
  },
  {
   "cell_type": "code",
   "execution_count": 314,
   "id": "0d787e26",
   "metadata": {
    "colab": {
     "base_uri": "https://localhost:8080/",
     "height": 323
    },
    "id": "0d787e26",
    "outputId": "10b11a2b-659e-4df3-8ea5-f54d3f5ba96a"
   },
   "outputs": [
    {
     "data": {
      "image/png": "[encoded data removed]",
      "text/plain": [
       "<Figure size 576x360 with 1 Axes>"
      ]
     },
     "metadata": {},
     "output_type": "display_data"
    }
   ],
   "source": [
    "df['CGPA'].hist(bins=30, figsize=(8, 5));"
   ]
  },
  {
   "cell_type": "code",
   "execution_count": 315,
   "id": "26386723",
   "metadata": {
    "colab": {
     "base_uri": "https://localhost:8080/",
     "height": 445
    },
    "id": "26386723",
    "outputId": "dc484257-e824-47c9-e49c-b893c18c384e"
   },
   "outputs": [
    {
     "data": {
      "image/png": "[encoded data removed]",
      "text/plain": [
       "<Figure size 1296x504 with 1 Axes>"
      ]
     },
     "metadata": {},
     "output_type": "display_data"
    }
   ],
   "source": [
    "df_avg_placed = df.groupby('Age')['PlacedOrNot'].mean()\n",
    "df_avg_placed[:10].plot.bar(color='orange');"
   ]
  },
  {
   "cell_type": "code",
   "execution_count": 316,
   "id": "880d6492",
   "metadata": {
    "colab": {
     "base_uri": "https://localhost:8080/",
     "height": 439
    },
    "id": "880d6492",
    "outputId": "0b00d371-9f31-4f76-eb6d-a102026bcd48",
    "scrolled": false
   },
   "outputs": [
    {
     "data": {
      "image/png": "[encoded data removed]",
      "text/plain": [
       "<Figure size 1296x504 with 1 Axes>"
      ]
     },
     "metadata": {},
     "output_type": "display_data"
    }
   ],
   "source": [
    "ax = df[['HistoryOfBacklogs', 'Internships']][:10].plot.bar(stacked=True)\n",
    "\n",
    "ax.set_xlabel(\"Index\")\n",
    "ax.set_ylabel(\"Count\");"
   ]
  },
  {
   "cell_type": "markdown",
   "id": "dd6d693e",
   "metadata": {},
   "source": [
    "## Encoding"
   ]
  },
  {
   "cell_type": "code",
   "execution_count": 317,
   "id": "7ec5b42a",
   "metadata": {},
   "outputs": [],
   "source": [
    "# Encoding of objects using Label Encoder as we dont require One-Hot Encoding\n",
    "\n",
    "from sklearn.preprocessing import LabelEncoder\n",
    "\n",
    "features = df.select_dtypes(\"object\").columns\n",
    "\n",
    "le = LabelEncoder()\n",
    "\n",
    "for feature in features: \n",
    "    df[feature] = le.fit_transform(df[feature])## Encoding"
   ]
  },
  {
   "cell_type": "code",
   "execution_count": 318,
   "id": "573129fd",
   "metadata": {},
   "outputs": [
    {
     "data": {
      "text/html": [
       "<div>\n",
       "<style scoped>\n",
       "    .dataframe tbody tr th:only-of-type {\n",
       "        vertical-align: middle;\n",
       "    }\n",
       "\n",
       "    .dataframe tbody tr th {\n",
       "        vertical-align: top;\n",
       "    }\n",
       "\n",
       "    .dataframe thead th {\n",
       "        text-align: right;\n",
       "    }\n",
       "</style>\n",
       "<table border=\"1\" class=\"dataframe\">\n",
       "  <thead>\n",
       "    <tr style=\"text-align: right;\">\n",
       "      <th></th>\n",
       "      <th>Age</th>\n",
       "      <th>Gender</th>\n",
       "      <th>Stream</th>\n",
       "      <th>Internships</th>\n",
       "      <th>CGPA</th>\n",
       "      <th>Hostel</th>\n",
       "      <th>HistoryOfBacklogs</th>\n",
       "      <th>PlacedOrNot</th>\n",
       "    </tr>\n",
       "  </thead>\n",
       "  <tbody>\n",
       "    <tr>\n",
       "      <th>0</th>\n",
       "      <td>22</td>\n",
       "      <td>1</td>\n",
       "      <td>3</td>\n",
       "      <td>1</td>\n",
       "      <td>8</td>\n",
       "      <td>1</td>\n",
       "      <td>1</td>\n",
       "      <td>1</td>\n",
       "    </tr>\n",
       "    <tr>\n",
       "      <th>1</th>\n",
       "      <td>21</td>\n",
       "      <td>0</td>\n",
       "      <td>1</td>\n",
       "      <td>0</td>\n",
       "      <td>7</td>\n",
       "      <td>1</td>\n",
       "      <td>1</td>\n",
       "      <td>1</td>\n",
       "    </tr>\n",
       "    <tr>\n",
       "      <th>2</th>\n",
       "      <td>22</td>\n",
       "      <td>0</td>\n",
       "      <td>4</td>\n",
       "      <td>1</td>\n",
       "      <td>6</td>\n",
       "      <td>0</td>\n",
       "      <td>0</td>\n",
       "      <td>1</td>\n",
       "    </tr>\n",
       "    <tr>\n",
       "      <th>3</th>\n",
       "      <td>21</td>\n",
       "      <td>1</td>\n",
       "      <td>4</td>\n",
       "      <td>0</td>\n",
       "      <td>8</td>\n",
       "      <td>0</td>\n",
       "      <td>1</td>\n",
       "      <td>1</td>\n",
       "    </tr>\n",
       "    <tr>\n",
       "      <th>4</th>\n",
       "      <td>22</td>\n",
       "      <td>1</td>\n",
       "      <td>5</td>\n",
       "      <td>0</td>\n",
       "      <td>8</td>\n",
       "      <td>1</td>\n",
       "      <td>0</td>\n",
       "      <td>1</td>\n",
       "    </tr>\n",
       "    <tr>\n",
       "      <th>...</th>\n",
       "      <td>...</td>\n",
       "      <td>...</td>\n",
       "      <td>...</td>\n",
       "      <td>...</td>\n",
       "      <td>...</td>\n",
       "      <td>...</td>\n",
       "      <td>...</td>\n",
       "      <td>...</td>\n",
       "    </tr>\n",
       "    <tr>\n",
       "      <th>2961</th>\n",
       "      <td>23</td>\n",
       "      <td>1</td>\n",
       "      <td>4</td>\n",
       "      <td>0</td>\n",
       "      <td>7</td>\n",
       "      <td>0</td>\n",
       "      <td>0</td>\n",
       "      <td>0</td>\n",
       "    </tr>\n",
       "    <tr>\n",
       "      <th>2962</th>\n",
       "      <td>23</td>\n",
       "      <td>1</td>\n",
       "      <td>5</td>\n",
       "      <td>1</td>\n",
       "      <td>7</td>\n",
       "      <td>1</td>\n",
       "      <td>0</td>\n",
       "      <td>0</td>\n",
       "    </tr>\n",
       "    <tr>\n",
       "      <th>2963</th>\n",
       "      <td>22</td>\n",
       "      <td>1</td>\n",
       "      <td>4</td>\n",
       "      <td>1</td>\n",
       "      <td>7</td>\n",
       "      <td>0</td>\n",
       "      <td>0</td>\n",
       "      <td>0</td>\n",
       "    </tr>\n",
       "    <tr>\n",
       "      <th>2964</th>\n",
       "      <td>22</td>\n",
       "      <td>1</td>\n",
       "      <td>1</td>\n",
       "      <td>1</td>\n",
       "      <td>7</td>\n",
       "      <td>0</td>\n",
       "      <td>0</td>\n",
       "      <td>0</td>\n",
       "    </tr>\n",
       "    <tr>\n",
       "      <th>2965</th>\n",
       "      <td>23</td>\n",
       "      <td>1</td>\n",
       "      <td>0</td>\n",
       "      <td>0</td>\n",
       "      <td>8</td>\n",
       "      <td>0</td>\n",
       "      <td>0</td>\n",
       "      <td>1</td>\n",
       "    </tr>\n",
       "  </tbody>\n",
       "</table>\n",
       "<p>2966 rows × 8 columns</p>\n",
       "</div>"
      ],
      "text/plain": [
       "      Age  Gender  Stream  Internships  CGPA  Hostel  HistoryOfBacklogs  \\\n",
       "0      22       1       3            1     8       1                  1   \n",
       "1      21       0       1            0     7       1                  1   \n",
       "2      22       0       4            1     6       0                  0   \n",
       "3      21       1       4            0     8       0                  1   \n",
       "4      22       1       5            0     8       1                  0   \n",
       "...   ...     ...     ...          ...   ...     ...                ...   \n",
       "2961   23       1       4            0     7       0                  0   \n",
       "2962   23       1       5            1     7       1                  0   \n",
       "2963   22       1       4            1     7       0                  0   \n",
       "2964   22       1       1            1     7       0                  0   \n",
       "2965   23       1       0            0     8       0                  0   \n",
       "\n",
       "      PlacedOrNot  \n",
       "0               1  \n",
       "1               1  \n",
       "2               1  \n",
       "3               1  \n",
       "4               1  \n",
       "...           ...  \n",
       "2961            0  \n",
       "2962            0  \n",
       "2963            0  \n",
       "2964            0  \n",
       "2965            1  \n",
       "\n",
       "[2966 rows x 8 columns]"
      ]
     },
     "execution_count": 318,
     "metadata": {},
     "output_type": "execute_result"
    }
   ],
   "source": [
    "df"
   ]
  },
  {
   "cell_type": "markdown",
   "id": "41d7973d",
   "metadata": {},
   "source": [
    "## Target Variable Selection"
   ]
  },
  {
   "cell_type": "code",
   "execution_count": 319,
   "id": "0e6d5ec3",
   "metadata": {},
   "outputs": [],
   "source": [
    "#X = df.drop(['PlacedOrNot'],axis=1)\n",
    "#y = pd.DataFrame(df['PlacedOrNot'])\n",
    "\n",
    "X = df.iloc[:,:-1]\n",
    "y = df.iloc[:,-1]"
   ]
  },
  {
   "cell_type": "markdown",
   "id": "4011d8da",
   "metadata": {},
   "source": [
    "## Data Split using K-Fold and Train Test Split"
   ]
  },
  {
   "cell_type": "code",
   "execution_count": 320,
   "id": "06b7a205",
   "metadata": {},
   "outputs": [],
   "source": [
    "from sklearn.model_selection import train_test_split\n",
    "#Splitting data into 1/3 for test and the rest for training\n",
    "X_train, X_test, y_train, y_test = train_test_split(X, y, test_size=0.33)"
   ]
  },
  {
   "cell_type": "code",
   "execution_count": 321,
   "id": "47d78e79",
   "metadata": {},
   "outputs": [
    {
     "name": "stdout",
     "output_type": "stream",
     "text": [
      "Avg accuracy: 0.7562516678874183\n"
     ]
    }
   ],
   "source": [
    "from sklearn.model_selection import cross_val_score\n",
    "from sklearn.model_selection import KFold\n",
    "\n",
    "k = 5\n",
    "kf = KFold(n_splits=k, random_state=None)\n",
    "model = LogisticRegression(solver= 'liblinear')\n",
    "\n",
    "result = cross_val_score(model , X, y, cv = kf)\n",
    "\n",
    "print(\"Avg accuracy: {}\".format(result.mean()))"
   ]
  },
  {
   "cell_type": "markdown",
   "id": "2bed6973",
   "metadata": {},
   "source": [
    "## Model Selection"
   ]
  },
  {
   "cell_type": "code",
   "execution_count": 322,
   "id": "acfc70d1",
   "metadata": {},
   "outputs": [],
   "source": [
    "from sklearn.linear_model import LogisticRegression\n",
    "from sklearn.tree import DecisionTreeClassifier\n",
    "from sklearn.neighbors import KNeighborsClassifier\n",
    "from sklearn.ensemble import RandomForestClassifier\n",
    "from sklearn.svm import SVC\n",
    "from sklearn.naive_bayes import GaussianNB"
   ]
  },
  {
   "cell_type": "code",
   "execution_count": 323,
   "id": "5ad349ba",
   "metadata": {},
   "outputs": [
    {
     "name": "stdout",
     "output_type": "stream",
     "text": [
      "Train Score:  76.79919476597887 %\n",
      "Test Score:  75.68947906026557 %\n"
     ]
    }
   ],
   "source": [
    "#Linear SVM Classifier\n",
    "\n",
    "sv = SVC(kernel=\"linear\", C=0.025)\n",
    "\n",
    "sv.fit(X_train, y_train)\n",
    "print(\"Train Score: \", sv.score(X_train, y_train)*100 , \"%\")\n",
    "print(\"Test Score: \", sv.score(X_test, y_test)*100, \"%\")"
   ]
  },
  {
   "cell_type": "code",
   "execution_count": 324,
   "id": "dddcbf4f",
   "metadata": {},
   "outputs": [
    {
     "name": "stdout",
     "output_type": "stream",
     "text": [
      "Train Score:  89.63261197785607 %\n",
      "Test Score:  87.64044943820225 %\n"
     ]
    }
   ],
   "source": [
    "# K Neighbours Classifier\n",
    "\n",
    "kn = KNeighborsClassifier(3)\n",
    "\n",
    "kn.fit(X_train, y_train)\n",
    "print(\"Train Score: \", kn.score(X_train, y_train)*100 , \"%\")\n",
    "print(\"Test Score: \", kn.score(X_test, y_test)*100, \"%\")"
   ]
  },
  {
   "cell_type": "code",
   "execution_count": 325,
   "id": "241e9b8c",
   "metadata": {
    "scrolled": true
   },
   "outputs": [
    {
     "name": "stdout",
     "output_type": "stream",
     "text": [
      "Train Score:  87.36789129340715 %\n",
      "Test Score:  88.1511746680286 %\n"
     ]
    }
   ],
   "source": [
    "#Random Forest Classifier\n",
    "\n",
    "rf = RandomForestClassifier(max_depth=5, n_estimators=10, max_features=1)\n",
    "\n",
    "rf.fit(X_train, y_train)\n",
    "print(\"Train Score: \", rf.score(X_train, y_train)*100 , \"%\")\n",
    "print(\"Test Score: \", rf.score(X_test, y_test)*100, \"%\")"
   ]
  },
  {
   "cell_type": "code",
   "execution_count": 326,
   "id": "15bdc731",
   "metadata": {},
   "outputs": [
    {
     "name": "stdout",
     "output_type": "stream",
     "text": [
      "Train Score:  81.83190739808757 %\n",
      "Test Score:  81.40960163432074 %\n"
     ]
    }
   ],
   "source": [
    "# Naive Bayes Classifier\n",
    "\n",
    "nb = GaussianNB()\n",
    "\n",
    "nb.fit(X_train, y_train)\n",
    "print(\"Train Score: \", nb.score(X_train, y_train)*100 , \"%\")\n",
    "print(\"Test Score: \", nb.score(X_test, y_test)*100, \"%\")"
   ]
  },
  {
   "cell_type": "code",
   "execution_count": 327,
   "id": "9eed057d",
   "metadata": {
    "scrolled": false
   },
   "outputs": [
    {
     "name": "stdout",
     "output_type": "stream",
     "text": [
      "Train Score:  92.55158530447912 %\n",
      "Test Score:  87.74259448416751 %\n"
     ]
    }
   ],
   "source": [
    "from sklearn.tree import DecisionTreeClassifier\n",
    "dt = DecisionTreeClassifier()\n",
    "\n",
    "dt.fit(X_train, y_train)\n",
    "print(\"Train Score: \", dt.score(X_train, y_train)*100 , \"%\")\n",
    "print(\"Test Score: \", dt.score(X_test, y_test)*100, \"%\")"
   ]
  },
  {
   "cell_type": "markdown",
   "id": "57871a26",
   "metadata": {},
   "source": [
    "## Model Evaluation"
   ]
  },
  {
   "cell_type": "code",
   "execution_count": 328,
   "id": "97351c81",
   "metadata": {},
   "outputs": [
    {
     "name": "stdout",
     "output_type": "stream",
     "text": [
      "Recall score: 0.880707921334581\n",
      "Precision score: 0.8770023790642347\n",
      "Confusio Matrix:\n",
      " [[403  38]\n",
      " [ 82 456]]\n"
     ]
    }
   ],
   "source": [
    "# Decision Tree is selected for better perfoemance and evaluation for the same is conducted.\n",
    "\n",
    "y_pred = dt.predict(X_test)\n",
    "\n",
    "print(\"Recall score:\", recall_score(y_test, y_pred, average='macro'))\n",
    "print(\"Precision score:\", precision_score(y_test, y_pred, average='macro'))\n",
    "print (\"Confusio Matrix:\\n\", confusion_matrix(y_test, y_pred))"
   ]
  },
  {
   "cell_type": "code",
   "execution_count": 329,
   "id": "082987b6",
   "metadata": {
    "scrolled": true
   },
   "outputs": [
    {
     "data": {
      "image/png": "[encoded data removed]",
      "text/plain": [
       "<Figure size 720x720 with 2 Axes>"
      ]
     },
     "metadata": {},
     "output_type": "display_data"
    }
   ],
   "source": [
    "plt.figure(figsize=(10,10))\n",
    "sns.heatmap(confusion_matrix(y_test, y_pred), annot=True, cmap='coolwarm_r')\n",
    "plt.xlabel('predicted')\n",
    "plt.ylabel('actual');"
   ]
  },
  {
   "cell_type": "markdown",
   "id": "7361e49a",
   "metadata": {},
   "source": [
    "# Model has been developed with 87% accuracy using Decision Tree Classifier"
   ]
  }
 ],
 "metadata": {
  "colab": {
   "collapsed_sections": [],
   "name": "Data Exploration 015.ipynb",
   "provenance": []
  },
  "kernelspec": {
   "display_name": "Python 3 (ipykernel)",
   "language": "python",
   "name": "python3"
  },
  "language_info": {
   "codemirror_mode": {
    "name": "ipython",
    "version": 3
   },
   "file_extension": ".py",
   "mimetype": "text/x-python",
   "name": "python",
   "nbconvert_exporter": "python",
   "pygments_lexer": "ipython3",
   "version": "3.8.10"
  }
 },
 "nbformat": 4,
 "nbformat_minor": 5
}
