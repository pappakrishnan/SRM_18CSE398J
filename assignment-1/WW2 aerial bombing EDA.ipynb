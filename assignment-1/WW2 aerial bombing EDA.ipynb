{
 "cells": [
  {
   "cell_type": "code",
   "execution_count": 1,
   "id": "f20c83b0",
   "metadata": {},
   "outputs": [],
   "source": [
    "%matplotlib inline\n",
    "\n",
    "from numpy import arange\n",
    "from matplotlib import pyplot as plt\n",
    "from scipy.stats import norm\n",
    "import pandas as pd"
   ]
  },
  {
   "cell_type": "code",
   "execution_count": 2,
   "id": "4ad5501c",
   "metadata": {},
   "outputs": [
    {
     "data": {
      "text/html": [
       "<div>\n",
       "<style scoped>\n",
       "    .dataframe tbody tr th:only-of-type {\n",
       "        vertical-align: middle;\n",
       "    }\n",
       "\n",
       "    .dataframe tbody tr th {\n",
       "        vertical-align: top;\n",
       "    }\n",
       "\n",
       "    .dataframe thead th {\n",
       "        text-align: right;\n",
       "    }\n",
       "</style>\n",
       "<table border=\"1\" class=\"dataframe\">\n",
       "  <thead>\n",
       "    <tr style=\"text-align: right;\">\n",
       "      <th></th>\n",
       "      <th>Unnamed: 0</th>\n",
       "      <th>Mission ID</th>\n",
       "      <th>Mission Date</th>\n",
       "      <th>Theater of Operations</th>\n",
       "      <th>Country</th>\n",
       "      <th>Air Force</th>\n",
       "      <th>Unit ID</th>\n",
       "      <th>Aircraft Series</th>\n",
       "      <th>Takeoff Base</th>\n",
       "      <th>Takeoff Location</th>\n",
       "      <th>...</th>\n",
       "      <th>Takeoff Longitude</th>\n",
       "      <th>Target Country</th>\n",
       "      <th>Target City</th>\n",
       "      <th>Target Latitude</th>\n",
       "      <th>Target Longitude</th>\n",
       "      <th>Airborne Aircraft</th>\n",
       "      <th>Bombing Aircraft</th>\n",
       "      <th>High Explosives Type</th>\n",
       "      <th>High Explosives Weight (Tons)</th>\n",
       "      <th>Total Weight (Tons)</th>\n",
       "    </tr>\n",
       "  </thead>\n",
       "  <tbody>\n",
       "    <tr>\n",
       "      <th>0</th>\n",
       "      <td>0</td>\n",
       "      <td>1</td>\n",
       "      <td>8/15/1943</td>\n",
       "      <td>MTO</td>\n",
       "      <td>USA</td>\n",
       "      <td>12 AF</td>\n",
       "      <td>27 FBG/86 FBG</td>\n",
       "      <td>A36</td>\n",
       "      <td>PONTE OLIVO AIRFIELD</td>\n",
       "      <td>SICILY</td>\n",
       "      <td>...</td>\n",
       "      <td>14.321464</td>\n",
       "      <td>ITALY</td>\n",
       "      <td>SPADAFORA</td>\n",
       "      <td>38.22</td>\n",
       "      <td>15.37</td>\n",
       "      <td>20.0</td>\n",
       "      <td>20.0</td>\n",
       "      <td>500 LB GP (GP-M43/M64)</td>\n",
       "      <td>10.0</td>\n",
       "      <td>10.0</td>\n",
       "    </tr>\n",
       "    <tr>\n",
       "      <th>1</th>\n",
       "      <td>1</td>\n",
       "      <td>3</td>\n",
       "      <td>8/15/1943</td>\n",
       "      <td>MTO</td>\n",
       "      <td>USA</td>\n",
       "      <td>12 AF</td>\n",
       "      <td>27 FBG/86 FBG</td>\n",
       "      <td>A36</td>\n",
       "      <td>PONTE OLIVO AIRFIELD</td>\n",
       "      <td>SICILY</td>\n",
       "      <td>...</td>\n",
       "      <td>14.321464</td>\n",
       "      <td>ITALY</td>\n",
       "      <td>COSENZA</td>\n",
       "      <td>39.27</td>\n",
       "      <td>16.25</td>\n",
       "      <td>18.0</td>\n",
       "      <td>36.0</td>\n",
       "      <td>500 LB GP (GP-M43/M64)</td>\n",
       "      <td>9.0</td>\n",
       "      <td>9.0</td>\n",
       "    </tr>\n",
       "    <tr>\n",
       "      <th>2</th>\n",
       "      <td>2</td>\n",
       "      <td>4</td>\n",
       "      <td>8/15/1943</td>\n",
       "      <td>MTO</td>\n",
       "      <td>USA</td>\n",
       "      <td>12 AF</td>\n",
       "      <td>27 FBG/86 FBG</td>\n",
       "      <td>A36</td>\n",
       "      <td>PONTE OLIVO AIRFIELD</td>\n",
       "      <td>SICILY</td>\n",
       "      <td>...</td>\n",
       "      <td>14.321464</td>\n",
       "      <td>ITALY</td>\n",
       "      <td>GIOJA TAURO</td>\n",
       "      <td>38.43</td>\n",
       "      <td>15.90</td>\n",
       "      <td>15.0</td>\n",
       "      <td>15.0</td>\n",
       "      <td>500 LB GP (GP-M43/M64)</td>\n",
       "      <td>7.5</td>\n",
       "      <td>7.5</td>\n",
       "    </tr>\n",
       "    <tr>\n",
       "      <th>3</th>\n",
       "      <td>3</td>\n",
       "      <td>96</td>\n",
       "      <td>8/16/1943</td>\n",
       "      <td>MTO</td>\n",
       "      <td>USA</td>\n",
       "      <td>12 AF</td>\n",
       "      <td>27 FBG/86 FBG</td>\n",
       "      <td>A36</td>\n",
       "      <td>PONTE OLIVO AIRFIELD</td>\n",
       "      <td>SICILY</td>\n",
       "      <td>...</td>\n",
       "      <td>14.321464</td>\n",
       "      <td>ITALY</td>\n",
       "      <td>VILLA SAN GIOVANNI</td>\n",
       "      <td>38.20</td>\n",
       "      <td>15.65</td>\n",
       "      <td>32.0</td>\n",
       "      <td>32.0</td>\n",
       "      <td>500 LB GP (GP-M43/M64)</td>\n",
       "      <td>16.0</td>\n",
       "      <td>16.0</td>\n",
       "    </tr>\n",
       "    <tr>\n",
       "      <th>4</th>\n",
       "      <td>4</td>\n",
       "      <td>302</td>\n",
       "      <td>8/16/1943</td>\n",
       "      <td>MTO</td>\n",
       "      <td>USA</td>\n",
       "      <td>12 AF</td>\n",
       "      <td>27 FBG/86 FBG</td>\n",
       "      <td>A36</td>\n",
       "      <td>PONTE OLIVO AIRFIELD</td>\n",
       "      <td>SICILY</td>\n",
       "      <td>...</td>\n",
       "      <td>14.321464</td>\n",
       "      <td>ITALY</td>\n",
       "      <td>COSENZA</td>\n",
       "      <td>39.27</td>\n",
       "      <td>16.25</td>\n",
       "      <td>4.0</td>\n",
       "      <td>8.0</td>\n",
       "      <td>500 LB GP (GP-M43/M64)</td>\n",
       "      <td>2.0</td>\n",
       "      <td>2.0</td>\n",
       "    </tr>\n",
       "  </tbody>\n",
       "</table>\n",
       "<p>5 rows × 21 columns</p>\n",
       "</div>"
      ],
      "text/plain": [
       "   Unnamed: 0  Mission ID Mission Date Theater of Operations Country  \\\n",
       "0           0           1    8/15/1943                   MTO     USA   \n",
       "1           1           3    8/15/1943                   MTO     USA   \n",
       "2           2           4    8/15/1943                   MTO     USA   \n",
       "3           3          96    8/16/1943                   MTO     USA   \n",
       "4           4         302    8/16/1943                   MTO     USA   \n",
       "\n",
       "  Air Force        Unit ID Aircraft Series          Takeoff Base  \\\n",
       "0     12 AF  27 FBG/86 FBG             A36  PONTE OLIVO AIRFIELD   \n",
       "1     12 AF  27 FBG/86 FBG             A36  PONTE OLIVO AIRFIELD   \n",
       "2     12 AF  27 FBG/86 FBG             A36  PONTE OLIVO AIRFIELD   \n",
       "3     12 AF  27 FBG/86 FBG             A36  PONTE OLIVO AIRFIELD   \n",
       "4     12 AF  27 FBG/86 FBG             A36  PONTE OLIVO AIRFIELD   \n",
       "\n",
       "  Takeoff Location  ...  Takeoff Longitude  Target Country  \\\n",
       "0           SICILY  ...          14.321464           ITALY   \n",
       "1           SICILY  ...          14.321464           ITALY   \n",
       "2           SICILY  ...          14.321464           ITALY   \n",
       "3           SICILY  ...          14.321464           ITALY   \n",
       "4           SICILY  ...          14.321464           ITALY   \n",
       "\n",
       "          Target City Target Latitude  Target Longitude  Airborne Aircraft  \\\n",
       "0           SPADAFORA           38.22             15.37               20.0   \n",
       "1             COSENZA           39.27             16.25               18.0   \n",
       "2         GIOJA TAURO           38.43             15.90               15.0   \n",
       "3  VILLA SAN GIOVANNI           38.20             15.65               32.0   \n",
       "4             COSENZA           39.27             16.25                4.0   \n",
       "\n",
       "   Bombing Aircraft    High Explosives Type High Explosives Weight (Tons)  \\\n",
       "0              20.0  500 LB GP (GP-M43/M64)                          10.0   \n",
       "1              36.0  500 LB GP (GP-M43/M64)                           9.0   \n",
       "2              15.0  500 LB GP (GP-M43/M64)                           7.5   \n",
       "3              32.0  500 LB GP (GP-M43/M64)                          16.0   \n",
       "4               8.0  500 LB GP (GP-M43/M64)                           2.0   \n",
       "\n",
       "   Total Weight (Tons)  \n",
       "0                 10.0  \n",
       "1                  9.0  \n",
       "2                  7.5  \n",
       "3                 16.0  \n",
       "4                  2.0  \n",
       "\n",
       "[5 rows x 21 columns]"
      ]
     },
     "execution_count": 2,
     "metadata": {},
     "output_type": "execute_result"
    }
   ],
   "source": [
    "aerial=pd.read_csv(\"cleanbombww2 (1).csv\")\n",
    "aerial.head()"
   ]
  },
  {
   "cell_type": "code",
   "execution_count": 3,
   "id": "463249e3",
   "metadata": {},
   "outputs": [
    {
     "data": {
      "text/plain": [
       "Unnamed: 0                         int64\n",
       "Mission ID                         int64\n",
       "Mission Date                      object\n",
       "Theater of Operations             object\n",
       "Country                           object\n",
       "Air Force                         object\n",
       "Unit ID                           object\n",
       "Aircraft Series                   object\n",
       "Takeoff Base                      object\n",
       "Takeoff Location                  object\n",
       "Takeoff Latitude                 float64\n",
       "Takeoff Longitude                float64\n",
       "Target Country                    object\n",
       "Target City                       object\n",
       "Target Latitude                  float64\n",
       "Target Longitude                 float64\n",
       "Airborne Aircraft                float64\n",
       "Bombing Aircraft                 float64\n",
       "High Explosives Type              object\n",
       "High Explosives Weight (Tons)    float64\n",
       "Total Weight (Tons)              float64\n",
       "dtype: object"
      ]
     },
     "execution_count": 3,
     "metadata": {},
     "output_type": "execute_result"
    }
   ],
   "source": [
    "aerial.dtypes"
   ]
  },
  {
   "cell_type": "code",
   "execution_count": 4,
   "id": "d972ec16",
   "metadata": {},
   "outputs": [
    {
     "data": {
      "text/html": [
       "<div>\n",
       "<style scoped>\n",
       "    .dataframe tbody tr th:only-of-type {\n",
       "        vertical-align: middle;\n",
       "    }\n",
       "\n",
       "    .dataframe tbody tr th {\n",
       "        vertical-align: top;\n",
       "    }\n",
       "\n",
       "    .dataframe thead th {\n",
       "        text-align: right;\n",
       "    }\n",
       "</style>\n",
       "<table border=\"1\" class=\"dataframe\">\n",
       "  <thead>\n",
       "    <tr style=\"text-align: right;\">\n",
       "      <th></th>\n",
       "      <th>Unnamed: 0</th>\n",
       "      <th>Mission ID</th>\n",
       "      <th>Mission Date</th>\n",
       "      <th>Theater of Operations</th>\n",
       "      <th>Country</th>\n",
       "      <th>Air Force</th>\n",
       "      <th>Unit ID</th>\n",
       "      <th>Aircraft Series</th>\n",
       "      <th>Takeoff Base</th>\n",
       "      <th>Takeoff Location</th>\n",
       "      <th>...</th>\n",
       "      <th>Takeoff Longitude</th>\n",
       "      <th>Target Country</th>\n",
       "      <th>Target City</th>\n",
       "      <th>Target Latitude</th>\n",
       "      <th>Target Longitude</th>\n",
       "      <th>Airborne Aircraft</th>\n",
       "      <th>Bombing Aircraft</th>\n",
       "      <th>High Explosives Type</th>\n",
       "      <th>High Explosives Weight (Tons)</th>\n",
       "      <th>Total Weight (Tons)</th>\n",
       "    </tr>\n",
       "  </thead>\n",
       "  <tbody>\n",
       "    <tr>\n",
       "      <th>333</th>\n",
       "      <td>333</td>\n",
       "      <td>112515</td>\n",
       "      <td>1941-12-10</td>\n",
       "      <td>PTO</td>\n",
       "      <td>USA</td>\n",
       "      <td>5 AF</td>\n",
       "      <td>19 BG</td>\n",
       "      <td>B17</td>\n",
       "      <td>CLARK FIELD</td>\n",
       "      <td>PHILLIPINES</td>\n",
       "      <td>...</td>\n",
       "      <td>120.560278</td>\n",
       "      <td>PHILIPPINE ISLANDS</td>\n",
       "      <td>APARRI</td>\n",
       "      <td>18.500000</td>\n",
       "      <td>121.61666</td>\n",
       "      <td>1.0</td>\n",
       "      <td>1.0</td>\n",
       "      <td>100 LB GP (GP-M30)</td>\n",
       "      <td>0.95</td>\n",
       "      <td>0.95</td>\n",
       "    </tr>\n",
       "    <tr>\n",
       "      <th>339</th>\n",
       "      <td>339</td>\n",
       "      <td>112525</td>\n",
       "      <td>1941-12-10</td>\n",
       "      <td>PTO</td>\n",
       "      <td>USA</td>\n",
       "      <td>5 AF</td>\n",
       "      <td>19 BG</td>\n",
       "      <td>B17</td>\n",
       "      <td>CLARK FIELD</td>\n",
       "      <td>PHILLIPINES</td>\n",
       "      <td>...</td>\n",
       "      <td>120.560278</td>\n",
       "      <td>PHILIPPINE ISLANDS</td>\n",
       "      <td>APARRI</td>\n",
       "      <td>18.500000</td>\n",
       "      <td>121.61666</td>\n",
       "      <td>1.0</td>\n",
       "      <td>1.0</td>\n",
       "      <td>100 LB GP (GP-M30)</td>\n",
       "      <td>1.00</td>\n",
       "      <td>1.00</td>\n",
       "    </tr>\n",
       "    <tr>\n",
       "      <th>338</th>\n",
       "      <td>338</td>\n",
       "      <td>112524</td>\n",
       "      <td>1941-12-10</td>\n",
       "      <td>PTO</td>\n",
       "      <td>USA</td>\n",
       "      <td>5 AF</td>\n",
       "      <td>19 BG</td>\n",
       "      <td>B17</td>\n",
       "      <td>CLARK FIELD</td>\n",
       "      <td>PHILLIPINES</td>\n",
       "      <td>...</td>\n",
       "      <td>120.560278</td>\n",
       "      <td>PHILIPPINE ISLANDS</td>\n",
       "      <td>VIGAN /LINGHAYEN GULF</td>\n",
       "      <td>17.583333</td>\n",
       "      <td>120.33330</td>\n",
       "      <td>5.0</td>\n",
       "      <td>5.0</td>\n",
       "      <td>100 LB GP (GP-M30)</td>\n",
       "      <td>5.00</td>\n",
       "      <td>5.00</td>\n",
       "    </tr>\n",
       "    <tr>\n",
       "      <th>334</th>\n",
       "      <td>334</td>\n",
       "      <td>112516</td>\n",
       "      <td>1941-12-10</td>\n",
       "      <td>PTO</td>\n",
       "      <td>USA</td>\n",
       "      <td>5 AF</td>\n",
       "      <td>19 BG</td>\n",
       "      <td>B17</td>\n",
       "      <td>CLARK FIELD</td>\n",
       "      <td>PHILLIPINES</td>\n",
       "      <td>...</td>\n",
       "      <td>120.560278</td>\n",
       "      <td>PHILIPPINE ISLANDS</td>\n",
       "      <td>APARRI</td>\n",
       "      <td>18.500000</td>\n",
       "      <td>121.61666</td>\n",
       "      <td>2.0</td>\n",
       "      <td>2.0</td>\n",
       "      <td>600 LB GP (GP-M32)</td>\n",
       "      <td>3.30</td>\n",
       "      <td>3.30</td>\n",
       "    </tr>\n",
       "    <tr>\n",
       "      <th>336</th>\n",
       "      <td>336</td>\n",
       "      <td>112518</td>\n",
       "      <td>1941-12-10</td>\n",
       "      <td>PTO</td>\n",
       "      <td>USA</td>\n",
       "      <td>5 AF</td>\n",
       "      <td>19 BG</td>\n",
       "      <td>B17</td>\n",
       "      <td>CLARK FIELD</td>\n",
       "      <td>PHILLIPINES</td>\n",
       "      <td>...</td>\n",
       "      <td>120.560278</td>\n",
       "      <td>PHILIPPINE ISLANDS</td>\n",
       "      <td>VIGAN /LINGHAYEN GULF</td>\n",
       "      <td>17.583333</td>\n",
       "      <td>120.33330</td>\n",
       "      <td>1.0</td>\n",
       "      <td>1.0</td>\n",
       "      <td>300 LB GP (GP-31)</td>\n",
       "      <td>1.05</td>\n",
       "      <td>1.05</td>\n",
       "    </tr>\n",
       "  </tbody>\n",
       "</table>\n",
       "<p>5 rows × 21 columns</p>\n",
       "</div>"
      ],
      "text/plain": [
       "     Unnamed: 0  Mission ID Mission Date Theater of Operations Country  \\\n",
       "333         333      112515   1941-12-10                   PTO     USA   \n",
       "339         339      112525   1941-12-10                   PTO     USA   \n",
       "338         338      112524   1941-12-10                   PTO     USA   \n",
       "334         334      112516   1941-12-10                   PTO     USA   \n",
       "336         336      112518   1941-12-10                   PTO     USA   \n",
       "\n",
       "    Air Force Unit ID Aircraft Series Takeoff Base Takeoff Location  ...  \\\n",
       "333      5 AF   19 BG             B17  CLARK FIELD      PHILLIPINES  ...   \n",
       "339      5 AF   19 BG             B17  CLARK FIELD      PHILLIPINES  ...   \n",
       "338      5 AF   19 BG             B17  CLARK FIELD      PHILLIPINES  ...   \n",
       "334      5 AF   19 BG             B17  CLARK FIELD      PHILLIPINES  ...   \n",
       "336      5 AF   19 BG             B17  CLARK FIELD      PHILLIPINES  ...   \n",
       "\n",
       "     Takeoff Longitude      Target Country            Target City  \\\n",
       "333         120.560278  PHILIPPINE ISLANDS                 APARRI   \n",
       "339         120.560278  PHILIPPINE ISLANDS                 APARRI   \n",
       "338         120.560278  PHILIPPINE ISLANDS  VIGAN /LINGHAYEN GULF   \n",
       "334         120.560278  PHILIPPINE ISLANDS                 APARRI   \n",
       "336         120.560278  PHILIPPINE ISLANDS  VIGAN /LINGHAYEN GULF   \n",
       "\n",
       "    Target Latitude  Target Longitude  Airborne Aircraft  Bombing Aircraft  \\\n",
       "333       18.500000         121.61666                1.0               1.0   \n",
       "339       18.500000         121.61666                1.0               1.0   \n",
       "338       17.583333         120.33330                5.0               5.0   \n",
       "334       18.500000         121.61666                2.0               2.0   \n",
       "336       17.583333         120.33330                1.0               1.0   \n",
       "\n",
       "     High Explosives Type High Explosives Weight (Tons)  Total Weight (Tons)  \n",
       "333    100 LB GP (GP-M30)                          0.95                 0.95  \n",
       "339    100 LB GP (GP-M30)                          1.00                 1.00  \n",
       "338    100 LB GP (GP-M30)                          5.00                 5.00  \n",
       "334    600 LB GP (GP-M32)                          3.30                 3.30  \n",
       "336     300 LB GP (GP-31)                          1.05                 1.05  \n",
       "\n",
       "[5 rows x 21 columns]"
      ]
     },
     "execution_count": 4,
     "metadata": {},
     "output_type": "execute_result"
    }
   ],
   "source": [
    "aerial[\"Mission Date\"]= pd.to_datetime(aerial[\"Mission Date\"])\n",
    "aerial = aerial.sort_values(by=\"Mission Date\")\n",
    "aerial.head()"
   ]
  },
  {
   "cell_type": "code",
   "execution_count": 5,
   "id": "00c37653",
   "metadata": {},
   "outputs": [
    {
     "name": "stdout",
     "output_type": "stream",
     "text": [
      "<class 'pandas.core.frame.DataFrame'>\n",
      "Int64Index: 1109 entries, 333 to 948\n",
      "Data columns (total 21 columns):\n",
      " #   Column                         Non-Null Count  Dtype         \n",
      "---  ------                         --------------  -----         \n",
      " 0   Unnamed: 0                     1109 non-null   int64         \n",
      " 1   Mission ID                     1109 non-null   int64         \n",
      " 2   Mission Date                   1109 non-null   datetime64[ns]\n",
      " 3   Theater of Operations          1109 non-null   object        \n",
      " 4   Country                        1109 non-null   object        \n",
      " 5   Air Force                      1109 non-null   object        \n",
      " 6   Unit ID                        1109 non-null   object        \n",
      " 7   Aircraft Series                1109 non-null   object        \n",
      " 8   Takeoff Base                   1109 non-null   object        \n",
      " 9   Takeoff Location               1109 non-null   object        \n",
      " 10  Takeoff Latitude               1109 non-null   float64       \n",
      " 11  Takeoff Longitude              1109 non-null   float64       \n",
      " 12  Target Country                 1109 non-null   object        \n",
      " 13  Target City                    1109 non-null   object        \n",
      " 14  Target Latitude                1109 non-null   float64       \n",
      " 15  Target Longitude               1109 non-null   float64       \n",
      " 16  Airborne Aircraft              1109 non-null   float64       \n",
      " 17  Bombing Aircraft               1109 non-null   float64       \n",
      " 18  High Explosives Type           1109 non-null   object        \n",
      " 19  High Explosives Weight (Tons)  1109 non-null   float64       \n",
      " 20  Total Weight (Tons)            1109 non-null   float64       \n",
      "dtypes: datetime64[ns](1), float64(8), int64(2), object(10)\n",
      "memory usage: 190.6+ KB\n"
     ]
    }
   ],
   "source": [
    "aerial.info()"
   ]
  },
  {
   "cell_type": "code",
   "execution_count": 6,
   "id": "09e39dda",
   "metadata": {},
   "outputs": [],
   "source": [
    "aerial.drop('Unnamed: 0',axis='columns', inplace=True)"
   ]
  },
  {
   "cell_type": "code",
   "execution_count": 7,
   "id": "6e3fd665",
   "metadata": {},
   "outputs": [],
   "source": [
    "df=aerial.dropna(axis=0)"
   ]
  },
  {
   "cell_type": "code",
   "execution_count": 8,
   "id": "9efce4c8",
   "metadata": {},
   "outputs": [
    {
     "data": {
      "text/html": [
       "<div>\n",
       "<style scoped>\n",
       "    .dataframe tbody tr th:only-of-type {\n",
       "        vertical-align: middle;\n",
       "    }\n",
       "\n",
       "    .dataframe tbody tr th {\n",
       "        vertical-align: top;\n",
       "    }\n",
       "\n",
       "    .dataframe thead th {\n",
       "        text-align: right;\n",
       "    }\n",
       "</style>\n",
       "<table border=\"1\" class=\"dataframe\">\n",
       "  <thead>\n",
       "    <tr style=\"text-align: right;\">\n",
       "      <th></th>\n",
       "      <th>Mission ID</th>\n",
       "      <th>Takeoff Latitude</th>\n",
       "      <th>Takeoff Longitude</th>\n",
       "      <th>Target Latitude</th>\n",
       "      <th>Target Longitude</th>\n",
       "      <th>Airborne Aircraft</th>\n",
       "      <th>Bombing Aircraft</th>\n",
       "      <th>High Explosives Weight (Tons)</th>\n",
       "      <th>Total Weight (Tons)</th>\n",
       "    </tr>\n",
       "  </thead>\n",
       "  <tbody>\n",
       "    <tr>\n",
       "      <th>count</th>\n",
       "      <td>1109.000000</td>\n",
       "      <td>1109.000000</td>\n",
       "      <td>1109.000000</td>\n",
       "      <td>1109.000000</td>\n",
       "      <td>1109.000000</td>\n",
       "      <td>1109.000000</td>\n",
       "      <td>1109.000000</td>\n",
       "      <td>1109.000000</td>\n",
       "      <td>1109.000000</td>\n",
       "    </tr>\n",
       "    <tr>\n",
       "      <th>mean</th>\n",
       "      <td>105418.279531</td>\n",
       "      <td>35.128865</td>\n",
       "      <td>37.271261</td>\n",
       "      <td>32.421610</td>\n",
       "      <td>37.239412</td>\n",
       "      <td>16.122633</td>\n",
       "      <td>16.865645</td>\n",
       "      <td>11.007033</td>\n",
       "      <td>11.053387</td>\n",
       "    </tr>\n",
       "    <tr>\n",
       "      <th>std</th>\n",
       "      <td>54863.055496</td>\n",
       "      <td>127.076116</td>\n",
       "      <td>62.104179</td>\n",
       "      <td>10.894366</td>\n",
       "      <td>47.109914</td>\n",
       "      <td>15.353339</td>\n",
       "      <td>16.121576</td>\n",
       "      <td>11.151651</td>\n",
       "      <td>11.132265</td>\n",
       "    </tr>\n",
       "    <tr>\n",
       "      <th>min</th>\n",
       "      <td>1.000000</td>\n",
       "      <td>-13.055872</td>\n",
       "      <td>-177.328611</td>\n",
       "      <td>-8.800000</td>\n",
       "      <td>-179.451285</td>\n",
       "      <td>1.000000</td>\n",
       "      <td>0.000000</td>\n",
       "      <td>0.000000</td>\n",
       "      <td>0.000000</td>\n",
       "    </tr>\n",
       "    <tr>\n",
       "      <th>25%</th>\n",
       "      <td>44437.000000</td>\n",
       "      <td>26.905278</td>\n",
       "      <td>14.321464</td>\n",
       "      <td>28.353859</td>\n",
       "      <td>13.330000</td>\n",
       "      <td>6.000000</td>\n",
       "      <td>5.000000</td>\n",
       "      <td>3.000000</td>\n",
       "      <td>3.000000</td>\n",
       "    </tr>\n",
       "    <tr>\n",
       "      <th>50%</th>\n",
       "      <td>122117.000000</td>\n",
       "      <td>32.827131</td>\n",
       "      <td>15.005650</td>\n",
       "      <td>36.750000</td>\n",
       "      <td>15.630000</td>\n",
       "      <td>11.000000</td>\n",
       "      <td>12.000000</td>\n",
       "      <td>7.500000</td>\n",
       "      <td>7.500000</td>\n",
       "    </tr>\n",
       "    <tr>\n",
       "      <th>75%</th>\n",
       "      <td>143179.000000</td>\n",
       "      <td>40.421181</td>\n",
       "      <td>86.710700</td>\n",
       "      <td>40.840000</td>\n",
       "      <td>92.872628</td>\n",
       "      <td>23.500000</td>\n",
       "      <td>24.000000</td>\n",
       "      <td>15.000000</td>\n",
       "      <td>15.000000</td>\n",
       "    </tr>\n",
       "    <tr>\n",
       "      <th>max</th>\n",
       "      <td>178542.000000</td>\n",
       "      <td>4248.000000</td>\n",
       "      <td>1355.000000</td>\n",
       "      <td>46.780000</td>\n",
       "      <td>178.313736</td>\n",
       "      <td>141.000000</td>\n",
       "      <td>141.000000</td>\n",
       "      <td>70.500000</td>\n",
       "      <td>70.500000</td>\n",
       "    </tr>\n",
       "  </tbody>\n",
       "</table>\n",
       "</div>"
      ],
      "text/plain": [
       "          Mission ID  Takeoff Latitude  Takeoff Longitude  Target Latitude  \\\n",
       "count    1109.000000       1109.000000        1109.000000      1109.000000   \n",
       "mean   105418.279531         35.128865          37.271261        32.421610   \n",
       "std     54863.055496        127.076116          62.104179        10.894366   \n",
       "min         1.000000        -13.055872        -177.328611        -8.800000   \n",
       "25%     44437.000000         26.905278          14.321464        28.353859   \n",
       "50%    122117.000000         32.827131          15.005650        36.750000   \n",
       "75%    143179.000000         40.421181          86.710700        40.840000   \n",
       "max    178542.000000       4248.000000        1355.000000        46.780000   \n",
       "\n",
       "       Target Longitude  Airborne Aircraft  Bombing Aircraft  \\\n",
       "count       1109.000000        1109.000000       1109.000000   \n",
       "mean          37.239412          16.122633         16.865645   \n",
       "std           47.109914          15.353339         16.121576   \n",
       "min         -179.451285           1.000000          0.000000   \n",
       "25%           13.330000           6.000000          5.000000   \n",
       "50%           15.630000          11.000000         12.000000   \n",
       "75%           92.872628          23.500000         24.000000   \n",
       "max          178.313736         141.000000        141.000000   \n",
       "\n",
       "       High Explosives Weight (Tons)  Total Weight (Tons)  \n",
       "count                    1109.000000          1109.000000  \n",
       "mean                       11.007033            11.053387  \n",
       "std                        11.151651            11.132265  \n",
       "min                         0.000000             0.000000  \n",
       "25%                         3.000000             3.000000  \n",
       "50%                         7.500000             7.500000  \n",
       "75%                        15.000000            15.000000  \n",
       "max                        70.500000            70.500000  "
      ]
     },
     "execution_count": 8,
     "metadata": {},
     "output_type": "execute_result"
    }
   ],
   "source": [
    "df.describe()"
   ]
  },
  {
   "cell_type": "code",
   "execution_count": 9,
   "id": "8753919a",
   "metadata": {
    "scrolled": true
   },
   "outputs": [
    {
     "name": "stderr",
     "output_type": "stream",
     "text": [
      "C:\\Users\\dhruv\\AppData\\Local\\Temp/ipykernel_13076/3698961737.py:1: FutureWarning: DataFrame.mean and DataFrame.median with numeric_only=None will include datetime64 and datetime64tz columns in a future version.\n",
      "  df.mean()\n",
      "C:\\Users\\dhruv\\AppData\\Local\\Temp/ipykernel_13076/3698961737.py:1: FutureWarning: Dropping of nuisance columns in DataFrame reductions (with 'numeric_only=None') is deprecated; in a future version this will raise TypeError.  Select only valid columns before calling the reduction.\n",
      "  df.mean()\n"
     ]
    },
    {
     "data": {
      "text/plain": [
       "Mission ID                       105418.279531\n",
       "Takeoff Latitude                     35.128865\n",
       "Takeoff Longitude                    37.271261\n",
       "Target Latitude                      32.421610\n",
       "Target Longitude                     37.239412\n",
       "Airborne Aircraft                    16.122633\n",
       "Bombing Aircraft                     16.865645\n",
       "High Explosives Weight (Tons)        11.007033\n",
       "Total Weight (Tons)                  11.053387\n",
       "dtype: float64"
      ]
     },
     "execution_count": 9,
     "metadata": {},
     "output_type": "execute_result"
    }
   ],
   "source": [
    "df.mean()"
   ]
  },
  {
   "cell_type": "code",
   "execution_count": 10,
   "id": "bb4d43b0",
   "metadata": {},
   "outputs": [
    {
     "name": "stderr",
     "output_type": "stream",
     "text": [
      "D:\\Ananconda\\lib\\site-packages\\seaborn\\_decorators.py:36: FutureWarning: Pass the following variable as a keyword arg: x. From version 0.12, the only valid positional argument will be `data`, and passing other arguments without an explicit keyword will result in an error or misinterpretation.\n",
      "  warnings.warn(\n"
     ]
    },
    {
     "data": {
      "image/png": "[encoded data removed]",
      "text/plain": [
       "<Figure size 576x432 with 1 Axes>"
      ]
     },
     "metadata": {
      "needs_background": "light"
     },
     "output_type": "display_data"
    }
   ],
   "source": [
    "import seaborn as sns\n",
    "\n",
    "plt.figure(figsize = (8,6))\n",
    "sns.countplot(df.Country)\n",
    "plt.show()"
   ]
  },
  {
   "cell_type": "code",
   "execution_count": 11,
   "id": "eace0d36",
   "metadata": {},
   "outputs": [
    {
     "data": {
      "text/plain": [
       "A36         497\n",
       "B25         218\n",
       "B24         138\n",
       "BLEN        113\n",
       "B17         103\n",
       "P40          10\n",
       "LYSANDER      9\n",
       "HUDSON        9\n",
       "WELL          4\n",
       "LB30          3\n",
       "A24           3\n",
       "B26           1\n",
       "LIB           1\n",
       "Name: Aircraft Series, dtype: int64"
      ]
     },
     "execution_count": 11,
     "metadata": {},
     "output_type": "execute_result"
    }
   ],
   "source": [
    "df['Aircraft Series'].value_counts()"
   ]
  },
  {
   "cell_type": "code",
   "execution_count": 12,
   "id": "a1ee298c",
   "metadata": {},
   "outputs": [
    {
     "name": "stderr",
     "output_type": "stream",
     "text": [
      "D:\\Ananconda\\lib\\site-packages\\seaborn\\_decorators.py:36: FutureWarning: Pass the following variable as a keyword arg: x. From version 0.12, the only valid positional argument will be `data`, and passing other arguments without an explicit keyword will result in an error or misinterpretation.\n",
      "  warnings.warn(\n"
     ]
    },
    {
     "data": {
      "image/png": "[encoded data removed]",
      "text/plain": [
       "<Figure size 1152x432 with 1 Axes>"
      ]
     },
     "metadata": {
      "needs_background": "light"
     },
     "output_type": "display_data"
    }
   ],
   "source": [
    "plt.figure(figsize = (16,6))\n",
    "sns.countplot(df['Aircraft Series'])\n",
    "plt.show()"
   ]
  },
  {
   "cell_type": "code",
   "execution_count": 13,
   "id": "48642a11",
   "metadata": {
    "scrolled": true
   },
   "outputs": [
    {
     "name": "stderr",
     "output_type": "stream",
     "text": [
      "D:\\Ananconda\\lib\\site-packages\\seaborn\\_decorators.py:36: FutureWarning: Pass the following variable as a keyword arg: x. From version 0.12, the only valid positional argument will be `data`, and passing other arguments without an explicit keyword will result in an error or misinterpretation.\n",
      "  warnings.warn(\n"
     ]
    },
    {
     "data": {
      "image/png": "[encoded data removed]",
      "text/plain": [
       "<Figure size 1152x432 with 1 Axes>"
      ]
     },
     "metadata": {
      "needs_background": "light"
     },
     "output_type": "display_data"
    }
   ],
   "source": [
    "plt.figure(figsize=(16,6))\n",
    "sns.countplot(df['Target Country'])\n",
    "plt.xticks(rotation = 90)\n",
    "plt.show()"
   ]
  },
  {
   "cell_type": "code",
   "execution_count": 14,
   "id": "e123aae4",
   "metadata": {},
   "outputs": [
    {
     "name": "stderr",
     "output_type": "stream",
     "text": [
      "D:\\Ananconda\\lib\\site-packages\\seaborn\\_decorators.py:36: FutureWarning: Pass the following variable as a keyword arg: x. From version 0.12, the only valid positional argument will be `data`, and passing other arguments without an explicit keyword will result in an error or misinterpretation.\n",
      "  warnings.warn(\n"
     ]
    },
    {
     "data": {
      "image/png": "[encoded data removed]",
      "text/plain": [
       "<Figure size 1440x432 with 1 Axes>"
      ]
     },
     "metadata": {
      "needs_background": "light"
     },
     "output_type": "display_data"
    }
   ],
   "source": [
    "plt.figure(figsize = (20,6))\n",
    "sns.countplot(df['Takeoff Location'])\n",
    "plt.show()"
   ]
  },
  {
   "cell_type": "code",
   "execution_count": 15,
   "id": "470317f4",
   "metadata": {},
   "outputs": [
    {
     "data": {
      "text/plain": [
       "Mission Date  Mission ID\n",
       "1941          112515        1\n",
       "              112516        1\n",
       "              112517        1\n",
       "              112518        1\n",
       "              112519        1\n",
       "                           ..\n",
       "1944          152822        1\n",
       "              158613        1\n",
       "              163720        1\n",
       "              175414        1\n",
       "1945          161203        1\n",
       "Length: 1109, dtype: int64"
      ]
     },
     "execution_count": 15,
     "metadata": {},
     "output_type": "execute_result"
    }
   ],
   "source": [
    "data = df.groupby([pd.DatetimeIndex(df['Mission Date']).year,\"Mission ID\"]).size()\n",
    "data"
   ]
  },
  {
   "cell_type": "code",
   "execution_count": 16,
   "id": "6be90fec",
   "metadata": {},
   "outputs": [
    {
     "data": {
      "text/plain": [
       "<AxesSubplot:xlabel='Mission Date', ylabel='Mission ID'>"
      ]
     },
     "execution_count": 16,
     "metadata": {},
     "output_type": "execute_result"
    },
    {
     "data": {
      "image/png": "[encoded data removed]",
      "text/plain": [
       "<Figure size 1152x432 with 1 Axes>"
      ]
     },
     "metadata": {
      "needs_background": "light"
     },
     "output_type": "display_data"
    }
   ],
   "source": [
    "plt.figure(figsize=(16,6))\n",
    "sns.lineplot(data=data, x=\"Mission Date\", y=\"Mission ID\")"
   ]
  },
  {
   "cell_type": "code",
   "execution_count": 17,
   "id": "6b4c77fd",
   "metadata": {},
   "outputs": [
    {
     "data": {
      "image/png": "[encoded data removed]",
      "text/plain": [
       "<Figure size 576x360 with 1 Axes>"
      ]
     },
     "metadata": {
      "needs_background": "light"
     },
     "output_type": "display_data"
    }
   ],
   "source": [
    "df['Total Weight (Tons)'].hist(bins=30, figsize=(8, 5));"
   ]
  },
  {
   "cell_type": "code",
   "execution_count": 18,
   "id": "101bfce7",
   "metadata": {},
   "outputs": [
    {
     "data": {
      "image/png": "[encoded data removed]",
      "text/plain": [
       "<Figure size 576x360 with 1 Axes>"
      ]
     },
     "metadata": {
      "needs_background": "light"
     },
     "output_type": "display_data"
    }
   ],
   "source": [
    "df['Bombing Aircraft'].hist(bins=30, figsize=(8, 5));"
   ]
  }
 ],
 "metadata": {
  "kernelspec": {
   "display_name": "Python 3 (ipykernel)",
   "language": "python",
   "name": "python3"
  },
  "language_info": {
   "codemirror_mode": {
    "name": "ipython",
    "version": 3
   },
   "file_extension": ".py",
   "mimetype": "text/x-python",
   "name": "python",
   "nbconvert_exporter": "python",
   "pygments_lexer": "ipython3",
   "version": "3.8.11"
  }
 },
 "nbformat": 4,
 "nbformat_minor": 5
}
