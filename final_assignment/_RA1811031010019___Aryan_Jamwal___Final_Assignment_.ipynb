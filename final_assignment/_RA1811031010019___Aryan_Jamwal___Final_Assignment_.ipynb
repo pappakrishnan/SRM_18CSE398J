{
  "nbformat": 4,
  "nbformat_minor": 0,
  "metadata": {
    "colab": {
      "name": "<RA1811031010019>_<Aryan  Jamwal>_<Final Assignment>.ipynb",
      "provenance": [],
      "collapsed_sections": []
    },
    "kernelspec": {
      "name": "python3",
      "display_name": "Python 3"
    },
    "language_info": {
      "name": "python"
    },
    "accelerator": "GPU"
  },
  "cells": [
    {
      "cell_type": "markdown",
      "metadata": {
        "id": "iwYM3f4y_a5v"
      },
      "source": [
        "####Name: Aryan Jamwal\n",
        "####Reg No: RA1811031010019\n",
        "####Dept: CSE-IT\n",
        "####Section: K1"
      ]
    },
    {
      "cell_type": "markdown",
      "metadata": {
        "id": "kJ1IoQs7Hva1"
      },
      "source": [
        "####Importing Libraries"
      ]
    },
    {
      "cell_type": "code",
      "metadata": {
        "id": "UlFyhwJIk1LK"
      },
      "source": [
        "import numpy as np \n",
        "import pandas as pd \n",
        "import matplotlib.pyplot as plt\n",
        "import seaborn as sns\n",
        "import os"
      ],
      "execution_count": 501,
      "outputs": []
    },
    {
      "cell_type": "markdown",
      "metadata": {
        "id": "Zb1IEthhH65K"
      },
      "source": [
        "#### Reading Data"
      ]
    },
    {
      "cell_type": "code",
      "metadata": {
        "id": "Jwyl1XBLwnws"
      },
      "source": [
        "df = pd.read_csv('/content/aug_train.csv')"
      ],
      "execution_count": 502,
      "outputs": []
    },
    {
      "cell_type": "markdown",
      "metadata": {
        "id": "KO3GtZgvH9Py"
      },
      "source": [
        "#### Data Exploration"
      ]
    },
    {
      "cell_type": "code",
      "metadata": {
        "colab": {
          "base_uri": "https://localhost:8080/"
        },
        "id": "EFQ5iYJAwntk",
        "outputId": "781e7f5a-11b5-4b98-e281-26768f65a432"
      },
      "source": [
        "df.shape"
      ],
      "execution_count": 503,
      "outputs": [
        {
          "output_type": "execute_result",
          "data": {
            "text/plain": [
              "(19158, 14)"
            ]
          },
          "metadata": {},
          "execution_count": 503
        }
      ]
    },
    {
      "cell_type": "code",
      "metadata": {
        "colab": {
          "base_uri": "https://localhost:8080/"
        },
        "id": "YwyPBEzG7oOH",
        "outputId": "428b1a83-eb9f-41be-d841-b254577436bf"
      },
      "source": [
        "df.mean()"
      ],
      "execution_count": 504,
      "outputs": [
        {
          "output_type": "execute_result",
          "data": {
            "text/plain": [
              "enrollee_id               16875.358179\n",
              "city_development_index        0.828848\n",
              "training_hours               65.366896\n",
              "target                        0.249348\n",
              "dtype: float64"
            ]
          },
          "metadata": {},
          "execution_count": 504
        }
      ]
    },
    {
      "cell_type": "code",
      "metadata": {
        "colab": {
          "base_uri": "https://localhost:8080/"
        },
        "id": "Nlpjn9fO7oGw",
        "outputId": "9586c0d1-87bf-482d-d12b-a441fd02fdda"
      },
      "source": [
        "df.min()\n"
      ],
      "execution_count": 505,
      "outputs": [
        {
          "output_type": "execute_result",
          "data": {
            "text/plain": [
              "enrollee_id                                     1\n",
              "city                                       city_1\n",
              "city_development_index                      0.448\n",
              "relevent_experience       Has relevent experience\n",
              "training_hours                                  1\n",
              "target                                          0\n",
              "dtype: object"
            ]
          },
          "metadata": {},
          "execution_count": 505
        }
      ]
    },
    {
      "cell_type": "code",
      "metadata": {
        "colab": {
          "base_uri": "https://localhost:8080/"
        },
        "id": "PuCqmSlO7zHX",
        "outputId": "c2bc81a7-4b9f-416a-e7c0-f52ddbb249ec"
      },
      "source": [
        "df.max()"
      ],
      "execution_count": 506,
      "outputs": [
        {
          "output_type": "execute_result",
          "data": {
            "text/plain": [
              "enrollee_id                                33380\n",
              "city                                     city_99\n",
              "city_development_index                     0.949\n",
              "relevent_experience       No relevent experience\n",
              "training_hours                               336\n",
              "target                                         1\n",
              "dtype: object"
            ]
          },
          "metadata": {},
          "execution_count": 506
        }
      ]
    },
    {
      "cell_type": "code",
      "metadata": {
        "colab": {
          "base_uri": "https://localhost:8080/"
        },
        "id": "xpo7Ydkr7224",
        "outputId": "01820b90-2cc3-42e2-fe51-d87c9e92e716"
      },
      "source": [
        "df.var()\n"
      ],
      "execution_count": 507,
      "outputs": [
        {
          "output_type": "execute_result",
          "data": {
            "text/plain": [
              "enrollee_id               9.247308e+07\n",
              "city_development_index    1.521812e-02\n",
              "training_hours            3.607019e+03\n",
              "target                    1.871831e-01\n",
              "dtype: float64"
            ]
          },
          "metadata": {},
          "execution_count": 507
        }
      ]
    },
    {
      "cell_type": "code",
      "metadata": {
        "colab": {
          "base_uri": "https://localhost:8080/"
        },
        "id": "QKDyybcC75cP",
        "outputId": "5d14dc13-65c4-4e09-f3fe-76acbc907193"
      },
      "source": [
        "df.kurtosis()\n"
      ],
      "execution_count": 508,
      "outputs": [
        {
          "output_type": "execute_result",
          "data": {
            "text/plain": [
              "enrollee_id              -1.196157\n",
              "city_development_index   -0.538532\n",
              "training_hours            3.840539\n",
              "target                   -0.657217\n",
              "dtype: float64"
            ]
          },
          "metadata": {},
          "execution_count": 508
        }
      ]
    },
    {
      "cell_type": "code",
      "metadata": {
        "colab": {
          "base_uri": "https://localhost:8080/"
        },
        "id": "fc-Zr9dLwnq0",
        "outputId": "ebbbe759-5aa0-4304-8d39-dc166a852438"
      },
      "source": [
        "df.info()"
      ],
      "execution_count": 509,
      "outputs": [
        {
          "output_type": "stream",
          "name": "stdout",
          "text": [
            "<class 'pandas.core.frame.DataFrame'>\n",
            "RangeIndex: 19158 entries, 0 to 19157\n",
            "Data columns (total 14 columns):\n",
            " #   Column                  Non-Null Count  Dtype  \n",
            "---  ------                  --------------  -----  \n",
            " 0   enrollee_id             19158 non-null  int64  \n",
            " 1   city                    19158 non-null  object \n",
            " 2   city_development_index  19158 non-null  float64\n",
            " 3   gender                  14650 non-null  object \n",
            " 4   relevent_experience     19158 non-null  object \n",
            " 5   enrolled_university     18772 non-null  object \n",
            " 6   education_level         18698 non-null  object \n",
            " 7   major_discipline        16345 non-null  object \n",
            " 8   experience              19093 non-null  object \n",
            " 9   company_size            13220 non-null  object \n",
            " 10  company_type            13018 non-null  object \n",
            " 11  last_new_job            18735 non-null  object \n",
            " 12  training_hours          19158 non-null  int64  \n",
            " 13  target                  19158 non-null  float64\n",
            "dtypes: float64(2), int64(2), object(10)\n",
            "memory usage: 2.0+ MB\n"
          ]
        }
      ]
    },
    {
      "cell_type": "code",
      "metadata": {
        "colab": {
          "base_uri": "https://localhost:8080/",
          "height": 257
        },
        "id": "qIxmTHx4wnn0",
        "outputId": "bc0b0e4b-00bb-4574-b122-7dd75aea2b4f"
      },
      "source": [
        "df.head()"
      ],
      "execution_count": 510,
      "outputs": [
        {
          "output_type": "execute_result",
          "data": {
            "text/html": [
              "<div>\n",
              "<style scoped>\n",
              "    .dataframe tbody tr th:only-of-type {\n",
              "        vertical-align: middle;\n",
              "    }\n",
              "\n",
              "    .dataframe tbody tr th {\n",
              "        vertical-align: top;\n",
              "    }\n",
              "\n",
              "    .dataframe thead th {\n",
              "        text-align: right;\n",
              "    }\n",
              "</style>\n",
              "<table border=\"1\" class=\"dataframe\">\n",
              "  <thead>\n",
              "    <tr style=\"text-align: right;\">\n",
              "      <th></th>\n",
              "      <th>enrollee_id</th>\n",
              "      <th>city</th>\n",
              "      <th>city_development_index</th>\n",
              "      <th>gender</th>\n",
              "      <th>relevent_experience</th>\n",
              "      <th>enrolled_university</th>\n",
              "      <th>education_level</th>\n",
              "      <th>major_discipline</th>\n",
              "      <th>experience</th>\n",
              "      <th>company_size</th>\n",
              "      <th>company_type</th>\n",
              "      <th>last_new_job</th>\n",
              "      <th>training_hours</th>\n",
              "      <th>target</th>\n",
              "    </tr>\n",
              "  </thead>\n",
              "  <tbody>\n",
              "    <tr>\n",
              "      <th>0</th>\n",
              "      <td>8949</td>\n",
              "      <td>city_103</td>\n",
              "      <td>0.920</td>\n",
              "      <td>Male</td>\n",
              "      <td>Has relevent experience</td>\n",
              "      <td>no_enrollment</td>\n",
              "      <td>Graduate</td>\n",
              "      <td>STEM</td>\n",
              "      <td>&gt;20</td>\n",
              "      <td>NaN</td>\n",
              "      <td>NaN</td>\n",
              "      <td>1</td>\n",
              "      <td>36</td>\n",
              "      <td>1.0</td>\n",
              "    </tr>\n",
              "    <tr>\n",
              "      <th>1</th>\n",
              "      <td>29725</td>\n",
              "      <td>city_40</td>\n",
              "      <td>0.776</td>\n",
              "      <td>Male</td>\n",
              "      <td>No relevent experience</td>\n",
              "      <td>no_enrollment</td>\n",
              "      <td>Graduate</td>\n",
              "      <td>STEM</td>\n",
              "      <td>15</td>\n",
              "      <td>50-99</td>\n",
              "      <td>Pvt Ltd</td>\n",
              "      <td>&gt;4</td>\n",
              "      <td>47</td>\n",
              "      <td>0.0</td>\n",
              "    </tr>\n",
              "    <tr>\n",
              "      <th>2</th>\n",
              "      <td>11561</td>\n",
              "      <td>city_21</td>\n",
              "      <td>0.624</td>\n",
              "      <td>NaN</td>\n",
              "      <td>No relevent experience</td>\n",
              "      <td>Full time course</td>\n",
              "      <td>Graduate</td>\n",
              "      <td>STEM</td>\n",
              "      <td>5</td>\n",
              "      <td>NaN</td>\n",
              "      <td>NaN</td>\n",
              "      <td>never</td>\n",
              "      <td>83</td>\n",
              "      <td>0.0</td>\n",
              "    </tr>\n",
              "    <tr>\n",
              "      <th>3</th>\n",
              "      <td>33241</td>\n",
              "      <td>city_115</td>\n",
              "      <td>0.789</td>\n",
              "      <td>NaN</td>\n",
              "      <td>No relevent experience</td>\n",
              "      <td>NaN</td>\n",
              "      <td>Graduate</td>\n",
              "      <td>Business Degree</td>\n",
              "      <td>&lt;1</td>\n",
              "      <td>NaN</td>\n",
              "      <td>Pvt Ltd</td>\n",
              "      <td>never</td>\n",
              "      <td>52</td>\n",
              "      <td>1.0</td>\n",
              "    </tr>\n",
              "    <tr>\n",
              "      <th>4</th>\n",
              "      <td>666</td>\n",
              "      <td>city_162</td>\n",
              "      <td>0.767</td>\n",
              "      <td>Male</td>\n",
              "      <td>Has relevent experience</td>\n",
              "      <td>no_enrollment</td>\n",
              "      <td>Masters</td>\n",
              "      <td>STEM</td>\n",
              "      <td>&gt;20</td>\n",
              "      <td>50-99</td>\n",
              "      <td>Funded Startup</td>\n",
              "      <td>4</td>\n",
              "      <td>8</td>\n",
              "      <td>0.0</td>\n",
              "    </tr>\n",
              "  </tbody>\n",
              "</table>\n",
              "</div>"
            ],
            "text/plain": [
              "   enrollee_id      city  ...  training_hours target\n",
              "0         8949  city_103  ...              36    1.0\n",
              "1        29725   city_40  ...              47    0.0\n",
              "2        11561   city_21  ...              83    0.0\n",
              "3        33241  city_115  ...              52    1.0\n",
              "4          666  city_162  ...               8    0.0\n",
              "\n",
              "[5 rows x 14 columns]"
            ]
          },
          "metadata": {},
          "execution_count": 510
        }
      ]
    },
    {
      "cell_type": "code",
      "metadata": {
        "colab": {
          "base_uri": "https://localhost:8080/",
          "height": 274
        },
        "id": "k_a3X1-gwnkc",
        "outputId": "61d90a88-1901-41cc-d041-8d13b5d891de"
      },
      "source": [
        "df.tail()"
      ],
      "execution_count": 511,
      "outputs": [
        {
          "output_type": "execute_result",
          "data": {
            "text/html": [
              "<div>\n",
              "<style scoped>\n",
              "    .dataframe tbody tr th:only-of-type {\n",
              "        vertical-align: middle;\n",
              "    }\n",
              "\n",
              "    .dataframe tbody tr th {\n",
              "        vertical-align: top;\n",
              "    }\n",
              "\n",
              "    .dataframe thead th {\n",
              "        text-align: right;\n",
              "    }\n",
              "</style>\n",
              "<table border=\"1\" class=\"dataframe\">\n",
              "  <thead>\n",
              "    <tr style=\"text-align: right;\">\n",
              "      <th></th>\n",
              "      <th>enrollee_id</th>\n",
              "      <th>city</th>\n",
              "      <th>city_development_index</th>\n",
              "      <th>gender</th>\n",
              "      <th>relevent_experience</th>\n",
              "      <th>enrolled_university</th>\n",
              "      <th>education_level</th>\n",
              "      <th>major_discipline</th>\n",
              "      <th>experience</th>\n",
              "      <th>company_size</th>\n",
              "      <th>company_type</th>\n",
              "      <th>last_new_job</th>\n",
              "      <th>training_hours</th>\n",
              "      <th>target</th>\n",
              "    </tr>\n",
              "  </thead>\n",
              "  <tbody>\n",
              "    <tr>\n",
              "      <th>19153</th>\n",
              "      <td>7386</td>\n",
              "      <td>city_173</td>\n",
              "      <td>0.878</td>\n",
              "      <td>Male</td>\n",
              "      <td>No relevent experience</td>\n",
              "      <td>no_enrollment</td>\n",
              "      <td>Graduate</td>\n",
              "      <td>Humanities</td>\n",
              "      <td>14</td>\n",
              "      <td>NaN</td>\n",
              "      <td>NaN</td>\n",
              "      <td>1</td>\n",
              "      <td>42</td>\n",
              "      <td>1.0</td>\n",
              "    </tr>\n",
              "    <tr>\n",
              "      <th>19154</th>\n",
              "      <td>31398</td>\n",
              "      <td>city_103</td>\n",
              "      <td>0.920</td>\n",
              "      <td>Male</td>\n",
              "      <td>Has relevent experience</td>\n",
              "      <td>no_enrollment</td>\n",
              "      <td>Graduate</td>\n",
              "      <td>STEM</td>\n",
              "      <td>14</td>\n",
              "      <td>NaN</td>\n",
              "      <td>NaN</td>\n",
              "      <td>4</td>\n",
              "      <td>52</td>\n",
              "      <td>1.0</td>\n",
              "    </tr>\n",
              "    <tr>\n",
              "      <th>19155</th>\n",
              "      <td>24576</td>\n",
              "      <td>city_103</td>\n",
              "      <td>0.920</td>\n",
              "      <td>Male</td>\n",
              "      <td>Has relevent experience</td>\n",
              "      <td>no_enrollment</td>\n",
              "      <td>Graduate</td>\n",
              "      <td>STEM</td>\n",
              "      <td>&gt;20</td>\n",
              "      <td>50-99</td>\n",
              "      <td>Pvt Ltd</td>\n",
              "      <td>4</td>\n",
              "      <td>44</td>\n",
              "      <td>0.0</td>\n",
              "    </tr>\n",
              "    <tr>\n",
              "      <th>19156</th>\n",
              "      <td>5756</td>\n",
              "      <td>city_65</td>\n",
              "      <td>0.802</td>\n",
              "      <td>Male</td>\n",
              "      <td>Has relevent experience</td>\n",
              "      <td>no_enrollment</td>\n",
              "      <td>High School</td>\n",
              "      <td>NaN</td>\n",
              "      <td>&lt;1</td>\n",
              "      <td>500-999</td>\n",
              "      <td>Pvt Ltd</td>\n",
              "      <td>2</td>\n",
              "      <td>97</td>\n",
              "      <td>0.0</td>\n",
              "    </tr>\n",
              "    <tr>\n",
              "      <th>19157</th>\n",
              "      <td>23834</td>\n",
              "      <td>city_67</td>\n",
              "      <td>0.855</td>\n",
              "      <td>NaN</td>\n",
              "      <td>No relevent experience</td>\n",
              "      <td>no_enrollment</td>\n",
              "      <td>Primary School</td>\n",
              "      <td>NaN</td>\n",
              "      <td>2</td>\n",
              "      <td>NaN</td>\n",
              "      <td>NaN</td>\n",
              "      <td>1</td>\n",
              "      <td>127</td>\n",
              "      <td>0.0</td>\n",
              "    </tr>\n",
              "  </tbody>\n",
              "</table>\n",
              "</div>"
            ],
            "text/plain": [
              "       enrollee_id      city  ...  training_hours target\n",
              "19153         7386  city_173  ...              42    1.0\n",
              "19154        31398  city_103  ...              52    1.0\n",
              "19155        24576  city_103  ...              44    0.0\n",
              "19156         5756   city_65  ...              97    0.0\n",
              "19157        23834   city_67  ...             127    0.0\n",
              "\n",
              "[5 rows x 14 columns]"
            ]
          },
          "metadata": {},
          "execution_count": 511
        }
      ]
    },
    {
      "cell_type": "markdown",
      "metadata": {
        "id": "oEDzakyNIBi6"
      },
      "source": [
        "#### Data Cleaning"
      ]
    },
    {
      "cell_type": "code",
      "metadata": {
        "id": "rvThV__5wnhc"
      },
      "source": [
        "df.drop(['enrollee_id'],axis=1,inplace=True)\n",
        "df.drop(['city'],axis=1,inplace=True)\n",
        "df.drop(['company_size'],axis=1,inplace=True)\n",
        "df.drop(['last_new_job'],axis=1,inplace=True)"
      ],
      "execution_count": 512,
      "outputs": []
    },
    {
      "cell_type": "code",
      "metadata": {
        "colab": {
          "base_uri": "https://localhost:8080/"
        },
        "id": "zcUFvzOgwneU",
        "outputId": "2725b994-a03b-4ef7-a906-0bcc49cd5397"
      },
      "source": [
        "df.isnull().sum()"
      ],
      "execution_count": 513,
      "outputs": [
        {
          "output_type": "execute_result",
          "data": {
            "text/plain": [
              "city_development_index       0\n",
              "gender                    4508\n",
              "relevent_experience          0\n",
              "enrolled_university        386\n",
              "education_level            460\n",
              "major_discipline          2813\n",
              "experience                  65\n",
              "company_type              6140\n",
              "training_hours               0\n",
              "target                       0\n",
              "dtype: int64"
            ]
          },
          "metadata": {},
          "execution_count": 513
        }
      ]
    },
    {
      "cell_type": "code",
      "metadata": {
        "colab": {
          "base_uri": "https://localhost:8080/"
        },
        "id": "yeAhrfthwnbE",
        "outputId": "2d350e43-dab2-41f3-8748-15f4a1c6d541"
      },
      "source": [
        "df.isnull().mean()"
      ],
      "execution_count": 514,
      "outputs": [
        {
          "output_type": "execute_result",
          "data": {
            "text/plain": [
              "city_development_index    0.000000\n",
              "gender                    0.235306\n",
              "relevent_experience       0.000000\n",
              "enrolled_university       0.020148\n",
              "education_level           0.024011\n",
              "major_discipline          0.146832\n",
              "experience                0.003393\n",
              "company_type              0.320493\n",
              "training_hours            0.000000\n",
              "target                    0.000000\n",
              "dtype: float64"
            ]
          },
          "metadata": {},
          "execution_count": 514
        }
      ]
    },
    {
      "cell_type": "code",
      "metadata": {
        "colab": {
          "base_uri": "https://localhost:8080/",
          "height": 352
        },
        "id": "4YCQBHERwnSN",
        "outputId": "abd33a01-bbcc-40ca-f845-0022366b10bc"
      },
      "source": [
        "plt.figure(figsize=(10, 5))\n",
        "sns.kdeplot(data=df, x=\"city_development_index\", hue=\"target\",cut = 0,palette='Set2')"
      ],
      "execution_count": 515,
      "outputs": [
        {
          "output_type": "execute_result",
          "data": {
            "text/plain": [
              "<matplotlib.axes._subplots.AxesSubplot at 0x7efec055c690>"
            ]
          },
          "metadata": {},
          "execution_count": 515
        },
        {
          "output_type": "display_data",
          "data": {
            "image/png": "[encoded data removed]",
            "text/plain": [
              "<Figure size 720x360 with 1 Axes>"
            ]
          },
          "metadata": {
            "needs_background": "light"
          }
        }
      ]
    },
    {
      "cell_type": "code",
      "metadata": {
        "colab": {
          "base_uri": "https://localhost:8080/",
          "height": 405
        },
        "id": "OiXYm0AjyW4z",
        "outputId": "80f4a39f-9e25-49e7-d069-8b453eb69632"
      },
      "source": [
        "plt.figure(figsize=(7,5))\n",
        "ax=sns.countplot(df.gender)\n",
        "\n",
        "plt.xticks(rotation=0)"
      ],
      "execution_count": 516,
      "outputs": [
        {
          "output_type": "stream",
          "name": "stderr",
          "text": [
            "/usr/local/lib/python3.7/dist-packages/seaborn/_decorators.py:43: FutureWarning: Pass the following variable as a keyword arg: x. From version 0.12, the only valid positional argument will be `data`, and passing other arguments without an explicit keyword will result in an error or misinterpretation.\n",
            "  FutureWarning\n"
          ]
        },
        {
          "output_type": "execute_result",
          "data": {
            "text/plain": [
              "(array([0, 1, 2]), <a list of 3 Text major ticklabel objects>)"
            ]
          },
          "metadata": {},
          "execution_count": 516
        },
        {
          "output_type": "display_data",
          "data": {
            "image/png": "[encoded data removed]",
            "text/plain": [
              "<Figure size 504x360 with 1 Axes>"
            ]
          },
          "metadata": {
            "needs_background": "light"
          }
        }
      ]
    },
    {
      "cell_type": "code",
      "metadata": {
        "colab": {
          "base_uri": "https://localhost:8080/"
        },
        "id": "zojmqedVyW1r",
        "outputId": "82a95327-286b-4da8-d4e8-e7125cdcf70f"
      },
      "source": [
        "df['gender'].isnull().sum()"
      ],
      "execution_count": 517,
      "outputs": [
        {
          "output_type": "execute_result",
          "data": {
            "text/plain": [
              "4508"
            ]
          },
          "metadata": {},
          "execution_count": 517
        }
      ]
    },
    {
      "cell_type": "code",
      "metadata": {
        "id": "z4yNcSbmyWys"
      },
      "source": [
        "df[\"gender\"].fillna(\"Male\", inplace = True)\n",
        "sex = pd.get_dummies(df['gender'])\n",
        "df.drop(['gender'],axis=1,inplace=True)\n",
        "df = pd.concat([df,sex],axis=1)\n",
        "df.drop(['Other'],axis=1,inplace=True) "
      ],
      "execution_count": 518,
      "outputs": []
    },
    {
      "cell_type": "code",
      "metadata": {
        "colab": {
          "base_uri": "https://localhost:8080/",
          "height": 456
        },
        "id": "RzMHe6RdyWvz",
        "outputId": "276bb9c6-108d-4adc-a088-230f7ac20a6f"
      },
      "source": [
        "with sns.axes_style('white'):\n",
        "    rel_exp = sns.factorplot(\"relevent_experience\", data=df, aspect=2.0, kind='count',\n",
        "                       hue='target')"
      ],
      "execution_count": 519,
      "outputs": [
        {
          "output_type": "stream",
          "name": "stderr",
          "text": [
            "/usr/local/lib/python3.7/dist-packages/seaborn/categorical.py:3717: UserWarning: The `factorplot` function has been renamed to `catplot`. The original name will be removed in a future release. Please update your code. Note that the default `kind` in `factorplot` (`'point'`) has changed `'strip'` in `catplot`.\n",
            "  warnings.warn(msg)\n",
            "/usr/local/lib/python3.7/dist-packages/seaborn/_decorators.py:43: FutureWarning: Pass the following variable as a keyword arg: x. From version 0.12, the only valid positional argument will be `data`, and passing other arguments without an explicit keyword will result in an error or misinterpretation.\n",
            "  FutureWarning\n"
          ]
        },
        {
          "output_type": "display_data",
          "data": {
            "image/png": "[encoded data removed]",
            "text/plain": [
              "<Figure size 771.875x360 with 1 Axes>"
            ]
          },
          "metadata": {}
        }
      ]
    },
    {
      "cell_type": "code",
      "metadata": {
        "id": "zZGl0fS7yWsD"
      },
      "source": [
        "rel_exp = pd.get_dummies(df['relevent_experience'])\n",
        "df.drop(['relevent_experience'],axis=1,inplace=True)\n",
        "df = pd.concat([df,rel_exp],axis=1)\n",
        "df.drop(['No relevent experience'],axis=1,inplace=True)"
      ],
      "execution_count": 520,
      "outputs": []
    },
    {
      "cell_type": "code",
      "metadata": {
        "colab": {
          "base_uri": "https://localhost:8080/"
        },
        "id": "tHWIBQ4PyWop",
        "outputId": "1ec97775-9b3f-49f4-ed30-abcee80399f5"
      },
      "source": [
        "df[\"enrolled_university\"].value_counts()"
      ],
      "execution_count": 521,
      "outputs": [
        {
          "output_type": "execute_result",
          "data": {
            "text/plain": [
              "no_enrollment       13817\n",
              "Full time course     3757\n",
              "Part time course     1198\n",
              "Name: enrolled_university, dtype: int64"
            ]
          },
          "metadata": {},
          "execution_count": 521
        }
      ]
    },
    {
      "cell_type": "code",
      "metadata": {
        "id": "WJklkapayWjk"
      },
      "source": [
        "df[\"enrolled_university\"].fillna(\"no_enrollment\", inplace = True)\n",
        "enrol_uni = pd.get_dummies(df['enrolled_university'])\n",
        "df.drop(['enrolled_university'],axis=1,inplace=True)\n",
        "df = pd.concat([df,enrol_uni],axis=1)\n",
        "df.drop(['Part time course'],axis=1,inplace=True) "
      ],
      "execution_count": 522,
      "outputs": []
    },
    {
      "cell_type": "code",
      "metadata": {
        "colab": {
          "base_uri": "https://localhost:8080/",
          "height": 456
        },
        "id": "yUWSf5d8yWcb",
        "outputId": "2a71fa7d-441b-4d33-b79e-529f48ddf8de"
      },
      "source": [
        "with sns.axes_style('white'):\n",
        "    rel_exp = sns.factorplot(\"education_level\", data=df, aspect=2.0, kind='count',\n",
        "                       hue='target',palette = 'Set2')"
      ],
      "execution_count": 523,
      "outputs": [
        {
          "output_type": "stream",
          "name": "stderr",
          "text": [
            "/usr/local/lib/python3.7/dist-packages/seaborn/categorical.py:3717: UserWarning: The `factorplot` function has been renamed to `catplot`. The original name will be removed in a future release. Please update your code. Note that the default `kind` in `factorplot` (`'point'`) has changed `'strip'` in `catplot`.\n",
            "  warnings.warn(msg)\n",
            "/usr/local/lib/python3.7/dist-packages/seaborn/_decorators.py:43: FutureWarning: Pass the following variable as a keyword arg: x. From version 0.12, the only valid positional argument will be `data`, and passing other arguments without an explicit keyword will result in an error or misinterpretation.\n",
            "  FutureWarning\n"
          ]
        },
        {
          "output_type": "display_data",
          "data": {
            "image/png": "[encoded data removed]",
            "text/plain": [
              "<Figure size 771.875x360 with 1 Axes>"
            ]
          },
          "metadata": {}
        }
      ]
    },
    {
      "cell_type": "code",
      "metadata": {
        "id": "07BFOhn6yvfT"
      },
      "source": [
        "df[\"education_level\"].fillna(\"Graduate\", inplace = True)\n",
        "edu_level = pd.get_dummies(df['education_level'])\n",
        "df.drop(['education_level'],axis=1,inplace=True)\n",
        "df = pd.concat([df,edu_level],axis=1)\n",
        "\n",
        "df.drop(['Phd','Primary School'],axis=1,inplace=True)"
      ],
      "execution_count": 524,
      "outputs": []
    },
    {
      "cell_type": "code",
      "metadata": {
        "colab": {
          "base_uri": "https://localhost:8080/",
          "height": 406
        },
        "id": "PJf9WJOvyvcj",
        "outputId": "9ba11337-0df6-45ea-99ec-a40a0872493d"
      },
      "source": [
        "plt.figure(figsize=(7,5))\n",
        "ax=sns.countplot(df.major_discipline)\n",
        "plt.xticks(rotation=0)"
      ],
      "execution_count": 525,
      "outputs": [
        {
          "output_type": "stream",
          "name": "stderr",
          "text": [
            "/usr/local/lib/python3.7/dist-packages/seaborn/_decorators.py:43: FutureWarning: Pass the following variable as a keyword arg: x. From version 0.12, the only valid positional argument will be `data`, and passing other arguments without an explicit keyword will result in an error or misinterpretation.\n",
            "  FutureWarning\n"
          ]
        },
        {
          "output_type": "execute_result",
          "data": {
            "text/plain": [
              "(array([0, 1, 2, 3, 4, 5]), <a list of 6 Text major ticklabel objects>)"
            ]
          },
          "metadata": {},
          "execution_count": 525
        },
        {
          "output_type": "display_data",
          "data": {
            "image/png": "[encoded data removed]",
            "text/plain": [
              "<Figure size 504x360 with 1 Axes>"
            ]
          },
          "metadata": {
            "needs_background": "light"
          }
        }
      ]
    },
    {
      "cell_type": "code",
      "metadata": {
        "id": "FsDSmxz7yvZ5"
      },
      "source": [
        "df[\"major_discipline\"].fillna(\"STEM\", inplace = True)\n",
        "m_disci = pd.get_dummies(df['major_discipline'])\n",
        "df.drop(['major_discipline'],axis=1,inplace=True)\n",
        "df= pd.concat([df,m_disci],axis=1)\n",
        "\n",
        "df.drop(['Business Degree','Arts','Humanities','No Major','Other'],axis=1,inplace=True)"
      ],
      "execution_count": 526,
      "outputs": []
    },
    {
      "cell_type": "code",
      "metadata": {
        "colab": {
          "base_uri": "https://localhost:8080/"
        },
        "id": "S9qMq-_3yvXL",
        "outputId": "f24f2135-b6c5-4060-c062-ab4bf8b201b5"
      },
      "source": [
        "df[\"experience\"].value_counts()"
      ],
      "execution_count": 527,
      "outputs": [
        {
          "output_type": "execute_result",
          "data": {
            "text/plain": [
              ">20    3286\n",
              "5      1430\n",
              "4      1403\n",
              "3      1354\n",
              "6      1216\n",
              "2      1127\n",
              "7      1028\n",
              "10      985\n",
              "9       980\n",
              "8       802\n",
              "15      686\n",
              "11      664\n",
              "14      586\n",
              "1       549\n",
              "<1      522\n",
              "16      508\n",
              "12      494\n",
              "13      399\n",
              "17      342\n",
              "19      304\n",
              "18      280\n",
              "20      148\n",
              "Name: experience, dtype: int64"
            ]
          },
          "metadata": {},
          "execution_count": 527
        }
      ]
    },
    {
      "cell_type": "code",
      "metadata": {
        "id": "GjQuywNSyvUL"
      },
      "source": [
        "df[\"experience\"].fillna(\"20\", inplace = True)\n",
        "df.replace({\"experience\":{\">20\":20,\"<1\":1}},inplace = True)"
      ],
      "execution_count": 528,
      "outputs": []
    },
    {
      "cell_type": "code",
      "metadata": {
        "id": "59CYVzCmyvPy"
      },
      "source": [
        "df[\"experience\"]= df[\"experience\"].astype(\"int64\")"
      ],
      "execution_count": 529,
      "outputs": []
    },
    {
      "cell_type": "code",
      "metadata": {
        "id": "AaDQwu5nztgl"
      },
      "source": [
        "from imblearn.over_sampling import SMOTE\n",
        "from sklearn.ensemble import GradientBoostingClassifier\n",
        "from xgboost import XGBClassifier\n",
        "from sklearn.metrics import accuracy_score\n",
        "from sklearn.metrics import confusion_matrix\n",
        "from sklearn.model_selection import StratifiedKFold\n",
        "from sklearn.model_selection import cross_val_score\n",
        "from sklearn.metrics import classification_report,confusion_matrix,ConfusionMatrixDisplay"
      ],
      "execution_count": 530,
      "outputs": []
    },
    {
      "cell_type": "code",
      "metadata": {
        "colab": {
          "base_uri": "https://localhost:8080/",
          "height": 422
        },
        "id": "iVxEpS76yvIj",
        "outputId": "8e82c117-019c-4be2-ccff-437ba1ea2466"
      },
      "source": [
        "def exp(x):\n",
        "    if  (x['experience'])  >= 1 and (x['experience'])  <= 5 :\n",
        "        return 1\n",
        "    elif  (x['experience'])  >= 6 and (x['experience'])  <= 10 :\n",
        "        return 2\n",
        "    elif  (x['experience'])  >= 11 and (x['experience'])  <= 15 :\n",
        "        return 3\n",
        "    else :\n",
        "        return 4\n",
        "\n",
        "df['exp'] = df.apply(exp, axis = 1)\n",
        "\n",
        "with sns.axes_style('white'):\n",
        "    rel_exp = sns.catplot(\"exp\", data=df, aspect=2.0, kind='count',\n",
        "                       hue='target',palette = 'Accent')"
      ],
      "execution_count": 531,
      "outputs": [
        {
          "output_type": "stream",
          "name": "stderr",
          "text": [
            "/usr/local/lib/python3.7/dist-packages/seaborn/_decorators.py:43: FutureWarning: Pass the following variable as a keyword arg: x. From version 0.12, the only valid positional argument will be `data`, and passing other arguments without an explicit keyword will result in an error or misinterpretation.\n",
            "  FutureWarning\n"
          ]
        },
        {
          "output_type": "display_data",
          "data": {
            "image/png": "[encoded data removed]",
            "text/plain": [
              "<Figure size 771.875x360 with 1 Axes>"
            ]
          },
          "metadata": {}
        }
      ]
    },
    {
      "cell_type": "code",
      "metadata": {
        "id": "7gU4r-w60tui"
      },
      "source": [
        "df.drop(['experience'],axis=1,inplace=True)\n",
        "df.drop(['exp'],axis=1,inplace=True)"
      ],
      "execution_count": 532,
      "outputs": []
    },
    {
      "cell_type": "code",
      "metadata": {
        "colab": {
          "base_uri": "https://localhost:8080/"
        },
        "id": "TGbhVhjF0tr6",
        "outputId": "24d4d9d0-d890-4b9a-ec2a-3ee8df49495d"
      },
      "source": [
        "df[\"company_type\"].value_counts()"
      ],
      "execution_count": 533,
      "outputs": [
        {
          "output_type": "execute_result",
          "data": {
            "text/plain": [
              "Pvt Ltd                9817\n",
              "Funded Startup         1001\n",
              "Public Sector           955\n",
              "Early Stage Startup     603\n",
              "NGO                     521\n",
              "Other                   121\n",
              "Name: company_type, dtype: int64"
            ]
          },
          "metadata": {},
          "execution_count": 533
        }
      ]
    },
    {
      "cell_type": "code",
      "metadata": {
        "colab": {
          "base_uri": "https://localhost:8080/",
          "height": 422
        },
        "id": "OUl_DE8P0tpj",
        "outputId": "ff607ad6-f4f0-4273-be65-15923ce9c361"
      },
      "source": [
        "with sns.axes_style('white'):\n",
        "    c_type = sns.catplot(\"company_type\", data=df, aspect=2.0, kind='count',\n",
        "                       hue='target',palette = 'gist_rainbow_r')"
      ],
      "execution_count": 534,
      "outputs": [
        {
          "output_type": "stream",
          "name": "stderr",
          "text": [
            "/usr/local/lib/python3.7/dist-packages/seaborn/_decorators.py:43: FutureWarning: Pass the following variable as a keyword arg: x. From version 0.12, the only valid positional argument will be `data`, and passing other arguments without an explicit keyword will result in an error or misinterpretation.\n",
            "  FutureWarning\n"
          ]
        },
        {
          "output_type": "display_data",
          "data": {
            "image/png": "[encoded data removed]",
            "text/plain": [
              "<Figure size 771.875x360 with 1 Axes>"
            ]
          },
          "metadata": {}
        }
      ]
    },
    {
      "cell_type": "code",
      "metadata": {
        "id": "epU563af0tnC"
      },
      "source": [
        "df[\"company_type\"].fillna(\"Pvt Ltd\", inplace = True)\n",
        "c_type = pd.get_dummies(df['company_type'])\n",
        "df.drop(['company_type'],axis=1,inplace=True)\n",
        "df = pd.concat([df,c_type],axis=1)\n",
        "\n",
        "df.drop(['Funded Startup','Early Stage Startup','NGO','Other'],axis=1,inplace=True)"
      ],
      "execution_count": 535,
      "outputs": []
    },
    {
      "cell_type": "code",
      "metadata": {
        "colab": {
          "base_uri": "https://localhost:8080/",
          "height": 352
        },
        "id": "QjOt4pmO0tka",
        "outputId": "4b922844-371b-4813-da9d-ff3cf4eac5aa"
      },
      "source": [
        "plt.figure(figsize=(7,5))\n",
        "sns.kdeplot(data=df, x=\"training_hours\",hue='target',cut=0,palette='dark')"
      ],
      "execution_count": 536,
      "outputs": [
        {
          "output_type": "execute_result",
          "data": {
            "text/plain": [
              "<matplotlib.axes._subplots.AxesSubplot at 0x7efeafd06950>"
            ]
          },
          "metadata": {},
          "execution_count": 536
        },
        {
          "output_type": "display_data",
          "data": {
            "image/png": "[encoded data removed]",
            "text/plain": [
              "<Figure size 504x360 with 1 Axes>"
            ]
          },
          "metadata": {
            "needs_background": "light"
          }
        }
      ]
    },
    {
      "cell_type": "code",
      "metadata": {
        "colab": {
          "base_uri": "https://localhost:8080/",
          "height": 237
        },
        "id": "ANs_zcEw0thS",
        "outputId": "b8b58935-c3a7-46ca-aac1-5b6a08c12e5d"
      },
      "source": [
        "df.head()"
      ],
      "execution_count": 537,
      "outputs": [
        {
          "output_type": "execute_result",
          "data": {
            "text/html": [
              "<div>\n",
              "<style scoped>\n",
              "    .dataframe tbody tr th:only-of-type {\n",
              "        vertical-align: middle;\n",
              "    }\n",
              "\n",
              "    .dataframe tbody tr th {\n",
              "        vertical-align: top;\n",
              "    }\n",
              "\n",
              "    .dataframe thead th {\n",
              "        text-align: right;\n",
              "    }\n",
              "</style>\n",
              "<table border=\"1\" class=\"dataframe\">\n",
              "  <thead>\n",
              "    <tr style=\"text-align: right;\">\n",
              "      <th></th>\n",
              "      <th>city_development_index</th>\n",
              "      <th>training_hours</th>\n",
              "      <th>target</th>\n",
              "      <th>Female</th>\n",
              "      <th>Male</th>\n",
              "      <th>Has relevent experience</th>\n",
              "      <th>Full time course</th>\n",
              "      <th>no_enrollment</th>\n",
              "      <th>Graduate</th>\n",
              "      <th>High School</th>\n",
              "      <th>Masters</th>\n",
              "      <th>STEM</th>\n",
              "      <th>Public Sector</th>\n",
              "      <th>Pvt Ltd</th>\n",
              "    </tr>\n",
              "  </thead>\n",
              "  <tbody>\n",
              "    <tr>\n",
              "      <th>0</th>\n",
              "      <td>0.920</td>\n",
              "      <td>36</td>\n",
              "      <td>1.0</td>\n",
              "      <td>0</td>\n",
              "      <td>1</td>\n",
              "      <td>1</td>\n",
              "      <td>0</td>\n",
              "      <td>1</td>\n",
              "      <td>1</td>\n",
              "      <td>0</td>\n",
              "      <td>0</td>\n",
              "      <td>1</td>\n",
              "      <td>0</td>\n",
              "      <td>1</td>\n",
              "    </tr>\n",
              "    <tr>\n",
              "      <th>1</th>\n",
              "      <td>0.776</td>\n",
              "      <td>47</td>\n",
              "      <td>0.0</td>\n",
              "      <td>0</td>\n",
              "      <td>1</td>\n",
              "      <td>0</td>\n",
              "      <td>0</td>\n",
              "      <td>1</td>\n",
              "      <td>1</td>\n",
              "      <td>0</td>\n",
              "      <td>0</td>\n",
              "      <td>1</td>\n",
              "      <td>0</td>\n",
              "      <td>1</td>\n",
              "    </tr>\n",
              "    <tr>\n",
              "      <th>2</th>\n",
              "      <td>0.624</td>\n",
              "      <td>83</td>\n",
              "      <td>0.0</td>\n",
              "      <td>0</td>\n",
              "      <td>1</td>\n",
              "      <td>0</td>\n",
              "      <td>1</td>\n",
              "      <td>0</td>\n",
              "      <td>1</td>\n",
              "      <td>0</td>\n",
              "      <td>0</td>\n",
              "      <td>1</td>\n",
              "      <td>0</td>\n",
              "      <td>1</td>\n",
              "    </tr>\n",
              "    <tr>\n",
              "      <th>3</th>\n",
              "      <td>0.789</td>\n",
              "      <td>52</td>\n",
              "      <td>1.0</td>\n",
              "      <td>0</td>\n",
              "      <td>1</td>\n",
              "      <td>0</td>\n",
              "      <td>0</td>\n",
              "      <td>1</td>\n",
              "      <td>1</td>\n",
              "      <td>0</td>\n",
              "      <td>0</td>\n",
              "      <td>0</td>\n",
              "      <td>0</td>\n",
              "      <td>1</td>\n",
              "    </tr>\n",
              "    <tr>\n",
              "      <th>4</th>\n",
              "      <td>0.767</td>\n",
              "      <td>8</td>\n",
              "      <td>0.0</td>\n",
              "      <td>0</td>\n",
              "      <td>1</td>\n",
              "      <td>1</td>\n",
              "      <td>0</td>\n",
              "      <td>1</td>\n",
              "      <td>0</td>\n",
              "      <td>0</td>\n",
              "      <td>1</td>\n",
              "      <td>1</td>\n",
              "      <td>0</td>\n",
              "      <td>0</td>\n",
              "    </tr>\n",
              "  </tbody>\n",
              "</table>\n",
              "</div>"
            ],
            "text/plain": [
              "   city_development_index  training_hours  target  ...  STEM  Public Sector  Pvt Ltd\n",
              "0                   0.920              36     1.0  ...     1              0        1\n",
              "1                   0.776              47     0.0  ...     1              0        1\n",
              "2                   0.624              83     0.0  ...     1              0        1\n",
              "3                   0.789              52     1.0  ...     0              0        1\n",
              "4                   0.767               8     0.0  ...     1              0        0\n",
              "\n",
              "[5 rows x 14 columns]"
            ]
          },
          "metadata": {},
          "execution_count": 537
        }
      ]
    },
    {
      "cell_type": "code",
      "metadata": {
        "colab": {
          "base_uri": "https://localhost:8080/",
          "height": 257
        },
        "id": "sm5EM9Ok_21V",
        "outputId": "b87a3452-113b-405e-f112-39843d7a1067"
      },
      "source": [
        "df.tail()"
      ],
      "execution_count": 538,
      "outputs": [
        {
          "output_type": "execute_result",
          "data": {
            "text/html": [
              "<div>\n",
              "<style scoped>\n",
              "    .dataframe tbody tr th:only-of-type {\n",
              "        vertical-align: middle;\n",
              "    }\n",
              "\n",
              "    .dataframe tbody tr th {\n",
              "        vertical-align: top;\n",
              "    }\n",
              "\n",
              "    .dataframe thead th {\n",
              "        text-align: right;\n",
              "    }\n",
              "</style>\n",
              "<table border=\"1\" class=\"dataframe\">\n",
              "  <thead>\n",
              "    <tr style=\"text-align: right;\">\n",
              "      <th></th>\n",
              "      <th>city_development_index</th>\n",
              "      <th>training_hours</th>\n",
              "      <th>target</th>\n",
              "      <th>Female</th>\n",
              "      <th>Male</th>\n",
              "      <th>Has relevent experience</th>\n",
              "      <th>Full time course</th>\n",
              "      <th>no_enrollment</th>\n",
              "      <th>Graduate</th>\n",
              "      <th>High School</th>\n",
              "      <th>Masters</th>\n",
              "      <th>STEM</th>\n",
              "      <th>Public Sector</th>\n",
              "      <th>Pvt Ltd</th>\n",
              "    </tr>\n",
              "  </thead>\n",
              "  <tbody>\n",
              "    <tr>\n",
              "      <th>19153</th>\n",
              "      <td>0.878</td>\n",
              "      <td>42</td>\n",
              "      <td>1.0</td>\n",
              "      <td>0</td>\n",
              "      <td>1</td>\n",
              "      <td>0</td>\n",
              "      <td>0</td>\n",
              "      <td>1</td>\n",
              "      <td>1</td>\n",
              "      <td>0</td>\n",
              "      <td>0</td>\n",
              "      <td>0</td>\n",
              "      <td>0</td>\n",
              "      <td>1</td>\n",
              "    </tr>\n",
              "    <tr>\n",
              "      <th>19154</th>\n",
              "      <td>0.920</td>\n",
              "      <td>52</td>\n",
              "      <td>1.0</td>\n",
              "      <td>0</td>\n",
              "      <td>1</td>\n",
              "      <td>1</td>\n",
              "      <td>0</td>\n",
              "      <td>1</td>\n",
              "      <td>1</td>\n",
              "      <td>0</td>\n",
              "      <td>0</td>\n",
              "      <td>1</td>\n",
              "      <td>0</td>\n",
              "      <td>1</td>\n",
              "    </tr>\n",
              "    <tr>\n",
              "      <th>19155</th>\n",
              "      <td>0.920</td>\n",
              "      <td>44</td>\n",
              "      <td>0.0</td>\n",
              "      <td>0</td>\n",
              "      <td>1</td>\n",
              "      <td>1</td>\n",
              "      <td>0</td>\n",
              "      <td>1</td>\n",
              "      <td>1</td>\n",
              "      <td>0</td>\n",
              "      <td>0</td>\n",
              "      <td>1</td>\n",
              "      <td>0</td>\n",
              "      <td>1</td>\n",
              "    </tr>\n",
              "    <tr>\n",
              "      <th>19156</th>\n",
              "      <td>0.802</td>\n",
              "      <td>97</td>\n",
              "      <td>0.0</td>\n",
              "      <td>0</td>\n",
              "      <td>1</td>\n",
              "      <td>1</td>\n",
              "      <td>0</td>\n",
              "      <td>1</td>\n",
              "      <td>0</td>\n",
              "      <td>1</td>\n",
              "      <td>0</td>\n",
              "      <td>1</td>\n",
              "      <td>0</td>\n",
              "      <td>1</td>\n",
              "    </tr>\n",
              "    <tr>\n",
              "      <th>19157</th>\n",
              "      <td>0.855</td>\n",
              "      <td>127</td>\n",
              "      <td>0.0</td>\n",
              "      <td>0</td>\n",
              "      <td>1</td>\n",
              "      <td>0</td>\n",
              "      <td>0</td>\n",
              "      <td>1</td>\n",
              "      <td>0</td>\n",
              "      <td>0</td>\n",
              "      <td>0</td>\n",
              "      <td>1</td>\n",
              "      <td>0</td>\n",
              "      <td>1</td>\n",
              "    </tr>\n",
              "  </tbody>\n",
              "</table>\n",
              "</div>"
            ],
            "text/plain": [
              "       city_development_index  training_hours  ...  Public Sector  Pvt Ltd\n",
              "19153                   0.878              42  ...              0        1\n",
              "19154                   0.920              52  ...              0        1\n",
              "19155                   0.920              44  ...              0        1\n",
              "19156                   0.802              97  ...              0        1\n",
              "19157                   0.855             127  ...              0        1\n",
              "\n",
              "[5 rows x 14 columns]"
            ]
          },
          "metadata": {},
          "execution_count": 538
        }
      ]
    },
    {
      "cell_type": "code",
      "metadata": {
        "colab": {
          "base_uri": "https://localhost:8080/"
        },
        "id": "K7XneDZz0taA",
        "outputId": "2fd9a84e-9a46-4309-9b0a-f6e898fba83c"
      },
      "source": [
        "df.isnull().sum()"
      ],
      "execution_count": 539,
      "outputs": [
        {
          "output_type": "execute_result",
          "data": {
            "text/plain": [
              "city_development_index     0\n",
              "training_hours             0\n",
              "target                     0\n",
              "Female                     0\n",
              "Male                       0\n",
              "Has relevent experience    0\n",
              "Full time course           0\n",
              "no_enrollment              0\n",
              "Graduate                   0\n",
              "High School                0\n",
              "Masters                    0\n",
              "STEM                       0\n",
              "Public Sector              0\n",
              "Pvt Ltd                    0\n",
              "dtype: int64"
            ]
          },
          "metadata": {},
          "execution_count": 539
        }
      ]
    },
    {
      "cell_type": "code",
      "metadata": {
        "id": "XYkv3L6a1atS"
      },
      "source": [
        "from sklearn.preprocessing import MinMaxScaler\n",
        "df.training_hours = MinMaxScaler().fit_transform(np.array(df.training_hours).reshape(-1,1))"
      ],
      "execution_count": 540,
      "outputs": []
    },
    {
      "cell_type": "code",
      "metadata": {
        "colab": {
          "base_uri": "https://localhost:8080/",
          "height": 237
        },
        "id": "uSdLBccB1aqr",
        "outputId": "db9c54ca-01b7-42d1-8792-27106535fe5d"
      },
      "source": [
        "df.head()"
      ],
      "execution_count": 541,
      "outputs": [
        {
          "output_type": "execute_result",
          "data": {
            "text/html": [
              "<div>\n",
              "<style scoped>\n",
              "    .dataframe tbody tr th:only-of-type {\n",
              "        vertical-align: middle;\n",
              "    }\n",
              "\n",
              "    .dataframe tbody tr th {\n",
              "        vertical-align: top;\n",
              "    }\n",
              "\n",
              "    .dataframe thead th {\n",
              "        text-align: right;\n",
              "    }\n",
              "</style>\n",
              "<table border=\"1\" class=\"dataframe\">\n",
              "  <thead>\n",
              "    <tr style=\"text-align: right;\">\n",
              "      <th></th>\n",
              "      <th>city_development_index</th>\n",
              "      <th>training_hours</th>\n",
              "      <th>target</th>\n",
              "      <th>Female</th>\n",
              "      <th>Male</th>\n",
              "      <th>Has relevent experience</th>\n",
              "      <th>Full time course</th>\n",
              "      <th>no_enrollment</th>\n",
              "      <th>Graduate</th>\n",
              "      <th>High School</th>\n",
              "      <th>Masters</th>\n",
              "      <th>STEM</th>\n",
              "      <th>Public Sector</th>\n",
              "      <th>Pvt Ltd</th>\n",
              "    </tr>\n",
              "  </thead>\n",
              "  <tbody>\n",
              "    <tr>\n",
              "      <th>0</th>\n",
              "      <td>0.920</td>\n",
              "      <td>0.104478</td>\n",
              "      <td>1.0</td>\n",
              "      <td>0</td>\n",
              "      <td>1</td>\n",
              "      <td>1</td>\n",
              "      <td>0</td>\n",
              "      <td>1</td>\n",
              "      <td>1</td>\n",
              "      <td>0</td>\n",
              "      <td>0</td>\n",
              "      <td>1</td>\n",
              "      <td>0</td>\n",
              "      <td>1</td>\n",
              "    </tr>\n",
              "    <tr>\n",
              "      <th>1</th>\n",
              "      <td>0.776</td>\n",
              "      <td>0.137313</td>\n",
              "      <td>0.0</td>\n",
              "      <td>0</td>\n",
              "      <td>1</td>\n",
              "      <td>0</td>\n",
              "      <td>0</td>\n",
              "      <td>1</td>\n",
              "      <td>1</td>\n",
              "      <td>0</td>\n",
              "      <td>0</td>\n",
              "      <td>1</td>\n",
              "      <td>0</td>\n",
              "      <td>1</td>\n",
              "    </tr>\n",
              "    <tr>\n",
              "      <th>2</th>\n",
              "      <td>0.624</td>\n",
              "      <td>0.244776</td>\n",
              "      <td>0.0</td>\n",
              "      <td>0</td>\n",
              "      <td>1</td>\n",
              "      <td>0</td>\n",
              "      <td>1</td>\n",
              "      <td>0</td>\n",
              "      <td>1</td>\n",
              "      <td>0</td>\n",
              "      <td>0</td>\n",
              "      <td>1</td>\n",
              "      <td>0</td>\n",
              "      <td>1</td>\n",
              "    </tr>\n",
              "    <tr>\n",
              "      <th>3</th>\n",
              "      <td>0.789</td>\n",
              "      <td>0.152239</td>\n",
              "      <td>1.0</td>\n",
              "      <td>0</td>\n",
              "      <td>1</td>\n",
              "      <td>0</td>\n",
              "      <td>0</td>\n",
              "      <td>1</td>\n",
              "      <td>1</td>\n",
              "      <td>0</td>\n",
              "      <td>0</td>\n",
              "      <td>0</td>\n",
              "      <td>0</td>\n",
              "      <td>1</td>\n",
              "    </tr>\n",
              "    <tr>\n",
              "      <th>4</th>\n",
              "      <td>0.767</td>\n",
              "      <td>0.020896</td>\n",
              "      <td>0.0</td>\n",
              "      <td>0</td>\n",
              "      <td>1</td>\n",
              "      <td>1</td>\n",
              "      <td>0</td>\n",
              "      <td>1</td>\n",
              "      <td>0</td>\n",
              "      <td>0</td>\n",
              "      <td>1</td>\n",
              "      <td>1</td>\n",
              "      <td>0</td>\n",
              "      <td>0</td>\n",
              "    </tr>\n",
              "  </tbody>\n",
              "</table>\n",
              "</div>"
            ],
            "text/plain": [
              "   city_development_index  training_hours  target  ...  STEM  Public Sector  Pvt Ltd\n",
              "0                   0.920        0.104478     1.0  ...     1              0        1\n",
              "1                   0.776        0.137313     0.0  ...     1              0        1\n",
              "2                   0.624        0.244776     0.0  ...     1              0        1\n",
              "3                   0.789        0.152239     1.0  ...     0              0        1\n",
              "4                   0.767        0.020896     0.0  ...     1              0        0\n",
              "\n",
              "[5 rows x 14 columns]"
            ]
          },
          "metadata": {},
          "execution_count": 541
        }
      ]
    },
    {
      "cell_type": "code",
      "metadata": {
        "colab": {
          "base_uri": "https://localhost:8080/"
        },
        "id": "FA_7B3P41aoF",
        "outputId": "e19b769b-d96e-446f-8cac-66342cd2e6b5"
      },
      "source": [
        "df.shape"
      ],
      "execution_count": 542,
      "outputs": [
        {
          "output_type": "execute_result",
          "data": {
            "text/plain": [
              "(19158, 14)"
            ]
          },
          "metadata": {},
          "execution_count": 542
        }
      ]
    },
    {
      "cell_type": "code",
      "metadata": {
        "colab": {
          "base_uri": "https://localhost:8080/"
        },
        "id": "hMW8pFG-1alS",
        "outputId": "b22e6d14-6999-4744-90cf-ee6bcf100226"
      },
      "source": [
        "df['target'].value_counts()"
      ],
      "execution_count": 543,
      "outputs": [
        {
          "output_type": "execute_result",
          "data": {
            "text/plain": [
              "0.0    14381\n",
              "1.0     4777\n",
              "Name: target, dtype: int64"
            ]
          },
          "metadata": {},
          "execution_count": 543
        }
      ]
    },
    {
      "cell_type": "code",
      "metadata": {
        "colab": {
          "base_uri": "https://localhost:8080/",
          "height": 405
        },
        "id": "E_jOAMzX1agi",
        "outputId": "e4b3196e-8f6c-49dd-9e62-b7ff88c1f553"
      },
      "source": [
        "plt.figure(figsize=(7,5))\n",
        "ax=sns.countplot(df.target)\n",
        "plt.xticks(rotation=0)"
      ],
      "execution_count": 544,
      "outputs": [
        {
          "output_type": "stream",
          "name": "stderr",
          "text": [
            "/usr/local/lib/python3.7/dist-packages/seaborn/_decorators.py:43: FutureWarning: Pass the following variable as a keyword arg: x. From version 0.12, the only valid positional argument will be `data`, and passing other arguments without an explicit keyword will result in an error or misinterpretation.\n",
            "  FutureWarning\n"
          ]
        },
        {
          "output_type": "execute_result",
          "data": {
            "text/plain": [
              "(array([0, 1]), <a list of 2 Text major ticklabel objects>)"
            ]
          },
          "metadata": {},
          "execution_count": 544
        },
        {
          "output_type": "display_data",
          "data": {
            "image/png": "[encoded data removed]",
            "text/plain": [
              "<Figure size 504x360 with 1 Axes>"
            ]
          },
          "metadata": {
            "needs_background": "light"
          }
        }
      ]
    },
    {
      "cell_type": "markdown",
      "metadata": {
        "id": "pe_hDIImIu6D"
      },
      "source": [
        "#### Data Splitting"
      ]
    },
    {
      "cell_type": "code",
      "metadata": {
        "id": "k11A6bBL1lzV"
      },
      "source": [
        "y = df['target']\n",
        "features_col = ['city_development_index', 'training_hours',\n",
        "       'Female', 'Male', 'Has relevent experience', 'Full time course',\n",
        "       'no_enrollment', 'Graduate', 'High School', 'Masters', 'STEM', 'Public Sector', 'Pvt Ltd']\n",
        "X = df[features_col]"
      ],
      "execution_count": 545,
      "outputs": []
    },
    {
      "cell_type": "code",
      "metadata": {
        "id": "pMEN9Nut1lwz"
      },
      "source": [
        "from sklearn.model_selection import train_test_split\n",
        "train_X, test_X, train_y, test_y = train_test_split(X, y,stratify=y, \n",
        "                                                    test_size=0.30,random_state = 0)"
      ],
      "execution_count": 546,
      "outputs": []
    },
    {
      "cell_type": "markdown",
      "metadata": {
        "id": "HAAgUlW7IyIV"
      },
      "source": [
        "#### Using SMOTE Technique"
      ]
    },
    {
      "cell_type": "code",
      "metadata": {
        "colab": {
          "base_uri": "https://localhost:8080/"
        },
        "id": "quAfMX421luS",
        "outputId": "fa8f04ca-f40f-48ea-c2cc-b35564f0ebd8"
      },
      "source": [
        "smote = SMOTE()\n",
        "\n",
        "# fit predictor and target variable\n",
        "X_smote, y_smote = smote.fit_resample(X, y)"
      ],
      "execution_count": 547,
      "outputs": [
        {
          "output_type": "stream",
          "name": "stderr",
          "text": [
            "/usr/local/lib/python3.7/dist-packages/sklearn/utils/deprecation.py:87: FutureWarning: Function safe_indexing is deprecated; safe_indexing is deprecated in version 0.22 and will be removed in version 0.24.\n",
            "  warnings.warn(msg, category=FutureWarning)\n"
          ]
        }
      ]
    },
    {
      "cell_type": "code",
      "metadata": {
        "colab": {
          "base_uri": "https://localhost:8080/"
        },
        "id": "eRTZ2b3d1lry",
        "outputId": "4c0157bf-13f6-4310-aefe-9b2be7082815"
      },
      "source": [
        "y_smote#.value_counts() \n",
        "pd.DataFrame(y_smote).value_counts() "
      ],
      "execution_count": 548,
      "outputs": [
        {
          "output_type": "execute_result",
          "data": {
            "text/plain": [
              "1.0    14381\n",
              "0.0    14381\n",
              "dtype: int64"
            ]
          },
          "metadata": {},
          "execution_count": 548
        }
      ]
    },
    {
      "cell_type": "code",
      "metadata": {
        "colab": {
          "base_uri": "https://localhost:8080/"
        },
        "id": "L1ib3I9c1lpC",
        "outputId": "99160cbb-3e6c-4974-8f3c-6fb63fe587a3"
      },
      "source": [
        "X_smote.shape"
      ],
      "execution_count": 549,
      "outputs": [
        {
          "output_type": "execute_result",
          "data": {
            "text/plain": [
              "(28762, 13)"
            ]
          },
          "metadata": {},
          "execution_count": 549
        }
      ]
    },
    {
      "cell_type": "markdown",
      "metadata": {
        "id": "1XwhKD6EImGi"
      },
      "source": [
        "#### Building Models"
      ]
    },
    {
      "cell_type": "code",
      "metadata": {
        "colab": {
          "base_uri": "https://localhost:8080/"
        },
        "id": "TxcJKGcX4rlZ",
        "outputId": "be40ef3d-ad78-4d70-ec9a-9348d0c41dae"
      },
      "source": [
        "from sklearn.ensemble import GradientBoostingClassifier\n",
        "gbc_model = GradientBoostingClassifier()\n",
        "folds = StratifiedKFold(n_splits = 5, shuffle = True, random_state = 100)\n",
        "scores = cross_val_score(gbc_model, X_smote, y_smote, scoring='accuracy', cv=folds)\n",
        "scores"
      ],
      "execution_count": 550,
      "outputs": [
        {
          "output_type": "execute_result",
          "data": {
            "text/plain": [
              "array([0.75595342, 0.75647488, 0.75538943, 0.75399861, 0.75521558])"
            ]
          },
          "metadata": {},
          "execution_count": 550
        }
      ]
    },
    {
      "cell_type": "code",
      "metadata": {
        "colab": {
          "base_uri": "https://localhost:8080/"
        },
        "id": "rfjVcm594riq",
        "outputId": "defba699-ffab-487b-9081-d4131d1a91a1"
      },
      "source": [
        "scores.mean()*100,scores.std()*100"
      ],
      "execution_count": 551,
      "outputs": [
        {
          "output_type": "execute_result",
          "data": {
            "text/plain": [
              "(75.54063828825355, 0.08318001706240719)"
            ]
          },
          "metadata": {},
          "execution_count": 551
        }
      ]
    },
    {
      "cell_type": "code",
      "metadata": {
        "id": "8XATiUxF4rgK"
      },
      "source": [
        "from sklearn.metrics import classification_report,confusion_matrix,ConfusionMatrixDisplay"
      ],
      "execution_count": 552,
      "outputs": []
    },
    {
      "cell_type": "code",
      "metadata": {
        "colab": {
          "base_uri": "https://localhost:8080/"
        },
        "id": "ONU5alHM4rdj",
        "outputId": "cc01a152-dd01-40ce-9fb7-9bc465c43709"
      },
      "source": [
        "from sklearn.ensemble import GradientBoostingClassifier\n",
        "# Define model\n",
        "gbc_model = GradientBoostingClassifier()\n",
        "# Fit model\n",
        "gbc_model.fit(X, y)"
      ],
      "execution_count": 553,
      "outputs": [
        {
          "output_type": "execute_result",
          "data": {
            "text/plain": [
              "GradientBoostingClassifier(ccp_alpha=0.0, criterion='friedman_mse', init=None,\n",
              "                           learning_rate=0.1, loss='deviance', max_depth=3,\n",
              "                           max_features=None, max_leaf_nodes=None,\n",
              "                           min_impurity_decrease=0.0, min_impurity_split=None,\n",
              "                           min_samples_leaf=1, min_samples_split=2,\n",
              "                           min_weight_fraction_leaf=0.0, n_estimators=100,\n",
              "                           n_iter_no_change=None, presort='deprecated',\n",
              "                           random_state=None, subsample=1.0, tol=0.0001,\n",
              "                           validation_fraction=0.1, verbose=0,\n",
              "                           warm_start=False)"
            ]
          },
          "metadata": {},
          "execution_count": 553
        }
      ]
    },
    {
      "cell_type": "code",
      "metadata": {
        "colab": {
          "base_uri": "https://localhost:8080/"
        },
        "id": "LQRxIsOg4rax",
        "outputId": "8c03fb89-8bb5-427a-c53b-5693ca546746"
      },
      "source": [
        "print(confusion_matrix(test_y,gbc_model.predict(test_X)))"
      ],
      "execution_count": 554,
      "outputs": [
        {
          "output_type": "stream",
          "name": "stdout",
          "text": [
            "[[3887  428]\n",
            " [ 806  627]]\n"
          ]
        }
      ]
    },
    {
      "cell_type": "code",
      "metadata": {
        "colab": {
          "base_uri": "https://localhost:8080/",
          "height": 296
        },
        "id": "VhCHD9hZ4rXq",
        "outputId": "4a9edb43-6949-4c0e-b470-c9eafd21d74d"
      },
      "source": [
        "cm=confusion_matrix(test_y,gbc_model.predict(test_X))\n",
        "gbc_display = ConfusionMatrixDisplay(confusion_matrix=cm,\n",
        "                               display_labels=gbc_model.classes_)\n",
        "gbc_display.plot()"
      ],
      "execution_count": 555,
      "outputs": [
        {
          "output_type": "execute_result",
          "data": {
            "text/plain": [
              "<sklearn.metrics._plot.confusion_matrix.ConfusionMatrixDisplay at 0x7efeafba1710>"
            ]
          },
          "metadata": {},
          "execution_count": 555
        },
        {
          "output_type": "display_data",
          "data": {
            "image/png": "[encoded data removed]",
            "text/plain": [
              "<Figure size 432x288 with 2 Axes>"
            ]
          },
          "metadata": {
            "needs_background": "light"
          }
        }
      ]
    },
    {
      "cell_type": "code",
      "metadata": {
        "colab": {
          "base_uri": "https://localhost:8080/"
        },
        "id": "dAwZPczC4rRZ",
        "outputId": "4263964c-4385-447c-86e8-43dbe3b909a5"
      },
      "source": [
        "print(classification_report(test_y,gbc_model.predict(test_X)))"
      ],
      "execution_count": 556,
      "outputs": [
        {
          "output_type": "stream",
          "name": "stdout",
          "text": [
            "              precision    recall  f1-score   support\n",
            "\n",
            "         0.0       0.83      0.90      0.86      4315\n",
            "         1.0       0.59      0.44      0.50      1433\n",
            "\n",
            "    accuracy                           0.79      5748\n",
            "   macro avg       0.71      0.67      0.68      5748\n",
            "weighted avg       0.77      0.79      0.77      5748\n",
            "\n"
          ]
        }
      ]
    },
    {
      "cell_type": "code",
      "metadata": {
        "colab": {
          "base_uri": "https://localhost:8080/"
        },
        "id": "Ova-3QNm5XlL",
        "outputId": "8dd6e18f-2a60-46d6-bf8f-742773abfc56"
      },
      "source": [
        "from sklearn.metrics import accuracy_score\n",
        "print(accuracy_score(test_y,gbc_model.predict(test_X)))"
      ],
      "execution_count": 557,
      "outputs": [
        {
          "output_type": "stream",
          "name": "stdout",
          "text": [
            "0.7853166318719554\n"
          ]
        }
      ]
    },
    {
      "cell_type": "code",
      "metadata": {
        "colab": {
          "base_uri": "https://localhost:8080/"
        },
        "id": "p031bHOA5Xi4",
        "outputId": "e46542cf-d8d2-45bb-c4ea-104f5538dcca"
      },
      "source": [
        "from xgboost import XGBClassifier\n",
        "# Define model\n",
        "xg = XGBClassifier(max_depth=5)\n",
        "# Fit model\n",
        "xg.fit(X, y)"
      ],
      "execution_count": 558,
      "outputs": [
        {
          "output_type": "execute_result",
          "data": {
            "text/plain": [
              "XGBClassifier(base_score=0.5, booster='gbtree', colsample_bylevel=1,\n",
              "              colsample_bynode=1, colsample_bytree=1, gamma=0,\n",
              "              learning_rate=0.1, max_delta_step=0, max_depth=5,\n",
              "              min_child_weight=1, missing=None, n_estimators=100, n_jobs=1,\n",
              "              nthread=None, objective='binary:logistic', random_state=0,\n",
              "              reg_alpha=0, reg_lambda=1, scale_pos_weight=1, seed=None,\n",
              "              silent=None, subsample=1, verbosity=1)"
            ]
          },
          "metadata": {},
          "execution_count": 558
        }
      ]
    },
    {
      "cell_type": "code",
      "metadata": {
        "colab": {
          "base_uri": "https://localhost:8080/"
        },
        "id": "5RgAGAVK5XgM",
        "outputId": "9f093016-ea9b-4716-a076-089e570cb59f"
      },
      "source": [
        "folds = StratifiedKFold(n_splits = 4, shuffle = True, random_state = 100)\n",
        "scores = cross_val_score(xg, X_smote, y_smote, scoring='accuracy', cv=folds)\n",
        "scores"
      ],
      "execution_count": 559,
      "outputs": [
        {
          "output_type": "execute_result",
          "data": {
            "text/plain": [
              "array([0.77346683, 0.76526213, 0.78066759, 0.772879  ])"
            ]
          },
          "metadata": {},
          "execution_count": 559
        }
      ]
    },
    {
      "cell_type": "code",
      "metadata": {
        "colab": {
          "base_uri": "https://localhost:8080/"
        },
        "id": "aW47Ec3z5Xdo",
        "outputId": "b5e1b724-6a5a-40a4-f426-11710dc9c3af"
      },
      "source": [
        "scores.mean()*100,scores.std()*100"
      ],
      "execution_count": 560,
      "outputs": [
        {
          "output_type": "execute_result",
          "data": {
            "text/plain": [
              "(77.30688898133948, 0.5451609162767113)"
            ]
          },
          "metadata": {},
          "execution_count": 560
        }
      ]
    },
    {
      "cell_type": "code",
      "metadata": {
        "id": "TTS-R4kR5XbH"
      },
      "source": [
        "from sklearn.metrics import classification_report,confusion_matrix,ConfusionMatrixDisplay"
      ],
      "execution_count": 561,
      "outputs": []
    },
    {
      "cell_type": "code",
      "metadata": {
        "colab": {
          "base_uri": "https://localhost:8080/"
        },
        "id": "_FwD_stP5XYo",
        "outputId": "8fc95c79-747e-4b3a-b00d-4605851d3e01"
      },
      "source": [
        "print(confusion_matrix(test_y,xg.predict(test_X)))"
      ],
      "execution_count": 562,
      "outputs": [
        {
          "output_type": "stream",
          "name": "stdout",
          "text": [
            "[[3915  400]\n",
            " [ 777  656]]\n"
          ]
        }
      ]
    },
    {
      "cell_type": "code",
      "metadata": {
        "colab": {
          "base_uri": "https://localhost:8080/",
          "height": 296
        },
        "id": "MDrzaKSz5XWB",
        "outputId": "82898e85-c1df-4d62-ef4d-e64d538472aa"
      },
      "source": [
        "cm=confusion_matrix(test_y,xg.predict(test_X))\n",
        "cm_display = ConfusionMatrixDisplay(confusion_matrix=cm,\n",
        "                               display_labels=xg.classes_)\n",
        "cm_display.plot()"
      ],
      "execution_count": 563,
      "outputs": [
        {
          "output_type": "execute_result",
          "data": {
            "text/plain": [
              "<sklearn.metrics._plot.confusion_matrix.ConfusionMatrixDisplay at 0x7efeafaa19d0>"
            ]
          },
          "metadata": {},
          "execution_count": 563
        },
        {
          "output_type": "display_data",
          "data": {
            "image/png": "[encoded data removed]",
            "text/plain": [
              "<Figure size 432x288 with 2 Axes>"
            ]
          },
          "metadata": {
            "needs_background": "light"
          }
        }
      ]
    },
    {
      "cell_type": "code",
      "metadata": {
        "colab": {
          "base_uri": "https://localhost:8080/"
        },
        "id": "vVaFJ1ln5XTa",
        "outputId": "8a61ed97-8088-4942-bb68-9cb6203a53cd"
      },
      "source": [
        "from sklearn.metrics import classification_report\n",
        "print(classification_report(test_y,xg.predict(test_X)))"
      ],
      "execution_count": 564,
      "outputs": [
        {
          "output_type": "stream",
          "name": "stdout",
          "text": [
            "              precision    recall  f1-score   support\n",
            "\n",
            "         0.0       0.83      0.91      0.87      4315\n",
            "         1.0       0.62      0.46      0.53      1433\n",
            "\n",
            "    accuracy                           0.80      5748\n",
            "   macro avg       0.73      0.68      0.70      5748\n",
            "weighted avg       0.78      0.80      0.78      5748\n",
            "\n"
          ]
        }
      ]
    },
    {
      "cell_type": "code",
      "metadata": {
        "colab": {
          "base_uri": "https://localhost:8080/"
        },
        "id": "3U-23Rtu5XQj",
        "outputId": "592a8b73-e76b-48c3-ef2b-9a8efe3a933e"
      },
      "source": [
        "from sklearn.metrics import accuracy_score\n",
        "print(accuracy_score(test_y,xg.predict(test_X)))"
      ],
      "execution_count": 565,
      "outputs": [
        {
          "output_type": "stream",
          "name": "stdout",
          "text": [
            "0.7952331245650661\n"
          ]
        }
      ]
    }
  ]
}