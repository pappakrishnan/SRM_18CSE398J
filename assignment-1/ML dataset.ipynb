{
 "cells": [
  {
   "cell_type": "code",
   "execution_count": 1,
   "metadata": {},
   "outputs": [],
   "source": [
    "%matplotlib inline\n",
    "\n",
    "from numpy import arange\n",
    "from matplotlib import pyplot as plt\n",
    "from scipy.stats import norm\n",
    "import pandas as pd\n",
    "\n",
    "plt.rcParams['figure.figsize'] = [16, 7]"
   ]
  },
  {
   "cell_type": "code",
   "execution_count": 9,
   "metadata": {},
   "outputs": [],
   "source": [
    "df=pd.read_csv(\"TV_Shows.csv\")\n"
   ]
  },
  {
   "cell_type": "code",
   "execution_count": 10,
   "metadata": {},
   "outputs": [
    {
     "data": {
      "text/html": [
       "<div>\n",
       "<style scoped>\n",
       "    .dataframe tbody tr th:only-of-type {\n",
       "        vertical-align: middle;\n",
       "    }\n",
       "\n",
       "    .dataframe tbody tr th {\n",
       "        vertical-align: top;\n",
       "    }\n",
       "\n",
       "    .dataframe thead th {\n",
       "        text-align: right;\n",
       "    }\n",
       "</style>\n",
       "<table border=\"1\" class=\"dataframe\">\n",
       "  <thead>\n",
       "    <tr style=\"text-align: right;\">\n",
       "      <th></th>\n",
       "      <th>Unnamed: 0</th>\n",
       "      <th>Title</th>\n",
       "      <th>Year</th>\n",
       "      <th>Age</th>\n",
       "      <th>IMDb</th>\n",
       "      <th>Rotten Tomatoes</th>\n",
       "      <th>Netflix</th>\n",
       "      <th>Hulu</th>\n",
       "      <th>Prime Video</th>\n",
       "      <th>Disney+</th>\n",
       "      <th>type</th>\n",
       "    </tr>\n",
       "  </thead>\n",
       "  <tbody>\n",
       "    <tr>\n",
       "      <th>0</th>\n",
       "      <td>0</td>\n",
       "      <td>Breaking Bad</td>\n",
       "      <td>2008</td>\n",
       "      <td>18+</td>\n",
       "      <td>9.5</td>\n",
       "      <td>96%</td>\n",
       "      <td>1</td>\n",
       "      <td>0</td>\n",
       "      <td>0</td>\n",
       "      <td>0</td>\n",
       "      <td>1</td>\n",
       "    </tr>\n",
       "    <tr>\n",
       "      <th>1</th>\n",
       "      <td>1</td>\n",
       "      <td>Stranger Things</td>\n",
       "      <td>2016</td>\n",
       "      <td>16+</td>\n",
       "      <td>8.8</td>\n",
       "      <td>93%</td>\n",
       "      <td>1</td>\n",
       "      <td>0</td>\n",
       "      <td>0</td>\n",
       "      <td>0</td>\n",
       "      <td>1</td>\n",
       "    </tr>\n",
       "    <tr>\n",
       "      <th>2</th>\n",
       "      <td>2</td>\n",
       "      <td>Money Heist</td>\n",
       "      <td>2017</td>\n",
       "      <td>18+</td>\n",
       "      <td>8.4</td>\n",
       "      <td>91%</td>\n",
       "      <td>1</td>\n",
       "      <td>0</td>\n",
       "      <td>0</td>\n",
       "      <td>0</td>\n",
       "      <td>1</td>\n",
       "    </tr>\n",
       "    <tr>\n",
       "      <th>3</th>\n",
       "      <td>3</td>\n",
       "      <td>Sherlock</td>\n",
       "      <td>2010</td>\n",
       "      <td>16+</td>\n",
       "      <td>9.1</td>\n",
       "      <td>78%</td>\n",
       "      <td>1</td>\n",
       "      <td>0</td>\n",
       "      <td>0</td>\n",
       "      <td>0</td>\n",
       "      <td>1</td>\n",
       "    </tr>\n",
       "    <tr>\n",
       "      <th>4</th>\n",
       "      <td>4</td>\n",
       "      <td>Better Call Saul</td>\n",
       "      <td>2015</td>\n",
       "      <td>18+</td>\n",
       "      <td>8.7</td>\n",
       "      <td>97%</td>\n",
       "      <td>1</td>\n",
       "      <td>0</td>\n",
       "      <td>0</td>\n",
       "      <td>0</td>\n",
       "      <td>1</td>\n",
       "    </tr>\n",
       "  </tbody>\n",
       "</table>\n",
       "</div>"
      ],
      "text/plain": [
       "   Unnamed: 0             Title  Year  Age  IMDb Rotten Tomatoes  Netflix  \\\n",
       "0           0      Breaking Bad  2008  18+   9.5             96%        1   \n",
       "1           1   Stranger Things  2016  16+   8.8             93%        1   \n",
       "2           2       Money Heist  2017  18+   8.4             91%        1   \n",
       "3           3          Sherlock  2010  16+   9.1             78%        1   \n",
       "4           4  Better Call Saul  2015  18+   8.7             97%        1   \n",
       "\n",
       "   Hulu  Prime Video  Disney+  type  \n",
       "0     0            0        0     1  \n",
       "1     0            0        0     1  \n",
       "2     0            0        0     1  \n",
       "3     0            0        0     1  \n",
       "4     0            0        0     1  "
      ]
     },
     "execution_count": 10,
     "metadata": {},
     "output_type": "execute_result"
    }
   ],
   "source": [
    "df.head()"
   ]
  },
  {
   "cell_type": "code",
   "execution_count": 11,
   "metadata": {},
   "outputs": [
    {
     "data": {
      "text/plain": [
       "Unnamed: 0           int64\n",
       "Title               object\n",
       "Year                 int64\n",
       "Age                 object\n",
       "IMDb               float64\n",
       "Rotten Tomatoes     object\n",
       "Netflix              int64\n",
       "Hulu                 int64\n",
       "Prime Video          int64\n",
       "Disney+              int64\n",
       "type                 int64\n",
       "dtype: object"
      ]
     },
     "execution_count": 11,
     "metadata": {},
     "output_type": "execute_result"
    }
   ],
   "source": [
    "df.dtypes"
   ]
  },
  {
   "cell_type": "code",
   "execution_count": 12,
   "metadata": {},
   "outputs": [
    {
     "name": "stdout",
     "output_type": "stream",
     "text": [
      "<class 'pandas.core.frame.DataFrame'>\n",
      "RangeIndex: 5611 entries, 0 to 5610\n",
      "Data columns (total 11 columns):\n",
      " #   Column           Non-Null Count  Dtype  \n",
      "---  ------           --------------  -----  \n",
      " 0   Unnamed: 0       5611 non-null   int64  \n",
      " 1   Title            5611 non-null   object \n",
      " 2   Year             5611 non-null   int64  \n",
      " 3   Age              3165 non-null   object \n",
      " 4   IMDb             4450 non-null   float64\n",
      " 5   Rotten Tomatoes  1010 non-null   object \n",
      " 6   Netflix          5611 non-null   int64  \n",
      " 7   Hulu             5611 non-null   int64  \n",
      " 8   Prime Video      5611 non-null   int64  \n",
      " 9   Disney+          5611 non-null   int64  \n",
      " 10  type             5611 non-null   int64  \n",
      "dtypes: float64(1), int64(7), object(3)\n",
      "memory usage: 482.3+ KB\n"
     ]
    }
   ],
   "source": [
    "df.info()"
   ]
  },
  {
   "cell_type": "code",
   "execution_count": 13,
   "metadata": {},
   "outputs": [
    {
     "data": {
      "text/plain": [
       "Index                128\n",
       "Unnamed: 0         44888\n",
       "Title              44888\n",
       "Year               44888\n",
       "Age                44888\n",
       "IMDb               44888\n",
       "Rotten Tomatoes    44888\n",
       "Netflix            44888\n",
       "Hulu               44888\n",
       "Prime Video        44888\n",
       "Disney+            44888\n",
       "type               44888\n",
       "dtype: int64"
      ]
     },
     "execution_count": 13,
     "metadata": {},
     "output_type": "execute_result"
    }
   ],
   "source": [
    "df.memory_usage()"
   ]
  },
  {
   "cell_type": "code",
   "execution_count": 14,
   "metadata": {},
   "outputs": [
    {
     "data": {
      "text/plain": [
       "493896"
      ]
     },
     "execution_count": 14,
     "metadata": {},
     "output_type": "execute_result"
    }
   ],
   "source": [
    "df.memory_usage().sum()"
   ]
  },
  {
   "cell_type": "code",
   "execution_count": 15,
   "metadata": {},
   "outputs": [
    {
     "data": {
      "text/html": [
       "<div>\n",
       "<style scoped>\n",
       "    .dataframe tbody tr th:only-of-type {\n",
       "        vertical-align: middle;\n",
       "    }\n",
       "\n",
       "    .dataframe tbody tr th {\n",
       "        vertical-align: top;\n",
       "    }\n",
       "\n",
       "    .dataframe thead th {\n",
       "        text-align: right;\n",
       "    }\n",
       "</style>\n",
       "<table border=\"1\" class=\"dataframe\">\n",
       "  <thead>\n",
       "    <tr style=\"text-align: right;\">\n",
       "      <th></th>\n",
       "      <th>Unnamed: 0</th>\n",
       "      <th>Year</th>\n",
       "      <th>IMDb</th>\n",
       "      <th>Netflix</th>\n",
       "      <th>Hulu</th>\n",
       "      <th>Prime Video</th>\n",
       "      <th>Disney+</th>\n",
       "      <th>type</th>\n",
       "    </tr>\n",
       "  </thead>\n",
       "  <tbody>\n",
       "    <tr>\n",
       "      <th>count</th>\n",
       "      <td>5611.000000</td>\n",
       "      <td>5611.000000</td>\n",
       "      <td>4450.000000</td>\n",
       "      <td>5611.000000</td>\n",
       "      <td>5611.000000</td>\n",
       "      <td>5611.000000</td>\n",
       "      <td>5611.000000</td>\n",
       "      <td>5611.0</td>\n",
       "    </tr>\n",
       "    <tr>\n",
       "      <th>mean</th>\n",
       "      <td>2805.000000</td>\n",
       "      <td>2011.021030</td>\n",
       "      <td>7.113258</td>\n",
       "      <td>0.344145</td>\n",
       "      <td>0.312600</td>\n",
       "      <td>0.382107</td>\n",
       "      <td>0.032080</td>\n",
       "      <td>1.0</td>\n",
       "    </tr>\n",
       "    <tr>\n",
       "      <th>std</th>\n",
       "      <td>1619.900511</td>\n",
       "      <td>11.005116</td>\n",
       "      <td>1.132060</td>\n",
       "      <td>0.475131</td>\n",
       "      <td>0.463594</td>\n",
       "      <td>0.485946</td>\n",
       "      <td>0.176228</td>\n",
       "      <td>0.0</td>\n",
       "    </tr>\n",
       "    <tr>\n",
       "      <th>min</th>\n",
       "      <td>0.000000</td>\n",
       "      <td>1901.000000</td>\n",
       "      <td>1.000000</td>\n",
       "      <td>0.000000</td>\n",
       "      <td>0.000000</td>\n",
       "      <td>0.000000</td>\n",
       "      <td>0.000000</td>\n",
       "      <td>1.0</td>\n",
       "    </tr>\n",
       "    <tr>\n",
       "      <th>25%</th>\n",
       "      <td>1402.500000</td>\n",
       "      <td>2010.000000</td>\n",
       "      <td>6.600000</td>\n",
       "      <td>0.000000</td>\n",
       "      <td>0.000000</td>\n",
       "      <td>0.000000</td>\n",
       "      <td>0.000000</td>\n",
       "      <td>1.0</td>\n",
       "    </tr>\n",
       "    <tr>\n",
       "      <th>50%</th>\n",
       "      <td>2805.000000</td>\n",
       "      <td>2015.000000</td>\n",
       "      <td>7.300000</td>\n",
       "      <td>0.000000</td>\n",
       "      <td>0.000000</td>\n",
       "      <td>0.000000</td>\n",
       "      <td>0.000000</td>\n",
       "      <td>1.0</td>\n",
       "    </tr>\n",
       "    <tr>\n",
       "      <th>75%</th>\n",
       "      <td>4207.500000</td>\n",
       "      <td>2017.000000</td>\n",
       "      <td>7.900000</td>\n",
       "      <td>1.000000</td>\n",
       "      <td>1.000000</td>\n",
       "      <td>1.000000</td>\n",
       "      <td>0.000000</td>\n",
       "      <td>1.0</td>\n",
       "    </tr>\n",
       "    <tr>\n",
       "      <th>max</th>\n",
       "      <td>5610.000000</td>\n",
       "      <td>2020.000000</td>\n",
       "      <td>9.600000</td>\n",
       "      <td>1.000000</td>\n",
       "      <td>1.000000</td>\n",
       "      <td>1.000000</td>\n",
       "      <td>1.000000</td>\n",
       "      <td>1.0</td>\n",
       "    </tr>\n",
       "  </tbody>\n",
       "</table>\n",
       "</div>"
      ],
      "text/plain": [
       "        Unnamed: 0         Year         IMDb      Netflix         Hulu  \\\n",
       "count  5611.000000  5611.000000  4450.000000  5611.000000  5611.000000   \n",
       "mean   2805.000000  2011.021030     7.113258     0.344145     0.312600   \n",
       "std    1619.900511    11.005116     1.132060     0.475131     0.463594   \n",
       "min       0.000000  1901.000000     1.000000     0.000000     0.000000   \n",
       "25%    1402.500000  2010.000000     6.600000     0.000000     0.000000   \n",
       "50%    2805.000000  2015.000000     7.300000     0.000000     0.000000   \n",
       "75%    4207.500000  2017.000000     7.900000     1.000000     1.000000   \n",
       "max    5610.000000  2020.000000     9.600000     1.000000     1.000000   \n",
       "\n",
       "       Prime Video      Disney+    type  \n",
       "count  5611.000000  5611.000000  5611.0  \n",
       "mean      0.382107     0.032080     1.0  \n",
       "std       0.485946     0.176228     0.0  \n",
       "min       0.000000     0.000000     1.0  \n",
       "25%       0.000000     0.000000     1.0  \n",
       "50%       0.000000     0.000000     1.0  \n",
       "75%       1.000000     0.000000     1.0  \n",
       "max       1.000000     1.000000     1.0  "
      ]
     },
     "execution_count": 15,
     "metadata": {},
     "output_type": "execute_result"
    }
   ],
   "source": [
    "df.describe()"
   ]
  },
  {
   "cell_type": "markdown",
   "metadata": {},
   "source": [
    "Satistical Moments: \n",
    "1.Mean (1st moment)\n",
    "2.Variance (2nd moment)\n",
    "3.Skewness (3rd moment)\n",
    "4.Kurtosis (4th moment)"
   ]
  },
  {
   "cell_type": "code",
   "execution_count": 16,
   "metadata": {},
   "outputs": [
    {
     "data": {
      "text/plain": [
       "Unnamed: 0     2805.000000\n",
       "Year           2011.021030\n",
       "IMDb              7.113258\n",
       "Netflix           0.344145\n",
       "Hulu              0.312600\n",
       "Prime Video       0.382107\n",
       "Disney+           0.032080\n",
       "type              1.000000\n",
       "dtype: float64"
      ]
     },
     "execution_count": 16,
     "metadata": {},
     "output_type": "execute_result"
    }
   ],
   "source": [
    "df.mean()"
   ]
  },
  {
   "cell_type": "code",
   "execution_count": 18,
   "metadata": {},
   "outputs": [
    {
     "data": {
      "text/plain": [
       "0.344145428622349"
      ]
     },
     "execution_count": 18,
     "metadata": {},
     "output_type": "execute_result"
    }
   ],
   "source": [
    "df['Netflix'].mean()"
   ]
  },
  {
   "cell_type": "code",
   "execution_count": 21,
   "metadata": {},
   "outputs": [
    {
     "data": {
      "text/plain": [
       "Unnamed: 0     2.624078e+06\n",
       "Year           1.211126e+02\n",
       "IMDb           1.281559e+00\n",
       "Netflix        2.257496e-01\n",
       "Hulu           2.149196e-01\n",
       "Prime Video    2.361432e-01\n",
       "Disney+        3.105626e-02\n",
       "type           0.000000e+00\n",
       "dtype: float64"
      ]
     },
     "execution_count": 21,
     "metadata": {},
     "output_type": "execute_result"
    }
   ],
   "source": [
    "df.var()"
   ]
  },
  {
   "cell_type": "markdown",
   "metadata": {},
   "source": [
    "# skewness"
   ]
  },
  {
   "cell_type": "raw",
   "metadata": {},
   "source": [
    "df.skew()"
   ]
  },
  {
   "cell_type": "markdown",
   "metadata": {},
   "source": [
    "# Kurtosis "
   ]
  },
  {
   "cell_type": "code",
   "execution_count": 23,
   "metadata": {},
   "outputs": [
    {
     "data": {
      "text/plain": [
       "Unnamed: 0     -1.200000\n",
       "Year           15.669428\n",
       "IMDb            2.130811\n",
       "Netflix        -1.569853\n",
       "Hulu           -1.346399\n",
       "Prime Video    -1.765030\n",
       "Disney+        26.229802\n",
       "type            0.000000\n",
       "dtype: float64"
      ]
     },
     "execution_count": 23,
     "metadata": {},
     "output_type": "execute_result"
    }
   ],
   "source": [
    "df.kurtosis()"
   ]
  },
  {
   "cell_type": "markdown",
   "metadata": {},
   "source": [
    "min/max/median"
   ]
  },
  {
   "cell_type": "code",
   "execution_count": 24,
   "metadata": {},
   "outputs": [
    {
     "data": {
      "text/plain": [
       "Unnamed: 0                     0\n",
       "Title          #MeToo, Now What?\n",
       "Year                        1901\n",
       "IMDb                           1\n",
       "Netflix                        0\n",
       "Hulu                           0\n",
       "Prime Video                    0\n",
       "Disney+                        0\n",
       "type                           1\n",
       "dtype: object"
      ]
     },
     "execution_count": 24,
     "metadata": {},
     "output_type": "execute_result"
    }
   ],
   "source": [
    "df.min()"
   ]
  },
  {
   "cell_type": "code",
   "execution_count": 25,
   "metadata": {},
   "outputs": [
    {
     "data": {
      "text/plain": [
       "Unnamed: 0                 5610\n",
       "Title          頭文字D First Stage\n",
       "Year                       2020\n",
       "IMDb                        9.6\n",
       "Netflix                       1\n",
       "Hulu                          1\n",
       "Prime Video                   1\n",
       "Disney+                       1\n",
       "type                          1\n",
       "dtype: object"
      ]
     },
     "execution_count": 25,
     "metadata": {},
     "output_type": "execute_result"
    }
   ],
   "source": [
    "df.max()"
   ]
  },
  {
   "cell_type": "code",
   "execution_count": 26,
   "metadata": {},
   "outputs": [
    {
     "data": {
      "text/plain": [
       "Unnamed: 0     2805.0\n",
       "Year           2015.0\n",
       "IMDb              7.3\n",
       "Netflix           0.0\n",
       "Hulu              0.0\n",
       "Prime Video       0.0\n",
       "Disney+           0.0\n",
       "type              1.0\n",
       "dtype: float64"
      ]
     },
     "execution_count": 26,
     "metadata": {},
     "output_type": "execute_result"
    }
   ],
   "source": [
    "df.median()"
   ]
  },
  {
   "cell_type": "markdown",
   "metadata": {},
   "source": [
    "Correlation"
   ]
  },
  {
   "cell_type": "code",
   "execution_count": 28,
   "metadata": {},
   "outputs": [
    {
     "data": {
      "text/html": [
       "<div>\n",
       "<style scoped>\n",
       "    .dataframe tbody tr th:only-of-type {\n",
       "        vertical-align: middle;\n",
       "    }\n",
       "\n",
       "    .dataframe tbody tr th {\n",
       "        vertical-align: top;\n",
       "    }\n",
       "\n",
       "    .dataframe thead th {\n",
       "        text-align: right;\n",
       "    }\n",
       "</style>\n",
       "<table border=\"1\" class=\"dataframe\">\n",
       "  <thead>\n",
       "    <tr style=\"text-align: right;\">\n",
       "      <th></th>\n",
       "      <th>Unnamed: 0</th>\n",
       "      <th>Year</th>\n",
       "      <th>IMDb</th>\n",
       "      <th>Netflix</th>\n",
       "      <th>Hulu</th>\n",
       "      <th>Prime Video</th>\n",
       "      <th>Disney+</th>\n",
       "      <th>type</th>\n",
       "    </tr>\n",
       "  </thead>\n",
       "  <tbody>\n",
       "    <tr>\n",
       "      <th>Unnamed: 0</th>\n",
       "      <td>1.000000</td>\n",
       "      <td>-0.132975</td>\n",
       "      <td>-0.163835</td>\n",
       "      <td>-0.822878</td>\n",
       "      <td>-0.085934</td>\n",
       "      <td>0.689293</td>\n",
       "      <td>0.255014</td>\n",
       "      <td>NaN</td>\n",
       "    </tr>\n",
       "    <tr>\n",
       "      <th>Year</th>\n",
       "      <td>-0.132975</td>\n",
       "      <td>1.000000</td>\n",
       "      <td>-0.077347</td>\n",
       "      <td>0.207759</td>\n",
       "      <td>-0.092723</td>\n",
       "      <td>-0.171060</td>\n",
       "      <td>-0.018914</td>\n",
       "      <td>NaN</td>\n",
       "    </tr>\n",
       "    <tr>\n",
       "      <th>IMDb</th>\n",
       "      <td>-0.163835</td>\n",
       "      <td>-0.077347</td>\n",
       "      <td>1.000000</td>\n",
       "      <td>0.036608</td>\n",
       "      <td>-0.033134</td>\n",
       "      <td>0.037909</td>\n",
       "      <td>-0.033279</td>\n",
       "      <td>NaN</td>\n",
       "    </tr>\n",
       "    <tr>\n",
       "      <th>Netflix</th>\n",
       "      <td>-0.822878</td>\n",
       "      <td>0.207759</td>\n",
       "      <td>0.036608</td>\n",
       "      <td>1.000000</td>\n",
       "      <td>-0.392190</td>\n",
       "      <td>-0.500160</td>\n",
       "      <td>-0.119102</td>\n",
       "      <td>NaN</td>\n",
       "    </tr>\n",
       "    <tr>\n",
       "      <th>Hulu</th>\n",
       "      <td>-0.085934</td>\n",
       "      <td>-0.092723</td>\n",
       "      <td>-0.033134</td>\n",
       "      <td>-0.392190</td>\n",
       "      <td>1.000000</td>\n",
       "      <td>-0.375221</td>\n",
       "      <td>-0.081313</td>\n",
       "      <td>NaN</td>\n",
       "    </tr>\n",
       "    <tr>\n",
       "      <th>Prime Video</th>\n",
       "      <td>0.689293</td>\n",
       "      <td>-0.171060</td>\n",
       "      <td>0.037909</td>\n",
       "      <td>-0.500160</td>\n",
       "      <td>-0.375221</td>\n",
       "      <td>1.000000</td>\n",
       "      <td>-0.143163</td>\n",
       "      <td>NaN</td>\n",
       "    </tr>\n",
       "    <tr>\n",
       "      <th>Disney+</th>\n",
       "      <td>0.255014</td>\n",
       "      <td>-0.018914</td>\n",
       "      <td>-0.033279</td>\n",
       "      <td>-0.119102</td>\n",
       "      <td>-0.081313</td>\n",
       "      <td>-0.143163</td>\n",
       "      <td>1.000000</td>\n",
       "      <td>NaN</td>\n",
       "    </tr>\n",
       "    <tr>\n",
       "      <th>type</th>\n",
       "      <td>NaN</td>\n",
       "      <td>NaN</td>\n",
       "      <td>NaN</td>\n",
       "      <td>NaN</td>\n",
       "      <td>NaN</td>\n",
       "      <td>NaN</td>\n",
       "      <td>NaN</td>\n",
       "      <td>NaN</td>\n",
       "    </tr>\n",
       "  </tbody>\n",
       "</table>\n",
       "</div>"
      ],
      "text/plain": [
       "             Unnamed: 0      Year      IMDb   Netflix      Hulu  Prime Video  \\\n",
       "Unnamed: 0     1.000000 -0.132975 -0.163835 -0.822878 -0.085934     0.689293   \n",
       "Year          -0.132975  1.000000 -0.077347  0.207759 -0.092723    -0.171060   \n",
       "IMDb          -0.163835 -0.077347  1.000000  0.036608 -0.033134     0.037909   \n",
       "Netflix       -0.822878  0.207759  0.036608  1.000000 -0.392190    -0.500160   \n",
       "Hulu          -0.085934 -0.092723 -0.033134 -0.392190  1.000000    -0.375221   \n",
       "Prime Video    0.689293 -0.171060  0.037909 -0.500160 -0.375221     1.000000   \n",
       "Disney+        0.255014 -0.018914 -0.033279 -0.119102 -0.081313    -0.143163   \n",
       "type                NaN       NaN       NaN       NaN       NaN          NaN   \n",
       "\n",
       "              Disney+  type  \n",
       "Unnamed: 0   0.255014   NaN  \n",
       "Year        -0.018914   NaN  \n",
       "IMDb        -0.033279   NaN  \n",
       "Netflix     -0.119102   NaN  \n",
       "Hulu        -0.081313   NaN  \n",
       "Prime Video -0.143163   NaN  \n",
       "Disney+      1.000000   NaN  \n",
       "type              NaN   NaN  "
      ]
     },
     "execution_count": 28,
     "metadata": {},
     "output_type": "execute_result"
    }
   ],
   "source": [
    "df.corr()"
   ]
  },
  {
   "cell_type": "code",
   "execution_count": 29,
   "metadata": {},
   "outputs": [],
   "source": [
    "import seaborn as sns"
   ]
  },
  {
   "cell_type": "code",
   "execution_count": 30,
   "metadata": {},
   "outputs": [
    {
     "data": {
      "text/plain": [
       "<matplotlib.axes._subplots.AxesSubplot at 0x1b129a021c8>"
      ]
     },
     "execution_count": 30,
     "metadata": {},
     "output_type": "execute_result"
    },
    {
     "data": {
      "image/png": "[encoded data removed]",
      "text/plain": [
       "<Figure size 1152x504 with 2 Axes>"
      ]
     },
     "metadata": {
      "needs_background": "light"
     },
     "output_type": "display_data"
    }
   ],
   "source": [
    "sns.heatmap(df.corr(),annot=True)"
   ]
  },
  {
   "cell_type": "markdown",
   "metadata": {},
   "source": [
    "# Lineplot"
   ]
  },
  {
   "cell_type": "code",
   "execution_count": 42,
   "metadata": {},
   "outputs": [
    {
     "data": {
      "text/plain": [
       "Text(0, 0.5, 'Rotten Tomatoes')"
      ]
     },
     "execution_count": 42,
     "metadata": {},
     "output_type": "execute_result"
    },
    {
     "data": {
      "image/png": "[encoded data removed]",
      "text/plain": [
       "<Figure size 360x360 with 1 Axes>"
      ]
     },
     "metadata": {
      "needs_background": "light"
     },
     "output_type": "display_data"
    }
   ],
   "source": [
    "df['IMDb'].plot(figsize=(5,5),color='blue')\n",
    "plt.xlim(0,70)\n",
    "plt.ylim(0,70)\n",
    "plt.xlabel('IMDb')\n",
    "plt.ylabel('Rotten Tomatoes')"
   ]
  },
  {
   "cell_type": "markdown",
   "metadata": {},
   "source": [
    "# Boxplot"
   ]
  },
  {
   "cell_type": "code",
   "execution_count": 47,
   "metadata": {},
   "outputs": [
    {
     "data": {
      "image/png": "[encoded data removed]",
      "text/plain": [
       "<Figure size 576x360 with 1 Axes>"
      ]
     },
     "metadata": {
      "needs_background": "light"
     },
     "output_type": "display_data"
    }
   ],
   "source": [
    "df['Year'].plot.box(figsize=(8, 5));"
   ]
  },
  {
   "cell_type": "code",
   "execution_count": 48,
   "metadata": {},
   "outputs": [
    {
     "data": {
      "text/plain": [
       "<matplotlib.axes._subplots.AxesSubplot at 0x1b12bd37388>"
      ]
     },
     "execution_count": 48,
     "metadata": {},
     "output_type": "execute_result"
    },
    {
     "data": {
      "image/png": "[encoded data removed]",
      "text/plain": [
       "<Figure size 1152x360 with 1 Axes>"
      ]
     },
     "metadata": {
      "needs_background": "light"
     },
     "output_type": "display_data"
    }
   ],
   "source": [
    "df.boxplot(figsize=(16, 5))"
   ]
  },
  {
   "cell_type": "markdown",
   "metadata": {},
   "source": [
    "# Histogram"
   ]
  },
  {
   "cell_type": "code",
   "execution_count": 49,
   "metadata": {},
   "outputs": [
    {
     "data": {
      "image/png": "[encoded data removed]",
      "text/plain": [
       "<Figure size 576x360 with 1 Axes>"
      ]
     },
     "metadata": {
      "needs_background": "light"
     },
     "output_type": "display_data"
    }
   ],
   "source": [
    "df['Year'].hist(bins=30, figsize=(8, 5));"
   ]
  },
  {
   "cell_type": "code",
   "execution_count": 57,
   "metadata": {},
   "outputs": [
    {
     "data": {
      "image/png": "[encoded data removed]",
      "text/plain": [
       "<Figure size 576x360 with 1 Axes>"
      ]
     },
     "metadata": {
      "needs_background": "light"
     },
     "output_type": "display_data"
    }
   ],
   "source": [
    "ax = df['Year'].hist(bins=30, grid=False, color='green', figsize=(8, 5)) # grid turned off and color changed\n",
    "\n",
    "ax.set_xlabel('Year')\n",
    "ax.set_ylabel('IMDb')\n",
    "\n",
    "ax.set_xlim(1500, 3000) # limiting display range to 0-70 for the x-axis\n",
    "ax.set_ylim(0, 120); # limiting display range to 0-120 for the y-axis"
   ]
  },
  {
   "cell_type": "markdown",
   "metadata": {},
   "source": [
    "# Barplot"
   ]
  },
  {
   "cell_type": "code",
   "execution_count": 59,
   "metadata": {},
   "outputs": [
    {
     "data": {
      "image/png": "[encoded data removed]",
      "text/plain": [
       "<Figure size 1152x504 with 1 Axes>"
      ]
     },
     "metadata": {
      "needs_background": "light"
     },
     "output_type": "display_data"
    }
   ],
   "source": [
    "df_avg_BP = df.groupby('Year')['IMDb'].mean()\n",
    "df_avg_BP[:10].plot.bar(color='orange');"
   ]
  },
  {
   "cell_type": "code",
   "execution_count": 61,
   "metadata": {},
   "outputs": [
    {
     "data": {
      "image/png": "[encoded data removed]",
      "text/plain": [
       "<Figure size 1152x504 with 1 Axes>"
      ]
     },
     "metadata": {
      "needs_background": "light"
     },
     "output_type": "display_data"
    }
   ],
   "source": [
    "ax = df[['Year', 'IMDb']][:5].plot.bar(stacked=True)\n",
    "\n",
    "ax.set_xlabel(\"Year\")\n",
    "ax.set_ylabel(\"IMDb\");"
   ]
  },
  {
   "cell_type": "code",
   "execution_count": null,
   "metadata": {},
   "outputs": [],
   "source": []
  },
  {
   "cell_type": "code",
   "execution_count": null,
   "metadata": {},
   "outputs": [],
   "source": []
  }
 ],
 "metadata": {
  "kernelspec": {
   "display_name": "Python 3",
   "language": "python",
   "name": "python3"
  },
  "language_info": {
   "codemirror_mode": {
    "name": "ipython",
    "version": 3
   },
   "file_extension": ".py",
   "mimetype": "text/x-python",
   "name": "python",
   "nbconvert_exporter": "python",
   "pygments_lexer": "ipython3",
   "version": "3.7.6"
  }
 },
 "nbformat": 4,
 "nbformat_minor": 4
}
