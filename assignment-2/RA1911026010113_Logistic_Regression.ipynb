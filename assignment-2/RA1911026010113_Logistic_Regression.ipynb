{
  "nbformat": 4,
  "nbformat_minor": 0,
  "metadata": {
    "colab": {
      "name": "RA1911026010113_Logistic_Regression.ipynb",
      "provenance": []
    },
    "kernelspec": {
      "name": "python3",
      "display_name": "Python 3"
    },
    "language_info": {
      "name": "python"
    }
  },
  "cells": [
    {
      "cell_type": "markdown",
      "metadata": {
        "id": "lX0mjM__tmNq"
      },
      "source": [
        "Dataset Used: https://www.kaggle.com/dragonheir/logistic-regression\n",
        "\n",
        "#Importing Libraries"
      ]
    },
    {
      "cell_type": "code",
      "metadata": {
        "id": "XuZcL95-t71o"
      },
      "source": [
        "import numpy as np\n",
        "import matplotlib.pyplot as plt\n",
        "import pandas as pd\n",
        "from sklearn.model_selection import KFold \n",
        "from sklearn.model_selection import train_test_split\n",
        "from sklearn.preprocessing import StandardScaler\n",
        "from sklearn.linear_model import LogisticRegression\n",
        "from sklearn.metrics import confusion_matrix,accuracy_score"
      ],
      "execution_count": 13,
      "outputs": []
    },
    {
      "cell_type": "markdown",
      "metadata": {
        "id": "rt3zJyZ0t8rt"
      },
      "source": [
        "#Importing the Dataset"
      ]
    },
    {
      "cell_type": "code",
      "metadata": {
        "id": "OucrtdxpuABr"
      },
      "source": [
        "dataset = pd.read_csv('Social_Network_Ads.csv')\n",
        "x = dataset.iloc[:,2:-1].values\n",
        "y = dataset.iloc[:,-1].values"
      ],
      "execution_count": 14,
      "outputs": []
    },
    {
      "cell_type": "markdown",
      "metadata": {
        "id": "aRv0sPTcuEME"
      },
      "source": [
        "#Splitting the dataset"
      ]
    },
    {
      "cell_type": "code",
      "metadata": {
        "id": "-CX3nPrzuGgD"
      },
      "source": [
        "x_train,x_test,y_train,y_test = train_test_split(x,y,test_size=0.20,random_state=0)"
      ],
      "execution_count": 15,
      "outputs": []
    },
    {
      "cell_type": "markdown",
      "metadata": {
        "id": "ThGQJjb7uHw7"
      },
      "source": [
        "#Feature Scaling"
      ]
    },
    {
      "cell_type": "code",
      "metadata": {
        "id": "W_6BCeWRuKbL"
      },
      "source": [
        "sc = StandardScaler()\n",
        "x_train = sc.fit_transform(x_train)\n",
        "x_test = sc.transform(x_test)"
      ],
      "execution_count": 16,
      "outputs": []
    },
    {
      "cell_type": "markdown",
      "metadata": {
        "id": "tsLApooLuNYD"
      },
      "source": [
        "#Training the Logistic Regression mode"
      ]
    },
    {
      "cell_type": "code",
      "metadata": {
        "colab": {
          "base_uri": "https://localhost:8080/"
        },
        "id": "3PVHu8uMuODb",
        "outputId": "12cbe343-b18e-4c88-ae18-109696cb8674"
      },
      "source": [
        "cls = LogisticRegression(random_state=0)\n",
        "cls.fit(x_train,y_train)"
      ],
      "execution_count": 17,
      "outputs": [
        {
          "output_type": "execute_result",
          "data": {
            "text/plain": [
              "LogisticRegression(C=1.0, class_weight=None, dual=False, fit_intercept=True,\n",
              "                   intercept_scaling=1, l1_ratio=None, max_iter=100,\n",
              "                   multi_class='auto', n_jobs=None, penalty='l2',\n",
              "                   random_state=0, solver='lbfgs', tol=0.0001, verbose=0,\n",
              "                   warm_start=False)"
            ]
          },
          "metadata": {},
          "execution_count": 17
        }
      ]
    },
    {
      "cell_type": "code",
      "metadata": {
        "id": "OM8fV2ozuTP8"
      },
      "source": [
        "y_pred = cls.predict(x_test)\n"
      ],
      "execution_count": 18,
      "outputs": []
    },
    {
      "cell_type": "markdown",
      "metadata": {
        "id": "5BaYO-c2uXcz"
      },
      "source": [
        "#Making the Confusion Matrix"
      ]
    },
    {
      "cell_type": "code",
      "metadata": {
        "colab": {
          "base_uri": "https://localhost:8080/"
        },
        "id": "HK24DAbKuZ40",
        "outputId": "b182fef7-f398-4c09-891e-960f5e18826c"
      },
      "source": [
        "cm = confusion_matrix(y_test,y_pred)\n",
        "print(cm)\n",
        "acc = accuracy_score(y_test,y_pred)\n",
        "print(acc)"
      ],
      "execution_count": 19,
      "outputs": [
        {
          "output_type": "stream",
          "name": "stdout",
          "text": [
            "[[57  1]\n",
            " [ 5 17]]\n",
            "0.925\n"
          ]
        }
      ]
    },
    {
      "cell_type": "markdown",
      "metadata": {
        "id": "h3fI9Bw1ubVr"
      },
      "source": [
        "#Validation"
      ]
    },
    {
      "cell_type": "code",
      "metadata": {
        "colab": {
          "base_uri": "https://localhost:8080/"
        },
        "id": "xvedijloudK7",
        "outputId": "6bfac68e-4660-489c-eb98-45014c829557"
      },
      "source": [
        "k = 15\n",
        "kf = KFold(n_splits=15, random_state=None)\n",
        "model = LogisticRegression(random_state=0)\n",
        " \n",
        "acc_score = []\n",
        " \n",
        "for train_index , test_index in kf.split(x):\n",
        "    X_train , X_test = x[train_index,:],x[test_index,:]\n",
        "    y_train , y_test = y[train_index] , y[test_index]\n",
        "    model.fit(X_train,y_train)\n",
        "    pred_values = model.predict(X_test)\n",
        "    acc = accuracy_score(pred_values , y_test)\n",
        "    acc_score.append(acc)\n",
        "\n",
        "avg_acc_score = sum(acc_score)/k\n",
        " \n",
        "print('Accuracy of each fold - {}'.format(acc_score))\n",
        "print('Avg accuracy : {}'.format(avg_acc_score))"
      ],
      "execution_count": 20,
      "outputs": [
        {
          "output_type": "stream",
          "name": "stdout",
          "text": [
            "Accuracy of each fold - [0.5555555555555556, 0.8888888888888888, 0.9259259259259259, 0.8888888888888888, 1.0, 0.8518518518518519, 0.9259259259259259, 0.7407407407407407, 0.48148148148148145, 0.48148148148148145, 0.8076923076923077, 0.38461538461538464, 0.9230769230769231, 0.34615384615384615, 0.2692307692307692]\n",
            "Avg accuracy : 0.6981006647673316\n"
          ]
        }
      ]
    }
  ]
}