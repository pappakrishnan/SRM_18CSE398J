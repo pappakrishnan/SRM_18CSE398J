{
 "cells": [
  {
   "cell_type": "markdown",
   "id": "d4bee44c",
   "metadata": {},
   "source": [
    "# EDA wasn't used this time as it was done on same dataset in previous assignment"
   ]
  },
  {
   "cell_type": "markdown",
   "id": "c2724995",
   "metadata": {},
   "source": [
    "# Random Forest \n",
    "Random forest is an ensemble and supervised  machine learning algorithm which is capable of performing both regression and classification problems.\n",
    "Ensemble learning: To form a strong prediction model we  join different or same types of algorithms multiple time. \n",
    "Random forest consists of many decision trees. It is kind of forming forest of trees. Means random forest combine multiple same type of decision tree algorithm to form a random forest algorithm."
   ]
  },
  {
   "cell_type": "markdown",
   "id": "75b4935c",
   "metadata": {},
   "source": [
    "### How Random Forest works\n",
    "1. Select N number of samples from datasets.\n",
    "2. Build Decision for each sample and predict the result for each decision tree.\n",
    "3. Voting is done for each predicted result of decision tree.\n",
    "4. The prediction result with majority votes win. "
   ]
  },
  {
   "cell_type": "markdown",
   "id": "77847d3a",
   "metadata": {},
   "source": [
    "### Iris Dataset \n",
    "Iris is a family of flower which contains three type of flower called setosa ,versicolor ,virginica .\n",
    "\n",
    "Given some features of a flower, and based on these features we have to identify which flower belongs to which category.\n",
    "\n",
    "This type of problems belong to classification  problems. We can solve this by using supervised machine learning classification algorithm."
   ]
  },
  {
   "cell_type": "code",
   "execution_count": 146,
   "id": "b9d661cc",
   "metadata": {},
   "outputs": [],
   "source": [
    "#importing required libraries \n",
    "\n",
    "import numpy as np \n",
    "\n",
    "import pandas as pd \n",
    "\n",
    "import sklearn\n",
    "\n",
    "import time\n",
    "\n",
    "from sklearn.model_selection import train_test_split\n",
    "\n",
    "from sklearn.ensemble import RandomForestClassifier \n",
    "\n",
    "from sklearn.metrics import accuracy_score \n",
    "\n",
    "from sklearn.datasets import load_iris\n",
    "\n",
    "import sklearn.metrics as metrics\n",
    "\n",
    "import pandas as pd\n",
    "\n",
    "from sklearn.metrics import confusion_matrix"
   ]
  },
  {
   "cell_type": "code",
   "execution_count": 147,
   "id": "eca30138",
   "metadata": {},
   "outputs": [
    {
     "name": "stdout",
     "output_type": "stream",
     "text": [
      "Dataset Shape:  (150, 4)\n"
     ]
    }
   ],
   "source": [
    "\n",
    "#Loading datasets \n",
    "\n",
    "iris_data = load_iris() \n",
    "\n",
    "iris=pd.DataFrame(iris_data.data)\n",
    "\n",
    "#shape of datasets \n",
    "\n",
    "print (\"Dataset Shape: \", iris.shape) \n",
    "\n"
   ]
  },
  {
   "cell_type": "markdown",
   "id": "bfbd3d78",
   "metadata": {},
   "source": [
    "the shape of data is (150, 4) which means we have 150 samples (rows) and 4 features (columns)."
   ]
  },
  {
   "cell_type": "code",
   "execution_count": 148,
   "id": "1c9c47b9",
   "metadata": {},
   "outputs": [
    {
     "data": {
      "text/html": [
       "<div>\n",
       "<style scoped>\n",
       "    .dataframe tbody tr th:only-of-type {\n",
       "        vertical-align: middle;\n",
       "    }\n",
       "\n",
       "    .dataframe tbody tr th {\n",
       "        vertical-align: top;\n",
       "    }\n",
       "\n",
       "    .dataframe thead th {\n",
       "        text-align: right;\n",
       "    }\n",
       "</style>\n",
       "<table border=\"1\" class=\"dataframe\">\n",
       "  <thead>\n",
       "    <tr style=\"text-align: right;\">\n",
       "      <th></th>\n",
       "      <th>0</th>\n",
       "      <th>1</th>\n",
       "      <th>2</th>\n",
       "      <th>3</th>\n",
       "    </tr>\n",
       "  </thead>\n",
       "  <tbody>\n",
       "    <tr>\n",
       "      <th>0</th>\n",
       "      <td>5.1</td>\n",
       "      <td>3.5</td>\n",
       "      <td>1.4</td>\n",
       "      <td>0.2</td>\n",
       "    </tr>\n",
       "    <tr>\n",
       "      <th>1</th>\n",
       "      <td>4.9</td>\n",
       "      <td>3.0</td>\n",
       "      <td>1.4</td>\n",
       "      <td>0.2</td>\n",
       "    </tr>\n",
       "    <tr>\n",
       "      <th>2</th>\n",
       "      <td>4.7</td>\n",
       "      <td>3.2</td>\n",
       "      <td>1.3</td>\n",
       "      <td>0.2</td>\n",
       "    </tr>\n",
       "    <tr>\n",
       "      <th>3</th>\n",
       "      <td>4.6</td>\n",
       "      <td>3.1</td>\n",
       "      <td>1.5</td>\n",
       "      <td>0.2</td>\n",
       "    </tr>\n",
       "    <tr>\n",
       "      <th>4</th>\n",
       "      <td>5.0</td>\n",
       "      <td>3.6</td>\n",
       "      <td>1.4</td>\n",
       "      <td>0.2</td>\n",
       "    </tr>\n",
       "  </tbody>\n",
       "</table>\n",
       "</div>"
      ],
      "text/plain": [
       "     0    1    2    3\n",
       "0  5.1  3.5  1.4  0.2\n",
       "1  4.9  3.0  1.4  0.2\n",
       "2  4.7  3.2  1.3  0.2\n",
       "3  4.6  3.1  1.5  0.2\n",
       "4  5.0  3.6  1.4  0.2"
      ]
     },
     "execution_count": 148,
     "metadata": {},
     "output_type": "execute_result"
    }
   ],
   "source": [
    "#first five sample \n",
    "\n",
    "\n",
    "iris.head()"
   ]
  },
  {
   "cell_type": "code",
   "execution_count": 149,
   "id": "673660a4",
   "metadata": {},
   "outputs": [
    {
     "name": "stdout",
     "output_type": "stream",
     "text": [
      "['setosa' 'versicolor' 'virginica']\n",
      "['sepal length (cm)', 'sepal width (cm)', 'petal length (cm)', 'petal width (cm)']\n"
     ]
    }
   ],
   "source": [
    "\n",
    " # printing categories (setosa, versicolor,virginica)\n",
    "\n",
    "print(iris_data.target_names)\n",
    "\n",
    "# printing features of flower \n",
    "\n",
    "print(iris_data.feature_names)"
   ]
  },
  {
   "cell_type": "markdown",
   "id": "f94ab6ff",
   "metadata": {},
   "source": [
    " 4 features are : sepal length , sepal width, petal length , petal width. The features have some values (150 sample) based on that flowers classified in three category that is setosa,  versicolor and virginica  (0,1 and 2)."
   ]
  },
  {
   "cell_type": "code",
   "execution_count": 150,
   "id": "91ea44bd",
   "metadata": {},
   "outputs": [
    {
     "name": "stdout",
     "output_type": "stream",
     "text": [
      "[[5.1 3.5 1.4 0.2]\n",
      " [4.9 3.  1.4 0.2]\n",
      " [4.7 3.2 1.3 0.2]\n",
      " [4.6 3.1 1.5 0.2]\n",
      " [5.  3.6 1.4 0.2]]\n",
      "[0 0 0 0 0 0 0 0 0 0 0 0 0 0 0 0 0 0 0 0 0 0 0 0 0 0 0 0 0 0 0 0 0 0 0 0 0\n",
      " 0 0 0 0 0 0 0 0 0 0 0 0 0 1 1 1 1 1 1 1 1 1 1 1 1 1 1 1 1 1 1 1 1 1 1 1 1\n",
      " 1 1 1 1 1 1 1 1 1 1 1 1 1 1 1 1 1 1 1 1 1 1 1 1 1 1 2 2 2 2 2 2 2 2 2 2 2\n",
      " 2 2 2 2 2 2 2 2 2 2 2 2 2 2 2 2 2 2 2 2 2 2 2 2 2 2 2 2 2 2 2 2 2 2 2 2 2\n",
      " 2 2]\n"
     ]
    }
   ],
   "source": [
    "\n",
    "#printing samples and target \n",
    "\n",
    "X = iris.values[:, 0:4] \n",
    "\n",
    "Y = iris_data.target\n",
    "\n",
    "print(X[0:5])\n",
    "\n",
    "print(Y)"
   ]
  },
  {
   "cell_type": "code",
   "execution_count": 151,
   "id": "d0c06bfa",
   "metadata": {},
   "outputs": [],
   "source": [
    "\n",
    "# Splitting the dataset into train and test \n",
    "\n",
    "X_train, X_test, y_train, y_test = train_test_split(X, Y, test_size = 0.3, random_state = 100)"
   ]
  },
  {
   "cell_type": "markdown",
   "id": "4760e451",
   "metadata": {},
   "source": [
    "Training data is used to train the model and testing data is used to check the performance of model."
   ]
  },
  {
   "cell_type": "code",
   "execution_count": 152,
   "id": "99aed43c",
   "metadata": {},
   "outputs": [],
   "source": [
    "#defining random forest classifier \n",
    "\n",
    "clfr= RandomForestClassifier(random_state = 100)\n"
   ]
  },
  {
   "cell_type": "code",
   "execution_count": 153,
   "id": "e44a7086",
   "metadata": {},
   "outputs": [
    {
     "data": {
      "text/plain": [
       "RandomForestClassifier(random_state=100)"
      ]
     },
     "execution_count": 153,
     "metadata": {},
     "output_type": "execute_result"
    }
   ],
   "source": [
    "# Performing training \n",
    "\n",
    "\n",
    "clfr.fit(X_train, y_train)"
   ]
  },
  {
   "cell_type": "markdown",
   "id": "f4ece8a1",
   "metadata": {},
   "source": [
    "##### Parameters in classifier \n",
    "\n",
    "n_estimators - This parameter defines the number of trees in the random forest. \n",
    "\n",
    "criterion gini - We have already discuss it in decision tree. To make a split in tree we need to calculate impurities that can be entropy and gini. In python sklearn by default gini is calculated.  (In short to make a decision in decision tree we have to calculate gini index and then join together these trees form random forest).\n",
    "\n",
    "Random State- Random state can be any integer. The reason behind defining random state parameters is to initialize a random number generator which ensures that the splits that you generate are reproducible. "
   ]
  },
  {
   "cell_type": "code",
   "execution_count": 154,
   "id": "1c388f76",
   "metadata": {},
   "outputs": [
    {
     "data": {
      "text/plain": [
       "array([2, 0, 2, 0, 2, 2, 0, 0, 2, 0, 0, 2, 0, 0, 2, 1, 1, 2, 2, 2, 2, 0,\n",
       "       2, 0, 1, 2, 1, 0, 1, 2, 1, 1, 1, 0, 0, 1, 0, 1, 2, 2, 0, 1, 2, 2,\n",
       "       0])"
      ]
     },
     "execution_count": 154,
     "metadata": {},
     "output_type": "execute_result"
    }
   ],
   "source": [
    "\n",
    "#making predictions \n",
    "\n",
    "Y_pred=clfr.predict(X_test)\n",
    "\n",
    "Y_pred"
   ]
  },
  {
   "cell_type": "code",
   "execution_count": null,
   "id": "8cb4cf14",
   "metadata": {},
   "outputs": [],
   "source": []
  },
  {
   "cell_type": "code",
   "execution_count": 155,
   "id": "e682fe6c",
   "metadata": {},
   "outputs": [
    {
     "name": "stdout",
     "output_type": "stream",
     "text": [
      "Accuracy: 0.9555555555555556\n"
     ]
    },
    {
     "data": {
      "text/plain": [
       "array([[16,  0,  0],\n",
       "       [ 0, 10,  1],\n",
       "       [ 0,  1, 17]], dtype=int64)"
      ]
     },
     "execution_count": 155,
     "metadata": {},
     "output_type": "execute_result"
    }
   ],
   "source": [
    "#Accuray of the model \n",
    "\n",
    "print(\"Accuracy:\",metrics.accuracy_score(y_test, Y_pred))\n",
    "\n",
    "cm=np.array(confusion_matrix(y_test,Y_pred))\n",
    "\n",
    "cm"
   ]
  },
  {
   "cell_type": "markdown",
   "id": "23a08782",
   "metadata": {},
   "source": [
    "##### Parameters in classifier \n",
    "\n",
    "n_estimators - This parameter defines the number of trees in the random forest. \n",
    "\n",
    "criterion gini - We have already discuss it in decision tree. To make a split in tree we need to calculate impurities that can be entropy and gini. In python sklearn by default gini is calculated.  (In short to make a decision in decision tree we have to calculate gini index and then join together these trees form random forest).\n",
    "\n",
    "Random State- Random state can be any integer. The reason behind defining random state parameters is to initialize a random number generator which ensures that the splits that you generate are reproducible. "
   ]
  },
  {
   "cell_type": "code",
   "execution_count": 156,
   "id": "c18e3ac9",
   "metadata": {},
   "outputs": [],
   "source": [
    "# Using different values of n_estimators as paramter for classifier"
   ]
  },
  {
   "cell_type": "code",
   "execution_count": 157,
   "id": "45fa7678",
   "metadata": {},
   "outputs": [],
   "source": [
    "estimator_values=[1,2,3,4,5, 20,60,100,150]\n",
    "accuracies=[]\n",
    "time_taken=[]"
   ]
  },
  {
   "cell_type": "code",
   "execution_count": 158,
   "id": "af341c4f",
   "metadata": {},
   "outputs": [],
   "source": [
    "# random_state kept constant to get fair comparison between changine n_estimators value\n",
    "\n",
    "for e_v in estimator_values:\n",
    "    a=time.time()\n",
    "    clfr= RandomForestClassifier(random_state = 100, n_estimators=e_v)\n",
    "    clfr.fit(X_train, y_train)\n",
    "    b=time.time()\n",
    "    Y_pred=clfr.predict(X_test)\n",
    "    accuracy=metrics.accuracy_score(y_test, Y_pred)\n",
    "    \n",
    "    accuracies.append(accuracy)\n",
    "    time_taken.append(b-a)\n",
    "    "
   ]
  },
  {
   "cell_type": "code",
   "execution_count": 159,
   "id": "f13597ba",
   "metadata": {},
   "outputs": [],
   "source": [
    "import matplotlib.pyplot as plt"
   ]
  },
  {
   "cell_type": "code",
   "execution_count": 160,
   "id": "edfc6562",
   "metadata": {},
   "outputs": [
    {
     "data": {
      "image/png": "[encoded data removed]",
      "text/plain": [
       "<Figure size 432x288 with 1 Axes>"
      ]
     },
     "metadata": {
      "needs_background": "light"
     },
     "output_type": "display_data"
    }
   ],
   "source": [
    "plt.scatter(estimator_values,accuracies)\n",
    "plt.xlabel(\"n_estimators\",fontsize=12,labelpad=30)\n",
    "plt.ylabel(\"Accuracy Score\",rotation=0, fontsize=12, labelpad=60)\n",
    "\n",
    "plt.show()"
   ]
  },
  {
   "cell_type": "markdown",
   "id": "25f9703a",
   "metadata": {},
   "source": [
    "Plot compararision didn't help much, will use tabular representation later "
   ]
  },
  {
   "cell_type": "markdown",
   "id": "1ed664cd",
   "metadata": {},
   "source": [
    "##### Training Time v/s n_estimator plot"
   ]
  },
  {
   "cell_type": "code",
   "execution_count": 161,
   "id": "054b7109",
   "metadata": {},
   "outputs": [
    {
     "data": {
      "image/png": "[encoded data removed]",
      "text/plain": [
       "<Figure size 432x288 with 1 Axes>"
      ]
     },
     "metadata": {
      "needs_background": "light"
     },
     "output_type": "display_data"
    }
   ],
   "source": [
    "plt.scatter(estimator_values,time_taken)\n",
    "plt.xlabel(\"n_estimators\",fontsize=12,labelpad=30)\n",
    "plt.ylabel(\"Training Time (Sec)\",rotation=0, fontsize=12, labelpad=60)\n",
    "\n",
    "plt.show()"
   ]
  },
  {
   "cell_type": "markdown",
   "id": "4d8b883d",
   "metadata": {},
   "source": [
    "Training Time almost linerally rises with increase in n_estimators"
   ]
  },
  {
   "cell_type": "code",
   "execution_count": 162,
   "id": "94e223b6",
   "metadata": {},
   "outputs": [],
   "source": [
    "random_forest_data_dic = {\"n_estimators\":estimator_values, \"Accuracy\":accuracies, \"Time\":time_taken}\n",
    "df = pd.DataFrame(random_forest_data_dic)"
   ]
  },
  {
   "cell_type": "code",
   "execution_count": 163,
   "id": "31fd43c9",
   "metadata": {},
   "outputs": [
    {
     "data": {
      "text/html": [
       "<div>\n",
       "<style scoped>\n",
       "    .dataframe tbody tr th:only-of-type {\n",
       "        vertical-align: middle;\n",
       "    }\n",
       "\n",
       "    .dataframe tbody tr th {\n",
       "        vertical-align: top;\n",
       "    }\n",
       "\n",
       "    .dataframe thead th {\n",
       "        text-align: right;\n",
       "    }\n",
       "</style>\n",
       "<table border=\"1\" class=\"dataframe\">\n",
       "  <thead>\n",
       "    <tr style=\"text-align: right;\">\n",
       "      <th></th>\n",
       "      <th>n_estimators</th>\n",
       "      <th>Accuracy</th>\n",
       "      <th>Time</th>\n",
       "    </tr>\n",
       "  </thead>\n",
       "  <tbody>\n",
       "    <tr>\n",
       "      <th>0</th>\n",
       "      <td>1</td>\n",
       "      <td>0.933333</td>\n",
       "      <td>0.007509</td>\n",
       "    </tr>\n",
       "    <tr>\n",
       "      <th>1</th>\n",
       "      <td>2</td>\n",
       "      <td>0.933333</td>\n",
       "      <td>0.007591</td>\n",
       "    </tr>\n",
       "    <tr>\n",
       "      <th>2</th>\n",
       "      <td>3</td>\n",
       "      <td>0.955556</td>\n",
       "      <td>0.006928</td>\n",
       "    </tr>\n",
       "    <tr>\n",
       "      <th>3</th>\n",
       "      <td>4</td>\n",
       "      <td>0.955556</td>\n",
       "      <td>0.006850</td>\n",
       "    </tr>\n",
       "    <tr>\n",
       "      <th>4</th>\n",
       "      <td>5</td>\n",
       "      <td>0.955556</td>\n",
       "      <td>0.019476</td>\n",
       "    </tr>\n",
       "    <tr>\n",
       "      <th>5</th>\n",
       "      <td>20</td>\n",
       "      <td>0.955556</td>\n",
       "      <td>0.068120</td>\n",
       "    </tr>\n",
       "    <tr>\n",
       "      <th>6</th>\n",
       "      <td>60</td>\n",
       "      <td>0.955556</td>\n",
       "      <td>0.149412</td>\n",
       "    </tr>\n",
       "    <tr>\n",
       "      <th>7</th>\n",
       "      <td>100</td>\n",
       "      <td>0.955556</td>\n",
       "      <td>0.183249</td>\n",
       "    </tr>\n",
       "    <tr>\n",
       "      <th>8</th>\n",
       "      <td>150</td>\n",
       "      <td>0.955556</td>\n",
       "      <td>0.267045</td>\n",
       "    </tr>\n",
       "  </tbody>\n",
       "</table>\n",
       "</div>"
      ],
      "text/plain": [
       "   n_estimators  Accuracy      Time\n",
       "0             1  0.933333  0.007509\n",
       "1             2  0.933333  0.007591\n",
       "2             3  0.955556  0.006928\n",
       "3             4  0.955556  0.006850\n",
       "4             5  0.955556  0.019476\n",
       "5            20  0.955556  0.068120\n",
       "6            60  0.955556  0.149412\n",
       "7           100  0.955556  0.183249\n",
       "8           150  0.955556  0.267045"
      ]
     },
     "execution_count": 163,
     "metadata": {},
     "output_type": "execute_result"
    }
   ],
   "source": [
    "df"
   ]
  },
  {
   "cell_type": "markdown",
   "id": "76677913",
   "metadata": {},
   "source": [
    "#### Accuracy Remained constant after a specific n_estimators value, however there was always linear increase in training time\n",
    "#### Therefore, n_estimators should be taken with good estimate\n",
    "In our case, the dataset was very small, that's why n_estimators=3 was optimal value. However, RandomForest is genrally used with larger dataset and this optimal value would be rather high"
   ]
  },
  {
   "cell_type": "markdown",
   "id": "2641f333",
   "metadata": {},
   "source": [
    "###### #making prediction on new data"
   ]
  },
  {
   "cell_type": "code",
   "execution_count": 164,
   "id": "2e529d93",
   "metadata": {},
   "outputs": [
    {
     "data": {
      "text/plain": [
       "array([2])"
      ]
     },
     "execution_count": 164,
     "metadata": {},
     "output_type": "execute_result"
    }
   ],
   "source": [
    "clfr.predict([[3, 5, 4, 2]])"
   ]
  },
  {
   "cell_type": "markdown",
   "id": "21fca364",
   "metadata": {},
   "source": [
    "### Now  why we need random forest if we have decision tree? \n",
    "#### In simple terms for larger data (big data) we need to form a deep decision tree, this may suffer from overfitting. But random forest prevent overfitting by creating trees on random subsets of training sample"
   ]
  },
  {
   "cell_type": "code",
   "execution_count": null,
   "id": "58fef560",
   "metadata": {},
   "outputs": [],
   "source": []
  },
  {
   "cell_type": "code",
   "execution_count": null,
   "id": "7f3104e1",
   "metadata": {},
   "outputs": [],
   "source": []
  },
  {
   "cell_type": "markdown",
   "id": "09bfd153",
   "metadata": {},
   "source": [
    "# Decision Trees"
   ]
  },
  {
   "cell_type": "markdown",
   "id": "fdf2ee3c",
   "metadata": {},
   "source": [
    "We know that by definition decision tree is a tree shaped  flowchart-like structure (reversed tree) with nodes (leaf), branches and  decision making conditions. "
   ]
  },
  {
   "cell_type": "markdown",
   "id": "53cc93aa",
   "metadata": {},
   "source": [
    "Implementing Decision tree on same IRIS dataset..."
   ]
  },
  {
   "cell_type": "code",
   "execution_count": 165,
   "id": "71b836ff",
   "metadata": {},
   "outputs": [],
   "source": [
    "# We already did almost all the requered imports\n",
    "\n",
    "from sklearn.tree import DecisionTreeClassifier \n",
    "\n",
    "from sklearn import tree"
   ]
  },
  {
   "cell_type": "code",
   "execution_count": 166,
   "id": "8ef2b3d3",
   "metadata": {},
   "outputs": [
    {
     "name": "stdout",
     "output_type": "stream",
     "text": [
      "Features Name :  ['sepal length (cm)', 'sepal width (cm)', 'petal length (cm)', 'petal width (cm)']\n",
      "Dataset Shape:  (150, 4)\n",
      "Dataset:       0    1    2    3\n",
      "0  5.1  3.5  1.4  0.2\n",
      "1  4.9  3.0  1.4  0.2\n",
      "2  4.7  3.2  1.3  0.2\n",
      "3  4.6  3.1  1.5  0.2\n",
      "4  5.0  3.6  1.4  0.2\n"
     ]
    }
   ],
   "source": [
    "\n",
    "#Loading datasets \n",
    "\n",
    "iris_data = load_iris() \n",
    "\n",
    "iris=pd.DataFrame(iris_data.data)\n",
    "\n",
    "#priting features name of iris data \n",
    "\n",
    "print (\"Features Name : \", iris_data.feature_names) \n",
    "\n",
    "#shape of datasets \n",
    "\n",
    "print (\"Dataset Shape: \", iris.shape) \n",
    "\n",
    "#first five sample \n",
    "\n",
    "print (\"Dataset: \",iris.head())  "
   ]
  },
  {
   "cell_type": "code",
   "execution_count": 167,
   "id": "e1473a89",
   "metadata": {},
   "outputs": [
    {
     "name": "stdout",
     "output_type": "stream",
     "text": [
      "[[5.1 3.5 1.4 0.2]\n",
      " [4.9 3.  1.4 0.2]\n",
      " [4.7 3.2 1.3 0.2]\n",
      " [4.6 3.1 1.5 0.2]\n",
      " [5.  3.6 1.4 0.2]\n",
      " [5.4 3.9 1.7 0.4]\n",
      " [4.6 3.4 1.4 0.3]\n",
      " [5.  3.4 1.5 0.2]\n",
      " [4.4 2.9 1.4 0.2]\n",
      " [4.9 3.1 1.5 0.1]\n",
      " [5.4 3.7 1.5 0.2]\n",
      " [4.8 3.4 1.6 0.2]\n",
      " [4.8 3.  1.4 0.1]\n",
      " [4.3 3.  1.1 0.1]\n",
      " [5.8 4.  1.2 0.2]\n",
      " [5.7 4.4 1.5 0.4]\n",
      " [5.4 3.9 1.3 0.4]\n",
      " [5.1 3.5 1.4 0.3]\n",
      " [5.7 3.8 1.7 0.3]\n",
      " [5.1 3.8 1.5 0.3]\n",
      " [5.4 3.4 1.7 0.2]\n",
      " [5.1 3.7 1.5 0.4]\n",
      " [4.6 3.6 1.  0.2]\n",
      " [5.1 3.3 1.7 0.5]\n",
      " [4.8 3.4 1.9 0.2]\n",
      " [5.  3.  1.6 0.2]\n",
      " [5.  3.4 1.6 0.4]\n",
      " [5.2 3.5 1.5 0.2]\n",
      " [5.2 3.4 1.4 0.2]\n",
      " [4.7 3.2 1.6 0.2]\n",
      " [4.8 3.1 1.6 0.2]\n",
      " [5.4 3.4 1.5 0.4]\n",
      " [5.2 4.1 1.5 0.1]\n",
      " [5.5 4.2 1.4 0.2]\n",
      " [4.9 3.1 1.5 0.2]\n",
      " [5.  3.2 1.2 0.2]\n",
      " [5.5 3.5 1.3 0.2]\n",
      " [4.9 3.6 1.4 0.1]\n",
      " [4.4 3.  1.3 0.2]\n",
      " [5.1 3.4 1.5 0.2]\n",
      " [5.  3.5 1.3 0.3]\n",
      " [4.5 2.3 1.3 0.3]\n",
      " [4.4 3.2 1.3 0.2]\n",
      " [5.  3.5 1.6 0.6]\n",
      " [5.1 3.8 1.9 0.4]\n",
      " [4.8 3.  1.4 0.3]\n",
      " [5.1 3.8 1.6 0.2]\n",
      " [4.6 3.2 1.4 0.2]\n",
      " [5.3 3.7 1.5 0.2]\n",
      " [5.  3.3 1.4 0.2]\n",
      " [7.  3.2 4.7 1.4]\n",
      " [6.4 3.2 4.5 1.5]\n",
      " [6.9 3.1 4.9 1.5]\n",
      " [5.5 2.3 4.  1.3]\n",
      " [6.5 2.8 4.6 1.5]\n",
      " [5.7 2.8 4.5 1.3]\n",
      " [6.3 3.3 4.7 1.6]\n",
      " [4.9 2.4 3.3 1. ]\n",
      " [6.6 2.9 4.6 1.3]\n",
      " [5.2 2.7 3.9 1.4]\n",
      " [5.  2.  3.5 1. ]\n",
      " [5.9 3.  4.2 1.5]\n",
      " [6.  2.2 4.  1. ]\n",
      " [6.1 2.9 4.7 1.4]\n",
      " [5.6 2.9 3.6 1.3]\n",
      " [6.7 3.1 4.4 1.4]\n",
      " [5.6 3.  4.5 1.5]\n",
      " [5.8 2.7 4.1 1. ]\n",
      " [6.2 2.2 4.5 1.5]\n",
      " [5.6 2.5 3.9 1.1]\n",
      " [5.9 3.2 4.8 1.8]\n",
      " [6.1 2.8 4.  1.3]\n",
      " [6.3 2.5 4.9 1.5]\n",
      " [6.1 2.8 4.7 1.2]\n",
      " [6.4 2.9 4.3 1.3]\n",
      " [6.6 3.  4.4 1.4]\n",
      " [6.8 2.8 4.8 1.4]\n",
      " [6.7 3.  5.  1.7]\n",
      " [6.  2.9 4.5 1.5]\n",
      " [5.7 2.6 3.5 1. ]\n",
      " [5.5 2.4 3.8 1.1]\n",
      " [5.5 2.4 3.7 1. ]\n",
      " [5.8 2.7 3.9 1.2]\n",
      " [6.  2.7 5.1 1.6]\n",
      " [5.4 3.  4.5 1.5]\n",
      " [6.  3.4 4.5 1.6]\n",
      " [6.7 3.1 4.7 1.5]\n",
      " [6.3 2.3 4.4 1.3]\n",
      " [5.6 3.  4.1 1.3]\n",
      " [5.5 2.5 4.  1.3]\n",
      " [5.5 2.6 4.4 1.2]\n",
      " [6.1 3.  4.6 1.4]\n",
      " [5.8 2.6 4.  1.2]\n",
      " [5.  2.3 3.3 1. ]\n",
      " [5.6 2.7 4.2 1.3]\n",
      " [5.7 3.  4.2 1.2]\n",
      " [5.7 2.9 4.2 1.3]\n",
      " [6.2 2.9 4.3 1.3]\n",
      " [5.1 2.5 3.  1.1]\n",
      " [5.7 2.8 4.1 1.3]\n",
      " [6.3 3.3 6.  2.5]\n",
      " [5.8 2.7 5.1 1.9]\n",
      " [7.1 3.  5.9 2.1]\n",
      " [6.3 2.9 5.6 1.8]\n",
      " [6.5 3.  5.8 2.2]\n",
      " [7.6 3.  6.6 2.1]\n",
      " [4.9 2.5 4.5 1.7]\n",
      " [7.3 2.9 6.3 1.8]\n",
      " [6.7 2.5 5.8 1.8]\n",
      " [7.2 3.6 6.1 2.5]\n",
      " [6.5 3.2 5.1 2. ]\n",
      " [6.4 2.7 5.3 1.9]\n",
      " [6.8 3.  5.5 2.1]\n",
      " [5.7 2.5 5.  2. ]\n",
      " [5.8 2.8 5.1 2.4]\n",
      " [6.4 3.2 5.3 2.3]\n",
      " [6.5 3.  5.5 1.8]\n",
      " [7.7 3.8 6.7 2.2]\n",
      " [7.7 2.6 6.9 2.3]\n",
      " [6.  2.2 5.  1.5]\n",
      " [6.9 3.2 5.7 2.3]\n",
      " [5.6 2.8 4.9 2. ]\n",
      " [7.7 2.8 6.7 2. ]\n",
      " [6.3 2.7 4.9 1.8]\n",
      " [6.7 3.3 5.7 2.1]\n",
      " [7.2 3.2 6.  1.8]\n",
      " [6.2 2.8 4.8 1.8]\n",
      " [6.1 3.  4.9 1.8]\n",
      " [6.4 2.8 5.6 2.1]\n",
      " [7.2 3.  5.8 1.6]\n",
      " [7.4 2.8 6.1 1.9]\n",
      " [7.9 3.8 6.4 2. ]\n",
      " [6.4 2.8 5.6 2.2]\n",
      " [6.3 2.8 5.1 1.5]\n",
      " [6.1 2.6 5.6 1.4]\n",
      " [7.7 3.  6.1 2.3]\n",
      " [6.3 3.4 5.6 2.4]\n",
      " [6.4 3.1 5.5 1.8]\n",
      " [6.  3.  4.8 1.8]\n",
      " [6.9 3.1 5.4 2.1]\n",
      " [6.7 3.1 5.6 2.4]\n",
      " [6.9 3.1 5.1 2.3]\n",
      " [5.8 2.7 5.1 1.9]\n",
      " [6.8 3.2 5.9 2.3]\n",
      " [6.7 3.3 5.7 2.5]\n",
      " [6.7 3.  5.2 2.3]\n",
      " [6.3 2.5 5.  1.9]\n",
      " [6.5 3.  5.2 2. ]\n",
      " [6.2 3.4 5.4 2.3]\n",
      " [5.9 3.  5.1 1.8]]\n",
      "[0 0 0 0 0 0 0 0 0 0 0 0 0 0 0 0 0 0 0 0 0 0 0 0 0 0 0 0 0 0 0 0 0 0 0 0 0\n",
      " 0 0 0 0 0 0 0 0 0 0 0 0 0 1 1 1 1 1 1 1 1 1 1 1 1 1 1 1 1 1 1 1 1 1 1 1 1\n",
      " 1 1 1 1 1 1 1 1 1 1 1 1 1 1 1 1 1 1 1 1 1 1 1 1 1 1 2 2 2 2 2 2 2 2 2 2 2\n",
      " 2 2 2 2 2 2 2 2 2 2 2 2 2 2 2 2 2 2 2 2 2 2 2 2 2 2 2 2 2 2 2 2 2 2 2 2 2\n",
      " 2 2]\n"
     ]
    }
   ],
   "source": [
    "\n",
    "#priting samples and target \n",
    "\n",
    "X = iris.values[:, 0:4] \n",
    "\n",
    "Y = iris_data.target\n",
    "\n",
    "print(X)\n",
    "\n",
    "print(Y)"
   ]
  },
  {
   "cell_type": "code",
   "execution_count": 168,
   "id": "a93e3c64",
   "metadata": {},
   "outputs": [],
   "source": [
    "\n",
    "# Splitting the dataset into train and test \n",
    "\n",
    "X_train, X_test, y_train, y_test = train_test_split(X, Y, test_size = 0.3, random_state = 100)"
   ]
  },
  {
   "cell_type": "code",
   "execution_count": 169,
   "id": "e0836169",
   "metadata": {},
   "outputs": [
    {
     "data": {
      "text/plain": [
       "DecisionTreeClassifier(random_state=100)"
      ]
     },
     "execution_count": 169,
     "metadata": {},
     "output_type": "execute_result"
    }
   ],
   "source": [
    "\n",
    "# Decision tree classifier \n",
    "\n",
    "clf= DecisionTreeClassifier(random_state = 100)\n",
    "\n",
    "#fitting the training data\n",
    "\n",
    "clf.fit(X_train, y_train)"
   ]
  },
  {
   "cell_type": "markdown",
   "id": "d9902c73",
   "metadata": {},
   "source": [
    "In this part of code of Decision Tree on Iris Datasets we defined the decision tree classifier (Basically building a model). And then fit the training data into the classifier to train the model.\n",
    "\n",
    "Note that we fit both X_train , and y_train (Basically features and target), means model will learn features values to predict the category of flower."
   ]
  },
  {
   "cell_type": "code",
   "execution_count": 170,
   "id": "a6224d9f",
   "metadata": {},
   "outputs": [
    {
     "name": "stdout",
     "output_type": "stream",
     "text": [
      "[2]\n",
      "[2 0 2 0 2 2 0 0 2 0 0 2 0 0 2 1 1 2 2 2 2 0 2 0 1 2 1 0 1 2 1 1 1 0 0 1 0\n",
      " 1 2 2 0 1 2 2 0]\n"
     ]
    }
   ],
   "source": [
    "# prediction on random data\n",
    "\n",
    "X=[[6.4,1.8 ,6.6 ,2.1]]\n",
    "\n",
    "Y_pred=clf.predict(X)\n",
    "\n",
    "print(Y_pred)\n",
    "\n",
    "# prediction on X_test (testing data )\n",
    "\n",
    "Y_pred=clf.predict(X_test)\n",
    "\n",
    "print(Y_pred)"
   ]
  },
  {
   "cell_type": "markdown",
   "id": "49f600f6",
   "metadata": {},
   "source": [
    "Here we used our trained model to make prediction. As you see in the output first we make prediction on random sample (take a iris flower and measure the features of mentioned ) to understand how model work. We put random values (4 feature values) and make prediction, And we get the category 2 means the flower that we have belongs to Verginica category of iris family. "
   ]
  },
  {
   "cell_type": "code",
   "execution_count": 171,
   "id": "17feba9d",
   "metadata": {},
   "outputs": [
    {
     "name": "stdout",
     "output_type": "stream",
     "text": [
      "Accuracy: 0.9555555555555556\n"
     ]
    },
    {
     "data": {
      "text/plain": [
       "array([[16,  0,  0],\n",
       "       [ 0, 10,  1],\n",
       "       [ 0,  1, 17]], dtype=int64)"
      ]
     },
     "execution_count": 171,
     "metadata": {},
     "output_type": "execute_result"
    }
   ],
   "source": [
    "print(\"Accuracy:\",metrics.accuracy_score(y_test, Y_pred))\n",
    "\n",
    "from sklearn.metrics import  confusion_matrix\n",
    "\n",
    "cm=np.array(confusion_matrix(y_test,Y_pred))\n",
    "\n",
    "cm"
   ]
  },
  {
   "cell_type": "markdown",
   "id": "5d52e258",
   "metadata": {},
   "source": [
    "After building model we have to check how our model is performing. To check whether our model is working perfectly for values. \n",
    "\n",
    "So, here we can see that we get accuracy 95% which is good. Means our model predict 5% wrong prediction about a category of flower.\n",
    "\n",
    "Confusion matrix is also a good way to see model's performance. Here out of 150 samples 30% =45 samples we used for testing purpose.\n",
    "\n",
    "In confusion matrix the positions (0,0) - 16- means 16 flowers of category 0 predicted right.\n",
    "\n",
    "(1,1)- 10- flowers of category 1 predicted right.\n",
    "\n",
    "(2,2)-17- flowers of category 2 predicted right. \n",
    "\n",
    "(0,0), (1,1) and (2,2) - correct prediction rest wrong prediction. \n",
    "\n",
    "conclusion: Diagonal positions of matrix -right prediction , rest-wrong"
   ]
  },
  {
   "cell_type": "markdown",
   "id": "898d9372",
   "metadata": {},
   "source": [
    "### Tree Plotting / Decision Making in Decision Tree"
   ]
  },
  {
   "cell_type": "code",
   "execution_count": 172,
   "id": "c9c54134",
   "metadata": {},
   "outputs": [
    {
     "data": {
      "text/plain": [
       "[Text(133.92000000000002, 195.696, 'X[2] <= 2.45\\ngini = 0.664\\nsamples = 105\\nvalue = [34, 39, 32]'),\n",
       " Text(100.44000000000001, 152.208, 'gini = 0.0\\nsamples = 34\\nvalue = [34, 0, 0]'),\n",
       " Text(167.40000000000003, 152.208, 'X[3] <= 1.65\\ngini = 0.495\\nsamples = 71\\nvalue = [0, 39, 32]'),\n",
       " Text(66.96000000000001, 108.72, 'X[2] <= 5.0\\ngini = 0.136\\nsamples = 41\\nvalue = [0, 38, 3]'),\n",
       " Text(33.480000000000004, 65.232, 'gini = 0.0\\nsamples = 37\\nvalue = [0, 37, 0]'),\n",
       " Text(100.44000000000001, 65.232, 'X[0] <= 6.05\\ngini = 0.375\\nsamples = 4\\nvalue = [0, 1, 3]'),\n",
       " Text(66.96000000000001, 21.744, 'gini = 0.0\\nsamples = 1\\nvalue = [0, 1, 0]'),\n",
       " Text(133.92000000000002, 21.744, 'gini = 0.0\\nsamples = 3\\nvalue = [0, 0, 3]'),\n",
       " Text(267.84000000000003, 108.72, 'X[2] <= 4.85\\ngini = 0.064\\nsamples = 30\\nvalue = [0, 1, 29]'),\n",
       " Text(234.36, 65.232, 'X[1] <= 3.1\\ngini = 0.375\\nsamples = 4\\nvalue = [0, 1, 3]'),\n",
       " Text(200.88000000000002, 21.744, 'gini = 0.0\\nsamples = 3\\nvalue = [0, 0, 3]'),\n",
       " Text(267.84000000000003, 21.744, 'gini = 0.0\\nsamples = 1\\nvalue = [0, 1, 0]'),\n",
       " Text(301.32000000000005, 65.232, 'gini = 0.0\\nsamples = 26\\nvalue = [0, 0, 26]')]"
      ]
     },
     "execution_count": 172,
     "metadata": {},
     "output_type": "execute_result"
    },
    {
     "data": {
      "image/png": "[encoded data removed]",
      "text/plain": [
       "<Figure size 432x288 with 1 Axes>"
      ]
     },
     "metadata": {
      "needs_background": "light"
     },
     "output_type": "display_data"
    }
   ],
   "source": [
    "\n",
    "#Tree plotting \n",
    "\n",
    "tree.plot_tree(clf)"
   ]
  },
  {
   "cell_type": "markdown",
   "id": "7a9ba382",
   "metadata": {},
   "source": [
    "# (please zoom into the plot!! )"
   ]
  },
  {
   "cell_type": "markdown",
   "id": "7a15ae9d",
   "metadata": {},
   "source": [
    "#### In this block of code we created/ plotted a decision tree. This will help us understand how the Decision Tree Classifier works. How are Decisions taken?\n",
    "\n",
    "#### Basically classification tree is a sequence of question , answer and classification. In the above tree X[2]= petal length means a condition if petal length less than equal to 0.25. If it's True then classify the flower into class 0  (setosa),Because versicolor a particular or pure class it is not further divided and it form a leaf node. \n",
    "\n",
    "#### If petal length > 0.25 means there are two possibilities (virginica,versicolor) it form a decision node to make a decision for a leaf node. \n",
    "\n",
    "#### We keep doing this until we find a pure leaf node. Leaf nodes cannot be further divided. And thus a decision tree forms. \n",
    "\n",
    "#### We can control the depth of the decision tree. \n",
    "\n",
    "#### But now the question is how do we decide the classification point or how we make decisions ? (selection criteria)\n",
    "\n",
    "#### So, basically deciding a good split point is that what we want to know. For this we calculate impurity. We can calculate impurity in several ways. The scikit-learn Decision tree classifier uses gini by default. We can also calculate entropy to calculate impurity. "
   ]
  },
  {
   "cell_type": "markdown",
   "id": "337155e4",
   "metadata": {},
   "source": [
    "## Now, printing text representation of above tree"
   ]
  },
  {
   "cell_type": "code",
   "execution_count": 173,
   "id": "d8a4fde2",
   "metadata": {},
   "outputs": [
    {
     "name": "stdout",
     "output_type": "stream",
     "text": [
      "|--- feature_2 <= 2.45\n",
      "|   |--- class: 0\n",
      "|--- feature_2 >  2.45\n",
      "|   |--- feature_3 <= 1.65\n",
      "|   |   |--- feature_2 <= 5.00\n",
      "|   |   |   |--- class: 1\n",
      "|   |   |--- feature_2 >  5.00\n",
      "|   |   |   |--- feature_0 <= 6.05\n",
      "|   |   |   |   |--- class: 1\n",
      "|   |   |   |--- feature_0 >  6.05\n",
      "|   |   |   |   |--- class: 2\n",
      "|   |--- feature_3 >  1.65\n",
      "|   |   |--- feature_2 <= 4.85\n",
      "|   |   |   |--- feature_1 <= 3.10\n",
      "|   |   |   |   |--- class: 2\n",
      "|   |   |   |--- feature_1 >  3.10\n",
      "|   |   |   |   |--- class: 1\n",
      "|   |   |--- feature_2 >  4.85\n",
      "|   |   |   |--- class: 2\n",
      "\n"
     ]
    }
   ],
   "source": [
    "text_representation = tree.export_text(clf)\n",
    "\n",
    "print(text_representation)"
   ]
  },
  {
   "cell_type": "markdown",
   "id": "66b71ac4",
   "metadata": {},
   "source": [
    "## Thank YOU!!"
   ]
  },
  {
   "cell_type": "code",
   "execution_count": null,
   "id": "b0665902",
   "metadata": {},
   "outputs": [],
   "source": []
  }
 ],
 "metadata": {
  "kernelspec": {
   "display_name": "Python 3 (ipykernel)",
   "language": "python",
   "name": "python3"
  },
  "language_info": {
   "codemirror_mode": {
    "name": "ipython",
    "version": 3
   },
   "file_extension": ".py",
   "mimetype": "text/x-python",
   "name": "python",
   "nbconvert_exporter": "python",
   "pygments_lexer": "ipython3",
   "version": "3.8.12"
  }
 },
 "nbformat": 4,
 "nbformat_minor": 5
}
